{
 "cells": [
  {
   "cell_type": "code",
   "execution_count": 1,
   "id": "b81d938a",
   "metadata": {},
   "outputs": [],
   "source": [
    "import os\n",
    "import csv\n",
    "import scanpy as sc\n",
    "import pandas as pd\n",
    "import torch\n",
    "from anndata import AnnData"
   ]
  },
  {
   "cell_type": "code",
   "execution_count": 2,
   "id": "cdc6c711",
   "metadata": {},
   "outputs": [],
   "source": [
    "data_root = '/work/hdd/bbjr/mallina1/data/mb-ml-dev-vm/data/GSE153807/tsvs'\n",
    "\n",
    "fnames = ['GSM4654467_Nuc-RM101-2.raw.tsv', \n",
    "          'GSM4654469_Nuc-RM102-1.raw.tsv', 'GSM4654468_Nuc-RM102-2.raw.tsv', \n",
    "          'GSM4654470_Nuc-RM77-1.raw.tsv', 'GSM4654471_Nuc-RM77-2.raw.tsv',\n",
    "          'GSM4654472_Nuc-RM95-1.raw.tsv', 'GSM4654473_Nuc-RM95-2.raw.tsv']\n",
    "\n",
    "sex_per_fname = ['Female', 'Female', 'Female', 'Male', 'Male', 'Female', 'Female']\n",
    "sex_ontology_type_id_per_fname = ['PATO:0000383', 'PATO:0000383', 'PATO:0000383', 'PATO:0000384', 'PATO:0000384', 'PATO:0000383', 'PATO:0000383']\n",
    "\n",
    "gene_info_path = '/work/hdd/bbjr/mallina1/data/mb-ml-dev-vm/gene_info/gene_info.tsv'\n",
    "ontology_infos_path = '/work/hdd/bbjr/mallina1/data/mb-ml-dev-vm/ontology_infos.pt'\n",
    "\n",
    "idx_to_run = 0"
   ]
  },
  {
   "cell_type": "code",
   "execution_count": 3,
   "id": "69f6e4d8",
   "metadata": {},
   "outputs": [
    {
     "name": "stderr",
     "output_type": "stream",
     "text": [
      "/tmp/ipykernel_3278446/3927202361.py:1: FutureWarning: You are using `torch.load` with `weights_only=False` (the current default value), which uses the default pickle module implicitly. It is possible to construct malicious pickle data which will execute arbitrary code during unpickling (See https://github.com/pytorch/pytorch/blob/main/SECURITY.md#untrusted-models for more details). In a future release, the default value for `weights_only` will be flipped to `True`. This limits the functions that could be executed during unpickling. Arbitrary objects will no longer be allowed to be loaded via this mode unless they are explicitly allowlisted by the user via `torch.serialization.add_safe_globals`. We recommend you start setting `weights_only=True` for any use case where you don't have full control of the loaded file. Please open an issue on GitHub for any issues related to this experimental feature.\n",
      "  ontology_infos = torch.load(ontology_infos_path)\n"
     ]
    }
   ],
   "source": [
    "ontology_infos = torch.load(ontology_infos_path)\n",
    "\n",
    "gene_symb_to_gene_id = {}\n",
    "gene_synonym_to_gene_id = {}\n",
    "with open(gene_info_path, 'r') as fp:\n",
    "    reader = csv.reader(fp, delimiter='\\t')\n",
    "    next(reader)\n",
    "    for row in reader:\n",
    "        gene_symb_to_gene_id[row[2]] = row[0]\n",
    "        gene_synonym_to_gene_id[row[4]] = row[0]"
   ]
  },
  {
   "cell_type": "code",
   "execution_count": 4,
   "id": "514a1132",
   "metadata": {},
   "outputs": [],
   "source": [
    "df = pd.read_csv(os.path.join(data_root, fnames[idx_to_run]), sep='\\t', index_col=0)"
   ]
  },
  {
   "cell_type": "code",
   "execution_count": 10,
   "id": "3b6bdfb3",
   "metadata": {},
   "outputs": [],
   "source": [
    "original_symbols = df.index.to_series(name='gene_symbol')\n",
    "mapped_ids = original_symbols.map(lambda s: gene_symb_to_gene_id.get(s, s))\n",
    "df.index = mapped_ids\n",
    "\n",
    "data = {\n",
    "    'suspension_type': ['nucleus'] * len(df.columns),\n",
    "    'total_mrna_umis': df.sum(axis=0),\n",
    "    'assay_ontology_term_id': ['EFO:0009899'] * len(df.columns),\n",
    "    'assay': [\"10x 3' v2\"] * len(df.columns),\n",
    "    'sex': [sex_per_fname[idx_to_run]] * len(df.columns),\n",
    "    'sex_ontology_term_id': [sex_ontology_type_id_per_fname[idx_to_run]] * len(df.columns)\n",
    "}\n",
    "\n",
    "obs = pd.DataFrame(index=df.columns, data=data)\n",
    "var = pd.DataFrame(index=df.index)        # one row per gene ID\n",
    "var['gene_symbol'] = original_symbols     # store the original symbol\n",
    "\n",
    "adata = AnnData(X=df.values.T, obs=obs, var=var)"
   ]
  },
  {
   "cell_type": "code",
   "execution_count": 12,
   "id": "f7f891ac",
   "metadata": {},
   "outputs": [
    {
     "data": {
      "text/plain": [
       "AnnData object with n_obs × n_vars = 5491 × 21283\n",
       "    obs: 'suspension_type', 'total_mrna_umis', 'assay_ontology_term_id', 'assay', 'sex', 'sex_ontology_term_id'\n",
       "    var: 'gene_symbol'"
      ]
     },
     "execution_count": 12,
     "metadata": {},
     "output_type": "execute_result"
    }
   ],
   "source": [
    "adata"
   ]
  },
  {
   "cell_type": "code",
   "execution_count": null,
   "id": "f6b1816b",
   "metadata": {},
   "outputs": [
    {
     "ename": "TypeError",
     "evalue": "rank_genes_groups() missing 1 required positional argument: 'groupby'",
     "output_type": "error",
     "traceback": [
      "\u001b[0;31m---------------------------------------------------------------------------\u001b[0m",
      "\u001b[0;31mTypeError\u001b[0m                                 Traceback (most recent call last)",
      "Cell \u001b[0;32mIn[7], line 1\u001b[0m\n\u001b[0;32m----> 1\u001b[0m \u001b[43msc\u001b[49m\u001b[38;5;241;43m.\u001b[39;49m\u001b[43mtl\u001b[49m\u001b[38;5;241;43m.\u001b[39;49m\u001b[43mrank_genes_groups\u001b[49m\u001b[43m(\u001b[49m\u001b[43madata\u001b[49m\u001b[43m,\u001b[49m\u001b[43m \u001b[49m\u001b[43mmethod\u001b[49m\u001b[38;5;241;43m=\u001b[39;49m\u001b[38;5;124;43m\"\u001b[39;49m\u001b[38;5;124;43mwilcoxon\u001b[39;49m\u001b[38;5;124;43m\"\u001b[39;49m\u001b[43m)\u001b[49m\n",
      "File \u001b[0;32m~/envs/torch_jax2/lib/python3.10/site-packages/legacy_api_wrap/__init__.py:82\u001b[0m, in \u001b[0;36mlegacy_api.<locals>.wrapper.<locals>.fn_compatible\u001b[0;34m(*args_all, **kw)\u001b[0m\n\u001b[1;32m     79\u001b[0m \u001b[38;5;129m@wraps\u001b[39m(fn)\n\u001b[1;32m     80\u001b[0m \u001b[38;5;28;01mdef\u001b[39;00m \u001b[38;5;21mfn_compatible\u001b[39m(\u001b[38;5;241m*\u001b[39margs_all: P\u001b[38;5;241m.\u001b[39margs, \u001b[38;5;241m*\u001b[39m\u001b[38;5;241m*\u001b[39mkw: P\u001b[38;5;241m.\u001b[39mkwargs) \u001b[38;5;241m-\u001b[39m\u001b[38;5;241m>\u001b[39m R:\n\u001b[1;32m     81\u001b[0m     \u001b[38;5;28;01mif\u001b[39;00m \u001b[38;5;28mlen\u001b[39m(args_all) \u001b[38;5;241m<\u001b[39m\u001b[38;5;241m=\u001b[39m n_positional:\n\u001b[0;32m---> 82\u001b[0m         \u001b[38;5;28;01mreturn\u001b[39;00m \u001b[43mfn\u001b[49m\u001b[43m(\u001b[49m\u001b[38;5;241;43m*\u001b[39;49m\u001b[43margs_all\u001b[49m\u001b[43m,\u001b[49m\u001b[43m \u001b[49m\u001b[38;5;241;43m*\u001b[39;49m\u001b[38;5;241;43m*\u001b[39;49m\u001b[43mkw\u001b[49m\u001b[43m)\u001b[49m\n\u001b[1;32m     84\u001b[0m     args_pos: P\u001b[38;5;241m.\u001b[39margs\n\u001b[1;32m     85\u001b[0m     args_pos, args_rest \u001b[38;5;241m=\u001b[39m args_all[:n_positional], args_all[n_positional:]\n",
      "\u001b[0;31mTypeError\u001b[0m: rank_genes_groups() missing 1 required positional argument: 'groupby'"
     ]
    }
   ],
   "source": [
    "sc.tl.rank_genes_groups(adata, groupby=\"leiden_res_0.50\", method=\"wilcoxon\")"
   ]
  },
  {
   "cell_type": "code",
   "execution_count": null,
   "id": "52e88d6c",
   "metadata": {},
   "outputs": [],
   "source": [
    "sc.get.rank_genes_groups_df(adata, group=\"7\").head(5)"
   ]
  }
 ],
 "metadata": {
  "kernelspec": {
   "display_name": "Python 3 (ipykernel)",
   "language": "python",
   "name": "python3"
  },
  "language_info": {
   "codemirror_mode": {
    "name": "ipython",
    "version": 3
   },
   "file_extension": ".py",
   "mimetype": "text/x-python",
   "name": "python",
   "nbconvert_exporter": "python",
   "pygments_lexer": "ipython3",
   "version": "3.10.4"
  }
 },
 "nbformat": 4,
 "nbformat_minor": 5
}
