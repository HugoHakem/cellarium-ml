{
 "cells": [
  {
   "cell_type": "markdown",
   "metadata": {},
   "source": [
    "# Imports"
   ]
  },
  {
   "cell_type": "code",
   "execution_count": 1,
   "metadata": {},
   "outputs": [],
   "source": [
    "import os\n",
    "import yaml\n",
    "import pandas as pd\n",
    "import matplotlib.pyplot as plt\n",
    "from typing import List, Dict, Optional"
   ]
  },
  {
   "cell_type": "markdown",
   "metadata": {},
   "source": [
    "# Constants"
   ]
  },
  {
   "cell_type": "code",
   "execution_count": 2,
   "metadata": {},
   "outputs": [],
   "source": [
    "LOG_DIR: str = \"./artifacts/hp_search/logs\"\n",
    "CONFIG_DIR: str = \"./artifacts/hp_search/configs\"\n",
    "MODEL_SIZES: List[str] = [\"30M\", \"98M\"]"
   ]
  },
  {
   "cell_type": "markdown",
   "metadata": {},
   "source": [
    "# Experiment"
   ]
  },
  {
   "cell_type": "code",
   "execution_count": 3,
   "metadata": {},
   "outputs": [
    {
     "data": {
      "text/html": [
       "<div>\n",
       "<style scoped>\n",
       "    .dataframe tbody tr th:only-of-type {\n",
       "        vertical-align: middle;\n",
       "    }\n",
       "\n",
       "    .dataframe tbody tr th {\n",
       "        vertical-align: top;\n",
       "    }\n",
       "\n",
       "    .dataframe thead th {\n",
       "        text-align: right;\n",
       "    }\n",
       "</style>\n",
       "<table border=\"1\" class=\"dataframe\">\n",
       "  <thead>\n",
       "    <tr style=\"text-align: right;\">\n",
       "      <th></th>\n",
       "      <th>n_heads</th>\n",
       "      <th>d_head</th>\n",
       "      <th>d_model</th>\n",
       "      <th>d_ffn</th>\n",
       "      <th>n_blocks</th>\n",
       "      <th>n_steps</th>\n",
       "    </tr>\n",
       "    <tr>\n",
       "      <th>name</th>\n",
       "      <th></th>\n",
       "      <th></th>\n",
       "      <th></th>\n",
       "      <th></th>\n",
       "      <th></th>\n",
       "      <th></th>\n",
       "    </tr>\n",
       "  </thead>\n",
       "  <tbody>\n",
       "    <tr>\n",
       "      <th>30M</th>\n",
       "      <td>2</td>\n",
       "      <td>128</td>\n",
       "      <td>256</td>\n",
       "      <td>640</td>\n",
       "      <td>32</td>\n",
       "      <td>2284</td>\n",
       "    </tr>\n",
       "    <tr>\n",
       "      <th>98M</th>\n",
       "      <td>4</td>\n",
       "      <td>128</td>\n",
       "      <td>512</td>\n",
       "      <td>1280</td>\n",
       "      <td>32</td>\n",
       "      <td>1862</td>\n",
       "    </tr>\n",
       "  </tbody>\n",
       "</table>\n",
       "</div>"
      ],
      "text/plain": [
       "      n_heads  d_head  d_model  d_ffn  n_blocks  n_steps\n",
       "name                                                    \n",
       "30M         2     128      256    640        32     2284\n",
       "98M         4     128      512   1280        32     1862"
      ]
     },
     "execution_count": 3,
     "metadata": {},
     "output_type": "execute_result"
    }
   ],
   "source": [
    "model_df = pd.DataFrame()\n",
    "model_df[\"n_heads\"] = [2, 4]\n",
    "model_df[\"d_head\"] = 128\n",
    "model_df[\"d_model\"] = model_df[\"n_heads\"] * model_df[\"d_head\"]\n",
    "model_df[\"d_ffn\"] = (model_df[\"d_model\"] * 2.5).astype(int)\n",
    "model_df[\"n_blocks\"] = 32\n",
    "model_df[\"name\"] = [\"30M\", \"98M\"]\n",
    "model_df[\"n_steps\"] = [2284, 1862]\n",
    "model_df = model_df.set_index(\"name\")\n",
    "model_df"
   ]
  },
  {
   "cell_type": "markdown",
   "metadata": {},
   "source": [
    "# Helper functions"
   ]
  },
  {
   "cell_type": "code",
   "execution_count": 4,
   "metadata": {},
   "outputs": [],
   "source": [
    "def extract_loss(log_file: str) -> Optional[float]:\n",
    "    \"\"\"Extracts the loss value from a log file.\"\"\"\n",
    "    try:\n",
    "        with open(log_file, \"r\") as file:\n",
    "            for line in file:\n",
    "                if \"Avg Eval Loss\" in line:\n",
    "                    return float(line.split()[-1])\n",
    "    except FileNotFoundError:\n",
    "        print(f\"Warning: Log file not found: {log_file}\")\n",
    "    return None  # Return None if no loss value is found\n",
    "\n",
    "def load_hyperparameters(config_file: str) -> Dict[str, float]:\n",
    "    \"\"\"Loads and extracts relevant hyperparameters from a YAML file.\"\"\"\n",
    "    try:\n",
    "        with open(config_file, \"r\") as file:\n",
    "            params = yaml.safe_load(file)\n",
    "\n",
    "        model_params = params[\"trainer\"][\"init\"][\"model\"]\n",
    "        schedulers = params[\"trainer\"][\"init\"][\"schedulers\"][0][\"SequentialLR\"][\"schedulers\"][0][\"LinearLR\"]\n",
    "\n",
    "        return {\n",
    "            \"lr\": float(schedulers[\"end_learning_rate\"]),\n",
    "            \"initializer_range\": float(model_params[\"initializer_range\"]),\n",
    "            \"embeddings_scale\": float(model_params[\"embeddings_scale\"]),\n",
    "            \"attention_logits_scale\": float(model_params[\"attention_logits_scale\"]),\n",
    "            \"output_logits_scale\": float(model_params[\"output_logits_scale\"]),\n",
    "        }\n",
    "    except (FileNotFoundError, KeyError) as e:\n",
    "        print(f\"Error loading hyperparameters from {config_file}: {e}\")\n",
    "        return {}\n",
    "\n",
    "def collect_hparams(model_size: str, batch_size: int, indices: List[int]) -> pd.DataFrame:\n",
    "    \"\"\"Collects hyperparameters and loss values for a given model size and set of trials.\"\"\"\n",
    "    hparams_list: List[Dict[str, float | int | None]] = []\n",
    "\n",
    "    for i in indices:\n",
    "        log_path = f\"{LOG_DIR}/eval_{model_size}_hp{i:03}_bs{batch_size}.log\"\n",
    "        config_path = f\"{CONFIG_DIR}/params_{model_size}_hp{i:03}_bs{batch_size}.yaml\"\n",
    "\n",
    "        loss_value = extract_loss(log_path)\n",
    "        hparam = load_hyperparameters(config_path)\n",
    "        if not hparam:  # Skip if loading failed\n",
    "            continue\n",
    "\n",
    "        hparam[\"loss\"] = loss_value\n",
    "        hparam[\"trial\"] = i  # Add trial number for reference\n",
    "\n",
    "        hparams_list.append(hparam)\n",
    "\n",
    "    return pd.DataFrame(hparams_list).set_index(\"trial\").sort_values(by=\"loss\", ascending=True)"
   ]
  },
  {
   "cell_type": "markdown",
   "metadata": {},
   "source": [
    "# Download artifacts"
   ]
  },
  {
   "cell_type": "code",
   "execution_count": 5,
   "metadata": {},
   "outputs": [],
   "source": [
    "# run this once to download artifacts\n",
    "# !mkdir artifacts\n",
    "# !gcloud storage cp -r gs://cellarium-scratch/cellariumgpt-artifacts/training/hp_search artifacts/"
   ]
  },
  {
   "cell_type": "markdown",
   "metadata": {},
   "source": [
    "# Load results"
   ]
  },
  {
   "cell_type": "code",
   "execution_count": 6,
   "metadata": {},
   "outputs": [
    {
     "data": {
      "text/html": [
       "<div>\n",
       "<style scoped>\n",
       "    .dataframe tbody tr th:only-of-type {\n",
       "        vertical-align: middle;\n",
       "    }\n",
       "\n",
       "    .dataframe tbody tr th {\n",
       "        vertical-align: top;\n",
       "    }\n",
       "\n",
       "    .dataframe thead th {\n",
       "        text-align: right;\n",
       "    }\n",
       "</style>\n",
       "<table border=\"1\" class=\"dataframe\">\n",
       "  <thead>\n",
       "    <tr style=\"text-align: right;\">\n",
       "      <th></th>\n",
       "      <th>lr</th>\n",
       "      <th>initializer_range</th>\n",
       "      <th>embeddings_scale</th>\n",
       "      <th>attention_logits_scale</th>\n",
       "      <th>output_logits_scale</th>\n",
       "      <th>loss</th>\n",
       "    </tr>\n",
       "    <tr>\n",
       "      <th>trial</th>\n",
       "      <th></th>\n",
       "      <th></th>\n",
       "      <th></th>\n",
       "      <th></th>\n",
       "      <th></th>\n",
       "      <th></th>\n",
       "    </tr>\n",
       "  </thead>\n",
       "  <tbody>\n",
       "    <tr>\n",
       "      <th>24</th>\n",
       "      <td>0.002314</td>\n",
       "      <td>0.105706</td>\n",
       "      <td>7.661375</td>\n",
       "      <td>0.674693</td>\n",
       "      <td>2.997561</td>\n",
       "      <td>0.406286</td>\n",
       "    </tr>\n",
       "    <tr>\n",
       "      <th>18</th>\n",
       "      <td>0.000503</td>\n",
       "      <td>0.092781</td>\n",
       "      <td>3.361314</td>\n",
       "      <td>2.679735</td>\n",
       "      <td>2.330882</td>\n",
       "      <td>0.411174</td>\n",
       "    </tr>\n",
       "    <tr>\n",
       "      <th>64</th>\n",
       "      <td>0.000398</td>\n",
       "      <td>0.009901</td>\n",
       "      <td>7.050047</td>\n",
       "      <td>14.808042</td>\n",
       "      <td>10.510633</td>\n",
       "      <td>0.411859</td>\n",
       "    </tr>\n",
       "    <tr>\n",
       "      <th>58</th>\n",
       "      <td>0.000609</td>\n",
       "      <td>0.004342</td>\n",
       "      <td>7.307102</td>\n",
       "      <td>13.471671</td>\n",
       "      <td>16.680457</td>\n",
       "      <td>0.413343</td>\n",
       "    </tr>\n",
       "    <tr>\n",
       "      <th>8</th>\n",
       "      <td>0.000384</td>\n",
       "      <td>0.062964</td>\n",
       "      <td>3.201427</td>\n",
       "      <td>8.575146</td>\n",
       "      <td>0.801007</td>\n",
       "      <td>0.413763</td>\n",
       "    </tr>\n",
       "  </tbody>\n",
       "</table>\n",
       "</div>"
      ],
      "text/plain": [
       "             lr  initializer_range  embeddings_scale  attention_logits_scale  \\\n",
       "trial                                                                          \n",
       "24     0.002314           0.105706          7.661375                0.674693   \n",
       "18     0.000503           0.092781          3.361314                2.679735   \n",
       "64     0.000398           0.009901          7.050047               14.808042   \n",
       "58     0.000609           0.004342          7.307102               13.471671   \n",
       "8      0.000384           0.062964          3.201427                8.575146   \n",
       "\n",
       "       output_logits_scale      loss  \n",
       "trial                                 \n",
       "24                2.997561  0.406286  \n",
       "18                2.330882  0.411174  \n",
       "64               10.510633  0.411859  \n",
       "58               16.680457  0.413343  \n",
       "8                 0.801007  0.413763  "
      ]
     },
     "execution_count": 6,
     "metadata": {},
     "output_type": "execute_result"
    }
   ],
   "source": [
    "BATCH_SIZE_30M: int = 64\n",
    "TRIALS_30M: List[int] = list(range(75))  # All 75 trials\n",
    "df_30M: pd.DataFrame = collect_hparams(\"30M\", BATCH_SIZE_30M, TRIALS_30M)\n",
    "\n",
    "df_30M.head()"
   ]
  },
  {
   "cell_type": "markdown",
   "metadata": {},
   "source": [
    "Learning rate for trial 024 is too high. Let's choose trial 064 for model training."
   ]
  },
  {
   "cell_type": "code",
   "execution_count": 7,
   "metadata": {},
   "outputs": [
    {
     "data": {
      "image/png": "[encoded data removed]",
      "text/plain": [
       "<Figure size 1200x400 with 5 Axes>"
      ]
     },
     "metadata": {},
     "output_type": "display_data"
    }
   ],
   "source": [
    "# Filter out \"loss\" column for plotting\n",
    "hyperparams = [col for col in df_30M.columns if col != \"loss\"]\n",
    "CHOSEC_TRIAL = 64\n",
    "\n",
    "# Create figure and subplots\n",
    "plt.figure(figsize=(12, 4))\n",
    "\n",
    "for i, col in enumerate(hyperparams, start=1):\n",
    "    plt.subplot(1, len(hyperparams), i)\n",
    "    plt.scatter(df_30M[col], df_30M[\"loss\"], s=10, color=\"blue\", alpha=0.5)\n",
    "    plt.scatter(df_30M.loc[CHOSEC_TRIAL, col], df_30M.loc[CHOSEC_TRIAL, \"loss\"], s=30, color=\"red\", label=\"Best trial\")\n",
    "    plt.xscale(\"log\")\n",
    "    plt.xlabel(col)\n",
    "    plt.ylim((0.35, 1.0))\n",
    "    \n",
    "    # Label only the first subplot's y-axis\n",
    "    if i == 1:\n",
    "        plt.ylabel(\"Validation loss\")\n",
    "    else:\n",
    "        plt.gca().axes.yaxis.set_ticklabels([])\n",
    "\n",
    "    # Add legend to the last subplot\n",
    "    if i == len(hyperparams):\n",
    "        plt.legend()\n",
    "\n",
    "plt.suptitle(\"Hyperparameter search on CSX with cbfloat16-mixed precision; 2284 iterations\")\n",
    "plt.tight_layout()\n",
    "plt.show()"
   ]
  },
  {
   "cell_type": "markdown",
   "metadata": {},
   "source": [
    "Verify that trial 64 is still at the top for the 98M model."
   ]
  },
  {
   "cell_type": "code",
   "execution_count": 8,
   "metadata": {},
   "outputs": [
    {
     "data": {
      "text/html": [
       "<div>\n",
       "<style scoped>\n",
       "    .dataframe tbody tr th:only-of-type {\n",
       "        vertical-align: middle;\n",
       "    }\n",
       "\n",
       "    .dataframe tbody tr th {\n",
       "        vertical-align: top;\n",
       "    }\n",
       "\n",
       "    .dataframe thead th {\n",
       "        text-align: right;\n",
       "    }\n",
       "</style>\n",
       "<table border=\"1\" class=\"dataframe\">\n",
       "  <thead>\n",
       "    <tr style=\"text-align: right;\">\n",
       "      <th></th>\n",
       "      <th>lr</th>\n",
       "      <th>initializer_range</th>\n",
       "      <th>embeddings_scale</th>\n",
       "      <th>attention_logits_scale</th>\n",
       "      <th>output_logits_scale</th>\n",
       "      <th>loss</th>\n",
       "    </tr>\n",
       "    <tr>\n",
       "      <th>trial</th>\n",
       "      <th></th>\n",
       "      <th></th>\n",
       "      <th></th>\n",
       "      <th></th>\n",
       "      <th></th>\n",
       "      <th></th>\n",
       "    </tr>\n",
       "  </thead>\n",
       "  <tbody>\n",
       "    <tr>\n",
       "      <th>24</th>\n",
       "      <td>0.002314</td>\n",
       "      <td>0.105706</td>\n",
       "      <td>7.661375</td>\n",
       "      <td>0.674693</td>\n",
       "      <td>2.997561</td>\n",
       "      <td>0.360489</td>\n",
       "    </tr>\n",
       "    <tr>\n",
       "      <th>64</th>\n",
       "      <td>0.000398</td>\n",
       "      <td>0.009901</td>\n",
       "      <td>7.050047</td>\n",
       "      <td>14.808042</td>\n",
       "      <td>10.510633</td>\n",
       "      <td>0.366403</td>\n",
       "    </tr>\n",
       "    <tr>\n",
       "      <th>58</th>\n",
       "      <td>0.000609</td>\n",
       "      <td>0.004342</td>\n",
       "      <td>7.307102</td>\n",
       "      <td>13.471671</td>\n",
       "      <td>16.680457</td>\n",
       "      <td>0.371814</td>\n",
       "    </tr>\n",
       "    <tr>\n",
       "      <th>18</th>\n",
       "      <td>0.000503</td>\n",
       "      <td>0.092781</td>\n",
       "      <td>3.361314</td>\n",
       "      <td>2.679735</td>\n",
       "      <td>2.330882</td>\n",
       "      <td>0.373037</td>\n",
       "    </tr>\n",
       "    <tr>\n",
       "      <th>8</th>\n",
       "      <td>0.000384</td>\n",
       "      <td>0.062964</td>\n",
       "      <td>3.201427</td>\n",
       "      <td>8.575146</td>\n",
       "      <td>0.801007</td>\n",
       "      <td>0.373448</td>\n",
       "    </tr>\n",
       "  </tbody>\n",
       "</table>\n",
       "</div>"
      ],
      "text/plain": [
       "             lr  initializer_range  embeddings_scale  attention_logits_scale  \\\n",
       "trial                                                                          \n",
       "24     0.002314           0.105706          7.661375                0.674693   \n",
       "64     0.000398           0.009901          7.050047               14.808042   \n",
       "58     0.000609           0.004342          7.307102               13.471671   \n",
       "18     0.000503           0.092781          3.361314                2.679735   \n",
       "8      0.000384           0.062964          3.201427                8.575146   \n",
       "\n",
       "       output_logits_scale      loss  \n",
       "trial                                 \n",
       "24                2.997561  0.360489  \n",
       "64               10.510633  0.366403  \n",
       "58               16.680457  0.371814  \n",
       "18                2.330882  0.373037  \n",
       "8                 0.801007  0.373448  "
      ]
     },
     "execution_count": 8,
     "metadata": {},
     "output_type": "execute_result"
    }
   ],
   "source": [
    "BATCH_SIZE_98M: int = 256\n",
    "TRIALS_98M: List[int] = [8, 18, 24, 58, 64]  # Specific trials\n",
    "df_98M: pd.DataFrame = collect_hparams(\"98M\", BATCH_SIZE_98M, TRIALS_98M)\n",
    "df_98M.head()"
   ]
  },
  {
   "cell_type": "code",
   "execution_count": null,
   "metadata": {},
   "outputs": [],
   "source": []
  }
 ],
 "metadata": {
  "kernelspec": {
   "display_name": "venv_cerebras_pt",
   "language": "python",
   "name": "python3"
  },
  "language_info": {
   "codemirror_mode": {
    "name": "ipython",
    "version": 3
   },
   "file_extension": ".py",
   "mimetype": "text/x-python",
   "name": "python",
   "nbconvert_exporter": "python",
   "pygments_lexer": "ipython3",
   "version": "3.8.9"
  }
 },
 "nbformat": 4,
 "nbformat_minor": 2
}
