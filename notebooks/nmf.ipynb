{
 "cells": [
  {
   "cell_type": "code",
   "execution_count": 5,
   "metadata": {},
   "outputs": [],
   "source": [
    "import os\n",
    "import tempfile\n",
    "\n",
    "import torch\n",
    "from google.cloud import storage\n",
    "\n",
    "from cellarium.ml.core import CellariumModule, CellariumPipeline\n",
    "\n",
    "\n",
    "def get_pretrained_model_as_pipeline(\n",
    "    trained_model: str = \"gs://dsp-cell-annotation-service/cellarium/trained_models/cerebras/lightning_logs/version_0/checkpoints/epoch=2-step=83250.ckpt\",\n",
    "    transforms: list[torch.nn.Module] = [],\n",
    "    device: str = \"cuda\",\n",
    ") -> CellariumPipeline:\n",
    "    if trained_model.startswith(\"gs://\"):\n",
    "        # download the trained model\n",
    "        with tempfile.TemporaryDirectory() as tmpdir:\n",
    "            tmp_file = os.path.join(tmpdir, \"model.ckpt\")\n",
    "\n",
    "            client = storage.Client()\n",
    "            bucket_name = trained_model.split(\"/\")[2]\n",
    "            blob_name = \"/\".join(trained_model.split(\"/\")[3:])\n",
    "            bucket = client.get_bucket(bucket_name)\n",
    "            blob = bucket.blob(blob_name)\n",
    "            blob.download_to_filename(tmp_file)\n",
    "\n",
    "            # load the model\n",
    "            model = CellariumModule.load_from_checkpoint(tmp_file).model\n",
    "    else:\n",
    "        # load the model\n",
    "        model = CellariumModule.load_from_checkpoint(trained_model).model\n",
    "\n",
    "    # insert the trained model params\n",
    "    model.to(device)\n",
    "    model.eval()\n",
    "\n",
    "    # construct the pipeline\n",
    "    pipeline = CellariumPipeline(transforms + [model])\n",
    "\n",
    "    return pipeline"
   ]
  },
  {
   "cell_type": "code",
   "execution_count": 7,
   "metadata": {},
   "outputs": [
    {
     "name": "stderr",
     "output_type": "stream",
     "text": [
      "/home/sfleming/miniforge3/envs/cellarium/lib/python3.10/site-packages/lightning/pytorch/utilities/parsing.py:199: Attribute 'model' is an instance of `nn.Module` and is already saved during checkpointing. It is recommended to ignore them using `self.save_hyperparameters(ignore=['model'])`.\n"
     ]
    }
   ],
   "source": [
    "pipeline = get_pretrained_model_as_pipeline(\n",
    "    trained_model=\"../lightning_logs/version_65/checkpoints/epoch=1-step=8.ckpt\",\n",
    ")"
   ]
  },
  {
   "cell_type": "code",
   "execution_count": 8,
   "metadata": {},
   "outputs": [
    {
     "data": {
      "text/plain": [
       "CellariumPipeline(\n",
       "  (0): NonNegativeMatrixFactorization()\n",
       ")"
      ]
     },
     "execution_count": 8,
     "metadata": {},
     "output_type": "execute_result"
    }
   ],
   "source": [
    "pipeline"
   ]
  },
  {
   "cell_type": "code",
   "execution_count": 10,
   "metadata": {},
   "outputs": [
    {
     "data": {
      "text/plain": [
       "tensor([[-3.3687e-04,  7.2682e-04, -1.6188e-04,  ..., -2.9623e-04,\n",
       "         -4.4200e-04, -3.2031e-04],\n",
       "        [-3.1955e-04,  8.8420e-04, -8.4525e-05,  ..., -2.5221e-04,\n",
       "         -3.8733e-04, -2.8206e-04],\n",
       "        [ 1.0151e-03,  2.5830e-03,  9.9171e-04,  ...,  8.7675e-04,\n",
       "          1.2697e-03,  1.0073e-03],\n",
       "        ...,\n",
       "        [-2.0874e-04,  1.2259e-03,  2.9339e-05,  ..., -1.0489e-04,\n",
       "         -2.3736e-04, -1.4860e-04],\n",
       "        [-6.2403e-05,  1.1807e-03,  8.3635e-05,  ..., -2.2226e-05,\n",
       "         -8.5726e-05, -3.9641e-05],\n",
       "        [ 8.1264e-06,  1.0017e-03,  1.1781e-04,  ..., -8.2809e-07,\n",
       "         -8.6355e-07, -2.0023e-06]], device='cuda:0')"
      ]
     },
     "execution_count": 10,
     "metadata": {},
     "output_type": "execute_result"
    }
   ],
   "source": [
    "pipeline[-1].factors_kg"
   ]
  },
  {
   "cell_type": "code",
   "execution_count": 12,
   "metadata": {},
   "outputs": [
    {
     "data": {
      "text/plain": [
       "tensor([[False,  True, False,  ..., False, False, False],\n",
       "        [False,  True, False,  ..., False, False, False],\n",
       "        [ True,  True,  True,  ...,  True,  True,  True],\n",
       "        ...,\n",
       "        [False,  True,  True,  ..., False, False, False],\n",
       "        [False,  True,  True,  ..., False, False, False],\n",
       "        [ True,  True,  True,  ..., False, False, False]], device='cuda:0')"
      ]
     },
     "execution_count": 12,
     "metadata": {},
     "output_type": "execute_result"
    }
   ],
   "source": [
    "pipeline[-1].factors_kg >= 0"
   ]
  },
  {
   "cell_type": "code",
   "execution_count": null,
   "metadata": {},
   "outputs": [],
   "source": []
  }
 ],
 "metadata": {
  "kernelspec": {
   "display_name": "cellarium",
   "language": "python",
   "name": "python3"
  },
  "language_info": {
   "codemirror_mode": {
    "name": "ipython",
    "version": 3
   },
   "file_extension": ".py",
   "mimetype": "text/x-python",
   "name": "python",
   "nbconvert_exporter": "python",
   "pygments_lexer": "ipython3",
   "version": "3.10.13"
  }
 },
 "nbformat": 4,
 "nbformat_minor": 2
}
