{
 "cells": [
  {
   "cell_type": "markdown",
   "metadata": {},
   "source": [
    "### Gene networks\n",
    "\n",
    "TODO:\n",
    "- Check for LAG3 and TIGIT before and after mean manifold\n",
    "  - Do we correctly preserve the phenotype after snapping to the mean manifold?"
   ]
  },
  {
   "cell_type": "code",
   "execution_count": null,
   "metadata": {},
   "outputs": [],
   "source": [
    "import os\n",
    "import torch\n",
    "import numpy as np\n",
    "import scanpy as sc\n",
    "import pandas as pd\n",
    "import matplotlib.pyplot as plt\n",
    "\n",
    "from cellarium.ml import CellariumModule, CellariumPipeline\n",
    "\n",
    "DEVICE = torch.device('cuda:7')"
   ]
  },
  {
   "cell_type": "code",
   "execution_count": null,
   "metadata": {},
   "outputs": [],
   "source": [
    "ROOT_PATH = \"/mnt/cellariumgpt-xfer/mb-ml-dev-vm\"\n",
    "CHECKPOINTS_PATH = \"/mnt/cellariumgpt-xfer/100M_long_run/run_001/lightning_logs/version_0/checkpoints\""
   ]
  },
  {
   "cell_type": "markdown",
   "metadata": {},
   "source": [
    "### Load an AnnData Extract\n",
    "\n",
    "We will use it for category mappings ..."
   ]
  },
  {
   "cell_type": "code",
   "execution_count": null,
   "metadata": {},
   "outputs": [],
   "source": [
    "# Load an AnnData extract\n",
    "adata_path = os.path.join(ROOT_PATH, \"data\", \"extract_0.h5ad\")\n",
    "adata = sc.read_h5ad(adata_path)"
   ]
  },
  {
   "cell_type": "code",
   "execution_count": null,
   "metadata": {},
   "outputs": [],
   "source": [
    "gene_ontology_infos = dict()\n",
    "\n",
    "ref_obs = adata.obs\n",
    "\n",
    "gene_ontology_infos[\"assay_ontology_term_id\"] = dict()\n",
    "gene_ontology_infos[\"assay_ontology_term_id\"][\"names\"] = list(ref_obs['assay_ontology_term_id'].cat.categories)  \n",
    "gene_ontology_infos[\"assay_ontology_term_id\"][\"labels\"] = list(ref_obs['assay_ontology_term_id'].cat.categories) # just because I am lazy\n",
    "\n",
    "gene_ontology_infos[\"suspension_type\"] = dict()\n",
    "gene_ontology_infos[\"suspension_type\"][\"names\"] = list(ref_obs['suspension_type'].cat.categories)  # for uniformity -- this variable does not have an ontology (does it?)\n",
    "gene_ontology_infos[\"suspension_type\"][\"labels\"] = list(ref_obs['suspension_type'].cat.categories)"
   ]
  },
  {
   "cell_type": "code",
   "execution_count": null,
   "metadata": {},
   "outputs": [],
   "source": [
    "# gene IDs, gene symbols, useful maps\n",
    "model_var_names = np.asarray(adata.var_names)\n",
    "model_var_names_set = set(model_var_names)\n",
    "var_name_to_index_map = {var_name: i for i, var_name in enumerate(model_var_names)}\n",
    "\n",
    "gene_info_tsv_path = os.path.join(ROOT_PATH, \"gene_info\", \"gene_info.tsv\")\n",
    "gene_info_df = pd.read_csv(gene_info_tsv_path, sep=\"\\t\")\n",
    "\n",
    "gene_symbol_to_gene_id_map = dict()\n",
    "for gene_symbol, gene_id in zip(gene_info_df['Gene Symbol'], gene_info_df['ENSEMBL Gene ID']):\n",
    "    if gene_symbol != float('nan'):\n",
    "        gene_symbol_to_gene_id_map[gene_symbol] = gene_id\n",
    "\n",
    "gene_id_to_gene_symbol_map = {gene_id: gene_symbol for gene_symbol, gene_id in gene_symbol_to_gene_id_map.items()}\n",
    "for gene_id in model_var_names:\n",
    "    if gene_id not in gene_id_to_gene_symbol_map:\n",
    "        gene_id_to_gene_symbol_map[gene_id] = gene_id"
   ]
  },
  {
   "cell_type": "markdown",
   "metadata": {},
   "source": [
    "### Load a Jacobian result"
   ]
  },
  {
   "cell_type": "code",
   "execution_count": null,
   "metadata": {},
   "outputs": [],
   "source": [
    "def process_jacobian(dataset_name: str, jacobian_point: str):\n",
    "    jacobian_pt_path = os.path.join(\n",
    "        ROOT_PATH, \"cellariumgpt_playground\", \"output\", f\"jacobian__{dataset_name}__{jacobian_point}.pt\")\n",
    "\n",
    "    jacobian_results_dict = torch.load(jacobian_pt_path, map_location=DEVICE)\n",
    "\n",
    "    x_g = jacobian_results_dict['prompt_gene_values_g']\n",
    "    jacobian_gp = jacobian_results_dict['jacobian_qg'].cpu().numpy()  # p for perturb\n",
    "\n",
    "    # first-order Taylor's expansion of in-silico deletion\n",
    "    y_gp = np.clip(x_g[:, None] - jacobian_gp * x_g[None, :], a_min=0., a_max=None)\n",
    "    z_gp = np.log2(y_gp) - np.log2(x_g[:, None])\n",
    "    z_gp[np.isnan(z_gp)] = 0.\n",
    "\n",
    "    MAX_LFC = 1.\n",
    "    z_gp = np.clip(z_gp, a_min=-MAX_LFC, a_max=MAX_LFC)\n",
    "    z_unit_gp = z_gp / np.linalg.norm(z_gp, axis=1, keepdims=True)\n",
    "    dist_gg = z_unit_gp @ (z_unit_gp.T)\n",
    "\n",
    "    return {\n",
    "        \"jacobian_results_dict\": jacobian_results_dict,\n",
    "        \"x_g\": x_g,\n",
    "        \"jacobian_gp\": jacobian_gp,\n",
    "        \"y_gp\": y_gp,\n",
    "        \"z_gp\": z_gp,\n",
    "        \"z_unit_gp\": z_unit_gp,\n",
    "        \"dist_gg\": dist_gg\n",
    "    }\n",
    "\n",
    "def get_gene_neighborhood(\n",
    "        processed_jacobian_dict: dict,\n",
    "        target_gene_symbol: str,\n",
    "        similarity_var: str = 'dist_gg') -> dict:\n",
    "\n",
    "    target_gene_id = gene_symbol_to_gene_id_map[target_gene_symbol]\n",
    "\n",
    "    assert np.all(\n",
    "        np.asarray(processed_jacobian_dict['jacobian_results_dict']['query_var_names']) ==\n",
    "        np.asarray(processed_jacobian_dict['jacobian_results_dict']['prompt_var_names']))\n",
    "    var_name_to_index_map = {var_name: index for index, var_name in enumerate(\n",
    "        processed_jacobian_dict['jacobian_results_dict']['query_var_names'])}\n",
    "\n",
    "    target_gene_index = var_name_to_index_map[target_gene_id]\n",
    "    target_neighbor_dist_g = processed_jacobian_dict[similarity_var][target_gene_index]\n",
    "    sort_order = np.argsort(target_neighbor_dist_g)[::-1]\n",
    "\n",
    "    return {\n",
    "        \"target_gene_symbol\": target_gene_symbol,\n",
    "        \"target_gene_index\": target_gene_index,\n",
    "        \"target_gene_id\": target_gene_id,\n",
    "        \"target_neighbor_dist_g\": target_neighbor_dist_g,\n",
    "        \"sort_order\": sort_order\n",
    "    }\n",
    "\n",
    "def plot_neighborhood_distance_distribution(neighborhood_dict: dict):\n",
    "    fig, ax = plt.subplots(figsize=(3, 3))\n",
    "    ax.hist(neighborhood_dict['target_neighbor_dist_g'], bins=50);\n",
    "    ax.set_xlabel(f'Cosine distance to {neighborhood_dict[\"target_gene_symbol\"]}')\n",
    "    ax.set_ylabel('Number of genes')\n",
    "\n",
    "def neighborhood_to_df(neighborhood_dict: dict, processed_jacobian_dict: dict) -> pd.DataFrame:\n",
    "    query_var_names = processed_jacobian_dict[\"jacobian_results_dict\"][\"query_var_names\"]\n",
    "    return pd.DataFrame({\n",
    "        \"gene_id\": [query_var_names[i] for i in neighborhood_dict['sort_order']],\n",
    "        \"gene_symbol\": [gene_id_to_gene_symbol_map[query_var_names[i]] for i in neighborhood_dict['sort_order']],\n",
    "        \"cosine_distance\": neighborhood_dict['target_neighbor_dist_g'][neighborhood_dict['sort_order']]\n",
    "    })"
   ]
  },
  {
   "cell_type": "code",
   "execution_count": null,
   "metadata": {},
   "outputs": [],
   "source": [
    "target_gene_symbol = \"PDCD1\"\n",
    "similarity_var = \"z_gp\"\n",
    "\n",
    "dataset_name_1 = \"luca_CD8_ex_LUAD\"\n",
    "jacobian_point_1 = \"actual\"\n",
    "\n",
    "processed_jacobian_dict_1 = process_jacobian(dataset_name_1, jacobian_point_1)\n",
    "neighborhood_dict_1 = get_gene_neighborhood(processed_jacobian_dict_1, target_gene_symbol, similarity_var)\n",
    "df_1 = neighborhood_to_df(neighborhood_dict_1, processed_jacobian_dict_1)\n",
    "\n",
    "dataset_name_2 = \"luca_CD8_act_normal\"\n",
    "jacobian_point_2 = \"marginal_mean\"\n",
    "\n",
    "processed_jacobian_dict_2 = process_jacobian(dataset_name_2, jacobian_point_2)\n",
    "neighborhood_dict_2 = get_gene_neighborhood(processed_jacobian_dict_2, target_gene_symbol, similarity_var)\n",
    "df_2 = neighborhood_to_df(neighborhood_dict_2, processed_jacobian_dict_2)"
   ]
  },
  {
   "cell_type": "code",
   "execution_count": null,
   "metadata": {},
   "outputs": [],
   "source": [
    "with pd.option_context('display.max_rows', 200):\n",
    "    display(df_1.tail(100)) "
   ]
  },
  {
   "cell_type": "code",
   "execution_count": null,
   "metadata": {},
   "outputs": [],
   "source": [
    "with pd.option_context('display.max_rows', 200):\n",
    "    display(df_2.head(50))"
   ]
  },
  {
   "cell_type": "code",
   "execution_count": null,
   "metadata": {},
   "outputs": [],
   "source": [
    "import plotly.express as px\n",
    "import pandas as pd\n",
    "\n",
    "# Create a DataFrame for Plotly\n",
    "query_gene_symbols = [\n",
    "    gene_id_to_gene_symbol_map[gene_id]\n",
    "    for gene_id in processed_jacobian_dict_1['jacobian_results_dict']['query_var_names']]\n",
    "\n",
    "df = pd.DataFrame({\n",
    "    'x': neighborhood_dict_1[\"target_neighbor_dist_g\"],\n",
    "    'y': neighborhood_dict_2[\"target_neighbor_dist_g\"],\n",
    "    'label': query_gene_symbols\n",
    "})\n",
    "\n",
    "# Create the scatter plot\n",
    "fig = px.scatter(df, x='x', y='y', hover_name='label', title='Interactive Scatter Plot')\n",
    "\n",
    "# Update marker size\n",
    "fig.update_traces(marker=dict(size=2))  # Adjust the size as needed\n",
    "\n",
    "# Update layout to decrease the width of the plot\n",
    "fig.update_layout(\n",
    "    width=800,  # Adjust the width as needed\n",
    "    # plot_bgcolor='white',\n",
    "    xaxis=dict(\n",
    "        showgrid=True,\n",
    "        # showticklabels=False,\n",
    "        title=dataset_name_1,\n",
    "    ),\n",
    "    yaxis=dict(\n",
    "        showgrid=True,\n",
    "        # showticklabels=False,\n",
    "        title=dataset_name_2\n",
    "    )\n",
    ")\n",
    "\n",
    "# Show the plot\n",
    "fig.show()"
   ]
  },
  {
   "cell_type": "markdown",
   "metadata": {},
   "source": [
    "### Embedding"
   ]
  },
  {
   "cell_type": "code",
   "execution_count": null,
   "metadata": {},
   "outputs": [],
   "source": [
    "import pymde"
   ]
  },
  {
   "cell_type": "code",
   "execution_count": null,
   "metadata": {},
   "outputs": [],
   "source": [
    "processed_jacobian_dict = processed_jacobian_dict_1\n",
    "neighborhood_dict = neighborhood_dict_1"
   ]
  },
  {
   "cell_type": "code",
   "execution_count": null,
   "metadata": {},
   "outputs": [],
   "source": [
    "neighborhood_dict.keys()"
   ]
  },
  {
   "cell_type": "code",
   "execution_count": null,
   "metadata": {},
   "outputs": [],
   "source": [
    "mde = pymde.preserve_neighbors(\n",
    "    processed_jacobian_dict[\"z_unit_gp\"], device=DEVICE, verbose=True, n_neighbors=10, repulsive_fraction=0.9,\n",
    "    repulsive_penalty=pymde.penalties.InvPower)"
   ]
  },
  {
   "cell_type": "code",
   "execution_count": null,
   "metadata": {},
   "outputs": [],
   "source": [
    "embedding_g2 = mde.embed(verbose=True)\n",
    "embedding_g2 = embedding_g2.cpu().numpy()"
   ]
  },
  {
   "cell_type": "code",
   "execution_count": null,
   "metadata": {},
   "outputs": [],
   "source": [
    "import plotly.express as px\n",
    "import pandas as pd\n",
    "\n",
    "query_gene_symbols = [\n",
    "    gene_id_to_gene_symbol_map[gene_id]\n",
    "    for gene_id in processed_jacobian_dict[\"jacobian_results_dict\"][\"query_var_names\"]]\n",
    "    \n",
    "# Create a DataFrame for Plotly\n",
    "df = pd.DataFrame({\n",
    "    'x': embedding_g2[:, 0],\n",
    "    'y': embedding_g2[:, 1],\n",
    "    'label': query_gene_symbols\n",
    "})\n",
    "\n",
    "# Create the scatter plot\n",
    "fig = px.scatter(df, x='x', y='y', hover_name='label', title='Interactive Scatter Plot')\n",
    "\n",
    "# Update marker size\n",
    "fig.update_traces(marker=dict(size=2))  # Adjust the size as needed\n",
    "\n",
    "# Highlight the specific point in red\n",
    "target_idx = neighborhood_dict['target_gene_index']\n",
    "fig.add_scatter(\n",
    "    x=[embedding_g2[target_idx, 0]],\n",
    "    y=[embedding_g2[target_idx, 1]],\n",
    "    mode='markers+text',\n",
    "    marker=dict(color='green', size=10),\n",
    "    # text=[query_gene_symbols[target_idx]],\n",
    "    textposition='top center',\n",
    "    showlegend=False\n",
    ")\n",
    "\n",
    "highlight_indices = [idx for idx in neighborhood_dict['sort_order'][:100] if idx != target_idx]\n",
    "fig.add_scatter(\n",
    "    x=embedding_g2[highlight_indices, 0],\n",
    "    y=embedding_g2[highlight_indices, 1],\n",
    "    mode='markers+text',\n",
    "    marker=dict(color='red', size=6),\n",
    "    # text=np.asarray(query_gene_symbols, dtype=object)[highlight_indices],\n",
    "    textposition='top center',\n",
    "    showlegend=False\n",
    ")\n",
    "\n",
    "# Update layout to decrease the width of the plot\n",
    "fig.update_layout(\n",
    "    width=700,  # Adjust the width as needed\n",
    "    height=700,\n",
    "    plot_bgcolor='white',\n",
    "    xaxis=dict(\n",
    "        showgrid=False,\n",
    "        showticklabels=False,\n",
    "        title='MDE_1'\n",
    "    ),\n",
    "    yaxis=dict(\n",
    "        showgrid=False,\n",
    "        showticklabels=False,\n",
    "        title='MDE_2'\n",
    "    )\n",
    ")\n",
    "\n",
    "# Show the plot\n",
    "fig.show()"
   ]
  },
  {
   "cell_type": "code",
   "execution_count": null,
   "metadata": {},
   "outputs": [],
   "source": [
    "processed_jacobian_dict = processed_jacobian_dict_2\n",
    "neighborhood_dict = neighborhood_dict_1"
   ]
  },
  {
   "cell_type": "code",
   "execution_count": null,
   "metadata": {},
   "outputs": [],
   "source": [
    "neighborhood_dict.keys()"
   ]
  },
  {
   "cell_type": "code",
   "execution_count": null,
   "metadata": {},
   "outputs": [],
   "source": [
    "mde = pymde.preserve_neighbors(\n",
    "    processed_jacobian_dict[\"z_unit_gp\"], device=DEVICE, verbose=True, n_neighbors=10, repulsive_fraction=0.9,\n",
    "    repulsive_penalty=pymde.penalties.InvPower)"
   ]
  },
  {
   "cell_type": "code",
   "execution_count": null,
   "metadata": {},
   "outputs": [],
   "source": [
    "embedding_g2 = mde.embed(verbose=True)\n",
    "embedding_g2 = embedding_g2.cpu().numpy()"
   ]
  },
  {
   "cell_type": "code",
   "execution_count": null,
   "metadata": {},
   "outputs": [],
   "source": [
    "import plotly.express as px\n",
    "import pandas as pd\n",
    "\n",
    "query_gene_symbols = [\n",
    "    gene_id_to_gene_symbol_map[gene_id]\n",
    "    for gene_id in processed_jacobian_dict[\"jacobian_results_dict\"][\"query_var_names\"]]\n",
    "    \n",
    "# Create a DataFrame for Plotly\n",
    "df = pd.DataFrame({\n",
    "    'x': embedding_g2[:, 0],\n",
    "    'y': embedding_g2[:, 1],\n",
    "    'label': query_gene_symbols\n",
    "})\n",
    "\n",
    "# Create the scatter plot\n",
    "fig = px.scatter(df, x='x', y='y', hover_name='label', title='Interactive Scatter Plot')\n",
    "\n",
    "# Update marker size\n",
    "fig.update_traces(marker=dict(size=2))  # Adjust the size as needed\n",
    "\n",
    "# Highlight the specific point in red\n",
    "target_idx = neighborhood_dict['target_gene_index']\n",
    "fig.add_scatter(\n",
    "    x=[embedding_g2[target_idx, 0]],\n",
    "    y=[embedding_g2[target_idx, 1]],\n",
    "    mode='markers+text',\n",
    "    marker=dict(color='green', size=10),\n",
    "    # text=[query_gene_symbols[target_idx]],\n",
    "    textposition='top center',\n",
    "    showlegend=False\n",
    ")\n",
    "\n",
    "highlight_indices = [idx for idx in neighborhood_dict['sort_order'][:100] if idx != target_idx]\n",
    "fig.add_scatter(\n",
    "    x=embedding_g2[highlight_indices, 0],\n",
    "    y=embedding_g2[highlight_indices, 1],\n",
    "    mode='markers+text',\n",
    "    marker=dict(color='red', size=6),\n",
    "    # text=np.asarray(query_gene_symbols, dtype=object)[highlight_indices],\n",
    "    textposition='top center',\n",
    "    showlegend=False\n",
    ")\n",
    "\n",
    "# Update layout to decrease the width of the plot\n",
    "fig.update_layout(\n",
    "    width=700,  # Adjust the width as needed\n",
    "    height=700,\n",
    "    plot_bgcolor='white',\n",
    "    xaxis=dict(\n",
    "        showgrid=False,\n",
    "        showticklabels=False,\n",
    "        title='MDE_1'\n",
    "    ),\n",
    "    yaxis=dict(\n",
    "        showgrid=False,\n",
    "        showticklabels=False,\n",
    "        title='MDE_2'\n",
    "    )\n",
    ")\n",
    "\n",
    "# Show the plot\n",
    "fig.show()"
   ]
  },
  {
   "cell_type": "code",
   "execution_count": null,
   "metadata": {},
   "outputs": [],
   "source": []
  }
 ],
 "metadata": {
  "kernelspec": {
   "display_name": "base",
   "language": "python",
   "name": "python3"
  },
  "language_info": {
   "codemirror_mode": {
    "name": "ipython",
    "version": 3
   },
   "file_extension": ".py",
   "mimetype": "text/x-python",
   "name": "python",
   "nbconvert_exporter": "python",
   "pygments_lexer": "ipython3",
   "version": "3.10.15"
  }
 },
 "nbformat": 4,
 "nbformat_minor": 2
}
