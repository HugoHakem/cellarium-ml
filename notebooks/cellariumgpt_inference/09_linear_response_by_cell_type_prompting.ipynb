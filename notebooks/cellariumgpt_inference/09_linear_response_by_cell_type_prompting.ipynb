{
 "cells": [
  {
   "cell_type": "markdown",
   "metadata": {},
   "source": [
    "### _in silico_ perturbation by cell type prompting"
   ]
  },
  {
   "cell_type": "code",
   "execution_count": 1,
   "metadata": {},
   "outputs": [],
   "source": [
    "import os\n",
    "import torch\n",
    "import warnings\n",
    "import numpy as np\n",
    "import scanpy as sc\n",
    "import pandas as pd\n",
    "import matplotlib.pyplot as plt\n",
    "\n",
    "# for flex attention\n",
    "import torch._dynamo\n",
    "torch._dynamo.config.suppress_errors = True\n",
    "\n",
    "DEVICE = torch.device('cuda:0')\n",
    "sc.set_figure_params(figsize=(4, 4))\n",
    "\n",
    "from cellarium.ml.utilities.inference.cellarium_gpt_inference import \\\n",
    "    CellariumGPTInferenceContext, \\\n",
    "    GeneNetworkAnalysisBase"
   ]
  },
  {
   "cell_type": "code",
   "execution_count": 2,
   "metadata": {},
   "outputs": [
    {
     "name": "stderr",
     "output_type": "stream",
     "text": [
      "/opt/conda/lib/python3.10/site-packages/anndata/_core/aligned_df.py:68: ImplicitModificationWarning: Transforming to str index.\n",
      "  warnings.warn(\"Transforming to str index.\", ImplicitModificationWarning)\n"
     ]
    }
   ],
   "source": [
    "ROOT_PATH = \"/home/mehrtash/data\"\n",
    "CHECKPOINT_PATH = \"/home/mehrtash/data/100M_long_run/run_001/lightning_logs/version_3/checkpoints/epoch=5-step=504000.ckpt\"\n",
    "REF_ADATA_PATH = os.path.join(ROOT_PATH, \"data\", \"extract_0.h5ad\")\n",
    "GENE_INFO_PATH = os.path.join(ROOT_PATH, \"gene_info\", \"gene_info.tsv\")\n",
    "\n",
    "ctx = CellariumGPTInferenceContext(\n",
    "    cellarium_gpt_ckpt_path=CHECKPOINT_PATH,\n",
    "    ref_adata_path=REF_ADATA_PATH,\n",
    "    gene_info_tsv_path=GENE_INFO_PATH,\n",
    "    device=DEVICE,\n",
    "    attention_backend=\"mem_efficient\"\n",
    ")"
   ]
  },
  {
   "cell_type": "code",
   "execution_count": 96,
   "metadata": {},
   "outputs": [],
   "source": [
    "# arguments\n",
    "query_gene_ids = ctx.model_var_names\n",
    "assay = \"10x 3' v2\"\n",
    "suspension_type = \"cell\"\n",
    "prompt_metadata_dict = {\n",
    "    \"cell_type\": \"CD8-positive, alpha-beta T cell\",\n",
    "    \"tissue\": \"blood\"\n",
    "}\n",
    "total_mrna_umis = 20_000"
   ]
  },
  {
   "cell_type": "markdown",
   "metadata": {},
   "source": [
    "### Gene expression dynamic range determination"
   ]
  },
  {
   "cell_type": "code",
   "execution_count": 97,
   "metadata": {},
   "outputs": [
    {
     "data": {
      "application/vnd.jupyter.widget-view+json": {
       "model_id": "c456e1d2c487444e8783511e19ee676d",
       "version_major": 2,
       "version_minor": 0
      },
      "text/plain": [
       "Processing gene chunks:   0%|          | 0/8 [00:00<?, ?it/s]"
      ]
     },
     "metadata": {},
     "output_type": "display_data"
    },
    {
     "name": "stderr",
     "output_type": "stream",
     "text": [
      "/opt/conda/lib/python3.10/site-packages/anndata/_core/aligned_df.py:68: ImplicitModificationWarning: Transforming to str index.\n",
      "  warnings.warn(\"Transforming to str index.\", ImplicitModificationWarning)\n",
      "/opt/conda/lib/python3.10/site-packages/anndata/_core/aligned_df.py:68: ImplicitModificationWarning: Transforming to str index.\n",
      "  warnings.warn(\"Transforming to str index.\", ImplicitModificationWarning)\n",
      "2025-02-07 23:38:42,491 - cellarium.ml.utilities.inference.cellarium_gpt_inference - INFO - Transferring the tokens to the device ...\n",
      "2025-02-07 23:38:42,492 - cellarium.ml.utilities.inference.cellarium_gpt_inference - INFO - Done.\n",
      "2025-02-07 23:38:42,493 - cellarium.ml.utilities.inference.cellarium_gpt_inference - INFO - Predicting ...\n",
      "2025-02-07 23:38:42,517 - cellarium.ml.utilities.inference.cellarium_gpt_inference - INFO - Done.\n",
      "2025-02-07 23:38:42,518 - cellarium.ml.utilities.inference.cellarium_gpt_inference - INFO - Calculating marginal mean and std ...\n",
      "2025-02-07 23:38:42,518 - cellarium.ml.utilities.inference.cellarium_gpt_inference - INFO - Obtaining gene logits ...\n",
      "2025-02-07 23:38:42,672 - cellarium.ml.utilities.inference.cellarium_gpt_inference - INFO - Done.\n",
      "2025-02-07 23:38:42,673 - cellarium.ml.utilities.inference.cellarium_gpt_inference - INFO - Normalizing gene logits ...\n",
      "2025-02-07 23:38:42,674 - cellarium.ml.utilities.inference.cellarium_gpt_inference - INFO - Done.\n",
      "/opt/conda/lib/python3.10/site-packages/anndata/_core/aligned_df.py:68: ImplicitModificationWarning: Transforming to str index.\n",
      "  warnings.warn(\"Transforming to str index.\", ImplicitModificationWarning)\n",
      "/opt/conda/lib/python3.10/site-packages/anndata/_core/aligned_df.py:68: ImplicitModificationWarning: Transforming to str index.\n",
      "  warnings.warn(\"Transforming to str index.\", ImplicitModificationWarning)\n",
      "2025-02-07 23:38:42,686 - cellarium.ml.utilities.inference.cellarium_gpt_inference - INFO - Transferring the tokens to the device ...\n",
      "2025-02-07 23:38:42,687 - cellarium.ml.utilities.inference.cellarium_gpt_inference - INFO - Done.\n",
      "2025-02-07 23:38:42,688 - cellarium.ml.utilities.inference.cellarium_gpt_inference - INFO - Predicting ...\n",
      "2025-02-07 23:38:42,712 - cellarium.ml.utilities.inference.cellarium_gpt_inference - INFO - Done.\n",
      "2025-02-07 23:38:42,712 - cellarium.ml.utilities.inference.cellarium_gpt_inference - INFO - Calculating marginal mean and std ...\n",
      "2025-02-07 23:38:42,713 - cellarium.ml.utilities.inference.cellarium_gpt_inference - INFO - Obtaining gene logits ...\n",
      "2025-02-07 23:38:42,842 - cellarium.ml.utilities.inference.cellarium_gpt_inference - INFO - Done.\n",
      "2025-02-07 23:38:42,843 - cellarium.ml.utilities.inference.cellarium_gpt_inference - INFO - Normalizing gene logits ...\n",
      "2025-02-07 23:38:42,844 - cellarium.ml.utilities.inference.cellarium_gpt_inference - INFO - Done.\n",
      "/opt/conda/lib/python3.10/site-packages/anndata/_core/aligned_df.py:68: ImplicitModificationWarning: Transforming to str index.\n",
      "  warnings.warn(\"Transforming to str index.\", ImplicitModificationWarning)\n",
      "/opt/conda/lib/python3.10/site-packages/anndata/_core/aligned_df.py:68: ImplicitModificationWarning: Transforming to str index.\n",
      "  warnings.warn(\"Transforming to str index.\", ImplicitModificationWarning)\n",
      "2025-02-07 23:38:42,855 - cellarium.ml.utilities.inference.cellarium_gpt_inference - INFO - Transferring the tokens to the device ...\n",
      "2025-02-07 23:38:42,856 - cellarium.ml.utilities.inference.cellarium_gpt_inference - INFO - Done.\n",
      "2025-02-07 23:38:42,856 - cellarium.ml.utilities.inference.cellarium_gpt_inference - INFO - Predicting ...\n",
      "2025-02-07 23:38:42,880 - cellarium.ml.utilities.inference.cellarium_gpt_inference - INFO - Done.\n",
      "2025-02-07 23:38:42,880 - cellarium.ml.utilities.inference.cellarium_gpt_inference - INFO - Calculating marginal mean and std ...\n",
      "2025-02-07 23:38:42,881 - cellarium.ml.utilities.inference.cellarium_gpt_inference - INFO - Obtaining gene logits ...\n",
      "2025-02-07 23:38:43,010 - cellarium.ml.utilities.inference.cellarium_gpt_inference - INFO - Done.\n",
      "2025-02-07 23:38:43,011 - cellarium.ml.utilities.inference.cellarium_gpt_inference - INFO - Normalizing gene logits ...\n",
      "2025-02-07 23:38:43,012 - cellarium.ml.utilities.inference.cellarium_gpt_inference - INFO - Done.\n",
      "/opt/conda/lib/python3.10/site-packages/anndata/_core/aligned_df.py:68: ImplicitModificationWarning: Transforming to str index.\n",
      "  warnings.warn(\"Transforming to str index.\", ImplicitModificationWarning)\n",
      "/opt/conda/lib/python3.10/site-packages/anndata/_core/aligned_df.py:68: ImplicitModificationWarning: Transforming to str index.\n",
      "  warnings.warn(\"Transforming to str index.\", ImplicitModificationWarning)\n",
      "2025-02-07 23:38:43,023 - cellarium.ml.utilities.inference.cellarium_gpt_inference - INFO - Transferring the tokens to the device ...\n",
      "2025-02-07 23:38:43,024 - cellarium.ml.utilities.inference.cellarium_gpt_inference - INFO - Done.\n",
      "2025-02-07 23:38:43,025 - cellarium.ml.utilities.inference.cellarium_gpt_inference - INFO - Predicting ...\n",
      "2025-02-07 23:38:43,049 - cellarium.ml.utilities.inference.cellarium_gpt_inference - INFO - Done.\n",
      "2025-02-07 23:38:43,049 - cellarium.ml.utilities.inference.cellarium_gpt_inference - INFO - Calculating marginal mean and std ...\n",
      "2025-02-07 23:38:43,050 - cellarium.ml.utilities.inference.cellarium_gpt_inference - INFO - Obtaining gene logits ...\n",
      "2025-02-07 23:38:43,179 - cellarium.ml.utilities.inference.cellarium_gpt_inference - INFO - Done.\n",
      "2025-02-07 23:38:43,179 - cellarium.ml.utilities.inference.cellarium_gpt_inference - INFO - Normalizing gene logits ...\n",
      "2025-02-07 23:38:43,180 - cellarium.ml.utilities.inference.cellarium_gpt_inference - INFO - Done.\n",
      "/opt/conda/lib/python3.10/site-packages/anndata/_core/aligned_df.py:68: ImplicitModificationWarning: Transforming to str index.\n",
      "  warnings.warn(\"Transforming to str index.\", ImplicitModificationWarning)\n",
      "/opt/conda/lib/python3.10/site-packages/anndata/_core/aligned_df.py:68: ImplicitModificationWarning: Transforming to str index.\n",
      "  warnings.warn(\"Transforming to str index.\", ImplicitModificationWarning)\n",
      "2025-02-07 23:38:43,192 - cellarium.ml.utilities.inference.cellarium_gpt_inference - INFO - Transferring the tokens to the device ...\n",
      "2025-02-07 23:38:43,193 - cellarium.ml.utilities.inference.cellarium_gpt_inference - INFO - Done.\n",
      "2025-02-07 23:38:43,194 - cellarium.ml.utilities.inference.cellarium_gpt_inference - INFO - Predicting ...\n",
      "2025-02-07 23:38:43,217 - cellarium.ml.utilities.inference.cellarium_gpt_inference - INFO - Done.\n",
      "2025-02-07 23:38:43,218 - cellarium.ml.utilities.inference.cellarium_gpt_inference - INFO - Calculating marginal mean and std ...\n",
      "2025-02-07 23:38:43,219 - cellarium.ml.utilities.inference.cellarium_gpt_inference - INFO - Obtaining gene logits ...\n",
      "2025-02-07 23:38:43,348 - cellarium.ml.utilities.inference.cellarium_gpt_inference - INFO - Done.\n",
      "2025-02-07 23:38:43,348 - cellarium.ml.utilities.inference.cellarium_gpt_inference - INFO - Normalizing gene logits ...\n",
      "2025-02-07 23:38:43,349 - cellarium.ml.utilities.inference.cellarium_gpt_inference - INFO - Done.\n",
      "/opt/conda/lib/python3.10/site-packages/anndata/_core/aligned_df.py:68: ImplicitModificationWarning: Transforming to str index.\n",
      "  warnings.warn(\"Transforming to str index.\", ImplicitModificationWarning)\n",
      "/opt/conda/lib/python3.10/site-packages/anndata/_core/aligned_df.py:68: ImplicitModificationWarning: Transforming to str index.\n",
      "  warnings.warn(\"Transforming to str index.\", ImplicitModificationWarning)\n",
      "2025-02-07 23:38:43,360 - cellarium.ml.utilities.inference.cellarium_gpt_inference - INFO - Transferring the tokens to the device ...\n",
      "2025-02-07 23:38:43,361 - cellarium.ml.utilities.inference.cellarium_gpt_inference - INFO - Done.\n",
      "2025-02-07 23:38:43,362 - cellarium.ml.utilities.inference.cellarium_gpt_inference - INFO - Predicting ...\n",
      "2025-02-07 23:38:43,385 - cellarium.ml.utilities.inference.cellarium_gpt_inference - INFO - Done.\n",
      "2025-02-07 23:38:43,386 - cellarium.ml.utilities.inference.cellarium_gpt_inference - INFO - Calculating marginal mean and std ...\n",
      "2025-02-07 23:38:43,387 - cellarium.ml.utilities.inference.cellarium_gpt_inference - INFO - Obtaining gene logits ...\n",
      "2025-02-07 23:38:43,516 - cellarium.ml.utilities.inference.cellarium_gpt_inference - INFO - Done.\n",
      "2025-02-07 23:38:43,517 - cellarium.ml.utilities.inference.cellarium_gpt_inference - INFO - Normalizing gene logits ...\n",
      "2025-02-07 23:38:43,518 - cellarium.ml.utilities.inference.cellarium_gpt_inference - INFO - Done.\n",
      "/opt/conda/lib/python3.10/site-packages/anndata/_core/aligned_df.py:68: ImplicitModificationWarning: Transforming to str index.\n",
      "  warnings.warn(\"Transforming to str index.\", ImplicitModificationWarning)\n",
      "/opt/conda/lib/python3.10/site-packages/anndata/_core/aligned_df.py:68: ImplicitModificationWarning: Transforming to str index.\n",
      "  warnings.warn(\"Transforming to str index.\", ImplicitModificationWarning)\n",
      "2025-02-07 23:38:43,529 - cellarium.ml.utilities.inference.cellarium_gpt_inference - INFO - Transferring the tokens to the device ...\n",
      "2025-02-07 23:38:43,530 - cellarium.ml.utilities.inference.cellarium_gpt_inference - INFO - Done.\n",
      "2025-02-07 23:38:43,530 - cellarium.ml.utilities.inference.cellarium_gpt_inference - INFO - Predicting ...\n",
      "2025-02-07 23:38:43,554 - cellarium.ml.utilities.inference.cellarium_gpt_inference - INFO - Done.\n",
      "2025-02-07 23:38:43,554 - cellarium.ml.utilities.inference.cellarium_gpt_inference - INFO - Calculating marginal mean and std ...\n",
      "2025-02-07 23:38:43,555 - cellarium.ml.utilities.inference.cellarium_gpt_inference - INFO - Obtaining gene logits ...\n",
      "2025-02-07 23:38:43,684 - cellarium.ml.utilities.inference.cellarium_gpt_inference - INFO - Done.\n",
      "2025-02-07 23:38:43,685 - cellarium.ml.utilities.inference.cellarium_gpt_inference - INFO - Normalizing gene logits ...\n",
      "2025-02-07 23:38:43,686 - cellarium.ml.utilities.inference.cellarium_gpt_inference - INFO - Done.\n",
      "/opt/conda/lib/python3.10/site-packages/anndata/_core/aligned_df.py:68: ImplicitModificationWarning: Transforming to str index.\n",
      "  warnings.warn(\"Transforming to str index.\", ImplicitModificationWarning)\n",
      "/opt/conda/lib/python3.10/site-packages/anndata/_core/aligned_df.py:68: ImplicitModificationWarning: Transforming to str index.\n",
      "  warnings.warn(\"Transforming to str index.\", ImplicitModificationWarning)\n",
      "2025-02-07 23:38:43,695 - cellarium.ml.utilities.inference.cellarium_gpt_inference - INFO - Transferring the tokens to the device ...\n",
      "2025-02-07 23:38:43,696 - cellarium.ml.utilities.inference.cellarium_gpt_inference - INFO - Done.\n",
      "2025-02-07 23:38:43,696 - cellarium.ml.utilities.inference.cellarium_gpt_inference - INFO - Predicting ...\n",
      "2025-02-07 23:38:43,718 - cellarium.ml.utilities.inference.cellarium_gpt_inference - INFO - Done.\n",
      "2025-02-07 23:38:43,719 - cellarium.ml.utilities.inference.cellarium_gpt_inference - INFO - Calculating marginal mean and std ...\n",
      "2025-02-07 23:38:43,719 - cellarium.ml.utilities.inference.cellarium_gpt_inference - INFO - Obtaining gene logits ...\n",
      "2025-02-07 23:38:43,730 - cellarium.ml.utilities.inference.cellarium_gpt_inference - INFO - Done.\n",
      "2025-02-07 23:38:43,730 - cellarium.ml.utilities.inference.cellarium_gpt_inference - INFO - Normalizing gene logits ...\n",
      "2025-02-07 23:38:43,731 - cellarium.ml.utilities.inference.cellarium_gpt_inference - INFO - Done.\n"
     ]
    }
   ],
   "source": [
    "query_chunk_size = 5_000\n",
    "upper_percentile = 0.99\n",
    "upper_pad = 1\n",
    "\n",
    "gene_expr_range_q = ctx.predict_gene_expression_dynamic_range_for_metadata(\n",
    "    assay=assay,\n",
    "    suspension_type=suspension_type,\n",
    "    prompt_metadata_dict=prompt_metadata_dict,\n",
    "    total_mrna_umis=total_mrna_umis,\n",
    "    query_gene_ids=query_gene_ids,\n",
    "    query_chunk_size=query_chunk_size,\n",
    "    upper_percentile=upper_percentile,\n",
    "    upper_pad=upper_pad\n",
    ")"
   ]
  },
  {
   "cell_type": "code",
   "execution_count": 98,
   "metadata": {},
   "outputs": [
    {
     "data": {
      "image/png": "[encoded data removed]",
      "text/plain": [
       "<Figure size 320x320 with 1 Axes>"
      ]
     },
     "metadata": {
      "image/png": {
       "height": 281,
       "width": 309
      }
     },
     "output_type": "display_data"
    }
   ],
   "source": [
    "plt.hist(gene_expr_range_q.cpu().numpy(), bins=50, log=True);"
   ]
  },
  {
   "cell_type": "code",
   "execution_count": 99,
   "metadata": {},
   "outputs": [
    {
     "name": "stdout",
     "output_type": "stream",
     "text": [
      "ENSG00000206172: 1090, HBA1\n",
      "ENSG00000251562: 2001, MALAT1\n",
      "ENSG00000211677: 1273, IGLC2\n",
      "ENSG00000198804: 1206, MT-CO1\n",
      "ENSG00000087086: 1470, FTL\n",
      "ENSG00000211895: 1472, IGHA1\n",
      "ENSG00000211592: 2001, IGKC\n",
      "ENSG00000229117: 1110, RPL41\n"
     ]
    }
   ],
   "source": [
    "for idx in torch.where(gene_expr_range_q > 1000)[0]:\n",
    "    print(f\"{ctx.model_var_names[idx]}: {gene_expr_range_q[idx]}, {ctx.gene_id_to_gene_symbol_map[ctx.model_var_names[idx]]}\")"
   ]
  },
  {
   "cell_type": "code",
   "execution_count": null,
   "metadata": {},
   "outputs": [],
   "source": []
  },
  {
   "cell_type": "code",
   "execution_count": null,
   "metadata": {},
   "outputs": [],
   "source": []
  }
 ],
 "metadata": {
  "kernelspec": {
   "display_name": "base",
   "language": "python",
   "name": "python3"
  },
  "language_info": {
   "codemirror_mode": {
    "name": "ipython",
    "version": 3
   },
   "file_extension": ".py",
   "mimetype": "text/x-python",
   "name": "python",
   "nbconvert_exporter": "python",
   "pygments_lexer": "ipython3",
   "version": "3.10.16"
  }
 },
 "nbformat": 4,
 "nbformat_minor": 2
}
