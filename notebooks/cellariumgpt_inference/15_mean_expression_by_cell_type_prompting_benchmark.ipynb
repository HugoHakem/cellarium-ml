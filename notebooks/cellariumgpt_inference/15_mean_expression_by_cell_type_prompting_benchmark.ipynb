{
 "cells": [
  {
   "cell_type": "markdown",
   "metadata": {},
   "source": [
    "### Does CellariumGPT recapitulate empirical mean for a given cell type?"
   ]
  },
  {
   "cell_type": "code",
   "execution_count": 2,
   "metadata": {},
   "outputs": [],
   "source": [
    "import os\n",
    "import torch\n",
    "import warnings\n",
    "import numpy as np\n",
    "import scanpy as sc\n",
    "import pandas as pd\n",
    "import matplotlib.pyplot as plt\n",
    "\n",
    "sc.set_figure_params(figsize=(4, 4))\n",
    "\n",
    "DEVICE = torch.device('cuda:0')\n",
    "\n",
    "from cellarium.ml.utilities.inference.cellarium_gpt_inference import \\\n",
    "    CellariumGPTInferenceContext, \\\n",
    "    GeneNetworkAnalysisBase"
   ]
  },
  {
   "cell_type": "code",
   "execution_count": null,
   "metadata": {},
   "outputs": [],
   "source": [
    "ROOT_PATH = \"/home/mehrtash/data\"\n",
    "\n",
    "PREFIX_LIST = [\n",
    "    \"10M_001_bs1536\",\n",
    "    \"19M_001_bs2048\",\n",
    "    \"30M_001_bs2560\",\n",
    "    \"100M_long_run_last\"\n",
    "]\n",
    "\n",
    "CHECKPOINT_PATH_LIST = [\n",
    "    \"/home/mehrtash/data/mb_checkpoints/10M_001_bs1536/epoch=1-step=29161__updated.ckpt\",\n",
    "    \"/home/mehrtash/data/mb_checkpoints/19M_001_bs2048/epoch=1-step=28244__updated.ckpt\",\n",
    "    \"/home/mehrtash/data/mb_checkpoints/30M_001_bs2560/epoch=2-step=43129__updated.ckpt\",\n",
    "    \"/home/mehrtash/data/100M_long_run/run_001/lightning_logs/version_3/checkpoints/epoch=5-step=504000.ckpt\"\n",
    "]\n",
    "\n",
    "REF_ADATA_PATH = os.path.join(ROOT_PATH, \"data\", \"extract_0.h5ad\")\n",
    "GENE_INFO_PATH = os.path.join(ROOT_PATH, \"gene_info\", \"gene_info.tsv\")"
   ]
  },
  {
   "cell_type": "code",
   "execution_count": 43,
   "metadata": {},
   "outputs": [],
   "source": [
    "# load validation cell type table\n",
    "val_adata = sc.read_h5ad(\n",
    "    os.path.join(ROOT_PATH, \"data\", \"cellariumgpt_artifacts\", \"cell_types_for_validation_filtered.h5ad\"))"
   ]
  },
  {
   "cell_type": "code",
   "execution_count": 5,
   "metadata": {},
   "outputs": [
    {
     "data": {
      "text/plain": [
       "AnnData object with n_obs × n_vars = 61 × 28680\n",
       "    obs: 'cell_type', 'assay', 'suspension_type', 'tissue', 'sex', 'disease', 'total_mrna_umis'\n",
       "    var: 'feature_id', 'feature_name'"
      ]
     },
     "execution_count": 5,
     "metadata": {},
     "output_type": "execute_result"
    }
   ],
   "source": [
    "val_adata"
   ]
  },
  {
   "cell_type": "code",
   "execution_count": 6,
   "metadata": {},
   "outputs": [
    {
     "data": {
      "text/html": [
       "<div>\n",
       "<style scoped>\n",
       "    .dataframe tbody tr th:only-of-type {\n",
       "        vertical-align: middle;\n",
       "    }\n",
       "\n",
       "    .dataframe tbody tr th {\n",
       "        vertical-align: top;\n",
       "    }\n",
       "\n",
       "    .dataframe thead th {\n",
       "        text-align: right;\n",
       "    }\n",
       "</style>\n",
       "<table border=\"1\" class=\"dataframe\">\n",
       "  <thead>\n",
       "    <tr style=\"text-align: right;\">\n",
       "      <th></th>\n",
       "      <th>cell_type</th>\n",
       "      <th>assay</th>\n",
       "      <th>suspension_type</th>\n",
       "      <th>tissue</th>\n",
       "      <th>sex</th>\n",
       "      <th>disease</th>\n",
       "      <th>total_mrna_umis</th>\n",
       "    </tr>\n",
       "  </thead>\n",
       "  <tbody>\n",
       "    <tr>\n",
       "      <th>0</th>\n",
       "      <td>GABAergic neuron</td>\n",
       "      <td>10x 3' v3</td>\n",
       "      <td>nucleus</td>\n",
       "      <td>brain</td>\n",
       "      <td>male</td>\n",
       "      <td>normal</td>\n",
       "      <td>5527.708887</td>\n",
       "    </tr>\n",
       "    <tr>\n",
       "      <th>1</th>\n",
       "      <td>glutamatergic neuron</td>\n",
       "      <td>10x 3' v3</td>\n",
       "      <td>nucleus</td>\n",
       "      <td>brain</td>\n",
       "      <td>male</td>\n",
       "      <td>normal</td>\n",
       "      <td>10683.399862</td>\n",
       "    </tr>\n",
       "    <tr>\n",
       "      <th>2</th>\n",
       "      <td>astrocyte</td>\n",
       "      <td>10x 3' v3</td>\n",
       "      <td>nucleus</td>\n",
       "      <td>brain</td>\n",
       "      <td>male</td>\n",
       "      <td>normal</td>\n",
       "      <td>5380.963698</td>\n",
       "    </tr>\n",
       "    <tr>\n",
       "      <th>3</th>\n",
       "      <td>oligodendrocyte</td>\n",
       "      <td>10x 3' v3</td>\n",
       "      <td>nucleus</td>\n",
       "      <td>brain</td>\n",
       "      <td>male</td>\n",
       "      <td>normal</td>\n",
       "      <td>5083.603161</td>\n",
       "    </tr>\n",
       "    <tr>\n",
       "      <th>4</th>\n",
       "      <td>oligodendrocyte precursor cell</td>\n",
       "      <td>10x 3' v3</td>\n",
       "      <td>nucleus</td>\n",
       "      <td>brain</td>\n",
       "      <td>male</td>\n",
       "      <td>normal</td>\n",
       "      <td>6609.696174</td>\n",
       "    </tr>\n",
       "    <tr>\n",
       "      <th>5</th>\n",
       "      <td>microglial cell</td>\n",
       "      <td>10x 3' v3</td>\n",
       "      <td>nucleus</td>\n",
       "      <td>brain</td>\n",
       "      <td>male</td>\n",
       "      <td>normal</td>\n",
       "      <td>3645.962305</td>\n",
       "    </tr>\n",
       "    <tr>\n",
       "      <th>6</th>\n",
       "      <td>cerebellar granule cell</td>\n",
       "      <td>10x 3' v3</td>\n",
       "      <td>nucleus</td>\n",
       "      <td>brain</td>\n",
       "      <td>male</td>\n",
       "      <td>normal</td>\n",
       "      <td>3935.779702</td>\n",
       "    </tr>\n",
       "    <tr>\n",
       "      <th>7</th>\n",
       "      <td>endothelial cell</td>\n",
       "      <td>10x 3' v3</td>\n",
       "      <td>nucleus</td>\n",
       "      <td>brain</td>\n",
       "      <td>male</td>\n",
       "      <td>normal</td>\n",
       "      <td>3115.828938</td>\n",
       "    </tr>\n",
       "    <tr>\n",
       "      <th>8</th>\n",
       "      <td>classical monocyte</td>\n",
       "      <td>10x 5' v2</td>\n",
       "      <td>cell</td>\n",
       "      <td>blood</td>\n",
       "      <td>male</td>\n",
       "      <td>normal</td>\n",
       "      <td>3922.025000</td>\n",
       "    </tr>\n",
       "    <tr>\n",
       "      <th>9</th>\n",
       "      <td>non-classical monocyte</td>\n",
       "      <td>10x 5' v2</td>\n",
       "      <td>cell</td>\n",
       "      <td>blood</td>\n",
       "      <td>male</td>\n",
       "      <td>normal</td>\n",
       "      <td>8436.318182</td>\n",
       "    </tr>\n",
       "    <tr>\n",
       "      <th>10</th>\n",
       "      <td>natural killer cell</td>\n",
       "      <td>10x 5' v2</td>\n",
       "      <td>cell</td>\n",
       "      <td>blood</td>\n",
       "      <td>male</td>\n",
       "      <td>normal</td>\n",
       "      <td>2923.925418</td>\n",
       "    </tr>\n",
       "    <tr>\n",
       "      <th>11</th>\n",
       "      <td>CD4-positive, alpha-beta T cell</td>\n",
       "      <td>10x 5' v2</td>\n",
       "      <td>cell</td>\n",
       "      <td>blood</td>\n",
       "      <td>male</td>\n",
       "      <td>normal</td>\n",
       "      <td>3285.603705</td>\n",
       "    </tr>\n",
       "    <tr>\n",
       "      <th>12</th>\n",
       "      <td>CD8-positive, alpha-beta T cell</td>\n",
       "      <td>10x 5' v2</td>\n",
       "      <td>cell</td>\n",
       "      <td>blood</td>\n",
       "      <td>male</td>\n",
       "      <td>normal</td>\n",
       "      <td>3720.503504</td>\n",
       "    </tr>\n",
       "    <tr>\n",
       "      <th>13</th>\n",
       "      <td>CD8-positive, alpha-beta cytotoxic T cell</td>\n",
       "      <td>10x 5' v2</td>\n",
       "      <td>cell</td>\n",
       "      <td>blood</td>\n",
       "      <td>male</td>\n",
       "      <td>normal</td>\n",
       "      <td>5061.393152</td>\n",
       "    </tr>\n",
       "    <tr>\n",
       "      <th>14</th>\n",
       "      <td>CD8-positive, alpha-beta memory T cell</td>\n",
       "      <td>10x 5' v2</td>\n",
       "      <td>cell</td>\n",
       "      <td>blood</td>\n",
       "      <td>male</td>\n",
       "      <td>normal</td>\n",
       "      <td>5221.671616</td>\n",
       "    </tr>\n",
       "    <tr>\n",
       "      <th>15</th>\n",
       "      <td>naive thymus-derived CD4-positive, alpha-beta ...</td>\n",
       "      <td>10x 5' v2</td>\n",
       "      <td>cell</td>\n",
       "      <td>blood</td>\n",
       "      <td>male</td>\n",
       "      <td>normal</td>\n",
       "      <td>5649.398766</td>\n",
       "    </tr>\n",
       "    <tr>\n",
       "      <th>16</th>\n",
       "      <td>naive thymus-derived CD8-positive, alpha-beta ...</td>\n",
       "      <td>10x 5' v2</td>\n",
       "      <td>cell</td>\n",
       "      <td>blood</td>\n",
       "      <td>male</td>\n",
       "      <td>normal</td>\n",
       "      <td>6333.568573</td>\n",
       "    </tr>\n",
       "    <tr>\n",
       "      <th>17</th>\n",
       "      <td>naive B cell</td>\n",
       "      <td>10x 5' v2</td>\n",
       "      <td>cell</td>\n",
       "      <td>blood</td>\n",
       "      <td>male</td>\n",
       "      <td>normal</td>\n",
       "      <td>4984.057779</td>\n",
       "    </tr>\n",
       "    <tr>\n",
       "      <th>18</th>\n",
       "      <td>memory B cell</td>\n",
       "      <td>10x 5' v2</td>\n",
       "      <td>cell</td>\n",
       "      <td>blood</td>\n",
       "      <td>male</td>\n",
       "      <td>normal</td>\n",
       "      <td>6689.483383</td>\n",
       "    </tr>\n",
       "    <tr>\n",
       "      <th>19</th>\n",
       "      <td>regulatory T cell</td>\n",
       "      <td>10x 5' v2</td>\n",
       "      <td>cell</td>\n",
       "      <td>blood</td>\n",
       "      <td>male</td>\n",
       "      <td>normal</td>\n",
       "      <td>5216.285765</td>\n",
       "    </tr>\n",
       "    <tr>\n",
       "      <th>20</th>\n",
       "      <td>gamma-delta T cell</td>\n",
       "      <td>10x 5' v2</td>\n",
       "      <td>cell</td>\n",
       "      <td>blood</td>\n",
       "      <td>male</td>\n",
       "      <td>normal</td>\n",
       "      <td>4950.552077</td>\n",
       "    </tr>\n",
       "    <tr>\n",
       "      <th>21</th>\n",
       "      <td>conventional dendritic cell</td>\n",
       "      <td>10x 5' v2</td>\n",
       "      <td>cell</td>\n",
       "      <td>blood</td>\n",
       "      <td>male</td>\n",
       "      <td>normal</td>\n",
       "      <td>14936.870968</td>\n",
       "    </tr>\n",
       "    <tr>\n",
       "      <th>22</th>\n",
       "      <td>enterocyte</td>\n",
       "      <td>10x 3' v2</td>\n",
       "      <td>cell</td>\n",
       "      <td>small intestine</td>\n",
       "      <td>male</td>\n",
       "      <td>normal</td>\n",
       "      <td>8772.175057</td>\n",
       "    </tr>\n",
       "    <tr>\n",
       "      <th>23</th>\n",
       "      <td>endothelial cell</td>\n",
       "      <td>10x 3' v2</td>\n",
       "      <td>cell</td>\n",
       "      <td>small intestine</td>\n",
       "      <td>male</td>\n",
       "      <td>normal</td>\n",
       "      <td>10069.068281</td>\n",
       "    </tr>\n",
       "    <tr>\n",
       "      <th>24</th>\n",
       "      <td>enteroendocrine cell</td>\n",
       "      <td>10x 3' v2</td>\n",
       "      <td>cell</td>\n",
       "      <td>small intestine</td>\n",
       "      <td>male</td>\n",
       "      <td>normal</td>\n",
       "      <td>10636.632432</td>\n",
       "    </tr>\n",
       "    <tr>\n",
       "      <th>25</th>\n",
       "      <td>pericyte</td>\n",
       "      <td>10x 3' v2</td>\n",
       "      <td>cell</td>\n",
       "      <td>small intestine</td>\n",
       "      <td>male</td>\n",
       "      <td>normal</td>\n",
       "      <td>4604.858974</td>\n",
       "    </tr>\n",
       "    <tr>\n",
       "      <th>26</th>\n",
       "      <td>intestine goblet cell</td>\n",
       "      <td>10x 3' v2</td>\n",
       "      <td>cell</td>\n",
       "      <td>small intestine</td>\n",
       "      <td>male</td>\n",
       "      <td>normal</td>\n",
       "      <td>7435.644048</td>\n",
       "    </tr>\n",
       "    <tr>\n",
       "      <th>27</th>\n",
       "      <td>kidney collecting duct principal cell</td>\n",
       "      <td>10x 3' v3</td>\n",
       "      <td>nucleus</td>\n",
       "      <td>kidney</td>\n",
       "      <td>male</td>\n",
       "      <td>normal</td>\n",
       "      <td>6444.458460</td>\n",
       "    </tr>\n",
       "    <tr>\n",
       "      <th>28</th>\n",
       "      <td>kidney loop of Henle thin descending limb epit...</td>\n",
       "      <td>10x 3' v3</td>\n",
       "      <td>nucleus</td>\n",
       "      <td>kidney</td>\n",
       "      <td>male</td>\n",
       "      <td>normal</td>\n",
       "      <td>4345.735849</td>\n",
       "    </tr>\n",
       "    <tr>\n",
       "      <th>29</th>\n",
       "      <td>kidney loop of Henle thin ascending limb epith...</td>\n",
       "      <td>10x 3' v3</td>\n",
       "      <td>nucleus</td>\n",
       "      <td>kidney</td>\n",
       "      <td>male</td>\n",
       "      <td>normal</td>\n",
       "      <td>5964.088479</td>\n",
       "    </tr>\n",
       "    <tr>\n",
       "      <th>30</th>\n",
       "      <td>kidney loop of Henle thick ascending limb epit...</td>\n",
       "      <td>10x 3' v3</td>\n",
       "      <td>nucleus</td>\n",
       "      <td>kidney</td>\n",
       "      <td>male</td>\n",
       "      <td>normal</td>\n",
       "      <td>4911.535804</td>\n",
       "    </tr>\n",
       "    <tr>\n",
       "      <th>31</th>\n",
       "      <td>epithelial cell of proximal tubule</td>\n",
       "      <td>10x 3' v3</td>\n",
       "      <td>nucleus</td>\n",
       "      <td>kidney</td>\n",
       "      <td>male</td>\n",
       "      <td>normal</td>\n",
       "      <td>4491.198843</td>\n",
       "    </tr>\n",
       "    <tr>\n",
       "      <th>32</th>\n",
       "      <td>kidney collecting duct intercalated cell</td>\n",
       "      <td>10x 3' v3</td>\n",
       "      <td>nucleus</td>\n",
       "      <td>kidney</td>\n",
       "      <td>male</td>\n",
       "      <td>normal</td>\n",
       "      <td>4906.310584</td>\n",
       "    </tr>\n",
       "    <tr>\n",
       "      <th>33</th>\n",
       "      <td>renal interstitial pericyte</td>\n",
       "      <td>10x 3' v3</td>\n",
       "      <td>nucleus</td>\n",
       "      <td>kidney</td>\n",
       "      <td>male</td>\n",
       "      <td>normal</td>\n",
       "      <td>3130.350171</td>\n",
       "    </tr>\n",
       "    <tr>\n",
       "      <th>34</th>\n",
       "      <td>hepatic pit cell</td>\n",
       "      <td>10x 3' v2</td>\n",
       "      <td>cell</td>\n",
       "      <td>liver</td>\n",
       "      <td>male</td>\n",
       "      <td>normal</td>\n",
       "      <td>2761.142458</td>\n",
       "    </tr>\n",
       "    <tr>\n",
       "      <th>35</th>\n",
       "      <td>Kupffer cell</td>\n",
       "      <td>10x 3' v2</td>\n",
       "      <td>cell</td>\n",
       "      <td>liver</td>\n",
       "      <td>male</td>\n",
       "      <td>normal</td>\n",
       "      <td>6850.818612</td>\n",
       "    </tr>\n",
       "    <tr>\n",
       "      <th>36</th>\n",
       "      <td>hepatocyte</td>\n",
       "      <td>10x 3' v2</td>\n",
       "      <td>cell</td>\n",
       "      <td>liver</td>\n",
       "      <td>male</td>\n",
       "      <td>normal</td>\n",
       "      <td>11532.500000</td>\n",
       "    </tr>\n",
       "    <tr>\n",
       "      <th>37</th>\n",
       "      <td>periportal region hepatocyte</td>\n",
       "      <td>10x 3' v2</td>\n",
       "      <td>cell</td>\n",
       "      <td>liver</td>\n",
       "      <td>male</td>\n",
       "      <td>normal</td>\n",
       "      <td>4790.702890</td>\n",
       "    </tr>\n",
       "    <tr>\n",
       "      <th>38</th>\n",
       "      <td>centrilobular region hepatocyte</td>\n",
       "      <td>10x 3' v2</td>\n",
       "      <td>cell</td>\n",
       "      <td>liver</td>\n",
       "      <td>male</td>\n",
       "      <td>normal</td>\n",
       "      <td>9280.724561</td>\n",
       "    </tr>\n",
       "    <tr>\n",
       "      <th>39</th>\n",
       "      <td>endothelial cell of pericentral hepatic sinusoid</td>\n",
       "      <td>10x 3' v2</td>\n",
       "      <td>cell</td>\n",
       "      <td>liver</td>\n",
       "      <td>male</td>\n",
       "      <td>normal</td>\n",
       "      <td>2734.614608</td>\n",
       "    </tr>\n",
       "    <tr>\n",
       "      <th>40</th>\n",
       "      <td>endothelial cell of artery</td>\n",
       "      <td>10x 3' v2</td>\n",
       "      <td>cell</td>\n",
       "      <td>liver</td>\n",
       "      <td>male</td>\n",
       "      <td>normal</td>\n",
       "      <td>3987.627119</td>\n",
       "    </tr>\n",
       "    <tr>\n",
       "      <th>41</th>\n",
       "      <td>fibroblast</td>\n",
       "      <td>10x 3' v2</td>\n",
       "      <td>cell</td>\n",
       "      <td>liver</td>\n",
       "      <td>male</td>\n",
       "      <td>normal</td>\n",
       "      <td>7274.262295</td>\n",
       "    </tr>\n",
       "    <tr>\n",
       "      <th>42</th>\n",
       "      <td>intrahepatic cholangiocyte</td>\n",
       "      <td>10x 3' v2</td>\n",
       "      <td>cell</td>\n",
       "      <td>liver</td>\n",
       "      <td>male</td>\n",
       "      <td>normal</td>\n",
       "      <td>6998.971698</td>\n",
       "    </tr>\n",
       "    <tr>\n",
       "      <th>43</th>\n",
       "      <td>endothelial cell of hepatic sinusoid</td>\n",
       "      <td>10x 3' v2</td>\n",
       "      <td>cell</td>\n",
       "      <td>liver</td>\n",
       "      <td>male</td>\n",
       "      <td>normal</td>\n",
       "      <td>3836.788282</td>\n",
       "    </tr>\n",
       "    <tr>\n",
       "      <th>44</th>\n",
       "      <td>hepatic stellate cell</td>\n",
       "      <td>10x 3' v2</td>\n",
       "      <td>cell</td>\n",
       "      <td>liver</td>\n",
       "      <td>male</td>\n",
       "      <td>normal</td>\n",
       "      <td>4090.862637</td>\n",
       "    </tr>\n",
       "    <tr>\n",
       "      <th>45</th>\n",
       "      <td>alveolar macrophage</td>\n",
       "      <td>10x 5' v1</td>\n",
       "      <td>cell</td>\n",
       "      <td>lung</td>\n",
       "      <td>male</td>\n",
       "      <td>normal</td>\n",
       "      <td>8422.037378</td>\n",
       "    </tr>\n",
       "    <tr>\n",
       "      <th>46</th>\n",
       "      <td>type II pneumocyte</td>\n",
       "      <td>10x 5' v1</td>\n",
       "      <td>cell</td>\n",
       "      <td>lung</td>\n",
       "      <td>male</td>\n",
       "      <td>normal</td>\n",
       "      <td>6109.480329</td>\n",
       "    </tr>\n",
       "    <tr>\n",
       "      <th>47</th>\n",
       "      <td>capillary endothelial cell</td>\n",
       "      <td>10x 5' v1</td>\n",
       "      <td>cell</td>\n",
       "      <td>lung</td>\n",
       "      <td>male</td>\n",
       "      <td>normal</td>\n",
       "      <td>3094.649239</td>\n",
       "    </tr>\n",
       "    <tr>\n",
       "      <th>48</th>\n",
       "      <td>ciliated columnar cell of tracheobronchial tree</td>\n",
       "      <td>10x 5' v1</td>\n",
       "      <td>cell</td>\n",
       "      <td>lung</td>\n",
       "      <td>male</td>\n",
       "      <td>normal</td>\n",
       "      <td>5754.694686</td>\n",
       "    </tr>\n",
       "    <tr>\n",
       "      <th>49</th>\n",
       "      <td>type I pneumocyte</td>\n",
       "      <td>10x 5' v1</td>\n",
       "      <td>cell</td>\n",
       "      <td>lung</td>\n",
       "      <td>male</td>\n",
       "      <td>normal</td>\n",
       "      <td>2744.064915</td>\n",
       "    </tr>\n",
       "    <tr>\n",
       "      <th>50</th>\n",
       "      <td>epithelial cell of lower respiratory tract</td>\n",
       "      <td>10x 5' v1</td>\n",
       "      <td>cell</td>\n",
       "      <td>lung</td>\n",
       "      <td>male</td>\n",
       "      <td>normal</td>\n",
       "      <td>5956.795231</td>\n",
       "    </tr>\n",
       "    <tr>\n",
       "      <th>51</th>\n",
       "      <td>pulmonary interstitial fibroblast</td>\n",
       "      <td>10x 5' v1</td>\n",
       "      <td>cell</td>\n",
       "      <td>lung</td>\n",
       "      <td>male</td>\n",
       "      <td>normal</td>\n",
       "      <td>5294.602205</td>\n",
       "    </tr>\n",
       "    <tr>\n",
       "      <th>52</th>\n",
       "      <td>club cell</td>\n",
       "      <td>10x 5' v1</td>\n",
       "      <td>cell</td>\n",
       "      <td>lung</td>\n",
       "      <td>male</td>\n",
       "      <td>normal</td>\n",
       "      <td>9484.199912</td>\n",
       "    </tr>\n",
       "    <tr>\n",
       "      <th>53</th>\n",
       "      <td>pulmonary artery endothelial cell</td>\n",
       "      <td>10x 5' v1</td>\n",
       "      <td>cell</td>\n",
       "      <td>lung</td>\n",
       "      <td>male</td>\n",
       "      <td>normal</td>\n",
       "      <td>2321.547941</td>\n",
       "    </tr>\n",
       "    <tr>\n",
       "      <th>54</th>\n",
       "      <td>epithelial cell of lung</td>\n",
       "      <td>10x 5' v1</td>\n",
       "      <td>cell</td>\n",
       "      <td>lung</td>\n",
       "      <td>male</td>\n",
       "      <td>normal</td>\n",
       "      <td>15015.278925</td>\n",
       "    </tr>\n",
       "    <tr>\n",
       "      <th>55</th>\n",
       "      <td>fibroblast of lung</td>\n",
       "      <td>10x 5' v1</td>\n",
       "      <td>cell</td>\n",
       "      <td>lung</td>\n",
       "      <td>male</td>\n",
       "      <td>normal</td>\n",
       "      <td>6561.739316</td>\n",
       "    </tr>\n",
       "    <tr>\n",
       "      <th>56</th>\n",
       "      <td>cardiac muscle myoblast</td>\n",
       "      <td>10x 3' v3</td>\n",
       "      <td>nucleus</td>\n",
       "      <td>heart</td>\n",
       "      <td>male</td>\n",
       "      <td>normal</td>\n",
       "      <td>11938.346771</td>\n",
       "    </tr>\n",
       "    <tr>\n",
       "      <th>57</th>\n",
       "      <td>fibroblast of cardiac tissue</td>\n",
       "      <td>10x 3' v3</td>\n",
       "      <td>nucleus</td>\n",
       "      <td>heart</td>\n",
       "      <td>male</td>\n",
       "      <td>normal</td>\n",
       "      <td>3099.779698</td>\n",
       "    </tr>\n",
       "    <tr>\n",
       "      <th>58</th>\n",
       "      <td>cardiac endothelial cell</td>\n",
       "      <td>10x 3' v3</td>\n",
       "      <td>nucleus</td>\n",
       "      <td>heart</td>\n",
       "      <td>male</td>\n",
       "      <td>normal</td>\n",
       "      <td>2268.612916</td>\n",
       "    </tr>\n",
       "    <tr>\n",
       "      <th>59</th>\n",
       "      <td>cardiac muscle cell</td>\n",
       "      <td>10x 3' v3</td>\n",
       "      <td>nucleus</td>\n",
       "      <td>heart</td>\n",
       "      <td>male</td>\n",
       "      <td>normal</td>\n",
       "      <td>8017.024743</td>\n",
       "    </tr>\n",
       "    <tr>\n",
       "      <th>60</th>\n",
       "      <td>cardiac neuron</td>\n",
       "      <td>10x 3' v3</td>\n",
       "      <td>nucleus</td>\n",
       "      <td>heart</td>\n",
       "      <td>male</td>\n",
       "      <td>normal</td>\n",
       "      <td>2238.708571</td>\n",
       "    </tr>\n",
       "  </tbody>\n",
       "</table>\n",
       "</div>"
      ],
      "text/plain": [
       "                                            cell_type      assay  \\\n",
       "0                                    GABAergic neuron  10x 3' v3   \n",
       "1                                glutamatergic neuron  10x 3' v3   \n",
       "2                                           astrocyte  10x 3' v3   \n",
       "3                                     oligodendrocyte  10x 3' v3   \n",
       "4                      oligodendrocyte precursor cell  10x 3' v3   \n",
       "5                                     microglial cell  10x 3' v3   \n",
       "6                             cerebellar granule cell  10x 3' v3   \n",
       "7                                    endothelial cell  10x 3' v3   \n",
       "8                                  classical monocyte  10x 5' v2   \n",
       "9                              non-classical monocyte  10x 5' v2   \n",
       "10                                natural killer cell  10x 5' v2   \n",
       "11                    CD4-positive, alpha-beta T cell  10x 5' v2   \n",
       "12                    CD8-positive, alpha-beta T cell  10x 5' v2   \n",
       "13          CD8-positive, alpha-beta cytotoxic T cell  10x 5' v2   \n",
       "14             CD8-positive, alpha-beta memory T cell  10x 5' v2   \n",
       "15  naive thymus-derived CD4-positive, alpha-beta ...  10x 5' v2   \n",
       "16  naive thymus-derived CD8-positive, alpha-beta ...  10x 5' v2   \n",
       "17                                       naive B cell  10x 5' v2   \n",
       "18                                      memory B cell  10x 5' v2   \n",
       "19                                  regulatory T cell  10x 5' v2   \n",
       "20                                 gamma-delta T cell  10x 5' v2   \n",
       "21                        conventional dendritic cell  10x 5' v2   \n",
       "22                                         enterocyte  10x 3' v2   \n",
       "23                                   endothelial cell  10x 3' v2   \n",
       "24                               enteroendocrine cell  10x 3' v2   \n",
       "25                                           pericyte  10x 3' v2   \n",
       "26                              intestine goblet cell  10x 3' v2   \n",
       "27              kidney collecting duct principal cell  10x 3' v3   \n",
       "28  kidney loop of Henle thin descending limb epit...  10x 3' v3   \n",
       "29  kidney loop of Henle thin ascending limb epith...  10x 3' v3   \n",
       "30  kidney loop of Henle thick ascending limb epit...  10x 3' v3   \n",
       "31                 epithelial cell of proximal tubule  10x 3' v3   \n",
       "32           kidney collecting duct intercalated cell  10x 3' v3   \n",
       "33                        renal interstitial pericyte  10x 3' v3   \n",
       "34                                   hepatic pit cell  10x 3' v2   \n",
       "35                                       Kupffer cell  10x 3' v2   \n",
       "36                                         hepatocyte  10x 3' v2   \n",
       "37                       periportal region hepatocyte  10x 3' v2   \n",
       "38                    centrilobular region hepatocyte  10x 3' v2   \n",
       "39   endothelial cell of pericentral hepatic sinusoid  10x 3' v2   \n",
       "40                         endothelial cell of artery  10x 3' v2   \n",
       "41                                         fibroblast  10x 3' v2   \n",
       "42                         intrahepatic cholangiocyte  10x 3' v2   \n",
       "43               endothelial cell of hepatic sinusoid  10x 3' v2   \n",
       "44                              hepatic stellate cell  10x 3' v2   \n",
       "45                                alveolar macrophage  10x 5' v1   \n",
       "46                                 type II pneumocyte  10x 5' v1   \n",
       "47                         capillary endothelial cell  10x 5' v1   \n",
       "48    ciliated columnar cell of tracheobronchial tree  10x 5' v1   \n",
       "49                                  type I pneumocyte  10x 5' v1   \n",
       "50         epithelial cell of lower respiratory tract  10x 5' v1   \n",
       "51                  pulmonary interstitial fibroblast  10x 5' v1   \n",
       "52                                          club cell  10x 5' v1   \n",
       "53                  pulmonary artery endothelial cell  10x 5' v1   \n",
       "54                            epithelial cell of lung  10x 5' v1   \n",
       "55                                 fibroblast of lung  10x 5' v1   \n",
       "56                            cardiac muscle myoblast  10x 3' v3   \n",
       "57                       fibroblast of cardiac tissue  10x 3' v3   \n",
       "58                           cardiac endothelial cell  10x 3' v3   \n",
       "59                                cardiac muscle cell  10x 3' v3   \n",
       "60                                     cardiac neuron  10x 3' v3   \n",
       "\n",
       "   suspension_type           tissue   sex disease  total_mrna_umis  \n",
       "0          nucleus            brain  male  normal      5527.708887  \n",
       "1          nucleus            brain  male  normal     10683.399862  \n",
       "2          nucleus            brain  male  normal      5380.963698  \n",
       "3          nucleus            brain  male  normal      5083.603161  \n",
       "4          nucleus            brain  male  normal      6609.696174  \n",
       "5          nucleus            brain  male  normal      3645.962305  \n",
       "6          nucleus            brain  male  normal      3935.779702  \n",
       "7          nucleus            brain  male  normal      3115.828938  \n",
       "8             cell            blood  male  normal      3922.025000  \n",
       "9             cell            blood  male  normal      8436.318182  \n",
       "10            cell            blood  male  normal      2923.925418  \n",
       "11            cell            blood  male  normal      3285.603705  \n",
       "12            cell            blood  male  normal      3720.503504  \n",
       "13            cell            blood  male  normal      5061.393152  \n",
       "14            cell            blood  male  normal      5221.671616  \n",
       "15            cell            blood  male  normal      5649.398766  \n",
       "16            cell            blood  male  normal      6333.568573  \n",
       "17            cell            blood  male  normal      4984.057779  \n",
       "18            cell            blood  male  normal      6689.483383  \n",
       "19            cell            blood  male  normal      5216.285765  \n",
       "20            cell            blood  male  normal      4950.552077  \n",
       "21            cell            blood  male  normal     14936.870968  \n",
       "22            cell  small intestine  male  normal      8772.175057  \n",
       "23            cell  small intestine  male  normal     10069.068281  \n",
       "24            cell  small intestine  male  normal     10636.632432  \n",
       "25            cell  small intestine  male  normal      4604.858974  \n",
       "26            cell  small intestine  male  normal      7435.644048  \n",
       "27         nucleus           kidney  male  normal      6444.458460  \n",
       "28         nucleus           kidney  male  normal      4345.735849  \n",
       "29         nucleus           kidney  male  normal      5964.088479  \n",
       "30         nucleus           kidney  male  normal      4911.535804  \n",
       "31         nucleus           kidney  male  normal      4491.198843  \n",
       "32         nucleus           kidney  male  normal      4906.310584  \n",
       "33         nucleus           kidney  male  normal      3130.350171  \n",
       "34            cell            liver  male  normal      2761.142458  \n",
       "35            cell            liver  male  normal      6850.818612  \n",
       "36            cell            liver  male  normal     11532.500000  \n",
       "37            cell            liver  male  normal      4790.702890  \n",
       "38            cell            liver  male  normal      9280.724561  \n",
       "39            cell            liver  male  normal      2734.614608  \n",
       "40            cell            liver  male  normal      3987.627119  \n",
       "41            cell            liver  male  normal      7274.262295  \n",
       "42            cell            liver  male  normal      6998.971698  \n",
       "43            cell            liver  male  normal      3836.788282  \n",
       "44            cell            liver  male  normal      4090.862637  \n",
       "45            cell             lung  male  normal      8422.037378  \n",
       "46            cell             lung  male  normal      6109.480329  \n",
       "47            cell             lung  male  normal      3094.649239  \n",
       "48            cell             lung  male  normal      5754.694686  \n",
       "49            cell             lung  male  normal      2744.064915  \n",
       "50            cell             lung  male  normal      5956.795231  \n",
       "51            cell             lung  male  normal      5294.602205  \n",
       "52            cell             lung  male  normal      9484.199912  \n",
       "53            cell             lung  male  normal      2321.547941  \n",
       "54            cell             lung  male  normal     15015.278925  \n",
       "55            cell             lung  male  normal      6561.739316  \n",
       "56         nucleus            heart  male  normal     11938.346771  \n",
       "57         nucleus            heart  male  normal      3099.779698  \n",
       "58         nucleus            heart  male  normal      2268.612916  \n",
       "59         nucleus            heart  male  normal      8017.024743  \n",
       "60         nucleus            heart  male  normal      2238.708571  "
      ]
     },
     "metadata": {},
     "output_type": "display_data"
    }
   ],
   "source": [
    "# show the full dataframe\n",
    "with pd.option_context('display.max_rows', None, 'display.max_columns', None):\n",
    "    display(val_adata.obs)"
   ]
  },
  {
   "cell_type": "code",
   "execution_count": 7,
   "metadata": {},
   "outputs": [],
   "source": [
    "query_gene_ids = val_adata.var['feature_id'].values\n",
    "query_gene_symbols = val_adata.var['feature_name'].values"
   ]
  },
  {
   "cell_type": "code",
   "execution_count": 11,
   "metadata": {},
   "outputs": [
    {
     "data": {
      "application/vnd.jupyter.widget-view+json": {
       "model_id": "deaf06d7b49d41caa79c76b03ff65ad7",
       "version_major": 2,
       "version_minor": 0
      },
      "text/plain": [
       "  0%|          | 0/4 [00:00<?, ?it/s]"
      ]
     },
     "metadata": {},
     "output_type": "display_data"
    },
    {
     "data": {
      "application/vnd.jupyter.widget-view+json": {
       "model_id": "101e56e306934897bf2e251c84190922",
       "version_major": 2,
       "version_minor": 0
      },
      "text/plain": [
       "  0%|          | 0/61 [00:00<?, ?it/s]"
      ]
     },
     "metadata": {},
     "output_type": "display_data"
    },
    {
     "data": {
      "application/vnd.jupyter.widget-view+json": {
       "model_id": "c2812ed5ae6840dea09031e78e501987",
       "version_major": 2,
       "version_minor": 0
      },
      "text/plain": [
       "Processing gene chunks:   0%|          | 0/29 [00:00<?, ?it/s]"
      ]
     },
     "metadata": {},
     "output_type": "display_data"
    },
    {
     "data": {
      "application/vnd.jupyter.widget-view+json": {
       "model_id": "ae93cab9c0e442d28f26b10c946d0c4d",
       "version_major": 2,
       "version_minor": 0
      },
      "text/plain": [
       "Processing gene chunks:   0%|          | 0/29 [00:00<?, ?it/s]"
      ]
     },
     "metadata": {},
     "output_type": "display_data"
    },
    {
     "data": {
      "application/vnd.jupyter.widget-view+json": {
       "model_id": "614f65274378416fa6bb408999917d76",
       "version_major": 2,
       "version_minor": 0
      },
      "text/plain": [
       "Processing gene chunks:   0%|          | 0/29 [00:00<?, ?it/s]"
      ]
     },
     "metadata": {},
     "output_type": "display_data"
    },
    {
     "data": {
      "application/vnd.jupyter.widget-view+json": {
       "model_id": "92c1851b3d884776b751edfbf5effa32",
       "version_major": 2,
       "version_minor": 0
      },
      "text/plain": [
       "Processing gene chunks:   0%|          | 0/29 [00:00<?, ?it/s]"
      ]
     },
     "metadata": {},
     "output_type": "display_data"
    },
    {
     "data": {
      "application/vnd.jupyter.widget-view+json": {
       "model_id": "1a858f4119884de88033bf53691e0c47",
       "version_major": 2,
       "version_minor": 0
      },
      "text/plain": [
       "Processing gene chunks:   0%|          | 0/29 [00:00<?, ?it/s]"
      ]
     },
     "metadata": {},
     "output_type": "display_data"
    },
    {
     "data": {
      "application/vnd.jupyter.widget-view+json": {
       "model_id": "5f3e83a1ebd747029c916223866da416",
       "version_major": 2,
       "version_minor": 0
      },
      "text/plain": [
       "Processing gene chunks:   0%|          | 0/29 [00:00<?, ?it/s]"
      ]
     },
     "metadata": {},
     "output_type": "display_data"
    },
    {
     "data": {
      "application/vnd.jupyter.widget-view+json": {
       "model_id": "30ef490408844e48bd2a814ce6b2f948",
       "version_major": 2,
       "version_minor": 0
      },
      "text/plain": [
       "Processing gene chunks:   0%|          | 0/29 [00:00<?, ?it/s]"
      ]
     },
     "metadata": {},
     "output_type": "display_data"
    },
    {
     "data": {
      "application/vnd.jupyter.widget-view+json": {
       "model_id": "8edde351bd484f3fb1448df80b5ef807",
       "version_major": 2,
       "version_minor": 0
      },
      "text/plain": [
       "Processing gene chunks:   0%|          | 0/29 [00:00<?, ?it/s]"
      ]
     },
     "metadata": {},
     "output_type": "display_data"
    },
    {
     "data": {
      "application/vnd.jupyter.widget-view+json": {
       "model_id": "87263a07a9f54d86af40e12289872a83",
       "version_major": 2,
       "version_minor": 0
      },
      "text/plain": [
       "Processing gene chunks:   0%|          | 0/29 [00:00<?, ?it/s]"
      ]
     },
     "metadata": {},
     "output_type": "display_data"
    },
    {
     "data": {
      "application/vnd.jupyter.widget-view+json": {
       "model_id": "63e4218dab2d4181a6c2e2ad5364b04f",
       "version_major": 2,
       "version_minor": 0
      },
      "text/plain": [
       "Processing gene chunks:   0%|          | 0/29 [00:00<?, ?it/s]"
      ]
     },
     "metadata": {},
     "output_type": "display_data"
    },
    {
     "data": {
      "application/vnd.jupyter.widget-view+json": {
       "model_id": "f61c1c5ad4af48f6976df57839290842",
       "version_major": 2,
       "version_minor": 0
      },
      "text/plain": [
       "Processing gene chunks:   0%|          | 0/29 [00:00<?, ?it/s]"
      ]
     },
     "metadata": {},
     "output_type": "display_data"
    },
    {
     "data": {
      "application/vnd.jupyter.widget-view+json": {
       "model_id": "c2769db7cc7f4adaa4a5bf45b3d06d68",
       "version_major": 2,
       "version_minor": 0
      },
      "text/plain": [
       "Processing gene chunks:   0%|          | 0/29 [00:00<?, ?it/s]"
      ]
     },
     "metadata": {},
     "output_type": "display_data"
    },
    {
     "data": {
      "application/vnd.jupyter.widget-view+json": {
       "model_id": "c57bcbd2a36645e0af88d84c511ce668",
       "version_major": 2,
       "version_minor": 0
      },
      "text/plain": [
       "Processing gene chunks:   0%|          | 0/29 [00:00<?, ?it/s]"
      ]
     },
     "metadata": {},
     "output_type": "display_data"
    },
    {
     "data": {
      "application/vnd.jupyter.widget-view+json": {
       "model_id": "738f0cb4e21a409082aa39e557f89a4b",
       "version_major": 2,
       "version_minor": 0
      },
      "text/plain": [
       "Processing gene chunks:   0%|          | 0/29 [00:00<?, ?it/s]"
      ]
     },
     "metadata": {},
     "output_type": "display_data"
    },
    {
     "data": {
      "application/vnd.jupyter.widget-view+json": {
       "model_id": "13fdb373419b4fbb998c063b74cb47e8",
       "version_major": 2,
       "version_minor": 0
      },
      "text/plain": [
       "Processing gene chunks:   0%|          | 0/29 [00:00<?, ?it/s]"
      ]
     },
     "metadata": {},
     "output_type": "display_data"
    },
    {
     "data": {
      "application/vnd.jupyter.widget-view+json": {
       "model_id": "ffec338c552643f4be33c757b7c1a69e",
       "version_major": 2,
       "version_minor": 0
      },
      "text/plain": [
       "Processing gene chunks:   0%|          | 0/29 [00:00<?, ?it/s]"
      ]
     },
     "metadata": {},
     "output_type": "display_data"
    },
    {
     "data": {
      "application/vnd.jupyter.widget-view+json": {
       "model_id": "98b9a039a26a4da5aece45512ce1452e",
       "version_major": 2,
       "version_minor": 0
      },
      "text/plain": [
       "Processing gene chunks:   0%|          | 0/29 [00:00<?, ?it/s]"
      ]
     },
     "metadata": {},
     "output_type": "display_data"
    },
    {
     "data": {
      "application/vnd.jupyter.widget-view+json": {
       "model_id": "7debad0d6f2a49b8b53218b30ee169e9",
       "version_major": 2,
       "version_minor": 0
      },
      "text/plain": [
       "Processing gene chunks:   0%|          | 0/29 [00:00<?, ?it/s]"
      ]
     },
     "metadata": {},
     "output_type": "display_data"
    },
    {
     "data": {
      "application/vnd.jupyter.widget-view+json": {
       "model_id": "e1dbb97d09b441ce8d44dc4a12bc256b",
       "version_major": 2,
       "version_minor": 0
      },
      "text/plain": [
       "Processing gene chunks:   0%|          | 0/29 [00:00<?, ?it/s]"
      ]
     },
     "metadata": {},
     "output_type": "display_data"
    },
    {
     "data": {
      "application/vnd.jupyter.widget-view+json": {
       "model_id": "37e5f4f2d5444cbf83913382c4c3cbfa",
       "version_major": 2,
       "version_minor": 0
      },
      "text/plain": [
       "Processing gene chunks:   0%|          | 0/29 [00:00<?, ?it/s]"
      ]
     },
     "metadata": {},
     "output_type": "display_data"
    },
    {
     "data": {
      "application/vnd.jupyter.widget-view+json": {
       "model_id": "63d7155e5f6e41499f5c44d2a4bfa66a",
       "version_major": 2,
       "version_minor": 0
      },
      "text/plain": [
       "Processing gene chunks:   0%|          | 0/29 [00:00<?, ?it/s]"
      ]
     },
     "metadata": {},
     "output_type": "display_data"
    },
    {
     "data": {
      "application/vnd.jupyter.widget-view+json": {
       "model_id": "220fa139676948b98c354e5f22e61fd5",
       "version_major": 2,
       "version_minor": 0
      },
      "text/plain": [
       "Processing gene chunks:   0%|          | 0/29 [00:00<?, ?it/s]"
      ]
     },
     "metadata": {},
     "output_type": "display_data"
    },
    {
     "data": {
      "application/vnd.jupyter.widget-view+json": {
       "model_id": "902416c6a02f44f98aadf18e4d0c6541",
       "version_major": 2,
       "version_minor": 0
      },
      "text/plain": [
       "Processing gene chunks:   0%|          | 0/29 [00:00<?, ?it/s]"
      ]
     },
     "metadata": {},
     "output_type": "display_data"
    },
    {
     "data": {
      "application/vnd.jupyter.widget-view+json": {
       "model_id": "ddba32bf9cfb4fec8d24fc6e39c3d5bb",
       "version_major": 2,
       "version_minor": 0
      },
      "text/plain": [
       "Processing gene chunks:   0%|          | 0/29 [00:00<?, ?it/s]"
      ]
     },
     "metadata": {},
     "output_type": "display_data"
    },
    {
     "data": {
      "application/vnd.jupyter.widget-view+json": {
       "model_id": "365e9ca236ce4dd4b7e1600f9c248875",
       "version_major": 2,
       "version_minor": 0
      },
      "text/plain": [
       "Processing gene chunks:   0%|          | 0/29 [00:00<?, ?it/s]"
      ]
     },
     "metadata": {},
     "output_type": "display_data"
    },
    {
     "data": {
      "application/vnd.jupyter.widget-view+json": {
       "model_id": "84ed991c87b2484286c3d877807fad04",
       "version_major": 2,
       "version_minor": 0
      },
      "text/plain": [
       "Processing gene chunks:   0%|          | 0/29 [00:00<?, ?it/s]"
      ]
     },
     "metadata": {},
     "output_type": "display_data"
    },
    {
     "data": {
      "application/vnd.jupyter.widget-view+json": {
       "model_id": "2b31b9a089b34c9ca9b5d80e7e7be8bb",
       "version_major": 2,
       "version_minor": 0
      },
      "text/plain": [
       "Processing gene chunks:   0%|          | 0/29 [00:00<?, ?it/s]"
      ]
     },
     "metadata": {},
     "output_type": "display_data"
    },
    {
     "data": {
      "application/vnd.jupyter.widget-view+json": {
       "model_id": "fb6ffabce6594340abaafd416a2958ea",
       "version_major": 2,
       "version_minor": 0
      },
      "text/plain": [
       "Processing gene chunks:   0%|          | 0/29 [00:00<?, ?it/s]"
      ]
     },
     "metadata": {},
     "output_type": "display_data"
    },
    {
     "data": {
      "application/vnd.jupyter.widget-view+json": {
       "model_id": "d6c4c006380641d0b9f15c665bf56ed7",
       "version_major": 2,
       "version_minor": 0
      },
      "text/plain": [
       "Processing gene chunks:   0%|          | 0/29 [00:00<?, ?it/s]"
      ]
     },
     "metadata": {},
     "output_type": "display_data"
    },
    {
     "data": {
      "application/vnd.jupyter.widget-view+json": {
       "model_id": "3bf1d75f2f4a454f9475b23b1641b542",
       "version_major": 2,
       "version_minor": 0
      },
      "text/plain": [
       "Processing gene chunks:   0%|          | 0/29 [00:00<?, ?it/s]"
      ]
     },
     "metadata": {},
     "output_type": "display_data"
    },
    {
     "data": {
      "application/vnd.jupyter.widget-view+json": {
       "model_id": "b9b03bd229bc42ffb78238dc15e147a1",
       "version_major": 2,
       "version_minor": 0
      },
      "text/plain": [
       "Processing gene chunks:   0%|          | 0/29 [00:00<?, ?it/s]"
      ]
     },
     "metadata": {},
     "output_type": "display_data"
    },
    {
     "data": {
      "application/vnd.jupyter.widget-view+json": {
       "model_id": "d19ffef223804765abad7a4709f75b3c",
       "version_major": 2,
       "version_minor": 0
      },
      "text/plain": [
       "Processing gene chunks:   0%|          | 0/29 [00:00<?, ?it/s]"
      ]
     },
     "metadata": {},
     "output_type": "display_data"
    },
    {
     "data": {
      "application/vnd.jupyter.widget-view+json": {
       "model_id": "03d2a59783494310a55b9e04b45701fd",
       "version_major": 2,
       "version_minor": 0
      },
      "text/plain": [
       "Processing gene chunks:   0%|          | 0/29 [00:00<?, ?it/s]"
      ]
     },
     "metadata": {},
     "output_type": "display_data"
    },
    {
     "data": {
      "application/vnd.jupyter.widget-view+json": {
       "model_id": "a6801d224e96444eacbe239cc3d5b603",
       "version_major": 2,
       "version_minor": 0
      },
      "text/plain": [
       "Processing gene chunks:   0%|          | 0/29 [00:00<?, ?it/s]"
      ]
     },
     "metadata": {},
     "output_type": "display_data"
    },
    {
     "data": {
      "application/vnd.jupyter.widget-view+json": {
       "model_id": "d0e149b42fe54cadbe5da5bdb6ca1ee5",
       "version_major": 2,
       "version_minor": 0
      },
      "text/plain": [
       "Processing gene chunks:   0%|          | 0/29 [00:00<?, ?it/s]"
      ]
     },
     "metadata": {},
     "output_type": "display_data"
    },
    {
     "data": {
      "application/vnd.jupyter.widget-view+json": {
       "model_id": "3784dcb3cc65422d88a31830887a8841",
       "version_major": 2,
       "version_minor": 0
      },
      "text/plain": [
       "Processing gene chunks:   0%|          | 0/29 [00:00<?, ?it/s]"
      ]
     },
     "metadata": {},
     "output_type": "display_data"
    },
    {
     "data": {
      "application/vnd.jupyter.widget-view+json": {
       "model_id": "db4eeaecda4a4185aa61b3622f240bbc",
       "version_major": 2,
       "version_minor": 0
      },
      "text/plain": [
       "Processing gene chunks:   0%|          | 0/29 [00:00<?, ?it/s]"
      ]
     },
     "metadata": {},
     "output_type": "display_data"
    },
    {
     "data": {
      "application/vnd.jupyter.widget-view+json": {
       "model_id": "b91ee43a66f14c6f9bca577f53280138",
       "version_major": 2,
       "version_minor": 0
      },
      "text/plain": [
       "Processing gene chunks:   0%|          | 0/29 [00:00<?, ?it/s]"
      ]
     },
     "metadata": {},
     "output_type": "display_data"
    },
    {
     "data": {
      "application/vnd.jupyter.widget-view+json": {
       "model_id": "1d39c5e9f8c84cc8aa3dbd25ebfc0739",
       "version_major": 2,
       "version_minor": 0
      },
      "text/plain": [
       "Processing gene chunks:   0%|          | 0/29 [00:00<?, ?it/s]"
      ]
     },
     "metadata": {},
     "output_type": "display_data"
    },
    {
     "data": {
      "application/vnd.jupyter.widget-view+json": {
       "model_id": "b4a7929a574347b08c7d9a9d919e9adc",
       "version_major": 2,
       "version_minor": 0
      },
      "text/plain": [
       "Processing gene chunks:   0%|          | 0/29 [00:00<?, ?it/s]"
      ]
     },
     "metadata": {},
     "output_type": "display_data"
    },
    {
     "data": {
      "application/vnd.jupyter.widget-view+json": {
       "model_id": "f337cd862bae4d449517cccb4fbb9219",
       "version_major": 2,
       "version_minor": 0
      },
      "text/plain": [
       "Processing gene chunks:   0%|          | 0/29 [00:00<?, ?it/s]"
      ]
     },
     "metadata": {},
     "output_type": "display_data"
    },
    {
     "data": {
      "application/vnd.jupyter.widget-view+json": {
       "model_id": "479ab355f87a456c94bf51532c39a091",
       "version_major": 2,
       "version_minor": 0
      },
      "text/plain": [
       "Processing gene chunks:   0%|          | 0/29 [00:00<?, ?it/s]"
      ]
     },
     "metadata": {},
     "output_type": "display_data"
    },
    {
     "data": {
      "application/vnd.jupyter.widget-view+json": {
       "model_id": "b939c136bd4c4252a81b1cfde8da3a93",
       "version_major": 2,
       "version_minor": 0
      },
      "text/plain": [
       "Processing gene chunks:   0%|          | 0/29 [00:00<?, ?it/s]"
      ]
     },
     "metadata": {},
     "output_type": "display_data"
    },
    {
     "data": {
      "application/vnd.jupyter.widget-view+json": {
       "model_id": "37c0c604e1104e1a9261fbf6a207b56c",
       "version_major": 2,
       "version_minor": 0
      },
      "text/plain": [
       "Processing gene chunks:   0%|          | 0/29 [00:00<?, ?it/s]"
      ]
     },
     "metadata": {},
     "output_type": "display_data"
    },
    {
     "data": {
      "application/vnd.jupyter.widget-view+json": {
       "model_id": "5a5602d6e18c4a579c134daf2b67545e",
       "version_major": 2,
       "version_minor": 0
      },
      "text/plain": [
       "Processing gene chunks:   0%|          | 0/29 [00:00<?, ?it/s]"
      ]
     },
     "metadata": {},
     "output_type": "display_data"
    },
    {
     "data": {
      "application/vnd.jupyter.widget-view+json": {
       "model_id": "7ce5026076e441e2a36665068eb19ec6",
       "version_major": 2,
       "version_minor": 0
      },
      "text/plain": [
       "Processing gene chunks:   0%|          | 0/29 [00:00<?, ?it/s]"
      ]
     },
     "metadata": {},
     "output_type": "display_data"
    },
    {
     "data": {
      "application/vnd.jupyter.widget-view+json": {
       "model_id": "03ba6438e2674797ae6c9627af6d41c0",
       "version_major": 2,
       "version_minor": 0
      },
      "text/plain": [
       "Processing gene chunks:   0%|          | 0/29 [00:00<?, ?it/s]"
      ]
     },
     "metadata": {},
     "output_type": "display_data"
    },
    {
     "data": {
      "application/vnd.jupyter.widget-view+json": {
       "model_id": "dc99106879dc451f889beae1a5831791",
       "version_major": 2,
       "version_minor": 0
      },
      "text/plain": [
       "Processing gene chunks:   0%|          | 0/29 [00:00<?, ?it/s]"
      ]
     },
     "metadata": {},
     "output_type": "display_data"
    },
    {
     "data": {
      "application/vnd.jupyter.widget-view+json": {
       "model_id": "51e6801e1bd74a918ab68d713b23d944",
       "version_major": 2,
       "version_minor": 0
      },
      "text/plain": [
       "Processing gene chunks:   0%|          | 0/29 [00:00<?, ?it/s]"
      ]
     },
     "metadata": {},
     "output_type": "display_data"
    },
    {
     "data": {
      "application/vnd.jupyter.widget-view+json": {
       "model_id": "edd1802acd724adab970053cbdbd477f",
       "version_major": 2,
       "version_minor": 0
      },
      "text/plain": [
       "Processing gene chunks:   0%|          | 0/29 [00:00<?, ?it/s]"
      ]
     },
     "metadata": {},
     "output_type": "display_data"
    },
    {
     "data": {
      "application/vnd.jupyter.widget-view+json": {
       "model_id": "cb5a5aa00dda40fea0a0f5b05cc4e8f3",
       "version_major": 2,
       "version_minor": 0
      },
      "text/plain": [
       "Processing gene chunks:   0%|          | 0/29 [00:00<?, ?it/s]"
      ]
     },
     "metadata": {},
     "output_type": "display_data"
    },
    {
     "data": {
      "application/vnd.jupyter.widget-view+json": {
       "model_id": "d04f3feeefca486884f49447403981e7",
       "version_major": 2,
       "version_minor": 0
      },
      "text/plain": [
       "Processing gene chunks:   0%|          | 0/29 [00:00<?, ?it/s]"
      ]
     },
     "metadata": {},
     "output_type": "display_data"
    },
    {
     "data": {
      "application/vnd.jupyter.widget-view+json": {
       "model_id": "32b39ebd1a664b5aab2f16d0d9420d73",
       "version_major": 2,
       "version_minor": 0
      },
      "text/plain": [
       "Processing gene chunks:   0%|          | 0/29 [00:00<?, ?it/s]"
      ]
     },
     "metadata": {},
     "output_type": "display_data"
    },
    {
     "data": {
      "application/vnd.jupyter.widget-view+json": {
       "model_id": "8dec7d57f2c24b5da1d6ada3a36defbe",
       "version_major": 2,
       "version_minor": 0
      },
      "text/plain": [
       "Processing gene chunks:   0%|          | 0/29 [00:00<?, ?it/s]"
      ]
     },
     "metadata": {},
     "output_type": "display_data"
    },
    {
     "data": {
      "application/vnd.jupyter.widget-view+json": {
       "model_id": "8f50761b7afb4e20bb778695dd85b4b7",
       "version_major": 2,
       "version_minor": 0
      },
      "text/plain": [
       "Processing gene chunks:   0%|          | 0/29 [00:00<?, ?it/s]"
      ]
     },
     "metadata": {},
     "output_type": "display_data"
    },
    {
     "data": {
      "application/vnd.jupyter.widget-view+json": {
       "model_id": "e6bb5d67536143169dc029e9d1edb16c",
       "version_major": 2,
       "version_minor": 0
      },
      "text/plain": [
       "Processing gene chunks:   0%|          | 0/29 [00:00<?, ?it/s]"
      ]
     },
     "metadata": {},
     "output_type": "display_data"
    },
    {
     "data": {
      "application/vnd.jupyter.widget-view+json": {
       "model_id": "deab0a58cb9448e29f46d32efb8c3f53",
       "version_major": 2,
       "version_minor": 0
      },
      "text/plain": [
       "Processing gene chunks:   0%|          | 0/29 [00:00<?, ?it/s]"
      ]
     },
     "metadata": {},
     "output_type": "display_data"
    },
    {
     "data": {
      "application/vnd.jupyter.widget-view+json": {
       "model_id": "1bb75e3810414792bee2684ebc54b664",
       "version_major": 2,
       "version_minor": 0
      },
      "text/plain": [
       "Processing gene chunks:   0%|          | 0/29 [00:00<?, ?it/s]"
      ]
     },
     "metadata": {},
     "output_type": "display_data"
    },
    {
     "data": {
      "application/vnd.jupyter.widget-view+json": {
       "model_id": "9a1c9fed1f194beb82ca6161bda2b9b8",
       "version_major": 2,
       "version_minor": 0
      },
      "text/plain": [
       "Processing gene chunks:   0%|          | 0/29 [00:00<?, ?it/s]"
      ]
     },
     "metadata": {},
     "output_type": "display_data"
    },
    {
     "data": {
      "application/vnd.jupyter.widget-view+json": {
       "model_id": "43b204f0a7184319a2cf815c4394f083",
       "version_major": 2,
       "version_minor": 0
      },
      "text/plain": [
       "Processing gene chunks:   0%|          | 0/29 [00:00<?, ?it/s]"
      ]
     },
     "metadata": {},
     "output_type": "display_data"
    },
    {
     "data": {
      "application/vnd.jupyter.widget-view+json": {
       "model_id": "c700b126d010473198b80544817fd36c",
       "version_major": 2,
       "version_minor": 0
      },
      "text/plain": [
       "Processing gene chunks:   0%|          | 0/29 [00:00<?, ?it/s]"
      ]
     },
     "metadata": {},
     "output_type": "display_data"
    },
    {
     "data": {
      "application/vnd.jupyter.widget-view+json": {
       "model_id": "296ad0fbbb1c4ea68b6f483ba01b7ea3",
       "version_major": 2,
       "version_minor": 0
      },
      "text/plain": [
       "  0%|          | 0/61 [00:00<?, ?it/s]"
      ]
     },
     "metadata": {},
     "output_type": "display_data"
    },
    {
     "data": {
      "application/vnd.jupyter.widget-view+json": {
       "model_id": "16c67010a1114404a6d777b1b4339946",
       "version_major": 2,
       "version_minor": 0
      },
      "text/plain": [
       "Processing gene chunks:   0%|          | 0/29 [00:00<?, ?it/s]"
      ]
     },
     "metadata": {},
     "output_type": "display_data"
    },
    {
     "data": {
      "application/vnd.jupyter.widget-view+json": {
       "model_id": "3707da7d0fa647d589880baf9ac94932",
       "version_major": 2,
       "version_minor": 0
      },
      "text/plain": [
       "Processing gene chunks:   0%|          | 0/29 [00:00<?, ?it/s]"
      ]
     },
     "metadata": {},
     "output_type": "display_data"
    },
    {
     "data": {
      "application/vnd.jupyter.widget-view+json": {
       "model_id": "bd545955c55a4b19bdbf8d63e6a3bbe2",
       "version_major": 2,
       "version_minor": 0
      },
      "text/plain": [
       "Processing gene chunks:   0%|          | 0/29 [00:00<?, ?it/s]"
      ]
     },
     "metadata": {},
     "output_type": "display_data"
    },
    {
     "data": {
      "application/vnd.jupyter.widget-view+json": {
       "model_id": "0af24a9f370e4f1f8fde20530b95d645",
       "version_major": 2,
       "version_minor": 0
      },
      "text/plain": [
       "Processing gene chunks:   0%|          | 0/29 [00:00<?, ?it/s]"
      ]
     },
     "metadata": {},
     "output_type": "display_data"
    },
    {
     "data": {
      "application/vnd.jupyter.widget-view+json": {
       "model_id": "e06ba5be9052411e96e6c6f79c63dc91",
       "version_major": 2,
       "version_minor": 0
      },
      "text/plain": [
       "Processing gene chunks:   0%|          | 0/29 [00:00<?, ?it/s]"
      ]
     },
     "metadata": {},
     "output_type": "display_data"
    },
    {
     "data": {
      "application/vnd.jupyter.widget-view+json": {
       "model_id": "da7cd293cca54de6b9a62245b6513d86",
       "version_major": 2,
       "version_minor": 0
      },
      "text/plain": [
       "Processing gene chunks:   0%|          | 0/29 [00:00<?, ?it/s]"
      ]
     },
     "metadata": {},
     "output_type": "display_data"
    },
    {
     "data": {
      "application/vnd.jupyter.widget-view+json": {
       "model_id": "6f2444cab3fc498ca24b08f69567b553",
       "version_major": 2,
       "version_minor": 0
      },
      "text/plain": [
       "Processing gene chunks:   0%|          | 0/29 [00:00<?, ?it/s]"
      ]
     },
     "metadata": {},
     "output_type": "display_data"
    },
    {
     "data": {
      "application/vnd.jupyter.widget-view+json": {
       "model_id": "63f0ec5b2c5f488b81b63cfe9e198ead",
       "version_major": 2,
       "version_minor": 0
      },
      "text/plain": [
       "Processing gene chunks:   0%|          | 0/29 [00:00<?, ?it/s]"
      ]
     },
     "metadata": {},
     "output_type": "display_data"
    },
    {
     "data": {
      "application/vnd.jupyter.widget-view+json": {
       "model_id": "964b83ed9046490c9de113834e5cc0cd",
       "version_major": 2,
       "version_minor": 0
      },
      "text/plain": [
       "Processing gene chunks:   0%|          | 0/29 [00:00<?, ?it/s]"
      ]
     },
     "metadata": {},
     "output_type": "display_data"
    },
    {
     "data": {
      "application/vnd.jupyter.widget-view+json": {
       "model_id": "78a003cea60d4046ac8abfbc7bbf27ec",
       "version_major": 2,
       "version_minor": 0
      },
      "text/plain": [
       "Processing gene chunks:   0%|          | 0/29 [00:00<?, ?it/s]"
      ]
     },
     "metadata": {},
     "output_type": "display_data"
    },
    {
     "data": {
      "application/vnd.jupyter.widget-view+json": {
       "model_id": "702c0ac176cd4a8e94854b5557dba81d",
       "version_major": 2,
       "version_minor": 0
      },
      "text/plain": [
       "Processing gene chunks:   0%|          | 0/29 [00:00<?, ?it/s]"
      ]
     },
     "metadata": {},
     "output_type": "display_data"
    },
    {
     "data": {
      "application/vnd.jupyter.widget-view+json": {
       "model_id": "dd96e77c9cba42a5aabf4661f8d82943",
       "version_major": 2,
       "version_minor": 0
      },
      "text/plain": [
       "Processing gene chunks:   0%|          | 0/29 [00:00<?, ?it/s]"
      ]
     },
     "metadata": {},
     "output_type": "display_data"
    },
    {
     "data": {
      "application/vnd.jupyter.widget-view+json": {
       "model_id": "d0725656edb44f1db7ac6d72bfe347cc",
       "version_major": 2,
       "version_minor": 0
      },
      "text/plain": [
       "Processing gene chunks:   0%|          | 0/29 [00:00<?, ?it/s]"
      ]
     },
     "metadata": {},
     "output_type": "display_data"
    },
    {
     "data": {
      "application/vnd.jupyter.widget-view+json": {
       "model_id": "89313b77cf134965b358185e0c081128",
       "version_major": 2,
       "version_minor": 0
      },
      "text/plain": [
       "Processing gene chunks:   0%|          | 0/29 [00:00<?, ?it/s]"
      ]
     },
     "metadata": {},
     "output_type": "display_data"
    },
    {
     "data": {
      "application/vnd.jupyter.widget-view+json": {
       "model_id": "df08b08473ca451f8656c8c7733e2648",
       "version_major": 2,
       "version_minor": 0
      },
      "text/plain": [
       "Processing gene chunks:   0%|          | 0/29 [00:00<?, ?it/s]"
      ]
     },
     "metadata": {},
     "output_type": "display_data"
    },
    {
     "data": {
      "application/vnd.jupyter.widget-view+json": {
       "model_id": "c650f220a5304228914eb114c600cf66",
       "version_major": 2,
       "version_minor": 0
      },
      "text/plain": [
       "Processing gene chunks:   0%|          | 0/29 [00:00<?, ?it/s]"
      ]
     },
     "metadata": {},
     "output_type": "display_data"
    },
    {
     "data": {
      "application/vnd.jupyter.widget-view+json": {
       "model_id": "c52165b14c374dfabef22c62e9991c0b",
       "version_major": 2,
       "version_minor": 0
      },
      "text/plain": [
       "Processing gene chunks:   0%|          | 0/29 [00:00<?, ?it/s]"
      ]
     },
     "metadata": {},
     "output_type": "display_data"
    },
    {
     "data": {
      "application/vnd.jupyter.widget-view+json": {
       "model_id": "f6d0fa28029741659e89172e51bee3d6",
       "version_major": 2,
       "version_minor": 0
      },
      "text/plain": [
       "Processing gene chunks:   0%|          | 0/29 [00:00<?, ?it/s]"
      ]
     },
     "metadata": {},
     "output_type": "display_data"
    },
    {
     "data": {
      "application/vnd.jupyter.widget-view+json": {
       "model_id": "cf06bf3abbbe42e69d9bef76496bd12e",
       "version_major": 2,
       "version_minor": 0
      },
      "text/plain": [
       "Processing gene chunks:   0%|          | 0/29 [00:00<?, ?it/s]"
      ]
     },
     "metadata": {},
     "output_type": "display_data"
    },
    {
     "data": {
      "application/vnd.jupyter.widget-view+json": {
       "model_id": "732cf4692d60466db6b34287087fa481",
       "version_major": 2,
       "version_minor": 0
      },
      "text/plain": [
       "Processing gene chunks:   0%|          | 0/29 [00:00<?, ?it/s]"
      ]
     },
     "metadata": {},
     "output_type": "display_data"
    },
    {
     "data": {
      "application/vnd.jupyter.widget-view+json": {
       "model_id": "1a3c166c1e584a28b1ec47315b75cf47",
       "version_major": 2,
       "version_minor": 0
      },
      "text/plain": [
       "Processing gene chunks:   0%|          | 0/29 [00:00<?, ?it/s]"
      ]
     },
     "metadata": {},
     "output_type": "display_data"
    },
    {
     "data": {
      "application/vnd.jupyter.widget-view+json": {
       "model_id": "3538f13912d745199cb26b679b73a82e",
       "version_major": 2,
       "version_minor": 0
      },
      "text/plain": [
       "Processing gene chunks:   0%|          | 0/29 [00:00<?, ?it/s]"
      ]
     },
     "metadata": {},
     "output_type": "display_data"
    },
    {
     "data": {
      "application/vnd.jupyter.widget-view+json": {
       "model_id": "9e6b5a4179c3480e8efcf4c01409ea94",
       "version_major": 2,
       "version_minor": 0
      },
      "text/plain": [
       "Processing gene chunks:   0%|          | 0/29 [00:00<?, ?it/s]"
      ]
     },
     "metadata": {},
     "output_type": "display_data"
    },
    {
     "data": {
      "application/vnd.jupyter.widget-view+json": {
       "model_id": "50b9af1a79694214991db1acf43164e4",
       "version_major": 2,
       "version_minor": 0
      },
      "text/plain": [
       "Processing gene chunks:   0%|          | 0/29 [00:00<?, ?it/s]"
      ]
     },
     "metadata": {},
     "output_type": "display_data"
    },
    {
     "data": {
      "application/vnd.jupyter.widget-view+json": {
       "model_id": "2dbcc3f4be82421392a16de8b5042df0",
       "version_major": 2,
       "version_minor": 0
      },
      "text/plain": [
       "Processing gene chunks:   0%|          | 0/29 [00:00<?, ?it/s]"
      ]
     },
     "metadata": {},
     "output_type": "display_data"
    },
    {
     "data": {
      "application/vnd.jupyter.widget-view+json": {
       "model_id": "4e7be783078f48fda5066534d53b3425",
       "version_major": 2,
       "version_minor": 0
      },
      "text/plain": [
       "Processing gene chunks:   0%|          | 0/29 [00:00<?, ?it/s]"
      ]
     },
     "metadata": {},
     "output_type": "display_data"
    },
    {
     "data": {
      "application/vnd.jupyter.widget-view+json": {
       "model_id": "06ffd47e0a0e48368e2c272049883cf6",
       "version_major": 2,
       "version_minor": 0
      },
      "text/plain": [
       "Processing gene chunks:   0%|          | 0/29 [00:00<?, ?it/s]"
      ]
     },
     "metadata": {},
     "output_type": "display_data"
    },
    {
     "data": {
      "application/vnd.jupyter.widget-view+json": {
       "model_id": "dfa3db9d280940d695ee103d3baf5bd5",
       "version_major": 2,
       "version_minor": 0
      },
      "text/plain": [
       "Processing gene chunks:   0%|          | 0/29 [00:00<?, ?it/s]"
      ]
     },
     "metadata": {},
     "output_type": "display_data"
    },
    {
     "data": {
      "application/vnd.jupyter.widget-view+json": {
       "model_id": "675b08b520fa4c77ade66ad0f382e6be",
       "version_major": 2,
       "version_minor": 0
      },
      "text/plain": [
       "Processing gene chunks:   0%|          | 0/29 [00:00<?, ?it/s]"
      ]
     },
     "metadata": {},
     "output_type": "display_data"
    },
    {
     "data": {
      "application/vnd.jupyter.widget-view+json": {
       "model_id": "97a259be92c847afa8e61d8f2a332c02",
       "version_major": 2,
       "version_minor": 0
      },
      "text/plain": [
       "Processing gene chunks:   0%|          | 0/29 [00:00<?, ?it/s]"
      ]
     },
     "metadata": {},
     "output_type": "display_data"
    },
    {
     "data": {
      "application/vnd.jupyter.widget-view+json": {
       "model_id": "fd5d5f0ef35a49909d231b1d051ef0bd",
       "version_major": 2,
       "version_minor": 0
      },
      "text/plain": [
       "Processing gene chunks:   0%|          | 0/29 [00:00<?, ?it/s]"
      ]
     },
     "metadata": {},
     "output_type": "display_data"
    },
    {
     "data": {
      "application/vnd.jupyter.widget-view+json": {
       "model_id": "b22a3e37dec345edac42aa8da07fb66c",
       "version_major": 2,
       "version_minor": 0
      },
      "text/plain": [
       "Processing gene chunks:   0%|          | 0/29 [00:00<?, ?it/s]"
      ]
     },
     "metadata": {},
     "output_type": "display_data"
    },
    {
     "data": {
      "application/vnd.jupyter.widget-view+json": {
       "model_id": "f65926fb8c8440108b0267ba5fdb692e",
       "version_major": 2,
       "version_minor": 0
      },
      "text/plain": [
       "Processing gene chunks:   0%|          | 0/29 [00:00<?, ?it/s]"
      ]
     },
     "metadata": {},
     "output_type": "display_data"
    },
    {
     "data": {
      "application/vnd.jupyter.widget-view+json": {
       "model_id": "067bb0cfe2574fef9a015b0ff0e260a8",
       "version_major": 2,
       "version_minor": 0
      },
      "text/plain": [
       "Processing gene chunks:   0%|          | 0/29 [00:00<?, ?it/s]"
      ]
     },
     "metadata": {},
     "output_type": "display_data"
    },
    {
     "data": {
      "application/vnd.jupyter.widget-view+json": {
       "model_id": "1c7feb440ae249bf8dcff237acbee0e9",
       "version_major": 2,
       "version_minor": 0
      },
      "text/plain": [
       "Processing gene chunks:   0%|          | 0/29 [00:00<?, ?it/s]"
      ]
     },
     "metadata": {},
     "output_type": "display_data"
    },
    {
     "data": {
      "application/vnd.jupyter.widget-view+json": {
       "model_id": "c957bea6cea744289570aec19681707e",
       "version_major": 2,
       "version_minor": 0
      },
      "text/plain": [
       "Processing gene chunks:   0%|          | 0/29 [00:00<?, ?it/s]"
      ]
     },
     "metadata": {},
     "output_type": "display_data"
    },
    {
     "data": {
      "application/vnd.jupyter.widget-view+json": {
       "model_id": "095d382bed7c4d1e809357ebd0a6b1b3",
       "version_major": 2,
       "version_minor": 0
      },
      "text/plain": [
       "Processing gene chunks:   0%|          | 0/29 [00:00<?, ?it/s]"
      ]
     },
     "metadata": {},
     "output_type": "display_data"
    },
    {
     "data": {
      "application/vnd.jupyter.widget-view+json": {
       "model_id": "5109512d660a458db9f39f90d5693e98",
       "version_major": 2,
       "version_minor": 0
      },
      "text/plain": [
       "Processing gene chunks:   0%|          | 0/29 [00:00<?, ?it/s]"
      ]
     },
     "metadata": {},
     "output_type": "display_data"
    },
    {
     "data": {
      "application/vnd.jupyter.widget-view+json": {
       "model_id": "c4c2aababd344790bdab1df7a37784f4",
       "version_major": 2,
       "version_minor": 0
      },
      "text/plain": [
       "Processing gene chunks:   0%|          | 0/29 [00:00<?, ?it/s]"
      ]
     },
     "metadata": {},
     "output_type": "display_data"
    },
    {
     "data": {
      "application/vnd.jupyter.widget-view+json": {
       "model_id": "f1470f4d10e740be8799a6a309094a6e",
       "version_major": 2,
       "version_minor": 0
      },
      "text/plain": [
       "Processing gene chunks:   0%|          | 0/29 [00:00<?, ?it/s]"
      ]
     },
     "metadata": {},
     "output_type": "display_data"
    },
    {
     "data": {
      "application/vnd.jupyter.widget-view+json": {
       "model_id": "59aee2265515418f92ab89e33532fc55",
       "version_major": 2,
       "version_minor": 0
      },
      "text/plain": [
       "Processing gene chunks:   0%|          | 0/29 [00:00<?, ?it/s]"
      ]
     },
     "metadata": {},
     "output_type": "display_data"
    },
    {
     "data": {
      "application/vnd.jupyter.widget-view+json": {
       "model_id": "2deea978a82845ec940d7e0fe790cd6f",
       "version_major": 2,
       "version_minor": 0
      },
      "text/plain": [
       "Processing gene chunks:   0%|          | 0/29 [00:00<?, ?it/s]"
      ]
     },
     "metadata": {},
     "output_type": "display_data"
    },
    {
     "data": {
      "application/vnd.jupyter.widget-view+json": {
       "model_id": "98dbe7d7e6584f83bb53e4976eb5d9fc",
       "version_major": 2,
       "version_minor": 0
      },
      "text/plain": [
       "Processing gene chunks:   0%|          | 0/29 [00:00<?, ?it/s]"
      ]
     },
     "metadata": {},
     "output_type": "display_data"
    },
    {
     "data": {
      "application/vnd.jupyter.widget-view+json": {
       "model_id": "e7bcb60d0fae4682902f7b487561442a",
       "version_major": 2,
       "version_minor": 0
      },
      "text/plain": [
       "Processing gene chunks:   0%|          | 0/29 [00:00<?, ?it/s]"
      ]
     },
     "metadata": {},
     "output_type": "display_data"
    },
    {
     "data": {
      "application/vnd.jupyter.widget-view+json": {
       "model_id": "73715344e1a14f368bc3fad170900879",
       "version_major": 2,
       "version_minor": 0
      },
      "text/plain": [
       "Processing gene chunks:   0%|          | 0/29 [00:00<?, ?it/s]"
      ]
     },
     "metadata": {},
     "output_type": "display_data"
    },
    {
     "data": {
      "application/vnd.jupyter.widget-view+json": {
       "model_id": "700818935925419390524df052d35659",
       "version_major": 2,
       "version_minor": 0
      },
      "text/plain": [
       "Processing gene chunks:   0%|          | 0/29 [00:00<?, ?it/s]"
      ]
     },
     "metadata": {},
     "output_type": "display_data"
    },
    {
     "data": {
      "application/vnd.jupyter.widget-view+json": {
       "model_id": "832a9df328344800af406d62c61a66e0",
       "version_major": 2,
       "version_minor": 0
      },
      "text/plain": [
       "Processing gene chunks:   0%|          | 0/29 [00:00<?, ?it/s]"
      ]
     },
     "metadata": {},
     "output_type": "display_data"
    },
    {
     "data": {
      "application/vnd.jupyter.widget-view+json": {
       "model_id": "a0bc4def4c1848f288391970ca4f3ec8",
       "version_major": 2,
       "version_minor": 0
      },
      "text/plain": [
       "Processing gene chunks:   0%|          | 0/29 [00:00<?, ?it/s]"
      ]
     },
     "metadata": {},
     "output_type": "display_data"
    },
    {
     "data": {
      "application/vnd.jupyter.widget-view+json": {
       "model_id": "9c58fb3a05f84add8365c2b9566f693d",
       "version_major": 2,
       "version_minor": 0
      },
      "text/plain": [
       "Processing gene chunks:   0%|          | 0/29 [00:00<?, ?it/s]"
      ]
     },
     "metadata": {},
     "output_type": "display_data"
    },
    {
     "data": {
      "application/vnd.jupyter.widget-view+json": {
       "model_id": "f1ba439ef28f40b09b10401996cc5a48",
       "version_major": 2,
       "version_minor": 0
      },
      "text/plain": [
       "Processing gene chunks:   0%|          | 0/29 [00:00<?, ?it/s]"
      ]
     },
     "metadata": {},
     "output_type": "display_data"
    },
    {
     "data": {
      "application/vnd.jupyter.widget-view+json": {
       "model_id": "1560b74785914de3885154b052f55153",
       "version_major": 2,
       "version_minor": 0
      },
      "text/plain": [
       "Processing gene chunks:   0%|          | 0/29 [00:00<?, ?it/s]"
      ]
     },
     "metadata": {},
     "output_type": "display_data"
    },
    {
     "data": {
      "application/vnd.jupyter.widget-view+json": {
       "model_id": "74e8c142481f4b3ca7adc410543df35c",
       "version_major": 2,
       "version_minor": 0
      },
      "text/plain": [
       "Processing gene chunks:   0%|          | 0/29 [00:00<?, ?it/s]"
      ]
     },
     "metadata": {},
     "output_type": "display_data"
    },
    {
     "data": {
      "application/vnd.jupyter.widget-view+json": {
       "model_id": "b2a9d5701feb420688fca9d4fb627937",
       "version_major": 2,
       "version_minor": 0
      },
      "text/plain": [
       "Processing gene chunks:   0%|          | 0/29 [00:00<?, ?it/s]"
      ]
     },
     "metadata": {},
     "output_type": "display_data"
    },
    {
     "data": {
      "application/vnd.jupyter.widget-view+json": {
       "model_id": "22a3ea87cbc54e0995b93eb8d713913b",
       "version_major": 2,
       "version_minor": 0
      },
      "text/plain": [
       "Processing gene chunks:   0%|          | 0/29 [00:00<?, ?it/s]"
      ]
     },
     "metadata": {},
     "output_type": "display_data"
    },
    {
     "data": {
      "application/vnd.jupyter.widget-view+json": {
       "model_id": "af4054756bce4bea9c5566cdb28bf7bf",
       "version_major": 2,
       "version_minor": 0
      },
      "text/plain": [
       "Processing gene chunks:   0%|          | 0/29 [00:00<?, ?it/s]"
      ]
     },
     "metadata": {},
     "output_type": "display_data"
    },
    {
     "data": {
      "application/vnd.jupyter.widget-view+json": {
       "model_id": "c2e9adf955c049528f2b86d79d4fb2e1",
       "version_major": 2,
       "version_minor": 0
      },
      "text/plain": [
       "Processing gene chunks:   0%|          | 0/29 [00:00<?, ?it/s]"
      ]
     },
     "metadata": {},
     "output_type": "display_data"
    },
    {
     "data": {
      "application/vnd.jupyter.widget-view+json": {
       "model_id": "2a4f4be785a047d7be82cc6161e814a1",
       "version_major": 2,
       "version_minor": 0
      },
      "text/plain": [
       "Processing gene chunks:   0%|          | 0/29 [00:00<?, ?it/s]"
      ]
     },
     "metadata": {},
     "output_type": "display_data"
    },
    {
     "data": {
      "application/vnd.jupyter.widget-view+json": {
       "model_id": "da644167ddbd450095ee4ac4d897b3d4",
       "version_major": 2,
       "version_minor": 0
      },
      "text/plain": [
       "Processing gene chunks:   0%|          | 0/29 [00:00<?, ?it/s]"
      ]
     },
     "metadata": {},
     "output_type": "display_data"
    },
    {
     "data": {
      "application/vnd.jupyter.widget-view+json": {
       "model_id": "c825f576f5364946a45857d6bbe35198",
       "version_major": 2,
       "version_minor": 0
      },
      "text/plain": [
       "Processing gene chunks:   0%|          | 0/29 [00:00<?, ?it/s]"
      ]
     },
     "metadata": {},
     "output_type": "display_data"
    },
    {
     "data": {
      "application/vnd.jupyter.widget-view+json": {
       "model_id": "dd60e4f66af94e01b8d3c994069edc10",
       "version_major": 2,
       "version_minor": 0
      },
      "text/plain": [
       "Processing gene chunks:   0%|          | 0/29 [00:00<?, ?it/s]"
      ]
     },
     "metadata": {},
     "output_type": "display_data"
    },
    {
     "data": {
      "application/vnd.jupyter.widget-view+json": {
       "model_id": "933eb9e7bf014f3b94c7ec7b40d5190d",
       "version_major": 2,
       "version_minor": 0
      },
      "text/plain": [
       "Processing gene chunks:   0%|          | 0/29 [00:00<?, ?it/s]"
      ]
     },
     "metadata": {},
     "output_type": "display_data"
    },
    {
     "data": {
      "application/vnd.jupyter.widget-view+json": {
       "model_id": "e02a3e17f7b94f80973d752142305e00",
       "version_major": 2,
       "version_minor": 0
      },
      "text/plain": [
       "  0%|          | 0/61 [00:00<?, ?it/s]"
      ]
     },
     "metadata": {},
     "output_type": "display_data"
    },
    {
     "data": {
      "application/vnd.jupyter.widget-view+json": {
       "model_id": "74bc4dcbd0f044e8b9a758c87c1323f3",
       "version_major": 2,
       "version_minor": 0
      },
      "text/plain": [
       "Processing gene chunks:   0%|          | 0/29 [00:00<?, ?it/s]"
      ]
     },
     "metadata": {},
     "output_type": "display_data"
    },
    {
     "data": {
      "application/vnd.jupyter.widget-view+json": {
       "model_id": "d22f8ba2899e46ba82f0f3fa0f527c4d",
       "version_major": 2,
       "version_minor": 0
      },
      "text/plain": [
       "Processing gene chunks:   0%|          | 0/29 [00:00<?, ?it/s]"
      ]
     },
     "metadata": {},
     "output_type": "display_data"
    },
    {
     "data": {
      "application/vnd.jupyter.widget-view+json": {
       "model_id": "a5db3a4ab1554f83b9b33e990f904ecd",
       "version_major": 2,
       "version_minor": 0
      },
      "text/plain": [
       "Processing gene chunks:   0%|          | 0/29 [00:00<?, ?it/s]"
      ]
     },
     "metadata": {},
     "output_type": "display_data"
    },
    {
     "data": {
      "application/vnd.jupyter.widget-view+json": {
       "model_id": "a199067e5eed466a96e9c0f246a5f909",
       "version_major": 2,
       "version_minor": 0
      },
      "text/plain": [
       "Processing gene chunks:   0%|          | 0/29 [00:00<?, ?it/s]"
      ]
     },
     "metadata": {},
     "output_type": "display_data"
    },
    {
     "data": {
      "application/vnd.jupyter.widget-view+json": {
       "model_id": "9459b48d226046c09c25018cae4dbc8b",
       "version_major": 2,
       "version_minor": 0
      },
      "text/plain": [
       "Processing gene chunks:   0%|          | 0/29 [00:00<?, ?it/s]"
      ]
     },
     "metadata": {},
     "output_type": "display_data"
    },
    {
     "data": {
      "application/vnd.jupyter.widget-view+json": {
       "model_id": "ad3fa3eef3ab4ccc98b0866c8e83549b",
       "version_major": 2,
       "version_minor": 0
      },
      "text/plain": [
       "Processing gene chunks:   0%|          | 0/29 [00:00<?, ?it/s]"
      ]
     },
     "metadata": {},
     "output_type": "display_data"
    },
    {
     "data": {
      "application/vnd.jupyter.widget-view+json": {
       "model_id": "07aabef064974f7d9172e09e69f6b58c",
       "version_major": 2,
       "version_minor": 0
      },
      "text/plain": [
       "Processing gene chunks:   0%|          | 0/29 [00:00<?, ?it/s]"
      ]
     },
     "metadata": {},
     "output_type": "display_data"
    },
    {
     "data": {
      "application/vnd.jupyter.widget-view+json": {
       "model_id": "41dfc5c49ae6499c9e61ad2dd02d892b",
       "version_major": 2,
       "version_minor": 0
      },
      "text/plain": [
       "Processing gene chunks:   0%|          | 0/29 [00:00<?, ?it/s]"
      ]
     },
     "metadata": {},
     "output_type": "display_data"
    },
    {
     "data": {
      "application/vnd.jupyter.widget-view+json": {
       "model_id": "37012e0c5a5b4bb7858fd4c2f5db4006",
       "version_major": 2,
       "version_minor": 0
      },
      "text/plain": [
       "Processing gene chunks:   0%|          | 0/29 [00:00<?, ?it/s]"
      ]
     },
     "metadata": {},
     "output_type": "display_data"
    },
    {
     "data": {
      "application/vnd.jupyter.widget-view+json": {
       "model_id": "137fd65c71c84201a9b0128cb9a860fa",
       "version_major": 2,
       "version_minor": 0
      },
      "text/plain": [
       "Processing gene chunks:   0%|          | 0/29 [00:00<?, ?it/s]"
      ]
     },
     "metadata": {},
     "output_type": "display_data"
    },
    {
     "data": {
      "application/vnd.jupyter.widget-view+json": {
       "model_id": "7b532b2ae34445dba04d88bfa9c1b03d",
       "version_major": 2,
       "version_minor": 0
      },
      "text/plain": [
       "Processing gene chunks:   0%|          | 0/29 [00:00<?, ?it/s]"
      ]
     },
     "metadata": {},
     "output_type": "display_data"
    },
    {
     "data": {
      "application/vnd.jupyter.widget-view+json": {
       "model_id": "84bf544f42ca45fc8fbcc6e92db7e2b4",
       "version_major": 2,
       "version_minor": 0
      },
      "text/plain": [
       "Processing gene chunks:   0%|          | 0/29 [00:00<?, ?it/s]"
      ]
     },
     "metadata": {},
     "output_type": "display_data"
    },
    {
     "data": {
      "application/vnd.jupyter.widget-view+json": {
       "model_id": "7b6f3dab58954ed38009298f8f5fcc72",
       "version_major": 2,
       "version_minor": 0
      },
      "text/plain": [
       "Processing gene chunks:   0%|          | 0/29 [00:00<?, ?it/s]"
      ]
     },
     "metadata": {},
     "output_type": "display_data"
    },
    {
     "data": {
      "application/vnd.jupyter.widget-view+json": {
       "model_id": "58c380f6a8d341d796eeac907c7a37c5",
       "version_major": 2,
       "version_minor": 0
      },
      "text/plain": [
       "Processing gene chunks:   0%|          | 0/29 [00:00<?, ?it/s]"
      ]
     },
     "metadata": {},
     "output_type": "display_data"
    },
    {
     "data": {
      "application/vnd.jupyter.widget-view+json": {
       "model_id": "8373b72516ce400bb56789fee09525db",
       "version_major": 2,
       "version_minor": 0
      },
      "text/plain": [
       "Processing gene chunks:   0%|          | 0/29 [00:00<?, ?it/s]"
      ]
     },
     "metadata": {},
     "output_type": "display_data"
    },
    {
     "data": {
      "application/vnd.jupyter.widget-view+json": {
       "model_id": "8ffc3b345bb04ba7bf7bc51ac145f753",
       "version_major": 2,
       "version_minor": 0
      },
      "text/plain": [
       "Processing gene chunks:   0%|          | 0/29 [00:00<?, ?it/s]"
      ]
     },
     "metadata": {},
     "output_type": "display_data"
    },
    {
     "data": {
      "application/vnd.jupyter.widget-view+json": {
       "model_id": "b3e645e5ca04463fb1469d1909409b14",
       "version_major": 2,
       "version_minor": 0
      },
      "text/plain": [
       "Processing gene chunks:   0%|          | 0/29 [00:00<?, ?it/s]"
      ]
     },
     "metadata": {},
     "output_type": "display_data"
    },
    {
     "data": {
      "application/vnd.jupyter.widget-view+json": {
       "model_id": "08849caf4a064455910c82efc4b2479f",
       "version_major": 2,
       "version_minor": 0
      },
      "text/plain": [
       "Processing gene chunks:   0%|          | 0/29 [00:00<?, ?it/s]"
      ]
     },
     "metadata": {},
     "output_type": "display_data"
    },
    {
     "data": {
      "application/vnd.jupyter.widget-view+json": {
       "model_id": "a09fed6c73614ea1a9ece38df60f2562",
       "version_major": 2,
       "version_minor": 0
      },
      "text/plain": [
       "Processing gene chunks:   0%|          | 0/29 [00:00<?, ?it/s]"
      ]
     },
     "metadata": {},
     "output_type": "display_data"
    },
    {
     "data": {
      "application/vnd.jupyter.widget-view+json": {
       "model_id": "5f81ee924f76486280bd99b53be91708",
       "version_major": 2,
       "version_minor": 0
      },
      "text/plain": [
       "Processing gene chunks:   0%|          | 0/29 [00:00<?, ?it/s]"
      ]
     },
     "metadata": {},
     "output_type": "display_data"
    },
    {
     "data": {
      "application/vnd.jupyter.widget-view+json": {
       "model_id": "1928021421094883a68afae6668919c0",
       "version_major": 2,
       "version_minor": 0
      },
      "text/plain": [
       "Processing gene chunks:   0%|          | 0/29 [00:00<?, ?it/s]"
      ]
     },
     "metadata": {},
     "output_type": "display_data"
    },
    {
     "data": {
      "application/vnd.jupyter.widget-view+json": {
       "model_id": "b8861a680a0643dfa042dd678de859f0",
       "version_major": 2,
       "version_minor": 0
      },
      "text/plain": [
       "Processing gene chunks:   0%|          | 0/29 [00:00<?, ?it/s]"
      ]
     },
     "metadata": {},
     "output_type": "display_data"
    },
    {
     "data": {
      "application/vnd.jupyter.widget-view+json": {
       "model_id": "5682c568c2c942d7af3b27b98668d5a9",
       "version_major": 2,
       "version_minor": 0
      },
      "text/plain": [
       "Processing gene chunks:   0%|          | 0/29 [00:00<?, ?it/s]"
      ]
     },
     "metadata": {},
     "output_type": "display_data"
    },
    {
     "data": {
      "application/vnd.jupyter.widget-view+json": {
       "model_id": "4e63e3cc4419469abde1a37554d60122",
       "version_major": 2,
       "version_minor": 0
      },
      "text/plain": [
       "Processing gene chunks:   0%|          | 0/29 [00:00<?, ?it/s]"
      ]
     },
     "metadata": {},
     "output_type": "display_data"
    },
    {
     "data": {
      "application/vnd.jupyter.widget-view+json": {
       "model_id": "94ec27c3c3494206a8acb83ceab85043",
       "version_major": 2,
       "version_minor": 0
      },
      "text/plain": [
       "Processing gene chunks:   0%|          | 0/29 [00:00<?, ?it/s]"
      ]
     },
     "metadata": {},
     "output_type": "display_data"
    },
    {
     "data": {
      "application/vnd.jupyter.widget-view+json": {
       "model_id": "0f3894e26a824cda8e754b250d8a6a98",
       "version_major": 2,
       "version_minor": 0
      },
      "text/plain": [
       "Processing gene chunks:   0%|          | 0/29 [00:00<?, ?it/s]"
      ]
     },
     "metadata": {},
     "output_type": "display_data"
    },
    {
     "data": {
      "application/vnd.jupyter.widget-view+json": {
       "model_id": "647010025ee1477791a66db250e71ab2",
       "version_major": 2,
       "version_minor": 0
      },
      "text/plain": [
       "Processing gene chunks:   0%|          | 0/29 [00:00<?, ?it/s]"
      ]
     },
     "metadata": {},
     "output_type": "display_data"
    },
    {
     "data": {
      "application/vnd.jupyter.widget-view+json": {
       "model_id": "72f6de534f9540839bf0e172d118fc4d",
       "version_major": 2,
       "version_minor": 0
      },
      "text/plain": [
       "Processing gene chunks:   0%|          | 0/29 [00:00<?, ?it/s]"
      ]
     },
     "metadata": {},
     "output_type": "display_data"
    },
    {
     "data": {
      "application/vnd.jupyter.widget-view+json": {
       "model_id": "34b887a24ab045f29a347bc2dc45100f",
       "version_major": 2,
       "version_minor": 0
      },
      "text/plain": [
       "Processing gene chunks:   0%|          | 0/29 [00:00<?, ?it/s]"
      ]
     },
     "metadata": {},
     "output_type": "display_data"
    },
    {
     "data": {
      "application/vnd.jupyter.widget-view+json": {
       "model_id": "795b88106caa46ff85bbb9aeee0c296d",
       "version_major": 2,
       "version_minor": 0
      },
      "text/plain": [
       "Processing gene chunks:   0%|          | 0/29 [00:00<?, ?it/s]"
      ]
     },
     "metadata": {},
     "output_type": "display_data"
    },
    {
     "data": {
      "application/vnd.jupyter.widget-view+json": {
       "model_id": "e38468f4034d4ef484c21868817fb586",
       "version_major": 2,
       "version_minor": 0
      },
      "text/plain": [
       "Processing gene chunks:   0%|          | 0/29 [00:00<?, ?it/s]"
      ]
     },
     "metadata": {},
     "output_type": "display_data"
    },
    {
     "data": {
      "application/vnd.jupyter.widget-view+json": {
       "model_id": "ffe2368a14bd42b3816050969a1869d1",
       "version_major": 2,
       "version_minor": 0
      },
      "text/plain": [
       "Processing gene chunks:   0%|          | 0/29 [00:00<?, ?it/s]"
      ]
     },
     "metadata": {},
     "output_type": "display_data"
    },
    {
     "data": {
      "application/vnd.jupyter.widget-view+json": {
       "model_id": "e22b660202d14eb1af44ca54c382c02d",
       "version_major": 2,
       "version_minor": 0
      },
      "text/plain": [
       "Processing gene chunks:   0%|          | 0/29 [00:00<?, ?it/s]"
      ]
     },
     "metadata": {},
     "output_type": "display_data"
    },
    {
     "data": {
      "application/vnd.jupyter.widget-view+json": {
       "model_id": "a488a06d8f4d4c8c98a7f146f8bcab20",
       "version_major": 2,
       "version_minor": 0
      },
      "text/plain": [
       "Processing gene chunks:   0%|          | 0/29 [00:00<?, ?it/s]"
      ]
     },
     "metadata": {},
     "output_type": "display_data"
    },
    {
     "data": {
      "application/vnd.jupyter.widget-view+json": {
       "model_id": "7bb15947bb6a4a8cad75e19cee4951b2",
       "version_major": 2,
       "version_minor": 0
      },
      "text/plain": [
       "Processing gene chunks:   0%|          | 0/29 [00:00<?, ?it/s]"
      ]
     },
     "metadata": {},
     "output_type": "display_data"
    },
    {
     "data": {
      "application/vnd.jupyter.widget-view+json": {
       "model_id": "903de2bbbfaa4a159e63d25a03e0dbff",
       "version_major": 2,
       "version_minor": 0
      },
      "text/plain": [
       "Processing gene chunks:   0%|          | 0/29 [00:00<?, ?it/s]"
      ]
     },
     "metadata": {},
     "output_type": "display_data"
    },
    {
     "data": {
      "application/vnd.jupyter.widget-view+json": {
       "model_id": "b8447f5da4db4b38ab601383f7a0935f",
       "version_major": 2,
       "version_minor": 0
      },
      "text/plain": [
       "Processing gene chunks:   0%|          | 0/29 [00:00<?, ?it/s]"
      ]
     },
     "metadata": {},
     "output_type": "display_data"
    },
    {
     "data": {
      "application/vnd.jupyter.widget-view+json": {
       "model_id": "47af0610e4754d95b24b035d3312f47d",
       "version_major": 2,
       "version_minor": 0
      },
      "text/plain": [
       "Processing gene chunks:   0%|          | 0/29 [00:00<?, ?it/s]"
      ]
     },
     "metadata": {},
     "output_type": "display_data"
    },
    {
     "data": {
      "application/vnd.jupyter.widget-view+json": {
       "model_id": "6eaa72dcc923443e97b0756c48e2e34d",
       "version_major": 2,
       "version_minor": 0
      },
      "text/plain": [
       "Processing gene chunks:   0%|          | 0/29 [00:00<?, ?it/s]"
      ]
     },
     "metadata": {},
     "output_type": "display_data"
    },
    {
     "data": {
      "application/vnd.jupyter.widget-view+json": {
       "model_id": "9420c88f06244e7d993ddd35f99012b0",
       "version_major": 2,
       "version_minor": 0
      },
      "text/plain": [
       "Processing gene chunks:   0%|          | 0/29 [00:00<?, ?it/s]"
      ]
     },
     "metadata": {},
     "output_type": "display_data"
    },
    {
     "data": {
      "application/vnd.jupyter.widget-view+json": {
       "model_id": "b1523b03d08441148a74bfcacee3a58f",
       "version_major": 2,
       "version_minor": 0
      },
      "text/plain": [
       "Processing gene chunks:   0%|          | 0/29 [00:00<?, ?it/s]"
      ]
     },
     "metadata": {},
     "output_type": "display_data"
    },
    {
     "data": {
      "application/vnd.jupyter.widget-view+json": {
       "model_id": "66c64c926f34495380854cb51aaa0b3c",
       "version_major": 2,
       "version_minor": 0
      },
      "text/plain": [
       "Processing gene chunks:   0%|          | 0/29 [00:00<?, ?it/s]"
      ]
     },
     "metadata": {},
     "output_type": "display_data"
    },
    {
     "data": {
      "application/vnd.jupyter.widget-view+json": {
       "model_id": "52237136482c4d5093339f75aecd2b8e",
       "version_major": 2,
       "version_minor": 0
      },
      "text/plain": [
       "Processing gene chunks:   0%|          | 0/29 [00:00<?, ?it/s]"
      ]
     },
     "metadata": {},
     "output_type": "display_data"
    },
    {
     "data": {
      "application/vnd.jupyter.widget-view+json": {
       "model_id": "8cdb903e54504aaa83e24a1274ec3c38",
       "version_major": 2,
       "version_minor": 0
      },
      "text/plain": [
       "Processing gene chunks:   0%|          | 0/29 [00:00<?, ?it/s]"
      ]
     },
     "metadata": {},
     "output_type": "display_data"
    },
    {
     "data": {
      "application/vnd.jupyter.widget-view+json": {
       "model_id": "6cb76e63aee14d48adc45dc4874130f9",
       "version_major": 2,
       "version_minor": 0
      },
      "text/plain": [
       "Processing gene chunks:   0%|          | 0/29 [00:00<?, ?it/s]"
      ]
     },
     "metadata": {},
     "output_type": "display_data"
    },
    {
     "data": {
      "application/vnd.jupyter.widget-view+json": {
       "model_id": "079eb2271f6e49abbae0f093f0377d0d",
       "version_major": 2,
       "version_minor": 0
      },
      "text/plain": [
       "Processing gene chunks:   0%|          | 0/29 [00:00<?, ?it/s]"
      ]
     },
     "metadata": {},
     "output_type": "display_data"
    },
    {
     "data": {
      "application/vnd.jupyter.widget-view+json": {
       "model_id": "2b0d0bfb88f94b609f78203a92acbf4a",
       "version_major": 2,
       "version_minor": 0
      },
      "text/plain": [
       "Processing gene chunks:   0%|          | 0/29 [00:00<?, ?it/s]"
      ]
     },
     "metadata": {},
     "output_type": "display_data"
    },
    {
     "data": {
      "application/vnd.jupyter.widget-view+json": {
       "model_id": "ba3f2aa948a94d9682a27b15765ed1ae",
       "version_major": 2,
       "version_minor": 0
      },
      "text/plain": [
       "Processing gene chunks:   0%|          | 0/29 [00:00<?, ?it/s]"
      ]
     },
     "metadata": {},
     "output_type": "display_data"
    },
    {
     "data": {
      "application/vnd.jupyter.widget-view+json": {
       "model_id": "1711bdec3f9649ce99e15887ae981820",
       "version_major": 2,
       "version_minor": 0
      },
      "text/plain": [
       "Processing gene chunks:   0%|          | 0/29 [00:00<?, ?it/s]"
      ]
     },
     "metadata": {},
     "output_type": "display_data"
    },
    {
     "data": {
      "application/vnd.jupyter.widget-view+json": {
       "model_id": "229b9a669cc14072bfc8856058072692",
       "version_major": 2,
       "version_minor": 0
      },
      "text/plain": [
       "Processing gene chunks:   0%|          | 0/29 [00:00<?, ?it/s]"
      ]
     },
     "metadata": {},
     "output_type": "display_data"
    },
    {
     "data": {
      "application/vnd.jupyter.widget-view+json": {
       "model_id": "b13a3045034643249b9111974737603d",
       "version_major": 2,
       "version_minor": 0
      },
      "text/plain": [
       "Processing gene chunks:   0%|          | 0/29 [00:00<?, ?it/s]"
      ]
     },
     "metadata": {},
     "output_type": "display_data"
    },
    {
     "data": {
      "application/vnd.jupyter.widget-view+json": {
       "model_id": "90887cdb2396477cb115137c7ce36fda",
       "version_major": 2,
       "version_minor": 0
      },
      "text/plain": [
       "Processing gene chunks:   0%|          | 0/29 [00:00<?, ?it/s]"
      ]
     },
     "metadata": {},
     "output_type": "display_data"
    },
    {
     "data": {
      "application/vnd.jupyter.widget-view+json": {
       "model_id": "558593f2cf824255a75787b1d21e086d",
       "version_major": 2,
       "version_minor": 0
      },
      "text/plain": [
       "Processing gene chunks:   0%|          | 0/29 [00:00<?, ?it/s]"
      ]
     },
     "metadata": {},
     "output_type": "display_data"
    },
    {
     "data": {
      "application/vnd.jupyter.widget-view+json": {
       "model_id": "9759c141c6e04328b31655d6ca81494f",
       "version_major": 2,
       "version_minor": 0
      },
      "text/plain": [
       "Processing gene chunks:   0%|          | 0/29 [00:00<?, ?it/s]"
      ]
     },
     "metadata": {},
     "output_type": "display_data"
    },
    {
     "data": {
      "application/vnd.jupyter.widget-view+json": {
       "model_id": "87fe6e7bff784001b1cec734c496eca9",
       "version_major": 2,
       "version_minor": 0
      },
      "text/plain": [
       "Processing gene chunks:   0%|          | 0/29 [00:00<?, ?it/s]"
      ]
     },
     "metadata": {},
     "output_type": "display_data"
    },
    {
     "data": {
      "application/vnd.jupyter.widget-view+json": {
       "model_id": "0de2cf4ab4d14eb3a5ae70b2a21a4e77",
       "version_major": 2,
       "version_minor": 0
      },
      "text/plain": [
       "Processing gene chunks:   0%|          | 0/29 [00:00<?, ?it/s]"
      ]
     },
     "metadata": {},
     "output_type": "display_data"
    },
    {
     "data": {
      "application/vnd.jupyter.widget-view+json": {
       "model_id": "415b0669bc8945419b03bfa4428b1be8",
       "version_major": 2,
       "version_minor": 0
      },
      "text/plain": [
       "Processing gene chunks:   0%|          | 0/29 [00:00<?, ?it/s]"
      ]
     },
     "metadata": {},
     "output_type": "display_data"
    },
    {
     "data": {
      "application/vnd.jupyter.widget-view+json": {
       "model_id": "e26de31bad8a474684d15b3f211b3fbf",
       "version_major": 2,
       "version_minor": 0
      },
      "text/plain": [
       "Processing gene chunks:   0%|          | 0/29 [00:00<?, ?it/s]"
      ]
     },
     "metadata": {},
     "output_type": "display_data"
    },
    {
     "data": {
      "application/vnd.jupyter.widget-view+json": {
       "model_id": "56653fe746a64f3e86e6881be708779f",
       "version_major": 2,
       "version_minor": 0
      },
      "text/plain": [
       "Processing gene chunks:   0%|          | 0/29 [00:00<?, ?it/s]"
      ]
     },
     "metadata": {},
     "output_type": "display_data"
    },
    {
     "data": {
      "application/vnd.jupyter.widget-view+json": {
       "model_id": "ab3dbb52a22c4253af70ff57ac937ddc",
       "version_major": 2,
       "version_minor": 0
      },
      "text/plain": [
       "Processing gene chunks:   0%|          | 0/29 [00:00<?, ?it/s]"
      ]
     },
     "metadata": {},
     "output_type": "display_data"
    },
    {
     "data": {
      "application/vnd.jupyter.widget-view+json": {
       "model_id": "642b284b477a4a88b75a6c72e2dbe407",
       "version_major": 2,
       "version_minor": 0
      },
      "text/plain": [
       "Processing gene chunks:   0%|          | 0/29 [00:00<?, ?it/s]"
      ]
     },
     "metadata": {},
     "output_type": "display_data"
    },
    {
     "data": {
      "application/vnd.jupyter.widget-view+json": {
       "model_id": "a2b603aef8d7422a82f53c5346413c47",
       "version_major": 2,
       "version_minor": 0
      },
      "text/plain": [
       "  0%|          | 0/61 [00:00<?, ?it/s]"
      ]
     },
     "metadata": {},
     "output_type": "display_data"
    },
    {
     "data": {
      "application/vnd.jupyter.widget-view+json": {
       "model_id": "464289b4620749d198e9e3fcfd097aec",
       "version_major": 2,
       "version_minor": 0
      },
      "text/plain": [
       "Processing gene chunks:   0%|          | 0/29 [00:00<?, ?it/s]"
      ]
     },
     "metadata": {},
     "output_type": "display_data"
    },
    {
     "data": {
      "application/vnd.jupyter.widget-view+json": {
       "model_id": "66c07ba7e8f64e548b5af1e686dadd64",
       "version_major": 2,
       "version_minor": 0
      },
      "text/plain": [
       "Processing gene chunks:   0%|          | 0/29 [00:00<?, ?it/s]"
      ]
     },
     "metadata": {},
     "output_type": "display_data"
    },
    {
     "data": {
      "application/vnd.jupyter.widget-view+json": {
       "model_id": "5bde1732e44f476ba581cc68e56c1455",
       "version_major": 2,
       "version_minor": 0
      },
      "text/plain": [
       "Processing gene chunks:   0%|          | 0/29 [00:00<?, ?it/s]"
      ]
     },
     "metadata": {},
     "output_type": "display_data"
    },
    {
     "data": {
      "application/vnd.jupyter.widget-view+json": {
       "model_id": "c5b7e8936a9c41d599ccf2140f84c75f",
       "version_major": 2,
       "version_minor": 0
      },
      "text/plain": [
       "Processing gene chunks:   0%|          | 0/29 [00:00<?, ?it/s]"
      ]
     },
     "metadata": {},
     "output_type": "display_data"
    },
    {
     "data": {
      "application/vnd.jupyter.widget-view+json": {
       "model_id": "a5c28e029d9d44bf83b79b1d3ec7a9df",
       "version_major": 2,
       "version_minor": 0
      },
      "text/plain": [
       "Processing gene chunks:   0%|          | 0/29 [00:00<?, ?it/s]"
      ]
     },
     "metadata": {},
     "output_type": "display_data"
    },
    {
     "data": {
      "application/vnd.jupyter.widget-view+json": {
       "model_id": "a1694e73198d43029192f71234cf3cbf",
       "version_major": 2,
       "version_minor": 0
      },
      "text/plain": [
       "Processing gene chunks:   0%|          | 0/29 [00:00<?, ?it/s]"
      ]
     },
     "metadata": {},
     "output_type": "display_data"
    },
    {
     "data": {
      "application/vnd.jupyter.widget-view+json": {
       "model_id": "75941679de6841c2a57faa06efcfb03a",
       "version_major": 2,
       "version_minor": 0
      },
      "text/plain": [
       "Processing gene chunks:   0%|          | 0/29 [00:00<?, ?it/s]"
      ]
     },
     "metadata": {},
     "output_type": "display_data"
    },
    {
     "data": {
      "application/vnd.jupyter.widget-view+json": {
       "model_id": "17c2fd7223cf4b83a4984cb5bce1cf95",
       "version_major": 2,
       "version_minor": 0
      },
      "text/plain": [
       "Processing gene chunks:   0%|          | 0/29 [00:00<?, ?it/s]"
      ]
     },
     "metadata": {},
     "output_type": "display_data"
    },
    {
     "data": {
      "application/vnd.jupyter.widget-view+json": {
       "model_id": "3cfe7173b7af48beb646451605d1241e",
       "version_major": 2,
       "version_minor": 0
      },
      "text/plain": [
       "Processing gene chunks:   0%|          | 0/29 [00:00<?, ?it/s]"
      ]
     },
     "metadata": {},
     "output_type": "display_data"
    },
    {
     "data": {
      "application/vnd.jupyter.widget-view+json": {
       "model_id": "6bbe04d3a3ad4b809fa0439f827d9b12",
       "version_major": 2,
       "version_minor": 0
      },
      "text/plain": [
       "Processing gene chunks:   0%|          | 0/29 [00:00<?, ?it/s]"
      ]
     },
     "metadata": {},
     "output_type": "display_data"
    },
    {
     "data": {
      "application/vnd.jupyter.widget-view+json": {
       "model_id": "1d67a6f252744f68a43db6c64228848b",
       "version_major": 2,
       "version_minor": 0
      },
      "text/plain": [
       "Processing gene chunks:   0%|          | 0/29 [00:00<?, ?it/s]"
      ]
     },
     "metadata": {},
     "output_type": "display_data"
    },
    {
     "data": {
      "application/vnd.jupyter.widget-view+json": {
       "model_id": "4d60cacc082040c690707ea919c4021e",
       "version_major": 2,
       "version_minor": 0
      },
      "text/plain": [
       "Processing gene chunks:   0%|          | 0/29 [00:00<?, ?it/s]"
      ]
     },
     "metadata": {},
     "output_type": "display_data"
    },
    {
     "data": {
      "application/vnd.jupyter.widget-view+json": {
       "model_id": "d8ccdd7950db42b2b942f42b771c341f",
       "version_major": 2,
       "version_minor": 0
      },
      "text/plain": [
       "Processing gene chunks:   0%|          | 0/29 [00:00<?, ?it/s]"
      ]
     },
     "metadata": {},
     "output_type": "display_data"
    },
    {
     "data": {
      "application/vnd.jupyter.widget-view+json": {
       "model_id": "5256722a34d448f4b71612aa0de3f9d0",
       "version_major": 2,
       "version_minor": 0
      },
      "text/plain": [
       "Processing gene chunks:   0%|          | 0/29 [00:00<?, ?it/s]"
      ]
     },
     "metadata": {},
     "output_type": "display_data"
    },
    {
     "data": {
      "application/vnd.jupyter.widget-view+json": {
       "model_id": "fa13dcc41fdb4a2390bfff8b9ec530e2",
       "version_major": 2,
       "version_minor": 0
      },
      "text/plain": [
       "Processing gene chunks:   0%|          | 0/29 [00:00<?, ?it/s]"
      ]
     },
     "metadata": {},
     "output_type": "display_data"
    },
    {
     "data": {
      "application/vnd.jupyter.widget-view+json": {
       "model_id": "8784e65957914e34bcdd45398439c977",
       "version_major": 2,
       "version_minor": 0
      },
      "text/plain": [
       "Processing gene chunks:   0%|          | 0/29 [00:00<?, ?it/s]"
      ]
     },
     "metadata": {},
     "output_type": "display_data"
    },
    {
     "data": {
      "application/vnd.jupyter.widget-view+json": {
       "model_id": "553a12974f614cf9aa64d8257cdf308a",
       "version_major": 2,
       "version_minor": 0
      },
      "text/plain": [
       "Processing gene chunks:   0%|          | 0/29 [00:00<?, ?it/s]"
      ]
     },
     "metadata": {},
     "output_type": "display_data"
    },
    {
     "data": {
      "application/vnd.jupyter.widget-view+json": {
       "model_id": "c487002d3b994c26bc943039fa2c4db3",
       "version_major": 2,
       "version_minor": 0
      },
      "text/plain": [
       "Processing gene chunks:   0%|          | 0/29 [00:00<?, ?it/s]"
      ]
     },
     "metadata": {},
     "output_type": "display_data"
    },
    {
     "data": {
      "application/vnd.jupyter.widget-view+json": {
       "model_id": "24ffef5d67904c2fbfbd6aa5c2a20b61",
       "version_major": 2,
       "version_minor": 0
      },
      "text/plain": [
       "Processing gene chunks:   0%|          | 0/29 [00:00<?, ?it/s]"
      ]
     },
     "metadata": {},
     "output_type": "display_data"
    },
    {
     "data": {
      "application/vnd.jupyter.widget-view+json": {
       "model_id": "9d076aa0c318450a90ba4c1e89f4ce97",
       "version_major": 2,
       "version_minor": 0
      },
      "text/plain": [
       "Processing gene chunks:   0%|          | 0/29 [00:00<?, ?it/s]"
      ]
     },
     "metadata": {},
     "output_type": "display_data"
    },
    {
     "data": {
      "application/vnd.jupyter.widget-view+json": {
       "model_id": "499d4ae99ebf413aa8570bc51902e408",
       "version_major": 2,
       "version_minor": 0
      },
      "text/plain": [
       "Processing gene chunks:   0%|          | 0/29 [00:00<?, ?it/s]"
      ]
     },
     "metadata": {},
     "output_type": "display_data"
    },
    {
     "data": {
      "application/vnd.jupyter.widget-view+json": {
       "model_id": "868675378ca946ec9fd9005b467169ae",
       "version_major": 2,
       "version_minor": 0
      },
      "text/plain": [
       "Processing gene chunks:   0%|          | 0/29 [00:00<?, ?it/s]"
      ]
     },
     "metadata": {},
     "output_type": "display_data"
    },
    {
     "data": {
      "application/vnd.jupyter.widget-view+json": {
       "model_id": "eadaa8a993984e539dac1ba9c838387c",
       "version_major": 2,
       "version_minor": 0
      },
      "text/plain": [
       "Processing gene chunks:   0%|          | 0/29 [00:00<?, ?it/s]"
      ]
     },
     "metadata": {},
     "output_type": "display_data"
    },
    {
     "data": {
      "application/vnd.jupyter.widget-view+json": {
       "model_id": "f4116275f94d4b19a1d4c9edd0ab48e4",
       "version_major": 2,
       "version_minor": 0
      },
      "text/plain": [
       "Processing gene chunks:   0%|          | 0/29 [00:00<?, ?it/s]"
      ]
     },
     "metadata": {},
     "output_type": "display_data"
    },
    {
     "data": {
      "application/vnd.jupyter.widget-view+json": {
       "model_id": "480accea7e4e4c389c8cf8b1d651ff0b",
       "version_major": 2,
       "version_minor": 0
      },
      "text/plain": [
       "Processing gene chunks:   0%|          | 0/29 [00:00<?, ?it/s]"
      ]
     },
     "metadata": {},
     "output_type": "display_data"
    },
    {
     "data": {
      "application/vnd.jupyter.widget-view+json": {
       "model_id": "0f17b9fa4a8240e893d32dd2041722b6",
       "version_major": 2,
       "version_minor": 0
      },
      "text/plain": [
       "Processing gene chunks:   0%|          | 0/29 [00:00<?, ?it/s]"
      ]
     },
     "metadata": {},
     "output_type": "display_data"
    },
    {
     "data": {
      "application/vnd.jupyter.widget-view+json": {
       "model_id": "2f760cd207aa498594d66b3e49cba3cd",
       "version_major": 2,
       "version_minor": 0
      },
      "text/plain": [
       "Processing gene chunks:   0%|          | 0/29 [00:00<?, ?it/s]"
      ]
     },
     "metadata": {},
     "output_type": "display_data"
    },
    {
     "data": {
      "application/vnd.jupyter.widget-view+json": {
       "model_id": "9188e540847545bf807fdfd3f42b5646",
       "version_major": 2,
       "version_minor": 0
      },
      "text/plain": [
       "Processing gene chunks:   0%|          | 0/29 [00:00<?, ?it/s]"
      ]
     },
     "metadata": {},
     "output_type": "display_data"
    },
    {
     "data": {
      "application/vnd.jupyter.widget-view+json": {
       "model_id": "01dc445e88bd4b7d9fa69dcd3805a408",
       "version_major": 2,
       "version_minor": 0
      },
      "text/plain": [
       "Processing gene chunks:   0%|          | 0/29 [00:00<?, ?it/s]"
      ]
     },
     "metadata": {},
     "output_type": "display_data"
    },
    {
     "data": {
      "application/vnd.jupyter.widget-view+json": {
       "model_id": "22dacc33aeb74a05a5e633090acf787c",
       "version_major": 2,
       "version_minor": 0
      },
      "text/plain": [
       "Processing gene chunks:   0%|          | 0/29 [00:00<?, ?it/s]"
      ]
     },
     "metadata": {},
     "output_type": "display_data"
    },
    {
     "data": {
      "application/vnd.jupyter.widget-view+json": {
       "model_id": "544100ba6af445fa80212a340b38ed9a",
       "version_major": 2,
       "version_minor": 0
      },
      "text/plain": [
       "Processing gene chunks:   0%|          | 0/29 [00:00<?, ?it/s]"
      ]
     },
     "metadata": {},
     "output_type": "display_data"
    },
    {
     "data": {
      "application/vnd.jupyter.widget-view+json": {
       "model_id": "0867370adabb40639aff8d7ac28f3722",
       "version_major": 2,
       "version_minor": 0
      },
      "text/plain": [
       "Processing gene chunks:   0%|          | 0/29 [00:00<?, ?it/s]"
      ]
     },
     "metadata": {},
     "output_type": "display_data"
    },
    {
     "data": {
      "application/vnd.jupyter.widget-view+json": {
       "model_id": "9627c96bae7349ef97be7c87fe94c186",
       "version_major": 2,
       "version_minor": 0
      },
      "text/plain": [
       "Processing gene chunks:   0%|          | 0/29 [00:00<?, ?it/s]"
      ]
     },
     "metadata": {},
     "output_type": "display_data"
    },
    {
     "data": {
      "application/vnd.jupyter.widget-view+json": {
       "model_id": "c34619cd501241d68b5076a03d2ac5f1",
       "version_major": 2,
       "version_minor": 0
      },
      "text/plain": [
       "Processing gene chunks:   0%|          | 0/29 [00:00<?, ?it/s]"
      ]
     },
     "metadata": {},
     "output_type": "display_data"
    },
    {
     "data": {
      "application/vnd.jupyter.widget-view+json": {
       "model_id": "d4099935c613400d99a46bcc467edba2",
       "version_major": 2,
       "version_minor": 0
      },
      "text/plain": [
       "Processing gene chunks:   0%|          | 0/29 [00:00<?, ?it/s]"
      ]
     },
     "metadata": {},
     "output_type": "display_data"
    },
    {
     "data": {
      "application/vnd.jupyter.widget-view+json": {
       "model_id": "9342576b52db4813b42c0e9e7b86c893",
       "version_major": 2,
       "version_minor": 0
      },
      "text/plain": [
       "Processing gene chunks:   0%|          | 0/29 [00:00<?, ?it/s]"
      ]
     },
     "metadata": {},
     "output_type": "display_data"
    },
    {
     "data": {
      "application/vnd.jupyter.widget-view+json": {
       "model_id": "6d61ddb4aed646dbb3589f331c4b625a",
       "version_major": 2,
       "version_minor": 0
      },
      "text/plain": [
       "Processing gene chunks:   0%|          | 0/29 [00:00<?, ?it/s]"
      ]
     },
     "metadata": {},
     "output_type": "display_data"
    },
    {
     "data": {
      "application/vnd.jupyter.widget-view+json": {
       "model_id": "8e7a033bee254650ac77ec26fec15ccf",
       "version_major": 2,
       "version_minor": 0
      },
      "text/plain": [
       "Processing gene chunks:   0%|          | 0/29 [00:00<?, ?it/s]"
      ]
     },
     "metadata": {},
     "output_type": "display_data"
    },
    {
     "data": {
      "application/vnd.jupyter.widget-view+json": {
       "model_id": "4eb8ab705ac04ab99989742518e6e71a",
       "version_major": 2,
       "version_minor": 0
      },
      "text/plain": [
       "Processing gene chunks:   0%|          | 0/29 [00:00<?, ?it/s]"
      ]
     },
     "metadata": {},
     "output_type": "display_data"
    },
    {
     "data": {
      "application/vnd.jupyter.widget-view+json": {
       "model_id": "d4bfc51624394fcc8165cbe6da9115d4",
       "version_major": 2,
       "version_minor": 0
      },
      "text/plain": [
       "Processing gene chunks:   0%|          | 0/29 [00:00<?, ?it/s]"
      ]
     },
     "metadata": {},
     "output_type": "display_data"
    },
    {
     "data": {
      "application/vnd.jupyter.widget-view+json": {
       "model_id": "15428efb1790476aba2b8bc8ecca26ad",
       "version_major": 2,
       "version_minor": 0
      },
      "text/plain": [
       "Processing gene chunks:   0%|          | 0/29 [00:00<?, ?it/s]"
      ]
     },
     "metadata": {},
     "output_type": "display_data"
    },
    {
     "data": {
      "application/vnd.jupyter.widget-view+json": {
       "model_id": "d4a20873622047bfaa61a3e3c155ede2",
       "version_major": 2,
       "version_minor": 0
      },
      "text/plain": [
       "Processing gene chunks:   0%|          | 0/29 [00:00<?, ?it/s]"
      ]
     },
     "metadata": {},
     "output_type": "display_data"
    },
    {
     "data": {
      "application/vnd.jupyter.widget-view+json": {
       "model_id": "9d2364fee8c04a41ab98a9dc0db35e3b",
       "version_major": 2,
       "version_minor": 0
      },
      "text/plain": [
       "Processing gene chunks:   0%|          | 0/29 [00:00<?, ?it/s]"
      ]
     },
     "metadata": {},
     "output_type": "display_data"
    },
    {
     "data": {
      "application/vnd.jupyter.widget-view+json": {
       "model_id": "2129f1f8cb4a42348254a79c6e5f6ab8",
       "version_major": 2,
       "version_minor": 0
      },
      "text/plain": [
       "Processing gene chunks:   0%|          | 0/29 [00:00<?, ?it/s]"
      ]
     },
     "metadata": {},
     "output_type": "display_data"
    },
    {
     "data": {
      "application/vnd.jupyter.widget-view+json": {
       "model_id": "a553dfd57236434aa463b54900f21f9f",
       "version_major": 2,
       "version_minor": 0
      },
      "text/plain": [
       "Processing gene chunks:   0%|          | 0/29 [00:00<?, ?it/s]"
      ]
     },
     "metadata": {},
     "output_type": "display_data"
    },
    {
     "data": {
      "application/vnd.jupyter.widget-view+json": {
       "model_id": "54cbe2dbdce34228b9d1b0b22dcd70fd",
       "version_major": 2,
       "version_minor": 0
      },
      "text/plain": [
       "Processing gene chunks:   0%|          | 0/29 [00:00<?, ?it/s]"
      ]
     },
     "metadata": {},
     "output_type": "display_data"
    },
    {
     "data": {
      "application/vnd.jupyter.widget-view+json": {
       "model_id": "3058dc83d268482abc4c324c24d6bdb3",
       "version_major": 2,
       "version_minor": 0
      },
      "text/plain": [
       "Processing gene chunks:   0%|          | 0/29 [00:00<?, ?it/s]"
      ]
     },
     "metadata": {},
     "output_type": "display_data"
    },
    {
     "data": {
      "application/vnd.jupyter.widget-view+json": {
       "model_id": "a30461b377d249c9bf8bad2c44a82731",
       "version_major": 2,
       "version_minor": 0
      },
      "text/plain": [
       "Processing gene chunks:   0%|          | 0/29 [00:00<?, ?it/s]"
      ]
     },
     "metadata": {},
     "output_type": "display_data"
    },
    {
     "data": {
      "application/vnd.jupyter.widget-view+json": {
       "model_id": "fafc467cfbc6412988162325ecaee838",
       "version_major": 2,
       "version_minor": 0
      },
      "text/plain": [
       "Processing gene chunks:   0%|          | 0/29 [00:00<?, ?it/s]"
      ]
     },
     "metadata": {},
     "output_type": "display_data"
    },
    {
     "data": {
      "application/vnd.jupyter.widget-view+json": {
       "model_id": "b2595dd60b89473fb9a5559559b39c7f",
       "version_major": 2,
       "version_minor": 0
      },
      "text/plain": [
       "Processing gene chunks:   0%|          | 0/29 [00:00<?, ?it/s]"
      ]
     },
     "metadata": {},
     "output_type": "display_data"
    },
    {
     "data": {
      "application/vnd.jupyter.widget-view+json": {
       "model_id": "08a63928ff6147c09b300e8da0b8dd62",
       "version_major": 2,
       "version_minor": 0
      },
      "text/plain": [
       "Processing gene chunks:   0%|          | 0/29 [00:00<?, ?it/s]"
      ]
     },
     "metadata": {},
     "output_type": "display_data"
    },
    {
     "data": {
      "application/vnd.jupyter.widget-view+json": {
       "model_id": "8888d97f7d4a447e858ce5b1da5dc0ee",
       "version_major": 2,
       "version_minor": 0
      },
      "text/plain": [
       "Processing gene chunks:   0%|          | 0/29 [00:00<?, ?it/s]"
      ]
     },
     "metadata": {},
     "output_type": "display_data"
    },
    {
     "data": {
      "application/vnd.jupyter.widget-view+json": {
       "model_id": "e0f4e53aade64ab7a67d8274ea4bfc98",
       "version_major": 2,
       "version_minor": 0
      },
      "text/plain": [
       "Processing gene chunks:   0%|          | 0/29 [00:00<?, ?it/s]"
      ]
     },
     "metadata": {},
     "output_type": "display_data"
    },
    {
     "data": {
      "application/vnd.jupyter.widget-view+json": {
       "model_id": "01073997611b4a879528221ce1a7db02",
       "version_major": 2,
       "version_minor": 0
      },
      "text/plain": [
       "Processing gene chunks:   0%|          | 0/29 [00:00<?, ?it/s]"
      ]
     },
     "metadata": {},
     "output_type": "display_data"
    },
    {
     "data": {
      "application/vnd.jupyter.widget-view+json": {
       "model_id": "7e2ded7f82dd47a884f49ac472e3c100",
       "version_major": 2,
       "version_minor": 0
      },
      "text/plain": [
       "Processing gene chunks:   0%|          | 0/29 [00:00<?, ?it/s]"
      ]
     },
     "metadata": {},
     "output_type": "display_data"
    },
    {
     "data": {
      "application/vnd.jupyter.widget-view+json": {
       "model_id": "ffa95cefa195426ebae100aee30e0191",
       "version_major": 2,
       "version_minor": 0
      },
      "text/plain": [
       "Processing gene chunks:   0%|          | 0/29 [00:00<?, ?it/s]"
      ]
     },
     "metadata": {},
     "output_type": "display_data"
    },
    {
     "data": {
      "application/vnd.jupyter.widget-view+json": {
       "model_id": "5806f249015846b7910f5b327b2ad4a8",
       "version_major": 2,
       "version_minor": 0
      },
      "text/plain": [
       "Processing gene chunks:   0%|          | 0/29 [00:00<?, ?it/s]"
      ]
     },
     "metadata": {},
     "output_type": "display_data"
    },
    {
     "data": {
      "application/vnd.jupyter.widget-view+json": {
       "model_id": "65264428765a484fa37c7aadbcf20fa8",
       "version_major": 2,
       "version_minor": 0
      },
      "text/plain": [
       "Processing gene chunks:   0%|          | 0/29 [00:00<?, ?it/s]"
      ]
     },
     "metadata": {},
     "output_type": "display_data"
    },
    {
     "data": {
      "application/vnd.jupyter.widget-view+json": {
       "model_id": "df03760ae31547f99a520d15303e6da0",
       "version_major": 2,
       "version_minor": 0
      },
      "text/plain": [
       "Processing gene chunks:   0%|          | 0/29 [00:00<?, ?it/s]"
      ]
     },
     "metadata": {},
     "output_type": "display_data"
    },
    {
     "data": {
      "application/vnd.jupyter.widget-view+json": {
       "model_id": "c609a4d8135f47b59dcd38d91c16214a",
       "version_major": 2,
       "version_minor": 0
      },
      "text/plain": [
       "Processing gene chunks:   0%|          | 0/29 [00:00<?, ?it/s]"
      ]
     },
     "metadata": {},
     "output_type": "display_data"
    },
    {
     "data": {
      "application/vnd.jupyter.widget-view+json": {
       "model_id": "644fdda930c046a995b4b16c5cdde5c5",
       "version_major": 2,
       "version_minor": 0
      },
      "text/plain": [
       "Processing gene chunks:   0%|          | 0/29 [00:00<?, ?it/s]"
      ]
     },
     "metadata": {},
     "output_type": "display_data"
    }
   ],
   "source": [
    "from tqdm.auto import tqdm\n",
    "\n",
    "model_X_kng = np.zeros((\n",
    "    len(PREFIX_LIST),\n",
    "    len(val_adata),\n",
    "    len(query_gene_ids)))\n",
    "\n",
    "for k in tqdm(range(len(PREFIX_LIST))):\n",
    "\n",
    "    prefix = PREFIX_LIST[k]\n",
    "    checkpoint_path = CHECKPOINT_PATH_LIST[k]\n",
    "\n",
    "    ctx = CellariumGPTInferenceContext(\n",
    "        cellarium_gpt_ckpt_path=checkpoint_path,\n",
    "        ref_adata_path=REF_ADATA_PATH,\n",
    "        gene_info_tsv_path=GENE_INFO_PATH,\n",
    "        device=DEVICE,\n",
    "        attention_backend=\"mem_efficient\",\n",
    "        verbose=False\n",
    "    )\n",
    "\n",
    "    for n in tqdm(range(len(val_adata))):\n",
    "\n",
    "        # arguments\n",
    "        row = val_adata.obs.iloc[n]\n",
    "\n",
    "        assay = row.assay\n",
    "        suspension_type = row.suspension_type\n",
    "        prompt_metadata_dict = {\n",
    "            \"cell_type\": row.cell_type,\n",
    "            \"tissue\": row.tissue,\n",
    "            \"disease\": row.disease,\n",
    "            \"sex\": row.sex,\n",
    "        }\n",
    "        total_mrna_umis = float(row.total_mrna_umis)\n",
    "\n",
    "        query_chunk_size = 1_000\n",
    "        max_counts = 500\n",
    "        upper_percentile = 0.5  # doesn't matter, we only need the logits\n",
    "        upper_pad = 1  # doesn't matter, we only need the logits\n",
    "\n",
    "        gex_range_dict = ctx.predict_gene_expression_range_for_metadata(\n",
    "            assay=assay,\n",
    "            suspension_type=suspension_type,\n",
    "            prompt_metadata_dict=prompt_metadata_dict,\n",
    "            total_mrna_umis=total_mrna_umis,\n",
    "            query_gene_ids=query_gene_ids,\n",
    "            query_chunk_size=query_chunk_size,\n",
    "            total_prob_mass=upper_percentile,\n",
    "            symmetric_range_pad=upper_pad,\n",
    "            max_counts=max_counts,\n",
    "        )\n",
    "\n",
    "        model_X_kng[k, n, :] = gex_range_dict['gene_marginal_mean_q'].cpu().numpy()"
   ]
  },
  {
   "cell_type": "code",
   "execution_count": 12,
   "metadata": {},
   "outputs": [],
   "source": [
    "# renormalize\n",
    "model_X_kng = 10_000 * model_X_kng / model_X_kng.sum(axis=-1, keepdims=True)\n",
    "empirical_X_ng = val_adata.X.copy()\n",
    "empirical_X_ng = 10_000 * empirical_X_ng / empirical_X_ng.sum(axis=1, keepdims=True)"
   ]
  },
  {
   "cell_type": "code",
   "execution_count": 25,
   "metadata": {},
   "outputs": [],
   "source": [
    "from collections import defaultdict\n",
    "\n",
    "results_dict = defaultdict(list)\n",
    "\n",
    "for k in range(len(PREFIX_LIST)):\n",
    "    for n in range(len(val_adata)):\n",
    "        x = np.log1p(empirical_X_ng[n, :])\n",
    "        y = np.log1p(model_X_kng[k, n, :])\n",
    "        r_squared = np.corrcoef(x, y)[0, 1] ** 2\n",
    "\n",
    "        results_dict['val_cell_type_idx'].append(n)\n",
    "        results_dict['prefix'].append(PREFIX_LIST[k])\n",
    "        results_dict[f'r_squared'].append(r_squared)"
   ]
  },
  {
   "cell_type": "code",
   "execution_count": 27,
   "metadata": {},
   "outputs": [],
   "source": [
    "df = pd.DataFrame(results_dict)"
   ]
  },
  {
   "cell_type": "code",
   "execution_count": 35,
   "metadata": {},
   "outputs": [
    {
     "data": {
      "text/plain": [
       "Text(0, 0.5, 'R²')"
      ]
     },
     "execution_count": 35,
     "metadata": {},
     "output_type": "execute_result"
    },
    {
     "data": {
      "image/png": "[encoded data removed]",
      "text/plain": [
       "<Figure size 480x480 with 1 Axes>"
      ]
     },
     "metadata": {
      "image/png": {
       "height": 561,
       "width": 451
      }
     },
     "output_type": "display_data"
    }
   ],
   "source": [
    "import seaborn as sns\n",
    "\n",
    "# Create the plot with boxplot and jittered points.\n",
    "plt.figure(figsize=(6, 6))\n",
    "\n",
    "# Plot the boxplot without outliers.\n",
    "ax = sns.boxplot(\n",
    "    x='prefix',\n",
    "    y='r_squared',\n",
    "    data=df,\n",
    "    order=PREFIX_LIST,       # enforce prefix order\n",
    "    showfliers=False,        # do not show outliers\n",
    "    linewidth=1            # thinner lines\n",
    ")\n",
    "\n",
    "# Overlay the actual points with jitter.\n",
    "sns.stripplot(\n",
    "    x='prefix',\n",
    "    y='r_squared',\n",
    "    data=df,\n",
    "    order=PREFIX_LIST,\n",
    "    dodge=True,    # position points within each box category\n",
    "    jitter=True,   # add jitter for better visibility\n",
    "    marker='o',\n",
    "    color='black',\n",
    "    alpha=0.7,\n",
    "    size=3\n",
    ")\n",
    "\n",
    "plt.xticks(rotation=90)\n",
    "\n",
    "ax.set_xlabel('Model')\n",
    "ax.set_ylabel('R²')\n"
   ]
  },
  {
   "cell_type": "code",
   "execution_count": 59,
   "metadata": {},
   "outputs": [
    {
     "data": {
      "text/html": [
       "<div>\n",
       "<style scoped>\n",
       "    .dataframe tbody tr th:only-of-type {\n",
       "        vertical-align: middle;\n",
       "    }\n",
       "\n",
       "    .dataframe tbody tr th {\n",
       "        vertical-align: top;\n",
       "    }\n",
       "\n",
       "    .dataframe thead th {\n",
       "        text-align: right;\n",
       "    }\n",
       "</style>\n",
       "<table border=\"1\" class=\"dataframe\">\n",
       "  <thead>\n",
       "    <tr style=\"text-align: right;\">\n",
       "      <th></th>\n",
       "      <th>cell_type</th>\n",
       "      <th>assay</th>\n",
       "      <th>suspension_type</th>\n",
       "      <th>tissue</th>\n",
       "      <th>sex</th>\n",
       "      <th>disease</th>\n",
       "      <th>total_mrna_umis</th>\n",
       "      <th>r_squared</th>\n",
       "    </tr>\n",
       "  </thead>\n",
       "  <tbody>\n",
       "    <tr>\n",
       "      <th>7</th>\n",
       "      <td>endothelial cell</td>\n",
       "      <td>10x 3' v3</td>\n",
       "      <td>nucleus</td>\n",
       "      <td>brain</td>\n",
       "      <td>male</td>\n",
       "      <td>normal</td>\n",
       "      <td>3115.828938</td>\n",
       "      <td>0.838061</td>\n",
       "    </tr>\n",
       "    <tr>\n",
       "      <th>60</th>\n",
       "      <td>cardiac neuron</td>\n",
       "      <td>10x 3' v3</td>\n",
       "      <td>nucleus</td>\n",
       "      <td>heart</td>\n",
       "      <td>male</td>\n",
       "      <td>normal</td>\n",
       "      <td>2238.708571</td>\n",
       "      <td>0.826051</td>\n",
       "    </tr>\n",
       "    <tr>\n",
       "      <th>50</th>\n",
       "      <td>epithelial cell of lower respiratory tract</td>\n",
       "      <td>10x 5' v1</td>\n",
       "      <td>cell</td>\n",
       "      <td>lung</td>\n",
       "      <td>male</td>\n",
       "      <td>normal</td>\n",
       "      <td>5956.795231</td>\n",
       "      <td>0.821417</td>\n",
       "    </tr>\n",
       "    <tr>\n",
       "      <th>8</th>\n",
       "      <td>classical monocyte</td>\n",
       "      <td>10x 5' v2</td>\n",
       "      <td>cell</td>\n",
       "      <td>blood</td>\n",
       "      <td>male</td>\n",
       "      <td>normal</td>\n",
       "      <td>3922.025000</td>\n",
       "      <td>0.818895</td>\n",
       "    </tr>\n",
       "    <tr>\n",
       "      <th>32</th>\n",
       "      <td>kidney collecting duct intercalated cell</td>\n",
       "      <td>10x 3' v3</td>\n",
       "      <td>nucleus</td>\n",
       "      <td>kidney</td>\n",
       "      <td>male</td>\n",
       "      <td>normal</td>\n",
       "      <td>4906.310584</td>\n",
       "      <td>0.818298</td>\n",
       "    </tr>\n",
       "    <tr>\n",
       "      <th>27</th>\n",
       "      <td>kidney collecting duct principal cell</td>\n",
       "      <td>10x 3' v3</td>\n",
       "      <td>nucleus</td>\n",
       "      <td>kidney</td>\n",
       "      <td>male</td>\n",
       "      <td>normal</td>\n",
       "      <td>6444.458460</td>\n",
       "      <td>0.809279</td>\n",
       "    </tr>\n",
       "    <tr>\n",
       "      <th>54</th>\n",
       "      <td>epithelial cell of lung</td>\n",
       "      <td>10x 5' v1</td>\n",
       "      <td>cell</td>\n",
       "      <td>lung</td>\n",
       "      <td>male</td>\n",
       "      <td>normal</td>\n",
       "      <td>15015.278925</td>\n",
       "      <td>0.808601</td>\n",
       "    </tr>\n",
       "    <tr>\n",
       "      <th>28</th>\n",
       "      <td>kidney loop of Henle thin descending limb epit...</td>\n",
       "      <td>10x 3' v3</td>\n",
       "      <td>nucleus</td>\n",
       "      <td>kidney</td>\n",
       "      <td>male</td>\n",
       "      <td>normal</td>\n",
       "      <td>4345.735849</td>\n",
       "      <td>0.806585</td>\n",
       "    </tr>\n",
       "    <tr>\n",
       "      <th>40</th>\n",
       "      <td>endothelial cell of artery</td>\n",
       "      <td>10x 3' v2</td>\n",
       "      <td>cell</td>\n",
       "      <td>liver</td>\n",
       "      <td>male</td>\n",
       "      <td>normal</td>\n",
       "      <td>3987.627119</td>\n",
       "      <td>0.797075</td>\n",
       "    </tr>\n",
       "    <tr>\n",
       "      <th>29</th>\n",
       "      <td>kidney loop of Henle thin ascending limb epith...</td>\n",
       "      <td>10x 3' v3</td>\n",
       "      <td>nucleus</td>\n",
       "      <td>kidney</td>\n",
       "      <td>male</td>\n",
       "      <td>normal</td>\n",
       "      <td>5964.088479</td>\n",
       "      <td>0.694047</td>\n",
       "    </tr>\n",
       "  </tbody>\n",
       "</table>\n",
       "</div>"
      ],
      "text/plain": [
       "                                            cell_type      assay  \\\n",
       "7                                    endothelial cell  10x 3' v3   \n",
       "60                                     cardiac neuron  10x 3' v3   \n",
       "50         epithelial cell of lower respiratory tract  10x 5' v1   \n",
       "8                                  classical monocyte  10x 5' v2   \n",
       "32           kidney collecting duct intercalated cell  10x 3' v3   \n",
       "27              kidney collecting duct principal cell  10x 3' v3   \n",
       "54                            epithelial cell of lung  10x 5' v1   \n",
       "28  kidney loop of Henle thin descending limb epit...  10x 3' v3   \n",
       "40                         endothelial cell of artery  10x 3' v2   \n",
       "29  kidney loop of Henle thin ascending limb epith...  10x 3' v3   \n",
       "\n",
       "   suspension_type  tissue   sex disease  total_mrna_umis  r_squared  \n",
       "7          nucleus   brain  male  normal      3115.828938   0.838061  \n",
       "60         nucleus   heart  male  normal      2238.708571   0.826051  \n",
       "50            cell    lung  male  normal      5956.795231   0.821417  \n",
       "8             cell   blood  male  normal      3922.025000   0.818895  \n",
       "32         nucleus  kidney  male  normal      4906.310584   0.818298  \n",
       "27         nucleus  kidney  male  normal      6444.458460   0.809279  \n",
       "54            cell    lung  male  normal     15015.278925   0.808601  \n",
       "28         nucleus  kidney  male  normal      4345.735849   0.806585  \n",
       "40            cell   liver  male  normal      3987.627119   0.797075  \n",
       "29         nucleus  kidney  male  normal      5964.088479   0.694047  "
      ]
     },
     "execution_count": 59,
     "metadata": {},
     "output_type": "execute_result"
    }
   ],
   "source": [
    "val_adata_ext = val_adata.copy()\n",
    "val_adata_ext.obs['r_squared'] = df[df['prefix'] == '100M_long_run_last']['r_squared'].values\n",
    "val_adata_ext.obs.sort_values('r_squared', ascending=False, inplace=True)\n",
    "val_adata_ext.obs.tail(10)"
   ]
  }
 ],
 "metadata": {
  "kernelspec": {
   "display_name": "base",
   "language": "python",
   "name": "python3"
  },
  "language_info": {
   "codemirror_mode": {
    "name": "ipython",
    "version": 3
   },
   "file_extension": ".py",
   "mimetype": "text/x-python",
   "name": "python",
   "nbconvert_exporter": "python",
   "pygments_lexer": "ipython3",
   "version": "3.10.16"
  }
 },
 "nbformat": 4,
 "nbformat_minor": 2
}
