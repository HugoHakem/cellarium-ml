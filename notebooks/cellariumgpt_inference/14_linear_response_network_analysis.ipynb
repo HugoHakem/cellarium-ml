{
 "cells": [
  {
   "cell_type": "markdown",
   "metadata": {},
   "source": [
    "### _in silico_ perturbation by cell type prompting"
   ]
  },
  {
   "cell_type": "code",
   "execution_count": null,
   "metadata": {},
   "outputs": [],
   "source": [
    "import os\n",
    "import torch\n",
    "import warnings\n",
    "import numpy as np\n",
    "import scanpy as sc\n",
    "import pandas as pd\n",
    "import matplotlib.pyplot as plt\n",
    "\n",
    "sc.set_figure_params(figsize=(4, 4))\n",
    "\n",
    "DEVICE = torch.device('cuda:0')\n",
    "\n",
    "from cellarium.ml.utilities.inference.cellarium_gpt_inference import \\\n",
    "    CellariumGPTInferenceContext, \\\n",
    "    GeneNetworkAnalysisBase, \\\n",
    "    load_gene_info_table"
   ]
  },
  {
   "cell_type": "code",
   "execution_count": null,
   "metadata": {},
   "outputs": [],
   "source": [
    "ROOT_PATH = \"/home/mehrtash/data\"\n",
    "REF_ADATA_PATH = os.path.join(ROOT_PATH, \"data\", \"extract_0.h5ad\")\n",
    "GENE_INFO_PATH = os.path.join(ROOT_PATH, \"gene_info\", \"gene_info.tsv\")"
   ]
  },
  {
   "cell_type": "code",
   "execution_count": null,
   "metadata": {},
   "outputs": [],
   "source": [
    "val_adata = sc.read_h5ad(\"/home/mehrtash/data/data/cellariumgpt_artifacts/cell_types_for_validation_filtered.h5ad\")"
   ]
  },
  {
   "cell_type": "code",
   "execution_count": null,
   "metadata": {},
   "outputs": [],
   "source": [
    "import pickle\n",
    "\n",
    "# load linear response results\n",
    "linear_response_file_path = os.path.join(ROOT_PATH, \"data\", \"linear_response\", \"100M\", \"linear_response_cell_index_13.pkl\")\n",
    "\n",
    "with open(linear_response_file_path, \"rb\") as f:\n",
    "    linear_response_dict = pickle.load(f)"
   ]
  },
  {
   "cell_type": "code",
   "execution_count": null,
   "metadata": {},
   "outputs": [],
   "source": [
    "gene_info_df, gene_symbol_to_gene_id_map, gene_id_to_gene_symbol_map = load_gene_info_table(\n",
    "    GENE_INFO_PATH, included_gene_ids=linear_response_dict[\"query_gene_ids\"])"
   ]
  },
  {
   "cell_type": "code",
   "execution_count": null,
   "metadata": {},
   "outputs": [],
   "source": [
    "for k in linear_response_dict.keys():\n",
    "    print(k)"
   ]
  },
  {
   "cell_type": "code",
   "execution_count": null,
   "metadata": {},
   "outputs": [],
   "source": [
    "plt.hist(linear_response_dict['r_squared_qp'].flatten(), bins=50, log=True);"
   ]
  },
  {
   "cell_type": "code",
   "execution_count": null,
   "metadata": {},
   "outputs": [],
   "source": [
    "plt.hist(linear_response_dict['slope_qp'].flatten(), bins=50, log=True);"
   ]
  },
  {
   "cell_type": "code",
   "execution_count": null,
   "metadata": {},
   "outputs": [],
   "source": [
    "# Generate an AnnData containing just the metadata\n",
    "adata_prop = sc.AnnData(\n",
    "    X=np.zeros((1, 1)),\n",
    "    obs=pd.DataFrame({\n",
    "        \"cell_type\": [linear_response_dict[\"prompt_metadata_dict\"][\"cell_type\"]],\n",
    "        \"tissue\": [linear_response_dict[\"prompt_metadata_dict\"][\"tissue\"]],\n",
    "        \"assay\": [linear_response_dict[\"assay\"]],\n",
    "        \"suspension_type\": [linear_response_dict[\"suspension_type\"]],\n",
    "        \"total_mrna_umis\": [linear_response_dict[\"total_mrna_umis\"]],\n",
    "        \"disease\": \"normal\",\n",
    "        \"development_stage\": \"unknown\",\n",
    "        \"sex\": \"male\",\n",
    "    })\n",
    ")"
   ]
  },
  {
   "cell_type": "code",
   "execution_count": null,
   "metadata": {},
   "outputs": [],
   "source": [
    "adata_prop.obs"
   ]
  },
  {
   "cell_type": "code",
   "execution_count": null,
   "metadata": {},
   "outputs": [],
   "source": [
    "gene_info_tsv_path = os.path.join(ROOT_PATH, \"gene_info\", \"gene_info.tsv\")\n",
    "\n",
    "min_r_squared = 0.25\n",
    "\n",
    "response_qp = linear_response_dict[\"slope_qp\"].copy()\n",
    "response_qp[linear_response_dict[\"r_squared_qp\"] < min_r_squared] = 0.\n",
    "\n",
    "query_marginal_mean_q = linear_response_dict[\"gene_marginal_mean_q\"]\n",
    "query_marginal_std_q = linear_response_dict[\"gene_marginal_std_q\"]\n",
    "\n",
    "# note: prompt and query genes are the same in these experiments\n",
    "prompt_marginal_mean_p = linear_response_dict[\"gene_marginal_mean_q\"]\n",
    "prompt_marginal_std_p = linear_response_dict[\"gene_marginal_std_q\"]\n",
    "\n",
    "network_ctx = GeneNetworkAnalysisBase(\n",
    "    adata_obs=adata_prop.obs,\n",
    "    gene_info_tsv_path=gene_info_tsv_path,\n",
    "    query_var_names=linear_response_dict[\"query_gene_ids\"].tolist(),\n",
    "    prompt_var_names=linear_response_dict[\"query_gene_ids\"].tolist(),\n",
    "    response_qp=response_qp,\n",
    "    prompt_marginal_mean_p=prompt_marginal_mean_p,\n",
    "    prompt_marginal_std_p=prompt_marginal_std_p,\n",
    "    query_marginal_mean_q=query_marginal_mean_q,\n",
    "    query_marginal_std_q=query_marginal_std_q,\n",
    "    verbose=True\n",
    ")"
   ]
  },
  {
   "cell_type": "code",
   "execution_count": null,
   "metadata": {},
   "outputs": [],
   "source": [
    "network_ctx.process(\n",
    "    response_normalization_strategy=\"log1p\",\n",
    "    feature_normalization_strategy=\"z_score\",\n",
    "    feature_max_value=None,\n",
    "    query_response_amp_min_pct=None,\n",
    "    min_prompt_gene_tpm=0.1,\n",
    "    min_query_gene_tpm=0.1,\n",
    "    norm_pseudo_count=0.,  # not needed for log1p normalization strategy\n",
    "    query_hv_top_k=None,\n",
    "    z_trans_func=None,\n",
    "    included_gene_biotypes={'protein_coding'},\n",
    ")\n",
    "\n",
    "# network_ctx.process(\n",
    "#     response_normalization_strategy=\"corr\",\n",
    "#     feature_normalization_strategy=\"z_score\",\n",
    "#     feature_max_value=None,\n",
    "#     query_response_amp_min_pct=None,\n",
    "#     min_prompt_gene_tpm=1,\n",
    "#     min_query_gene_tpm=1,\n",
    "#     norm_pseudo_count=1e-3,\n",
    "#     query_hv_top_k=None,\n",
    "#     z_trans_func=None,\n",
    "# )\n",
    "\n",
    "# network_ctx.process(\n",
    "#     response_normalization_strategy=\"mean\",\n",
    "#     feature_normalization_strategy=\"z_score\",\n",
    "#     feature_max_value=None,\n",
    "#     query_response_amp_min_pct=None,\n",
    "#     min_prompt_gene_tpm=0.1,\n",
    "#     min_query_gene_tpm=0.1,\n",
    "#     norm_pseudo_count=1e-3,\n",
    "#     query_hv_top_k=None,\n",
    "#     z_trans_func=None,\n",
    "# )"
   ]
  },
  {
   "cell_type": "code",
   "execution_count": null,
   "metadata": {},
   "outputs": [],
   "source": [
    "network_ctx.compute_adjacency_matrix(\n",
    "    adjacency_strategy=\"positive_correlation\",\n",
    "    n_neighbors=50,\n",
    "    beta=12.,\n",
    "    # beta=1.,\n",
    "    self_loop=False)"
   ]
  },
  {
   "cell_type": "code",
   "execution_count": null,
   "metadata": {},
   "outputs": [],
   "source": [
    "i = network_ctx.prompt_gene_id_to_idx_map[network_ctx.gene_symbol_to_gene_id_map['MT-CO1']]\n",
    "inds = np.argsort(network_ctx.a_pp[i, :])[::-1]\n",
    "for j in inds[:100]:\n",
    "    print(network_ctx.prompt_gene_symbols[j], network_ctx.a_pp[i, j])"
   ]
  },
  {
   "cell_type": "code",
   "execution_count": null,
   "metadata": {},
   "outputs": [],
   "source": [
    "network_ctx.compute_leiden_communites(\n",
    "    resolution=10.0)"
   ]
  },
  {
   "cell_type": "code",
   "execution_count": null,
   "metadata": {},
   "outputs": [],
   "source": [
    "len(np.unique(network_ctx.leiden_membership))"
   ]
  },
  {
   "cell_type": "markdown",
   "metadata": {},
   "source": [
    "#### Embedding"
   ]
  },
  {
   "cell_type": "code",
   "execution_count": null,
   "metadata": {},
   "outputs": [],
   "source": [
    "import pymde\n",
    "\n",
    "network_ctx.make_mde_embedding(\n",
    "    n_neighbors=20,\n",
    "    # repulsive_penalty=pymde.penalties.Log,\n",
    "    max_iter=1000,\n",
    "    init=\"quadratic\",\n",
    "    device=\"cuda\")"
   ]
  },
  {
   "cell_type": "code",
   "execution_count": null,
   "metadata": {},
   "outputs": [],
   "source": [
    "def get_gene_familities(network_ctx: GeneNetworkAnalysisBase, prefix_list: list[str]) -> tuple[list[str], list[str]]:\n",
    "    _gene_symbols = [gene_symbol for prefix in prefix_list for gene_symbol in network_ctx.prompt_gene_symbols if gene_symbol.startswith(prefix)]\n",
    "    gene_ids = [network_ctx.gene_symbol_to_gene_id_map[gene_symbol] for gene_symbol in _gene_symbols]\n",
    "    gene_symbols = [network_ctx.gene_id_to_gene_symbol_map[gene_id] for gene_id in gene_ids]\n",
    "    return gene_ids, gene_symbols\n",
    "\n",
    "mito_gene_ids, mito_gene_symbols = get_gene_familities(network_ctx, [\"MT-\"])\n",
    "ribo_gene_ids, ribo_gene_symbols = get_gene_familities(network_ctx, [\"RPS\", \"RPL\"])\n",
    "hla_gene_ids, hla_gene_symbols = get_gene_familities(network_ctx, [\"HLA\"])\n",
    "ifi_gene_ids, ifi_gene_symbols = get_gene_familities(network_ctx, [\"IFI\"])\n",
    "trav_gene_ids, trav_gene_symbols = get_gene_familities(network_ctx, [\"TRAV\"])\n",
    "hb_gene_ids, hb_gene_symbols = get_gene_familities(network_ctx, [\"HBA\", \"HBB\"])\n",
    "\n",
    "snap_n_gene_symbols = [\n",
    "    'GAP43',\n",
    "    'NRXN3',\n",
    "    'HOMER1',\n",
    "    'IL1RAPL2',\n",
    "    'EPHA3',\n",
    "    'RIMS1',\n",
    "    'SV2B',\n",
    "    'TRIM9',\n",
    "    'SVOP',\n",
    "    'RPH3A',\n",
    "    'SYT12',\n",
    "    'SYT1',\n",
    "    'R3HDM2',\n",
    "    'PDE4B',\n",
    "    'DCC',\n",
    "    'SLC4A10',\n",
    "    'DNM3',\n",
    "    'GRM1',\n",
    "    'EGR4',\n",
    "    'JUNB',\n",
    "    'TFDP2'\n",
    "]\n",
    "\n",
    "snap_n_gene_symbols = [x for x in snap_n_gene_symbols if x in network_ctx.prompt_gene_symbols]\n",
    "snap_n_gene_ids = [network_ctx.gene_symbol_to_gene_id_map[x] for x in snap_n_gene_symbols]\n",
    "\n",
    "highlight_gene_sets = {\n",
    "    \"Mito\": (mito_gene_ids, mito_gene_symbols, 'red'),\n",
    "    \"Ribo\": (ribo_gene_ids, ribo_gene_symbols, 'blue'),\n",
    "    \"HLA\": (hla_gene_ids, hla_gene_symbols, 'green'),\n",
    "    \"IFI\": (ifi_gene_ids, ifi_gene_symbols, 'orange'),\n",
    "    \"TRAV\": (trav_gene_ids, trav_gene_symbols, 'purple'),\n",
    "    # \"HB\": (hb_gene_ids, hb_gene_symbols, 'black'),\n",
    "    # \"TTN\": ([network_ctx.gene_symbol_to_gene_id_map['TTN']], ['TTN'], 'black'),\n",
    "    # \"SNAP-N\": (snap_n_gene_ids, snap_n_gene_symbols, 'brown'),\n",
    "}\n",
    "\n",
    "# disable\n",
    "# highlight_gene_sets = None"
   ]
  },
  {
   "cell_type": "code",
   "execution_count": null,
   "metadata": {},
   "outputs": [],
   "source": [
    "network_ctx.plot_mde_embedding(highlight_gene_sets=highlight_gene_sets)"
   ]
  },
  {
   "cell_type": "code",
   "execution_count": null,
   "metadata": {},
   "outputs": [],
   "source": [
    "sorted(np.asarray(network_ctx.prompt_gene_symbols)[network_ctx.leiden_membership == 5])"
   ]
  },
  {
   "cell_type": "code",
   "execution_count": null,
   "metadata": {},
   "outputs": [],
   "source": [
    "import plotly.express as px\n",
    "\n",
    "# Create a DataFrame for Plotly\n",
    "df = pd.DataFrame({\n",
    "    'x': network_ctx.embedding_p2[:, 0],\n",
    "    'y': network_ctx.embedding_p2[:, 1],\n",
    "    'label': network_ctx.prompt_gene_symbols,\n",
    "    'log1p_mean': np.clip(\n",
    "        np.log(1 + network_ctx.prompt_marginal_mean_p * 10_000 / network_ctx.prompt_marginal_mean_p.sum()),\n",
    "        0, 0.5)\n",
    "})\n",
    "\n",
    "# Create the scatter plot\n",
    "fig = px.scatter(\n",
    "    df,\n",
    "    x='x',\n",
    "    y='y',\n",
    "    hover_name='label',\n",
    "    color='log1p_mean',\n",
    "    color_continuous_scale=[(0,'yellow'), (0.5, 'blue'), (1,'red')],\n",
    ")\n",
    "\n",
    "# Update marker size\n",
    "fig.update_traces(marker=dict(size=2))  # Adjust the size as needed\n",
    "\n",
    "# Update layout to decrease the width of the plot\n",
    "fig.update_layout(\n",
    "    width=800,  # Adjust the width as needed\n",
    "    height=800,\n",
    "    plot_bgcolor='white',\n",
    "    xaxis=dict(\n",
    "        showgrid=False,\n",
    "        showticklabels=False,\n",
    "        title='MDE_1'\n",
    "    ),\n",
    "    yaxis=dict(\n",
    "        showgrid=False,\n",
    "        showticklabels=False,\n",
    "        title='MDE_2'\n",
    "    )\n",
    ")"
   ]
  }
 ],
 "metadata": {
  "kernelspec": {
   "display_name": "base",
   "language": "python",
   "name": "python3"
  },
  "language_info": {
   "codemirror_mode": {
    "name": "ipython",
    "version": 3
   },
   "file_extension": ".py",
   "mimetype": "text/x-python",
   "name": "python",
   "nbconvert_exporter": "python",
   "pygments_lexer": "ipython3",
   "version": "3.10.16"
  }
 },
 "nbformat": 4,
 "nbformat_minor": 2
}
