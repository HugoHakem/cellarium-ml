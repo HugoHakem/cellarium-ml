{
 "cells": [
  {
   "cell_type": "markdown",
   "metadata": {},
   "source": [
    "# cell_type"
   ]
  },
  {
   "cell_type": "code",
   "execution_count": 65,
   "metadata": {},
   "outputs": [],
   "source": [
    "import logging\n",
    "import typing as t\n",
    "from functools import lru_cache\n",
    "from logging import log\n",
    "\n",
    "import networkx as nx\n",
    "import owlready2\n",
    "from scipy import sparse as sp\n",
    "\n",
    "import numpy as np\n",
    "import torch\n",
    "import pandas as pd\n",
    "import pandas_gbq\n",
    "from google.cloud import bigquery\n",
    "import matplotlib.pyplot as plt"
   ]
  },
  {
   "cell_type": "code",
   "execution_count": 66,
   "metadata": {},
   "outputs": [],
   "source": [
    "# Query template format\n",
    "query_format = \"\"\"\n",
    "    select {column_name}, count(*) as num_cells \n",
    "    from `cas_2024_05_16_dataset.human_cellariumgpt_extract__extract_cell_info`\n",
    "    group by {column_name}\n",
    "    order by num_cells desc\n",
    "\"\"\""
   ]
  },
  {
   "cell_type": "code",
   "execution_count": 67,
   "metadata": {},
   "outputs": [],
   "source": [
    "def get_ancestors_csr_matrix(graph, names_to_idx_map: t.Dict[str, int]) -> sp.csr_matrix:\n",
    "    \"\"\"Returns a sparse matrix representation of ancestors.\n",
    "\n",
    "    .. note:\n",
    "        The matrix element (i, j) = 1 iff j is an ancetor of i.\n",
    "    \"\"\"\n",
    "    n_nodes = len(graph.nodes)\n",
    "\n",
    "    row = []\n",
    "    col = []\n",
    "    data = []\n",
    "\n",
    "    for name, self_idx in names_to_idx_map.items():\n",
    "        row.append(self_idx)\n",
    "        col.append(self_idx)\n",
    "        data.append(1)\n",
    "        for ancestor_name in nx.ancestors(graph, name):\n",
    "            ancestor_idx = names_to_idx_map[ancestor_name]\n",
    "            row.append(self_idx)\n",
    "            col.append(ancestor_idx)\n",
    "            data.append(1)\n",
    "\n",
    "    ancestors_csr_matrix = sp.csr_matrix((data, (row, col)), shape=(n_nodes, n_nodes))\n",
    "    return ancestors_csr_matrix"
   ]
  },
  {
   "cell_type": "code",
   "execution_count": 68,
   "metadata": {},
   "outputs": [],
   "source": [
    "def get_shortest_distances_matrix(graph, names_to_idx_map: t.Dict[str, int]) -> np.ndarray:\n",
    "    \"\"\"Returns a sparse matrix representation of shortest distances.\n",
    "\n",
    "    .. note:\n",
    "        The matrix element (i, j) = d iff d is the shortest distance between i and j.\n",
    "    \"\"\"\n",
    "    n_nodes = len(graph.nodes)\n",
    "\n",
    "    distance_matrix = np.full((n_nodes, n_nodes), np.inf)\n",
    "\n",
    "    for target, value in dict(nx.all_pairs_shortest_path_length(graph)).items():\n",
    "        for source, distance in value.items():\n",
    "            source_idx = names_to_idx_map[source]\n",
    "            target_idx = names_to_idx_map[target]\n",
    "            distance_matrix[source_idx, target_idx] = distance\n",
    "            distance_matrix[target_idx, source_idx] = distance\n",
    "\n",
    "    return distance_matrix"
   ]
  },
  {
   "cell_type": "code",
   "execution_count": 4,
   "metadata": {},
   "outputs": [],
   "source": [
    "# def get_shortest_path_lengths_from_source(graph, source: str) -> t.Dict[str, float]:\n",
    "#     # Perform a topological sort of the graph\n",
    "#     topo_order = list(nx.topological_sort(graph))\n",
    "\n",
    "#     # Initialize distances with infinity for all nodes except the source\n",
    "#     distances = {node: float(\"inf\") for node in graph.nodes()}\n",
    "#     distances[source] = 0\n",
    "\n",
    "#     # Process nodes in reverse topological order\n",
    "#     for node in reversed(topo_order):\n",
    "#         if distances[node] != float(\"inf\"):  # Only process reachable nodes\n",
    "#             for neighbor in graph.predecessors(node):\n",
    "#                 if distances[neighbor] > distances[node] + 1:\n",
    "#                     distances[neighbor] = distances[node] + 1\n",
    "\n",
    "#     return distances"
   ]
  },
  {
   "cell_type": "code",
   "execution_count": 5,
   "metadata": {},
   "outputs": [],
   "source": [
    "# def get_longest_path_lengths_from_source(graph, source: str) -> t.Dict[str, float]:\n",
    "#     # Perform a topological sort of the graph\n",
    "#     topo_order = list(nx.topological_sort(graph))\n",
    "\n",
    "#     # Initialize distances with -infinity for all nodes except the source\n",
    "#     distances = {node: float(\"-inf\") for node in graph.nodes()}\n",
    "#     distances[source] = 0\n",
    "\n",
    "#     # Process nodes in reverse topological order\n",
    "#     for node in reversed(topo_order):\n",
    "#         if distances[node] != float(\"-inf\"):  # Only process reachable nodes\n",
    "#             for neighbor in graph.predecessors(node):\n",
    "#                 if distances[neighbor] < distances[node] + 1:\n",
    "#                     distances[neighbor] = distances[node] + 1\n",
    "\n",
    "#     return distances"
   ]
  },
  {
   "cell_type": "code",
   "execution_count": 6,
   "metadata": {},
   "outputs": [],
   "source": [
    "# def get_shortest_distances_matrix(graph, names_to_idx_map: t.Dict[str, int]) -> np.ndarray:\n",
    "#     \"\"\"Returns a sparse matrix representation of shortest distances.\n",
    "\n",
    "#     .. note:\n",
    "#         The matrix element (i, j) = d iff d is the shortest distance between i and j.\n",
    "#     \"\"\"\n",
    "#     n_nodes = len(graph.nodes)\n",
    "\n",
    "#     distance_matrix = np.full((n_nodes, n_nodes), np.inf)\n",
    "\n",
    "#     for name, self_idx in names_to_idx_map.items():\n",
    "#         for ancestor_name, distance in get_shortest_path_lengths_from_source(graph, name).items():\n",
    "#             if distance == float(\"inf\"):\n",
    "#                 continue\n",
    "#             ancestor_idx = names_to_idx_map[ancestor_name]\n",
    "#             distance_matrix[self_idx, ancestor_idx] = distance\n",
    "\n",
    "#     return distance_matrix"
   ]
  },
  {
   "cell_type": "code",
   "execution_count": 7,
   "metadata": {},
   "outputs": [],
   "source": [
    "# def get_longest_distances_matrix(graph, names_to_idx_map: t.Dict[str, int]) -> np.ndarray:\n",
    "#     \"\"\"Returns a sparse matrix representation of longest distances.\n",
    "\n",
    "#     .. note:\n",
    "#         The matrix element (i, j) = d iff d is the longest distance between i and j.\n",
    "#     \"\"\"\n",
    "#     n_nodes = len(graph.nodes)\n",
    "\n",
    "#     distance_matrix = np.full((n_nodes, n_nodes), np.inf)\n",
    "\n",
    "#     for name, self_idx in names_to_idx_map.items():\n",
    "#         for ancestor_name, distance in get_longest_path_lengths_from_source(graph, name).items():\n",
    "#             if distance == float(\"-inf\"):\n",
    "#                 continue\n",
    "#             ancestor_idx = names_to_idx_map[ancestor_name]\n",
    "#             distance_matrix[self_idx, ancestor_idx] = distance\n",
    "\n",
    "#     return distance_matrix"
   ]
  },
  {
   "cell_type": "markdown",
   "metadata": {},
   "source": [
    "## extract"
   ]
  },
  {
   "cell_type": "code",
   "execution_count": 69,
   "metadata": {},
   "outputs": [
    {
     "name": "stderr",
     "output_type": "stream",
     "text": [
      "/home/yordabay/anaconda3/envs/ontology/lib/python3.10/site-packages/google/cloud/bigquery/table.py:2379: UserWarning: A progress bar was requested, but there was an error loading the tqdm library. Please install tqdm to use the progress bar functionality.\n",
      "  record_batch = self.to_arrow(\n"
     ]
    },
    {
     "data": {
      "text/html": [
       "<div>\n",
       "<style scoped>\n",
       "    .dataframe tbody tr th:only-of-type {\n",
       "        vertical-align: middle;\n",
       "    }\n",
       "\n",
       "    .dataframe tbody tr th {\n",
       "        vertical-align: top;\n",
       "    }\n",
       "\n",
       "    .dataframe thead th {\n",
       "        text-align: right;\n",
       "    }\n",
       "</style>\n",
       "<table border=\"1\" class=\"dataframe\">\n",
       "  <thead>\n",
       "    <tr style=\"text-align: right;\">\n",
       "      <th></th>\n",
       "      <th>cell_type_ontology_term_id</th>\n",
       "      <th>num_cells</th>\n",
       "    </tr>\n",
       "  </thead>\n",
       "  <tbody>\n",
       "    <tr>\n",
       "      <th>0</th>\n",
       "      <td>CL:0000540</td>\n",
       "      <td>2938728</td>\n",
       "    </tr>\n",
       "    <tr>\n",
       "      <th>1</th>\n",
       "      <td>CL:4023040</td>\n",
       "      <td>1695623</td>\n",
       "    </tr>\n",
       "    <tr>\n",
       "      <th>2</th>\n",
       "      <td>CL:0000128</td>\n",
       "      <td>1294620</td>\n",
       "    </tr>\n",
       "    <tr>\n",
       "      <th>3</th>\n",
       "      <td>CL:0000624</td>\n",
       "      <td>1238275</td>\n",
       "    </tr>\n",
       "    <tr>\n",
       "      <th>4</th>\n",
       "      <td>CL:0000625</td>\n",
       "      <td>1179803</td>\n",
       "    </tr>\n",
       "    <tr>\n",
       "      <th>...</th>\n",
       "      <td>...</td>\n",
       "      <td>...</td>\n",
       "    </tr>\n",
       "    <tr>\n",
       "      <th>666</th>\n",
       "      <td>CL:0011101</td>\n",
       "      <td>14</td>\n",
       "    </tr>\n",
       "    <tr>\n",
       "      <th>667</th>\n",
       "      <td>CL:0000103</td>\n",
       "      <td>12</td>\n",
       "    </tr>\n",
       "    <tr>\n",
       "      <th>668</th>\n",
       "      <td>CL:0000019</td>\n",
       "      <td>11</td>\n",
       "    </tr>\n",
       "    <tr>\n",
       "      <th>669</th>\n",
       "      <td>CL:0002280</td>\n",
       "      <td>10</td>\n",
       "    </tr>\n",
       "    <tr>\n",
       "      <th>670</th>\n",
       "      <td>CL:0000218</td>\n",
       "      <td>8</td>\n",
       "    </tr>\n",
       "  </tbody>\n",
       "</table>\n",
       "<p>671 rows × 2 columns</p>\n",
       "</div>"
      ],
      "text/plain": [
       "    cell_type_ontology_term_id  num_cells\n",
       "0                   CL:0000540    2938728\n",
       "1                   CL:4023040    1695623\n",
       "2                   CL:0000128    1294620\n",
       "3                   CL:0000624    1238275\n",
       "4                   CL:0000625    1179803\n",
       "..                         ...        ...\n",
       "666                 CL:0011101         14\n",
       "667                 CL:0000103         12\n",
       "668                 CL:0000019         11\n",
       "669                 CL:0002280         10\n",
       "670                 CL:0000218          8\n",
       "\n",
       "[671 rows x 2 columns]"
      ]
     },
     "execution_count": 69,
     "metadata": {},
     "output_type": "execute_result"
    }
   ],
   "source": [
    "query_name = \"cell_type_ontology_term_id\"\n",
    "names_counts = pandas_gbq.read_gbq(\n",
    "    query_format.format(column_name=query_name),\n",
    "    project_id=\"dsp-cell-annotation-service\",\n",
    ")\n",
    "names_counts"
   ]
  },
  {
   "cell_type": "code",
   "execution_count": 70,
   "metadata": {},
   "outputs": [
    {
     "data": {
      "text/plain": [
       "np.int64(38307243)"
      ]
     },
     "execution_count": 70,
     "metadata": {},
     "output_type": "execute_result"
    }
   ],
   "source": [
    "names_counts[\"num_cells\"].sum()"
   ]
  },
  {
   "cell_type": "code",
   "execution_count": 71,
   "metadata": {},
   "outputs": [
    {
     "name": "stderr",
     "output_type": "stream",
     "text": [
      "/home/yordabay/anaconda3/envs/ontology/lib/python3.10/site-packages/google/cloud/bigquery/table.py:2379: UserWarning: A progress bar was requested, but there was an error loading the tqdm library. Please install tqdm to use the progress bar functionality.\n",
      "  record_batch = self.to_arrow(\n"
     ]
    },
    {
     "data": {
      "text/html": [
       "<div>\n",
       "<style scoped>\n",
       "    .dataframe tbody tr th:only-of-type {\n",
       "        vertical-align: middle;\n",
       "    }\n",
       "\n",
       "    .dataframe tbody tr th {\n",
       "        vertical-align: top;\n",
       "    }\n",
       "\n",
       "    .dataframe thead th {\n",
       "        text-align: right;\n",
       "    }\n",
       "</style>\n",
       "<table border=\"1\" class=\"dataframe\">\n",
       "  <thead>\n",
       "    <tr style=\"text-align: right;\">\n",
       "      <th></th>\n",
       "      <th>cell_type</th>\n",
       "      <th>num_cells</th>\n",
       "    </tr>\n",
       "  </thead>\n",
       "  <tbody>\n",
       "    <tr>\n",
       "      <th>0</th>\n",
       "      <td>neuron</td>\n",
       "      <td>2938728</td>\n",
       "    </tr>\n",
       "    <tr>\n",
       "      <th>1</th>\n",
       "      <td>L2/3-6 intratelencephalic projecting glutamate...</td>\n",
       "      <td>1695623</td>\n",
       "    </tr>\n",
       "    <tr>\n",
       "      <th>2</th>\n",
       "      <td>oligodendrocyte</td>\n",
       "      <td>1294620</td>\n",
       "    </tr>\n",
       "    <tr>\n",
       "      <th>3</th>\n",
       "      <td>CD4-positive, alpha-beta T cell</td>\n",
       "      <td>1238275</td>\n",
       "    </tr>\n",
       "    <tr>\n",
       "      <th>4</th>\n",
       "      <td>CD8-positive, alpha-beta T cell</td>\n",
       "      <td>1179803</td>\n",
       "    </tr>\n",
       "    <tr>\n",
       "      <th>...</th>\n",
       "      <td>...</td>\n",
       "      <td>...</td>\n",
       "    </tr>\n",
       "    <tr>\n",
       "      <th>666</th>\n",
       "      <td>bone marrow cell</td>\n",
       "      <td>14</td>\n",
       "    </tr>\n",
       "    <tr>\n",
       "      <th>667</th>\n",
       "      <td>bipolar neuron</td>\n",
       "      <td>12</td>\n",
       "    </tr>\n",
       "    <tr>\n",
       "      <th>668</th>\n",
       "      <td>sperm</td>\n",
       "      <td>11</td>\n",
       "    </tr>\n",
       "    <tr>\n",
       "      <th>669</th>\n",
       "      <td>type N enteroendocrine cell</td>\n",
       "      <td>10</td>\n",
       "    </tr>\n",
       "    <tr>\n",
       "      <th>670</th>\n",
       "      <td>myelinating Schwann cell</td>\n",
       "      <td>8</td>\n",
       "    </tr>\n",
       "  </tbody>\n",
       "</table>\n",
       "<p>671 rows × 2 columns</p>\n",
       "</div>"
      ],
      "text/plain": [
       "                                             cell_type  num_cells\n",
       "0                                               neuron    2938728\n",
       "1    L2/3-6 intratelencephalic projecting glutamate...    1695623\n",
       "2                                      oligodendrocyte    1294620\n",
       "3                      CD4-positive, alpha-beta T cell    1238275\n",
       "4                      CD8-positive, alpha-beta T cell    1179803\n",
       "..                                                 ...        ...\n",
       "666                                   bone marrow cell         14\n",
       "667                                     bipolar neuron         12\n",
       "668                                              sperm         11\n",
       "669                        type N enteroendocrine cell         10\n",
       "670                           myelinating Schwann cell          8\n",
       "\n",
       "[671 rows x 2 columns]"
      ]
     },
     "execution_count": 71,
     "metadata": {},
     "output_type": "execute_result"
    }
   ],
   "source": [
    "query_label = \"cell_type\"\n",
    "labels_counts = pandas_gbq.read_gbq(\n",
    "    query_format.format(column_name=query_label),\n",
    "    project_id=\"dsp-cell-annotation-service\",\n",
    ")\n",
    "labels_counts"
   ]
  },
  {
   "cell_type": "markdown",
   "metadata": {},
   "source": [
    "How many different ontologies are used for `cell_type`?"
   ]
  },
  {
   "cell_type": "code",
   "execution_count": 72,
   "metadata": {},
   "outputs": [
    {
     "data": {
      "text/plain": [
       "{'CL', 'unknown'}"
      ]
     },
     "execution_count": 72,
     "metadata": {},
     "output_type": "execute_result"
    }
   ],
   "source": [
    "set([value[0] for value in names_counts[query_name].str.split(\":\")])"
   ]
  },
  {
   "cell_type": "markdown",
   "metadata": {},
   "source": [
    "## ontology"
   ]
  },
  {
   "cell_type": "code",
   "execution_count": 73,
   "metadata": {},
   "outputs": [],
   "source": [
    "# Used in CZ CELLxGENE schema v5:\n",
    "# https://github.com/chanzuckerberg/single-cell-curation/blob/main/schema/5.0.0/schema.md\n",
    "OWL_PATH = \"https://github.com/obophenotype/cell-ontology/releases/download/v2024-01-04/cl.owl\"\n",
    "\n",
    "# only keep nodes with the following prefix when parsing CL ontology\n",
    "PREFIX = \"CL_\"\n",
    "\n",
    "# the 'cell' node\n",
    "CELL_ROOT_NODE = \"CL:0000000\"\n",
    "\n",
    "# the 'eukaryotic cell' node\n",
    "EUKARYOTIC_CELL_ROOT_NODE = \"CL:0000255\"\n",
    "\n",
    "# relationships we need\n",
    "PARTOF_RELATIONSHIP = \"BFO_0000050\"  # part_of"
   ]
  },
  {
   "cell_type": "code",
   "execution_count": 74,
   "metadata": {},
   "outputs": [],
   "source": [
    "ontology = owlready2.get_ontology(OWL_PATH).load()"
   ]
  },
  {
   "cell_type": "code",
   "execution_count": 75,
   "metadata": {},
   "outputs": [],
   "source": [
    "all_classes = list(ontology.classes())"
   ]
  },
  {
   "cell_type": "code",
   "execution_count": 76,
   "metadata": {},
   "outputs": [],
   "source": [
    "# only keep CL classes with a singleton label\n",
    "classes = list(\n",
    "    _class for _class in all_classes if _class.name.startswith(PREFIX) and len(_class.label) == 1\n",
    ")\n",
    "\n",
    "names = [_class.name.replace(\"_\", \":\") for _class in classes]\n",
    "labels = [str(_class.label[0]) for _class in classes]\n",
    "assert len(set(names)) == len(classes)\n",
    "assert len(set(labels)) == len(classes)"
   ]
  },
  {
   "cell_type": "code",
   "execution_count": 77,
   "metadata": {},
   "outputs": [],
   "source": [
    "classes_set = set(classes)\n",
    "names_to_labels_map = {name: label for name, label in zip(names, labels)}\n",
    "names_to_idx_map = {name: idx for idx, name in enumerate(names)}\n",
    "labels_to_names_map = {label: name for name, label in zip(names, labels)}\n",
    "labels_to_idx_map = {label: idx for idx, label in enumerate(labels)}\n",
    "idx_to_names_map = {idx: name for idx, name in enumerate(names)}\n",
    "idx_to_labels_map = {idx: label for idx, label in enumerate(labels)}"
   ]
  },
  {
   "cell_type": "markdown",
   "metadata": {},
   "source": [
    "Are all `cell_type`s covered by the ontology tree?"
   ]
  },
  {
   "cell_type": "code",
   "execution_count": 78,
   "metadata": {},
   "outputs": [
    {
     "data": {
      "text/plain": [
       "{'unknown'}"
      ]
     },
     "execution_count": 78,
     "metadata": {},
     "output_type": "execute_result"
    }
   ],
   "source": [
    "set(labels_counts[query_label]) - set(labels)"
   ]
  },
  {
   "cell_type": "code",
   "execution_count": 79,
   "metadata": {},
   "outputs": [
    {
     "data": {
      "text/plain": [
       "{'unknown'}"
      ]
     },
     "execution_count": 79,
     "metadata": {},
     "output_type": "execute_result"
    }
   ],
   "source": [
    "set(names_counts[query_name]) - set(names)"
   ]
  },
  {
   "cell_type": "code",
   "execution_count": 82,
   "metadata": {},
   "outputs": [],
   "source": [
    "# build a networkx graph from CL\n",
    "graph = nx.DiGraph(name=\"CL graph\")\n",
    "\n",
    "for _class in classes:\n",
    "    graph.add_node(_class.name.replace(\"_\", \":\"))\n",
    "\n",
    "for self_class in classes:\n",
    "    # parents\n",
    "    for parent_class in ontology.get_parents_of(self_class):\n",
    "        if parent_class not in classes_set:\n",
    "            continue\n",
    "        graph.add_edge(parent_class.name.replace(\"_\", \":\"), self_class.name.replace(\"_\", \":\"))\n",
    "    # children\n",
    "    for child_class in ontology.get_children_of(self_class):\n",
    "        if child_class not in classes_set:\n",
    "            continue\n",
    "        graph.add_edge(self_class.name.replace(\"_\", \":\"), child_class.name.replace(\"_\", \":\"))\n",
    "    # part of\n",
    "    # for prop in self_class.get_class_properties():\n",
    "    #     if PARTOF_RELATIONSHIP in prop.name:\n",
    "    #         for related_term in prop[self_class]:\n",
    "    #             if related_term.name.startswith(PREFIX):\n",
    "    #                 graph.add_edge(related_term.name.replace(\"_\", \":\"), self_class.name.replace(\"_\", \":\"))\n",
    "\n",
    "    # deprecated terms (WHY???!!)\n",
    "    if \"deprecated\" in [prop.name for prop in self_class.get_class_properties()]:\n",
    "        for prop in self_class.get_class_properties():\n",
    "            if \"consider\" in prop.name:\n",
    "                for substitute in prop[self_class]:\n",
    "                    substitute = str(substitute)\n",
    "                    if substitute.startswith(PREFIX):\n",
    "                        graph.add_edge(substitute, self_class.name.replace(\"_\", \":\"))"
   ]
  },
  {
   "cell_type": "code",
   "execution_count": 22,
   "metadata": {},
   "outputs": [
    {
     "data": {
      "text/plain": [
       "array([[1, 0, 0, ..., 0, 0, 0],\n",
       "       [1, 1, 0, ..., 0, 0, 0],\n",
       "       [1, 1, 1, ..., 0, 0, 0],\n",
       "       ...,\n",
       "       [1, 0, 0, ..., 1, 0, 0],\n",
       "       [1, 0, 0, ..., 0, 1, 0],\n",
       "       [1, 0, 0, ..., 0, 0, 1]])"
      ]
     },
     "execution_count": 22,
     "metadata": {},
     "output_type": "execute_result"
    }
   ],
   "source": [
    "ancestors_matrix = get_ancestors_csr_matrix(graph, names_to_idx_map).toarray()\n",
    "ancestors_matrix"
   ]
  },
  {
   "cell_type": "code",
   "execution_count": 43,
   "metadata": {},
   "outputs": [],
   "source": [
    "shortest_distances_matrix = get_shortest_distances_matrix(graph, names_to_idx_map)\n",
    "shortest_distances_matrix = np.where(ancestors_matrix, shortest_distances_matrix, np.inf)"
   ]
  },
  {
   "cell_type": "markdown",
   "metadata": {},
   "source": [
    "Only leave nodes that exist in the data and their ancestors."
   ]
  },
  {
   "cell_type": "code",
   "execution_count": 44,
   "metadata": {},
   "outputs": [
    {
     "data": {
      "text/plain": [
       "670"
      ]
     },
     "execution_count": 44,
     "metadata": {},
     "output_type": "execute_result"
    }
   ],
   "source": [
    "extract_names_set = set(names_counts[query_name]) - set([\"unknown\"])\n",
    "extract_idx = [idx for name, idx in names_to_idx_map.items() if name in extract_names_set]\n",
    "assert len(extract_idx) == len(extract_names_set)\n",
    "len(extract_idx)"
   ]
  },
  {
   "cell_type": "code",
   "execution_count": 45,
   "metadata": {},
   "outputs": [
    {
     "data": {
      "text/plain": [
       "890"
      ]
     },
     "execution_count": 45,
     "metadata": {},
     "output_type": "execute_result"
    }
   ],
   "source": [
    "new_extract_idx = ancestors_matrix[extract_idx].any(axis=0).nonzero()[0].tolist()\n",
    "new_extract_idx = [idx for idx in new_extract_idx if idx_to_names_map[idx] not in {CELL_ROOT_NODE, EUKARYOTIC_CELL_ROOT_NODE}]\n",
    "len(new_extract_idx)"
   ]
  },
  {
   "cell_type": "code",
   "execution_count": 46,
   "metadata": {},
   "outputs": [],
   "source": [
    "new_names = [idx_to_names_map[idx] for idx in new_extract_idx]\n",
    "new_labels = [idx_to_labels_map[idx] for idx in new_extract_idx]"
   ]
  },
  {
   "cell_type": "code",
   "execution_count": 47,
   "metadata": {},
   "outputs": [],
   "source": [
    "new_shortest_distances_matrix = shortest_distances_matrix[new_extract_idx][:, new_extract_idx]\n",
    "# new_longest_distances_matrix = longest_distances_matrix[new_extract_idx][:, new_extract_idx]\n",
    "new_ancestors_matrix = ancestors_matrix[new_extract_idx][:, new_extract_idx]"
   ]
  },
  {
   "cell_type": "code",
   "execution_count": 48,
   "metadata": {},
   "outputs": [],
   "source": [
    "torch.save({\n",
    "        \"names\": new_names,\n",
    "        \"labels\": new_labels,\n",
    "        \"shortest_distances_matrix\": torch.tensor(new_shortest_distances_matrix, dtype=torch.float32),\n",
    "        # \"longest_distances_matrix\": torch.tensor(new_longest_distances_matrix, dtype=torch.float32),\n",
    "        \"ancestors_matrix\": torch.tensor(new_ancestors_matrix, dtype=torch.int32),\n",
    "    },\n",
    "    \"cell_type_ontology_data.pt\"\n",
    ")"
   ]
  },
  {
   "cell_type": "code",
   "execution_count": 49,
   "metadata": {},
   "outputs": [
    {
     "name": "stderr",
     "output_type": "stream",
     "text": [
      "/tmp/ipykernel_2984670/1128136463.py:1: FutureWarning: You are using `torch.load` with `weights_only=False` (the current default value), which uses the default pickle module implicitly. It is possible to construct malicious pickle data which will execute arbitrary code during unpickling (See https://github.com/pytorch/pytorch/blob/main/SECURITY.md#untrusted-models for more details). In a future release, the default value for `weights_only` will be flipped to `True`. This limits the functions that could be executed during unpickling. Arbitrary objects will no longer be allowed to be loaded via this mode unless they are explicitly allowlisted by the user via `torch.serialization.add_safe_globals`. We recommend you start setting `weights_only=True` for any use case where you don't have full control of the loaded file. Please open an issue on GitHub for any issues related to this experimental feature.\n",
      "  cell_type_ontology_data = torch.load(\"cell_type_ontology_data.pt\")\n"
     ]
    }
   ],
   "source": [
    "cell_type_ontology_data = torch.load(\"cell_type_ontology_data.pt\")"
   ]
  },
  {
   "cell_type": "code",
   "execution_count": 50,
   "metadata": {},
   "outputs": [],
   "source": [
    "labels_counts_map = {label: count for label, count in zip(labels_counts[query_label], labels_counts[\"num_cells\"])}"
   ]
  },
  {
   "cell_type": "code",
   "execution_count": 51,
   "metadata": {},
   "outputs": [],
   "source": [
    "df = pd.DataFrame(\n",
    "    data={\n",
    "        \"cell_type\": new_labels,\n",
    "        \"num_cells\": [labels_counts_map.get(label, 0) for label in new_labels],\n",
    "    }\n",
    ")"
   ]
  },
  {
   "cell_type": "code",
   "execution_count": 52,
   "metadata": {},
   "outputs": [
    {
     "data": {
      "text/plain": [
       "220"
      ]
     },
     "execution_count": 52,
     "metadata": {},
     "output_type": "execute_result"
    }
   ],
   "source": [
    "empty_ancestors_idx = [idx for idx, label in enumerate(new_labels) if labels_counts_map.get(label, 0) == 0]\n",
    "len(empty_ancestors_idx)"
   ]
  },
  {
   "cell_type": "code",
   "execution_count": 53,
   "metadata": {},
   "outputs": [],
   "source": [
    "num_cells = torch.tensor(df[\"num_cells\"].values)"
   ]
  },
  {
   "cell_type": "code",
   "execution_count": 57,
   "metadata": {},
   "outputs": [
    {
     "data": {
      "text/plain": [
       "array([[0.6097561 , 0.        , 0.        , ..., 0.        , 0.        ,\n",
       "        0.        ],\n",
       "       [0.03160556, 0.79013906, 0.        , ..., 0.        , 0.        ,\n",
       "        0.        ],\n",
       "       [0.        , 0.        , 0.80128205, ..., 0.        , 0.        ,\n",
       "        0.        ],\n",
       "       ...,\n",
       "       [0.        , 0.        , 0.        , ..., 0.80128205, 0.        ,\n",
       "        0.        ],\n",
       "       [0.        , 0.        , 0.        , ..., 0.        , 0.67204301,\n",
       "        0.        ],\n",
       "       [0.        , 0.        , 0.        , ..., 0.        , 0.        ,\n",
       "        0.57603687]])"
      ]
     },
     "execution_count": 57,
     "metadata": {},
     "output_type": "execute_result"
    }
   ],
   "source": [
    "p = 0.8\n",
    "probs = (1 - p) ** new_shortest_distances_matrix * p\n",
    "probs = probs / probs.sum(axis=1, keepdims=True)\n",
    "probs"
   ]
  },
  {
   "cell_type": "code",
   "execution_count": 59,
   "metadata": {},
   "outputs": [
    {
     "name": "stderr",
     "output_type": "stream",
     "text": [
      "/tmp/ipykernel_2984670/3989491769.py:1: DeprecationWarning: __array_wrap__ must accept context and return_scalar arguments (positionally) in the future. (Deprecated NumPy 2.0)\n",
      "  df[\"new_num_cells\"] = (num_cells[:, None] * probs).sum(axis=0).int().numpy()\n"
     ]
    }
   ],
   "source": [
    "df[\"new_num_cells\"] = (num_cells[:, None] * probs).sum(axis=0).int().numpy()"
   ]
  },
  {
   "cell_type": "code",
   "execution_count": 63,
   "metadata": {},
   "outputs": [
    {
     "data": {
      "text/html": [
       "<div>\n",
       "<style scoped>\n",
       "    .dataframe tbody tr th:only-of-type {\n",
       "        vertical-align: middle;\n",
       "    }\n",
       "\n",
       "    .dataframe tbody tr th {\n",
       "        vertical-align: top;\n",
       "    }\n",
       "\n",
       "    .dataframe thead th {\n",
       "        text-align: right;\n",
       "    }\n",
       "</style>\n",
       "<table border=\"1\" class=\"dataframe\">\n",
       "  <thead>\n",
       "    <tr style=\"text-align: right;\">\n",
       "      <th></th>\n",
       "      <th>cell_type</th>\n",
       "      <th>num_cells</th>\n",
       "      <th>new_num_cells</th>\n",
       "    </tr>\n",
       "  </thead>\n",
       "  <tbody>\n",
       "    <tr>\n",
       "      <th>0</th>\n",
       "      <td>neuron</td>\n",
       "      <td>2938728</td>\n",
       "      <td>1952112</td>\n",
       "    </tr>\n",
       "    <tr>\n",
       "      <th>1</th>\n",
       "      <td>sensory neuron</td>\n",
       "      <td>1605</td>\n",
       "      <td>1799</td>\n",
       "    </tr>\n",
       "    <tr>\n",
       "      <th>2</th>\n",
       "      <td>primary cultured cell</td>\n",
       "      <td>80</td>\n",
       "      <td>64</td>\n",
       "    </tr>\n",
       "    <tr>\n",
       "      <th>3</th>\n",
       "      <td>cultured cell</td>\n",
       "      <td>0</td>\n",
       "      <td>12</td>\n",
       "    </tr>\n",
       "    <tr>\n",
       "      <th>4</th>\n",
       "      <td>fibroblast neural crest derived</td>\n",
       "      <td>0</td>\n",
       "      <td>95</td>\n",
       "    </tr>\n",
       "    <tr>\n",
       "      <th>...</th>\n",
       "      <td>...</td>\n",
       "      <td>...</td>\n",
       "      <td>...</td>\n",
       "    </tr>\n",
       "    <tr>\n",
       "      <th>885</th>\n",
       "      <td>metallothionein-positive alveolar macrophage</td>\n",
       "      <td>357</td>\n",
       "      <td>275</td>\n",
       "    </tr>\n",
       "    <tr>\n",
       "      <th>886</th>\n",
       "      <td>lung interstitial macrophage</td>\n",
       "      <td>302</td>\n",
       "      <td>180</td>\n",
       "    </tr>\n",
       "    <tr>\n",
       "      <th>887</th>\n",
       "      <td>deuterosomal cell</td>\n",
       "      <td>67</td>\n",
       "      <td>53</td>\n",
       "    </tr>\n",
       "    <tr>\n",
       "      <th>888</th>\n",
       "      <td>respiratory suprabasal cell</td>\n",
       "      <td>1792</td>\n",
       "      <td>1204</td>\n",
       "    </tr>\n",
       "    <tr>\n",
       "      <th>889</th>\n",
       "      <td>luminal hormone-sensing cell of mammary gland</td>\n",
       "      <td>196476</td>\n",
       "      <td>113177</td>\n",
       "    </tr>\n",
       "  </tbody>\n",
       "</table>\n",
       "<p>890 rows × 3 columns</p>\n",
       "</div>"
      ],
      "text/plain": [
       "                                         cell_type  num_cells  new_num_cells\n",
       "0                                           neuron    2938728        1952112\n",
       "1                                   sensory neuron       1605           1799\n",
       "2                            primary cultured cell         80             64\n",
       "3                                    cultured cell          0             12\n",
       "4                  fibroblast neural crest derived          0             95\n",
       "..                                             ...        ...            ...\n",
       "885   metallothionein-positive alveolar macrophage        357            275\n",
       "886                   lung interstitial macrophage        302            180\n",
       "887                              deuterosomal cell         67             53\n",
       "888                    respiratory suprabasal cell       1792           1204\n",
       "889  luminal hormone-sensing cell of mammary gland     196476         113177\n",
       "\n",
       "[890 rows x 3 columns]"
      ]
     },
     "execution_count": 63,
     "metadata": {},
     "output_type": "execute_result"
    }
   ],
   "source": [
    "df"
   ]
  },
  {
   "cell_type": "code",
   "execution_count": 64,
   "metadata": {},
   "outputs": [
    {
     "data": {
      "text/plain": [
       "([], [])"
      ]
     },
     "execution_count": 64,
     "metadata": {},
     "output_type": "execute_result"
    },
    {
     "data": {
      "image/png": "[encoded data removed]",
      "text/plain": [
       "<Figure size 2000x1000 with 1 Axes>"
      ]
     },
     "metadata": {},
     "output_type": "display_data"
    }
   ],
   "source": [
    "df.sort_values(by=\"num_cells\", ascending=False).plot.bar(x=\"cell_type\", y=[\"num_cells\", \"new_num_cells\"], figsize=(20, 10))\n",
    "# remove x-ticks label\n",
    "plt.xticks([])"
   ]
  },
  {
   "cell_type": "code",
   "execution_count": 65,
   "metadata": {},
   "outputs": [
    {
     "data": {
      "text/plain": [
       "(0.1, 10000000.0)"
      ]
     },
     "execution_count": 65,
     "metadata": {},
     "output_type": "execute_result"
    },
    {
     "data": {
      "image/png": "[encoded data removed]",
      "text/plain": [
       "<Figure size 500x500 with 1 Axes>"
      ]
     },
     "metadata": {},
     "output_type": "display_data"
    }
   ],
   "source": [
    "_df = df.copy()\n",
    "_df[\"num_cells\"] = 1 + df[\"num_cells\"]\n",
    "_df[\"new_num_cells\"] = 1 + df[\"new_num_cells\"]\n",
    "_df.plot.scatter(x=\"num_cells\", y=\"new_num_cells\", figsize=(5, 5), s=1)\n",
    "plt.plot([0, 1e7], [0, 1e7], color=\"red\")\n",
    "plt.loglog()\n",
    "plt.xlim(0.1, 1e7)\n",
    "plt.ylim(0.1, 1e7)"
   ]
  },
  {
   "cell_type": "markdown",
   "metadata": {},
   "source": [
    "## combine ontologies"
   ]
  },
  {
   "cell_type": "code",
   "execution_count": 61,
   "metadata": {},
   "outputs": [
    {
     "name": "stderr",
     "output_type": "stream",
     "text": [
      "/tmp/ipykernel_2984670/2248219605.py:1: FutureWarning: You are using `torch.load` with `weights_only=False` (the current default value), which uses the default pickle module implicitly. It is possible to construct malicious pickle data which will execute arbitrary code during unpickling (See https://github.com/pytorch/pytorch/blob/main/SECURITY.md#untrusted-models for more details). In a future release, the default value for `weights_only` will be flipped to `True`. This limits the functions that could be executed during unpickling. Arbitrary objects will no longer be allowed to be loaded via this mode unless they are explicitly allowlisted by the user via `torch.serialization.add_safe_globals`. We recommend you start setting `weights_only=True` for any use case where you don't have full control of the loaded file. Please open an issue on GitHub for any issues related to this experimental feature.\n",
      "  cell_type_ontology_data = torch.load(\"cell_type_ontology_data.pt\")\n",
      "/tmp/ipykernel_2984670/2248219605.py:2: FutureWarning: You are using `torch.load` with `weights_only=False` (the current default value), which uses the default pickle module implicitly. It is possible to construct malicious pickle data which will execute arbitrary code during unpickling (See https://github.com/pytorch/pytorch/blob/main/SECURITY.md#untrusted-models for more details). In a future release, the default value for `weights_only` will be flipped to `True`. This limits the functions that could be executed during unpickling. Arbitrary objects will no longer be allowed to be loaded via this mode unless they are explicitly allowlisted by the user via `torch.serialization.add_safe_globals`. We recommend you start setting `weights_only=True` for any use case where you don't have full control of the loaded file. Please open an issue on GitHub for any issues related to this experimental feature.\n",
      "  tissue_onotology_data = torch.load(\"tissue_ontology_data.pt\")\n",
      "/tmp/ipykernel_2984670/2248219605.py:3: FutureWarning: You are using `torch.load` with `weights_only=False` (the current default value), which uses the default pickle module implicitly. It is possible to construct malicious pickle data which will execute arbitrary code during unpickling (See https://github.com/pytorch/pytorch/blob/main/SECURITY.md#untrusted-models for more details). In a future release, the default value for `weights_only` will be flipped to `True`. This limits the functions that could be executed during unpickling. Arbitrary objects will no longer be allowed to be loaded via this mode unless they are explicitly allowlisted by the user via `torch.serialization.add_safe_globals`. We recommend you start setting `weights_only=True` for any use case where you don't have full control of the loaded file. Please open an issue on GitHub for any issues related to this experimental feature.\n",
      "  development_stage_onotology_data = torch.load(\"development_stage_ontology_data.pt\")\n",
      "/tmp/ipykernel_2984670/2248219605.py:4: FutureWarning: You are using `torch.load` with `weights_only=False` (the current default value), which uses the default pickle module implicitly. It is possible to construct malicious pickle data which will execute arbitrary code during unpickling (See https://github.com/pytorch/pytorch/blob/main/SECURITY.md#untrusted-models for more details). In a future release, the default value for `weights_only` will be flipped to `True`. This limits the functions that could be executed during unpickling. Arbitrary objects will no longer be allowed to be loaded via this mode unless they are explicitly allowlisted by the user via `torch.serialization.add_safe_globals`. We recommend you start setting `weights_only=True` for any use case where you don't have full control of the loaded file. Please open an issue on GitHub for any issues related to this experimental feature.\n",
      "  disease_onotology_data = torch.load(\"disease_ontology_data.pt\")\n",
      "/tmp/ipykernel_2984670/2248219605.py:5: FutureWarning: You are using `torch.load` with `weights_only=False` (the current default value), which uses the default pickle module implicitly. It is possible to construct malicious pickle data which will execute arbitrary code during unpickling (See https://github.com/pytorch/pytorch/blob/main/SECURITY.md#untrusted-models for more details). In a future release, the default value for `weights_only` will be flipped to `True`. This limits the functions that could be executed during unpickling. Arbitrary objects will no longer be allowed to be loaded via this mode unless they are explicitly allowlisted by the user via `torch.serialization.add_safe_globals`. We recommend you start setting `weights_only=True` for any use case where you don't have full control of the loaded file. Please open an issue on GitHub for any issues related to this experimental feature.\n",
      "  sex_onotology_data = torch.load(\"sex_ontology_data.pt\")\n"
     ]
    }
   ],
   "source": [
    "cell_type_ontology_data = torch.load(\"cell_type_ontology_data.pt\")\n",
    "tissue_onotology_data = torch.load(\"tissue_ontology_data.pt\")\n",
    "development_stage_onotology_data = torch.load(\"development_stage_ontology_data.pt\")\n",
    "disease_onotology_data = torch.load(\"disease_ontology_data.pt\")\n",
    "sex_onotology_data = torch.load(\"sex_ontology_data.pt\")"
   ]
  },
  {
   "cell_type": "code",
   "execution_count": 62,
   "metadata": {},
   "outputs": [],
   "source": [
    "ontology_infos = {\n",
    "    \"cell_type\": cell_type_ontology_data,\n",
    "    \"tissue\": tissue_onotology_data,\n",
    "    \"development_stage\": development_stage_onotology_data,\n",
    "    \"disease\": disease_onotology_data,\n",
    "    \"sex\": sex_onotology_data,\n",
    "}"
   ]
  },
  {
   "cell_type": "code",
   "execution_count": 63,
   "metadata": {},
   "outputs": [
    {
     "data": {
      "text/plain": [
       "['CL:0000540', 'CL:0000101', 'CL:0000001']"
      ]
     },
     "execution_count": 63,
     "metadata": {},
     "output_type": "execute_result"
    }
   ],
   "source": [
    "cell_type_ontology_data[\"names\"][:3]"
   ]
  },
  {
   "cell_type": "code",
   "execution_count": 64,
   "metadata": {},
   "outputs": [],
   "source": [
    "torch.save(ontology_infos, \"ontology_infos.pt\")"
   ]
  },
  {
   "cell_type": "code",
   "execution_count": null,
   "metadata": {},
   "outputs": [],
   "source": []
  }
 ],
 "metadata": {
  "kernelspec": {
   "display_name": "ontology",
   "language": "python",
   "name": "python3"
  },
  "language_info": {
   "codemirror_mode": {
    "name": "ipython",
    "version": 3
   },
   "file_extension": ".py",
   "mimetype": "text/x-python",
   "name": "python",
   "nbconvert_exporter": "python",
   "pygments_lexer": "ipython3",
   "version": "3.10.15"
  }
 },
 "nbformat": 4,
 "nbformat_minor": 2
}
