{
 "cells": [
  {
   "cell_type": "markdown",
   "metadata": {},
   "source": [
    "# tissue"
   ]
  },
  {
   "cell_type": "code",
   "execution_count": 1,
   "metadata": {},
   "outputs": [],
   "source": [
    "import logging\n",
    "import typing as t\n",
    "from functools import lru_cache\n",
    "from logging import log\n",
    "\n",
    "import networkx as nx\n",
    "import owlready2\n",
    "from scipy import sparse as sp\n",
    "\n",
    "import numpy as np\n",
    "import torch\n",
    "import pandas as pd\n",
    "import pandas_gbq\n",
    "from google.cloud import bigquery"
   ]
  },
  {
   "cell_type": "code",
   "execution_count": 2,
   "metadata": {},
   "outputs": [],
   "source": [
    "# Query template format\n",
    "query_format = \"\"\"\n",
    "    select {column_name}, count(*) as num_cells \n",
    "    from `cas_2024_05_16_dataset.human_cellariumgpt_extract__extract_cell_info`\n",
    "    group by {column_name}\n",
    "    order by num_cells desc\n",
    "\"\"\""
   ]
  },
  {
   "cell_type": "code",
   "execution_count": 3,
   "metadata": {},
   "outputs": [],
   "source": [
    "def get_ancestors_csr_matrix(graph, names_to_idx_map: t.Dict[str, int]) -> sp.csr_matrix:\n",
    "    \"\"\"Returns a sparse matrix representation of ancestors.\n",
    "\n",
    "    .. note:\n",
    "        The matrix element (i, j) = 1 iff j is an ancetor of i.\n",
    "    \"\"\"\n",
    "    n_nodes = len(graph.nodes)\n",
    "\n",
    "    row = []\n",
    "    col = []\n",
    "    data = []\n",
    "\n",
    "    for name, self_idx in names_to_idx_map.items():\n",
    "        row.append(self_idx)\n",
    "        col.append(self_idx)\n",
    "        data.append(1)\n",
    "        for ancestor_name in nx.ancestors(graph, name):\n",
    "            ancestor_idx = names_to_idx_map[ancestor_name]\n",
    "            row.append(self_idx)\n",
    "            col.append(ancestor_idx)\n",
    "            data.append(1)\n",
    "\n",
    "    ancestors_csr_matrix = sp.csr_matrix((data, (row, col)), shape=(n_nodes, n_nodes))\n",
    "    return ancestors_csr_matrix"
   ]
  },
  {
   "cell_type": "code",
   "execution_count": 4,
   "metadata": {},
   "outputs": [],
   "source": [
    "def get_shortest_distances_matrix(graph, names_to_idx_map: t.Dict[str, int]) -> np.ndarray:\n",
    "    \"\"\"Returns a sparse matrix representation of shortest distances.\n",
    "\n",
    "    .. note:\n",
    "        The matrix element (i, j) = d iff d is the shortest distance between i and j.\n",
    "    \"\"\"\n",
    "    n_nodes = len(graph.nodes)\n",
    "\n",
    "    distance_matrix = np.full((n_nodes, n_nodes), np.inf)\n",
    "\n",
    "    for target, value in dict(nx.all_pairs_shortest_path_length(graph)).items():\n",
    "        for source, distance in value.items():\n",
    "            source_idx = names_to_idx_map[source]\n",
    "            target_idx = names_to_idx_map[target]\n",
    "            distance_matrix[source_idx, target_idx] = distance\n",
    "            distance_matrix[target_idx, source_idx] = distance\n",
    "\n",
    "    return distance_matrix"
   ]
  },
  {
   "cell_type": "markdown",
   "metadata": {},
   "source": [
    "## extract"
   ]
  },
  {
   "cell_type": "code",
   "execution_count": 5,
   "metadata": {},
   "outputs": [
    {
     "name": "stderr",
     "output_type": "stream",
     "text": [
      "/home/yordabay/anaconda3/envs/ontology/lib/python3.10/site-packages/google/cloud/bigquery/table.py:2379: UserWarning: A progress bar was requested, but there was an error loading the tqdm library. Please install tqdm to use the progress bar functionality.\n",
      "  record_batch = self.to_arrow(\n"
     ]
    },
    {
     "data": {
      "text/html": [
       "<div>\n",
       "<style scoped>\n",
       "    .dataframe tbody tr th:only-of-type {\n",
       "        vertical-align: middle;\n",
       "    }\n",
       "\n",
       "    .dataframe tbody tr th {\n",
       "        vertical-align: top;\n",
       "    }\n",
       "\n",
       "    .dataframe thead th {\n",
       "        text-align: right;\n",
       "    }\n",
       "</style>\n",
       "<table border=\"1\" class=\"dataframe\">\n",
       "  <thead>\n",
       "    <tr style=\"text-align: right;\">\n",
       "      <th></th>\n",
       "      <th>tissue_ontology_term_id</th>\n",
       "      <th>num_cells</th>\n",
       "    </tr>\n",
       "  </thead>\n",
       "  <tbody>\n",
       "    <tr>\n",
       "      <th>0</th>\n",
       "      <td>UBERON:0000178</td>\n",
       "      <td>9446186</td>\n",
       "    </tr>\n",
       "    <tr>\n",
       "      <th>1</th>\n",
       "      <td>UBERON:0002048</td>\n",
       "      <td>2412727</td>\n",
       "    </tr>\n",
       "    <tr>\n",
       "      <th>2</th>\n",
       "      <td>UBERON:0000310</td>\n",
       "      <td>2269902</td>\n",
       "    </tr>\n",
       "    <tr>\n",
       "      <th>3</th>\n",
       "      <td>UBERON:0009834</td>\n",
       "      <td>1591509</td>\n",
       "    </tr>\n",
       "    <tr>\n",
       "      <th>4</th>\n",
       "      <td>UBERON:0002771</td>\n",
       "      <td>1317262</td>\n",
       "    </tr>\n",
       "  </tbody>\n",
       "</table>\n",
       "</div>"
      ],
      "text/plain": [
       "  tissue_ontology_term_id  num_cells\n",
       "0          UBERON:0000178    9446186\n",
       "1          UBERON:0002048    2412727\n",
       "2          UBERON:0000310    2269902\n",
       "3          UBERON:0009834    1591509\n",
       "4          UBERON:0002771    1317262"
      ]
     },
     "execution_count": 5,
     "metadata": {},
     "output_type": "execute_result"
    }
   ],
   "source": [
    "query_name = \"tissue_ontology_term_id\"\n",
    "names_counts = pandas_gbq.read_gbq(\n",
    "    query_format.format(column_name=query_name),\n",
    "    project_id=\"dsp-cell-annotation-service\",\n",
    ")\n",
    "names_counts.head()"
   ]
  },
  {
   "cell_type": "code",
   "execution_count": 6,
   "metadata": {},
   "outputs": [
    {
     "name": "stderr",
     "output_type": "stream",
     "text": [
      "/home/yordabay/anaconda3/envs/ontology/lib/python3.10/site-packages/google/cloud/bigquery/table.py:2379: UserWarning: A progress bar was requested, but there was an error loading the tqdm library. Please install tqdm to use the progress bar functionality.\n",
      "  record_batch = self.to_arrow(\n"
     ]
    },
    {
     "data": {
      "text/html": [
       "<div>\n",
       "<style scoped>\n",
       "    .dataframe tbody tr th:only-of-type {\n",
       "        vertical-align: middle;\n",
       "    }\n",
       "\n",
       "    .dataframe tbody tr th {\n",
       "        vertical-align: top;\n",
       "    }\n",
       "\n",
       "    .dataframe thead th {\n",
       "        text-align: right;\n",
       "    }\n",
       "</style>\n",
       "<table border=\"1\" class=\"dataframe\">\n",
       "  <thead>\n",
       "    <tr style=\"text-align: right;\">\n",
       "      <th></th>\n",
       "      <th>tissue</th>\n",
       "      <th>num_cells</th>\n",
       "    </tr>\n",
       "  </thead>\n",
       "  <tbody>\n",
       "    <tr>\n",
       "      <th>0</th>\n",
       "      <td>blood</td>\n",
       "      <td>9446186</td>\n",
       "    </tr>\n",
       "    <tr>\n",
       "      <th>1</th>\n",
       "      <td>lung</td>\n",
       "      <td>2412727</td>\n",
       "    </tr>\n",
       "    <tr>\n",
       "      <th>2</th>\n",
       "      <td>breast</td>\n",
       "      <td>2269902</td>\n",
       "    </tr>\n",
       "    <tr>\n",
       "      <th>3</th>\n",
       "      <td>dorsolateral prefrontal cortex</td>\n",
       "      <td>1591509</td>\n",
       "    </tr>\n",
       "    <tr>\n",
       "      <th>4</th>\n",
       "      <td>middle temporal gyrus</td>\n",
       "      <td>1317262</td>\n",
       "    </tr>\n",
       "    <tr>\n",
       "      <th>...</th>\n",
       "      <td>...</td>\n",
       "      <td>...</td>\n",
       "    </tr>\n",
       "    <tr>\n",
       "      <th>259</th>\n",
       "      <td>left parietal lobe</td>\n",
       "      <td>163</td>\n",
       "    </tr>\n",
       "    <tr>\n",
       "      <th>260</th>\n",
       "      <td>vault of skull</td>\n",
       "      <td>123</td>\n",
       "    </tr>\n",
       "    <tr>\n",
       "      <th>261</th>\n",
       "      <td>kidney blood vessel</td>\n",
       "      <td>47</td>\n",
       "    </tr>\n",
       "    <tr>\n",
       "      <th>262</th>\n",
       "      <td>skin of face</td>\n",
       "      <td>37</td>\n",
       "    </tr>\n",
       "    <tr>\n",
       "      <th>263</th>\n",
       "      <td>skin of shoulder</td>\n",
       "      <td>37</td>\n",
       "    </tr>\n",
       "  </tbody>\n",
       "</table>\n",
       "<p>264 rows × 2 columns</p>\n",
       "</div>"
      ],
      "text/plain": [
       "                             tissue  num_cells\n",
       "0                             blood    9446186\n",
       "1                              lung    2412727\n",
       "2                            breast    2269902\n",
       "3    dorsolateral prefrontal cortex    1591509\n",
       "4             middle temporal gyrus    1317262\n",
       "..                              ...        ...\n",
       "259              left parietal lobe        163\n",
       "260                  vault of skull        123\n",
       "261             kidney blood vessel         47\n",
       "262                    skin of face         37\n",
       "263                skin of shoulder         37\n",
       "\n",
       "[264 rows x 2 columns]"
      ]
     },
     "execution_count": 6,
     "metadata": {},
     "output_type": "execute_result"
    }
   ],
   "source": [
    "query_label = \"tissue\"\n",
    "labels_counts = pandas_gbq.read_gbq(\n",
    "    query_format.format(column_name=query_label),\n",
    "    project_id=\"dsp-cell-annotation-service\",\n",
    ")\n",
    "labels_counts"
   ]
  },
  {
   "cell_type": "markdown",
   "metadata": {},
   "source": [
    "How many different ontologies are used for `tissue`?"
   ]
  },
  {
   "cell_type": "code",
   "execution_count": 7,
   "metadata": {},
   "outputs": [
    {
     "data": {
      "text/plain": [
       "{'CL', 'UBERON'}"
      ]
     },
     "execution_count": 7,
     "metadata": {},
     "output_type": "execute_result"
    }
   ],
   "source": [
    "set([value[0] for value in names_counts[query_name].str.split(\":\")])"
   ]
  },
  {
   "cell_type": "markdown",
   "metadata": {},
   "source": [
    "## ontology"
   ]
  },
  {
   "cell_type": "code",
   "execution_count": 31,
   "metadata": {},
   "outputs": [],
   "source": [
    "# Used in CZ CELLxGENE schema v5:\n",
    "# https://github.com/chanzuckerberg/single-cell-curation/blob/main/schema/5.0.0/schema.md\n",
    "OWL_PATH = \"https://github.com/obophenotype/uberon/releases/download/v2024-01-18/uberon.owl\"\n",
    "\n",
    "# only keep nodes with the following prefix when parsing CL ontology\n",
    "PREFIX = \"UBERON_\"\n",
    "\n",
    "# the 'cell' node\n",
    "LIFE_CYCLE_NODE = \"UBERON:0000104\"\n",
    "\n",
    "# the 'eukaryotic cell' node\n",
    "ANATOMICAL_ENTITY_NODE = \"UBERON:0001062\"\n",
    "\n",
    "# relationships we need\n",
    "PARTOF_RELATIONSHIP = \"BFO_0000050\"  # part_of"
   ]
  },
  {
   "cell_type": "code",
   "execution_count": 32,
   "metadata": {},
   "outputs": [],
   "source": [
    "ontology = owlready2.get_ontology(OWL_PATH).load()"
   ]
  },
  {
   "cell_type": "code",
   "execution_count": 33,
   "metadata": {},
   "outputs": [],
   "source": [
    "all_classes = list(ontology.classes())"
   ]
  },
  {
   "cell_type": "code",
   "execution_count": 34,
   "metadata": {},
   "outputs": [],
   "source": [
    "# only keep CL classes with a singleton label\n",
    "classes = list(\n",
    "    _class for _class in all_classes if _class.name.startswith(PREFIX) and len(_class.label) == 1\n",
    ")\n",
    "\n",
    "names = [_class.name.replace(\"_\", \":\") for _class in classes]\n",
    "labels = [str(_class.label[0]) for _class in classes]\n",
    "assert len(set(names)) == len(classes)\n",
    "# assert len(set(labels)) == len(classes)"
   ]
  },
  {
   "cell_type": "code",
   "execution_count": 35,
   "metadata": {},
   "outputs": [],
   "source": [
    "classes_set = set(classes)\n",
    "names_to_labels_map = {name: label for name, label in zip(names, labels)}\n",
    "names_to_idx_map = {name: idx for idx, name in enumerate(names)}\n",
    "# labels_to_names_map = {label: name for name, label in zip(names, labels)}\n",
    "# labels_to_idx_map = {label: idx for idx, label in enumerate(labels)}\n",
    "idx_to_names_map = {idx: name for idx, name in enumerate(names)}\n",
    "idx_to_labels_map = {idx: label for idx, label in enumerate(labels)}"
   ]
  },
  {
   "cell_type": "markdown",
   "metadata": {},
   "source": [
    "Are all `tissue`s covered by the ontology tree?"
   ]
  },
  {
   "cell_type": "code",
   "execution_count": 36,
   "metadata": {},
   "outputs": [
    {
     "data": {
      "text/plain": [
       "{'embryonic stem cell'}"
      ]
     },
     "execution_count": 36,
     "metadata": {},
     "output_type": "execute_result"
    }
   ],
   "source": [
    "set(labels_counts[query_label]) - set(labels)"
   ]
  },
  {
   "cell_type": "code",
   "execution_count": 37,
   "metadata": {},
   "outputs": [
    {
     "data": {
      "text/plain": [
       "{'CL:0002322'}"
      ]
     },
     "execution_count": 37,
     "metadata": {},
     "output_type": "execute_result"
    }
   ],
   "source": [
    "set(names_counts[query_name]) - set(names)"
   ]
  },
  {
   "cell_type": "code",
   "execution_count": 38,
   "metadata": {},
   "outputs": [
    {
     "data": {
      "text/plain": [
       "15567"
      ]
     },
     "execution_count": 38,
     "metadata": {},
     "output_type": "execute_result"
    }
   ],
   "source": [
    "len(labels)"
   ]
  },
  {
   "cell_type": "code",
   "execution_count": 39,
   "metadata": {},
   "outputs": [],
   "source": [
    "# build a networkx graph from CL\n",
    "graph = nx.DiGraph(name=\"CL graph\")\n",
    "\n",
    "for _class in classes:\n",
    "    graph.add_node(_class.name.replace(\"_\", \":\"))\n",
    "\n",
    "for self_class in classes:\n",
    "    # parents\n",
    "    for parent_class in ontology.get_parents_of(self_class):\n",
    "        if parent_class not in classes_set:\n",
    "            continue\n",
    "        graph.add_edge(parent_class.name.replace(\"_\", \":\"), self_class.name.replace(\"_\", \":\"))\n",
    "    # children\n",
    "    for child_class in ontology.get_children_of(self_class):\n",
    "        if child_class not in classes_set:\n",
    "            continue\n",
    "        graph.add_edge(self_class.name.replace(\"_\", \":\"), child_class.name.replace(\"_\", \":\"))\n",
    "    # part of\n",
    "    for prop in self_class.get_class_properties():\n",
    "        if PARTOF_RELATIONSHIP in prop.name:\n",
    "            for related_term in prop[self_class]:\n",
    "                if related_term.name.startswith(PREFIX):\n",
    "                    graph.add_edge(related_term.name.replace(\"_\", \":\"), self_class.name.replace(\"_\", \":\"))\n",
    "\n",
    "    # deprecated terms (WHY???!!)\n",
    "    if \"deprecated\" in [prop.name for prop in self_class.get_class_properties()]:\n",
    "        for prop in self_class.get_class_properties():\n",
    "            if \"consider\" in prop.name:\n",
    "                for substitute in prop[self_class]:\n",
    "                    if substitute.startswith(PREFIX):\n",
    "                        graph.add_edge(substitute, self_class.name.replace(\"_\", \":\"))"
   ]
  },
  {
   "cell_type": "code",
   "execution_count": 40,
   "metadata": {},
   "outputs": [
    {
     "data": {
      "text/plain": [
       "array([[1, 0, 0, ..., 0, 0, 0],\n",
       "       [0, 1, 0, ..., 0, 0, 0],\n",
       "       [0, 1, 1, ..., 0, 0, 0],\n",
       "       ...,\n",
       "       [0, 1, 0, ..., 1, 0, 0],\n",
       "       [0, 1, 0, ..., 0, 1, 0],\n",
       "       [0, 1, 0, ..., 0, 0, 1]])"
      ]
     },
     "execution_count": 40,
     "metadata": {},
     "output_type": "execute_result"
    }
   ],
   "source": [
    "ancestors_matrix = get_ancestors_csr_matrix(graph, names_to_idx_map).toarray()\n",
    "ancestors_matrix"
   ]
  },
  {
   "cell_type": "code",
   "execution_count": 48,
   "metadata": {},
   "outputs": [
    {
     "data": {
      "text/plain": [
       "array([[ 0., inf, inf, ..., inf, inf, inf],\n",
       "       [inf,  0., inf, ..., inf, inf, inf],\n",
       "       [inf,  4.,  0., ..., inf, inf, inf],\n",
       "       ...,\n",
       "       [inf,  6., inf, ...,  0., inf, inf],\n",
       "       [inf,  6., inf, ..., inf,  0., inf],\n",
       "       [inf,  5., inf, ..., inf, inf,  0.]])"
      ]
     },
     "execution_count": 48,
     "metadata": {},
     "output_type": "execute_result"
    }
   ],
   "source": [
    "shortest_distances_matrix = get_shortest_distances_matrix(graph, names_to_idx_map)\n",
    "shortest_distances_matrix = np.where(ancestors_matrix, shortest_distances_matrix, np.inf)\n",
    "shortest_distances_matrix"
   ]
  },
  {
   "cell_type": "markdown",
   "metadata": {},
   "source": [
    "Only leave nodes that exist in the data and their ancestors."
   ]
  },
  {
   "cell_type": "code",
   "execution_count": 49,
   "metadata": {},
   "outputs": [
    {
     "data": {
      "text/plain": [
       "263"
      ]
     },
     "execution_count": 49,
     "metadata": {},
     "output_type": "execute_result"
    }
   ],
   "source": [
    "extract_names_set = set(names_counts[query_name]) - set([\"CL:0002322\"])\n",
    "extract_idx = [idx for name, idx in names_to_idx_map.items() if name in extract_names_set]\n",
    "assert len(extract_idx) == len(extract_names_set)\n",
    "len(extract_idx)"
   ]
  },
  {
   "cell_type": "code",
   "execution_count": 50,
   "metadata": {},
   "outputs": [
    {
     "data": {
      "text/plain": [
       "822"
      ]
     },
     "execution_count": 50,
     "metadata": {},
     "output_type": "execute_result"
    }
   ],
   "source": [
    "new_extract_idx = ancestors_matrix[extract_idx].any(axis=0).nonzero()[0].tolist()\n",
    "new_extract_idx = [idx for idx in new_extract_idx if idx_to_names_map[idx] not in {LIFE_CYCLE_NODE, ANATOMICAL_ENTITY_NODE}]\n",
    "len(new_extract_idx)"
   ]
  },
  {
   "cell_type": "code",
   "execution_count": 51,
   "metadata": {},
   "outputs": [],
   "source": [
    "new_names = [idx_to_names_map[idx] for idx in new_extract_idx]\n",
    "new_labels = [idx_to_labels_map[idx] for idx in new_extract_idx]"
   ]
  },
  {
   "cell_type": "code",
   "execution_count": 52,
   "metadata": {},
   "outputs": [],
   "source": [
    "new_shortest_distances_matrix = shortest_distances_matrix[new_extract_idx][:, new_extract_idx]\n",
    "# new_longest_distances_matrix = longest_distances_matrix[new_extract_idx][:, new_extract_idx]\n",
    "new_ancestors_matrix = ancestors_matrix[new_extract_idx][:, new_extract_idx]"
   ]
  },
  {
   "cell_type": "code",
   "execution_count": 53,
   "metadata": {},
   "outputs": [],
   "source": [
    "torch.save({\n",
    "        \"names\": new_names,\n",
    "        \"labels\": new_labels,\n",
    "        \"shortest_distances_matrix\": torch.tensor(new_shortest_distances_matrix, dtype=torch.float32),\n",
    "        # \"longest_distances_matrix\": torch.tensor(new_longest_distances_matrix, dtype=torch.float32),\n",
    "        \"ancestors_matrix\": torch.tensor(new_ancestors_matrix, dtype=torch.int32),\n",
    "    },\n",
    "    \"tissue_ontology_data.pt\"\n",
    ")"
   ]
  },
  {
   "cell_type": "code",
   "execution_count": null,
   "metadata": {},
   "outputs": [],
   "source": []
  }
 ],
 "metadata": {
  "kernelspec": {
   "display_name": "ontology",
   "language": "python",
   "name": "python3"
  },
  "language_info": {
   "codemirror_mode": {
    "name": "ipython",
    "version": 3
   },
   "file_extension": ".py",
   "mimetype": "text/x-python",
   "name": "python",
   "nbconvert_exporter": "python",
   "pygments_lexer": "ipython3",
   "version": "3.10.15"
  }
 },
 "nbformat": 4,
 "nbformat_minor": 2
}
