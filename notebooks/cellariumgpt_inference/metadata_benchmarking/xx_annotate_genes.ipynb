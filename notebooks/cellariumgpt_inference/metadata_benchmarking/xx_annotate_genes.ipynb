{
 "cells": [
  {
   "cell_type": "code",
   "execution_count": 1,
   "metadata": {},
   "outputs": [],
   "source": [
    "import os\n",
    "import torch\n",
    "import warnings\n",
    "import numpy as np\n",
    "import scanpy as sc\n",
    "import pandas as pd\n",
    "import matplotlib.pyplot as plt\n",
    "import typing as t\n",
    "\n",
    "# To suppress the stupid AnnData warning ...\n",
    "warnings.filterwarnings(\"ignore\", category=UserWarning, message=\"Transforming to str index.\")\n",
    "\n",
    "from cellarium.ml.utilities.inference.cellarium_gpt_inference import \\\n",
    "    CellariumGPTInferenceContext"
   ]
  },
  {
   "cell_type": "code",
   "execution_count": 2,
   "metadata": {},
   "outputs": [],
   "source": [
    "# arguments\n",
    "cuda_device_index = 0\n",
    "val_adata_index = 1\n",
    "\n",
    "checkpoint_path = \"/home/mehrtash/data/100M_long_run/run_001/lightning_logs/version_3/checkpoints/epoch=5-step=504000.ckpt\"\n",
    "ref_adata_path = \"/home/mehrtash/data/data/extract_0.h5ad\"\n",
    "gene_info_path = \"/home/mehrtash/data/gene_info/gene_info.tsv\""
   ]
  },
  {
   "cell_type": "code",
   "execution_count": 3,
   "metadata": {},
   "outputs": [],
   "source": [
    "cuda_device_index = 0\n",
    "device = torch.device(f\"cuda:{cuda_device_index}\")\n",
    "\n",
    "ctx = CellariumGPTInferenceContext(\n",
    "    cellarium_gpt_ckpt_path=checkpoint_path,\n",
    "    ref_adata_path=ref_adata_path,\n",
    "    gene_info_tsv_path=gene_info_path,\n",
    "    device=device,\n",
    "    attention_backend=\"mem_efficient\",\n",
    "    verbose=False\n",
    ")"
   ]
  },
  {
   "cell_type": "code",
   "execution_count": 4,
   "metadata": {},
   "outputs": [
    {
     "data": {
      "text/plain": [
       "array(['ENSG00000187642', 'ENSG00000078808', 'ENSG00000272106', ...,\n",
       "       'ENSG00000228836', 'ENSG00000231937', 'ENSG00000268916'],\n",
       "      dtype=object)"
      ]
     },
     "execution_count": 4,
     "metadata": {},
     "output_type": "execute_result"
    }
   ],
   "source": [
    "ctx.model_var_names"
   ]
  },
  {
   "cell_type": "code",
   "execution_count": 5,
   "metadata": {},
   "outputs": [],
   "source": [
    "all_genes_with_info_set = set(ctx.gene_info_df['ENSEMBL Gene ID'].values)\n",
    "gene_id_to_biotype_map = dict(zip(ctx.gene_info_df['ENSEMBL Gene ID'], ctx.gene_info_df['Gene Biotype']))"
   ]
  },
  {
   "cell_type": "code",
   "execution_count": 6,
   "metadata": {},
   "outputs": [
    {
     "data": {
      "text/plain": [
       "defaultdict(int,\n",
       "            {'protein_coding': 19250,\n",
       "             'lncRNA': 16411,\n",
       "             'IG_V_gene': 145,\n",
       "             'IG_V_pseudogene': 187,\n",
       "             'missing': 224,\n",
       "             'TR_V_gene': 106,\n",
       "             'TR_V_pseudogene': 33,\n",
       "             'TR_J_gene': 79,\n",
       "             'IG_D_gene': 37,\n",
       "             'IG_J_gene': 18,\n",
       "             'TR_J_pseudogene': 4,\n",
       "             'IG_J_pseudogene': 3,\n",
       "             'IG_C_pseudogene': 9,\n",
       "             'transcribed_unitary_pseudogene': 17,\n",
       "             'artifact': 17,\n",
       "             'transcribed_unprocessed_pseudogene': 29,\n",
       "             'processed_pseudogene': 2,\n",
       "             'IG_C_gene': 14,\n",
       "             'TR_C_gene': 6,\n",
       "             'TR_D_gene': 4,\n",
       "             'TEC': 1,\n",
       "             'transcribed_processed_pseudogene': 2,\n",
       "             'unitary_pseudogene': 1,\n",
       "             'unprocessed_pseudogene': 2})"
      ]
     },
     "execution_count": 6,
     "metadata": {},
     "output_type": "execute_result"
    }
   ],
   "source": [
    "# what is the breakdown by type?\n",
    "\n",
    "from collections import defaultdict\n",
    "\n",
    "counts_dict = defaultdict(int)\n",
    "for var_name in ctx.model_var_names:\n",
    "    if var_name not in all_genes_with_info_set:\n",
    "        counts_dict[\"missing\"] += 1\n",
    "    else:\n",
    "        biotype = gene_id_to_biotype_map[var_name]\n",
    "        counts_dict[biotype] += 1\n",
    "\n",
    "counts_dict"
   ]
  },
  {
   "cell_type": "code",
   "execution_count": 7,
   "metadata": {},
   "outputs": [
    {
     "name": "stdout",
     "output_type": "stream",
     "text": [
      "        Gene stable ID contig\n",
      "0      ENSG00000210049     MT\n",
      "1      ENSG00000211459     MT\n",
      "2      ENSG00000210077     MT\n",
      "3      ENSG00000210082     MT\n",
      "4      ENSG00000209082     MT\n",
      "...                ...    ...\n",
      "86397  ENSG00000235358      1\n",
      "86398  ENSG00000228067      1\n",
      "86399  ENSG00000293271      1\n",
      "86400  ENSG00000310526      1\n",
      "86401  ENSG00000241860      1\n",
      "\n",
      "[86402 rows x 2 columns]\n"
     ]
    }
   ],
   "source": [
    "from pybiomart import Dataset\n",
    "import pandas as pd\n",
    "\n",
    "# Connect to the human gene dataset\n",
    "dataset = Dataset(name='hsapiens_gene_ensembl', host='www.ensembl.org')\n",
    "\n",
    "# Query the dataset for all gene IDs and their chromosome names\n",
    "result = dataset.query(attributes=['ensembl_gene_id', 'chromosome_name'])\n",
    "\n",
    "# Optionally, rename the chromosome column for clarity\n",
    "result.rename(columns={'Chromosome/scaffold name': 'contig'}, inplace=True)\n",
    "\n",
    "print(result)\n"
   ]
  },
  {
   "cell_type": "code",
   "execution_count": 8,
   "metadata": {},
   "outputs": [
    {
     "data": {
      "text/plain": [
       "contig\n",
       "1                  7095\n",
       "2                  5685\n",
       "6                  4230\n",
       "11                 4170\n",
       "3                  4161\n",
       "                   ... \n",
       "KI270720.1            1\n",
       "KI270718.1            1\n",
       "GL000216.2            1\n",
       "HSCHR17_12_CTG4       1\n",
       "HSCHR4_4_CTG12        1\n",
       "Name: count, Length: 528, dtype: int64"
      ]
     },
     "execution_count": 8,
     "metadata": {},
     "output_type": "execute_result"
    }
   ],
   "source": [
    "result['contig'].value_counts()"
   ]
  },
  {
   "cell_type": "code",
   "execution_count": 9,
   "metadata": {},
   "outputs": [],
   "source": [
    "gene_id_to_contig_map = dict(zip(result['Gene stable ID'], result['contig']))\n",
    "model_genes_df = pd.DataFrame(ctx.model_var_names, columns=['ensembl_gene_id'])\n",
    "model_genes_df['contig'] = model_genes_df['ensembl_gene_id'].map(gene_id_to_contig_map)"
   ]
  },
  {
   "cell_type": "code",
   "execution_count": 10,
   "metadata": {},
   "outputs": [
    {
     "data": {
      "text/plain": [
       "contig\n",
       "1             3327\n",
       "2             2450\n",
       "11            2025\n",
       "19            1995\n",
       "17            1938\n",
       "12            1857\n",
       "3             1820\n",
       "6             1764\n",
       "5             1736\n",
       "7             1633\n",
       "16            1605\n",
       "4             1477\n",
       "8             1435\n",
       "14            1428\n",
       "10            1351\n",
       "9             1268\n",
       "15            1225\n",
       "NaN           1135\n",
       "X             1128\n",
       "20             941\n",
       "22             880\n",
       "13             761\n",
       "18             740\n",
       "21             538\n",
       "Y              107\n",
       "MT              13\n",
       "KI270728.1       4\n",
       "KI270727.1       3\n",
       "KI270734.1       3\n",
       "GL000194.1       2\n",
       "KI270713.1       2\n",
       "KI270726.1       2\n",
       "GL000219.1       1\n",
       "GL000195.1       1\n",
       "KI270721.1       1\n",
       "KI270731.1       1\n",
       "KI270711.1       1\n",
       "GL000009.2       1\n",
       "GL000213.1       1\n",
       "GL000218.1       1\n",
       "Name: count, dtype: int64"
      ]
     },
     "execution_count": 10,
     "metadata": {},
     "output_type": "execute_result"
    }
   ],
   "source": [
    "model_genes_df['contig'].value_counts(dropna=False)"
   ]
  },
  {
   "cell_type": "code",
   "execution_count": 11,
   "metadata": {},
   "outputs": [
    {
     "name": "stdout",
     "output_type": "stream",
     "text": [
      "Number of autosomal genes: 34194\n",
      "Number of sex genes: 1235\n",
      "Number of X genes: 1128\n",
      "Number of Y genes: 107\n"
     ]
    }
   ],
   "source": [
    "autosomal_gene_ids = model_genes_df[\n",
    "    model_genes_df['contig'].isin({str(i) for i in range(1, 23)})]['ensembl_gene_id'].values.tolist()\n",
    "sex_gene_ids = model_genes_df[\n",
    "    model_genes_df['contig'].isin({'X', 'Y'})]['ensembl_gene_id'].values.tolist()\n",
    "x_gene_ids = model_genes_df[\n",
    "    model_genes_df['contig'].isin({'X'})]['ensembl_gene_id'].values.tolist()\n",
    "y_gene_ids = model_genes_df[\n",
    "    model_genes_df['contig'].isin({'Y'})]['ensembl_gene_id'].values.tolist()\n",
    "\n",
    "print(f\"Number of autosomal genes: {len(autosomal_gene_ids)}\")\n",
    "print(f\"Number of sex genes: {len(sex_gene_ids)}\")\n",
    "print(f\"Number of X genes: {len(x_gene_ids)}\")\n",
    "print(f\"Number of Y genes: {len(y_gene_ids)}\")\n",
    "\n",
    "assert set(autosomal_gene_ids).intersection(sex_gene_ids) == set()"
   ]
  },
  {
   "cell_type": "code",
   "execution_count": 12,
   "metadata": {},
   "outputs": [],
   "source": [
    "# write the gene lists to file\n",
    "with open(\"/home/mehrtash/data/data/cellariumgpt_artifacts/autosomal_gene_ids.txt\", 'w') as f:\n",
    "    for gene_id in autosomal_gene_ids:\n",
    "        f.write(f\"{gene_id}\\n\")\n",
    "\n",
    "with open(\"/home/mehrtash/data/data/cellariumgpt_artifacts/sex_gene_ids.txt\", 'w') as f:\n",
    "    for gene_id in sex_gene_ids:\n",
    "        f.write(f\"{gene_id}\\n\")\n",
    "\n",
    "with open(\"/home/mehrtash/data/data/cellariumgpt_artifacts/x_gene_ids.txt\", 'w') as f:\n",
    "    for gene_id in x_gene_ids:\n",
    "        f.write(f\"{gene_id}\\n\")\n",
    "\n",
    "with open(\"/home/mehrtash/data/data/cellariumgpt_artifacts/y_gene_ids.txt\", 'w') as f:\n",
    "    for gene_id in y_gene_ids:\n",
    "        f.write(f\"{gene_id}\\n\")"
   ]
  }
 ],
 "metadata": {
  "kernelspec": {
   "display_name": "base",
   "language": "python",
   "name": "python3"
  },
  "language_info": {
   "codemirror_mode": {
    "name": "ipython",
    "version": 3
   },
   "file_extension": ".py",
   "mimetype": "text/x-python",
   "name": "python",
   "nbconvert_exporter": "python",
   "pygments_lexer": "ipython3",
   "version": "3.10.16"
  }
 },
 "nbformat": 4,
 "nbformat_minor": 2
}
