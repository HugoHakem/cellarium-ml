{
 "cells": [
  {
   "cell_type": "markdown",
   "metadata": {},
   "source": [
    "### Metadata evaluation"
   ]
  },
  {
   "cell_type": "code",
   "execution_count": null,
   "metadata": {},
   "outputs": [],
   "source": [
    "import os\n",
    "import torch\n",
    "import numpy as np\n",
    "import scanpy as sc\n",
    "import pandas as pd\n",
    "import matplotlib.pyplot as plt\n",
    "\n",
    "# for flex attention\n",
    "import torch._dynamo\n",
    "torch._dynamo.config.suppress_errors = True\n",
    "\n",
    "DEVICE = torch.device('cuda:0')\n",
    "sc.set_figure_params(figsize=(4, 4))\n",
    "\n",
    "from cellarium.ml.utilities.inference.cellarium_gpt_inference import CellariumGPTInferenceContext"
   ]
  },
  {
   "cell_type": "code",
   "execution_count": null,
   "metadata": {},
   "outputs": [],
   "source": [
    "ROOT_PATH = \"/mnt/cellariumgpt-xfer/mb-ml-dev-vm\"\n",
    "CHECKPOINT_PATH = \"/mnt/cellariumgpt-xfer/100M_long_run/run_001/lightning_logs/version_1/checkpoints/epoch=2-step=252858.ckpt\"\n",
    "REF_ADATA_PATH = os.path.join(ROOT_PATH, \"data\", \"extract_0.h5ad\")\n",
    "GENE_INFO_PATH = os.path.join(ROOT_PATH, \"gene_info\", \"gene_info.tsv\")\n",
    "\n",
    "ctx = CellariumGPTInferenceContext(\n",
    "    cellarium_gpt_ckpt_path=CHECKPOINT_PATH,\n",
    "    ref_adata_path=REF_ADATA_PATH,\n",
    "    gene_info_tsv_path=GENE_INFO_PATH,\n",
    "    device=DEVICE,\n",
    "    attention_backend=\"mem_efficient\"\n",
    ")"
   ]
  },
  {
   "cell_type": "markdown",
   "metadata": {},
   "source": [
    "### LuCA"
   ]
  },
  {
   "cell_type": "markdown",
   "metadata": {},
   "source": [
    "#### Process the AnnData"
   ]
  },
  {
   "cell_type": "markdown",
   "metadata": {},
   "source": [
    "- Subset to LUAD\n",
    "- Subset to highly variable genes"
   ]
  },
  {
   "cell_type": "code",
   "execution_count": null,
   "metadata": {},
   "outputs": [],
   "source": [
    "adata_path = os.path.join(ROOT_PATH, \"data\", \"luca\", \"5d57179e-17d8-416f-aa55-9c3dbc3c29fc.h5ad\")\n",
    "adata = sc.read_h5ad(adata_path)"
   ]
  },
  {
   "cell_type": "code",
   "execution_count": null,
   "metadata": {},
   "outputs": [],
   "source": [
    "# revert to raw counts\n",
    "adata.X = adata.layers['count'].copy()\n",
    "adata.obs['total_mrna_umis'] = np.asarray(adata.X.sum(axis=1)).flatten()\n",
    "\n",
    "# remove unwanted assays\n",
    "included_assays = [\"10x 3' v2\", \"10x 3' v3\"]\n",
    "included_tissues = [\"lung\"]\n",
    "adata = adata[adata.obs['assay'].isin(included_assays) & adata.obs['tissue'].isin(included_tissues)]\n",
    "\n",
    "# free up some memory\n",
    "del adata.layers['counts_length_scaled']"
   ]
  },
  {
   "cell_type": "code",
   "execution_count": null,
   "metadata": {},
   "outputs": [],
   "source": [
    "adata"
   ]
  },
  {
   "cell_type": "code",
   "execution_count": null,
   "metadata": {},
   "outputs": [],
   "source": [
    "sc.pl.umap(adata[adata.obs['disease'] == 'lung adenocarcinoma'], color='cell_type_tumor', gene_symbols='feature_name', vmin=0, vmax=2)"
   ]
  },
  {
   "cell_type": "code",
   "execution_count": null,
   "metadata": {},
   "outputs": [],
   "source": [
    "adata = adata[adata.obs['disease'] == 'lung adenocarcinoma']"
   ]
  },
  {
   "cell_type": "code",
   "execution_count": null,
   "metadata": {},
   "outputs": [],
   "source": [
    "# sc.pp.normalize_total(adata, target_sum=1e4)\n",
    "# sc.pp.log1p(adata)\n",
    "\n",
    "# N_TOP_GENES = 10_000\n",
    "\n",
    "# sc.pp.highly_variable_genes(adata, n_top_genes=N_TOP_GENES, flavor='seurat_v3', n_bins=20)\n",
    "# sc.pl.highly_variable_genes(adata)"
   ]
  },
  {
   "cell_type": "code",
   "execution_count": null,
   "metadata": {},
   "outputs": [],
   "source": [
    "# subset to a smaller number of cells for testing\n",
    "N_RAND_CELLS = 1_000\n",
    "\n",
    "rng = np.random.default_rng(42)\n",
    "adata_rand = adata[rng.choice(len(adata), N_RAND_CELLS, replace=False)]\n",
    "adata_rand = adata_rand.copy()\n",
    "adata_rand.X = adata_rand.layers['count'].copy()"
   ]
  },
  {
   "cell_type": "code",
   "execution_count": null,
   "metadata": {},
   "outputs": [],
   "source": [
    "adata_rand.write_h5ad(\n",
    "    os.path.join(ROOT_PATH, \"data\", \"luca\", \"5d57179e-17d8-416f-aa55-9c3dbc3c29fc__processed.h5ad\"))"
   ]
  },
  {
   "cell_type": "markdown",
   "metadata": {},
   "source": [
    "#### Load the processed LuCA AnnData and make predictions"
   ]
  },
  {
   "cell_type": "code",
   "execution_count": null,
   "metadata": {},
   "outputs": [],
   "source": [
    "adata_path = os.path.join(ROOT_PATH, \"data\", \"luca\", \"5d57179e-17d8-416f-aa55-9c3dbc3c29fc__processed.h5ad\")\n",
    "adata = sc.read_h5ad(adata_path)\n",
    "\n",
    "# remove genes that we don't have in the vocabulary\n",
    "adata_var_names = adata.var_names\n",
    "adata_var_names_in_model_mask = [var_name in ctx.model_var_names_set for var_name in adata_var_names]\n",
    "adata = adata[:, adata_var_names_in_model_mask]\n",
    "\n",
    "# subset genes\n",
    "N_RAND_GENES = 10_000\n",
    "rng = np.random.default_rng(42)\n",
    "adata = adata[:, rng.choice(len(adata.var), N_RAND_GENES, replace=False)]"
   ]
  },
  {
   "cell_type": "code",
   "execution_count": null,
   "metadata": {},
   "outputs": [],
   "source": [
    "torch.cuda.empty_cache()\n",
    "metadata_prediction_dict = ctx.predict_metadata_chunked(adata, chunk_size=32)\n",
    "\n",
    "# save\n",
    "torch.save(\n",
    "    metadata_prediction_dict,\n",
    "    os.path.join(\n",
    "        ROOT_PATH, \"cellariumgpt_playground\", \"output\",\n",
    "        \"5d57179e-17d8-416f-aa55-9c3dbc3c29fc__metadata_predictions.pt\"))"
   ]
  },
  {
   "cell_type": "markdown",
   "metadata": {},
   "source": [
    "#### Load processed AnnData file and results"
   ]
  },
  {
   "cell_type": "code",
   "execution_count": null,
   "metadata": {},
   "outputs": [],
   "source": [
    "adata_path = os.path.join(ROOT_PATH, \"data\", \"luca\", \"5d57179e-17d8-416f-aa55-9c3dbc3c29fc__processed.h5ad\")\n",
    "adata = sc.read_h5ad(adata_path)\n",
    "\n",
    "metadata_prediction_dict = torch.load(\n",
    "    os.path.join(ROOT_PATH, \"cellariumgpt_playground\", \"output\", \"5d57179e-17d8-416f-aa55-9c3dbc3c29fc__metadata_predictions.pt\"))"
   ]
  },
  {
   "cell_type": "code",
   "execution_count": null,
   "metadata": {},
   "outputs": [],
   "source": [
    "best_cell_type_indices = np.argmax(metadata_prediction_dict['cell_type'], -1)\n",
    "best_cell_type_labels = [ctx.metadata_ontology_infos['cell_type']['labels'][i] for i in best_cell_type_indices]\n",
    "\n",
    "adata.obs['cellariumgpt_cell_type'] = best_cell_type_labels"
   ]
  },
  {
   "cell_type": "code",
   "execution_count": null,
   "metadata": {},
   "outputs": [],
   "source": [
    "sc.pl.umap(adata)"
   ]
  },
  {
   "cell_type": "code",
   "execution_count": null,
   "metadata": {},
   "outputs": [],
   "source": [
    "sc.pl.umap(adata, color='cellariumgpt_cell_type')"
   ]
  },
  {
   "cell_type": "code",
   "execution_count": null,
   "metadata": {},
   "outputs": [],
   "source": [
    "sc.pl.umap(adata, color='cell_type')"
   ]
  },
  {
   "cell_type": "code",
   "execution_count": null,
   "metadata": {},
   "outputs": [],
   "source": [
    "sc.pl.umap(adata, color='cell_type_tumor')"
   ]
  },
  {
   "cell_type": "code",
   "execution_count": null,
   "metadata": {},
   "outputs": [],
   "source": [
    "disease_keywords = ['adenocarcinoma', 'COVID-19', 'cardiomyopathy']\n",
    "for disease_keyword in disease_keywords:\n",
    "    target_disease_indices = []\n",
    "    target_disease_labels = []\n",
    "    for idx, disease_label in enumerate(ctx.metadata_ontology_infos['disease']['labels']):\n",
    "        if disease_label.find(disease_keyword) != -1:\n",
    "            target_disease_labels.append(disease_label)\n",
    "            target_disease_indices.append(idx)\n",
    "    target_disease_score_n = metadata_prediction_dict['disease'][:, target_disease_indices].sum(-1)\n",
    "    adata.obs[f'cellariumgpt_{disease_keyword}_score'] = target_disease_score_n\n",
    "\n",
    "target_disease_labels = 'normal'\n",
    "target_disease_indices = [0]\n",
    "target_disease_score_n = metadata_prediction_dict['disease'][:, target_disease_indices].sum(-1)\n",
    "adata.obs['cellariumgpt_normal_score'] = target_disease_score_n"
   ]
  },
  {
   "cell_type": "code",
   "execution_count": null,
   "metadata": {},
   "outputs": [],
   "source": [
    "sc.pl.umap(adata, color='cellariumgpt_normal_score', s=40, cmap='RdBu_r', alpha=0.5)"
   ]
  },
  {
   "cell_type": "code",
   "execution_count": null,
   "metadata": {},
   "outputs": [],
   "source": [
    "sc.pl.umap(adata, color='cellariumgpt_adenocarcinoma_score', s=40, cmap='RdBu_r', alpha=0.5)"
   ]
  },
  {
   "cell_type": "markdown",
   "metadata": {},
   "source": [
    "### Process validation datasets"
   ]
  },
  {
   "cell_type": "markdown",
   "metadata": {},
   "source": [
    "#### Make a manifest"
   ]
  },
  {
   "cell_type": "code",
   "execution_count": null,
   "metadata": {},
   "outputs": [],
   "source": [
    "from tqdm.notebook import tqdm\n",
    "\n",
    "tissue_list = []\n",
    "disease_list = []\n",
    "development_stage_list = []\n",
    "\n",
    "for val_idx in tqdm(range(1, 111)):\n",
    "    \n",
    "    val_adata_path = os.path.join(ROOT_PATH, \"data\", \"cellariumgpt_validation\", f\"extract_{val_idx}.h5ad\")\n",
    "    val_adata = sc.read_h5ad(val_adata_path)\n",
    "    \n",
    "    tissue = val_adata.obs['tissue'].iloc[0]\n",
    "    disease = val_adata.obs['disease'].iloc[0]\n",
    "    development_stage = val_adata.obs['development_stage'].iloc[0]\n",
    "\n",
    "    tissue_list.append(tissue)\n",
    "    disease_list.append(disease)\n",
    "    development_stage_list.append(development_stage)"
   ]
  },
  {
   "cell_type": "code",
   "execution_count": null,
   "metadata": {},
   "outputs": [],
   "source": [
    "validation_df = pd.DataFrame(\n",
    "    {\n",
    "        'tissue': tissue_list,\n",
    "        'disease': disease_list,\n",
    "        'development_stage': development_stage_list,\n",
    "    }\n",
    ")\n",
    "\n",
    "validation_df.to_csv(os.path.join(ROOT_PATH, \"data\", \"cellariumgpt_validation\", \"manifest.csv\"))"
   ]
  },
  {
   "cell_type": "code",
   "execution_count": null,
   "metadata": {},
   "outputs": [],
   "source": [
    "validation_df = pd.read_csv(os.path.join(ROOT_PATH, \"data\", \"cellariumgpt_validation\", \"manifest.csv\"), index_col=0)\n",
    "\n",
    "# reset index to go from 1 to ...\n",
    "validation_df.index += 1\n",
    "\n",
    "with pd.option_context('display.max_rows', None, 'display.max_columns', None):\n",
    "    display(validation_df)\n"
   ]
  },
  {
   "cell_type": "code",
   "execution_count": null,
   "metadata": {},
   "outputs": [],
   "source": [
    "validation_df[validation_df[\"disease\"] == \"lung adenocarcinoma\"]"
   ]
  },
  {
   "cell_type": "code",
   "execution_count": null,
   "metadata": {},
   "outputs": [],
   "source": [
    "validation_df[validation_df[\"tissue\"] == \"lung\"]"
   ]
  },
  {
   "cell_type": "markdown",
   "metadata": {},
   "source": [
    "#### Process a given validation AnnData"
   ]
  },
  {
   "cell_type": "code",
   "execution_count": null,
   "metadata": {},
   "outputs": [],
   "source": [
    "from tqdm.notebook import tqdm\n",
    "\n",
    "val_idx_list = [58, 66, 69, 53, 67, 92, 107, 108, 92, 93, 100, 104, 40, 52, 50, 79]\n",
    "N_TOP_HVG = 5000\n",
    "\n",
    "\n",
    "for val_idx in tqdm(val_idx_list):\n",
    "\n",
    "    val_adata_path = os.path.join(ROOT_PATH, \"data\", \"cellariumgpt_validation\", f\"extract_{val_idx}.h5ad\")\n",
    "    val_adata = sc.read_h5ad(val_adata_path)\n",
    "\n",
    "    val_adata.layers['counts'] = val_adata.X.copy()\n",
    "\n",
    "    sc.pp.normalize_total(val_adata, target_sum=1e4)\n",
    "    sc.pp.log1p(val_adata)\n",
    "    sc.pp.highly_variable_genes(val_adata, n_top_genes=N_TOP_HVG)\n",
    "\n",
    "    val_adata = val_adata[:, val_adata.var['highly_variable']]\n",
    "\n",
    "    sc.pp.scale(val_adata, max_value=10)\n",
    "    sc.pp.pca(val_adata, n_comps=50)\n",
    "    sc.pp.neighbors(val_adata, n_pcs=50, n_neighbors=30)\n",
    "    sc.tl.umap(val_adata)\n",
    "\n",
    "    val_adata.write_h5ad(os.path.join(ROOT_PATH, \"data\", \"cellariumgpt_validation\", f\"extract_{val_idx}__processed.h5ad\"))"
   ]
  },
  {
   "cell_type": "markdown",
   "metadata": {},
   "source": [
    "#### Predict metadata"
   ]
  },
  {
   "cell_type": "code",
   "execution_count": null,
   "metadata": {},
   "outputs": [],
   "source": [
    "len(val_idx_list)"
   ]
  },
  {
   "cell_type": "code",
   "execution_count": null,
   "metadata": {},
   "outputs": [],
   "source": [
    "from tqdm.notebook import tqdm\n",
    "\n",
    "val_idx_list = [58, 66, 69, 53, 67, 92, 107, 108, 92, 93, 100, 104, 40, 52, 50, 79]\n",
    "\n",
    "N_CELLS_PER_CALL = 192\n",
    "\n",
    "for val_idx in tqdm(val_idx_list):\n",
    "\n",
    "    val_adata_path = os.path.join(ROOT_PATH, \"data\", \"cellariumgpt_validation\", f\"extract_{val_idx}__processed.h5ad\")\n",
    "    val_adata = sc.read_h5ad(val_adata_path)\n",
    "\n",
    "    # revert to integer counts\n",
    "    val_adata.X = val_adata.layers['counts'].copy()\n",
    "\n",
    "    # predict\n",
    "    metadata_prediction_dict = ctx.predict_metadata_chunked(val_adata, chunk_size=N_CELLS_PER_CALL)\n",
    "\n",
    "    # save\n",
    "    torch.save(\n",
    "        metadata_prediction_dict,\n",
    "        os.path.join(ROOT_PATH, \"cellariumgpt_playground\", \"output\", f\"extract_{val_idx}__metadata_predictions.pt\"))"
   ]
  },
  {
   "cell_type": "markdown",
   "metadata": {},
   "source": [
    "#### Visualize"
   ]
  },
  {
   "cell_type": "code",
   "execution_count": null,
   "metadata": {},
   "outputs": [],
   "source": [
    "val_idx_list = [58, 66, 69, 53, 67, 92, 107, 108, 92, 93, 100, 104, 40, 52, 50, 79]\n",
    "val_idx = val_idx_list[6]\n",
    "\n",
    "# load anndata\n",
    "adata_path = os.path.join(ROOT_PATH, \"data\", \"cellariumgpt_validation\", f\"extract_{val_idx}__processed.h5ad\")\n",
    "adata = sc.read_h5ad(adata_path)\n",
    "\n",
    "# print sample metadata\n",
    "print(adata.obs['disease'].iloc[0])\n",
    "print(adata.obs['tissue'].iloc[0])\n",
    "print(adata.obs['development_stage'].iloc[0])\n",
    "\n",
    "# load predictions\n",
    "metadata_prediction_dict = torch.load(\n",
    "    os.path.join(ROOT_PATH, \"cellariumgpt_playground\", \"output\", f\"extract_{val_idx}__metadata_predictions.pt\"))\n",
    "\n",
    "# make best top_k predictions\n",
    "top_k = 5\n",
    "for key in {\"cell_type\", \"disease\", \"tissue\", \"development_stage\"}:\n",
    "    top_k_sort_order = np.argsort(metadata_prediction_dict[key], axis=-1)[:, ::-1]\n",
    "    for k in range(top_k):\n",
    "        adata.obs[f\"cellariumgpt_{key}_{k}_label\"] = [\n",
    "            ctx.metadata_ontology_infos[key]['labels'][i] for i in top_k_sort_order[:, k]]\n",
    "        adata.obs[f\"cellariumgpt_{key}_{k}_prob\"] = metadata_prediction_dict[key][np.arange(len(adata)), top_k_sort_order[:, k]]"
   ]
  },
  {
   "cell_type": "code",
   "execution_count": null,
   "metadata": {},
   "outputs": [],
   "source": [
    "disease_keywords = ['adenocarcinoma', 'COVID-19', 'cardiomyopathy']\n",
    "for disease_keyword in disease_keywords:\n",
    "    target_disease_indices = []\n",
    "    target_disease_labels = []\n",
    "    for idx, disease_label in enumerate(ctx.metadata_ontology_infos['disease']['labels']):\n",
    "        if disease_label.find(disease_keyword) != -1:\n",
    "            target_disease_labels.append(disease_label)\n",
    "            target_disease_indices.append(idx)\n",
    "    target_disease_score_n = metadata_prediction_dict['disease'][:, target_disease_indices].sum(-1)\n",
    "    adata.obs[f'cellariumgpt_{disease_keyword}_score'] = target_disease_score_n\n",
    "\n",
    "target_disease_labels = 'normal'\n",
    "target_disease_indices = [0]\n",
    "target_disease_score_n = metadata_prediction_dict['disease'][:, target_disease_indices].sum(-1)\n",
    "adata.obs['cellariumgpt_normal_score'] = target_disease_score_n"
   ]
  },
  {
   "cell_type": "code",
   "execution_count": null,
   "metadata": {},
   "outputs": [],
   "source": [
    "import plotly.express as px\n",
    "import colorcet as cc\n",
    "import pandas as pd\n",
    "\n",
    "\n",
    "def generate_interactive_plotly_for_metadata(\n",
    "        adata: sc.AnnData,\n",
    "        top_k: int,\n",
    "        metadata_key: str,\n",
    "        use_continuous: bool = False,\n",
    "        value_key: str = None,\n",
    "        vmin: float = None,\n",
    "        vmax: float = None,\n",
    "        width: int = 800,\n",
    "        height: int = 600,\n",
    "        markersize: int = 4,\n",
    "    ):\n",
    "    \n",
    "    # Prepare data for plotting\n",
    "    umap_df = pd.DataFrame({\n",
    "        'UMAP_1': adata.obsm['X_umap'][:, 0],\n",
    "        'UMAP_2': adata.obsm['X_umap'][:, 1]\n",
    "    })\n",
    "    \n",
    "    if use_continuous and value_key:\n",
    "        umap_df['value'] = adata.obs[value_key].values\n",
    "        color = 'value'\n",
    "        color_continuous_scale = 'RdBu_r'\n",
    "    else:\n",
    "        # Extract unique labels\n",
    "        labels = adata.obs[f\"cellariumgpt_{metadata_key}_0_label\"].unique()\n",
    "\n",
    "        # Assign colors to labels\n",
    "        colormap = {label: cc.glasbey[i % len(cc.glasbey)] for i, label in enumerate(labels)}\n",
    "        \n",
    "        umap_df['label'] = adata.obs[f\"cellariumgpt_{metadata_key}_0_label\"].values\n",
    "        color = 'label'\n",
    "        color_discrete_map = colormap\n",
    "    \n",
    "    # Add hover text\n",
    "    hover_texts = []\n",
    "    for i in range(len(umap_df)):\n",
    "        hover_text = []\n",
    "        for k in range(top_k):\n",
    "            label_key = f\"cellariumgpt_{metadata_key}_{k}_label\"\n",
    "            prob_key = f\"cellariumgpt_{metadata_key}_{k}_prob\"\n",
    "            hover_text.append(f\"{adata.obs[label_key].iloc[i]}: {adata.obs[prob_key].iloc[i]:.3f}\")\n",
    "        hover_texts.append(\"<br>\".join(hover_text))\n",
    "    umap_df['hover_text'] = hover_texts\n",
    "    \n",
    "    # Create scatter plot\n",
    "    if use_continuous and value_key:\n",
    "        fig = px.scatter(\n",
    "            umap_df,\n",
    "            x='UMAP_1',\n",
    "            y='UMAP_2',\n",
    "            color=color,\n",
    "            color_continuous_scale=color_continuous_scale,\n",
    "            hover_name='hover_text',\n",
    "            title='UMAP Scatter Plot',\n",
    "            range_color=[vmin, vmax]\n",
    "        )\n",
    "    else:\n",
    "        fig = px.scatter(\n",
    "            umap_df,\n",
    "            x='UMAP_1',\n",
    "            y='UMAP_2',\n",
    "            color=color,\n",
    "            color_discrete_map=color_discrete_map,\n",
    "            hover_name='hover_text',\n",
    "        )\n",
    "    \n",
    "    # Update layout\n",
    "    fig.update_layout(\n",
    "        plot_bgcolor='white',\n",
    "        xaxis=dict(title='UMAP_1', showgrid=False),\n",
    "        yaxis=dict(title='UMAP_2', showgrid=False),\n",
    "        width=width,\n",
    "        height=height\n",
    "    )\n",
    "    \n",
    "    # Update marker size\n",
    "    fig.update_traces(marker=dict(size=markersize))\n",
    "    \n",
    "    return fig"
   ]
  },
  {
   "cell_type": "code",
   "execution_count": null,
   "metadata": {},
   "outputs": [],
   "source": [
    "generate_interactive_plotly_for_metadata(\n",
    "    adata,\n",
    "    top_k=5,\n",
    "    metadata_key='cell_type',\n",
    "    width=700,\n",
    "    height=500,\n",
    "    markersize=3)\n"
   ]
  },
  {
   "cell_type": "code",
   "execution_count": null,
   "metadata": {},
   "outputs": [],
   "source": [
    "generate_interactive_plotly_for_metadata(\n",
    "    adata,\n",
    "    top_k=5,\n",
    "    metadata_key='cell_type',\n",
    "    use_continuous=True,\n",
    "    value_key='cellariumgpt_COVID-19_score',\n",
    "    width=500,\n",
    "    height=500,\n",
    "    markersize=3)\n"
   ]
  },
  {
   "cell_type": "code",
   "execution_count": null,
   "metadata": {},
   "outputs": [],
   "source": [
    "sc.pl.umap(adata, color=\"cellariumgpt_cell_type_0_label\")"
   ]
  },
  {
   "cell_type": "code",
   "execution_count": null,
   "metadata": {},
   "outputs": [],
   "source": [
    "sc.pl.umap(adata, color=\"cell_type\")"
   ]
  },
  {
   "cell_type": "code",
   "execution_count": null,
   "metadata": {},
   "outputs": [],
   "source": [
    "sc.pl.umap(adata, color=\"cellariumgpt_disease_0_label\", alpha=adata.obs[\"cellariumgpt_disease_0_prob\"].values)"
   ]
  },
  {
   "cell_type": "code",
   "execution_count": null,
   "metadata": {},
   "outputs": [],
   "source": [
    "sc.pl.umap(adata, color=\"cellariumgpt_cardiomyopathy_score\", vmax=0.3)"
   ]
  },
  {
   "cell_type": "code",
   "execution_count": null,
   "metadata": {},
   "outputs": [],
   "source": [
    "sc.pl.umap(adata, color=\"cellariumgpt_disease_0_label\", alpha=adata.obs[\"cellariumgpt_disease_0_prob\"].values)"
   ]
  },
  {
   "cell_type": "code",
   "execution_count": null,
   "metadata": {},
   "outputs": [],
   "source": [
    "sc.pl.umap(adata, color=\"disease\")"
   ]
  },
  {
   "cell_type": "code",
   "execution_count": null,
   "metadata": {},
   "outputs": [],
   "source": [
    "sc.pl.umap(adata, color=\"tissue\")"
   ]
  },
  {
   "cell_type": "code",
   "execution_count": null,
   "metadata": {},
   "outputs": [],
   "source": [
    "sc.pl.umap(adata, color=\"cellariumgpt_tissue_0_label\", alpha=adata.obs[\"cellariumgpt_tissue_0_prob\"].values)"
   ]
  },
  {
   "cell_type": "code",
   "execution_count": null,
   "metadata": {},
   "outputs": [],
   "source": []
  },
  {
   "cell_type": "code",
   "execution_count": null,
   "metadata": {},
   "outputs": [],
   "source": []
  },
  {
   "cell_type": "code",
   "execution_count": null,
   "metadata": {},
   "outputs": [],
   "source": []
  }
 ],
 "metadata": {
  "kernelspec": {
   "display_name": "base",
   "language": "python",
   "name": "python3"
  },
  "language_info": {
   "codemirror_mode": {
    "name": "ipython",
    "version": 3
   },
   "file_extension": ".py",
   "mimetype": "text/x-python",
   "name": "python",
   "nbconvert_exporter": "python",
   "pygments_lexer": "ipython3",
   "version": "3.10.15"
  }
 },
 "nbformat": 4,
 "nbformat_minor": 2
}
