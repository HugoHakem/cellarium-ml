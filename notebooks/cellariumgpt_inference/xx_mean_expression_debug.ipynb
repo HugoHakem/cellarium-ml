{
 "cells": [
  {
   "cell_type": "markdown",
   "metadata": {},
   "source": [
    "### Does CellariumGPT recapitulate empirical mean for a given cell type?\n",
    "\n",
    "Can we turn this into a quantitative benchmark?"
   ]
  },
  {
   "cell_type": "code",
   "execution_count": null,
   "metadata": {},
   "outputs": [],
   "source": [
    "import os\n",
    "import torch\n",
    "import warnings\n",
    "import numpy as np\n",
    "import scanpy as sc\n",
    "import pandas as pd\n",
    "import matplotlib.pyplot as plt\n",
    "\n",
    "sc.set_figure_params(figsize=(4, 4))\n",
    "\n",
    "DEVICE = torch.device('cuda:0')\n",
    "\n",
    "from cellarium.ml.utilities.inference.cellarium_gpt_inference import \\\n",
    "    CellariumGPTInferenceContext, \\\n",
    "    GeneNetworkAnalysisBase\n",
    "\n",
    "# reset matplotlib params\n"
   ]
  },
  {
   "cell_type": "code",
   "execution_count": null,
   "metadata": {},
   "outputs": [],
   "source": [
    "ROOT_PATH = \"/home/mehrtash/data\"\n",
    "# CHECKPOINT_PATH = \"/home/mehrtash/data/compute_optimal_checkpoints/epoch=1-step=29161.ckpt\"\n",
    "# CHECKPOINT_PATH = \"/home/mehrtash/data/compute_optimal_checkpoints/epoch=1-step=28244.ckpt\"\n",
    "# CHECKPOINT_PATH = \"/home/mehrtash/data/compute_optimal_checkpoints/epoch=2-step=43129.ckpt\"\n",
    "# CHECKPOINT_PATH = \"/home/mehrtash/data/compute_optimal_checkpoints/epoch=3-step=53770.ckpt\"\n",
    "CHECKPOINT_PATH = \"/home/mehrtash/data/compute_optimal_checkpoints/epoch=6-step=63560.ckpt\"\n",
    "\n",
    "REF_ADATA_PATH = os.path.join(ROOT_PATH, \"data\", \"extract_0.h5ad\")\n",
    "GENE_INFO_PATH = os.path.join(ROOT_PATH, \"gene_info\", \"gene_info.tsv\")\n",
    "\n",
    "ctx = CellariumGPTInferenceContext(\n",
    "    cellarium_gpt_ckpt_path=CHECKPOINT_PATH,\n",
    "    ref_adata_path=REF_ADATA_PATH,\n",
    "    gene_info_tsv_path=GENE_INFO_PATH,\n",
    "    device=DEVICE,\n",
    "    attention_backend=\"mem_efficient\",\n",
    "    verbose=False\n",
    ")"
   ]
  },
  {
   "cell_type": "code",
   "execution_count": null,
   "metadata": {},
   "outputs": [],
   "source": [
    "# load validation cell type table\n",
    "val_adata = sc.read_h5ad(\n",
    "    os.path.join(ROOT_PATH, \"data\", \"cellariumgpt_artifacts\", \"cell_types_for_validation_filtered.h5ad\"))"
   ]
  },
  {
   "cell_type": "code",
   "execution_count": null,
   "metadata": {},
   "outputs": [],
   "source": [
    "# show all\n",
    "with pd.option_context('display.max_rows', None, 'display.max_columns', None):\n",
    "    display(val_adata.obs)"
   ]
  },
  {
   "cell_type": "code",
   "execution_count": null,
   "metadata": {},
   "outputs": [],
   "source": [
    "cell_index = 12\n",
    "adata = val_adata[cell_index, :].copy()\n",
    "\n",
    "metadata_prompt_masks_dict, metadata_dict = ctx.process_user_metadata(\n",
    "    # assay=\"Smart-seq v4\",\n",
    "    assay=adata.obs['assay'].values[0],\n",
    "    suspension_type=adata.obs['suspension_type'].values[0],\n",
    "    prompt_metadata_dict={\n",
    "        'cell_type': adata.obs['cell_type'].values[0],\n",
    "        'disease': adata.obs['disease'].values[0],\n",
    "        'tissue': adata.obs['tissue'].values[0],\n",
    "        'sex': adata.obs['sex'].values[0],\n",
    "        # 'development_stage': adata.obs['development_stage'].values[0],\n",
    "    },\n",
    "    total_mrna_umis=adata.obs['total_mrna_umis'].values[0])\n",
    "    # total_mrna_umis=100_000)\n",
    "\n",
    "obs_df = pd.DataFrame({key: [value] for key, value in metadata_dict.items()})\n",
    "adata.obs = obs_df"
   ]
  },
  {
   "cell_type": "code",
   "execution_count": null,
   "metadata": {},
   "outputs": [],
   "source": [
    "# renormalize counts to total_mrna_umis\n",
    "adata.X = adata.X * adata.obs['total_mrna_umis'].values[0] / adata.X.sum(axis=1)"
   ]
  },
  {
   "cell_type": "code",
   "execution_count": null,
   "metadata": {},
   "outputs": [],
   "source": [
    "adata.var.set_index('feature_id', inplace=True)    "
   ]
  },
  {
   "cell_type": "code",
   "execution_count": null,
   "metadata": {},
   "outputs": [],
   "source": [
    "adata.obs"
   ]
  },
  {
   "cell_type": "code",
   "execution_count": null,
   "metadata": {},
   "outputs": [],
   "source": [
    "# tpm_q = adata.X[0]\n",
    "# tpm_q = 1_000_000 * tpm_q / tpm_q.sum()\n",
    "# keep_q = tpm_q > 10\n",
    "\n",
    "# adata.var['keep'] = keep_q"
   ]
  },
  {
   "cell_type": "code",
   "execution_count": null,
   "metadata": {},
   "outputs": [],
   "source": [
    "# adata = adata[: , adata.var['keep']]"
   ]
  },
  {
   "cell_type": "code",
   "execution_count": null,
   "metadata": {},
   "outputs": [],
   "source": [
    "# protein_coding_genes_set = set(\n",
    "#     ctx.gene_info_df[ctx.gene_info_df[\"Gene Biotype\"] == \"protein_coding\"][\"ENSEMBL Gene ID\"].values)"
   ]
  },
  {
   "cell_type": "code",
   "execution_count": null,
   "metadata": {},
   "outputs": [],
   "source": [
    "# adata = adata[:, adata.var.index.isin(protein_coding_genes_set)]"
   ]
  },
  {
   "cell_type": "code",
   "execution_count": null,
   "metadata": {},
   "outputs": [],
   "source": [
    "adata"
   ]
  },
  {
   "cell_type": "code",
   "execution_count": null,
   "metadata": {},
   "outputs": [],
   "source": [
    "from tqdm.auto import tqdm\n",
    "from more_itertools import chunked\n",
    "\n",
    "query_var_names = adata.var_names\n",
    "query_chunk_size = 128\n",
    "\n",
    "rand_adata = adata.copy()\n",
    "\n",
    "# highly expressed genes\n",
    "n_high = 4096 - 5\n",
    "rand_adata = rand_adata[:, rand_adata.X.sum(axis=0).argsort()[::-1][:n_high]]\n",
    "# rand_adata = rand_adata[:, np.random.choice(rand_adata.var_names, 4000, replace=False)]\n",
    "# rand_adata.X = rand_adata.X.astype(int).astype(np.float32)\n",
    "\n",
    "gene_logits_chunks = []\n",
    "chunks = list(chunked(query_var_names, query_chunk_size))\n",
    "for query_var_names_chunk in tqdm(chunks):\n",
    "\n",
    "    # Tokenize\n",
    "    tokens_dict, context_indices = ctx.generate_tokens_from_adata(\n",
    "        adata=rand_adata,\n",
    "        obs_index=None,\n",
    "        query_var_names=query_var_names_chunk,\n",
    "        metadata_prompt_masks_dict={\n",
    "            \"cell_type\": True,\n",
    "            \"tissue\": True,\n",
    "            \"development_stage\": False,\n",
    "            \"disease\": True,\n",
    "            \"sex\": True,\n",
    "        }\n",
    "    )\n",
    "    \n",
    "    with torch.inference_mode():\n",
    "        gene_logits_nqk = ctx.get_gene_value_logits_from_tokens(tokens_dict, context_indices, 2000)\n",
    "        gene_logits_chunks.append(gene_logits_nqk.cpu().numpy())\n",
    "\n",
    "gene_logits = np.concatenate(gene_logits_chunks, axis=1)"
   ]
  },
  {
   "cell_type": "code",
   "execution_count": null,
   "metadata": {},
   "outputs": [],
   "source": [
    "gene_logits_nqk = torch.tensor(gene_logits, device=DEVICE)\n",
    "gene_logits_qk = gene_logits_nqk[0]"
   ]
  },
  {
   "cell_type": "code",
   "execution_count": null,
   "metadata": {},
   "outputs": [],
   "source": [
    "# max_counts = 2000\n",
    "# total_prob_mass = 0.5\n",
    "# symmetric_range_pad = 10\n",
    "\n",
    "# # first, find the mode of the counts distribution for each gene\n",
    "# gene_logits_mode_q = torch.argmax(gene_logits_qk, dim=1)\n",
    "\n",
    "# # symmetric lower and upper counts about the mode for each gene\n",
    "# x_lo_qm = torch.clamp(\n",
    "#     gene_logits_mode_q[:, None] - torch.arange(0, max_counts, device=DEVICE)[None, :], min=0)\n",
    "# x_hi_qm = torch.clamp(\n",
    "#     gene_logits_mode_q[:, None] + torch.arange(0, max_counts, device=DEVICE)[None, :], max=max_counts - 1)\n",
    "\n",
    "# # compute the CDF of counts for each gene\n",
    "# pdf_qk = gene_logits_qk.exp()\n",
    "# cdf_qk = pdf_qk.cumsum(dim=1)\n",
    "# q_indices = torch.arange(cdf_qk.size(0), device=DEVICE)\n",
    "# symm_prob_mass_qm = (\n",
    "#     cdf_qk[q_indices[:, None], x_hi_qm]  # add total prob mass at the right point (inclusive)\n",
    "#     - cdf_qk[q_indices[:, None], x_lo_qm]  # subtract total prob mass at the left point (inclusive)\n",
    "#     + pdf_qk[q_indices[:, None], x_lo_qm]  # add back the prob mass of the left point\n",
    "# )\n",
    "# mask_qm = symm_prob_mass_qm > total_prob_mass\n",
    "# range_q = torch.clamp(mask_qm.float().argmax(dim=-1) + symmetric_range_pad, max=max_counts - 1)\n",
    "# x_lo_q = x_lo_qm[q_indices, range_q]\n",
    "# x_hi_q = x_hi_qm[q_indices, range_q]"
   ]
  },
  {
   "cell_type": "code",
   "execution_count": null,
   "metadata": {},
   "outputs": [],
   "source": [
    "# fixed_gene_logits_qk = gene_logits_qk.clone()\n",
    "# kill_mask_qk = torch.zeros_like(gene_logits_qk, dtype=torch.bool)\n",
    "# counts_qk = torch.arange(max_counts, device=DEVICE)[None, :].expand(gene_logits_qk.size(0), -1)\n",
    "# kill_mask_qk[counts_qk > x_hi_q[:, None]] = True\n",
    "# kill_mask_qk[counts_qk < x_lo_q[:, None]] = True"
   ]
  },
  {
   "cell_type": "code",
   "execution_count": null,
   "metadata": {},
   "outputs": [],
   "source": [
    "# id = np.where((adata.var['feature_name'] == \"LINC00486\"))[0].item()"
   ]
  },
  {
   "cell_type": "code",
   "execution_count": null,
   "metadata": {},
   "outputs": [],
   "source": [
    "# gene_logits_qk[kill_mask_qk] = -1000000\n",
    "# gene_logits_qk = gene_logits_qk - torch.logsumexp(gene_logits_qk, dim=-1, keepdim=True)"
   ]
  },
  {
   "cell_type": "code",
   "execution_count": null,
   "metadata": {},
   "outputs": [],
   "source": [
    "gene_marginal_mean_nq, gene_marginal_std_nq = ctx.calculate_gene_mean_std_from_logits(\n",
    "    gene_logits_qk[None, :, :],\n",
    "    max_counts=2000,\n",
    "    use_logsumexp=False\n",
    ")"
   ]
  },
  {
   "cell_type": "code",
   "execution_count": null,
   "metadata": {},
   "outputs": [],
   "source": [
    "expr_q = gene_marginal_mean_nq[0].cpu().numpy()\n",
    "var = adata.var.copy()\n",
    "var['expr'] = expr_q"
   ]
  },
  {
   "cell_type": "code",
   "execution_count": null,
   "metadata": {},
   "outputs": [],
   "source": [
    "var.sort_values('expr', ascending=False, inplace=True)"
   ]
  },
  {
   "cell_type": "code",
   "execution_count": null,
   "metadata": {},
   "outputs": [],
   "source": [
    "var.head(50)"
   ]
  },
  {
   "cell_type": "code",
   "execution_count": null,
   "metadata": {},
   "outputs": [],
   "source": [
    "# renormalies\n",
    "model_mean_q = gene_marginal_mean_nq.cpu().numpy().flatten()\n",
    "model_mean_q = model_mean_q * adata.obs['total_mrna_umis'].values[0] / model_mean_q.sum()\n",
    "\n",
    "plt.scatter(np.log1p(adata.X[0]), np.log1p(model_mean_q), s=1)\n",
    "plt.plot([0, 6], [0, 6], color='red')"
   ]
  },
  {
   "cell_type": "code",
   "execution_count": null,
   "metadata": {},
   "outputs": [],
   "source": [
    "gene_index = np.where((adata.var['feature_name'] == \"PTPRC\"))[0].item()\n",
    "# gene_index = 4045\n",
    "gene_logit = gene_logits_qk[gene_index, :].cpu().numpy()\n",
    "\n",
    "plt.plot(np.exp(gene_logit))\n",
    "plt.xlim((0, 20))\n",
    "plt.gca().set_xlabel('counts')\n",
    "plt.gca().set_ylabel('logits')\n",
    "# plt.ylim((-10, 0))"
   ]
  },
  {
   "cell_type": "code",
   "execution_count": null,
   "metadata": {},
   "outputs": [],
   "source": [
    "np.sum(expr_q)"
   ]
  },
  {
   "cell_type": "code",
   "execution_count": null,
   "metadata": {},
   "outputs": [],
   "source": [
    "adata.obs"
   ]
  },
  {
   "cell_type": "code",
   "execution_count": null,
   "metadata": {},
   "outputs": [],
   "source": [
    "np.sum(np.exp(gene_logit)[:500])"
   ]
  },
  {
   "cell_type": "code",
   "execution_count": null,
   "metadata": {},
   "outputs": [],
   "source": [
    "cutoffs = np.arange(10, 1000, 50)\n",
    "means = []\n",
    "for cutoff in cutoffs:\n",
    "    probs = np.exp(gene_logit)[:cutoff]\n",
    "    probs = probs / probs.sum()\n",
    "    mean = np.sum(probs * np.arange(0, cutoff))\n",
    "    means.append(mean)"
   ]
  },
  {
   "cell_type": "code",
   "execution_count": null,
   "metadata": {},
   "outputs": [],
   "source": [
    "plt.plot(cutoffs, means)"
   ]
  },
  {
   "cell_type": "code",
   "execution_count": null,
   "metadata": {},
   "outputs": [],
   "source": []
  },
  {
   "cell_type": "code",
   "execution_count": null,
   "metadata": {},
   "outputs": [],
   "source": []
  },
  {
   "cell_type": "code",
   "execution_count": null,
   "metadata": {},
   "outputs": [],
   "source": []
  },
  {
   "cell_type": "code",
   "execution_count": null,
   "metadata": {},
   "outputs": [],
   "source": []
  }
 ],
 "metadata": {
  "kernelspec": {
   "display_name": "base",
   "language": "python",
   "name": "python3"
  },
  "language_info": {
   "codemirror_mode": {
    "name": "ipython",
    "version": 3
   },
   "file_extension": ".py",
   "mimetype": "text/x-python",
   "name": "python",
   "nbconvert_exporter": "python",
   "pygments_lexer": "ipython3",
   "version": "3.10.16"
  }
 },
 "nbformat": 4,
 "nbformat_minor": 2
}
