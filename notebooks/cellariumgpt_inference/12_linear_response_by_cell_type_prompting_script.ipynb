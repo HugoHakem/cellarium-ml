{
 "cells": [
  {
   "cell_type": "code",
   "execution_count": null,
   "metadata": {},
   "outputs": [],
   "source": [
    "import os\n",
    "import torch\n",
    "import pickle\n",
    "import warnings\n",
    "import numpy as np\n",
    "import scanpy as sc\n",
    "import pandas as pd\n",
    "import matplotlib.pyplot as plt\n",
    "\n",
    "from cellarium.ml.utilities.inference.cellarium_gpt_inference import CellariumGPTInferenceContext\n",
    "from cellarium.ml.utilities.linreg import batch_linear_regression"
   ]
  },
  {
   "cell_type": "code",
   "execution_count": null,
   "metadata": {},
   "outputs": [],
   "source": [
    "# global parameters\n",
    "cuda_device_index = 0\n",
    "checkpoint_path = \"/home/mehrtash/data/100M_long_run/run_001/lightning_logs/version_3/checkpoints/epoch=5-step=504000.ckpt\"\n",
    "ref_adata_path = \"/home/mehrtash/data/data/extract_0.h5ad\"\n",
    "gene_info_tsv_path = \"/home/mehrtash/data/gene_info/gene_info.tsv\"\n",
    "validation_adata_path = \"/home/mehrtash/data/data/cellariumgpt_artifacts/cell_types_for_validation_filtered.h5ad\"\n",
    "output_path = \"/home/mehrtash/data/data/linear_response/100M_long_run_last_checkpoint\"\n",
    "cell_index = 0\n",
    "\n",
    "# gene expression range determination parameters\n",
    "query_chunk_size = 1_000  # int\n",
    "total_prob_mass = 0.5  # float\n",
    "max_counts = 1000 # int\n",
    "symmetric_range_pad = 1 # int\n",
    "max_query_genes = None # int or None\n",
    "total_mrna_umis = None # int or None\n",
    "\n",
    "# linear response analysis parameters\n",
    "n_points = 5 # int\n",
    "query_chunk_size_linear_response = 64 # int"
   ]
  },
  {
   "cell_type": "code",
   "execution_count": null,
   "metadata": {},
   "outputs": [],
   "source": [
    "os.makedirs(output_path, exist_ok=True)"
   ]
  },
  {
   "cell_type": "code",
   "execution_count": null,
   "metadata": {},
   "outputs": [],
   "source": [
    "# load validation anndata\n",
    "val_adata = sc.read_h5ad(validation_adata_path)\n",
    "print(f\"Total number of cells in validation anndata: {val_adata.shape[0]}\")\n",
    "\n",
    "assert cell_index < val_adata.shape[0], \"cell_index is out of range\"\n",
    "print(f\"Selected cell index: {cell_index}\")\n",
    "val_adata_row = val_adata.obs.iloc[cell_index]\n",
    "print(val_adata_row)"
   ]
  },
  {
   "cell_type": "code",
   "execution_count": null,
   "metadata": {},
   "outputs": [],
   "source": [
    "print(\"Loading CellariumGPT checkpoint ...\")\n",
    "device = torch.device(f'cuda:{cuda_device_index}')\n",
    "\n",
    "ctx = CellariumGPTInferenceContext(\n",
    "    cellarium_gpt_ckpt_path=checkpoint_path,\n",
    "    ref_adata_path=ref_adata_path,\n",
    "    gene_info_tsv_path=gene_info_tsv_path,\n",
    "    device=device,\n",
    "    attention_backend=\"mem_efficient\",\n",
    "    verbose=False\n",
    ")"
   ]
  },
  {
   "cell_type": "code",
   "execution_count": null,
   "metadata": {},
   "outputs": [],
   "source": [
    "all_query_gene_ids = val_adata.var['feature_id'].values\n",
    "print(f\"Total number of query genes from validation AnnData: {len(all_query_gene_ids)}\")\n",
    "\n",
    "if max_query_genes is not None:\n",
    "    query_gene_ids = all_query_gene_ids[:max_query_genes]\n",
    "    print(f\"Limiting to {max_query_genes} first query genes for linear response analysis.\")\n",
    "else:\n",
    "    query_gene_ids = all_query_gene_ids\n",
    "    print(f\"Using all {len(all_query_gene_ids)} query genes for linear response analysis.\")"
   ]
  },
  {
   "cell_type": "code",
   "execution_count": null,
   "metadata": {},
   "outputs": [],
   "source": [
    "assay = val_adata_row.assay\n",
    "suspension_type = val_adata_row.suspension_type\n",
    "prompt_metadata_dict = {\n",
    "    \"cell_type\": val_adata_row.cell_type,\n",
    "    \"tissue\": val_adata_row.tissue,\n",
    "    \"disease\": val_adata_row.disease,\n",
    "    \"sex\": val_adata_row.sex,\n",
    "}\n",
    "\n",
    "if total_mrna_umis is None:\n",
    "    total_mrna_umis = float(val_adata_row.total_mrna_umis)\n",
    "    print(f\"Using total_mrna_umis from validation AnnData: {total_mrna_umis:.3f}\")\n",
    "else:\n",
    "    print(f\"Overriding total_mrna_umis from validation AnnData: {val_adata_row.total_mrna_umis:3f} with {total_mrna_umis:.3f}\")"
   ]
  },
  {
   "cell_type": "code",
   "execution_count": null,
   "metadata": {},
   "outputs": [],
   "source": [
    "print(\"Determining gene expression range ...\")\n",
    "gex_range_dict = ctx.predict_gene_expression_range_for_metadata(\n",
    "    assay=assay,\n",
    "    suspension_type=suspension_type,\n",
    "    prompt_metadata_dict=prompt_metadata_dict,\n",
    "    total_mrna_umis=total_mrna_umis,\n",
    "    query_gene_ids=query_gene_ids,\n",
    "    query_chunk_size=query_chunk_size,\n",
    "    total_prob_mass=total_prob_mass,\n",
    "    symmetric_range_pad=symmetric_range_pad,\n",
    "    max_counts=max_counts,\n",
    ")"
   ]
  },
  {
   "cell_type": "code",
   "execution_count": null,
   "metadata": {},
   "outputs": [],
   "source": [
    "dose_response_dict = ctx.generate_gene_dose_response_for_metadata(\n",
    "    assay=assay,\n",
    "    suspension_type=suspension_type,\n",
    "    prompt_metadata_dict=prompt_metadata_dict,\n",
    "    total_mrna_umis=total_mrna_umis,\n",
    "    query_gene_ids=query_gene_ids,\n",
    "    perturb_gene_ids=query_gene_ids,\n",
    "    x_lo_p=gex_range_dict['x_lo_q'].cpu().numpy(),\n",
    "    x_hi_p=gex_range_dict['x_hi_q'].cpu().numpy(),\n",
    "    n_points=n_points,\n",
    "    query_chunk_size=query_chunk_size_linear_response,\n",
    "    max_counts=max_counts,\n",
    ")"
   ]
  },
  {
   "cell_type": "code",
   "execution_count": null,
   "metadata": {},
   "outputs": [],
   "source": [
    "print(\"Performing linear regression ...\")\n",
    "n_query_vars = len(query_gene_ids)\n",
    "n_perturb_vars = len(query_gene_ids)\n",
    "\n",
    "doses_pi = dose_response_dict['doses_pi']\n",
    "responses_mean_pqi = dose_response_dict['responses_mean_pqi']\n",
    "\n",
    "slope_qp, intercept_qp, r_squared_qp = batch_linear_regression(\n",
    "    x_bn=np.repeat(doses_pi[None, :, :], n_query_vars, axis=-3),\n",
    "    y_bn=responses_mean_pqi.transpose(1, 0, 2)\n",
    ")"
   ]
  },
  {
   "cell_type": "code",
   "execution_count": null,
   "metadata": {},
   "outputs": [],
   "source": [
    "print(\"Generating output ...\")\n",
    "\n",
    "output_dict = {\n",
    "\n",
    "    # global parameters\n",
    "    \"checkpoint_path\": checkpoint_path,\n",
    "    \"validation_adata_path\": validation_adata_path,\n",
    "    \"cell_index\": cell_index,\n",
    "\n",
    "    # gene expression range determination parameters\n",
    "    \"total_prob_mass\": total_prob_mass,\n",
    "    \"max_counts\": max_counts,\n",
    "    \"symmetric_range_pad\": symmetric_range_pad,\n",
    "    \"max_query_genes\": max_query_genes,\n",
    "\n",
    "    # linear response analysis parameters\n",
    "    \"n_points\": n_points,\n",
    "\n",
    "    # prompt metadata\n",
    "    \"assay\": assay,\n",
    "    \"suspension_type\": suspension_type,\n",
    "    \"total_mrna_umis\": total_mrna_umis,\n",
    "    \"prompt_metadata_dict\": prompt_metadata_dict,\n",
    "    \"cell_index\": cell_index,\n",
    "\n",
    "    # expression range\n",
    "    \"x_lo_q\": gex_range_dict['x_lo_q'].cpu().numpy(),\n",
    "    \"x_hi_q\": gex_range_dict['x_hi_q'].cpu().numpy(),\n",
    "    \"range_q\": gex_range_dict['range_q'].cpu().numpy(),\n",
    "    \"gene_logits_qk\": gex_range_dict['gene_logits_qk'].cpu().numpy(),\n",
    "    \"gene_logits_mode_q\": gex_range_dict['gene_logits_mode_q'].cpu().numpy(),\n",
    "    \"gene_marginal_mean_q\": gex_range_dict['gene_marginal_mean_q'].cpu().numpy(),\n",
    "    \"gene_marginal_std_q\": gex_range_dict['gene_marginal_std_q'].cpu().numpy(),\n",
    "\n",
    "    # dose response\n",
    "    \"query_gene_ids\": query_gene_ids,\n",
    "    \"perturb_gene_ids\": query_gene_ids,\n",
    "    \"doses_pi\": dose_response_dict['doses_pi'],\n",
    "    \"responses_mean_pqi\": dose_response_dict['responses_mean_pqi'],\n",
    "\n",
    "    # linear regression\n",
    "    \"slope_qp\": slope_qp,\n",
    "    \"intercept_qp\": intercept_qp,\n",
    "    \"r_squared_qp\": r_squared_qp,\n",
    "}\n",
    "\n",
    "print(\"Saving output ...\")\n",
    "output_file_name = os.path.join(output_path, f\"linear_response_cell_index_{cell_index}.pkl\")\n",
    "\n",
    "with open(output_file_name, 'wb') as f:\n",
    "    pickle.dump(output_dict, f)\n",
    "\n",
    "print(\"Script finished successfully.\")"
   ]
  }
 ],
 "metadata": {
  "kernelspec": {
   "display_name": "base",
   "language": "python",
   "name": "python3"
  },
  "language_info": {
   "codemirror_mode": {
    "name": "ipython",
    "version": 3
   },
   "file_extension": ".py",
   "mimetype": "text/x-python",
   "name": "python",
   "nbconvert_exporter": "python",
   "pygments_lexer": "ipython3",
   "version": "3.10.16"
  }
 },
 "nbformat": 4,
 "nbformat_minor": 2
}
