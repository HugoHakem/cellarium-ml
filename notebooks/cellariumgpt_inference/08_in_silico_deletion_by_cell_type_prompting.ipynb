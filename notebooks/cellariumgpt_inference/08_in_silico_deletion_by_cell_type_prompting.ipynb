{
 "cells": [
  {
   "cell_type": "markdown",
   "metadata": {},
   "source": [
    "### _in silico_ perturbation by cell type prompting"
   ]
  },
  {
   "cell_type": "code",
   "execution_count": null,
   "metadata": {},
   "outputs": [],
   "source": [
    "import os\n",
    "import torch\n",
    "import warnings\n",
    "import numpy as np\n",
    "import scanpy as sc\n",
    "import pandas as pd\n",
    "import matplotlib.pyplot as plt\n",
    "\n",
    "# for flex attention\n",
    "import torch._dynamo\n",
    "torch._dynamo.config.suppress_errors = True\n",
    "\n",
    "DEVICE = torch.device('cuda:1')\n",
    "sc.set_figure_params(figsize=(4, 4))\n",
    "\n",
    "from cellarium.ml.utilities.inference.cellarium_gpt_inference import \\\n",
    "    CellariumGPTInferenceContext, \\\n",
    "    GeneNetworkAnalysisBase"
   ]
  },
  {
   "cell_type": "code",
   "execution_count": null,
   "metadata": {},
   "outputs": [],
   "source": [
    "ROOT_PATH = \"/mnt/cellariumgpt-xfer/mb-ml-dev-vm\"\n",
    "CHECKPOINT_PATH = \"/mnt/cellariumgpt-xfer/100M_long_run/run_001/lightning_logs/version_3/checkpoints/epoch=5-step=504000.ckpt\"\n",
    "REF_ADATA_PATH = os.path.join(ROOT_PATH, \"data\", \"extract_0.h5ad\")\n",
    "GENE_INFO_PATH = os.path.join(ROOT_PATH, \"gene_info\", \"gene_info.tsv\")\n",
    "\n",
    "ctx = CellariumGPTInferenceContext(\n",
    "    cellarium_gpt_ckpt_path=CHECKPOINT_PATH,\n",
    "    ref_adata_path=REF_ADATA_PATH,\n",
    "    gene_info_tsv_path=GENE_INFO_PATH,\n",
    "    device=DEVICE,\n",
    "    attention_backend=\"mem_efficient\"\n",
    ")"
   ]
  },
  {
   "cell_type": "markdown",
   "metadata": {},
   "source": [
    "### Internal consistency check\n",
    "\n",
    "Has the model learned to generate cell-type-specific gene expression patterns?\n",
    "\n",
    "Experiment: Prompt with a given cell type, query the gene expression, give the gene expression back as prompt, ask the model to predict cell type."
   ]
  },
  {
   "cell_type": "code",
   "execution_count": null,
   "metadata": {},
   "outputs": [],
   "source": [
    "query_gene_ids_path = os.path.join(ROOT_PATH, \"data\", \"cellariumgpt_validation\", \"query_gene_ids.csv\")\n",
    "query_gene_ids = pd.read_csv(query_gene_ids_path, header=None).values.flatten().tolist()[:5000]  # NOTE\n",
    "\n",
    "assay = \"10x 3' v3\"\n",
    "suspension_type = \"cell\"\n",
    "prompt_metadata_dict = {\n",
    "    \"cell_type\": \"neuron\",\n",
    "    \"tissue\": \"blood\"\n",
    "}\n",
    "total_mrna_umis = 5_000\n",
    "\n",
    "with torch.inference_mode():\n",
    "\n",
    "    tokens_dict, context_indices, _, _ = ctx.generate_gene_tokens_by_metadata(\n",
    "        assay=assay,\n",
    "        suspension_type=suspension_type,\n",
    "        prompt_metadata_dict=prompt_metadata_dict,\n",
    "        total_mrna_umis=total_mrna_umis,\n",
    "        query_gene_ids=query_gene_ids,\n",
    "        perturb_gene_ids=None\n",
    "    )\n",
    "\n",
    "    gene_marginal_means_nq, gene_marginal_std_nq = ctx.get_marginal_mean_std_from_tokens(tokens_dict, context_indices)\n",
    "\n",
    "    # make a prop AnnData, inject back the counts we got from CellariumGPT, predict cell type\n",
    "    prop_adata_feedback = ctx._adata.copy()\n",
    "    prop_adata_feedback = prop_adata_feedback[0, query_gene_ids].copy()\n",
    "\n",
    "    prop_adata_feedback.X[0, :] = gene_marginal_means_nq[0, :].cpu().numpy()\n",
    "    prop_adata_feedback.obs[\"total_mrna_umis\"] = [total_mrna_umis]\n",
    "\n",
    "    metadata_prediction_dict = ctx.predict_metadata(prop_adata_feedback)\n",
    "\n",
    "    metadata_key = 'cell_type'\n",
    "    probs_k = metadata_prediction_dict[metadata_key][0]\n",
    "    sort_order = np.argsort(probs_k)[::-1]\n",
    "\n",
    "    for k in range(10):\n",
    "        prob = probs_k[sort_order[k]]\n",
    "        name = ctx.metadata_ontology_infos[metadata_key][\"labels\"][sort_order[k]]\n",
    "        print(f\"{name}: {prob:.2f}\")"
   ]
  },
  {
   "cell_type": "markdown",
   "metadata": {},
   "source": [
    "- We have two different generalization issues:\n",
    "  - Large prompts (not an issue for this task)\n",
    "  - Sensitivity to total mRNA UMIs (we need to find the mean/median for the UMIs for the cell type we're prompting)"
   ]
  },
  {
   "cell_type": "markdown",
   "metadata": {},
   "source": [
    "### Perform _in silico_ deletion"
   ]
  },
  {
   "cell_type": "code",
   "execution_count": null,
   "metadata": {},
   "outputs": [],
   "source": [
    "from tqdm.notebook import tqdm\n",
    "\n",
    "\n",
    "query_gene_ids_path = os.path.join(ROOT_PATH, \"data\", \"cellariumgpt_validation\", \"query_gene_ids.csv\")\n",
    "query_gene_ids = pd.read_csv(query_gene_ids_path, header=None).values.flatten().tolist()\n",
    "perturb_gene_ids = query_gene_ids[:10_000]\n",
    "\n",
    "assay = \"10x 3' v3\"\n",
    "suspension_type = \"cell\"\n",
    "prompt_metadata_dict = {\n",
    "    \"cell_type\": \"CD8-positive, alpha-beta T cell\",\n",
    "    \"tissue\": \"blood\"\n",
    "}\n",
    "total_mrna_umis = 5_000\n",
    "\n",
    "\n",
    "chunk_size = 20\n",
    "\n",
    "def yield_chunks(lst, n):\n",
    "    for i in range(0, len(lst), n):\n",
    "        yield lst[i:i + n]\n",
    "\n",
    "query_gene_ids_chunks = list(yield_chunks(query_gene_ids, chunk_size))\n",
    "\n",
    "gene_marginal_means_nq_chunks = []\n",
    "gene_marginal_std_nq_chunks = []\n",
    "\n",
    "with torch.inference_mode():\n",
    "\n",
    "    for query_gene_ids_chunk in tqdm(query_gene_ids_chunks):\n",
    "\n",
    "        tokens_dict, context_indices, _, _ = ctx.generate_gene_tokens_by_metadata(\n",
    "            assay=assay,\n",
    "            suspension_type=suspension_type,\n",
    "            prompt_metadata_dict=prompt_metadata_dict,\n",
    "            total_mrna_umis=total_mrna_umis,\n",
    "            query_gene_ids=query_gene_ids_chunk,\n",
    "            perturb_gene_ids=perturb_gene_ids\n",
    "        )\n",
    "\n",
    "        gene_marginal_means_nq, gene_marginal_std_nq = \\\n",
    "            ctx.get_marginal_mean_std_from_tokens(tokens_dict, context_indices)\n",
    "\n",
    "        gene_marginal_means_nq_chunks.append(gene_marginal_means_nq.cpu().numpy())\n",
    "        gene_marginal_std_nq_chunks.append(gene_marginal_std_nq.cpu().numpy())"
   ]
  },
  {
   "cell_type": "code",
   "execution_count": null,
   "metadata": {},
   "outputs": [],
   "source": [
    "# write a python function that replaces whitespace and '-' with underscores and removes commas\n",
    "def clean_string(s):\n",
    "    return s.replace(\" \", \"_\").replace(\"-\", \"_\").replace(\",\", \"\").replace(\"'\", \"p\")\n",
    "\n",
    "filename = (\n",
    "    f\"in_silico_del_response_matrix__{clean_string(prompt_metadata_dict['cell_type'])}__\"\n",
    "    f\"{clean_string(prompt_metadata_dict['tissue'])}__\"\n",
    "    f\"{clean_string(assay)}__\"\n",
    "    f\"{clean_string(suspension_type)}__\"\n",
    "    f\"{total_mrna_umis}\"\n",
    ")\n",
    "\n",
    "gene_marginal_means_nq = np.concatenate(gene_marginal_means_nq_chunks, axis=1)\n",
    "gene_marginal_std_nq = np.concatenate(gene_marginal_std_nq_chunks, axis=1)\n",
    "\n",
    "output = {\n",
    "    \"perturb_gene_ids\": perturb_gene_ids,\n",
    "    \"query_gene_ids\": query_gene_ids,\n",
    "    \"gene_marginal_means_nq\": gene_marginal_means_nq,\n",
    "    \"gene_marginal_std_nq\": gene_marginal_std_nq,\n",
    "    \"assay\": assay,\n",
    "    \"suspension_type\": suspension_type,\n",
    "    \"prompt_metadata_dict\": prompt_metadata_dict,\n",
    "    \"total_mrna_umis\": total_mrna_umis\n",
    "}\n",
    "\n",
    "import pickle\n",
    "\n",
    "with open(f\"./output/in_silico_del_via_meta_prompting/{filename}.pkl\", \"wb\") as f:\n",
    "    pickle.dump(output, f)"
   ]
  },
  {
   "cell_type": "markdown",
   "metadata": {},
   "source": [
    "### Explore _in silico_ deletion"
   ]
  },
  {
   "cell_type": "code",
   "execution_count": null,
   "metadata": {},
   "outputs": [],
   "source": [
    "import pickle\n",
    "\n",
    "output_pkl_path = os.path.join(\n",
    "    ROOT_PATH, \"cellariumgpt_playground\", \"output\", \"in_silico_del_via_meta_prompting\",\n",
    "    \"in_silico_del_response_matrix__CD8_positive_alpha_beta_T_cell__blood__10x_3p_v3__cell__5000.pkl\"\n",
    ")\n",
    "output_dict = pickle.load(open(output_pkl_path, \"rb\"))\n",
    "# I forgot to include those in the pickle initially ...\n",
    "output_dict[\"assay\"] = \"10x 3' v3\"\n",
    "output_dict[\"suspension_type\"] = \"cell\"\n",
    "output_dict[\"prompt_metadata_dict\"] = {\n",
    "    \"cell_type\": \"CD8-positive, alpha-beta T cell\",\n",
    "    \"tissue\": \"blood\"\n",
    "}\n",
    "output_dict[\"total_mrna_umis\"] = 5_000\n",
    "\n",
    "\n",
    "# output_pkl_path = os.path.join(\n",
    "#     ROOT_PATH, \"cellariumgpt_playground\", \"output\", \"in_silico_del_via_meta_prompting\",\n",
    "#     \"in_silico_del_response_matrix__cardiac_muscle_cell__heart__10x_3p_v3__nucleus__10000.pkl\"\n",
    "# )\n",
    "# output_dict = pickle.load(open(output_pkl_path, \"rb\"))\n",
    "\n",
    "# # I forgot to include those in the pickle initially ...\n",
    "# output_dict[\"assay\"] = \"10x 3' v3\"\n",
    "# output_dict[\"suspension_type\"] = \"nucleus\"\n",
    "# output_dict[\"prompt_metadata_dict\"] = {\n",
    "#     \"cell_type\": \"cardiac muscle cell\",\n",
    "#     \"tissue\": \"heart\"\n",
    "# }\n",
    "# output_dict[\"total_mrna_umis\"] = 10_000"
   ]
  },
  {
   "cell_type": "code",
   "execution_count": null,
   "metadata": {},
   "outputs": [],
   "source": [
    "# Generate an AnnData containing just the metadata\n",
    "adata_prop = sc.AnnData(\n",
    "    X=np.zeros((1, 1)),\n",
    "    obs=pd.DataFrame({\n",
    "        \"cell_type\": [output_dict[\"prompt_metadata_dict\"][\"cell_type\"]],\n",
    "        \"tissue\": [output_dict[\"prompt_metadata_dict\"][\"tissue\"]],\n",
    "        \"assay\": [output_dict[\"assay\"]],\n",
    "        \"suspension_type\": [output_dict[\"suspension_type\"]],\n",
    "        \"total_mrna_umis\": [output_dict[\"total_mrna_umis\"]],\n",
    "        \"disease\": \"N/A\",\n",
    "        \"development_stage\": \"N/A\",\n",
    "        \"sex\": \"N/A\",\n",
    "    })\n",
    ")\n",
    "\n",
    "gene_info_tsv_path = os.path.join(ROOT_PATH, \"gene_info\", \"gene_info.tsv\")\n",
    "\n",
    "raw_response_qp = output_dict[\"gene_marginal_means_nq\"][1:, :].T\n",
    "prompt_marginal_mean_p = output_dict[\"gene_marginal_means_nq\"][0, :len(output_dict[\"perturb_gene_ids\"])]\n",
    "prompt_marginal_std_p = output_dict[\"gene_marginal_std_nq\"][0, :len(output_dict[\"perturb_gene_ids\"])]\n",
    "query_marginal_mean_q = output_dict[\"gene_marginal_means_nq\"][0, :]\n",
    "query_marginal_std_q = output_dict[\"gene_marginal_std_nq\"][0, :]\n",
    "\n",
    "# log fold change response\n",
    "control_cell_library_size = query_marginal_mean_q.sum()\n",
    "raw_response_qp = (raw_response_qp / raw_response_qp.sum(0)[None, :]) * control_cell_library_size\n",
    "normalized_response_qp = np.log(raw_response_qp) - np.log(query_marginal_mean_q)[:, None]\n",
    "\n",
    "network_ctx = GeneNetworkAnalysisBase(\n",
    "    adata_obs=adata_prop.obs,\n",
    "    gene_info_tsv_path=gene_info_tsv_path,\n",
    "    query_var_names=output_dict[\"query_gene_ids\"],\n",
    "    prompt_var_names=output_dict[\"perturb_gene_ids\"],\n",
    "    response_qp=normalized_response_qp,\n",
    "    prompt_marginal_mean_p=prompt_marginal_mean_p,\n",
    "    prompt_marginal_std_p=prompt_marginal_std_p,\n",
    "    query_marginal_mean_q=query_marginal_mean_q,\n",
    "    query_marginal_std_q=query_marginal_std_q,\n",
    "    verbose=True\n",
    ")"
   ]
  },
  {
   "cell_type": "code",
   "execution_count": null,
   "metadata": {},
   "outputs": [],
   "source": [
    "# TODO: do we need prompt_z_score or query_z_score?\n",
    "network_ctx.process(\n",
    "    response_normalization_strategy=\"none\",\n",
    "    feature_normalization_strategy=\"l2\",\n",
    "    query_response_amp_min_pct=0,\n",
    "    min_prompt_gene_tpm=0,\n",
    "    min_query_gene_tpm=0)"
   ]
  },
  {
   "cell_type": "code",
   "execution_count": null,
   "metadata": {},
   "outputs": [],
   "source": [
    "network_ctx.compute_adjacency_matrix(\n",
    "    adjacency_strategy=\"shifted_correlation\",\n",
    "    n_neighbors=10,\n",
    "    beta=6.,\n",
    "    self_loop=False)"
   ]
  },
  {
   "cell_type": "code",
   "execution_count": null,
   "metadata": {},
   "outputs": [],
   "source": [
    "network_ctx.compute_leiden_communites(\n",
    "    resolution=5.0)"
   ]
  },
  {
   "cell_type": "code",
   "execution_count": null,
   "metadata": {},
   "outputs": [],
   "source": [
    "len(np.unique(network_ctx.leiden_membership))"
   ]
  },
  {
   "cell_type": "code",
   "execution_count": null,
   "metadata": {},
   "outputs": [],
   "source": [
    "network_ctx.compute_spectral_dimension(n_lambda_for_estimation=10)"
   ]
  },
  {
   "cell_type": "code",
   "execution_count": null,
   "metadata": {},
   "outputs": [],
   "source": [
    "fig, ax = plt.subplots()\n",
    "\n",
    "network_ctx.plot_spectral_dimension(ax=ax)"
   ]
  },
  {
   "cell_type": "markdown",
   "metadata": {},
   "source": [
    "#### Embedding"
   ]
  },
  {
   "cell_type": "code",
   "execution_count": null,
   "metadata": {},
   "outputs": [],
   "source": [
    "import pymde\n",
    "\n",
    "network_ctx.make_mde_embedding(\n",
    "    n_neighbors=10,\n",
    "    # repulsive_penalty=pymde.penalties.Log,\n",
    "    init=\"quadratic\",\n",
    "    device=\"cuda\")"
   ]
  },
  {
   "cell_type": "code",
   "execution_count": null,
   "metadata": {},
   "outputs": [],
   "source": [
    "snap_n_gene_symbols = [\n",
    "    'GAP43',\n",
    "    'NRXN3',\n",
    "    'HOMER1',\n",
    "    'IL1RAPL2',\n",
    "    'EPHA3',\n",
    "    'RIMS1',\n",
    "    'SV2B',\n",
    "    'TRIM9',\n",
    "    'SVOP',\n",
    "    'RPH3A',\n",
    "    'SYT12',\n",
    "    'SYT1',\n",
    "    'R3HDM2',\n",
    "    'PDE4B',\n",
    "    'DCC',\n",
    "    'SLC4A10',\n",
    "    'DNM3',\n",
    "    'GRM1',\n",
    "    'EGR4',\n",
    "    'JUNB',\n",
    "    'TFDP2'\n",
    "]\n",
    "\n",
    "snap_n_gene_symbols = [x for x in snap_n_gene_symbols if x in network_ctx.query_gene_symbols]\n",
    "snap_n_gene_ids = [network_ctx.gene_symbol_to_gene_id_map[x] for x in snap_n_gene_symbols]\n",
    "\n",
    "muscle_gene_symbols = [\n",
    "    'TTN',\n",
    "    'MYL3',\n",
    "    'MYL4',\n",
    "    'MYL7',\n",
    "    'TNNC1',\n",
    "    'TNNI1',\n",
    "]\n",
    "\n",
    "muscle_gene_symbols = [x for x in muscle_gene_symbols if x in network_ctx.query_gene_symbols]\n",
    "muscle_gene_ids = [network_ctx.gene_symbol_to_gene_id_map[x] for x in muscle_gene_symbols]\n",
    "\n",
    "def get_gene_familities(network_ctx: GeneNetworkAnalysisBase, prefix_list: list[str]) -> tuple[list[str], list[str]]:\n",
    "    _gene_symbols = [gene_symbol for prefix in prefix_list for gene_symbol in network_ctx.query_gene_symbols if gene_symbol.startswith(prefix)]\n",
    "    gene_ids = [network_ctx.gene_symbol_to_gene_id_map[gene_symbol] for gene_symbol in _gene_symbols]\n",
    "    gene_symbols = [network_ctx.gene_id_to_gene_symbol_map[gene_id] for gene_id in gene_ids]\n",
    "    return gene_ids, gene_symbols\n",
    "\n",
    "mito_gene_ids, mito_gene_symbols = get_gene_familities(network_ctx, [\"MT-\"])\n",
    "ribo_gene_ids, ribo_gene_symbols = get_gene_familities(network_ctx, [\"RPS\", \"RPL\"])\n",
    "hla_gene_ids, hla_gene_symbols = get_gene_familities(network_ctx, [\"HLA\"])\n",
    "ifi_gene_ids, ifi_gene_symbols = get_gene_familities(network_ctx, [\"IFI\"])\n",
    "\n",
    "highlight_gene_sets = {\n",
    "    \"Mito\": (mito_gene_ids, mito_gene_symbols, 'red'),\n",
    "    \"Ribo\": (ribo_gene_ids, ribo_gene_symbols, 'blue'),\n",
    "    # \"SNAP-n\": (snap_n_gene_ids, snap_n_gene_symbols, 'green'),\n",
    "    # \"HLA\": (hla_gene_ids, hla_gene_symbols, 'green'),\n",
    "    # \"IFI\": (ifi_gene_ids, ifi_gene_symbols, 'orange'),\n",
    "    \"Muscle\": (muscle_gene_ids, muscle_gene_symbols, 'purple'),\n",
    "}\n",
    "\n",
    "# disable\n",
    "# highlight_gene_sets = None"
   ]
  },
  {
   "cell_type": "code",
   "execution_count": null,
   "metadata": {},
   "outputs": [],
   "source": [
    "mito_gene_symbols"
   ]
  },
  {
   "cell_type": "code",
   "execution_count": null,
   "metadata": {},
   "outputs": [],
   "source": [
    "network_ctx.query_marginal_mean_q[[network_ctx.query_gene_id_to_idx_map[gene_id] for gene_id in mito_gene_ids]]"
   ]
  },
  {
   "cell_type": "code",
   "execution_count": null,
   "metadata": {},
   "outputs": [],
   "source": [
    "network_ctx.plot_mde_embedding(highlight_gene_sets=highlight_gene_sets)"
   ]
  },
  {
   "cell_type": "code",
   "execution_count": null,
   "metadata": {},
   "outputs": [],
   "source": []
  }
 ],
 "metadata": {
  "kernelspec": {
   "display_name": "base",
   "language": "python",
   "name": "python3"
  },
  "language_info": {
   "codemirror_mode": {
    "name": "ipython",
    "version": 3
   },
   "file_extension": ".py",
   "mimetype": "text/x-python",
   "name": "python",
   "nbconvert_exporter": "python",
   "pygments_lexer": "ipython3",
   "version": "3.10.15"
  }
 },
 "nbformat": 4,
 "nbformat_minor": 2
}
