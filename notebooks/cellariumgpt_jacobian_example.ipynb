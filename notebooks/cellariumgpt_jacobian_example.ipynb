{
 "cells": [
  {
   "cell_type": "markdown",
   "metadata": {},
   "source": [
    "# Jacobian of the Cellarium GPT data manifold"
   ]
  },
  {
   "cell_type": "markdown",
   "metadata": {},
   "source": [
    "Stephen Fleming\n",
    "\n",
    "2024.06.25"
   ]
  },
  {
   "cell_type": "markdown",
   "metadata": {},
   "source": [
    "The idea here is to fiddle with the inputs and explore how the output embeddings move as a result.  The transformer stack is designed to take an input and create an output somewhere on the data manifold.\n",
    "\n",
    "Another way to address the same question addressed by noise prompting: what does the model know about the data manifold?"
   ]
  },
  {
   "cell_type": "code",
   "execution_count": null,
   "metadata": {},
   "outputs": [],
   "source": [
    "from cellarium.ml.downstream.cellarium_utils import get_pretrained_model_as_pipeline, harmonize_anndata_with_model\n",
    "from cellarium.ml.core import CellariumPipeline\n",
    "from cellarium.ml.downstream.gene_set_utils import GeneSetRecords\n",
    "from cellarium.ml.downstream.noise_prompting import compute_jacobian"
   ]
  },
  {
   "cell_type": "code",
   "execution_count": null,
   "metadata": {},
   "outputs": [],
   "source": [
    "import scanpy as sc\n",
    "import anndata\n",
    "import torch\n",
    "import umap\n",
    "from sklearn.decomposition import PCA\n",
    "import numpy as np\n",
    "import pandas as pd\n",
    "import matplotlib.pyplot as plt\n",
    "%matplotlib inline\n",
    "\n",
    "sc.set_figure_params(fontsize=14, vector_friendly=True)"
   ]
  },
  {
   "cell_type": "code",
   "execution_count": null,
   "metadata": {},
   "outputs": [],
   "source": [
    "%load_ext autoreload\n",
    "%autoreload 2"
   ]
  },
  {
   "cell_type": "markdown",
   "metadata": {},
   "source": [
    "# Instantiate pretrained CellariumGPT model"
   ]
  },
  {
   "cell_type": "code",
   "execution_count": null,
   "metadata": {},
   "outputs": [],
   "source": [
    "pipeline = get_pretrained_model_as_pipeline(device=\"cuda\" if torch.cuda.is_available() else \"cpu\")"
   ]
  },
  {
   "cell_type": "markdown",
   "metadata": {},
   "source": [
    "# Data"
   ]
  },
  {
   "cell_type": "code",
   "execution_count": null,
   "metadata": {},
   "outputs": [],
   "source": [
    "# load data\n",
    "# adata = anndata.read_h5ad(\"/home/sfleming/cellarium-ml/notebooks/cell_selection/random_cells/cell__capillary_endothelial_cell.h5ad\")\n",
    "# adata = anndata.read_h5ad(\"/home/sfleming/cellarium-ml/notebooks/cell_selection/random_cells/cell__inhibitory_interneuron.h5ad\")\n",
    "adata = anndata.read_h5ad(\"/home/sfleming/cellarium-ml/notebooks/cell_selection/random_cells/cell__erythrocyte.h5ad\")\n",
    "# adata = anndata.read_h5ad(\"/home/sfleming/cellarium-ml/notebooks/cell_selection/manually_chosen_cardiac_muscle_cell.h5ad\")\n",
    "adata"
   ]
  },
  {
   "cell_type": "code",
   "execution_count": null,
   "metadata": {},
   "outputs": [],
   "source": [
    "adata_cell = harmonize_anndata_with_model(adata, pipeline)\n",
    "adata_cell.var['gpt_include'] = adata.var['gpt_include']\n",
    "adata_cell.layers['count'] = adata.layers['count']\n",
    "adata_cell"
   ]
  },
  {
   "cell_type": "code",
   "execution_count": null,
   "metadata": {},
   "outputs": [],
   "source": [
    "adata_cell.obs['cell_type'].item()"
   ]
  },
  {
   "cell_type": "code",
   "execution_count": null,
   "metadata": {},
   "outputs": [],
   "source": [
    "adata_cell.var['gpt_include'].sum()"
   ]
  },
  {
   "cell_type": "markdown",
   "metadata": {},
   "source": [
    "# Jacobian"
   ]
  },
  {
   "cell_type": "code",
   "execution_count": null,
   "metadata": {},
   "outputs": [],
   "source": [
    "adata_cell.var['gpt_include'].sum()"
   ]
  },
  {
   "cell_type": "code",
   "execution_count": null,
   "metadata": {},
   "outputs": [],
   "source": [
    "jacobian_df = compute_jacobian(\n",
    "    adata_cell,\n",
    "    pipeline=pipeline,\n",
    "    var_key_include_genes='gpt_include',\n",
    "    summarize='mean',\n",
    "    layer='count',\n",
    "    var_key_gene_name='gene_name',\n",
    ")"
   ]
  },
  {
   "cell_type": "code",
   "execution_count": null,
   "metadata": {},
   "outputs": [],
   "source": [
    "jacobian_df"
   ]
  },
  {
   "cell_type": "markdown",
   "metadata": {},
   "source": [
    "## Explore the Jacobian"
   ]
  },
  {
   "cell_type": "code",
   "execution_count": null,
   "metadata": {},
   "outputs": [],
   "source": [
    "adata_cell.var['expr'] = np.array(adata_cell.layers['count'].mean(axis=0)).squeeze()\n",
    "adata_cell.var.sort_values(by='expr', ascending=False).head(10)"
   ]
  },
  {
   "cell_type": "code",
   "execution_count": null,
   "metadata": {},
   "outputs": [],
   "source": [
    "plt.plot(np.diagonal(jacobian_df.to_numpy(), 0))"
   ]
  },
  {
   "cell_type": "code",
   "execution_count": null,
   "metadata": {},
   "outputs": [],
   "source": [
    "colorbar_max = np.percentile(jacobian_df.abs(), 99)\n",
    "\n",
    "plt.figure(figsize=(20, 20))\n",
    "plt.imshow(jacobian_df.to_numpy(), aspect='auto', \n",
    "           cmap='PiYG', vmin=-colorbar_max, vmax=colorbar_max)\n",
    "plt.colorbar()\n",
    "plt.grid(False)\n",
    "plt.show()"
   ]
  },
  {
   "cell_type": "code",
   "execution_count": null,
   "metadata": {},
   "outputs": [],
   "source": [
    "adata_cell.var['jac_abs_sum'] = 0.0\n",
    "adata_cell.var.loc[adata_cell.var['gpt_include'], 'jac_abs_sum'] = jacobian_df.abs().sum(axis=1).values"
   ]
  },
  {
   "cell_type": "code",
   "execution_count": null,
   "metadata": {},
   "outputs": [],
   "source": [
    "adata_cell.var.sort_values(by='expr', ascending=False).head(10)"
   ]
  },
  {
   "cell_type": "code",
   "execution_count": null,
   "metadata": {},
   "outputs": [],
   "source": [
    "adata_cell.var.sort_values(by='jac_abs_sum', ascending=False).head(20)"
   ]
  },
  {
   "cell_type": "markdown",
   "metadata": {},
   "source": [
    "## Gene lookups"
   ]
  },
  {
   "cell_type": "code",
   "execution_count": null,
   "metadata": {},
   "outputs": [],
   "source": [
    "gene_of_interest = 'HBB'\n",
    "\n",
    "jacobian_df[gene_of_interest].abs().sort_values(ascending=False).head(10)"
   ]
  },
  {
   "cell_type": "code",
   "execution_count": null,
   "metadata": {},
   "outputs": [],
   "source": [
    "gene_of_interest = 'MT-CO1'\n",
    "\n",
    "jacobian_df[gene_of_interest].abs().sort_values(ascending=False).head(10)"
   ]
  },
  {
   "cell_type": "code",
   "execution_count": null,
   "metadata": {},
   "outputs": [],
   "source": [
    "jacobian_df[gene_of_interest].loc[gene_of_interest]"
   ]
  },
  {
   "cell_type": "markdown",
   "metadata": {},
   "source": [
    "## Manifold dimension"
   ]
  },
  {
   "cell_type": "markdown",
   "metadata": {},
   "source": [
    "Rank of the Jacobian"
   ]
  },
  {
   "cell_type": "code",
   "execution_count": null,
   "metadata": {},
   "outputs": [],
   "source": [
    "rank = torch.linalg.matrix_rank(torch.from_numpy(jacobian_df.to_numpy()).cuda())\n",
    "rank"
   ]
  },
  {
   "cell_type": "code",
   "execution_count": null,
   "metadata": {},
   "outputs": [],
   "source": [
    "jacobian_df.shape"
   ]
  },
  {
   "cell_type": "markdown",
   "metadata": {},
   "source": [
    "Hmmmm, seems pretty large"
   ]
  },
  {
   "cell_type": "markdown",
   "metadata": {},
   "source": [
    "## Eigenvectors"
   ]
  },
  {
   "cell_type": "markdown",
   "metadata": {},
   "source": [
    "Eigenvectors of the Jacobian are what we're getting at when we do noise prompting."
   ]
  },
  {
   "cell_type": "code",
   "execution_count": null,
   "metadata": {},
   "outputs": [],
   "source": [
    "U, S, V = torch.pca_lowrank(\n",
    "    torch.from_numpy(jacobian_df.transpose().to_numpy()).cuda(),\n",
    "    q=rank,\n",
    ")\n",
    "eigenvalues = S.square() / (jacobian_df.shape[0] - 1)"
   ]
  },
  {
   "cell_type": "code",
   "execution_count": null,
   "metadata": {},
   "outputs": [],
   "source": [
    "frac_variance_explained = (eigenvalues / eigenvalues.sum()).cpu().numpy()"
   ]
  },
  {
   "cell_type": "code",
   "execution_count": null,
   "metadata": {},
   "outputs": [],
   "source": [
    "plt.figure(figsize=(12, 4))\n",
    "plt.subplot(1, 3, 1)\n",
    "plt.plot(frac_variance_explained)\n",
    "plt.title('PCA of UMAP of logFC')\n",
    "plt.ylabel('Explained variance ratio')\n",
    "plt.xlabel('PC')\n",
    "plt.subplot(1, 3, 2)\n",
    "plt.plot(frac_variance_explained)\n",
    "plt.yscale('log')\n",
    "plt.title('log')\n",
    "plt.subplot(1, 3, 3)\n",
    "plt.plot(np.cumsum(frac_variance_explained))\n",
    "plt.title('cumulative')\n",
    "plt.tight_layout()\n",
    "plt.show()"
   ]
  },
  {
   "cell_type": "code",
   "execution_count": null,
   "metadata": {},
   "outputs": [],
   "source": [
    "V.shape"
   ]
  },
  {
   "cell_type": "code",
   "execution_count": null,
   "metadata": {},
   "outputs": [],
   "source": [
    "for i in range(5):\n",
    "    adata_cell.var[f'jac_eigenvalue_{i}'] = 0.0\n",
    "    adata_cell.var[f'jac_eigenvalue_abs_{i}'] = 0.0\n",
    "    adata_cell.var.loc[adata_cell.var['gpt_include'], f'jac_eigenvalue_{i}'] = V[:, i].cpu().numpy().squeeze()\n",
    "    adata_cell.var.loc[adata_cell.var['gpt_include'], f'jac_eigenvalue_abs_{i}'] = V[:, i].abs().cpu().numpy().squeeze()"
   ]
  },
  {
   "cell_type": "code",
   "execution_count": null,
   "metadata": {},
   "outputs": [],
   "source": [
    "adata_cell.var.sort_values(by='jac_eigenvalue_abs_0', ascending=False).head(10)"
   ]
  },
  {
   "cell_type": "code",
   "execution_count": null,
   "metadata": {},
   "outputs": [],
   "source": [
    "def show_programs(df, column_names):\n",
    "    for c in column_names:\n",
    "        df_tmp = df[['gene_name', 'expr', c, c.replace('abs_', '')]].copy()\n",
    "        df_tmp = df_tmp.sort_values(by=c, ascending=False)\n",
    "        print(f'\\n{c}')\n",
    "        print(df_tmp.head(10))\n",
    "\n",
    "    return df"
   ]
  },
  {
   "cell_type": "code",
   "execution_count": null,
   "metadata": {},
   "outputs": [],
   "source": [
    "df = show_programs(adata_cell.var, [f'jac_eigenvalue_abs_{i}' for i in range(5)])"
   ]
  },
  {
   "cell_type": "code",
   "execution_count": null,
   "metadata": {},
   "outputs": [],
   "source": []
  }
 ],
 "metadata": {
  "kernelspec": {
   "display_name": "Python 3 (ipykernel)",
   "language": "python",
   "name": "python3"
  },
  "language_info": {
   "codemirror_mode": {
    "name": "ipython",
    "version": 3
   },
   "file_extension": ".py",
   "mimetype": "text/x-python",
   "name": "python",
   "nbconvert_exporter": "python",
   "pygments_lexer": "ipython3",
   "version": "3.10.13"
  }
 },
 "nbformat": 4,
 "nbformat_minor": 2
}
