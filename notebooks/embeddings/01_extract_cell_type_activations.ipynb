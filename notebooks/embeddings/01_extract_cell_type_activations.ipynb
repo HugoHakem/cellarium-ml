{
 "cells": [
  {
   "cell_type": "markdown",
   "metadata": {},
   "source": [
    "Extract cell type embeddings from layer prior to classification heads.\n",
    "\n",
    "Prompting with all genes and no metadata."
   ]
  },
  {
   "cell_type": "code",
   "execution_count": 1,
   "metadata": {},
   "outputs": [
    {
     "name": "stderr",
     "output_type": "stream",
     "text": [
      "2025-02-25 14:14:20.497059: I tensorflow/core/platform/cpu_feature_guard.cc:210] This TensorFlow binary is optimized to use available CPU instructions in performance-critical operations.\n",
      "To enable the following instructions: AVX2 FMA, in other operations, rebuild TensorFlow with the appropriate compiler flags.\n",
      "2025-02-25 14:14:21.920141: W tensorflow/compiler/tf2tensorrt/utils/py_utils.cc:38] TF-TRT Warning: Could not find TensorRT\n"
     ]
    }
   ],
   "source": [
    "import os\n",
    "import math\n",
    "import torch\n",
    "import warnings\n",
    "import numpy as np\n",
    "import scanpy as sc\n",
    "import pandas as pd\n",
    "import matplotlib.pyplot as plt\n",
    "from braceexpand import braceexpand\n",
    "from tqdm import tqdm\n",
    "\n",
    "# for flex attention\n",
    "import torch._dynamo\n",
    "torch._dynamo.config.suppress_errors = True\n",
    "\n",
    "# DEVICE = torch.device('cuda:1')\n",
    "DEVICE = torch.device('cuda:0')\n",
    "sc.set_figure_params(figsize=(4, 4))\n",
    "\n",
    "from cellarium.ml.utilities.inference.cellarium_gpt_inference import \\\n",
    "    CellariumGPTInferenceContext, \\\n",
    "    GeneNetworkAnalysisBase"
   ]
  },
  {
   "cell_type": "code",
   "execution_count": 2,
   "metadata": {},
   "outputs": [],
   "source": [
    "ROOT_PATH = \"/work/hdd/bbjr/mallina1/data/mb-ml-dev-vm\"\n",
    "TRAIN_ROOT_PATH = \"/work/hdd/bbjr/mallina1/data/human_cellariumgpt_v2/extract_files\"\n",
    "CHECKPOINT_PATH = \"/work/hdd/bbjr/mallina1/cellarium/models/latest/epoch=5-step=452000.ckpt\"\n",
    "\n",
    "REF_ADATA_PATH = os.path.join(ROOT_PATH, \"data\", \"extract_0.h5ad\")\n",
    "GENE_INFO_PATH = os.path.join(ROOT_PATH, \"gene_info\", \"gene_info.tsv\")\n",
    "\n",
    "ctx = CellariumGPTInferenceContext(\n",
    "    cellarium_gpt_ckpt_path=CHECKPOINT_PATH,\n",
    "    ref_adata_path=REF_ADATA_PATH,\n",
    "    gene_info_tsv_path=GENE_INFO_PATH,\n",
    "    device=DEVICE,\n",
    "    attention_backend=\"mem_efficient\"\n",
    ")"
   ]
  },
  {
   "cell_type": "markdown",
   "metadata": {},
   "source": [
    "Get the names of the 100 most expressed cell types in the first train chunk and filter down on these. To be updated later with a custom list."
   ]
  },
  {
   "cell_type": "code",
   "execution_count": null,
   "metadata": {},
   "outputs": [
    {
     "name": "stdout",
     "output_type": "stream",
     "text": [
      "['neuron', 'L2/3-6 intratelencephalic projecting glutamatergic neuron', 'glutamatergic neuron', 'oligodendrocyte', 'CD4-positive, alpha-beta T cell', 'CD8-positive, alpha-beta T cell', 'B cell', 'classical monocyte', 'natural killer cell', 'fibroblast']\n"
     ]
    },
    {
     "ename": "",
     "evalue": "",
     "output_type": "error",
     "traceback": [
      "\u001b[1;31mThe Kernel crashed while executing code in the current cell or a previous cell. \n",
      "\u001b[1;31mPlease review the code in the cell(s) to identify a possible cause of the failure. \n",
      "\u001b[1;31mClick <a href='https://aka.ms/vscodeJupyterKernelCrash'>here</a> for more info. \n",
      "\u001b[1;31mView Jupyter <a href='command:jupyter.viewOutput'>log</a> for further details."
     ]
    }
   ],
   "source": [
    "train_fnames = list(braceexpand('extract_{0..10}.h5ad'))\n",
    "\n",
    "tr_adata = sc.read_h5ad(os.path.join(TRAIN_ROOT_PATH, train_fnames[0]))\n",
    "cell_type_filter_list = list(tr_adata.obs['cell_type'].value_counts().to_dict().keys())[:11]\n",
    "cell_type_filter_list.remove('unknown')\n",
    "\n",
    "print(cell_type_filter_list)\n",
    "\n",
    "cell_type_filter_list = set(cell_type_filter_list)"
   ]
  },
  {
   "cell_type": "code",
   "execution_count": 4,
   "metadata": {},
   "outputs": [
    {
     "name": "stderr",
     "output_type": "stream",
     "text": [
      " 41%|████████████████████████████████████████▌                                                         | 436/1053 [2:15:25<3:11:15, 18.60s/it]"
     ]
    },
    {
     "ename": "",
     "evalue": "",
     "output_type": "error",
     "traceback": [
      "\u001b[1;31mCanceled future for execute_request message before replies were done"
     ]
    },
    {
     "ename": "",
     "evalue": "",
     "output_type": "error",
     "traceback": [
      "\u001b[1;31mCanceled future for execute_request message before replies were done. \n",
      "\u001b[1;31mView Jupyter <a href='command:jupyter.viewOutput'>log</a> for further details."
     ]
    }
   ],
   "source": [
    "metadata_prompt_dict = {\n",
    "    \"cell_type\": False,\n",
    "    \"tissue\": False,\n",
    "    \"disease\": False,\n",
    "    \"sex\": False,\n",
    "    \"development_stage\": False\n",
    "}\n",
    "\n",
    "train_fnames = train_fnames[:1]\n",
    "\n",
    "cell_type_embeddings = []\n",
    "disease_embeddings = []\n",
    "\n",
    "susp_type_labels = []\n",
    "assay_labels = []\n",
    "cell_type_labels = []\n",
    "disease_labels = []\n",
    "\n",
    "batch_size = 3\n",
    "for train_fname in train_fnames:\n",
    "    tr_adata = sc.read_h5ad(os.path.join(TRAIN_ROOT_PATH, train_fname))\n",
    "\n",
    "    # only preserve rows where the cell type is in the list we want\n",
    "    tr_adata_filtered = tr_adata[tr_adata.obs.cell_type.isin(cell_type_filter_list)]\n",
    "\n",
    "    for obs_idx in tqdm(range(0, tr_adata_filtered.obs.shape[0], batch_size)):\n",
    "        try:\n",
    "            tokens_dict, context_indices = ctx.generate_tokens_from_adata(tr_adata_filtered, obs_index=[obs_idx, obs_idx+1, obs_idx+2], query_var_names=[],\n",
    "                                                                        metadata_prompt_masks_dict=metadata_prompt_dict)\n",
    "        except:\n",
    "            # incomplete batch, stop iterating\n",
    "            break\n",
    "\n",
    "        query_cell_type_idx = context_indices['query_cell_type']\n",
    "        query_disease_idx = context_indices['query_disease']\n",
    "\n",
    "        with torch.inference_mode():\n",
    "            hidden_states_ncd, _ = ctx.get_embeddings_from_tokens(tokens_dict, context_indices)\n",
    "            hidden_states_ncd = hidden_states_ncd.cpu()\n",
    "\n",
    "        cell_type_embeddings.append(hidden_states_ncd[:, query_cell_type_idx, :])\n",
    "        disease_embeddings.append(hidden_states_ncd[:, query_disease_idx, :])\n",
    "\n",
    "        cell_type_labels.append(tr_adata_filtered.obs.iloc[obs_idx].cell_type)\n",
    "        disease_labels.append(tr_adata_filtered.obs.iloc[obs_idx].disease)\n",
    "        susp_type_labels.append(tr_adata_filtered.obs.iloc[obs_idx].suspension_type)\n",
    "        assay_labels.append(tr_adata_filtered.obs.iloc[obs_idx].assay)\n",
    "\n",
    "        # if len(cell_type_embeddings) >= math.ceil(1000/batch_size):\n",
    "        #     break\n",
    "\n",
    "cell_type_embeddings = torch.cat(cell_type_embeddings, dim=0).squeeze()\n",
    "disease_embeddings = torch.cat(disease_embeddings, dim=0).squeeze()\n"
   ]
  },
  {
   "cell_type": "code",
   "execution_count": 1,
   "metadata": {},
   "outputs": [
    {
     "ename": "NameError",
     "evalue": "name 'cell_type_embeddings' is not defined",
     "output_type": "error",
     "traceback": [
      "\u001b[0;31m---------------------------------------------------------------------------\u001b[0m",
      "\u001b[0;31mNameError\u001b[0m                                 Traceback (most recent call last)",
      "Cell \u001b[0;32mIn[1], line 1\u001b[0m\n\u001b[0;32m----> 1\u001b[0m \u001b[43mcell_type_embeddings\u001b[49m\u001b[38;5;241m.\u001b[39mshape\n\u001b[1;32m      2\u001b[0m disease_embeddings\u001b[38;5;241m.\u001b[39mshape\n",
      "\u001b[0;31mNameError\u001b[0m: name 'cell_type_embeddings' is not defined"
     ]
    }
   ],
   "source": [
    "cell_type_embeddings.shape\n",
    "disease_embeddings.shape"
   ]
  },
  {
   "cell_type": "code",
   "execution_count": null,
   "metadata": {},
   "outputs": [],
   "source": []
  }
 ],
 "metadata": {
  "kernelspec": {
   "display_name": "Python 3 (ipykernel)",
   "language": "python",
   "name": "python3"
  },
  "language_info": {
   "codemirror_mode": {
    "name": "ipython",
    "version": 3
   },
   "file_extension": ".py",
   "mimetype": "text/x-python",
   "name": "python",
   "nbconvert_exporter": "python",
   "pygments_lexer": "ipython3",
   "version": "3.10.4"
  }
 },
 "nbformat": 4,
 "nbformat_minor": 2
}
