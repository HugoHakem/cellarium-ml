{
 "cells": [
  {
   "cell_type": "markdown",
   "metadata": {},
   "source": [
    "Extract cell type embeddings from fixed  embedding layer of the trained model."
   ]
  },
  {
   "cell_type": "code",
   "execution_count": 2,
   "metadata": {},
   "outputs": [],
   "source": [
    "import os\n",
    "import math\n",
    "import torch\n",
    "import pickle\n",
    "import warnings\n",
    "import numpy as np\n",
    "import scanpy as sc\n",
    "import pandas as pd\n",
    "import matplotlib.pyplot as plt\n",
    "import plotly.express as px\n",
    "from braceexpand import braceexpand\n",
    "from tqdm import tqdm\n",
    "import umap\n",
    "from sklearn.decomposition import PCA\n",
    "\n",
    "# for flex attention\n",
    "import torch._dynamo\n",
    "torch._dynamo.config.suppress_errors = True\n",
    "\n",
    "# DEVICE = torch.device('cuda:1')\n",
    "DEVICE = torch.device('cuda:0')\n",
    "sc.set_figure_params(figsize=(4, 4))\n",
    "\n",
    "from cellarium.ml.utilities.inference.cellarium_gpt_inference import \\\n",
    "    CellariumGPTInferenceContext, \\\n",
    "    GeneNetworkAnalysisBase"
   ]
  },
  {
   "cell_type": "code",
   "execution_count": 4,
   "metadata": {},
   "outputs": [],
   "source": [
    "ROOT_PATH = \"/work/hdd/bbjr/mallina1/data/mb-ml-dev-vm\"\n",
    "TRAIN_ROOT_PATH = \"/work/hdd/bbjr/mallina1/data/human_cellariumgpt_v2/extract_files\"\n",
    "CHECKPOINT_PATH = \"/work/hdd/bbjr/mallina1/cellarium/models/latest/epoch=5-step=452000.ckpt\"\n",
    "\n",
    "REF_ADATA_PATH = os.path.join(ROOT_PATH, \"data\", \"extract_0.h5ad\")\n",
    "GENE_INFO_PATH = os.path.join(ROOT_PATH, \"gene_info\", \"gene_info.tsv\")\n",
    "ONTOLOGY_INFO_PATH = os.path.join(ROOT_PATH, \"ontology_infos.pt\")\n",
    "ONTOLOGY_DIR_PATH = os.path.join(ROOT_PATH, \"ontology\")\n",
    "\n",
    "ctx = CellariumGPTInferenceContext(\n",
    "    cellarium_gpt_ckpt_path=CHECKPOINT_PATH,\n",
    "    ref_adata_path=REF_ADATA_PATH,\n",
    "    gene_info_tsv_path=GENE_INFO_PATH,\n",
    "    device=DEVICE,\n",
    "    attention_backend=\"mem_efficient\"\n",
    ")"
   ]
  },
  {
   "cell_type": "code",
   "execution_count": 17,
   "metadata": {},
   "outputs": [
    {
     "name": "stderr",
     "output_type": "stream",
     "text": [
      "/tmp/ipykernel_290983/398718590.py:1: FutureWarning: You are using `torch.load` with `weights_only=False` (the current default value), which uses the default pickle module implicitly. It is possible to construct malicious pickle data which will execute arbitrary code during unpickling (See https://github.com/pytorch/pytorch/blob/main/SECURITY.md#untrusted-models for more details). In a future release, the default value for `weights_only` will be flipped to `True`. This limits the functions that could be executed during unpickling. Arbitrary objects will no longer be allowed to be loaded via this mode unless they are explicitly allowlisted by the user via `torch.serialization.add_safe_globals`. We recommend you start setting `weights_only=True` for any use case where you don't have full control of the loaded file. Please open an issue on GitHub for any issues related to this experimental feature.\n",
      "  ontology_infos = torch.load(ONTOLOGY_INFO_PATH)\n"
     ]
    }
   ],
   "source": [
    "ontology_infos = torch.load(ONTOLOGY_INFO_PATH)\n",
    "cell_type_labels = ontology_infos['cell_type']['labels']\n",
    "cell_type_names = ontology_infos['cell_type']['names']\n",
    "\n",
    "with open(os.path.join(ONTOLOGY_DIR_PATH, 'cl_benchmarking_resource.pkl'), 'rb') as fp:\n",
    "    cell_type_benchmarking = pickle.load(fp)\n",
    "\n",
    "# with open(os.path.join(ONTOLOGY_DIR_PATH, 'cl_propagation_resource.pkl'), 'rb') as fp:\n",
    "#     cell_type_propagation = pickle.load(fp)\n",
    "\n",
    "cl_label2name = {}\n",
    "cl_name2label = {}\n",
    "\n",
    "for idx in range(len(cell_type_labels)):\n",
    "    cl_label2name[cell_type_labels[idx]] = cell_type_names[idx]\n",
    "    cl_name2label[cell_type_names[idx]] = cell_type_labels[idx]"
   ]
  },
  {
   "cell_type": "code",
   "execution_count": 22,
   "metadata": {},
   "outputs": [
    {
     "name": "stdout",
     "output_type": "stream",
     "text": [
      "dict_keys(['CL:0000000', 'CL:0000540', 'CL:0000101', 'CL:0000001', 'CL:0000010', 'CL:0000005', 'CL:0000333', 'CL:0000057', 'CL:0000006', 'CL:0000197', 'CL:0002321', 'CL:0000578', 'CL:0000039', 'CL:0000034', 'CL:0000015', 'CL:0000586', 'CL:0000413', 'CL:0000019', 'CL:0000408', 'CL:0000021', 'CL:0000023', 'CL:0000255', 'CL:0000024', 'CL:0000670', 'CL:0000412', 'CL:0000192', 'CL:0000029', 'CL:0000030', 'CL:0000055', 'CL:0000031', 'CL:0000114', 'CL:0000152', 'CL:0011115', 'CL:0000035', 'CL:0000723', 'CL:0000036', 'CL:0000037', 'CL:0000988', 'CL:0008001', 'CL:0011026', 'CL:0000038', 'CL:0000764', 'CL:0000839', 'CL:0000050', 'CL:0002194', 'CL:0000763', 'CL:0002009', 'CL:0000771', 'CL:0000145', 'CL:0000834', 'CL:0000767', 'CL:0002274', 'CL:0000051', 'CL:0000047', 'CL:0002319', 'CL:0000048', 'CL:0000049', 'CL:0002032', 'CL:0000557', 'CL:0000151', 'CL:0000056', 'CL:0000680', 'CL:0002320', 'CL:0000134', 'CL:0002077', 'CL:0000710', 'CL:0000062', 'CL:0007010', 'CL:0000064', 'CL:0000065', 'CL:0000067', 'CL:0000066', 'CL:0000738', 'CL:0000068', 'CL:0000069', 'CL:0000071', 'CL:0000076', 'CL:0002139', 'CL:0002546', 'CL:0000072', 'CL:0002078', 'CL:0000215', 'CL:0000075', 'CL:0000077', 'CL:0000213', 'CL:0000079', 'CL:0000080', 'CL:0000081', 'CL:0000082', 'CL:0000083', 'CL:0000084', 'CL:0000542', 'CL:0000827', 'CL:0000945', 'CL:0000091', 'CL:0000864', 'CL:0000092', 'CL:0000766', 'CL:0000518', 'CL:0001035', 'CL:0000576', 'CL:0000094', 'CL:0000095', 'CL:0000775', 'CL:0000234', 'CL:0000097', 'CL:0000098', 'CL:0000099', 'CL:0000100', 'CL:0000527', 'CL:0000526', 'CL:0000103', 'CL:0000104', 'CL:0000107', 'CL:2000032', 'CL:0000108', 'CL:4033050', 'CL:0000113', 'CL:0000842', 'CL:0000221', 'CL:0000115', 'CL:0000117', 'CL:0011005', 'CL:0000119', 'CL:4023057', 'CL:0000120', 'CL:0000121', 'CL:1001611', 'CL:0000122', 'CL:0000123', 'CL:0000125', 'CL:0000126', 'CL:0000127', 'CL:0000128', 'CL:4023154', 'CL:0002453', 'CL:0000129', 'CL:0000878', 'CL:0000222', 'CL:0000131', 'CL:0000132', 'CL:0000135', 'CL:0000499', 'CL:0000136', 'CL:0000325', 'CL:0000138', 'CL:0000153', 'CL:0000667', 'CL:0000147', 'CL:0000148', 'CL:0000149', 'CL:0000150', 'CL:0000327', 'CL:0000447', 'CL:0000154', 'CL:0000155', 'CL:0002659', 'CL:0000157', 'CL:0000158', 'CL:0002202', 'CL:0000159', 'CL:0000160', 'CL:0000319', 'CL:0000162', 'CL:0000163', 'CL:0000164', 'CL:0000165', 'CL:0000166', 'CL:0000568', 'CL:0000167', 'CL:0000168', 'CL:0000169', 'CL:0008024', 'CL:0002351', 'CL:0000170', 'CL:0000171', 'CL:0002067', 'CL:0000172', 'CL:0000173', 'CL:0000502', 'CL:0000174', 'CL:0002132', 'CL:0000177', 'CL:0000178', 'CL:4030031', 'CL:0000182', 'CL:0000417', 'CL:0005026', 'CL:0000183', 'CL:0000669', 'CL:0000185', 'CL:0000186', 'CL:0000187', 'CL:0000393', 'CL:0000188', 'CL:0000189', 'CL:0008046', 'CL:0000190', 'CL:0008000', 'CL:0008007', 'CL:0000514', 'CL:0000746', 'CL:0000199', 'CL:4023168', 'CL:0000202', 'CL:0000855', 'CL:0000206', 'CL:0000207', 'CL:0000209', 'CL:0002076', 'CL:0000210', 'CL:0000211', 'CL:0000212', 'CL:0000216', 'CL:0000630', 'CL:0000511', 'CL:0002625', 'CL:0000217', 'CL:0000218', 'CL:0002573', 'CL:0002377', 'CL:0000219', 'CL:0000225', 'CL:0002242', 'CL:0000226', 'CL:0000228', 'CL:0000232', 'CL:0000329', 'CL:0000558', 'CL:0000233', 'CL:0000458', 'CL:0000556', 'CL:0000473', 'CL:0000235', 'CL:0000236', 'CL:0000237', 'CL:0000240', 'CL:0000311', 'CL:0000239', 'CL:0000242', 'CL:0000312', 'CL:0000244', 'CL:0000531', 'CL:0000253', 'CL:0000287', 'CL:0000300', 'CL:0000306', 'CL:0000307', 'CL:0000362', 'CL:0000313', 'CL:0000314', 'CL:0000317', 'CL:2000021', 'CL:1001597', 'CL:0000322', 'CL:0010003', 'CL:0000323', 'CL:0000324', 'CL:0011012', 'CL:0008019', 'CL:0000457', 'CL:0000342', 'CL:0000349', 'CL:0000351', 'CL:0000358', 'CL:0000359', 'CL:4033054', 'CL:0002159', 'CL:0002372', 'CL:0000386', 'CL:0000387', 'CL:0000390', 'CL:0000388', 'CL:0000394', 'CL:0000397', 'CL:0000402', 'CL:2000029', 'CL:0000404', 'CL:0000424', 'CL:0000432', 'CL:0000442', 'CL:0000737', 'CL:0002260', 'CL:0002334', 'CL:0000449', 'CL:0002335', 'CL:0000451', 'CL:0000453', 'CL:0000990', 'CL:0000456', 'CL:0000459', 'CL:0010021', 'CL:0011020', 'CL:0000500', 'CL:2000064', 'CL:0000492', 'CL:0000624', 'CL:0000896', 'CL:0000498', 'CL:0000501', 'CL:0002174', 'CL:0000503', 'CL:0000593', 'CL:0000506', 'CL:0000507', 'CL:0000508', 'CL:0000509', 'CL:0002180', 'CL:0000510', 'CL:0002563', 'CL:0000512', 'CL:0000513', 'CL:0002494', 'CL:0008002', 'CL:0000516', 'CL:0000525', 'CL:0000529', 'CL:0000530', 'CL:0000545', 'CL:0000546', 'CL:0001051', 'CL:0000547', 'CL:0000765', 'CL:0000553', 'CL:0000555', 'CL:0001012', 'CL:1001610', 'CL:0000559', 'CL:0000561', 'CL:0009004', 'CL:0000740', 'CL:0000836', 'CL:0000569', 'CL:2000073', 'CL:0000573', 'CL:0010009', 'CL:0002672', 'CL:0000575', 'CL:0000577', 'CL:0002251', 'CL:0001034', 'CL:0000776', 'CL:0002193', 'CL:0000583', 'CL:1001603', 'CL:0000584', 'CL:0000677', 'CL:4023120', 'CL:0000594', 'CL:0000595', 'CL:0002422', 'CL:0000598', 'CL:0000604', 'CL:0002374', 'CL:0002191', 'CL:0002028', 'CL:0000617', 'CL:0000622', 'CL:0000623', 'CL:0001067', 'CL:0000791', 'CL:0000625', 'CL:0000627', 'CL:0000632', 'CL:0000636', 'CL:0000681', 'CL:2000004', 'CL:0002085', 'CL:0000644', 'CL:0012000', 'CL:0000646', 'CL:1000618', 'CL:0000649', 'CL:0000650', 'CL:0000651', 'CL:0000652', 'CL:0000653', 'CL:0002522', 'CL:1000450', 'CL:1000147', 'CL:0000666', 'CL:0008034', 'CL:0000679', 'CL:0000682', 'CL:0000683', 'CL:0002376', 'CL:0000695', 'CL:0000696', 'CL:0000700', 'CL:0000704', 'CL:0000706', 'CL:0000708', 'CL:0000731', 'CL:0000745', 'CL:0000748', 'CL:0008028', 'CL:0000749', 'CL:0000750', 'CL:0000751', 'CL:0000752', 'CL:0000753', 'CL:0000754', 'CL:0000755', 'CL:0000756', 'CL:0000757', 'CL:0000758', 'CL:0000759', 'CL:0000760', 'CL:0000761', 'CL:0000782', 'CL:0000784', 'CL:0000785', 'CL:0001201', 'CL:0000818', 'CL:0000816', 'CL:0000817', 'CL:0000786', 'CL:0000946', 'CL:0000980', 'CL:0000787', 'CL:0000788', 'CL:0000789', 'CL:0000798', 'CL:0000790', 'CL:0002420', 'CL:0002419', 'CL:0000792', 'CL:0000815', 'CL:0000797', 'CL:0000810', 'CL:0000794', 'CL:0000906', 'CL:0000796', 'CL:0002496', 'CL:0000807', 'CL:0000800', 'CL:0000801', 'CL:0000802', 'CL:0000893', 'CL:0000808', 'CL:0002489', 'CL:0000894', 'CL:0000809', 'CL:0000811', 'CL:0000813', 'CL:0000898', 'CL:0000814', 'CL:0000954', 'CL:0000826', 'CL:0000819', 'CL:0000820', 'CL:0000821', 'CL:0000822', 'CL:0000823', 'CL:0001082', 'CL:0000937', 'CL:0000824', 'CL:0000838', 'CL:0000837', 'CL:0002031', 'CL:0001029', 'CL:0000841', 'CL:0000843', 'CL:0000844', 'CL:0000860', 'CL:0000861', 'CL:0000863', 'CL:0000875', 'CL:0002393', 'CL:0000879', 'CL:0000889', 'CL:0000890', 'CL:0002425', 'CL:0000895', 'CL:0000897', 'CL:0000899', 'CL:0000900', 'CL:0000903', 'CL:0000904', 'CL:0001204', 'CL:0000905', 'CL:0000907', 'CL:0001203', 'CL:0000908', 'CL:0000909', 'CL:0000910', 'CL:0000911', 'CL:0000912', 'CL:0000913', 'CL:0000914', 'CL:0000915', 'CL:0000917', 'CL:0000921', 'CL:0000922', 'CL:0000924', 'CL:0000928', 'CL:0000931', 'CL:0000934', 'CL:0000936', 'CL:0000938', 'CL:0000939', 'CL:0000940', 'CL:0000974', 'CL:0000972', 'CL:0000957', 'CL:0000955', 'CL:0000956', 'CL:0000970', 'CL:0000979', 'CL:0000982', 'CL:0000984', 'CL:0000985', 'CL:0000986', 'CL:0000987', 'CL:0001060', 'CL:0002010', 'CL:0002465', 'CL:0001024', 'CL:0001019', 'CL:0001022', 'CL:0001031', 'CL:2000028', 'CL:0002362', 'CL:0010012', 'CL:0002608', 'CL:0001042', 'CL:0001043', 'CL:0001044', 'CL:0002677', 'CL:0002678', 'CL:0001049', 'CL:0001050', 'CL:0001054', 'CL:0002397', 'CL:0001056', 'CL:0001057', 'CL:0001058', 'CL:0001061', 'CL:0001062', 'CL:4030002', 'CL:0001063', 'CL:0001064', 'CL:0001065', 'CL:0001066', 'CL:0001068', 'CL:0001069', 'CL:0001071', 'CL:0001074', 'CL:0001076', 'CL:0001077', 'CL:0001078', 'CL:0001079', 'CL:0001080', 'CL:0001081', 'CL:0001200', 'CL:0002038', 'CL:0002045', 'CL:0002046', 'CL:0002048', 'CL:0002057', 'CL:0002062', 'CL:0002063', 'CL:1000272', 'CL:0002064', 'CL:1001599', 'CL:0002086', 'CL:0002071', 'CL:0002253', 'CL:0002072', 'CL:0002075', 'CL:0002204', 'CL:0002079', 'CL:1001433', 'CL:0002088', 'CL:0002092', 'CL:0002094', 'CL:0008009', 'CL:0002097', 'CL:1001601', 'CL:0002098', 'CL:0002099', 'CL:0002102', 'CL:0002117', 'CL:0002129', 'CL:0002131', 'CL:0002138', 'CL:0005022', 'CL:1000448', 'CL:0002144', 'CL:2000008', 'CL:0002145', 'CL:0005012', 'CL:4030034', 'CL:0002149', 'CL:0002151', 'CL:0002154', 'CL:0002157', 'CL:0002167', 'CL:1001318', 'CL:0002178', 'CL:0002179', 'CL:0002187', 'CL:1000428', 'CL:0002188', 'CL:1000746', 'CL:0002189', 'CL:0002257', 'CL:0002201', 'CL:0005010', 'CL:0002632', 'CL:0002203', 'CL:0019032', 'CL:0002207', 'CL:0002328', 'CL:0002252', 'CL:0002222', 'CL:0002223', 'CL:0002224', 'CL:0002225', 'CL:0011004', 'CL:0002325', 'CL:0002231', 'CL:0002341', 'CL:0002340', 'CL:0002236', 'CL:0002241', 'CL:0002243', 'CL:0002246', 'CL:0002250', 'CL:0002254', 'CL:0002255', 'CL:2000002', 'CL:0002258', 'CL:0002259', 'CL:1001593', 'CL:0002262', 'CL:0009042', 'CL:0009006', 'CL:0002268', 'CL:0002269', 'CL:0002275', 'CL:0002277', 'CL:0002278', 'CL:0002279', 'CL:0002280', 'CL:0005018', 'CL:0002293', 'CL:0002364', 'CL:0002365', 'CL:0002303', 'CL:0002304', 'CL:0002305', 'CL:1000494', 'CL:1000615', 'CL:0002306', 'CL:0002308', 'CL:0002322', 'CL:0002324', 'CL:0002327', 'CL:1001586', 'CL:4033057', 'CL:0002326', 'CL:0009116', 'CL:0002329', 'CL:0002332', 'CL:0002337', 'CL:0002338', 'CL:0002343', 'CL:0002350', 'CL:0010008', 'CL:0002352', 'CL:0002355', 'CL:0002417', 'CL:0002361', 'CL:0002363', 'CL:0002366', 'CL:0002601', 'CL:0002368', 'CL:0002370', 'CL:0002375', 'CL:0002394', 'CL:0002395', 'CL:0002396', 'CL:0002399', 'CL:0002410', 'CL:0002457', 'CL:0002470', 'CL:0002477', 'CL:0002480', 'CL:1000458', 'CL:0002559', 'CL:0002491', 'CL:0002488', 'CL:0002495', 'CL:0002503', 'CL:0002504', 'CL:0002518', 'CL:1000497', 'CL:0002521', 'CL:0002536', 'CL:0002538', 'CL:1000488', 'CL:0002539', 'CL:0019018', 'CL:1000413', 'CL:0002543', 'CL:0002544', 'CL:0002548', 'CL:0002620', 'CL:0002553', 'CL:0002554', 'CL:0002555', 'CL:0002565', 'CL:0002570', 'CL:0002575', 'CL:0002577', 'CL:4006000', 'CL:0002584', 'CL:0002681', 'CL:0002585', 'CL:0002586', 'CL:0002591', 'CL:1001319', 'CL:0002598', 'CL:0019019', 'CL:0002600', 'CL:0002603', 'CL:2000005', 'CL:0002605', 'CL:1001579', 'CL:0002607', 'CL:0002617', 'CL:0002621', 'CL:0002622', 'CL:0002623', 'CL:1001596', 'CL:0002626', 'CL:0002627', 'CL:0002629', 'CL:0002633', 'CL:0002657', 'CL:1000414', 'CL:0002658', 'CL:0002671', 'CL:0002673', 'CL:1001516', 'CL:0003001', 'CL:0004247', 'CL:4023032', 'CL:4023033', 'CL:0003050', 'CL:0004213', 'CL:0004214', 'CL:0004215', 'CL:0004216', 'CL:0004217', 'CL:0004218', 'CL:0004219', 'CL:0004250', 'CL:0004251', 'CL:4030028', 'CL:0004232', 'CL:4030027', 'CL:0005006', 'CL:0005009', 'CL:1000449', 'CL:0005011', 'CL:0005019', 'CL:0005020', 'CL:0005021', 'CL:0015000', 'CL:0005025', 'CL:0011102', 'CL:0007005', 'CL:0007011', 'CL:0008008', 'CL:0008011', 'CL:0008015', 'CL:0008031', 'CL:0010011', 'CL:0008036', 'CL:2000049', 'CL:4023041', 'CL:0009002', 'CL:0009005', 'CL:1001598', 'CL:0009009', 'CL:1001588', 'CL:0009010', 'CL:0009011', 'CL:0009012', 'CL:0009016', 'CL:0009017', 'CL:0009022', 'CL:0011108', 'CL:0009038', 'CL:0009039', 'CL:1000320', 'CL:0009041', 'CL:0009043', 'CL:1000279', 'CL:0009089', 'CL:0009092', 'CL:0009095', 'CL:0009099', 'CL:0009111', 'CL:0009112', 'CL:0009113', 'CL:2000092', 'CL:0010006', 'CL:0010022', 'CL:0011001', 'CL:0011010', 'CL:0011011', 'CL:0011019', 'CL:0011024', 'CL:0011025', 'CL:0011027', 'CL:1001609', 'CL:0011028', 'CL:0011031', 'CL:0011101', 'CL:0011103', 'CL:0011113', 'CL:0013000', 'CL:0017000', 'CL:0017001', 'CL:1000296', 'CL:4030024', 'CL:0019001', 'CL:0019003', 'CL:0019021', 'CL:1000398', 'CL:0019022', 'CL:0019026', 'CL:0019028', 'CL:0019029', 'CL:0019031', 'CL:1000507', 'CL:1000042', 'CL:1000143', 'CL:1000223', 'CL:1000271', 'CL:1000275', 'CL:1000278', 'CL:1001320', 'CL:1000299', 'CL:1000304', 'CL:1000305', 'CL:1000309', 'CL:1000311', 'CL:1000312', 'CL:1000495', 'CL:1000317', 'CL:1001589', 'CL:1000326', 'CL:1000329', 'CL:1000330', 'CL:1000331', 'CL:1000334', 'CL:1000339', 'CL:1000342', 'CL:1000343', 'CL:1000347', 'CL:1000348', 'CL:1000353', 'CL:2000046', 'CL:1000409', 'CL:1000412', 'CL:1000432', 'CL:1000435', 'CL:1000436', 'CL:1000437', 'CL:1001428', 'CL:1000443', 'CL:1000447', 'CL:1000510', 'CL:1000452', 'CL:1000453', 'CL:1000909', 'CL:1000454', 'CL:1001225', 'CL:1000487', 'CL:1000491', 'CL:1000493', 'CL:1000500', 'CL:1000504', 'CL:1000505', 'CL:1000617', 'CL:1000616', 'CL:1000597', 'CL:1000600', 'CL:1000612', 'CL:1000692', 'CL:1000695', 'CL:1000698', 'CL:1000703', 'CL:1001431', 'CL:1001432', 'CL:1000768', 'CL:1000838', 'CL:1000839', 'CL:1001021', 'CL:1000849', 'CL:1000850', 'CL:1000854', 'CL:1000891', 'CL:1000892', 'CL:1000893', 'CL:1001005', 'CL:1001006', 'CL:1001009', 'CL:1001016', 'CL:1001033', 'CL:1001036', 'CL:1001045', 'CL:1001096', 'CL:1001099', 'CL:1001106', 'CL:1001107', 'CL:1001108', 'CL:1001109', 'CL:1001111', 'CL:1001131', 'CL:1001285', 'CL:1001430', 'CL:1001451', 'CL:1001474', 'CL:2000030', 'CL:1001509', 'CL:1001567', 'CL:1001568', 'CL:4023111', 'CL:1001602', 'CL:2000001', 'CL:2000006', 'CL:2000011', 'CL:2000016', 'CL:2000018', 'CL:2000041', 'CL:2000042', 'CL:2000043', 'CL:2000047', 'CL:2000054', 'CL:2000055', 'CL:2000059', 'CL:2000060', 'CL:2000084', 'CL:2000093', 'CL:2000095', 'CL:3000001', 'CL:4023016', 'CL:4023008', 'CL:4023009', 'CL:4023011', 'CL:4023012', 'CL:4023013', 'CL:4023015', 'CL:4023017', 'CL:4023018', 'CL:4023121', 'CL:4023026', 'CL:4023029', 'CL:4023036', 'CL:4023083', 'CL:4023038', 'CL:4023040', 'CL:4023042', 'CL:4023043', 'CL:4030067', 'CL:4023047', 'CL:4030059', 'CL:4023048', 'CL:4030062', 'CL:4023050', 'CL:4030065', 'CL:4023051', 'CL:4023058', 'CL:4023054', 'CL:4023056', 'CL:4023059', 'CL:4023064', 'CL:4023065', 'CL:4023068', 'CL:4023070', 'CL:4023072', 'CL:4023161', 'CL:4023181', 'CL:4023188', 'CL:4023189', 'CL:4028004', 'CL:4028006', 'CL:4030009', 'CL:4030011', 'CL:4030018', 'CL:4030023', 'CL:4030026', 'CL:4030032', 'CL:4030033', 'CL:4030063', 'CL:4030066', 'CL:4033005', 'CL:4033013', 'CL:4033015', 'CL:4033019', 'CL:4033024', 'CL:4033025', 'CL:4033026', 'CL:4033027', 'CL:4033028', 'CL:4033029', 'CL:4033030', 'CL:4033031', 'CL:4033032', 'CL:4033033', 'CL:4033034', 'CL:4033035', 'CL:4033036', 'CL:4033038', 'CL:4033039', 'CL:4033042', 'CL:4033043', 'CL:4033044', 'CL:4033048', 'CL:4033053', 'CL:4033058'])\n",
      "CL:0000540 neuron\n",
      "['neuron', 'sensory neuron', 'primary cultured cell', 'cultured cell', 'fibroblast neural crest derived', 'migratory neural crest cell', 'fibroblast', 'neuronal receptor cell', 'sensory receptor cell', 'embryonic cell (metazoa)', 'experimentally modified cell in vitro', 'germ line cell', 'stem cell', 'male germ cell', 'germ cell', 'haploid cell', 'sperm', 'male gamete', 'primordial germ cell', 'polyploid cell', 'smooth muscle cell', 'neural crest derived neuron', 'glioblast', 'non-terminally differentiated cell', 'neuroblast (sensu Vertebrata)', 'surface ectodermal cell', 'exocrine cell', 'precursor cell', 'single fate stem cell', 'somatic stem cell', 'epithelial fate stem cell', 'hematopoietic stem cell', 'hematopoietic cell', 'hematopoietic precursor cell', 'progenitor cell', 'erythroid progenitor cell', 'erythroid lineage cell', 'myeloid lineage restricted progenitor cell', 'megakaryocyte-erythroid progenitor cell', 'monopoietic cell', 'myeloid cell', 'macrophage dendritic cell progenitor', 'eosinophil', 'professional antigen presenting cell', 'neutrophil progenitor cell', 'basophil', 'histamine secreting cell', 'common lymphoid progenitor', 'neural cell', 'multi fate stem cell', 'common myeloid progenitor', 'hematopoietic oligopotent progenitor cell', 'granulocyte monocyte progenitor cell', 'secretory cell', 'myoblast', 'muscle precursor cell', 'connective tissue cell', 'mesenchymal stem cell', 'ecto-epithelial cell', 'neurecto-epithelial cell', 'osteoblast', 'preosteoblast', 'ciliated cell', 'ependymal cell', 'ciliated epithelial cell', 'epithelial cell', 'leukocyte', 'duct epithelial cell', 'branched duct epithelial cell', 'blood vessel endothelial cell', 'squamous epithelial cell', 'endothelial cell of vascular tree', 'non-branched duct epithelial cell', 'meso-epithelial cell', 'barrier cell', 'columnar/cuboidal epithelial cell', 'mesothelial cell', 'lining cell', 'stratified epithelial cell', 'circulating cell', 'blood cell', 'epithelial cell of lung', 'epithelial cell of pancreas', 'T cell', 'lymphocyte', 'pro-T cell', 'lymphocyte of B lineage', 'Kupffer cell', 'tissue-resident macrophage', 'osteoclast', 'myeloid leukocyte', 'phagocyte (sensu Vertebrata)', 'bone cell', 'monocyte', 'granulocyte', 'neuron associated cell', 'neutrophil', 'phagocyte', 'mast cell', 'sensory epithelial cell', 'interneuron', 'motor neuron', 'efferent neuron', 'afferent neuron', 'bipolar neuron', 'multipolar neuron', 'autonomic neuron', 'peripheral nervous system neuron', 'cholinergic neuron', 'catecholaminergic neuron', 'mononuclear phagocyte', 'mononuclear cell', 'ectodermal cell', 'endothelial cell', 'CNS neuron (sensu Vertebrata)', 'GABAergic interneuron', 'granule cell', 'Purkinje cell', 'cerebellar neuron', 'stellate neuron', 'neuron associated cell (sensu Vertebrata)', 'glial cell', 'macroglial cell', 'astrocyte', 'oligodendrocyte', 'myelinating glial cell', 'oligodendrocyte precursor cell', 'microglial cell', 'central nervous system macrophage', 'mesodermal cell', 'gut endothelial cell', 'corneal endothelial cell', 'fibrocyte', 'stromal cell', 'adipocyte', 'stuff accumulating cell', 'chondrocyte', 'glycosaminoglycan secreting cell', 'collagen secreting cell', 'pigment cell', 'melanocyte', 'visual pigment cell', 'glandular epithelial cell', 'extracellular matrix secreting cell', 'carbohydrate secreting cell', 'protein secreting cell', 'peptic cell', 'glandular cell of stomach', 'surfactant secreting cell', 'club cell', 'epithelial cell of tracheobronchial tree', 'seromucus secreting cell', 'goblet cell', 'mucus secreting cell', 'parietal cell', 'endocrine cell', 'enteroendocrine cell', 'neuroendocrine cell', 'chromaffin cell', 'amine precursor uptake and decarboxylation cell', 'peptide hormone secreting cell', 'insulin secreting cell', 'type B pancreatic cell', 'pancreatic endocrine cell', 'progenitor cell of endocrine pancreas', 'glucagon secreting cell', 'pancreatic A cell', 'type A enteroendocrine cell', 'somatostatin secreting cell', 'pancreatic D cell', 'type D enteroendocrine cell', 'steroid hormone secreting cell', 'stromal cell of ovary', 'testosterone secreting cell', 'Leydig cell', 'interstitial cell', 'hepatocyte', 'endopolyploid cell', 'hepatoblast', 'contractile cell', 'pericyte', 'myoepithelial cell', 'myofibroblast cell', 'muscle cell', 'electrically responsive cell', 'cell of skeletal muscle', 'slow muscle cell', 'extrafusal muscle fiber', 'fast muscle cell', 'non-striated muscle cell', 'visceral muscle cell', 'smooth muscle myoblast', 'cardiac muscle cell', 'chemoreceptor cell', 'taste receptor cell', 'endo-epithelial cell', 'photoreceptor cell', 'electrically active cell', 'Sertoli cell', 'supporting cell', 'androgen binding protein secreting cell', 'seminiferous tubule epithelial cell', 'insulating cell', 'myelinating Schwann cell', 'Schwann cell', 'immature Schwann cell', 'motile cell', 'anucleate cell', 'nucleate cell', 'single nucleate cell', 'multinucleate cell', 'erythrocyte', 'oxygen accumulating cell', 'reticulocyte', 'platelet', 'serotonin secreting cell', 'megakaryocyte', 'defensive cell', 'macrophage', 'B cell', 'keratinizing barrier epithelial cell', 'stratified squamous epithelial cell', 'keratin accumulating cell', 'brush border epithelial cell', 'Merkel cell', 'keratinocyte', 'transitional epithelial cell', 'primary sensory neuron (sensu Teleostei)', 'eurydendroid cell', 'eye photoreceptor cell', 'gamete', 'crystallin accumulating cell', 'tracheal epithelial cell', 'epidermal cell', 'serous secreting cell', 'milk secreting cell', 'sebum secreting cell', 'sebaceous gland cell', 'pneumocyte', 'epithelial cell of alveolus of lung', 'lysozyme secreting cell', 'neural crest cell', 'mesenchymal cell', 'biogenic amine secreting cell', 'extraembryonic cell', 'trophoblast cell', 'sphincter associated smooth muscle cell', 'vascular associated smooth muscle cell', 'perivascular cell', 'general ecto-epithelial cell', 'myotube', 'attachment cell', 'tendon cell', 'ganglion interneuron', 'CNS interneuron', 'central nervous system neuron', 'electrically signaling cell', 'excretory cell', 'reticular cell', 'follicular dendritic cell', 'striated muscle cell', 'preadipocyte', 'dendritic cell', 'Langerhans cell', 'conventional dendritic cell', 'noradrenergic cell', 'cardiac myoblast', 'neural progenitor cell', 'follicular epithelial cell', 'ovarian surface epithelial cell', 'CD4-positive helper T cell', 'CD4-positive, alpha-beta T cell', 'activated CD4-positive, alpha-beta T cell', 'inhibitory interneuron', 'granulosa cell', 'follicular cell of ovary', 'theca cell', 'androgen secreting cell', 'enkephalin secreting cell', 'endorphin secreting cell', 'type G enteroendocrine cell', 'gastrin secreting cell', 'mucous cell of stomach', 'paneth cell', 'intestinal epithelial cell', 'paracrine cell', 'cardiac muscle myoblast', 'cardiocyte', 'skeletal muscle fiber', 'syncytiotrophoblast cell', 'pigmented epithelial cell', 'primary neuron (sensu Teleostei)', 'T-helper 1 cell', 'T-helper 2 cell', 'CD4-positive, CXCR3-negative, CCR6-negative, alpha-beta T cell', 'proerythroblast', 'erythroblast', 'neuronal brush cell', 'CD7-negative lymphoid progenitor OR granulocyte monocyte progenitor', 'bone marrow hematopoietic cell', 'promonocyte', 'amacrine cell', 'retinal cell', 'retinal ganglion cell', 'promyelocyte', 'cardiac mesenchymal cell', 'migratory cardiac neural crest cell', 'retinal cone cell', 'camera-type eye photoreceptor cell', 'corneal epithelial cell', 'type EC enteroendocrine cell', 'epithelial cell of alimentary canal', 'cell in vitro', 'immature neutrophil', 'myelocyte', 'alveolar macrophage', 'lung macrophage', 'enterocyte', 'gut absorptive cell', 'skeletal muscle satellite cell', 'enucleate erythrocyte', 'enucleated reticulocyte', 'pyramidal neuron', 'retinal rod cell', 'granulocytopoietic cell', 'basophil mast progenitor cell', 'GABAergic neuron', 'acinar cell', 'natural killer cell', 'group 1 innate lymphoid cell', 'mature alpha-beta T cell', 'CD8-positive, alpha-beta T cell', 'transporting cell', 'hepatic stellate cell', 'Mueller cell', 'radial glial cell', 'Bergmann glial cell', 'astrocyte of the forebrain', 'basal cell', 'prickle cell', 'mesangial cell', 'mucous neck cell', 'podocyte', 'renal filtration cell', 'epithelial cell of glomerular capsule', 'fenestrated cell', 'mural cell', 'glutamatergic neuron', 'M cell of gut', 'non-myelinating Schwann cell', 'Cajal-Retzius cell', 'PP cell', 'dopaminergic neuron', 'endothelial tip cell', 'choroid plexus epithelial cell', 'urothelial cell', 'retina horizontal cell', 'retinal bipolar neuron', 'visual system neuron', 'ON-bipolar cell', 'OFF-bipolar cell', 'rod bipolar cell', 'cone retinal bipolar cell', 'myeloid dendritic cell', 'plasmacytoid dendritic cell', 'mature B cell', 'B cell, CD19-positive', 'transitional stage B cell', 'immature B cell', 'precursor B cell', 'plasma cell', 'antibody secreting cell', 'plasmablast', 'memory B cell', 'naive B cell', 'alpha-beta T cell', 'gamma-delta T cell', 'immature alpha-beta T cell', 'immature T cell', 'mature T cell', 'CD4-positive, CD25-positive, alpha-beta regulatory T cell', 'regulatory T cell', 'alpha-beta intraepithelial T cell', 'CD4-positive, alpha-beta thymocyte', 'CD8-positive, alpha-beta cytotoxic T cell', 'activated CD8-positive, alpha-beta T cell', 'CD8-alpha-beta-positive, alpha-beta intraepithelial T cell', 'intraepithelial lymphocyte', 'DN3 thymocyte', 'mature gamma-delta T cell', 'gamma-delta intraepithelial T cell', 'CD8-alpha alpha positive, gamma-delta intraepithelial T cell', 'thymocyte', 'DN4 thymocyte', 'double negative thymocyte', 'DN1 thymic pro-T cell', 'double-positive, alpha-beta thymocyte', 'CD8-positive, alpha-beta thymocyte', 'memory T cell', 'naive T cell', 'mature NK T cell', 'small pre-B-II cell', 'pro-B cell', 'B-1 B cell', 'B-1a B cell', 'B-1b B cell', 'B-2 B cell', 'immature natural killer cell', 'immature innate lymphoid cell', 'mature natural killer cell', 'lymphoid lineage restricted progenitor cell', 'hematopoietic multipotent progenitor cell', 'hematopoietic lineage restricted progenitor cell', 'common dendritic progenitor', 'mature conventional dendritic cell', 'follicular B cell', 'germinal center B cell', 'classical monocyte', 'elicited macrophage', 'inflammatory macrophage', 'non-classical monocyte', 'intermediate monocyte', 'meningeal macrophage', 'alternatively activated macrophage', 'early T lineage precursor', 'naive thymus-derived CD4-positive, alpha-beta T cell', 'CD4-positive, alpha-beta memory T cell', 'T-helper 17 cell', 'naive thymus-derived CD8-positive, alpha-beta T cell', 'natural T-regulatory cell', 'central memory CD4-positive, alpha-beta T cell', 'CD4-positive, alpha-beta memory T cell, CD45RO-positive', 'effector memory CD4-positive, alpha-beta T cell', 'central memory CD8-positive, alpha-beta T cell', 'CD8-positive, alpha-beta memory T cell, CD45RO-positive', 'CD8-positive, alpha-beta cytokine secreting effector T cell', 'CD8-positive, alpha-beta memory T cell', 'cytotoxic T cell', 'effector T cell', 'helper T cell', 'effector memory CD8-positive, alpha-beta T cell', 'immature NK T cell', 'CD8-alpha-alpha-positive, alpha-beta intraepithelial T cell', 'Tc1 cell', 'type I NK T cell', 'type II NK T cell', 'activated type II NK T cell', 'CD4-positive, alpha-beta cytotoxic T cell', 'early lymphoid progenitor', 'CD16-negative, CD56-bright natural killer cell, human', 'CD16-positive, CD56-dim natural killer cell, human', 'mucosal invariant T cell', 'long lived plasma cell', 'class switched memory B cell', 'large pre-B-II cell', 'pre-B-II cell', 'pre-B-I cell', 'unswitched memory B cell', 'IgG memory B cell', 'IgG plasmablast', 'IgA plasmablast', 'IgG plasma cell', 'IgM plasma cell', 'IgA plasma cell', 'hematopoietic oligopotent progenitor cell, lineage-negative', 'pre-conventional dendritic cell', 'CD11b-positive dendritic cell', 'CD34-positive, CD38-negative hematopoietic stem cell', 'CD115-positive monocyte OR common dendritic progenitor', 'CD115-positive monocyte', 'cerebellar granule cell', 'cerebellum glutamatergic neuron', 'cerebellar granule cell precursor', 'cerebral cortex neuron', 'T-helper 22 cell', 'activated CD4-positive, alpha-beta T cell, human', 'effector CD4-positive, alpha-beta T cell', 'naive regulatory T cell', 'memory regulatory T cell', 'activated CD8-positive, alpha-beta T cell, human', 'effector CD8-positive, alpha-beta T cell', 'CD14-positive monocyte', 'CD14-positive, CD16-positive monocyte', 'dendritic cell, human', 'myeloid dendritic cell, human', 'plasmacytoid dendritic cell, human', 'abnormal cell', 'effector memory CD8-positive, alpha-beta T cell, terminally differentiated', 'effector memory CD45RA-positive, alpha-beta T cell, terminally differentiated', 'neoplastic cell', 'malignant cell', 'innate lymphoid cell', 'erythroid progenitor cell, mammalian', 'ILC1', 'group 2 innate lymphoid cell', 'group 3 innate lymphoid cell', 'CD34-positive, CD56-positive, CD117-positive common innate lymphoid precursor, human', 'ILC1, human', 'group 3 innate lymphoid cell, human', 'NKp44-positive group 3 innate lymphoid cell, human', 'NKp44-negative group 3 innate lymphoid cell, human', 'group 2 innate lymphoid cell, human', 'lymphocyte of B lineage, CD19-positive', 'T follicular helper cell', 'fraction A pre-pro B cell', 'early pro-B cell', 'late pro-B cell', 'CD14-positive, CD16-negative classical monocyte', 'type I pneumocyte', 'type II pneumocyte', 'lung secretory cell', 'pancreatic acinar cell', 'pancreas exocrine glandular cell', 'enterocyte of epithelium of large intestine', 'epithelial cell of large intestine', 'brush cell of trachebronchial tree', 'brush cell', 'pancreatic ductal cell', 'epithelial cell of exocrine pancreas', 'interstitial cell of Cajal', 'bone marrow cell', 'interstitial cell of ovary', 'cortical cell of adrenal gland', 'adrenal gland glandular cell', 'regular cardiac myocyte', 'IgG-negative class switched memory B cell', 'regular atrial cardiac myocyte', 'regular ventricular cardiac myocyte', 'endothelial cell of lymphatic vessel', 'vascular lymphangioblast', 'epithelial cell of sweat gland', 'capillary endothelial cell', 'microvascular endothelial cell', 'ciliated columnar cell of tracheobronchial tree', 'multi-ciliated epithelial cell', 'respiratory ciliated cell', 'epithelial cell of uterus', 'endosteal cell', 'renal interstitial pericyte', 'epithelial cell of stomach', 'foveolar cell of stomach', 'basal cell of epidermis', 'stem cell of epidermis', 'glomerular endothelial cell', 'glomerular cell', 'granular cell of epidermis', 'epithelial cell of thyroid gland', 'renal beta-intercalated cell', 'renal intercalated cell', 'epithelial cell of lower respiratory tract', 'brush cell of epithelium proper of large intestine', 'intestinal tuft cell', 'brush cell of trachea', 'bronchial epithelial cell', 'epithelial cell of esophagus', 'vertebrate lens cell', 'anterior lens cell', 'lens epithelial cell', 'secondary lens fiber', 'lens fiber cell', 'lactocyte', 'epithelial cell of prostate', 'basal cell of prostate epithelium', 'luminal cell of prostate epithelium', 'basal epithelial cell of prostatic duct', 'pulmonary interstitial fibroblast', 'smooth muscle cell of sphincter of pupil', 'peripheral blood stem cell', 'intestinal crypt stem cell', 'epithelial cell of small intestine', 'stromal cell of endometrium', 'decidual cell', 'thyroid follicular cell', 'endothelial cell of sinusoid', 'enteroendocrine cell of colon', 'enteroendocrine cell of small intestine', 'P/D1 enteroendocrine cell', 'vasoactive intestinal peptide secreting cell', 'pancreatic PP cell', 'type I enteroendocrine cell', 'GIP cell', 'type L enteroendocrine cell', 'type N enteroendocrine cell', 'ghrelin secreting cell', 'epithelial cell of thymus', 'cortical thymic epithelial cell', 'medullary thymic epithelial cell', 'pigmented ciliary epithelial cell', 'non-pigmented ciliary epithelial cell', 'epithelial cell of distal tubule', 'nephron tubule epithelial cell', 'kidney cortex tubule cell', 'epithelial cell of proximal tubule', 'epithelial cell of skin gland', 'embryonic stem cell', 'myoepithelial cell of mammary gland', 'mammary gland epithelial cell', 'mammary gland glandular cell', 'luminal adaptive secretory precursor cell of mammary gland', 'luminal epithelial cell of mammary gland', 'progenitor cell of mammary luminal epithelium', 'basal epithelial cell of tracheobronchial tree', 'decidual natural killer cell, human', 'endocardial cell', 'cardiac endothelial cell', 'gestational hematopoietic stem cell', 'primitive red blood cell', 'primitive erythroid lineage cell', 'keratocyte', 'myometrial cell', 'uterine smooth muscle cell', 'respiratory epithelial cell', 'respiratory goblet cell', 'Schwann cell precursor', 'CD141-positive myeloid dendritic cell', 'Gr1-high classical monocyte', 'CD14-low, CD16-positive monocyte', 'CD1c-positive myeloid dendritic cell', 'pancreatic stellate cell', 'epidermal Langerhans cell', 'MHC-II-positive classical monocyte', 'nasal mucosa goblet cell', 'melanocyte of skin', 'hair follicle cell', 'trophoblast giant cell', 'fetal cardiomyocyte', 'adventitial cell', 'enteric smooth muscle cell', 'kidney epithelial cell', 'kidney cell', 'subcutaneous adipocyte', 'intrahepatic cholangiocyte', 'cholangiocyte', 'blood vessel smooth muscle cell', 'endothelial cell of artery', 'vein endothelial cell', 'fibroblast of cardiac tissue', 'skin fibroblast', 'fibroblast of lung', 'fibroblast of mammary gland', 'placental epithelial cell', 'fibroblast of breast', 'renal cortical epithelial cell', 'kidney cortical cell', 'retinal blood vessel endothelial cell', 'retinal pigment epithelial cell', 'smooth muscle cell of the pulmonary artery', 'bladder cell', 'bronchial smooth muscle cell', 'tracheobronchial smooth muscle cell', 'brain macroglial cell', 'astrocyte of the cerebral cortex', 'cerebral cortex glial cell', 'migratory enteric neural crest cell', 'adipocyte of breast', 'prostate stromal cell', 'acinar cell of salivary gland', 'salivary gland glandular cell', 'immature astrocyte', 'mature astrocyte', 'mature microglial cell', 'respiratory basal cell', 'glandular cell of esophagus', 'endothelial cell of venule', 'glandular cell of the large intestine', 'tongue muscle cell', 'intestinal enteroendocrine cell', 'S cone cell', 'H1 horizontal cell', 'H2 horizontal cell', 'glycinergic amacrine cell', 'starburst amacrine cell', 'GABAergic amacrine cell', 'ionocyte', 'renal principal cell', 'epithelial cell of nephron', 'renal alpha-intercalated cell', 'pancreatic epsilon cell', 'lymphangioblast', 'mesenchymal lymphangioblast', 'visceromotor neuron', 'enteric neuron', 'skeletal muscle satellite stem cell', 'inhibitory motor neuron', 'cortical interneuron', 'cerebral cortex GABAergic interneuron', 'extravillous trophoblast', 'primary motor cortex pyramidal cell', 'L5 extratelencephalic projecting glutamatergic cortical neuron', 'inflammatory cell', 'salivary gland cell', 'small intestine glandular cell', 'paneth cell of colon', 'colon glandular cell', 'transit amplifying cell', 'transit amplifying cell of colon', 'transit amplifying cell of small intestine', 'intestinal crypt stem cell of large intestine', 'intestinal crypt stem cell of small intestine', 'colon epithelial cell', 'colon macrophage', 'colon goblet cell', 'large intestine goblet cell', 'tuft cell of colon', 'intestinal crypt stem cell of colon', 'lung pericyte', 'endothelial cell of placenta', 'endothelial cell of uterus', 'fibro/adipogenic progenitor cell', 'centrocyte', 'centroblast', 'T follicular regulatory cell', 'hair follicular keratinocyte', 'cardiac neuron', 'mesothelial cell of epicardium', 'double negative T regulatory cell', 'exhausted T cell', 'skeletal muscle fibroblast', 'muscle fibroblast', 'monocyte-derived dendritic cell', 'chorionic trophoblast cell', 'sympathetic neuron', 'forebrain radial glial cell', 'pulmonary ionocyte', 'epithelial cell of urethra', 'hillock cell', 'tracheobronchial serous cell', 'tracheobronchial goblet cell', 'endothelial cell of periportal hepatic sinusoid', 'endothelial cell of hepatic sinusoid', 'endothelial cell of pericentral hepatic sinusoid', 'periportal region hepatocyte', 'midzonal region hepatocyte', 'centrilobular region hepatocyte', 'intestine goblet cell', 'kidney tubule cell', 'forebrain neuroblast', 'lung goblet cell', 'lung neuroendocrine cell', 'lung ciliated cell', 'smooth muscle cell of small intestine', 'smooth muscle fiber of ileum', 'urethra cell', 'fibroblast of connective tissue of nonglandular part of prostate', 'fibroblast of connective tissue of glandular part of prostate', 'epicardial adipocyte', 'adipocyte of epicardial fat of left ventricle', 'bronchial goblet cell', 'small intestine goblet cell', 'intestinal villus goblet cell', 'duodenum glandular cell', 'ileal goblet cell', 'tracheal goblet cell', 'serous cell of epithelium of trachea', 'serous cell of epithelium of bronchus', 'enterocyte of epithelium of small intestine', 'enterocyte of epithelium proper of small intestine', 'enterocyte of epithelium proper of ileum', 'paneth cell of epithelium of small intestine', 'enterocyte of colon', 'basal cell of epithelium of trachea', 'microfold cell of epithelium of small intestine', 'ventricular cardiac muscle cell', 'conjunctival epithelial cell', 'epithelial cell of lacrimal drainage system', 'epithelial cell of lacrimal sac', 'epithelial cell of nasolacrimal duct', 'bladder urothelial cell', 'ciliary muscle cell', 'epithelial cell of stratum germinativum of esophagus', 'kidney glomerular epithelial cell', 'parietal epithelial cell', 'epithelial cell of intermediate tubule', 'kidney loop of Henle epithelial cell', 'kidney collecting duct epithelial cell', 'kidney collecting duct cell', 'smooth muscle cell of prostate', 'mesothelial cell of pleura', 'kidney interstitial cell', 'kidney medulla cell', 'kidney pelvis cell', 'kidney inner medulla cell', 'kidney outer medulla cell', 'papillary tips cell', 'lower urinary tract cell', 'kidney corpuscule cell', 'kidney interstitial fibroblast', 'kidney interstitial alternatively activated macrophage', 'kidney resident macrophage', 'kidney pelvis urothelial cell', 'kidney collecting duct principal cell', 'kidney collecting duct intercalated cell', 'kidney connecting tubule epithelial cell', 'kidney loop of Henle descending limb epithelial cell', 'kidney distal convoluted tubule epithelial cell', 'kidney blood vessel cell', 'kidney capillary endothelial cell', 'kidney venous blood vessel cell', 'glomerular capillary endothelial cell', 'kidney loop of Henle ascending limb epithelial cell', 'vasa recta cell', 'kidney loop of Henle thick ascending limb epithelial cell', 'kidney loop of Henle thin ascending limb epithelial cell', 'kidney loop of Henle thin descending limb epithelial cell', 'vasa recta ascending limb cell', 'vasa recta descending limb cell', 'medium spiny neuron', 'glycinergic neuron', 'lung endothelial cell', 'pulmonary artery endothelial cell', 'cerebral cortex pyramidal neuron', 'cerebral cortex endothelial cell', 'peripheral blood mononuclear cell', 'tonsil germinal center B cell', 'dermis lymphatic vessel endothelial cell', 'lung microvascular endothelial cell', 'dermis microvascular lymphatic vessel endothelial cell', 'embryonic fibroblast', 'brainstem motor neuron', 'hepatic pit cell', 'liver dendritic cell', 'prostate gland microvascular endothelial cell', 'placental villous trophoblast', 'bronchus fibroblast of lung', 'cord blood hematopoietic stem cell', 'Hofbauer cell', 'vip GABAergic cortical interneuron', 'intratelencephalic-projecting glutamatergic cortical neuron', 'extratelencephalic-projecting glutamatergic cortical neuron', 'lamp5 GABAergic cortical interneuron', 'near-projecting glutamatergic cortical neuron', 'corticothalamic-projecting glutamatergic cortical neuron', 'sncg GABAergic cortical interneuron', 'sst GABAergic cortical interneuron', 'pvalb GABAergic cortical interneuron', 'sst chodl GABAergic cortical interneuron', 'direct pathway medium spiny neuron', 'indirect pathway medium spiny neuron', 'chandelier pvalb GABAergic cortical interneuron', 'chandelier cell', 'L6b glutamatergic cortical neuron', 'L2/3-6 intratelencephalic projecting glutamatergic neuron', 'L6 corticothalamic-projecting glutamatergic cortical neuron', 'L5/6 near-projecting glutamatergic neuron of the primary motor cortex', 'L5/6 near-projecting glutamatergic neuron', 'L2/3 intratelencephalic projecting glutamatergic neuron', 'L6 intratelencephalic projecting glutamatergic neuron of the primary motor cortex', 'L6 intratelencephalic projecting glutamatergic neuron', 'vascular leptomeningeal cell', 'mesothelial fibroblast of the leptomeninx', 'mesothelial fibroblast', 'differentiation-committed oligodendrocyte precursor', 'caudal ganglionic eminence derived interneuron', 'caudal ganglionic eminence derived GABAergic cortical interneuron', 'brain vascular cell', 'unipolar brush cell', 'midget ganglion cell of retina', 'parasol ganglion cell of retina', 'alveolar type 1 fibroblast cell', 'alveolar type 2 fibroblast cell', 'epithelial cell of proximal tubule segment 1', 'epithelial cell of proximal tubule segment 3', 'kidney connecting tubule principal cell', 'respiratory hillock cell', 'BEST4+ intestinal epithelial cell, human', 'L4 intratelencephalic projecting glutamatergic neuron', 'serous secreting cell of bronchus submucosal gland', 'suprabasal keratinocyte', 'retinal astrocyte', 'ON-blue cone bipolar cell', 'airway submucosal gland duct basal cell', 'perichondrial fibroblast', 'lung perichondrial fibroblast', 'diffuse bipolar 1 cell', 'diffuse bipolar 2 cell', 'diffuse bipolar 3a cell', 'diffuse bipolar 3b cell', 'diffuse bipolar 4 cell', 'diffuse bipolar 6 cell', 'flat midget bipolar cell', 'invaginating midget bipolar cell', 'giant bipolar cell', 'OFFx cell', 'lung resident memory CD4-positive, alpha-beta T cell', 'lung resident memory CD8-positive, alpha-beta T cell', 'metallothionein-positive alveolar macrophage', 'lung interstitial macrophage', 'deuterosomal cell', 'respiratory suprabasal cell', 'luminal hormone-sensing cell of mammary gland']\n",
      "dict_keys(['all_ancestors', 'all_descendants', 'hop_0', 'hop_1', 'hop_2', 'hop_3'])\n"
     ]
    }
   ],
   "source": [
    "print(cell_type_benchmarking.keys())\n",
    "print(cell_type_names[0], cell_type_labels[0])\n",
    "print(cell_type_labels)\n",
    "\n",
    "cl_name2label['CL:0000540']\n",
    "\n",
    "print(cell_type_benchmarking['CL:0000101'].keys())"
   ]
  },
  {
   "cell_type": "code",
   "execution_count": 23,
   "metadata": {},
   "outputs": [],
   "source": [
    "cell_type_embedding = ctx.gpt_pipeline.model.metadata_embedding.E['cell_type'].weight.cpu().detach().numpy()\n",
    "cell_type_embedding.shape\n",
    "\n",
    "cell_type_embedding = cell_type_embedding[:len(cell_type_labels),:]"
   ]
  },
  {
   "cell_type": "code",
   "execution_count": 5,
   "metadata": {},
   "outputs": [],
   "source": [
    "# np.save('/u/mallina1/cell_type_embedding.npy', cell_type_embedding)\n",
    "\n",
    "# Prep for CSV data format that is used in Poincare VAE codebase\n",
    "header = [f'feature_{idx}' for idx in range(512)] + ['cell_type_idx']\n",
    "header = ','.join(header)\n",
    "np.savetxt('/u/mallina1/cell_type_embedding.csv',\n",
    "           np.concatenate((cell_type_embedding, np.arange(cell_type_embedding.shape[0]).reshape(-1, 1)), axis=1), \n",
    "           delimiter=',',\n",
    "           header=header,\n",
    "           comments=\"\")"
   ]
  },
  {
   "cell_type": "code",
   "execution_count": 6,
   "metadata": {},
   "outputs": [],
   "source": [
    "pca = PCA(n_components=2)\n",
    "X_ct_pca = pca.fit_transform(cell_type_embedding)"
   ]
  },
  {
   "cell_type": "code",
   "execution_count": 42,
   "metadata": {},
   "outputs": [
    {
     "data": {
      "application/vnd.plotly.v1+json": {
       "config": {
        "plotlyServerURL": "https://plot.ly"
       },
       "data": [
        {
         "customdata": [
          [
           "neuron"
          ],
          [
           "sensory neuron"
          ],
          [
           "primary cultured cell"
          ],
          [
           "cultured cell"
          ],
          [
           "fibroblast neural crest derived"
          ],
          [
           "migratory neural crest cell"
          ],
          [
           "fibroblast"
          ],
          [
           "neuronal receptor cell"
          ],
          [
           "sensory receptor cell"
          ],
          [
           "embryonic cell (metazoa)"
          ],
          [
           "experimentally modified cell in vitro"
          ],
          [
           "germ line cell"
          ],
          [
           "stem cell"
          ],
          [
           "male germ cell"
          ],
          [
           "germ cell"
          ],
          [
           "haploid cell"
          ],
          [
           "sperm"
          ],
          [
           "male gamete"
          ],
          [
           "primordial germ cell"
          ],
          [
           "polyploid cell"
          ],
          [
           "smooth muscle cell"
          ],
          [
           "neural crest derived neuron"
          ],
          [
           "glioblast"
          ],
          [
           "non-terminally differentiated cell"
          ],
          [
           "neuroblast (sensu Vertebrata)"
          ],
          [
           "surface ectodermal cell"
          ],
          [
           "exocrine cell"
          ],
          [
           "precursor cell"
          ],
          [
           "single fate stem cell"
          ],
          [
           "somatic stem cell"
          ],
          [
           "epithelial fate stem cell"
          ],
          [
           "hematopoietic stem cell"
          ],
          [
           "hematopoietic cell"
          ],
          [
           "hematopoietic precursor cell"
          ],
          [
           "progenitor cell"
          ],
          [
           "erythroid progenitor cell"
          ],
          [
           "erythroid lineage cell"
          ],
          [
           "myeloid lineage restricted progenitor cell"
          ],
          [
           "megakaryocyte-erythroid progenitor cell"
          ],
          [
           "monopoietic cell"
          ],
          [
           "myeloid cell"
          ],
          [
           "macrophage dendritic cell progenitor"
          ],
          [
           "eosinophil"
          ],
          [
           "professional antigen presenting cell"
          ],
          [
           "neutrophil progenitor cell"
          ],
          [
           "basophil"
          ],
          [
           "histamine secreting cell"
          ],
          [
           "common lymphoid progenitor"
          ],
          [
           "neural cell"
          ],
          [
           "multi fate stem cell"
          ],
          [
           "common myeloid progenitor"
          ],
          [
           "hematopoietic oligopotent progenitor cell"
          ],
          [
           "granulocyte monocyte progenitor cell"
          ],
          [
           "secretory cell"
          ],
          [
           "myoblast"
          ],
          [
           "muscle precursor cell"
          ],
          [
           "connective tissue cell"
          ],
          [
           "mesenchymal stem cell"
          ],
          [
           "ecto-epithelial cell"
          ],
          [
           "neurecto-epithelial cell"
          ],
          [
           "osteoblast"
          ],
          [
           "preosteoblast"
          ],
          [
           "ciliated cell"
          ],
          [
           "ependymal cell"
          ],
          [
           "ciliated epithelial cell"
          ],
          [
           "epithelial cell"
          ],
          [
           "leukocyte"
          ],
          [
           "duct epithelial cell"
          ],
          [
           "branched duct epithelial cell"
          ],
          [
           "blood vessel endothelial cell"
          ],
          [
           "squamous epithelial cell"
          ],
          [
           "endothelial cell of vascular tree"
          ],
          [
           "non-branched duct epithelial cell"
          ],
          [
           "meso-epithelial cell"
          ],
          [
           "barrier cell"
          ],
          [
           "columnar/cuboidal epithelial cell"
          ],
          [
           "mesothelial cell"
          ],
          [
           "lining cell"
          ],
          [
           "stratified epithelial cell"
          ],
          [
           "circulating cell"
          ],
          [
           "blood cell"
          ],
          [
           "epithelial cell of lung"
          ],
          [
           "epithelial cell of pancreas"
          ],
          [
           "T cell"
          ],
          [
           "lymphocyte"
          ],
          [
           "pro-T cell"
          ],
          [
           "lymphocyte of B lineage"
          ],
          [
           "Kupffer cell"
          ],
          [
           "tissue-resident macrophage"
          ],
          [
           "osteoclast"
          ],
          [
           "myeloid leukocyte"
          ],
          [
           "phagocyte (sensu Vertebrata)"
          ],
          [
           "bone cell"
          ],
          [
           "monocyte"
          ],
          [
           "granulocyte"
          ],
          [
           "neuron associated cell"
          ],
          [
           "neutrophil"
          ],
          [
           "phagocyte"
          ],
          [
           "mast cell"
          ],
          [
           "sensory epithelial cell"
          ],
          [
           "interneuron"
          ],
          [
           "motor neuron"
          ],
          [
           "efferent neuron"
          ],
          [
           "afferent neuron"
          ],
          [
           "bipolar neuron"
          ],
          [
           "multipolar neuron"
          ],
          [
           "autonomic neuron"
          ],
          [
           "peripheral nervous system neuron"
          ],
          [
           "cholinergic neuron"
          ],
          [
           "catecholaminergic neuron"
          ],
          [
           "mononuclear phagocyte"
          ],
          [
           "mononuclear cell"
          ],
          [
           "ectodermal cell"
          ],
          [
           "endothelial cell"
          ],
          [
           "CNS neuron (sensu Vertebrata)"
          ],
          [
           "GABAergic interneuron"
          ],
          [
           "granule cell"
          ],
          [
           "Purkinje cell"
          ],
          [
           "cerebellar neuron"
          ],
          [
           "stellate neuron"
          ],
          [
           "neuron associated cell (sensu Vertebrata)"
          ],
          [
           "glial cell"
          ],
          [
           "macroglial cell"
          ],
          [
           "astrocyte"
          ],
          [
           "oligodendrocyte"
          ],
          [
           "myelinating glial cell"
          ],
          [
           "oligodendrocyte precursor cell"
          ],
          [
           "microglial cell"
          ],
          [
           "central nervous system macrophage"
          ],
          [
           "mesodermal cell"
          ],
          [
           "gut endothelial cell"
          ],
          [
           "corneal endothelial cell"
          ],
          [
           "fibrocyte"
          ],
          [
           "stromal cell"
          ],
          [
           "adipocyte"
          ],
          [
           "stuff accumulating cell"
          ],
          [
           "chondrocyte"
          ],
          [
           "glycosaminoglycan secreting cell"
          ],
          [
           "collagen secreting cell"
          ],
          [
           "pigment cell"
          ],
          [
           "melanocyte"
          ],
          [
           "visual pigment cell"
          ],
          [
           "glandular epithelial cell"
          ],
          [
           "extracellular matrix secreting cell"
          ],
          [
           "carbohydrate secreting cell"
          ],
          [
           "protein secreting cell"
          ],
          [
           "peptic cell"
          ],
          [
           "glandular cell of stomach"
          ],
          [
           "surfactant secreting cell"
          ],
          [
           "club cell"
          ],
          [
           "epithelial cell of tracheobronchial tree"
          ],
          [
           "seromucus secreting cell"
          ],
          [
           "goblet cell"
          ],
          [
           "mucus secreting cell"
          ],
          [
           "parietal cell"
          ],
          [
           "endocrine cell"
          ],
          [
           "enteroendocrine cell"
          ],
          [
           "neuroendocrine cell"
          ],
          [
           "chromaffin cell"
          ],
          [
           "amine precursor uptake and decarboxylation cell"
          ],
          [
           "peptide hormone secreting cell"
          ],
          [
           "insulin secreting cell"
          ],
          [
           "type B pancreatic cell"
          ],
          [
           "pancreatic endocrine cell"
          ],
          [
           "progenitor cell of endocrine pancreas"
          ],
          [
           "glucagon secreting cell"
          ],
          [
           "pancreatic A cell"
          ],
          [
           "type A enteroendocrine cell"
          ],
          [
           "somatostatin secreting cell"
          ],
          [
           "pancreatic D cell"
          ],
          [
           "type D enteroendocrine cell"
          ],
          [
           "steroid hormone secreting cell"
          ],
          [
           "stromal cell of ovary"
          ],
          [
           "testosterone secreting cell"
          ],
          [
           "Leydig cell"
          ],
          [
           "interstitial cell"
          ],
          [
           "hepatocyte"
          ],
          [
           "endopolyploid cell"
          ],
          [
           "hepatoblast"
          ],
          [
           "contractile cell"
          ],
          [
           "pericyte"
          ],
          [
           "myoepithelial cell"
          ],
          [
           "myofibroblast cell"
          ],
          [
           "muscle cell"
          ],
          [
           "electrically responsive cell"
          ],
          [
           "cell of skeletal muscle"
          ],
          [
           "slow muscle cell"
          ],
          [
           "extrafusal muscle fiber"
          ],
          [
           "fast muscle cell"
          ],
          [
           "non-striated muscle cell"
          ],
          [
           "visceral muscle cell"
          ],
          [
           "smooth muscle myoblast"
          ],
          [
           "cardiac muscle cell"
          ],
          [
           "chemoreceptor cell"
          ],
          [
           "taste receptor cell"
          ],
          [
           "endo-epithelial cell"
          ],
          [
           "photoreceptor cell"
          ],
          [
           "electrically active cell"
          ],
          [
           "Sertoli cell"
          ],
          [
           "supporting cell"
          ],
          [
           "androgen binding protein secreting cell"
          ],
          [
           "seminiferous tubule epithelial cell"
          ],
          [
           "insulating cell"
          ],
          [
           "myelinating Schwann cell"
          ],
          [
           "Schwann cell"
          ],
          [
           "immature Schwann cell"
          ],
          [
           "motile cell"
          ],
          [
           "anucleate cell"
          ],
          [
           "nucleate cell"
          ],
          [
           "single nucleate cell"
          ],
          [
           "multinucleate cell"
          ],
          [
           "erythrocyte"
          ],
          [
           "oxygen accumulating cell"
          ],
          [
           "reticulocyte"
          ],
          [
           "platelet"
          ],
          [
           "serotonin secreting cell"
          ],
          [
           "megakaryocyte"
          ],
          [
           "defensive cell"
          ],
          [
           "macrophage"
          ],
          [
           "B cell"
          ],
          [
           "keratinizing barrier epithelial cell"
          ],
          [
           "stratified squamous epithelial cell"
          ],
          [
           "keratin accumulating cell"
          ],
          [
           "brush border epithelial cell"
          ],
          [
           "Merkel cell"
          ],
          [
           "keratinocyte"
          ],
          [
           "transitional epithelial cell"
          ],
          [
           "primary sensory neuron (sensu Teleostei)"
          ],
          [
           "eurydendroid cell"
          ],
          [
           "eye photoreceptor cell"
          ],
          [
           "gamete"
          ],
          [
           "crystallin accumulating cell"
          ],
          [
           "tracheal epithelial cell"
          ],
          [
           "epidermal cell"
          ],
          [
           "serous secreting cell"
          ],
          [
           "milk secreting cell"
          ],
          [
           "sebum secreting cell"
          ],
          [
           "sebaceous gland cell"
          ],
          [
           "pneumocyte"
          ],
          [
           "epithelial cell of alveolus of lung"
          ],
          [
           "lysozyme secreting cell"
          ],
          [
           "neural crest cell"
          ],
          [
           "mesenchymal cell"
          ],
          [
           "biogenic amine secreting cell"
          ],
          [
           "extraembryonic cell"
          ],
          [
           "trophoblast cell"
          ],
          [
           "sphincter associated smooth muscle cell"
          ],
          [
           "vascular associated smooth muscle cell"
          ],
          [
           "perivascular cell"
          ],
          [
           "general ecto-epithelial cell"
          ],
          [
           "myotube"
          ],
          [
           "attachment cell"
          ],
          [
           "tendon cell"
          ],
          [
           "ganglion interneuron"
          ],
          [
           "CNS interneuron"
          ],
          [
           "central nervous system neuron"
          ],
          [
           "electrically signaling cell"
          ],
          [
           "excretory cell"
          ],
          [
           "reticular cell"
          ],
          [
           "follicular dendritic cell"
          ],
          [
           "striated muscle cell"
          ],
          [
           "preadipocyte"
          ],
          [
           "dendritic cell"
          ],
          [
           "Langerhans cell"
          ],
          [
           "conventional dendritic cell"
          ],
          [
           "noradrenergic cell"
          ],
          [
           "cardiac myoblast"
          ],
          [
           "neural progenitor cell"
          ],
          [
           "follicular epithelial cell"
          ],
          [
           "ovarian surface epithelial cell"
          ],
          [
           "CD4-positive helper T cell"
          ],
          [
           "CD4-positive, alpha-beta T cell"
          ],
          [
           "activated CD4-positive, alpha-beta T cell"
          ],
          [
           "inhibitory interneuron"
          ],
          [
           "granulosa cell"
          ],
          [
           "follicular cell of ovary"
          ],
          [
           "theca cell"
          ],
          [
           "androgen secreting cell"
          ],
          [
           "enkephalin secreting cell"
          ],
          [
           "endorphin secreting cell"
          ],
          [
           "type G enteroendocrine cell"
          ],
          [
           "gastrin secreting cell"
          ],
          [
           "mucous cell of stomach"
          ],
          [
           "paneth cell"
          ],
          [
           "intestinal epithelial cell"
          ],
          [
           "paracrine cell"
          ],
          [
           "cardiac muscle myoblast"
          ],
          [
           "cardiocyte"
          ],
          [
           "skeletal muscle fiber"
          ],
          [
           "syncytiotrophoblast cell"
          ],
          [
           "pigmented epithelial cell"
          ],
          [
           "primary neuron (sensu Teleostei)"
          ],
          [
           "T-helper 1 cell"
          ],
          [
           "T-helper 2 cell"
          ],
          [
           "CD4-positive, CXCR3-negative, CCR6-negative, alpha-beta T cell"
          ],
          [
           "proerythroblast"
          ],
          [
           "erythroblast"
          ],
          [
           "neuronal brush cell"
          ],
          [
           "CD7-negative lymphoid progenitor OR granulocyte monocyte progenitor"
          ],
          [
           "bone marrow hematopoietic cell"
          ],
          [
           "promonocyte"
          ],
          [
           "amacrine cell"
          ],
          [
           "retinal cell"
          ],
          [
           "retinal ganglion cell"
          ],
          [
           "promyelocyte"
          ],
          [
           "cardiac mesenchymal cell"
          ],
          [
           "migratory cardiac neural crest cell"
          ],
          [
           "retinal cone cell"
          ],
          [
           "camera-type eye photoreceptor cell"
          ],
          [
           "corneal epithelial cell"
          ],
          [
           "type EC enteroendocrine cell"
          ],
          [
           "epithelial cell of alimentary canal"
          ],
          [
           "cell in vitro"
          ],
          [
           "immature neutrophil"
          ],
          [
           "myelocyte"
          ],
          [
           "alveolar macrophage"
          ],
          [
           "lung macrophage"
          ],
          [
           "enterocyte"
          ],
          [
           "gut absorptive cell"
          ],
          [
           "skeletal muscle satellite cell"
          ],
          [
           "enucleate erythrocyte"
          ],
          [
           "enucleated reticulocyte"
          ],
          [
           "pyramidal neuron"
          ],
          [
           "retinal rod cell"
          ],
          [
           "granulocytopoietic cell"
          ],
          [
           "basophil mast progenitor cell"
          ],
          [
           "GABAergic neuron"
          ],
          [
           "acinar cell"
          ],
          [
           "natural killer cell"
          ],
          [
           "group 1 innate lymphoid cell"
          ],
          [
           "mature alpha-beta T cell"
          ],
          [
           "CD8-positive, alpha-beta T cell"
          ],
          [
           "transporting cell"
          ],
          [
           "hepatic stellate cell"
          ],
          [
           "Mueller cell"
          ],
          [
           "radial glial cell"
          ],
          [
           "Bergmann glial cell"
          ],
          [
           "astrocyte of the forebrain"
          ],
          [
           "basal cell"
          ],
          [
           "prickle cell"
          ],
          [
           "mesangial cell"
          ],
          [
           "mucous neck cell"
          ],
          [
           "podocyte"
          ],
          [
           "renal filtration cell"
          ],
          [
           "epithelial cell of glomerular capsule"
          ],
          [
           "fenestrated cell"
          ],
          [
           "mural cell"
          ],
          [
           "glutamatergic neuron"
          ],
          [
           "M cell of gut"
          ],
          [
           "non-myelinating Schwann cell"
          ],
          [
           "Cajal-Retzius cell"
          ],
          [
           "PP cell"
          ],
          [
           "dopaminergic neuron"
          ],
          [
           "endothelial tip cell"
          ],
          [
           "choroid plexus epithelial cell"
          ],
          [
           "urothelial cell"
          ],
          [
           "retina horizontal cell"
          ],
          [
           "retinal bipolar neuron"
          ],
          [
           "visual system neuron"
          ],
          [
           "ON-bipolar cell"
          ],
          [
           "OFF-bipolar cell"
          ],
          [
           "rod bipolar cell"
          ],
          [
           "cone retinal bipolar cell"
          ],
          [
           "myeloid dendritic cell"
          ],
          [
           "plasmacytoid dendritic cell"
          ],
          [
           "mature B cell"
          ],
          [
           "B cell, CD19-positive"
          ],
          [
           "transitional stage B cell"
          ],
          [
           "immature B cell"
          ],
          [
           "precursor B cell"
          ],
          [
           "plasma cell"
          ],
          [
           "antibody secreting cell"
          ],
          [
           "plasmablast"
          ],
          [
           "memory B cell"
          ],
          [
           "naive B cell"
          ],
          [
           "alpha-beta T cell"
          ],
          [
           "gamma-delta T cell"
          ],
          [
           "immature alpha-beta T cell"
          ],
          [
           "immature T cell"
          ],
          [
           "mature T cell"
          ],
          [
           "CD4-positive, CD25-positive, alpha-beta regulatory T cell"
          ],
          [
           "regulatory T cell"
          ],
          [
           "alpha-beta intraepithelial T cell"
          ],
          [
           "CD4-positive, alpha-beta thymocyte"
          ],
          [
           "CD8-positive, alpha-beta cytotoxic T cell"
          ],
          [
           "activated CD8-positive, alpha-beta T cell"
          ],
          [
           "CD8-alpha-beta-positive, alpha-beta intraepithelial T cell"
          ],
          [
           "intraepithelial lymphocyte"
          ],
          [
           "DN3 thymocyte"
          ],
          [
           "mature gamma-delta T cell"
          ],
          [
           "gamma-delta intraepithelial T cell"
          ],
          [
           "CD8-alpha alpha positive, gamma-delta intraepithelial T cell"
          ],
          [
           "thymocyte"
          ],
          [
           "DN4 thymocyte"
          ],
          [
           "double negative thymocyte"
          ],
          [
           "DN1 thymic pro-T cell"
          ],
          [
           "double-positive, alpha-beta thymocyte"
          ],
          [
           "CD8-positive, alpha-beta thymocyte"
          ],
          [
           "memory T cell"
          ],
          [
           "naive T cell"
          ],
          [
           "mature NK T cell"
          ],
          [
           "small pre-B-II cell"
          ],
          [
           "pro-B cell"
          ],
          [
           "B-1 B cell"
          ],
          [
           "B-1a B cell"
          ],
          [
           "B-1b B cell"
          ],
          [
           "B-2 B cell"
          ],
          [
           "immature natural killer cell"
          ],
          [
           "immature innate lymphoid cell"
          ],
          [
           "mature natural killer cell"
          ],
          [
           "lymphoid lineage restricted progenitor cell"
          ],
          [
           "hematopoietic multipotent progenitor cell"
          ],
          [
           "hematopoietic lineage restricted progenitor cell"
          ],
          [
           "common dendritic progenitor"
          ],
          [
           "mature conventional dendritic cell"
          ],
          [
           "follicular B cell"
          ],
          [
           "germinal center B cell"
          ],
          [
           "classical monocyte"
          ],
          [
           "elicited macrophage"
          ],
          [
           "inflammatory macrophage"
          ],
          [
           "non-classical monocyte"
          ],
          [
           "intermediate monocyte"
          ],
          [
           "meningeal macrophage"
          ],
          [
           "alternatively activated macrophage"
          ],
          [
           "early T lineage precursor"
          ],
          [
           "naive thymus-derived CD4-positive, alpha-beta T cell"
          ],
          [
           "CD4-positive, alpha-beta memory T cell"
          ],
          [
           "T-helper 17 cell"
          ],
          [
           "naive thymus-derived CD8-positive, alpha-beta T cell"
          ],
          [
           "natural T-regulatory cell"
          ],
          [
           "central memory CD4-positive, alpha-beta T cell"
          ],
          [
           "CD4-positive, alpha-beta memory T cell, CD45RO-positive"
          ],
          [
           "effector memory CD4-positive, alpha-beta T cell"
          ],
          [
           "central memory CD8-positive, alpha-beta T cell"
          ],
          [
           "CD8-positive, alpha-beta memory T cell, CD45RO-positive"
          ],
          [
           "CD8-positive, alpha-beta cytokine secreting effector T cell"
          ],
          [
           "CD8-positive, alpha-beta memory T cell"
          ],
          [
           "cytotoxic T cell"
          ],
          [
           "effector T cell"
          ],
          [
           "helper T cell"
          ],
          [
           "effector memory CD8-positive, alpha-beta T cell"
          ],
          [
           "immature NK T cell"
          ],
          [
           "CD8-alpha-alpha-positive, alpha-beta intraepithelial T cell"
          ],
          [
           "Tc1 cell"
          ],
          [
           "type I NK T cell"
          ],
          [
           "type II NK T cell"
          ],
          [
           "activated type II NK T cell"
          ],
          [
           "CD4-positive, alpha-beta cytotoxic T cell"
          ],
          [
           "early lymphoid progenitor"
          ],
          [
           "CD16-negative, CD56-bright natural killer cell, human"
          ],
          [
           "CD16-positive, CD56-dim natural killer cell, human"
          ],
          [
           "mucosal invariant T cell"
          ],
          [
           "long lived plasma cell"
          ],
          [
           "class switched memory B cell"
          ],
          [
           "large pre-B-II cell"
          ],
          [
           "pre-B-II cell"
          ],
          [
           "pre-B-I cell"
          ],
          [
           "unswitched memory B cell"
          ],
          [
           "IgG memory B cell"
          ],
          [
           "IgG plasmablast"
          ],
          [
           "IgA plasmablast"
          ],
          [
           "IgG plasma cell"
          ],
          [
           "IgM plasma cell"
          ],
          [
           "IgA plasma cell"
          ],
          [
           "hematopoietic oligopotent progenitor cell, lineage-negative"
          ],
          [
           "pre-conventional dendritic cell"
          ],
          [
           "CD11b-positive dendritic cell"
          ],
          [
           "CD34-positive, CD38-negative hematopoietic stem cell"
          ],
          [
           "CD115-positive monocyte OR common dendritic progenitor"
          ],
          [
           "CD115-positive monocyte"
          ],
          [
           "cerebellar granule cell"
          ],
          [
           "cerebellum glutamatergic neuron"
          ],
          [
           "cerebellar granule cell precursor"
          ],
          [
           "cerebral cortex neuron"
          ],
          [
           "T-helper 22 cell"
          ],
          [
           "activated CD4-positive, alpha-beta T cell, human"
          ],
          [
           "effector CD4-positive, alpha-beta T cell"
          ],
          [
           "naive regulatory T cell"
          ],
          [
           "memory regulatory T cell"
          ],
          [
           "activated CD8-positive, alpha-beta T cell, human"
          ],
          [
           "effector CD8-positive, alpha-beta T cell"
          ],
          [
           "CD14-positive monocyte"
          ],
          [
           "CD14-positive, CD16-positive monocyte"
          ],
          [
           "dendritic cell, human"
          ],
          [
           "myeloid dendritic cell, human"
          ],
          [
           "plasmacytoid dendritic cell, human"
          ],
          [
           "abnormal cell"
          ],
          [
           "effector memory CD8-positive, alpha-beta T cell, terminally differentiated"
          ],
          [
           "effector memory CD45RA-positive, alpha-beta T cell, terminally differentiated"
          ],
          [
           "neoplastic cell"
          ],
          [
           "malignant cell"
          ],
          [
           "innate lymphoid cell"
          ],
          [
           "erythroid progenitor cell, mammalian"
          ],
          [
           "ILC1"
          ],
          [
           "group 2 innate lymphoid cell"
          ],
          [
           "group 3 innate lymphoid cell"
          ],
          [
           "CD34-positive, CD56-positive, CD117-positive common innate lymphoid precursor, human"
          ],
          [
           "ILC1, human"
          ],
          [
           "group 3 innate lymphoid cell, human"
          ],
          [
           "NKp44-positive group 3 innate lymphoid cell, human"
          ],
          [
           "NKp44-negative group 3 innate lymphoid cell, human"
          ],
          [
           "group 2 innate lymphoid cell, human"
          ],
          [
           "lymphocyte of B lineage, CD19-positive"
          ],
          [
           "T follicular helper cell"
          ],
          [
           "fraction A pre-pro B cell"
          ],
          [
           "early pro-B cell"
          ],
          [
           "late pro-B cell"
          ],
          [
           "CD14-positive, CD16-negative classical monocyte"
          ],
          [
           "type I pneumocyte"
          ],
          [
           "type II pneumocyte"
          ],
          [
           "lung secretory cell"
          ],
          [
           "pancreatic acinar cell"
          ],
          [
           "pancreas exocrine glandular cell"
          ],
          [
           "enterocyte of epithelium of large intestine"
          ],
          [
           "epithelial cell of large intestine"
          ],
          [
           "brush cell of trachebronchial tree"
          ],
          [
           "brush cell"
          ],
          [
           "pancreatic ductal cell"
          ],
          [
           "epithelial cell of exocrine pancreas"
          ],
          [
           "interstitial cell of Cajal"
          ],
          [
           "bone marrow cell"
          ],
          [
           "interstitial cell of ovary"
          ],
          [
           "cortical cell of adrenal gland"
          ],
          [
           "adrenal gland glandular cell"
          ],
          [
           "regular cardiac myocyte"
          ],
          [
           "IgG-negative class switched memory B cell"
          ],
          [
           "regular atrial cardiac myocyte"
          ],
          [
           "regular ventricular cardiac myocyte"
          ],
          [
           "endothelial cell of lymphatic vessel"
          ],
          [
           "vascular lymphangioblast"
          ],
          [
           "epithelial cell of sweat gland"
          ],
          [
           "capillary endothelial cell"
          ],
          [
           "microvascular endothelial cell"
          ],
          [
           "ciliated columnar cell of tracheobronchial tree"
          ],
          [
           "multi-ciliated epithelial cell"
          ],
          [
           "respiratory ciliated cell"
          ],
          [
           "epithelial cell of uterus"
          ],
          [
           "endosteal cell"
          ],
          [
           "renal interstitial pericyte"
          ],
          [
           "epithelial cell of stomach"
          ],
          [
           "foveolar cell of stomach"
          ],
          [
           "basal cell of epidermis"
          ],
          [
           "stem cell of epidermis"
          ],
          [
           "glomerular endothelial cell"
          ],
          [
           "glomerular cell"
          ],
          [
           "granular cell of epidermis"
          ],
          [
           "epithelial cell of thyroid gland"
          ],
          [
           "renal beta-intercalated cell"
          ],
          [
           "renal intercalated cell"
          ],
          [
           "epithelial cell of lower respiratory tract"
          ],
          [
           "brush cell of epithelium proper of large intestine"
          ],
          [
           "intestinal tuft cell"
          ],
          [
           "brush cell of trachea"
          ],
          [
           "bronchial epithelial cell"
          ],
          [
           "epithelial cell of esophagus"
          ],
          [
           "vertebrate lens cell"
          ],
          [
           "anterior lens cell"
          ],
          [
           "lens epithelial cell"
          ],
          [
           "secondary lens fiber"
          ],
          [
           "lens fiber cell"
          ],
          [
           "lactocyte"
          ],
          [
           "epithelial cell of prostate"
          ],
          [
           "basal cell of prostate epithelium"
          ],
          [
           "luminal cell of prostate epithelium"
          ],
          [
           "basal epithelial cell of prostatic duct"
          ],
          [
           "pulmonary interstitial fibroblast"
          ],
          [
           "smooth muscle cell of sphincter of pupil"
          ],
          [
           "peripheral blood stem cell"
          ],
          [
           "intestinal crypt stem cell"
          ],
          [
           "epithelial cell of small intestine"
          ],
          [
           "stromal cell of endometrium"
          ],
          [
           "decidual cell"
          ],
          [
           "thyroid follicular cell"
          ],
          [
           "endothelial cell of sinusoid"
          ],
          [
           "enteroendocrine cell of colon"
          ],
          [
           "enteroendocrine cell of small intestine"
          ],
          [
           "P/D1 enteroendocrine cell"
          ],
          [
           "vasoactive intestinal peptide secreting cell"
          ],
          [
           "pancreatic PP cell"
          ],
          [
           "type I enteroendocrine cell"
          ],
          [
           "GIP cell"
          ],
          [
           "type L enteroendocrine cell"
          ],
          [
           "type N enteroendocrine cell"
          ],
          [
           "ghrelin secreting cell"
          ],
          [
           "epithelial cell of thymus"
          ],
          [
           "cortical thymic epithelial cell"
          ],
          [
           "medullary thymic epithelial cell"
          ],
          [
           "pigmented ciliary epithelial cell"
          ],
          [
           "non-pigmented ciliary epithelial cell"
          ],
          [
           "epithelial cell of distal tubule"
          ],
          [
           "nephron tubule epithelial cell"
          ],
          [
           "kidney cortex tubule cell"
          ],
          [
           "epithelial cell of proximal tubule"
          ],
          [
           "epithelial cell of skin gland"
          ],
          [
           "embryonic stem cell"
          ],
          [
           "myoepithelial cell of mammary gland"
          ],
          [
           "mammary gland epithelial cell"
          ],
          [
           "mammary gland glandular cell"
          ],
          [
           "luminal adaptive secretory precursor cell of mammary gland"
          ],
          [
           "luminal epithelial cell of mammary gland"
          ],
          [
           "progenitor cell of mammary luminal epithelium"
          ],
          [
           "basal epithelial cell of tracheobronchial tree"
          ],
          [
           "decidual natural killer cell, human"
          ],
          [
           "endocardial cell"
          ],
          [
           "cardiac endothelial cell"
          ],
          [
           "gestational hematopoietic stem cell"
          ],
          [
           "primitive red blood cell"
          ],
          [
           "primitive erythroid lineage cell"
          ],
          [
           "keratocyte"
          ],
          [
           "myometrial cell"
          ],
          [
           "uterine smooth muscle cell"
          ],
          [
           "respiratory epithelial cell"
          ],
          [
           "respiratory goblet cell"
          ],
          [
           "Schwann cell precursor"
          ],
          [
           "CD141-positive myeloid dendritic cell"
          ],
          [
           "Gr1-high classical monocyte"
          ],
          [
           "CD14-low, CD16-positive monocyte"
          ],
          [
           "CD1c-positive myeloid dendritic cell"
          ],
          [
           "pancreatic stellate cell"
          ],
          [
           "epidermal Langerhans cell"
          ],
          [
           "MHC-II-positive classical monocyte"
          ],
          [
           "nasal mucosa goblet cell"
          ],
          [
           "melanocyte of skin"
          ],
          [
           "hair follicle cell"
          ],
          [
           "trophoblast giant cell"
          ],
          [
           "fetal cardiomyocyte"
          ],
          [
           "adventitial cell"
          ],
          [
           "enteric smooth muscle cell"
          ],
          [
           "kidney epithelial cell"
          ],
          [
           "kidney cell"
          ],
          [
           "subcutaneous adipocyte"
          ],
          [
           "intrahepatic cholangiocyte"
          ],
          [
           "cholangiocyte"
          ],
          [
           "blood vessel smooth muscle cell"
          ],
          [
           "endothelial cell of artery"
          ],
          [
           "vein endothelial cell"
          ],
          [
           "fibroblast of cardiac tissue"
          ],
          [
           "skin fibroblast"
          ],
          [
           "fibroblast of lung"
          ],
          [
           "fibroblast of mammary gland"
          ],
          [
           "placental epithelial cell"
          ],
          [
           "fibroblast of breast"
          ],
          [
           "renal cortical epithelial cell"
          ],
          [
           "kidney cortical cell"
          ],
          [
           "retinal blood vessel endothelial cell"
          ],
          [
           "retinal pigment epithelial cell"
          ],
          [
           "smooth muscle cell of the pulmonary artery"
          ],
          [
           "bladder cell"
          ],
          [
           "bronchial smooth muscle cell"
          ],
          [
           "tracheobronchial smooth muscle cell"
          ],
          [
           "brain macroglial cell"
          ],
          [
           "astrocyte of the cerebral cortex"
          ],
          [
           "cerebral cortex glial cell"
          ],
          [
           "migratory enteric neural crest cell"
          ],
          [
           "adipocyte of breast"
          ],
          [
           "prostate stromal cell"
          ],
          [
           "acinar cell of salivary gland"
          ],
          [
           "salivary gland glandular cell"
          ],
          [
           "immature astrocyte"
          ],
          [
           "mature astrocyte"
          ],
          [
           "mature microglial cell"
          ],
          [
           "respiratory basal cell"
          ],
          [
           "glandular cell of esophagus"
          ],
          [
           "endothelial cell of venule"
          ],
          [
           "glandular cell of the large intestine"
          ],
          [
           "tongue muscle cell"
          ],
          [
           "intestinal enteroendocrine cell"
          ],
          [
           "S cone cell"
          ],
          [
           "H1 horizontal cell"
          ],
          [
           "H2 horizontal cell"
          ],
          [
           "glycinergic amacrine cell"
          ],
          [
           "starburst amacrine cell"
          ],
          [
           "GABAergic amacrine cell"
          ],
          [
           "ionocyte"
          ],
          [
           "renal principal cell"
          ],
          [
           "epithelial cell of nephron"
          ],
          [
           "renal alpha-intercalated cell"
          ],
          [
           "pancreatic epsilon cell"
          ],
          [
           "lymphangioblast"
          ],
          [
           "mesenchymal lymphangioblast"
          ],
          [
           "visceromotor neuron"
          ],
          [
           "enteric neuron"
          ],
          [
           "skeletal muscle satellite stem cell"
          ],
          [
           "inhibitory motor neuron"
          ],
          [
           "cortical interneuron"
          ],
          [
           "cerebral cortex GABAergic interneuron"
          ],
          [
           "extravillous trophoblast"
          ],
          [
           "primary motor cortex pyramidal cell"
          ],
          [
           "L5 extratelencephalic projecting glutamatergic cortical neuron"
          ],
          [
           "inflammatory cell"
          ],
          [
           "salivary gland cell"
          ],
          [
           "small intestine glandular cell"
          ],
          [
           "paneth cell of colon"
          ],
          [
           "colon glandular cell"
          ],
          [
           "transit amplifying cell"
          ],
          [
           "transit amplifying cell of colon"
          ],
          [
           "transit amplifying cell of small intestine"
          ],
          [
           "intestinal crypt stem cell of large intestine"
          ],
          [
           "intestinal crypt stem cell of small intestine"
          ],
          [
           "colon epithelial cell"
          ],
          [
           "colon macrophage"
          ],
          [
           "colon goblet cell"
          ],
          [
           "large intestine goblet cell"
          ],
          [
           "tuft cell of colon"
          ],
          [
           "intestinal crypt stem cell of colon"
          ],
          [
           "lung pericyte"
          ],
          [
           "endothelial cell of placenta"
          ],
          [
           "endothelial cell of uterus"
          ],
          [
           "fibro/adipogenic progenitor cell"
          ],
          [
           "centrocyte"
          ],
          [
           "centroblast"
          ],
          [
           "T follicular regulatory cell"
          ],
          [
           "hair follicular keratinocyte"
          ],
          [
           "cardiac neuron"
          ],
          [
           "mesothelial cell of epicardium"
          ],
          [
           "double negative T regulatory cell"
          ],
          [
           "exhausted T cell"
          ],
          [
           "skeletal muscle fibroblast"
          ],
          [
           "muscle fibroblast"
          ],
          [
           "monocyte-derived dendritic cell"
          ],
          [
           "chorionic trophoblast cell"
          ],
          [
           "sympathetic neuron"
          ],
          [
           "forebrain radial glial cell"
          ],
          [
           "pulmonary ionocyte"
          ],
          [
           "epithelial cell of urethra"
          ],
          [
           "hillock cell"
          ],
          [
           "tracheobronchial serous cell"
          ],
          [
           "tracheobronchial goblet cell"
          ],
          [
           "endothelial cell of periportal hepatic sinusoid"
          ],
          [
           "endothelial cell of hepatic sinusoid"
          ],
          [
           "endothelial cell of pericentral hepatic sinusoid"
          ],
          [
           "periportal region hepatocyte"
          ],
          [
           "midzonal region hepatocyte"
          ],
          [
           "centrilobular region hepatocyte"
          ],
          [
           "intestine goblet cell"
          ],
          [
           "kidney tubule cell"
          ],
          [
           "forebrain neuroblast"
          ],
          [
           "lung goblet cell"
          ],
          [
           "lung neuroendocrine cell"
          ],
          [
           "lung ciliated cell"
          ],
          [
           "smooth muscle cell of small intestine"
          ],
          [
           "smooth muscle fiber of ileum"
          ],
          [
           "urethra cell"
          ],
          [
           "fibroblast of connective tissue of nonglandular part of prostate"
          ],
          [
           "fibroblast of connective tissue of glandular part of prostate"
          ],
          [
           "epicardial adipocyte"
          ],
          [
           "adipocyte of epicardial fat of left ventricle"
          ],
          [
           "bronchial goblet cell"
          ],
          [
           "small intestine goblet cell"
          ],
          [
           "intestinal villus goblet cell"
          ],
          [
           "duodenum glandular cell"
          ],
          [
           "ileal goblet cell"
          ],
          [
           "tracheal goblet cell"
          ],
          [
           "serous cell of epithelium of trachea"
          ],
          [
           "serous cell of epithelium of bronchus"
          ],
          [
           "enterocyte of epithelium of small intestine"
          ],
          [
           "enterocyte of epithelium proper of small intestine"
          ],
          [
           "enterocyte of epithelium proper of ileum"
          ],
          [
           "paneth cell of epithelium of small intestine"
          ],
          [
           "enterocyte of colon"
          ],
          [
           "basal cell of epithelium of trachea"
          ],
          [
           "microfold cell of epithelium of small intestine"
          ],
          [
           "ventricular cardiac muscle cell"
          ],
          [
           "conjunctival epithelial cell"
          ],
          [
           "epithelial cell of lacrimal drainage system"
          ],
          [
           "epithelial cell of lacrimal sac"
          ],
          [
           "epithelial cell of nasolacrimal duct"
          ],
          [
           "bladder urothelial cell"
          ],
          [
           "ciliary muscle cell"
          ],
          [
           "epithelial cell of stratum germinativum of esophagus"
          ],
          [
           "kidney glomerular epithelial cell"
          ],
          [
           "parietal epithelial cell"
          ],
          [
           "epithelial cell of intermediate tubule"
          ],
          [
           "kidney loop of Henle epithelial cell"
          ],
          [
           "kidney collecting duct epithelial cell"
          ],
          [
           "kidney collecting duct cell"
          ],
          [
           "smooth muscle cell of prostate"
          ],
          [
           "mesothelial cell of pleura"
          ],
          [
           "kidney interstitial cell"
          ],
          [
           "kidney medulla cell"
          ],
          [
           "kidney pelvis cell"
          ],
          [
           "kidney inner medulla cell"
          ],
          [
           "kidney outer medulla cell"
          ],
          [
           "papillary tips cell"
          ],
          [
           "lower urinary tract cell"
          ],
          [
           "kidney corpuscule cell"
          ],
          [
           "kidney interstitial fibroblast"
          ],
          [
           "kidney interstitial alternatively activated macrophage"
          ],
          [
           "kidney resident macrophage"
          ],
          [
           "kidney pelvis urothelial cell"
          ],
          [
           "kidney collecting duct principal cell"
          ],
          [
           "kidney collecting duct intercalated cell"
          ],
          [
           "kidney connecting tubule epithelial cell"
          ],
          [
           "kidney loop of Henle descending limb epithelial cell"
          ],
          [
           "kidney distal convoluted tubule epithelial cell"
          ],
          [
           "kidney blood vessel cell"
          ],
          [
           "kidney capillary endothelial cell"
          ],
          [
           "kidney venous blood vessel cell"
          ],
          [
           "glomerular capillary endothelial cell"
          ],
          [
           "kidney loop of Henle ascending limb epithelial cell"
          ],
          [
           "vasa recta cell"
          ],
          [
           "kidney loop of Henle thick ascending limb epithelial cell"
          ],
          [
           "kidney loop of Henle thin ascending limb epithelial cell"
          ],
          [
           "kidney loop of Henle thin descending limb epithelial cell"
          ],
          [
           "vasa recta ascending limb cell"
          ],
          [
           "vasa recta descending limb cell"
          ],
          [
           "medium spiny neuron"
          ],
          [
           "glycinergic neuron"
          ],
          [
           "lung endothelial cell"
          ],
          [
           "pulmonary artery endothelial cell"
          ],
          [
           "cerebral cortex pyramidal neuron"
          ],
          [
           "cerebral cortex endothelial cell"
          ],
          [
           "peripheral blood mononuclear cell"
          ],
          [
           "tonsil germinal center B cell"
          ],
          [
           "dermis lymphatic vessel endothelial cell"
          ],
          [
           "lung microvascular endothelial cell"
          ],
          [
           "dermis microvascular lymphatic vessel endothelial cell"
          ],
          [
           "embryonic fibroblast"
          ],
          [
           "brainstem motor neuron"
          ],
          [
           "hepatic pit cell"
          ],
          [
           "liver dendritic cell"
          ],
          [
           "prostate gland microvascular endothelial cell"
          ],
          [
           "placental villous trophoblast"
          ],
          [
           "bronchus fibroblast of lung"
          ],
          [
           "cord blood hematopoietic stem cell"
          ],
          [
           "Hofbauer cell"
          ],
          [
           "vip GABAergic cortical interneuron"
          ],
          [
           "intratelencephalic-projecting glutamatergic cortical neuron"
          ],
          [
           "extratelencephalic-projecting glutamatergic cortical neuron"
          ],
          [
           "lamp5 GABAergic cortical interneuron"
          ],
          [
           "near-projecting glutamatergic cortical neuron"
          ],
          [
           "corticothalamic-projecting glutamatergic cortical neuron"
          ],
          [
           "sncg GABAergic cortical interneuron"
          ],
          [
           "sst GABAergic cortical interneuron"
          ],
          [
           "pvalb GABAergic cortical interneuron"
          ],
          [
           "sst chodl GABAergic cortical interneuron"
          ],
          [
           "direct pathway medium spiny neuron"
          ],
          [
           "indirect pathway medium spiny neuron"
          ],
          [
           "chandelier pvalb GABAergic cortical interneuron"
          ],
          [
           "chandelier cell"
          ],
          [
           "L6b glutamatergic cortical neuron"
          ],
          [
           "L2/3-6 intratelencephalic projecting glutamatergic neuron"
          ],
          [
           "L6 corticothalamic-projecting glutamatergic cortical neuron"
          ],
          [
           "L5/6 near-projecting glutamatergic neuron of the primary motor cortex"
          ],
          [
           "L5/6 near-projecting glutamatergic neuron"
          ],
          [
           "L2/3 intratelencephalic projecting glutamatergic neuron"
          ],
          [
           "L6 intratelencephalic projecting glutamatergic neuron of the primary motor cortex"
          ],
          [
           "L6 intratelencephalic projecting glutamatergic neuron"
          ],
          [
           "vascular leptomeningeal cell"
          ],
          [
           "mesothelial fibroblast of the leptomeninx"
          ],
          [
           "mesothelial fibroblast"
          ],
          [
           "differentiation-committed oligodendrocyte precursor"
          ],
          [
           "caudal ganglionic eminence derived interneuron"
          ],
          [
           "caudal ganglionic eminence derived GABAergic cortical interneuron"
          ],
          [
           "brain vascular cell"
          ],
          [
           "unipolar brush cell"
          ],
          [
           "midget ganglion cell of retina"
          ],
          [
           "parasol ganglion cell of retina"
          ],
          [
           "alveolar type 1 fibroblast cell"
          ],
          [
           "alveolar type 2 fibroblast cell"
          ],
          [
           "epithelial cell of proximal tubule segment 1"
          ],
          [
           "epithelial cell of proximal tubule segment 3"
          ],
          [
           "kidney connecting tubule principal cell"
          ],
          [
           "respiratory hillock cell"
          ],
          [
           "BEST4+ intestinal epithelial cell, human"
          ],
          [
           "L4 intratelencephalic projecting glutamatergic neuron"
          ],
          [
           "serous secreting cell of bronchus submucosal gland"
          ],
          [
           "suprabasal keratinocyte"
          ],
          [
           "retinal astrocyte"
          ],
          [
           "ON-blue cone bipolar cell"
          ],
          [
           "airway submucosal gland duct basal cell"
          ],
          [
           "perichondrial fibroblast"
          ],
          [
           "lung perichondrial fibroblast"
          ],
          [
           "diffuse bipolar 1 cell"
          ],
          [
           "diffuse bipolar 2 cell"
          ],
          [
           "diffuse bipolar 3a cell"
          ],
          [
           "diffuse bipolar 3b cell"
          ],
          [
           "diffuse bipolar 4 cell"
          ],
          [
           "diffuse bipolar 6 cell"
          ],
          [
           "flat midget bipolar cell"
          ],
          [
           "invaginating midget bipolar cell"
          ],
          [
           "giant bipolar cell"
          ],
          [
           "OFFx cell"
          ],
          [
           "lung resident memory CD4-positive, alpha-beta T cell"
          ],
          [
           "lung resident memory CD8-positive, alpha-beta T cell"
          ],
          [
           "metallothionein-positive alveolar macrophage"
          ],
          [
           "lung interstitial macrophage"
          ],
          [
           "deuterosomal cell"
          ],
          [
           "respiratory suprabasal cell"
          ],
          [
           "luminal hormone-sensing cell of mammary gland"
          ]
         ],
         "hovertemplate": "x=%{x}<br>y=%{y}<br>label=%{customdata[0]}<extra></extra>",
         "legendgroup": "",
         "marker": {
          "color": "#636efa",
          "symbol": "circle"
         },
         "mode": "markers",
         "name": "",
         "orientation": "v",
         "showlegend": false,
         "type": "scatter",
         "x": [
          0.34904298186302185,
          -0.10844074189662933,
          -0.17345938086509705,
          -0.17240171134471893,
          -0.15990270674228668,
          -0.1794593334197998,
          0.1934971809387207,
          -0.048555511981248856,
          -0.1583186388015747,
          -0.05389738082885742,
          -0.1758413463830948,
          0.01581021584570408,
          -0.047678012400865555,
          -0.17403081059455872,
          0.2789224684238434,
          -0.17398536205291748,
          -0.17169325053691864,
          -0.17420212924480438,
          0.011884400621056557,
          -0.11050776392221451,
          0.12031220644712448,
          -0.013513735495507717,
          -0.17144319415092468,
          0.02757149748504162,
          -0.04919227585196495,
          -0.18074274063110352,
          0.15107287466526031,
          0.08759251981973648,
          0.07784959673881531,
          -0.08059147000312805,
          0.5376988053321838,
          -0.1199658140540123,
          0.06701245903968811,
          -0.07276522368192673,
          0.1846408247947693,
          0.3790617287158966,
          0.002056876430287957,
          -0.09633443504571915,
          -0.11603733152151108,
          -0.11605590581893921,
          0.1258717179298401,
          -0.17347712814807892,
          -0.1906907856464386,
          0.004263619892299175,
          -0.17514052987098694,
          -0.12850384414196014,
          -0.01850983500480652,
          -0.13028721511363983,
          0.2325630486011505,
          -0.009393827058374882,
          -0.16165867447853088,
          -0.15256865322589874,
          -0.11463747918605804,
          0.27684640884399414,
          -0.1476099193096161,
          -0.0348026417195797,
          0.133562371134758,
          0.018825897946953773,
          -0.04709803685545921,
          0.06035323068499565,
          -0.1665816754102707,
          -0.16449907422065735,
          0.04412556067109108,
          -0.028470506891608238,
          0.013063794001936913,
          0.002858455991372466,
          0.07224195450544357,
          0.08197203278541565,
          0.5750441551208496,
          0.3403491675853729,
          0.08207499980926514,
          0.14801117777824402,
          -0.17363768815994263,
          0.05093054100871086,
          -0.05756784602999687,
          0.06690733134746552,
          -0.010276379995048046,
          -0.038478389382362366,
          0.1827072650194168,
          -0.17978982627391815,
          0.049916915595531464,
          0.35419154167175293,
          0.05650702863931656,
          0.052095215767621994,
          0.052678320556879044,
          -0.024381007999181747,
          0.12092822790145874,
          -0.02587113529443741,
          0.33286383748054504,
          -0.11062835901975632,
          0.02745177410542965,
          0.00629389425739646,
          -0.16687050461769104,
          0.1778104305267334,
          -0.042495667934417725,
          0.14390559494495392,
          0.09279543161392212,
          -0.0373811200261116,
          0.05943063646554947,
          -0.12226257473230362,
          0.29461658000946045,
          -0.14575524628162384,
          0.33600759506225586,
          -0.15164002776145935,
          0.07358833402395248,
          0.24031753838062286,
          -0.16946375370025635,
          -0.1894868165254593,
          -0.11715973913669586,
          -0.11990278214216232,
          0.019146280363202095,
          -0.030936231836676598,
          -0.17258696258068085,
          -0.023046979680657387,
          0.46304580569267273,
          0.19349142909049988,
          0.5785567164421082,
          0.40710392594337463,
          0.342975378036499,
          0.6776505708694458,
          0.6104493737220764,
          0.12418367713689804,
          0.21925999224185944,
          0.3182598054409027,
          0.16199451684951782,
          0.13729755580425262,
          0.11000361293554306,
          0.06152322143316269,
          0.1981544941663742,
          0.12318292260169983,
          -0.10031861066818237,
          -0.01414750050753355,
          -0.17856955528259277,
          0.16977374255657196,
          0.10343234986066818,
          0.049262646585702896,
          0.03725665435194969,
          -0.11204621940851212,
          -0.07019516080617905,
          0.039819058030843735,
          0.23610466718673706,
          -0.18144744634628296,
          0.0681261420249939,
          -0.17412590980529785,
          -0.1627233326435089,
          0.061604369431734085,
          0.24138936400413513,
          -0.04976338520646095,
          -0.048929840326309204,
          0.03635808825492859,
          -0.0230154599994421,
          -0.15863634645938873,
          0.0023982964921742678,
          -0.04292324557900429,
          -0.15696163475513458,
          0.14950209856033325,
          -0.1495528668165207,
          0.04609047621488571,
          0.5216147899627686,
          0.016111042350530624,
          -0.16148002445697784,
          -0.1202123761177063,
          -0.03857167810201645,
          -0.1528794765472412,
          -0.17261993885040283,
          -0.17854703962802887,
          -0.06835716217756271,
          -0.1682884395122528,
          -0.1757100522518158,
          -0.1768391877412796,
          -0.17913278937339783,
          0.33871498703956604,
          0.2424781173467636,
          -0.1426965594291687,
          -0.021599654108285904,
          -0.07783809304237366,
          0.12244050949811935,
          0.059710439294576645,
          0.08600938320159912,
          0.04631135240197182,
          0.11847362667322159,
          0.212467223405838,
          0.11207672953605652,
          0.03352631628513336,
          0.3185490667819977,
          0.5208187699317932,
          -0.11434739083051682,
          -0.1402817815542221,
          -0.05942508205771446,
          0.06681210547685623,
          0.06185014173388481,
          -0.16508403420448303,
          0.26979315280914307,
          -0.14904874563217163,
          -0.033501408994197845,
          0.008162101730704308,
          0.23455287516117096,
          0.26410365104675293,
          0.3000040352344513,
          0.04647190123796463,
          0.049233291298151016,
          0.04615268111228943,
          -0.17402100563049316,
          -0.17235374450683594,
          -0.027254678308963776,
          -0.18201465904712677,
          0.048098355531692505,
          -0.0362577922642231,
          0.03196973353624344,
          -0.05185990035533905,
          0.1556561440229416,
          0.0438048280775547,
          -0.02418811433017254,
          -0.19046549499034882,
          0.06833197921514511,
          -0.05907253921031952,
          -0.0873965173959732,
          -0.12386982142925262,
          0.049362439662218094,
          0.18411871790885925,
          -0.03432688117027283,
          -0.12327591329813004,
          -0.1282912939786911,
          0.064735047519207,
          -0.1812290996313095,
          0.12331314384937286,
          -0.16707085072994232,
          -0.1847507655620575,
          -0.11655180901288986,
          0.12274491786956787,
          -0.1752069741487503,
          -0.18043583631515503,
          -0.049885571002960205,
          -0.025912391021847725,
          -0.06431318819522858,
          -0.10435909032821655,
          -0.125921830534935,
          -0.16420646011829376,
          -0.00509732635691762,
          0.07119300961494446,
          -0.1585972011089325,
          -0.14969775080680847,
          0.04798334464430809,
          -0.09967857599258423,
          0.07535166293382645,
          0.14382930099964142,
          -0.181870236992836,
          0.07666295021772385,
          0.33868491649627686,
          0.031085532158613205,
          -0.023154249414801598,
          -0.1743704229593277,
          -0.16453397274017334,
          -0.10937877744436264,
          -0.03365287557244301,
          0.12444441020488739,
          0.3262622356414795,
          -0.16701412200927734,
          -0.07942180335521698,
          -0.17893192172050476,
          0.1748296469449997,
          0.055987320840358734,
          -0.016302069649100304,
          0.11063265800476074,
          0.10690950602293015,
          -0.16614873707294464,
          -0.0973915308713913,
          0.1533380150794983,
          -0.03396916389465332,
          0.13554459810256958,
          0.17624108493328094,
          0.16062894463539124,
          0.16075262427330017,
          0.2934676706790924,
          0.4624904692173004,
          0.1940600723028183,
          0.00864942092448473,
          -0.11224118620157242,
          -0.15360963344573975,
          -0.17028385400772095,
          -0.1741514652967453,
          -0.172874316573143,
          -0.1745128482580185,
          -0.06713792681694031,
          0.09155836701393127,
          0.1859942227602005,
          -0.024374864995479584,
          0.1491469144821167,
          0.1584145426750183,
          0.40591099858283997,
          0.29144346714019775,
          -0.1742771565914154,
          -0.152469664812088,
          -0.17541033029556274,
          -0.17737050354480743,
          -0.0689583271741867,
          0.17121589183807373,
          0.6410118341445923,
          -0.1622125804424286,
          -0.17605826258659363,
          0.08607453852891922,
          0.15377408266067505,
          0.07142321020364761,
          0.2264893651008606,
          -0.1402186155319214,
          -0.16857478022575378,
          -0.17084002494812012,
          0.400979608297348,
          0.19352586567401886,
          0.10801959782838821,
          -0.19385741651058197,
          0.06550909578800201,
          -0.17571966350078583,
          -0.07780969887971878,
          0.002510676858946681,
          0.40655726194381714,
          0.22226519882678986,
          0.11476785689592361,
          0.037050362676382065,
          0.34895002841949463,
          -0.18465539813041687,
          -0.17653851211071014,
          -0.006258307956159115,
          0.2191886603832245,
          -0.147886261343956,
          -0.17975783348083496,
          0.450274258852005,
          0.15568090975284576,
          0.2597532570362091,
          0.24633125960826874,
          0.09919361025094986,
          0.11140026152133942,
          -0.08936949819326401,
          -0.08223316073417664,
          0.23450423777103424,
          0.15858633816242218,
          0.23601411283016205,
          0.018851732835173607,
          0.8588913083076477,
          0.12406963109970093,
          0.5058833360671997,
          -0.10793164372444153,
          -0.10481913387775421,
          -0.15936999022960663,
          -0.129791259765625,
          -0.16885465383529663,
          0.09928863495588303,
          0.30150479078292847,
          -0.17269037663936615,
          -0.17901013791561127,
          -0.17005285620689392,
          -0.19129720330238342,
          -0.036557238548994064,
          0.08013923466205597,
          0.018995113670825958,
          -0.14845120906829834,
          0.06889805197715759,
          0.1563112735748291,
          0.04920875281095505,
          0.21891933679580688,
          0.319820374250412,
          0.315326064825058,
          0.06150895729660988,
          0.06676485389471054,
          0.006031365133821964,
          0.16417866945266724,
          0.05229407548904419,
          0.05064571276307106,
          -0.003238591831177473,
          0.1524234414100647,
          -0.03596493601799011,
          -0.08611397445201874,
          0.08124974370002747,
          0.20351988077163696,
          0.3611434996128082,
          -0.014667783863842487,
          0.08737009018659592,
          0.1201697587966919,
          0.10595040768384933,
          -0.015322640538215637,
          0.058892011642456055,
          0.1035757064819336,
          -0.17534665763378143,
          0.11802966892719269,
          0.11199385672807693,
          -0.01792311482131481,
          -0.1816541701555252,
          -0.016593866050243378,
          0.08677365630865097,
          -0.1531936526298523,
          -0.1785956472158432,
          -0.0801297277212143,
          0.31743529438972473,
          -0.17290236055850983,
          0.14310316741466522,
          -0.08002713322639465,
          0.23210415244102478,
          0.020210834220051765,
          0.11193445324897766,
          0.27415046095848083,
          0.12962977588176727,
          -0.09332355856895447,
          0.07066284120082855,
          0.10514353215694427,
          -0.17336057126522064,
          -0.1410616934299469,
          0.33034276962280273,
          -0.18397903442382812,
          -0.0586770698428154,
          0.1557794213294983,
          -0.03899671882390976,
          -0.1448250263929367,
          -0.1249183639883995,
          -0.19564467668533325,
          -0.17419223487377167,
          0.20046064257621765,
          -0.013792305253446102,
          0.1739882528781891,
          0.08641358464956284,
          0.14887340366840363,
          0.22806599736213684,
          -0.09298108518123627,
          -0.15553106367588043,
          0.4092521667480469,
          -0.16128204762935638,
          0.4033781886100769,
          0.1870764195919037,
          -0.05075613781809807,
          0.3314895033836365,
          -0.1159396842122078,
          0.33296671509742737,
          0.21623459458351135,
          0.26381418108940125,
          0.15657897293567657,
          0.10325940698385239,
          0.015594933182001114,
          0.20490428805351257,
          -0.07317867875099182,
          0.05781029909849167,
          0.09132930636405945,
          0.14039534330368042,
          -0.16791628301143646,
          -0.07381521910429001,
          -0.1314222663640976,
          0.017840780317783356,
          -0.08511172235012054,
          0.06007043644785881,
          0.03243554010987282,
          -0.18482139706611633,
          0.1359912008047104,
          0.2378109246492386,
          0.08249766379594803,
          -0.04211943969130516,
          0.05943341180682182,
          -0.04323393106460571,
          -0.16801564395427704,
          -0.17392238974571228,
          0.0034448786173015833,
          -0.13575389981269836,
          -0.10881319642066956,
          -0.18048487603664398,
          -0.007242647465318441,
          -0.010656840167939663,
          0.034807320684194565,
          -0.1778232902288437,
          -0.16667771339416504,
          -0.1705530285835266,
          -0.0935107171535492,
          -0.17220769822597504,
          -0.17822542786598206,
          0.08007866889238358,
          -0.00466489652171731,
          -0.08020526170730591,
          0.07505979388952255,
          -0.06013599783182144,
          0.031848736107349396,
          0.06759108603000641,
          -0.012739700265228748,
          -0.10825077444314957,
          -0.17715279757976532,
          0.1790016144514084,
          0.36271435022354126,
          -0.019261622801423073,
          -0.12360189855098724,
          -0.17754237353801727,
          -0.15732800960540771,
          -0.020510513335466385,
          0.09444978088140488,
          -0.06295232474803925,
          0.045963529497385025,
          0.048698585480451584,
          0.1382221281528473,
          -0.1418362706899643,
          -0.18183816969394684,
          -0.14555421471595764,
          -0.06068163365125656,
          -0.17073354125022888,
          -0.1476355344057083,
          -0.12994129955768585,
          -0.15313281118869781,
          -0.1601915955543518,
          -0.17095918953418732,
          -0.0563015341758728,
          0.0997774749994278,
          0.03416861593723297,
          0.058170828968286514,
          -0.17565293610095978,
          0.06583341956138611,
          0.1114763393998146,
          0.08473793417215347,
          0.08367929607629776,
          0.006700481753796339,
          -0.09966692328453064,
          0.03419797495007515,
          -0.10946661978960037,
          -0.10914730280637741,
          -0.0707070603966713,
          0.1255682408809662,
          0.2344874143600464,
          -0.13157247006893158,
          -0.1734907031059265,
          0.331432968378067,
          0.1522635966539383,
          0.10134091973304749,
          0.0770677775144577,
          -0.06984840333461761,
          0.06679365038871765,
          0.17487721145153046,
          0.3356482684612274,
          -0.06718003004789352,
          -0.15229973196983337,
          0.12120914459228516,
          -0.004942955449223518,
          0.006763148587197065,
          -0.0393611341714859,
          -0.09192933142185211,
          -0.17997677624225616,
          -0.17080500721931458,
          -0.12293821573257446,
          -0.10602955520153046,
          -0.021098610013723373,
          0.01675552874803543,
          -0.07160152494907379,
          -0.13761073350906372,
          -0.15963363647460938,
          -0.160457581281662,
          -0.13521572947502136,
          -0.17251136898994446,
          -0.1040421724319458,
          0.2832500636577606,
          -0.1731632947921753,
          -0.17197804152965546,
          -0.17522543668746948,
          -0.14322100579738617,
          0.1366850733757019,
          -0.16372856497764587,
          0.13087894022464752,
          0.06374113261699677,
          -0.13259337842464447,
          -0.1549353003501892,
          0.02917257882654667,
          0.013467430137097836,
          0.05445536971092224,
          0.09039373695850372,
          0.11434543132781982,
          0.08084764331579208,
          -0.10033731162548065,
          -0.10651539266109467,
          -0.12772433459758759,
          -0.16766025125980377,
          -0.14145193994045258,
          0.1841086894273758,
          0.20625969767570496,
          -0.21310602128505707,
          -0.15647749602794647,
          -0.17672021687030792,
          -0.2028876096010208,
          -0.18769755959510803,
          -0.15924839675426483,
          -0.1788543164730072,
          -0.17680951952934265,
          -0.19080407917499542,
          -0.1758013218641281,
          -0.16961365938186646,
          -0.060429856181144714,
          0.03626066446304321,
          0.11759912222623825,
          0.07904898375272751,
          -0.01979607529938221,
          -0.0891825407743454,
          0.0005222476902417839,
          -0.03212380036711693,
          0.03760934993624687,
          -0.17128820717334747,
          0.037354011088609695,
          0.40786775946617126,
          0.6220683455467224,
          -0.12515050172805786,
          0.2646197974681854,
          0.8808658719062805,
          0.11109252274036407,
          0.1419905424118042,
          0.11749792844057083,
          0.06841287016868591,
          -0.004557321313768625,
          -0.09509362280368805,
          0.01995047554373741,
          -0.14196783304214478,
          -0.15927095711231232,
          -0.16565120220184326,
          0.28831443190574646,
          0.0630786195397377,
          0.002686094492673874,
          -0.18495406210422516,
          -0.13937194645404816,
          -0.16305014491081238,
          0.34583669900894165,
          0.12381784617900848,
          -0.12286131083965302,
          -0.17687268555164337,
          -0.09683089703321457,
          0.13161954283714294,
          -0.08092638105154037,
          -0.10773524641990662,
          0.018364032730460167,
          -0.12439686805009842,
          -0.002388944150879979,
          0.10305827856063843,
          0.18012253940105438,
          0.042289458215236664,
          0.1254052221775055,
          -0.07594497501850128,
          -0.09401629120111465,
          -0.1734313666820526,
          0.0476699136197567,
          0.29051390290260315,
          0.18503046035766602,
          0.08133716881275177,
          0.0806865468621254,
          0.39649784564971924,
          -0.1790526956319809,
          0.21850475668907166,
          -0.09243463724851608,
          -0.14146482944488525,
          -0.15966148674488068,
          -0.15834161639213562,
          -0.1089276522397995,
          -0.14995050430297852,
          -0.17049120366573334,
          0.16130827367305756,
          -0.09382496774196625,
          0.1233266144990921,
          0.008137415163218975,
          -0.18244655430316925,
          0.3367336094379425,
          -0.18190936744213104,
          0.1562969833612442,
          -0.10865579545497894,
          -0.15766681730747223,
          -0.07568304240703583,
          -0.07449541240930557,
          0.12065444886684418,
          -0.14983278512954712,
          -0.06688014417886734,
          -0.17416304349899292,
          -0.17675985395908356,
          -0.17870169878005981,
          0.06991299986839294,
          -0.04449634253978729,
          -0.0952054038643837,
          0.4334149658679962,
          0.16605356335639954,
          0.18390192091464996,
          -0.16633710265159607,
          -0.09253387898206711,
          0.009814342483878136,
          -0.14543135464191437,
          -0.17029832303524017,
          -0.15044298768043518,
          -0.1733350306749344,
          -0.15297046303749084,
          -0.17705664038658142,
          -0.09876459836959839,
          -0.1900978535413742,
          0.0539296455681324,
          0.11229561269283295,
          0.12516987323760986,
          -0.15142400562763214,
          -0.07259182631969452,
          -0.08002156019210815,
          -0.16870777308940887,
          -0.17043325304985046,
          -0.10235124081373215,
          -0.15965716540813446,
          0.16306443512439728,
          0.031893882900476456,
          -0.1589336097240448,
          -0.16013573110103607,
          -0.1454472541809082,
          -0.07732711732387543,
          -0.19340243935585022,
          -0.16520445048809052,
          -0.1546570062637329,
          -0.1667509227991104,
          -0.16877280175685883,
          -0.02508622594177723,
          -0.15707623958587646,
          -0.09406295418739319,
          0.08845522999763489,
          -0.17837457358837128,
          -0.1510489284992218,
          -0.19132402539253235,
          0.0677073523402214,
          0.027831783518195152,
          -0.1290414184331894,
          -0.011431177146732807,
          -0.14961868524551392,
          -0.008962446823716164,
          -0.1451026052236557,
          0.10581044107675552,
          -0.15832558274269104,
          -0.10407939553260803,
          -0.014860983937978745,
          -0.16776718199253082,
          0.09502176940441132,
          -0.17990414798259735,
          -0.05006206035614014,
          0.02240012399852276,
          -0.15776501595973969,
          -0.14577104151248932,
          -0.01990514062345028,
          0.10156361758708954,
          0.3545847535133362,
          0.15534920990467072,
          -0.1838977336883545,
          -0.06883931159973145,
          -0.015607411973178387,
          -0.16221541166305542,
          -0.16896751523017883,
          -0.04262605309486389,
          -0.17095878720283508,
          -0.16956187784671783,
          -0.16003896296024323,
          -0.05292608216404915,
          -0.1336132436990738,
          -0.05104643106460571,
          -0.09788097441196442,
          -0.08758372813463211,
          -0.18319040536880493,
          -0.17335675656795502,
          -0.174662783741951,
          -0.1801300346851349,
          0.2289358526468277,
          -0.1810656189918518,
          -0.17346124351024628,
          -0.08773288875818253,
          -0.1781233847141266,
          -0.1449880301952362,
          -0.13287808001041412,
          -0.04636247828602791,
          0.1919737458229065,
          -0.17674092948436737,
          0.05108927935361862,
          0.10039794445037842,
          -0.17465375363826752,
          -0.17612607777118683,
          -0.17465098202228546,
          -0.07967627793550491,
          0.057083096355199814,
          -0.15872089564800262,
          -0.16717460751533508,
          -0.0921735092997551,
          -0.15649491548538208,
          0.05737721174955368,
          -0.08633343130350113,
          -0.12957905232906342,
          -0.03631483390927315,
          -0.17481407523155212,
          -0.08888045698404312,
          0.04705437645316124,
          -0.18335184454917908,
          -0.1804303228855133,
          -0.16274304687976837,
          -0.19432106614112854,
          -0.18211624026298523,
          -0.1796019822359085,
          -0.1106904074549675,
          -0.12733611464500427,
          -0.17372038960456848,
          -0.18929527699947357,
          0.028165819123387337,
          -0.06787842512130737,
          0.005735214799642563,
          -0.14965419471263885,
          0.006046731024980545,
          -0.18679742515087128,
          -0.19548003375530243,
          -0.1826721578836441,
          -0.1730901002883911,
          0.03139056637883186,
          -0.17549102008342743,
          0.12132162600755692,
          -0.0967073142528534,
          -0.043696966022253036,
          -0.1662907749414444,
          -0.1771789789199829,
          -0.12819810211658478,
          0.22193484008312225,
          -0.17452006042003632,
          -0.1348799467086792,
          -0.12161543220281601,
          -0.09481686353683472,
          -0.1636887937784195,
          0.24691209197044373,
          -0.18023592233657837,
          -0.1345122754573822,
          -0.18509306013584137,
          0.10087104141712189,
          0.027913155034184456,
          -0.08307457715272903,
          -0.17790672183036804,
          -0.13439108431339264,
          0.4025498330593109,
          -0.013705804944038391,
          0.23799695074558258,
          0.04922673851251602,
          0.13193437457084656,
          0.14714151620864868,
          -0.11295579373836517,
          0.14493711292743683,
          0.1186222955584526,
          0.14305756986141205,
          0.21668937802314758,
          0.06880120933055878,
          0.04927961155772209,
          -0.18576662242412567,
          -0.09075315296649933,
          -0.08283297717571259,
          0.1608423888683319,
          -0.033349499106407166,
          0.07696878165006638,
          0.16076676547527313,
          -0.042487096041440964,
          -0.14289553463459015,
          -0.10622149705886841,
          0.09250214695930481,
          -0.09790490567684174,
          -0.14972452819347382,
          -0.08884473145008087,
          -0.12648043036460876,
          -0.1623469442129135,
          -0.1470467746257782,
          -0.14041277766227722,
          -0.02494284138083458,
          -0.11204757541418076,
          -0.055704522877931595,
          0.46024149656295776,
          -0.00028884163475595415,
          0.22859859466552734,
          0.07878623902797699,
          -0.15609464049339294,
          -0.13323085010051727,
          -0.19182559847831726,
          0.006042605731636286,
          -0.1683959662914276,
          -0.03387628495693207,
          -0.044805120676755905,
          -0.11041305214166641,
          -0.18668688833713531,
          0.004087354056537151,
          -0.16110295057296753,
          -0.17967472970485687,
          -0.17614895105361938,
          0.41649329662323,
          0.5652402639389038,
          0.01136449072510004,
          0.4882926940917969,
          0.4474923014640808,
          0.2697107195854187,
          0.5931797027587891,
          0.378123015165329,
          0.285664439201355,
          0.24370652437210083,
          -0.14518243074417114,
          -0.12162496149539948,
          -0.17438307404518127,
          -0.16887564957141876,
          -0.1713448464870453,
          -0.14421841502189636,
          0.32822179794311523
         ],
         "xaxis": "x",
         "y": [
          0.05550578236579895,
          0.0795331597328186,
          0.05319682136178017,
          0.05323716253042221,
          0.024864422157406807,
          0.05290193483233452,
          0.048935092985630035,
          0.10882317274808884,
          0.06921221315860748,
          -0.08787443488836288,
          0.052714452147483826,
          -0.15310607850551605,
          -0.034122638404369354,
          0.052778542041778564,
          -0.19873769581317902,
          0.05275711417198181,
          0.05328669771552086,
          0.05273669585585594,
          -0.14189980924129486,
          -0.0257711224257946,
          0.06378629058599472,
          0.05964583531022072,
          0.06464894115924835,
          0.10297488421201706,
          0.1144363284111023,
          0.04332974925637245,
          -0.35126134753227234,
          0.0041740345768630505,
          -0.05503853037953377,
          0.014977634884417057,
          -0.09140690416097641,
          -0.07499941438436508,
          0.12922148406505585,
          -0.023437941446900368,
          0.04410539194941521,
          -0.23344914615154266,
          0.018000168725848198,
          -0.1546449214220047,
          -0.043826375156641006,
          -0.050225332379341125,
          0.0024561749305576086,
          0.05437576398253441,
          0.02266034670174122,
          0.10993926227092743,
          0.029909664765000343,
          -0.007854284718632698,
          -0.016795648261904716,
          -0.04131432622671127,
          0.04809555411338806,
          0.004892334342002869,
          -0.13310931622982025,
          -0.04794057458639145,
          -0.012042440474033356,
          0.14376553893089294,
          -0.006742564961314201,
          0.057249803096055984,
          0.025091875344514847,
          0.03742866963148117,
          -0.0036959631834179163,
          -0.021769825369119644,
          0.013272340409457684,
          -0.0007192004704847932,
          0.03232850506901741,
          -0.03169865533709526,
          0.08849623799324036,
          0.08086445927619934,
          0.0734364315867424,
          -0.019336996600031853,
          -0.09811798483133316,
          -0.26042690873146057,
          -0.012771033681929111,
          -0.02392621524631977,
          0.025085778906941414,
          0.1042008027434349,
          0.10425809770822525,
          0.005967439617961645,
          -0.0547298826277256,
          0.09584517776966095,
          -0.12694941461086273,
          0.02078952081501484,
          0.10279542952775955,
          -0.13645057380199432,
          0.049612708389759064,
          0.13242758810520172,
          0.18668806552886963,
          0.0020366220269352198,
          0.1578509658575058,
          -0.0715859979391098,
          -0.008728462271392345,
          -0.05473264306783676,
          0.1590862274169922,
          0.1872047781944275,
          0.013260453939437866,
          0.1928570419549942,
          0.006407478824257851,
          0.37407928705215454,
          -0.0020006527192890644,
          0.10605034977197647,
          -0.009314168244600296,
          0.029750369489192963,
          0.5416517853736877,
          0.01557600311934948,
          0.6034973859786987,
          0.07233303040266037,
          -0.049488600343465805,
          0.5096161365509033,
          0.030626563355326653,
          -0.004052580799907446,
          -0.05175756290555,
          0.02082941122353077,
          0.18087315559387207,
          0.21457688510417938,
          0.050550445914268494,
          0.11430037766695023,
          0.7131687998771667,
          -0.027907434850931168,
          0.8724600076675415,
          0.6888616681098938,
          0.6895721554756165,
          0.9947174787521362,
          1.0447479486465454,
          0.3105359375476837,
          0.40125593543052673,
          0.43512099981307983,
          0.209223672747612,
          0.1987505704164505,
          0.05075990781188011,
          -0.04045749455690384,
          -0.2109486609697342,
          -0.09981624782085419,
          0.016074350103735924,
          -0.07492662221193314,
          0.04834088310599327,
          -0.009789954870939255,
          -0.07665260136127472,
          -0.013702284544706345,
          -0.048492345958948135,
          0.0013636774383485317,
          0.06184196099638939,
          -0.1802143156528473,
          -0.2406933754682541,
          0.04005058854818344,
          0.10240204632282257,
          0.04118139669299126,
          0.034548431634902954,
          0.13673606514930725,
          0.06528743356466293,
          0.05651373043656349,
          0.02965666353702545,
          0.03622082620859146,
          0.07630875706672668,
          0.029164351522922516,
          0.12138185650110245,
          0.05129414424300194,
          0.022795436903834343,
          0.1827402412891388,
          0.07156997919082642,
          -0.02228836715221405,
          0.18255607783794403,
          0.08471132814884186,
          0.0455235056579113,
          -0.04456964507699013,
          -0.12182284146547318,
          -0.0889778584241867,
          0.0556706003844738,
          0.016389265656471252,
          -0.15812304615974426,
          -0.09760779142379761,
          0.05611642822623253,
          -0.07724650204181671,
          0.033932365477085114,
          0.1679679900407791,
          -0.2646351158618927,
          0.03568562865257263,
          -0.015119887888431549,
          0.0022000076714903116,
          -0.18646134436130524,
          -0.07253633439540863,
          0.05889982357621193,
          -0.03087071143090725,
          0.014219301752746105,
          -0.3326343595981598,
          -0.03533681854605675,
          0.0813581570982933,
          0.07185640186071396,
          0.21549805998802185,
          -0.0292330514639616,
          0.011218282394111156,
          -0.03377242758870125,
          0.03230287879705429,
          0.038985732942819595,
          -0.03222385793924332,
          0.16462436318397522,
          0.020816044881939888,
          0.007798334117978811,
          0.13197757303714752,
          0.17864534258842468,
          -0.015392427332699299,
          -0.023358067497611046,
          -0.037496816366910934,
          0.0038388101384043694,
          -0.0062253279611468315,
          0.05274777486920357,
          0.05299960449337959,
          -0.05295862257480621,
          0.047827739268541336,
          -0.060902468860149384,
          0.08509085327386856,
          0.03212533891201019,
          0.152878999710083,
          -0.006582306697964668,
          -0.05816379189491272,
          -0.048005688935518265,
          0.0401778370141983,
          0.05525052919983864,
          0.09380923956632614,
          -0.1227097287774086,
          0.10327395796775818,
          0.06267448514699936,
          0.15942159295082092,
          -0.0789419561624527,
          -0.016474809497594833,
          -0.015384210273623466,
          0.0052000912837684155,
          0.00140595983248204,
          -0.10126829147338867,
          0.035153068602085114,
          0.052550408989191055,
          0.01947862096130848,
          -0.0982867181301117,
          0.051844555884599686,
          0.045697182416915894,
          -0.03215343505144119,
          -0.10244757682085037,
          -0.006558922119438648,
          -0.09233393520116806,
          0.002283235779032111,
          0.014805183745920658,
          0.08448655903339386,
          -0.025959987193346024,
          0.057590171694755554,
          -0.06449993699789047,
          -0.08240079879760742,
          0.10110722482204437,
          -0.07709650695323944,
          -0.11327885836362839,
          0.02838246151804924,
          -0.0823189839720726,
          -0.3352575898170471,
          -0.04328431561589241,
          -0.054457418620586395,
          0.04507317766547203,
          0.038282934576272964,
          0.06423845887184143,
          0.0600796714425087,
          0.25920942425727844,
          0.0568891279399395,
          0.04888724908232689,
          -0.05560873821377754,
          0.0470319427549839,
          0.12707415223121643,
          -0.08633025735616684,
          0.020267829298973083,
          -0.1059158444404602,
          -0.00415085582062602,
          0.060935620218515396,
          -0.08902294188737869,
          0.005532178096473217,
          0.0038821641355752945,
          -0.09415335953235626,
          0.10912055522203445,
          0.24819375574588776,
          -0.10871456563472748,
          0.5800148248672485,
          -0.10737517476081848,
          -0.08582975715398788,
          -0.09300339967012405,
          -0.008554505184292793,
          0.09258926659822464,
          0.06086165830492973,
          0.02579527720808983,
          0.05046728998422623,
          0.05432606115937233,
          0.03817491978406906,
          -0.01471586525440216,
          -0.39222481846809387,
          -0.13992275297641754,
          0.09651130437850952,
          -0.121681347489357,
          -0.024600813165307045,
          -0.1958569586277008,
          0.05224393308162689,
          -0.021493541076779366,
          0.05306984856724739,
          0.05019056051969528,
          -0.11364959180355072,
          0.10759124904870987,
          1.052569031715393,
          0.01559384260326624,
          0.016470689326524734,
          -0.13897192478179932,
          -0.1886405497789383,
          -0.058322567492723465,
          -0.06449086219072342,
          -0.049193333834409714,
          0.032034169882535934,
          0.04883502423763275,
          -0.4151246249675751,
          -0.07999943941831589,
          -0.23430071771144867,
          0.07342198491096497,
          0.022992802783846855,
          0.052066247910261154,
          0.057948168367147446,
          -0.062413476407527924,
          -0.09250472486019135,
          0.013888988643884659,
          0.02702569216489792,
          0.0029625820461660624,
          0.12018279731273651,
          0.03781537711620331,
          0.04763190820813179,
          -0.05977090448141098,
          -0.1399678885936737,
          -0.018166078254580498,
          0.039689335972070694,
          0.31398805975914,
          0.19357094168663025,
          0.25292736291885376,
          0.2497948259115219,
          0.2669122517108917,
          0.2912195026874542,
          -0.03491218760609627,
          -0.014700289815664291,
          -0.32236960530281067,
          -0.18891851603984833,
          0.05372926965355873,
          -0.18431924283504486,
          0.043342188000679016,
          -0.1973324716091156,
          0.16403134167194366,
          -0.04239931330084801,
          -0.02141300030052662,
          0.01933920383453369,
          -0.01687576249241829,
          0.05289275199174881,
          -0.14608804881572723,
          0.17787213623523712,
          0.0342889204621315,
          0.049523189663887024,
          0.038085997104644775,
          0.03704614192247391,
          -0.02818692848086357,
          -0.197083979845047,
          -0.09462364763021469,
          0.013592981733381748,
          -0.16704818606376648,
          -0.11257665604352951,
          -0.0814913883805275,
          -0.2316986620426178,
          -0.33799004554748535,
          -0.3054545521736145,
          -0.1002689078450203,
          0.0031771359499543905,
          0.010765153914690018,
          0.2117459774017334,
          0.11757425963878632,
          -0.07587477564811707,
          0.09101029485464096,
          -0.12360694259405136,
          0.0637575164437294,
          0.06731429696083069,
          0.09240870922803879,
          0.08432421833276749,
          0.1529061645269394,
          0.1884274035692215,
          0.07647784054279327,
          -0.0657932460308075,
          0.013101951219141483,
          0.2331271767616272,
          0.024875065311789513,
          0.043599653989076614,
          0.008817845955491066,
          0.007001134566962719,
          0.04647140949964523,
          -0.04660686105489731,
          -0.005309578962624073,
          -0.02493923343718052,
          -0.005590227898210287,
          0.05144284665584564,
          0.04112457111477852,
          0.02618142031133175,
          0.044439468532800674,
          0.051031872630119324,
          0.02895505540072918,
          0.0002450991596560925,
          -0.13708828389644623,
          0.018438637256622314,
          0.2344576120376587,
          0.016834387555718422,
          0.06667625904083252,
          -0.09543339163064957,
          -0.06655459105968475,
          0.0643242821097374,
          0.04168856889009476,
          0.03998469561338425,
          0.04976099729537964,
          0.04810306802392006,
          -0.1526883989572525,
          0.08822750300168991,
          -0.053757257759571075,
          -0.12653274834156036,
          -0.05091513320803642,
          -0.005815612152218819,
          0.05305298790335655,
          -0.07619460672140121,
          -0.19151973724365234,
          0.15473556518554688,
          -0.02558767795562744,
          0.05750404670834541,
          0.10948354005813599,
          -0.029261358082294464,
          0.03335875645279884,
          0.17940562963485718,
          0.04507482796907425,
          0.10292261093854904,
          0.18552450835704803,
          -0.06858479231595993,
          -0.039521168917417526,
          0.050335414707660675,
          -0.0332452654838562,
          -0.05222563073039055,
          0.08670417219400406,
          0.025555932894349098,
          0.04650123789906502,
          -0.0014083047863095999,
          0.1735004335641861,
          0.0546085461974144,
          0.10366101562976837,
          0.035399969667196274,
          0.050178784877061844,
          0.022982686758041382,
          -0.05155528709292412,
          -0.02145322784781456,
          -0.0339958593249321,
          0.026984117925167084,
          0.020938005298376083,
          -0.030627816915512085,
          -0.0358700193464756,
          0.002148888073861599,
          0.1564054936170578,
          -0.01406784076243639,
          0.048483166843652725,
          0.05855150148272514,
          -0.11487814784049988,
          -0.08066541701555252,
          0.017547249794006348,
          0.0011655125999823213,
          0.007399887777864933,
          0.053514886647462845,
          0.05419177561998367,
          0.08173767477273941,
          0.08223094791173935,
          0.03655962273478508,
          0.036525651812553406,
          0.03727579861879349,
          0.05074140429496765,
          -0.04925469309091568,
          0.039881158620119095,
          0.05493413656949997,
          0.2181263566017151,
          0.14350296556949615,
          0.0630367323756218,
          -0.1143079623579979,
          0.0006212084554135799,
          0.014439388178288937,
          0.001899311551824212,
          -0.03432535380125046,
          -0.004028667695820332,
          0.04115326330065727,
          0.09396354109048843,
          -0.05925195291638374,
          0.0016036025481298566,
          -0.008046613074839115,
          0.044255271553993225,
          -0.08629032969474792,
          -0.0990297943353653,
          -0.007739464286714792,
          0.043747592717409134,
          -0.08244067430496216,
          -0.06896129250526428,
          0.170357808470726,
          -0.015103360638022423,
          0.056453362107276917,
          0.06278608739376068,
          -0.017729302868247032,
          0.04328695312142372,
          0.050101492553949356,
          -0.00862302165478468,
          0.03153840824961662,
          0.0513743981719017,
          0.0513567291200161,
          0.13411803543567657,
          -0.12878510355949402,
          -0.11681962758302689,
          -0.029047345742583275,
          -0.059424228966236115,
          0.0021817313972860575,
          0.03730843961238861,
          0.05174614489078522,
          0.049266960471868515,
          -0.082066610455513,
          -0.058928970247507095,
          -0.03735235705971718,
          -0.001674972358159721,
          -0.004106549080461264,
          0.05654450133442879,
          -0.0753069519996643,
          0.01730983890593052,
          -0.02048901468515396,
          0.032553546130657196,
          -0.10899067670106888,
          0.20333002507686615,
          0.22856372594833374,
          0.06568943709135056,
          0.01681821048259735,
          -0.03146165981888771,
          0.005794700235128403,
          -0.10446639358997345,
          -0.13811035454273224,
          0.02258104458451271,
          0.22793447971343994,
          0.2054460346698761,
          -0.0701085701584816,
          -0.0526408776640892,
          -0.051390159875154495,
          0.0226089246571064,
          0.04203106090426445,
          0.03666134178638458,
          0.007193857803940773,
          -0.04929585009813309,
          -0.16830728948116302,
          -0.06101866438984871,
          0.050125572830438614,
          0.048239171504974365,
          0.04302587732672691,
          -0.043877385556697845,
          0.007356921676546335,
          -0.07782205194234848,
          0.2787534296512604,
          0.04728325083851814,
          0.04040747508406639,
          0.04717186093330383,
          -0.00841505080461502,
          -0.13982176780700684,
          0.008682790212333202,
          -0.0707007497549057,
          -0.0393407978117466,
          -0.02639102376997471,
          -0.023410219699144363,
          -0.20224714279174805,
          -0.06126962974667549,
          0.014047525823116302,
          -0.052510302513837814,
          -0.008213449269533157,
          -0.13691341876983643,
          0.023434286937117577,
          -0.030035221949219704,
          -0.07911449670791626,
          0.0064629968255758286,
          0.0015414137160405517,
          -0.17915479838848114,
          -0.18633593618869781,
          0.005621918011456728,
          0.060437221080064774,
          0.04845968633890152,
          0.0408359169960022,
          0.052384644746780396,
          0.058443665504455566,
          0.05336255580186844,
          0.056983526796102524,
          0.06379122287034988,
          0.055464889854192734,
          0.05528692528605461,
          -0.13123130798339844,
          -0.28771308064460754,
          -0.15689319372177124,
          -0.14126168191432953,
          -0.05847858265042305,
          -0.012186444364488125,
          -0.05899801477789879,
          -0.10344280302524567,
          -0.09738855063915253,
          0.043745074421167374,
          -0.09335952252149582,
          -0.4232921898365021,
          0.0774352177977562,
          -0.06761953979730606,
          -0.3510220944881439,
          -0.07574751228094101,
          -0.3034232556819916,
          0.09747248888015747,
          -0.11520730704069138,
          0.08995634317398071,
          0.03375905007123947,
          -0.036212265491485596,
          -0.06389382481575012,
          -0.04355258867144585,
          -0.00495913764461875,
          0.029308553785085678,
          -0.22734403610229492,
          0.06212017685174942,
          -0.0648905336856842,
          0.04219255596399307,
          0.033923111855983734,
          0.035048846155405045,
          -0.09232570230960846,
          -0.06121305003762245,
          -0.06934893131256104,
          0.04924347251653671,
          0.013661330565810204,
          -0.1475886106491089,
          0.02966134063899517,
          -0.014761770144104958,
          -0.00535109406337142,
          -0.01013563945889473,
          -0.13144879043102264,
          -0.12229649722576141,
          -0.006130795460194349,
          0.06587126106023788,
          -0.020225614309310913,
          -0.07676418125629425,
          -0.05913027748465538,
          -0.02756579965353012,
          0.12989085912704468,
          0.018549982458353043,
          0.020504450425505638,
          -0.16438816487789154,
          0.0379386804997921,
          -0.40328359603881836,
          0.04756157845258713,
          -0.0827886164188385,
          -0.05177190899848938,
          0.041492998600006104,
          0.05262022092938423,
          -0.005962447263300419,
          -0.03316432610154152,
          0.008453967049717903,
          -0.03087564930319786,
          -0.18711990118026733,
          -0.06402496248483658,
          -0.26500868797302246,
          -0.17641229927539825,
          0.055727604776620865,
          -0.10240782052278519,
          0.049229640513658524,
          0.009036657400429249,
          0.0008648767834529281,
          0.04839714244008064,
          0.037181831896305084,
          0.09705696254968643,
          -0.18802370131015778,
          -0.01065952330827713,
          -0.04507221654057503,
          0.05095381289720535,
          0.038149695843458176,
          0.06878285109996796,
          -0.03116607666015625,
          -0.1561698615550995,
          -0.08232861757278442,
          -0.3581335246562958,
          -0.05476561188697815,
          -0.2519686222076416,
          -0.03379121050238609,
          -0.030974598601460457,
          -0.05256875231862068,
          -0.062255676835775375,
          0.04186028614640236,
          -0.007389000616967678,
          0.028315957635641098,
          0.05828898027539253,
          0.05286284163594246,
          -0.0763864517211914,
          0.04963360354304314,
          0.01960129104554653,
          -0.06552260369062424,
          -0.23841115832328796,
          0.019243810325860977,
          -0.07639588415622711,
          -0.05020047351717949,
          0.04506281763315201,
          0.044751107692718506,
          0.020008927211165428,
          0.034389249980449677,
          -0.0608111210167408,
          -0.2465735524892807,
          -0.015393618494272232,
          0.052386097609996796,
          -0.02760901115834713,
          -0.02269921824336052,
          0.04437857121229172,
          -0.012127243913710117,
          0.03661553934216499,
          0.027197565883398056,
          0.0056009539403021336,
          -0.11878260225057602,
          0.06109604984521866,
          -0.03510575369000435,
          -0.11754485964775085,
          -0.023955831304192543,
          -0.10755262523889542,
          0.013226667419075966,
          -0.05546226724982262,
          0.024897290393710136,
          0.006329432595521212,
          0.06783866882324219,
          -0.02376917004585266,
          -0.03721688315272331,
          0.025040939450263977,
          -0.11591850221157074,
          0.02928329072892666,
          0.028357941657304764,
          -0.10064157098531723,
          0.014040886424481869,
          -0.13102445006370544,
          -0.014687594026327133,
          -0.05160156637430191,
          0.03725924342870712,
          0.02032117359340191,
          -0.03199813514947891,
          -0.05306079611182213,
          -0.10103943198919296,
          -0.21987999975681305,
          -0.1222715675830841,
          -0.03550802916288376,
          -0.022094886749982834,
          0.021465297788381577,
          -0.07054799795150757,
          0.05322541296482086,
          -0.05301991477608681,
          0.055428098887205124,
          0.04491658881306648,
          -0.06951821595430374,
          -0.10047756880521774,
          -0.06979168951511383,
          0.04349523037672043,
          0.026440106332302094,
          -0.015114075504243374,
          0.03481446951627731,
          0.04965997859835625,
          0.05468447878956795,
          0.031367719173431396,
          0.029221542179584503,
          0.05387846753001213,
          0.05245240032672882,
          -0.007189434487372637,
          0.04975321516394615,
          0.01942163147032261,
          0.02929869294166565,
          -0.06899848580360413,
          -0.07663938403129578,
          0.0517711378633976,
          0.05664357542991638,
          -0.008918770588934422,
          0.05210104584693909,
          0.047089584171772,
          0.05569639056921005,
          -0.0239438284188509,
          -0.052241723984479904,
          0.047318264842033386,
          0.03364494815468788,
          -0.08982158452272415,
          0.02706931158900261,
          -0.043110210448503494,
          -0.014776566065847874,
          0.03376933932304382,
          -0.013821604661643505,
          0.04839400202035904,
          0.019073626026511192,
          0.012309675104916096,
          0.037413693964481354,
          -0.004454766865819693,
          0.03126852959394455,
          0.01988370716571808,
          0.01902111805975437,
          0.05413159355521202,
          0.030681587755680084,
          0.06489075720310211,
          0.0480123907327652,
          0.04447648301720619,
          -0.024357035756111145,
          -0.07621854543685913,
          -0.07144654542207718,
          0.03245978802442551,
          -0.08583323657512665,
          0.060077518224716187,
          0.07972300052642822,
          0.04461809992790222,
          0.041647542268037796,
          -0.022005373612046242,
          0.037875622510910034,
          0.0023467738647013903,
          -0.041585907340049744,
          0.03142106905579567,
          0.04439261928200722,
          0.04586511850357056,
          -0.06734117120504379,
          -0.28142818808555603,
          0.04094015806913376,
          0.033062294125556946,
          -0.012834814377129078,
          -0.05112173408269882,
          0.07210318744182587,
          -0.149619922041893,
          0.050147656351327896,
          0.016068387776613235,
          0.04498157277703285,
          -0.17774945497512817,
          0.042692236602306366,
          -0.06456124037504196,
          -0.02173602022230625,
          -0.07735663652420044,
          -0.23216921091079712,
          -0.15318137407302856,
          -0.10402890294790268,
          -0.07882621139287949,
          -0.121070995926857,
          -0.16842275857925415,
          -0.031173281371593475,
          -0.17647887766361237,
          -0.272672563791275,
          -0.20872893929481506,
          -0.21126529574394226,
          -0.1577623188495636,
          -0.1917586773633957,
          0.05348009616136551,
          -0.11720912158489227,
          -0.13007399439811707,
          -0.24115629494190216,
          -0.12444473057985306,
          -0.1595858335494995,
          -0.19567658007144928,
          -0.08539332449436188,
          -0.0020601714495569468,
          0.010241888463497162,
          -0.05917176976799965,
          -0.07815820723772049,
          0.023367080837488174,
          -0.08926703035831451,
          0.0015290642622858286,
          0.022539110854268074,
          0.0693916603922844,
          -0.08322250097990036,
          -0.16592837870121002,
          0.029753046110272408,
          0.11625535786151886,
          -0.12403310090303421,
          0.06411600112915039,
          -0.16156724095344543,
          -0.03728042542934418,
          -0.009444396011531353,
          -0.014266402460634708,
          0.04290128871798515,
          -0.09005913138389587,
          0.03284747898578644,
          0.036153629422187805,
          -0.11966176331043243,
          -0.01451911311596632,
          0.05199095979332924,
          -0.06243264302611351,
          -0.027711527422070503,
          0.047745201736688614,
          0.03672228008508682,
          -0.3418773412704468,
          -0.36443856358528137,
          -0.14223818480968475,
          -0.33464887738227844,
          -0.3127742111682892,
          -0.27181312441825867,
          -0.46461957693099976,
          -0.3344724774360657,
          -0.2641175389289856,
          -0.22846539318561554,
          0.031935788691043854,
          0.03977399319410324,
          0.05505158752202988,
          0.05381646379828453,
          0.05187405273318291,
          -0.09771952778100967,
          -0.4454708397388458
         ],
         "yaxis": "y"
        }
       ],
       "layout": {
        "height": 500,
        "legend": {
         "tracegroupgap": 0
        },
        "margin": {
         "t": 60
        },
        "template": {
         "data": {
          "bar": [
           {
            "error_x": {
             "color": "#2a3f5f"
            },
            "error_y": {
             "color": "#2a3f5f"
            },
            "marker": {
             "line": {
              "color": "#E5ECF6",
              "width": 0.5
             },
             "pattern": {
              "fillmode": "overlay",
              "size": 10,
              "solidity": 0.2
             }
            },
            "type": "bar"
           }
          ],
          "barpolar": [
           {
            "marker": {
             "line": {
              "color": "#E5ECF6",
              "width": 0.5
             },
             "pattern": {
              "fillmode": "overlay",
              "size": 10,
              "solidity": 0.2
             }
            },
            "type": "barpolar"
           }
          ],
          "carpet": [
           {
            "aaxis": {
             "endlinecolor": "#2a3f5f",
             "gridcolor": "white",
             "linecolor": "white",
             "minorgridcolor": "white",
             "startlinecolor": "#2a3f5f"
            },
            "baxis": {
             "endlinecolor": "#2a3f5f",
             "gridcolor": "white",
             "linecolor": "white",
             "minorgridcolor": "white",
             "startlinecolor": "#2a3f5f"
            },
            "type": "carpet"
           }
          ],
          "choropleth": [
           {
            "colorbar": {
             "outlinewidth": 0,
             "ticks": ""
            },
            "type": "choropleth"
           }
          ],
          "contour": [
           {
            "colorbar": {
             "outlinewidth": 0,
             "ticks": ""
            },
            "colorscale": [
             [
              0,
              "#0d0887"
             ],
             [
              0.1111111111111111,
              "#46039f"
             ],
             [
              0.2222222222222222,
              "#7201a8"
             ],
             [
              0.3333333333333333,
              "#9c179e"
             ],
             [
              0.4444444444444444,
              "#bd3786"
             ],
             [
              0.5555555555555556,
              "#d8576b"
             ],
             [
              0.6666666666666666,
              "#ed7953"
             ],
             [
              0.7777777777777778,
              "#fb9f3a"
             ],
             [
              0.8888888888888888,
              "#fdca26"
             ],
             [
              1,
              "#f0f921"
             ]
            ],
            "type": "contour"
           }
          ],
          "contourcarpet": [
           {
            "colorbar": {
             "outlinewidth": 0,
             "ticks": ""
            },
            "type": "contourcarpet"
           }
          ],
          "heatmap": [
           {
            "colorbar": {
             "outlinewidth": 0,
             "ticks": ""
            },
            "colorscale": [
             [
              0,
              "#0d0887"
             ],
             [
              0.1111111111111111,
              "#46039f"
             ],
             [
              0.2222222222222222,
              "#7201a8"
             ],
             [
              0.3333333333333333,
              "#9c179e"
             ],
             [
              0.4444444444444444,
              "#bd3786"
             ],
             [
              0.5555555555555556,
              "#d8576b"
             ],
             [
              0.6666666666666666,
              "#ed7953"
             ],
             [
              0.7777777777777778,
              "#fb9f3a"
             ],
             [
              0.8888888888888888,
              "#fdca26"
             ],
             [
              1,
              "#f0f921"
             ]
            ],
            "type": "heatmap"
           }
          ],
          "heatmapgl": [
           {
            "colorbar": {
             "outlinewidth": 0,
             "ticks": ""
            },
            "colorscale": [
             [
              0,
              "#0d0887"
             ],
             [
              0.1111111111111111,
              "#46039f"
             ],
             [
              0.2222222222222222,
              "#7201a8"
             ],
             [
              0.3333333333333333,
              "#9c179e"
             ],
             [
              0.4444444444444444,
              "#bd3786"
             ],
             [
              0.5555555555555556,
              "#d8576b"
             ],
             [
              0.6666666666666666,
              "#ed7953"
             ],
             [
              0.7777777777777778,
              "#fb9f3a"
             ],
             [
              0.8888888888888888,
              "#fdca26"
             ],
             [
              1,
              "#f0f921"
             ]
            ],
            "type": "heatmapgl"
           }
          ],
          "histogram": [
           {
            "marker": {
             "pattern": {
              "fillmode": "overlay",
              "size": 10,
              "solidity": 0.2
             }
            },
            "type": "histogram"
           }
          ],
          "histogram2d": [
           {
            "colorbar": {
             "outlinewidth": 0,
             "ticks": ""
            },
            "colorscale": [
             [
              0,
              "#0d0887"
             ],
             [
              0.1111111111111111,
              "#46039f"
             ],
             [
              0.2222222222222222,
              "#7201a8"
             ],
             [
              0.3333333333333333,
              "#9c179e"
             ],
             [
              0.4444444444444444,
              "#bd3786"
             ],
             [
              0.5555555555555556,
              "#d8576b"
             ],
             [
              0.6666666666666666,
              "#ed7953"
             ],
             [
              0.7777777777777778,
              "#fb9f3a"
             ],
             [
              0.8888888888888888,
              "#fdca26"
             ],
             [
              1,
              "#f0f921"
             ]
            ],
            "type": "histogram2d"
           }
          ],
          "histogram2dcontour": [
           {
            "colorbar": {
             "outlinewidth": 0,
             "ticks": ""
            },
            "colorscale": [
             [
              0,
              "#0d0887"
             ],
             [
              0.1111111111111111,
              "#46039f"
             ],
             [
              0.2222222222222222,
              "#7201a8"
             ],
             [
              0.3333333333333333,
              "#9c179e"
             ],
             [
              0.4444444444444444,
              "#bd3786"
             ],
             [
              0.5555555555555556,
              "#d8576b"
             ],
             [
              0.6666666666666666,
              "#ed7953"
             ],
             [
              0.7777777777777778,
              "#fb9f3a"
             ],
             [
              0.8888888888888888,
              "#fdca26"
             ],
             [
              1,
              "#f0f921"
             ]
            ],
            "type": "histogram2dcontour"
           }
          ],
          "mesh3d": [
           {
            "colorbar": {
             "outlinewidth": 0,
             "ticks": ""
            },
            "type": "mesh3d"
           }
          ],
          "parcoords": [
           {
            "line": {
             "colorbar": {
              "outlinewidth": 0,
              "ticks": ""
             }
            },
            "type": "parcoords"
           }
          ],
          "pie": [
           {
            "automargin": true,
            "type": "pie"
           }
          ],
          "scatter": [
           {
            "fillpattern": {
             "fillmode": "overlay",
             "size": 10,
             "solidity": 0.2
            },
            "type": "scatter"
           }
          ],
          "scatter3d": [
           {
            "line": {
             "colorbar": {
              "outlinewidth": 0,
              "ticks": ""
             }
            },
            "marker": {
             "colorbar": {
              "outlinewidth": 0,
              "ticks": ""
             }
            },
            "type": "scatter3d"
           }
          ],
          "scattercarpet": [
           {
            "marker": {
             "colorbar": {
              "outlinewidth": 0,
              "ticks": ""
             }
            },
            "type": "scattercarpet"
           }
          ],
          "scattergeo": [
           {
            "marker": {
             "colorbar": {
              "outlinewidth": 0,
              "ticks": ""
             }
            },
            "type": "scattergeo"
           }
          ],
          "scattergl": [
           {
            "marker": {
             "colorbar": {
              "outlinewidth": 0,
              "ticks": ""
             }
            },
            "type": "scattergl"
           }
          ],
          "scattermapbox": [
           {
            "marker": {
             "colorbar": {
              "outlinewidth": 0,
              "ticks": ""
             }
            },
            "type": "scattermapbox"
           }
          ],
          "scatterpolar": [
           {
            "marker": {
             "colorbar": {
              "outlinewidth": 0,
              "ticks": ""
             }
            },
            "type": "scatterpolar"
           }
          ],
          "scatterpolargl": [
           {
            "marker": {
             "colorbar": {
              "outlinewidth": 0,
              "ticks": ""
             }
            },
            "type": "scatterpolargl"
           }
          ],
          "scatterternary": [
           {
            "marker": {
             "colorbar": {
              "outlinewidth": 0,
              "ticks": ""
             }
            },
            "type": "scatterternary"
           }
          ],
          "surface": [
           {
            "colorbar": {
             "outlinewidth": 0,
             "ticks": ""
            },
            "colorscale": [
             [
              0,
              "#0d0887"
             ],
             [
              0.1111111111111111,
              "#46039f"
             ],
             [
              0.2222222222222222,
              "#7201a8"
             ],
             [
              0.3333333333333333,
              "#9c179e"
             ],
             [
              0.4444444444444444,
              "#bd3786"
             ],
             [
              0.5555555555555556,
              "#d8576b"
             ],
             [
              0.6666666666666666,
              "#ed7953"
             ],
             [
              0.7777777777777778,
              "#fb9f3a"
             ],
             [
              0.8888888888888888,
              "#fdca26"
             ],
             [
              1,
              "#f0f921"
             ]
            ],
            "type": "surface"
           }
          ],
          "table": [
           {
            "cells": {
             "fill": {
              "color": "#EBF0F8"
             },
             "line": {
              "color": "white"
             }
            },
            "header": {
             "fill": {
              "color": "#C8D4E3"
             },
             "line": {
              "color": "white"
             }
            },
            "type": "table"
           }
          ]
         },
         "layout": {
          "annotationdefaults": {
           "arrowcolor": "#2a3f5f",
           "arrowhead": 0,
           "arrowwidth": 1
          },
          "autotypenumbers": "strict",
          "coloraxis": {
           "colorbar": {
            "outlinewidth": 0,
            "ticks": ""
           }
          },
          "colorscale": {
           "diverging": [
            [
             0,
             "#8e0152"
            ],
            [
             0.1,
             "#c51b7d"
            ],
            [
             0.2,
             "#de77ae"
            ],
            [
             0.3,
             "#f1b6da"
            ],
            [
             0.4,
             "#fde0ef"
            ],
            [
             0.5,
             "#f7f7f7"
            ],
            [
             0.6,
             "#e6f5d0"
            ],
            [
             0.7,
             "#b8e186"
            ],
            [
             0.8,
             "#7fbc41"
            ],
            [
             0.9,
             "#4d9221"
            ],
            [
             1,
             "#276419"
            ]
           ],
           "sequential": [
            [
             0,
             "#0d0887"
            ],
            [
             0.1111111111111111,
             "#46039f"
            ],
            [
             0.2222222222222222,
             "#7201a8"
            ],
            [
             0.3333333333333333,
             "#9c179e"
            ],
            [
             0.4444444444444444,
             "#bd3786"
            ],
            [
             0.5555555555555556,
             "#d8576b"
            ],
            [
             0.6666666666666666,
             "#ed7953"
            ],
            [
             0.7777777777777778,
             "#fb9f3a"
            ],
            [
             0.8888888888888888,
             "#fdca26"
            ],
            [
             1,
             "#f0f921"
            ]
           ],
           "sequentialminus": [
            [
             0,
             "#0d0887"
            ],
            [
             0.1111111111111111,
             "#46039f"
            ],
            [
             0.2222222222222222,
             "#7201a8"
            ],
            [
             0.3333333333333333,
             "#9c179e"
            ],
            [
             0.4444444444444444,
             "#bd3786"
            ],
            [
             0.5555555555555556,
             "#d8576b"
            ],
            [
             0.6666666666666666,
             "#ed7953"
            ],
            [
             0.7777777777777778,
             "#fb9f3a"
            ],
            [
             0.8888888888888888,
             "#fdca26"
            ],
            [
             1,
             "#f0f921"
            ]
           ]
          },
          "colorway": [
           "#636efa",
           "#EF553B",
           "#00cc96",
           "#ab63fa",
           "#FFA15A",
           "#19d3f3",
           "#FF6692",
           "#B6E880",
           "#FF97FF",
           "#FECB52"
          ],
          "font": {
           "color": "#2a3f5f"
          },
          "geo": {
           "bgcolor": "white",
           "lakecolor": "white",
           "landcolor": "#E5ECF6",
           "showlakes": true,
           "showland": true,
           "subunitcolor": "white"
          },
          "hoverlabel": {
           "align": "left"
          },
          "hovermode": "closest",
          "mapbox": {
           "style": "light"
          },
          "paper_bgcolor": "white",
          "plot_bgcolor": "#E5ECF6",
          "polar": {
           "angularaxis": {
            "gridcolor": "white",
            "linecolor": "white",
            "ticks": ""
           },
           "bgcolor": "#E5ECF6",
           "radialaxis": {
            "gridcolor": "white",
            "linecolor": "white",
            "ticks": ""
           }
          },
          "scene": {
           "xaxis": {
            "backgroundcolor": "#E5ECF6",
            "gridcolor": "white",
            "gridwidth": 2,
            "linecolor": "white",
            "showbackground": true,
            "ticks": "",
            "zerolinecolor": "white"
           },
           "yaxis": {
            "backgroundcolor": "#E5ECF6",
            "gridcolor": "white",
            "gridwidth": 2,
            "linecolor": "white",
            "showbackground": true,
            "ticks": "",
            "zerolinecolor": "white"
           },
           "zaxis": {
            "backgroundcolor": "#E5ECF6",
            "gridcolor": "white",
            "gridwidth": 2,
            "linecolor": "white",
            "showbackground": true,
            "ticks": "",
            "zerolinecolor": "white"
           }
          },
          "shapedefaults": {
           "line": {
            "color": "#2a3f5f"
           }
          },
          "ternary": {
           "aaxis": {
            "gridcolor": "white",
            "linecolor": "white",
            "ticks": ""
           },
           "baxis": {
            "gridcolor": "white",
            "linecolor": "white",
            "ticks": ""
           },
           "bgcolor": "#E5ECF6",
           "caxis": {
            "gridcolor": "white",
            "linecolor": "white",
            "ticks": ""
           }
          },
          "title": {
           "x": 0.05
          },
          "xaxis": {
           "automargin": true,
           "gridcolor": "white",
           "linecolor": "white",
           "ticks": "",
           "title": {
            "standoff": 15
           },
           "zerolinecolor": "white",
           "zerolinewidth": 2
          },
          "yaxis": {
           "automargin": true,
           "gridcolor": "white",
           "linecolor": "white",
           "ticks": "",
           "title": {
            "standoff": 15
           },
           "zerolinecolor": "white",
           "zerolinewidth": 2
          }
         }
        },
        "width": 500,
        "xaxis": {
         "anchor": "y",
         "domain": [
          0,
          1
         ],
         "title": {
          "text": "x"
         }
        },
        "yaxis": {
         "anchor": "x",
         "domain": [
          0,
          1
         ],
         "title": {
          "text": "y"
         }
        }
       }
      },
      "text/html": [
       "<div>                            <div id=\"cb0e89f9-f3cb-4fa2-bb99-5a4b67d34ca7\" class=\"plotly-graph-div\" style=\"height:500px; width:500px;\"></div>            <script type=\"text/javascript\">                require([\"plotly\"], function(Plotly) {                    window.PLOTLYENV=window.PLOTLYENV || {};                                    if (document.getElementById(\"cb0e89f9-f3cb-4fa2-bb99-5a4b67d34ca7\")) {                    Plotly.newPlot(                        \"cb0e89f9-f3cb-4fa2-bb99-5a4b67d34ca7\",                        [{\"customdata\":[[\"neuron\"],[\"sensory neuron\"],[\"primary cultured cell\"],[\"cultured cell\"],[\"fibroblast neural crest derived\"],[\"migratory neural crest cell\"],[\"fibroblast\"],[\"neuronal receptor cell\"],[\"sensory receptor cell\"],[\"embryonic cell (metazoa)\"],[\"experimentally modified cell in vitro\"],[\"germ line cell\"],[\"stem cell\"],[\"male germ cell\"],[\"germ cell\"],[\"haploid cell\"],[\"sperm\"],[\"male gamete\"],[\"primordial germ cell\"],[\"polyploid cell\"],[\"smooth muscle cell\"],[\"neural crest derived neuron\"],[\"glioblast\"],[\"non-terminally differentiated cell\"],[\"neuroblast (sensu Vertebrata)\"],[\"surface ectodermal cell\"],[\"exocrine cell\"],[\"precursor cell\"],[\"single fate stem cell\"],[\"somatic stem cell\"],[\"epithelial fate stem cell\"],[\"hematopoietic stem cell\"],[\"hematopoietic cell\"],[\"hematopoietic precursor cell\"],[\"progenitor cell\"],[\"erythroid progenitor cell\"],[\"erythroid lineage cell\"],[\"myeloid lineage restricted progenitor cell\"],[\"megakaryocyte-erythroid progenitor cell\"],[\"monopoietic cell\"],[\"myeloid cell\"],[\"macrophage dendritic cell progenitor\"],[\"eosinophil\"],[\"professional antigen presenting cell\"],[\"neutrophil progenitor cell\"],[\"basophil\"],[\"histamine secreting cell\"],[\"common lymphoid progenitor\"],[\"neural cell\"],[\"multi fate stem cell\"],[\"common myeloid progenitor\"],[\"hematopoietic oligopotent progenitor cell\"],[\"granulocyte monocyte progenitor cell\"],[\"secretory cell\"],[\"myoblast\"],[\"muscle precursor cell\"],[\"connective tissue cell\"],[\"mesenchymal stem cell\"],[\"ecto-epithelial cell\"],[\"neurecto-epithelial cell\"],[\"osteoblast\"],[\"preosteoblast\"],[\"ciliated cell\"],[\"ependymal cell\"],[\"ciliated epithelial cell\"],[\"epithelial cell\"],[\"leukocyte\"],[\"duct epithelial cell\"],[\"branched duct epithelial cell\"],[\"blood vessel endothelial cell\"],[\"squamous epithelial cell\"],[\"endothelial cell of vascular tree\"],[\"non-branched duct epithelial cell\"],[\"meso-epithelial cell\"],[\"barrier cell\"],[\"columnar\\u002fcuboidal epithelial cell\"],[\"mesothelial cell\"],[\"lining cell\"],[\"stratified epithelial cell\"],[\"circulating cell\"],[\"blood cell\"],[\"epithelial cell of lung\"],[\"epithelial cell of pancreas\"],[\"T cell\"],[\"lymphocyte\"],[\"pro-T cell\"],[\"lymphocyte of B lineage\"],[\"Kupffer cell\"],[\"tissue-resident macrophage\"],[\"osteoclast\"],[\"myeloid leukocyte\"],[\"phagocyte (sensu Vertebrata)\"],[\"bone cell\"],[\"monocyte\"],[\"granulocyte\"],[\"neuron associated cell\"],[\"neutrophil\"],[\"phagocyte\"],[\"mast cell\"],[\"sensory epithelial cell\"],[\"interneuron\"],[\"motor neuron\"],[\"efferent neuron\"],[\"afferent neuron\"],[\"bipolar neuron\"],[\"multipolar neuron\"],[\"autonomic neuron\"],[\"peripheral nervous system neuron\"],[\"cholinergic neuron\"],[\"catecholaminergic neuron\"],[\"mononuclear phagocyte\"],[\"mononuclear cell\"],[\"ectodermal cell\"],[\"endothelial cell\"],[\"CNS neuron (sensu Vertebrata)\"],[\"GABAergic interneuron\"],[\"granule cell\"],[\"Purkinje cell\"],[\"cerebellar neuron\"],[\"stellate neuron\"],[\"neuron associated cell (sensu Vertebrata)\"],[\"glial cell\"],[\"macroglial cell\"],[\"astrocyte\"],[\"oligodendrocyte\"],[\"myelinating glial cell\"],[\"oligodendrocyte precursor cell\"],[\"microglial cell\"],[\"central nervous system macrophage\"],[\"mesodermal cell\"],[\"gut endothelial cell\"],[\"corneal endothelial cell\"],[\"fibrocyte\"],[\"stromal cell\"],[\"adipocyte\"],[\"stuff accumulating cell\"],[\"chondrocyte\"],[\"glycosaminoglycan secreting cell\"],[\"collagen secreting cell\"],[\"pigment cell\"],[\"melanocyte\"],[\"visual pigment cell\"],[\"glandular epithelial cell\"],[\"extracellular matrix secreting cell\"],[\"carbohydrate secreting cell\"],[\"protein secreting cell\"],[\"peptic cell\"],[\"glandular cell of stomach\"],[\"surfactant secreting cell\"],[\"club cell\"],[\"epithelial cell of tracheobronchial tree\"],[\"seromucus secreting cell\"],[\"goblet cell\"],[\"mucus secreting cell\"],[\"parietal cell\"],[\"endocrine cell\"],[\"enteroendocrine cell\"],[\"neuroendocrine cell\"],[\"chromaffin cell\"],[\"amine precursor uptake and decarboxylation cell\"],[\"peptide hormone secreting cell\"],[\"insulin secreting cell\"],[\"type B pancreatic cell\"],[\"pancreatic endocrine cell\"],[\"progenitor cell of endocrine pancreas\"],[\"glucagon secreting cell\"],[\"pancreatic A cell\"],[\"type A enteroendocrine cell\"],[\"somatostatin secreting cell\"],[\"pancreatic D cell\"],[\"type D enteroendocrine cell\"],[\"steroid hormone secreting cell\"],[\"stromal cell of ovary\"],[\"testosterone secreting cell\"],[\"Leydig cell\"],[\"interstitial cell\"],[\"hepatocyte\"],[\"endopolyploid cell\"],[\"hepatoblast\"],[\"contractile cell\"],[\"pericyte\"],[\"myoepithelial cell\"],[\"myofibroblast cell\"],[\"muscle cell\"],[\"electrically responsive cell\"],[\"cell of skeletal muscle\"],[\"slow muscle cell\"],[\"extrafusal muscle fiber\"],[\"fast muscle cell\"],[\"non-striated muscle cell\"],[\"visceral muscle cell\"],[\"smooth muscle myoblast\"],[\"cardiac muscle cell\"],[\"chemoreceptor cell\"],[\"taste receptor cell\"],[\"endo-epithelial cell\"],[\"photoreceptor cell\"],[\"electrically active cell\"],[\"Sertoli cell\"],[\"supporting cell\"],[\"androgen binding protein secreting cell\"],[\"seminiferous tubule epithelial cell\"],[\"insulating cell\"],[\"myelinating Schwann cell\"],[\"Schwann cell\"],[\"immature Schwann cell\"],[\"motile cell\"],[\"anucleate cell\"],[\"nucleate cell\"],[\"single nucleate cell\"],[\"multinucleate cell\"],[\"erythrocyte\"],[\"oxygen accumulating cell\"],[\"reticulocyte\"],[\"platelet\"],[\"serotonin secreting cell\"],[\"megakaryocyte\"],[\"defensive cell\"],[\"macrophage\"],[\"B cell\"],[\"keratinizing barrier epithelial cell\"],[\"stratified squamous epithelial cell\"],[\"keratin accumulating cell\"],[\"brush border epithelial cell\"],[\"Merkel cell\"],[\"keratinocyte\"],[\"transitional epithelial cell\"],[\"primary sensory neuron (sensu Teleostei)\"],[\"eurydendroid cell\"],[\"eye photoreceptor cell\"],[\"gamete\"],[\"crystallin accumulating cell\"],[\"tracheal epithelial cell\"],[\"epidermal cell\"],[\"serous secreting cell\"],[\"milk secreting cell\"],[\"sebum secreting cell\"],[\"sebaceous gland cell\"],[\"pneumocyte\"],[\"epithelial cell of alveolus of lung\"],[\"lysozyme secreting cell\"],[\"neural crest cell\"],[\"mesenchymal cell\"],[\"biogenic amine secreting cell\"],[\"extraembryonic cell\"],[\"trophoblast cell\"],[\"sphincter associated smooth muscle cell\"],[\"vascular associated smooth muscle cell\"],[\"perivascular cell\"],[\"general ecto-epithelial cell\"],[\"myotube\"],[\"attachment cell\"],[\"tendon cell\"],[\"ganglion interneuron\"],[\"CNS interneuron\"],[\"central nervous system neuron\"],[\"electrically signaling cell\"],[\"excretory cell\"],[\"reticular cell\"],[\"follicular dendritic cell\"],[\"striated muscle cell\"],[\"preadipocyte\"],[\"dendritic cell\"],[\"Langerhans cell\"],[\"conventional dendritic cell\"],[\"noradrenergic cell\"],[\"cardiac myoblast\"],[\"neural progenitor cell\"],[\"follicular epithelial cell\"],[\"ovarian surface epithelial cell\"],[\"CD4-positive helper T cell\"],[\"CD4-positive, alpha-beta T cell\"],[\"activated CD4-positive, alpha-beta T cell\"],[\"inhibitory interneuron\"],[\"granulosa cell\"],[\"follicular cell of ovary\"],[\"theca cell\"],[\"androgen secreting cell\"],[\"enkephalin secreting cell\"],[\"endorphin secreting cell\"],[\"type G enteroendocrine cell\"],[\"gastrin secreting cell\"],[\"mucous cell of stomach\"],[\"paneth cell\"],[\"intestinal epithelial cell\"],[\"paracrine cell\"],[\"cardiac muscle myoblast\"],[\"cardiocyte\"],[\"skeletal muscle fiber\"],[\"syncytiotrophoblast cell\"],[\"pigmented epithelial cell\"],[\"primary neuron (sensu Teleostei)\"],[\"T-helper 1 cell\"],[\"T-helper 2 cell\"],[\"CD4-positive, CXCR3-negative, CCR6-negative, alpha-beta T cell\"],[\"proerythroblast\"],[\"erythroblast\"],[\"neuronal brush cell\"],[\"CD7-negative lymphoid progenitor OR granulocyte monocyte progenitor\"],[\"bone marrow hematopoietic cell\"],[\"promonocyte\"],[\"amacrine cell\"],[\"retinal cell\"],[\"retinal ganglion cell\"],[\"promyelocyte\"],[\"cardiac mesenchymal cell\"],[\"migratory cardiac neural crest cell\"],[\"retinal cone cell\"],[\"camera-type eye photoreceptor cell\"],[\"corneal epithelial cell\"],[\"type EC enteroendocrine cell\"],[\"epithelial cell of alimentary canal\"],[\"cell in vitro\"],[\"immature neutrophil\"],[\"myelocyte\"],[\"alveolar macrophage\"],[\"lung macrophage\"],[\"enterocyte\"],[\"gut absorptive cell\"],[\"skeletal muscle satellite cell\"],[\"enucleate erythrocyte\"],[\"enucleated reticulocyte\"],[\"pyramidal neuron\"],[\"retinal rod cell\"],[\"granulocytopoietic cell\"],[\"basophil mast progenitor cell\"],[\"GABAergic neuron\"],[\"acinar cell\"],[\"natural killer cell\"],[\"group 1 innate lymphoid cell\"],[\"mature alpha-beta T cell\"],[\"CD8-positive, alpha-beta T cell\"],[\"transporting cell\"],[\"hepatic stellate cell\"],[\"Mueller cell\"],[\"radial glial cell\"],[\"Bergmann glial cell\"],[\"astrocyte of the forebrain\"],[\"basal cell\"],[\"prickle cell\"],[\"mesangial cell\"],[\"mucous neck cell\"],[\"podocyte\"],[\"renal filtration cell\"],[\"epithelial cell of glomerular capsule\"],[\"fenestrated cell\"],[\"mural cell\"],[\"glutamatergic neuron\"],[\"M cell of gut\"],[\"non-myelinating Schwann cell\"],[\"Cajal-Retzius cell\"],[\"PP cell\"],[\"dopaminergic neuron\"],[\"endothelial tip cell\"],[\"choroid plexus epithelial cell\"],[\"urothelial cell\"],[\"retina horizontal cell\"],[\"retinal bipolar neuron\"],[\"visual system neuron\"],[\"ON-bipolar cell\"],[\"OFF-bipolar cell\"],[\"rod bipolar cell\"],[\"cone retinal bipolar cell\"],[\"myeloid dendritic cell\"],[\"plasmacytoid dendritic cell\"],[\"mature B cell\"],[\"B cell, CD19-positive\"],[\"transitional stage B cell\"],[\"immature B cell\"],[\"precursor B cell\"],[\"plasma cell\"],[\"antibody secreting cell\"],[\"plasmablast\"],[\"memory B cell\"],[\"naive B cell\"],[\"alpha-beta T cell\"],[\"gamma-delta T cell\"],[\"immature alpha-beta T cell\"],[\"immature T cell\"],[\"mature T cell\"],[\"CD4-positive, CD25-positive, alpha-beta regulatory T cell\"],[\"regulatory T cell\"],[\"alpha-beta intraepithelial T cell\"],[\"CD4-positive, alpha-beta thymocyte\"],[\"CD8-positive, alpha-beta cytotoxic T cell\"],[\"activated CD8-positive, alpha-beta T cell\"],[\"CD8-alpha-beta-positive, alpha-beta intraepithelial T cell\"],[\"intraepithelial lymphocyte\"],[\"DN3 thymocyte\"],[\"mature gamma-delta T cell\"],[\"gamma-delta intraepithelial T cell\"],[\"CD8-alpha alpha positive, gamma-delta intraepithelial T cell\"],[\"thymocyte\"],[\"DN4 thymocyte\"],[\"double negative thymocyte\"],[\"DN1 thymic pro-T cell\"],[\"double-positive, alpha-beta thymocyte\"],[\"CD8-positive, alpha-beta thymocyte\"],[\"memory T cell\"],[\"naive T cell\"],[\"mature NK T cell\"],[\"small pre-B-II cell\"],[\"pro-B cell\"],[\"B-1 B cell\"],[\"B-1a B cell\"],[\"B-1b B cell\"],[\"B-2 B cell\"],[\"immature natural killer cell\"],[\"immature innate lymphoid cell\"],[\"mature natural killer cell\"],[\"lymphoid lineage restricted progenitor cell\"],[\"hematopoietic multipotent progenitor cell\"],[\"hematopoietic lineage restricted progenitor cell\"],[\"common dendritic progenitor\"],[\"mature conventional dendritic cell\"],[\"follicular B cell\"],[\"germinal center B cell\"],[\"classical monocyte\"],[\"elicited macrophage\"],[\"inflammatory macrophage\"],[\"non-classical monocyte\"],[\"intermediate monocyte\"],[\"meningeal macrophage\"],[\"alternatively activated macrophage\"],[\"early T lineage precursor\"],[\"naive thymus-derived CD4-positive, alpha-beta T cell\"],[\"CD4-positive, alpha-beta memory T cell\"],[\"T-helper 17 cell\"],[\"naive thymus-derived CD8-positive, alpha-beta T cell\"],[\"natural T-regulatory cell\"],[\"central memory CD4-positive, alpha-beta T cell\"],[\"CD4-positive, alpha-beta memory T cell, CD45RO-positive\"],[\"effector memory CD4-positive, alpha-beta T cell\"],[\"central memory CD8-positive, alpha-beta T cell\"],[\"CD8-positive, alpha-beta memory T cell, CD45RO-positive\"],[\"CD8-positive, alpha-beta cytokine secreting effector T cell\"],[\"CD8-positive, alpha-beta memory T cell\"],[\"cytotoxic T cell\"],[\"effector T cell\"],[\"helper T cell\"],[\"effector memory CD8-positive, alpha-beta T cell\"],[\"immature NK T cell\"],[\"CD8-alpha-alpha-positive, alpha-beta intraepithelial T cell\"],[\"Tc1 cell\"],[\"type I NK T cell\"],[\"type II NK T cell\"],[\"activated type II NK T cell\"],[\"CD4-positive, alpha-beta cytotoxic T cell\"],[\"early lymphoid progenitor\"],[\"CD16-negative, CD56-bright natural killer cell, human\"],[\"CD16-positive, CD56-dim natural killer cell, human\"],[\"mucosal invariant T cell\"],[\"long lived plasma cell\"],[\"class switched memory B cell\"],[\"large pre-B-II cell\"],[\"pre-B-II cell\"],[\"pre-B-I cell\"],[\"unswitched memory B cell\"],[\"IgG memory B cell\"],[\"IgG plasmablast\"],[\"IgA plasmablast\"],[\"IgG plasma cell\"],[\"IgM plasma cell\"],[\"IgA plasma cell\"],[\"hematopoietic oligopotent progenitor cell, lineage-negative\"],[\"pre-conventional dendritic cell\"],[\"CD11b-positive dendritic cell\"],[\"CD34-positive, CD38-negative hematopoietic stem cell\"],[\"CD115-positive monocyte OR common dendritic progenitor\"],[\"CD115-positive monocyte\"],[\"cerebellar granule cell\"],[\"cerebellum glutamatergic neuron\"],[\"cerebellar granule cell precursor\"],[\"cerebral cortex neuron\"],[\"T-helper 22 cell\"],[\"activated CD4-positive, alpha-beta T cell, human\"],[\"effector CD4-positive, alpha-beta T cell\"],[\"naive regulatory T cell\"],[\"memory regulatory T cell\"],[\"activated CD8-positive, alpha-beta T cell, human\"],[\"effector CD8-positive, alpha-beta T cell\"],[\"CD14-positive monocyte\"],[\"CD14-positive, CD16-positive monocyte\"],[\"dendritic cell, human\"],[\"myeloid dendritic cell, human\"],[\"plasmacytoid dendritic cell, human\"],[\"abnormal cell\"],[\"effector memory CD8-positive, alpha-beta T cell, terminally differentiated\"],[\"effector memory CD45RA-positive, alpha-beta T cell, terminally differentiated\"],[\"neoplastic cell\"],[\"malignant cell\"],[\"innate lymphoid cell\"],[\"erythroid progenitor cell, mammalian\"],[\"ILC1\"],[\"group 2 innate lymphoid cell\"],[\"group 3 innate lymphoid cell\"],[\"CD34-positive, CD56-positive, CD117-positive common innate lymphoid precursor, human\"],[\"ILC1, human\"],[\"group 3 innate lymphoid cell, human\"],[\"NKp44-positive group 3 innate lymphoid cell, human\"],[\"NKp44-negative group 3 innate lymphoid cell, human\"],[\"group 2 innate lymphoid cell, human\"],[\"lymphocyte of B lineage, CD19-positive\"],[\"T follicular helper cell\"],[\"fraction A pre-pro B cell\"],[\"early pro-B cell\"],[\"late pro-B cell\"],[\"CD14-positive, CD16-negative classical monocyte\"],[\"type I pneumocyte\"],[\"type II pneumocyte\"],[\"lung secretory cell\"],[\"pancreatic acinar cell\"],[\"pancreas exocrine glandular cell\"],[\"enterocyte of epithelium of large intestine\"],[\"epithelial cell of large intestine\"],[\"brush cell of trachebronchial tree\"],[\"brush cell\"],[\"pancreatic ductal cell\"],[\"epithelial cell of exocrine pancreas\"],[\"interstitial cell of Cajal\"],[\"bone marrow cell\"],[\"interstitial cell of ovary\"],[\"cortical cell of adrenal gland\"],[\"adrenal gland glandular cell\"],[\"regular cardiac myocyte\"],[\"IgG-negative class switched memory B cell\"],[\"regular atrial cardiac myocyte\"],[\"regular ventricular cardiac myocyte\"],[\"endothelial cell of lymphatic vessel\"],[\"vascular lymphangioblast\"],[\"epithelial cell of sweat gland\"],[\"capillary endothelial cell\"],[\"microvascular endothelial cell\"],[\"ciliated columnar cell of tracheobronchial tree\"],[\"multi-ciliated epithelial cell\"],[\"respiratory ciliated cell\"],[\"epithelial cell of uterus\"],[\"endosteal cell\"],[\"renal interstitial pericyte\"],[\"epithelial cell of stomach\"],[\"foveolar cell of stomach\"],[\"basal cell of epidermis\"],[\"stem cell of epidermis\"],[\"glomerular endothelial cell\"],[\"glomerular cell\"],[\"granular cell of epidermis\"],[\"epithelial cell of thyroid gland\"],[\"renal beta-intercalated cell\"],[\"renal intercalated cell\"],[\"epithelial cell of lower respiratory tract\"],[\"brush cell of epithelium proper of large intestine\"],[\"intestinal tuft cell\"],[\"brush cell of trachea\"],[\"bronchial epithelial cell\"],[\"epithelial cell of esophagus\"],[\"vertebrate lens cell\"],[\"anterior lens cell\"],[\"lens epithelial cell\"],[\"secondary lens fiber\"],[\"lens fiber cell\"],[\"lactocyte\"],[\"epithelial cell of prostate\"],[\"basal cell of prostate epithelium\"],[\"luminal cell of prostate epithelium\"],[\"basal epithelial cell of prostatic duct\"],[\"pulmonary interstitial fibroblast\"],[\"smooth muscle cell of sphincter of pupil\"],[\"peripheral blood stem cell\"],[\"intestinal crypt stem cell\"],[\"epithelial cell of small intestine\"],[\"stromal cell of endometrium\"],[\"decidual cell\"],[\"thyroid follicular cell\"],[\"endothelial cell of sinusoid\"],[\"enteroendocrine cell of colon\"],[\"enteroendocrine cell of small intestine\"],[\"P\\u002fD1 enteroendocrine cell\"],[\"vasoactive intestinal peptide secreting cell\"],[\"pancreatic PP cell\"],[\"type I enteroendocrine cell\"],[\"GIP cell\"],[\"type L enteroendocrine cell\"],[\"type N enteroendocrine cell\"],[\"ghrelin secreting cell\"],[\"epithelial cell of thymus\"],[\"cortical thymic epithelial cell\"],[\"medullary thymic epithelial cell\"],[\"pigmented ciliary epithelial cell\"],[\"non-pigmented ciliary epithelial cell\"],[\"epithelial cell of distal tubule\"],[\"nephron tubule epithelial cell\"],[\"kidney cortex tubule cell\"],[\"epithelial cell of proximal tubule\"],[\"epithelial cell of skin gland\"],[\"embryonic stem cell\"],[\"myoepithelial cell of mammary gland\"],[\"mammary gland epithelial cell\"],[\"mammary gland glandular cell\"],[\"luminal adaptive secretory precursor cell of mammary gland\"],[\"luminal epithelial cell of mammary gland\"],[\"progenitor cell of mammary luminal epithelium\"],[\"basal epithelial cell of tracheobronchial tree\"],[\"decidual natural killer cell, human\"],[\"endocardial cell\"],[\"cardiac endothelial cell\"],[\"gestational hematopoietic stem cell\"],[\"primitive red blood cell\"],[\"primitive erythroid lineage cell\"],[\"keratocyte\"],[\"myometrial cell\"],[\"uterine smooth muscle cell\"],[\"respiratory epithelial cell\"],[\"respiratory goblet cell\"],[\"Schwann cell precursor\"],[\"CD141-positive myeloid dendritic cell\"],[\"Gr1-high classical monocyte\"],[\"CD14-low, CD16-positive monocyte\"],[\"CD1c-positive myeloid dendritic cell\"],[\"pancreatic stellate cell\"],[\"epidermal Langerhans cell\"],[\"MHC-II-positive classical monocyte\"],[\"nasal mucosa goblet cell\"],[\"melanocyte of skin\"],[\"hair follicle cell\"],[\"trophoblast giant cell\"],[\"fetal cardiomyocyte\"],[\"adventitial cell\"],[\"enteric smooth muscle cell\"],[\"kidney epithelial cell\"],[\"kidney cell\"],[\"subcutaneous adipocyte\"],[\"intrahepatic cholangiocyte\"],[\"cholangiocyte\"],[\"blood vessel smooth muscle cell\"],[\"endothelial cell of artery\"],[\"vein endothelial cell\"],[\"fibroblast of cardiac tissue\"],[\"skin fibroblast\"],[\"fibroblast of lung\"],[\"fibroblast of mammary gland\"],[\"placental epithelial cell\"],[\"fibroblast of breast\"],[\"renal cortical epithelial cell\"],[\"kidney cortical cell\"],[\"retinal blood vessel endothelial cell\"],[\"retinal pigment epithelial cell\"],[\"smooth muscle cell of the pulmonary artery\"],[\"bladder cell\"],[\"bronchial smooth muscle cell\"],[\"tracheobronchial smooth muscle cell\"],[\"brain macroglial cell\"],[\"astrocyte of the cerebral cortex\"],[\"cerebral cortex glial cell\"],[\"migratory enteric neural crest cell\"],[\"adipocyte of breast\"],[\"prostate stromal cell\"],[\"acinar cell of salivary gland\"],[\"salivary gland glandular cell\"],[\"immature astrocyte\"],[\"mature astrocyte\"],[\"mature microglial cell\"],[\"respiratory basal cell\"],[\"glandular cell of esophagus\"],[\"endothelial cell of venule\"],[\"glandular cell of the large intestine\"],[\"tongue muscle cell\"],[\"intestinal enteroendocrine cell\"],[\"S cone cell\"],[\"H1 horizontal cell\"],[\"H2 horizontal cell\"],[\"glycinergic amacrine cell\"],[\"starburst amacrine cell\"],[\"GABAergic amacrine cell\"],[\"ionocyte\"],[\"renal principal cell\"],[\"epithelial cell of nephron\"],[\"renal alpha-intercalated cell\"],[\"pancreatic epsilon cell\"],[\"lymphangioblast\"],[\"mesenchymal lymphangioblast\"],[\"visceromotor neuron\"],[\"enteric neuron\"],[\"skeletal muscle satellite stem cell\"],[\"inhibitory motor neuron\"],[\"cortical interneuron\"],[\"cerebral cortex GABAergic interneuron\"],[\"extravillous trophoblast\"],[\"primary motor cortex pyramidal cell\"],[\"L5 extratelencephalic projecting glutamatergic cortical neuron\"],[\"inflammatory cell\"],[\"salivary gland cell\"],[\"small intestine glandular cell\"],[\"paneth cell of colon\"],[\"colon glandular cell\"],[\"transit amplifying cell\"],[\"transit amplifying cell of colon\"],[\"transit amplifying cell of small intestine\"],[\"intestinal crypt stem cell of large intestine\"],[\"intestinal crypt stem cell of small intestine\"],[\"colon epithelial cell\"],[\"colon macrophage\"],[\"colon goblet cell\"],[\"large intestine goblet cell\"],[\"tuft cell of colon\"],[\"intestinal crypt stem cell of colon\"],[\"lung pericyte\"],[\"endothelial cell of placenta\"],[\"endothelial cell of uterus\"],[\"fibro\\u002fadipogenic progenitor cell\"],[\"centrocyte\"],[\"centroblast\"],[\"T follicular regulatory cell\"],[\"hair follicular keratinocyte\"],[\"cardiac neuron\"],[\"mesothelial cell of epicardium\"],[\"double negative T regulatory cell\"],[\"exhausted T cell\"],[\"skeletal muscle fibroblast\"],[\"muscle fibroblast\"],[\"monocyte-derived dendritic cell\"],[\"chorionic trophoblast cell\"],[\"sympathetic neuron\"],[\"forebrain radial glial cell\"],[\"pulmonary ionocyte\"],[\"epithelial cell of urethra\"],[\"hillock cell\"],[\"tracheobronchial serous cell\"],[\"tracheobronchial goblet cell\"],[\"endothelial cell of periportal hepatic sinusoid\"],[\"endothelial cell of hepatic sinusoid\"],[\"endothelial cell of pericentral hepatic sinusoid\"],[\"periportal region hepatocyte\"],[\"midzonal region hepatocyte\"],[\"centrilobular region hepatocyte\"],[\"intestine goblet cell\"],[\"kidney tubule cell\"],[\"forebrain neuroblast\"],[\"lung goblet cell\"],[\"lung neuroendocrine cell\"],[\"lung ciliated cell\"],[\"smooth muscle cell of small intestine\"],[\"smooth muscle fiber of ileum\"],[\"urethra cell\"],[\"fibroblast of connective tissue of nonglandular part of prostate\"],[\"fibroblast of connective tissue of glandular part of prostate\"],[\"epicardial adipocyte\"],[\"adipocyte of epicardial fat of left ventricle\"],[\"bronchial goblet cell\"],[\"small intestine goblet cell\"],[\"intestinal villus goblet cell\"],[\"duodenum glandular cell\"],[\"ileal goblet cell\"],[\"tracheal goblet cell\"],[\"serous cell of epithelium of trachea\"],[\"serous cell of epithelium of bronchus\"],[\"enterocyte of epithelium of small intestine\"],[\"enterocyte of epithelium proper of small intestine\"],[\"enterocyte of epithelium proper of ileum\"],[\"paneth cell of epithelium of small intestine\"],[\"enterocyte of colon\"],[\"basal cell of epithelium of trachea\"],[\"microfold cell of epithelium of small intestine\"],[\"ventricular cardiac muscle cell\"],[\"conjunctival epithelial cell\"],[\"epithelial cell of lacrimal drainage system\"],[\"epithelial cell of lacrimal sac\"],[\"epithelial cell of nasolacrimal duct\"],[\"bladder urothelial cell\"],[\"ciliary muscle cell\"],[\"epithelial cell of stratum germinativum of esophagus\"],[\"kidney glomerular epithelial cell\"],[\"parietal epithelial cell\"],[\"epithelial cell of intermediate tubule\"],[\"kidney loop of Henle epithelial cell\"],[\"kidney collecting duct epithelial cell\"],[\"kidney collecting duct cell\"],[\"smooth muscle cell of prostate\"],[\"mesothelial cell of pleura\"],[\"kidney interstitial cell\"],[\"kidney medulla cell\"],[\"kidney pelvis cell\"],[\"kidney inner medulla cell\"],[\"kidney outer medulla cell\"],[\"papillary tips cell\"],[\"lower urinary tract cell\"],[\"kidney corpuscule cell\"],[\"kidney interstitial fibroblast\"],[\"kidney interstitial alternatively activated macrophage\"],[\"kidney resident macrophage\"],[\"kidney pelvis urothelial cell\"],[\"kidney collecting duct principal cell\"],[\"kidney collecting duct intercalated cell\"],[\"kidney connecting tubule epithelial cell\"],[\"kidney loop of Henle descending limb epithelial cell\"],[\"kidney distal convoluted tubule epithelial cell\"],[\"kidney blood vessel cell\"],[\"kidney capillary endothelial cell\"],[\"kidney venous blood vessel cell\"],[\"glomerular capillary endothelial cell\"],[\"kidney loop of Henle ascending limb epithelial cell\"],[\"vasa recta cell\"],[\"kidney loop of Henle thick ascending limb epithelial cell\"],[\"kidney loop of Henle thin ascending limb epithelial cell\"],[\"kidney loop of Henle thin descending limb epithelial cell\"],[\"vasa recta ascending limb cell\"],[\"vasa recta descending limb cell\"],[\"medium spiny neuron\"],[\"glycinergic neuron\"],[\"lung endothelial cell\"],[\"pulmonary artery endothelial cell\"],[\"cerebral cortex pyramidal neuron\"],[\"cerebral cortex endothelial cell\"],[\"peripheral blood mononuclear cell\"],[\"tonsil germinal center B cell\"],[\"dermis lymphatic vessel endothelial cell\"],[\"lung microvascular endothelial cell\"],[\"dermis microvascular lymphatic vessel endothelial cell\"],[\"embryonic fibroblast\"],[\"brainstem motor neuron\"],[\"hepatic pit cell\"],[\"liver dendritic cell\"],[\"prostate gland microvascular endothelial cell\"],[\"placental villous trophoblast\"],[\"bronchus fibroblast of lung\"],[\"cord blood hematopoietic stem cell\"],[\"Hofbauer cell\"],[\"vip GABAergic cortical interneuron\"],[\"intratelencephalic-projecting glutamatergic cortical neuron\"],[\"extratelencephalic-projecting glutamatergic cortical neuron\"],[\"lamp5 GABAergic cortical interneuron\"],[\"near-projecting glutamatergic cortical neuron\"],[\"corticothalamic-projecting glutamatergic cortical neuron\"],[\"sncg GABAergic cortical interneuron\"],[\"sst GABAergic cortical interneuron\"],[\"pvalb GABAergic cortical interneuron\"],[\"sst chodl GABAergic cortical interneuron\"],[\"direct pathway medium spiny neuron\"],[\"indirect pathway medium spiny neuron\"],[\"chandelier pvalb GABAergic cortical interneuron\"],[\"chandelier cell\"],[\"L6b glutamatergic cortical neuron\"],[\"L2\\u002f3-6 intratelencephalic projecting glutamatergic neuron\"],[\"L6 corticothalamic-projecting glutamatergic cortical neuron\"],[\"L5\\u002f6 near-projecting glutamatergic neuron of the primary motor cortex\"],[\"L5\\u002f6 near-projecting glutamatergic neuron\"],[\"L2\\u002f3 intratelencephalic projecting glutamatergic neuron\"],[\"L6 intratelencephalic projecting glutamatergic neuron of the primary motor cortex\"],[\"L6 intratelencephalic projecting glutamatergic neuron\"],[\"vascular leptomeningeal cell\"],[\"mesothelial fibroblast of the leptomeninx\"],[\"mesothelial fibroblast\"],[\"differentiation-committed oligodendrocyte precursor\"],[\"caudal ganglionic eminence derived interneuron\"],[\"caudal ganglionic eminence derived GABAergic cortical interneuron\"],[\"brain vascular cell\"],[\"unipolar brush cell\"],[\"midget ganglion cell of retina\"],[\"parasol ganglion cell of retina\"],[\"alveolar type 1 fibroblast cell\"],[\"alveolar type 2 fibroblast cell\"],[\"epithelial cell of proximal tubule segment 1\"],[\"epithelial cell of proximal tubule segment 3\"],[\"kidney connecting tubule principal cell\"],[\"respiratory hillock cell\"],[\"BEST4+ intestinal epithelial cell, human\"],[\"L4 intratelencephalic projecting glutamatergic neuron\"],[\"serous secreting cell of bronchus submucosal gland\"],[\"suprabasal keratinocyte\"],[\"retinal astrocyte\"],[\"ON-blue cone bipolar cell\"],[\"airway submucosal gland duct basal cell\"],[\"perichondrial fibroblast\"],[\"lung perichondrial fibroblast\"],[\"diffuse bipolar 1 cell\"],[\"diffuse bipolar 2 cell\"],[\"diffuse bipolar 3a cell\"],[\"diffuse bipolar 3b cell\"],[\"diffuse bipolar 4 cell\"],[\"diffuse bipolar 6 cell\"],[\"flat midget bipolar cell\"],[\"invaginating midget bipolar cell\"],[\"giant bipolar cell\"],[\"OFFx cell\"],[\"lung resident memory CD4-positive, alpha-beta T cell\"],[\"lung resident memory CD8-positive, alpha-beta T cell\"],[\"metallothionein-positive alveolar macrophage\"],[\"lung interstitial macrophage\"],[\"deuterosomal cell\"],[\"respiratory suprabasal cell\"],[\"luminal hormone-sensing cell of mammary gland\"]],\"hovertemplate\":\"x=%{x}\\u003cbr\\u003ey=%{y}\\u003cbr\\u003elabel=%{customdata[0]}\\u003cextra\\u003e\\u003c\\u002fextra\\u003e\",\"legendgroup\":\"\",\"marker\":{\"color\":\"#636efa\",\"symbol\":\"circle\"},\"mode\":\"markers\",\"name\":\"\",\"orientation\":\"v\",\"showlegend\":false,\"x\":[0.34904298186302185,-0.10844074189662933,-0.17345938086509705,-0.17240171134471893,-0.15990270674228668,-0.1794593334197998,0.1934971809387207,-0.048555511981248856,-0.1583186388015747,-0.05389738082885742,-0.1758413463830948,0.01581021584570408,-0.047678012400865555,-0.17403081059455872,0.2789224684238434,-0.17398536205291748,-0.17169325053691864,-0.17420212924480438,0.011884400621056557,-0.11050776392221451,0.12031220644712448,-0.013513735495507717,-0.17144319415092468,0.02757149748504162,-0.04919227585196495,-0.18074274063110352,0.15107287466526031,0.08759251981973648,0.07784959673881531,-0.08059147000312805,0.5376988053321838,-0.1199658140540123,0.06701245903968811,-0.07276522368192673,0.1846408247947693,0.3790617287158966,0.002056876430287957,-0.09633443504571915,-0.11603733152151108,-0.11605590581893921,0.1258717179298401,-0.17347712814807892,-0.1906907856464386,0.004263619892299175,-0.17514052987098694,-0.12850384414196014,-0.01850983500480652,-0.13028721511363983,0.2325630486011505,-0.009393827058374882,-0.16165867447853088,-0.15256865322589874,-0.11463747918605804,0.27684640884399414,-0.1476099193096161,-0.0348026417195797,0.133562371134758,0.018825897946953773,-0.04709803685545921,0.06035323068499565,-0.1665816754102707,-0.16449907422065735,0.04412556067109108,-0.028470506891608238,0.013063794001936913,0.002858455991372466,0.07224195450544357,0.08197203278541565,0.5750441551208496,0.3403491675853729,0.08207499980926514,0.14801117777824402,-0.17363768815994263,0.05093054100871086,-0.05756784602999687,0.06690733134746552,-0.010276379995048046,-0.038478389382362366,0.1827072650194168,-0.17978982627391815,0.049916915595531464,0.35419154167175293,0.05650702863931656,0.052095215767621994,0.052678320556879044,-0.024381007999181747,0.12092822790145874,-0.02587113529443741,0.33286383748054504,-0.11062835901975632,0.02745177410542965,0.00629389425739646,-0.16687050461769104,0.1778104305267334,-0.042495667934417725,0.14390559494495392,0.09279543161392212,-0.0373811200261116,0.05943063646554947,-0.12226257473230362,0.29461658000946045,-0.14575524628162384,0.33600759506225586,-0.15164002776145935,0.07358833402395248,0.24031753838062286,-0.16946375370025635,-0.1894868165254593,-0.11715973913669586,-0.11990278214216232,0.019146280363202095,-0.030936231836676598,-0.17258696258068085,-0.023046979680657387,0.46304580569267273,0.19349142909049988,0.5785567164421082,0.40710392594337463,0.342975378036499,0.6776505708694458,0.6104493737220764,0.12418367713689804,0.21925999224185944,0.3182598054409027,0.16199451684951782,0.13729755580425262,0.11000361293554306,0.06152322143316269,0.1981544941663742,0.12318292260169983,-0.10031861066818237,-0.01414750050753355,-0.17856955528259277,0.16977374255657196,0.10343234986066818,0.049262646585702896,0.03725665435194969,-0.11204621940851212,-0.07019516080617905,0.039819058030843735,0.23610466718673706,-0.18144744634628296,0.0681261420249939,-0.17412590980529785,-0.1627233326435089,0.061604369431734085,0.24138936400413513,-0.04976338520646095,-0.048929840326309204,0.03635808825492859,-0.0230154599994421,-0.15863634645938873,0.0023982964921742678,-0.04292324557900429,-0.15696163475513458,0.14950209856033325,-0.1495528668165207,0.04609047621488571,0.5216147899627686,0.016111042350530624,-0.16148002445697784,-0.1202123761177063,-0.03857167810201645,-0.1528794765472412,-0.17261993885040283,-0.17854703962802887,-0.06835716217756271,-0.1682884395122528,-0.1757100522518158,-0.1768391877412796,-0.17913278937339783,0.33871498703956604,0.2424781173467636,-0.1426965594291687,-0.021599654108285904,-0.07783809304237366,0.12244050949811935,0.059710439294576645,0.08600938320159912,0.04631135240197182,0.11847362667322159,0.212467223405838,0.11207672953605652,0.03352631628513336,0.3185490667819977,0.5208187699317932,-0.11434739083051682,-0.1402817815542221,-0.05942508205771446,0.06681210547685623,0.06185014173388481,-0.16508403420448303,0.26979315280914307,-0.14904874563217163,-0.033501408994197845,0.008162101730704308,0.23455287516117096,0.26410365104675293,0.3000040352344513,0.04647190123796463,0.049233291298151016,0.04615268111228943,-0.17402100563049316,-0.17235374450683594,-0.027254678308963776,-0.18201465904712677,0.048098355531692505,-0.0362577922642231,0.03196973353624344,-0.05185990035533905,0.1556561440229416,0.0438048280775547,-0.02418811433017254,-0.19046549499034882,0.06833197921514511,-0.05907253921031952,-0.0873965173959732,-0.12386982142925262,0.049362439662218094,0.18411871790885925,-0.03432688117027283,-0.12327591329813004,-0.1282912939786911,0.064735047519207,-0.1812290996313095,0.12331314384937286,-0.16707085072994232,-0.1847507655620575,-0.11655180901288986,0.12274491786956787,-0.1752069741487503,-0.18043583631515503,-0.049885571002960205,-0.025912391021847725,-0.06431318819522858,-0.10435909032821655,-0.125921830534935,-0.16420646011829376,-0.00509732635691762,0.07119300961494446,-0.1585972011089325,-0.14969775080680847,0.04798334464430809,-0.09967857599258423,0.07535166293382645,0.14382930099964142,-0.181870236992836,0.07666295021772385,0.33868491649627686,0.031085532158613205,-0.023154249414801598,-0.1743704229593277,-0.16453397274017334,-0.10937877744436264,-0.03365287557244301,0.12444441020488739,0.3262622356414795,-0.16701412200927734,-0.07942180335521698,-0.17893192172050476,0.1748296469449997,0.055987320840358734,-0.016302069649100304,0.11063265800476074,0.10690950602293015,-0.16614873707294464,-0.0973915308713913,0.1533380150794983,-0.03396916389465332,0.13554459810256958,0.17624108493328094,0.16062894463539124,0.16075262427330017,0.2934676706790924,0.4624904692173004,0.1940600723028183,0.00864942092448473,-0.11224118620157242,-0.15360963344573975,-0.17028385400772095,-0.1741514652967453,-0.172874316573143,-0.1745128482580185,-0.06713792681694031,0.09155836701393127,0.1859942227602005,-0.024374864995479584,0.1491469144821167,0.1584145426750183,0.40591099858283997,0.29144346714019775,-0.1742771565914154,-0.152469664812088,-0.17541033029556274,-0.17737050354480743,-0.0689583271741867,0.17121589183807373,0.6410118341445923,-0.1622125804424286,-0.17605826258659363,0.08607453852891922,0.15377408266067505,0.07142321020364761,0.2264893651008606,-0.1402186155319214,-0.16857478022575378,-0.17084002494812012,0.400979608297348,0.19352586567401886,0.10801959782838821,-0.19385741651058197,0.06550909578800201,-0.17571966350078583,-0.07780969887971878,0.002510676858946681,0.40655726194381714,0.22226519882678986,0.11476785689592361,0.037050362676382065,0.34895002841949463,-0.18465539813041687,-0.17653851211071014,-0.006258307956159115,0.2191886603832245,-0.147886261343956,-0.17975783348083496,0.450274258852005,0.15568090975284576,0.2597532570362091,0.24633125960826874,0.09919361025094986,0.11140026152133942,-0.08936949819326401,-0.08223316073417664,0.23450423777103424,0.15858633816242218,0.23601411283016205,0.018851732835173607,0.8588913083076477,0.12406963109970093,0.5058833360671997,-0.10793164372444153,-0.10481913387775421,-0.15936999022960663,-0.129791259765625,-0.16885465383529663,0.09928863495588303,0.30150479078292847,-0.17269037663936615,-0.17901013791561127,-0.17005285620689392,-0.19129720330238342,-0.036557238548994064,0.08013923466205597,0.018995113670825958,-0.14845120906829834,0.06889805197715759,0.1563112735748291,0.04920875281095505,0.21891933679580688,0.319820374250412,0.315326064825058,0.06150895729660988,0.06676485389471054,0.006031365133821964,0.16417866945266724,0.05229407548904419,0.05064571276307106,-0.003238591831177473,0.1524234414100647,-0.03596493601799011,-0.08611397445201874,0.08124974370002747,0.20351988077163696,0.3611434996128082,-0.014667783863842487,0.08737009018659592,0.1201697587966919,0.10595040768384933,-0.015322640538215637,0.058892011642456055,0.1035757064819336,-0.17534665763378143,0.11802966892719269,0.11199385672807693,-0.01792311482131481,-0.1816541701555252,-0.016593866050243378,0.08677365630865097,-0.1531936526298523,-0.1785956472158432,-0.0801297277212143,0.31743529438972473,-0.17290236055850983,0.14310316741466522,-0.08002713322639465,0.23210415244102478,0.020210834220051765,0.11193445324897766,0.27415046095848083,0.12962977588176727,-0.09332355856895447,0.07066284120082855,0.10514353215694427,-0.17336057126522064,-0.1410616934299469,0.33034276962280273,-0.18397903442382812,-0.0586770698428154,0.1557794213294983,-0.03899671882390976,-0.1448250263929367,-0.1249183639883995,-0.19564467668533325,-0.17419223487377167,0.20046064257621765,-0.013792305253446102,0.1739882528781891,0.08641358464956284,0.14887340366840363,0.22806599736213684,-0.09298108518123627,-0.15553106367588043,0.4092521667480469,-0.16128204762935638,0.4033781886100769,0.1870764195919037,-0.05075613781809807,0.3314895033836365,-0.1159396842122078,0.33296671509742737,0.21623459458351135,0.26381418108940125,0.15657897293567657,0.10325940698385239,0.015594933182001114,0.20490428805351257,-0.07317867875099182,0.05781029909849167,0.09132930636405945,0.14039534330368042,-0.16791628301143646,-0.07381521910429001,-0.1314222663640976,0.017840780317783356,-0.08511172235012054,0.06007043644785881,0.03243554010987282,-0.18482139706611633,0.1359912008047104,0.2378109246492386,0.08249766379594803,-0.04211943969130516,0.05943341180682182,-0.04323393106460571,-0.16801564395427704,-0.17392238974571228,0.0034448786173015833,-0.13575389981269836,-0.10881319642066956,-0.18048487603664398,-0.007242647465318441,-0.010656840167939663,0.034807320684194565,-0.1778232902288437,-0.16667771339416504,-0.1705530285835266,-0.0935107171535492,-0.17220769822597504,-0.17822542786598206,0.08007866889238358,-0.00466489652171731,-0.08020526170730591,0.07505979388952255,-0.06013599783182144,0.031848736107349396,0.06759108603000641,-0.012739700265228748,-0.10825077444314957,-0.17715279757976532,0.1790016144514084,0.36271435022354126,-0.019261622801423073,-0.12360189855098724,-0.17754237353801727,-0.15732800960540771,-0.020510513335466385,0.09444978088140488,-0.06295232474803925,0.045963529497385025,0.048698585480451584,0.1382221281528473,-0.1418362706899643,-0.18183816969394684,-0.14555421471595764,-0.06068163365125656,-0.17073354125022888,-0.1476355344057083,-0.12994129955768585,-0.15313281118869781,-0.1601915955543518,-0.17095918953418732,-0.0563015341758728,0.0997774749994278,0.03416861593723297,0.058170828968286514,-0.17565293610095978,0.06583341956138611,0.1114763393998146,0.08473793417215347,0.08367929607629776,0.006700481753796339,-0.09966692328453064,0.03419797495007515,-0.10946661978960037,-0.10914730280637741,-0.0707070603966713,0.1255682408809662,0.2344874143600464,-0.13157247006893158,-0.1734907031059265,0.331432968378067,0.1522635966539383,0.10134091973304749,0.0770677775144577,-0.06984840333461761,0.06679365038871765,0.17487721145153046,0.3356482684612274,-0.06718003004789352,-0.15229973196983337,0.12120914459228516,-0.004942955449223518,0.006763148587197065,-0.0393611341714859,-0.09192933142185211,-0.17997677624225616,-0.17080500721931458,-0.12293821573257446,-0.10602955520153046,-0.021098610013723373,0.01675552874803543,-0.07160152494907379,-0.13761073350906372,-0.15963363647460938,-0.160457581281662,-0.13521572947502136,-0.17251136898994446,-0.1040421724319458,0.2832500636577606,-0.1731632947921753,-0.17197804152965546,-0.17522543668746948,-0.14322100579738617,0.1366850733757019,-0.16372856497764587,0.13087894022464752,0.06374113261699677,-0.13259337842464447,-0.1549353003501892,0.02917257882654667,0.013467430137097836,0.05445536971092224,0.09039373695850372,0.11434543132781982,0.08084764331579208,-0.10033731162548065,-0.10651539266109467,-0.12772433459758759,-0.16766025125980377,-0.14145193994045258,0.1841086894273758,0.20625969767570496,-0.21310602128505707,-0.15647749602794647,-0.17672021687030792,-0.2028876096010208,-0.18769755959510803,-0.15924839675426483,-0.1788543164730072,-0.17680951952934265,-0.19080407917499542,-0.1758013218641281,-0.16961365938186646,-0.060429856181144714,0.03626066446304321,0.11759912222623825,0.07904898375272751,-0.01979607529938221,-0.0891825407743454,0.0005222476902417839,-0.03212380036711693,0.03760934993624687,-0.17128820717334747,0.037354011088609695,0.40786775946617126,0.6220683455467224,-0.12515050172805786,0.2646197974681854,0.8808658719062805,0.11109252274036407,0.1419905424118042,0.11749792844057083,0.06841287016868591,-0.004557321313768625,-0.09509362280368805,0.01995047554373741,-0.14196783304214478,-0.15927095711231232,-0.16565120220184326,0.28831443190574646,0.0630786195397377,0.002686094492673874,-0.18495406210422516,-0.13937194645404816,-0.16305014491081238,0.34583669900894165,0.12381784617900848,-0.12286131083965302,-0.17687268555164337,-0.09683089703321457,0.13161954283714294,-0.08092638105154037,-0.10773524641990662,0.018364032730460167,-0.12439686805009842,-0.002388944150879979,0.10305827856063843,0.18012253940105438,0.042289458215236664,0.1254052221775055,-0.07594497501850128,-0.09401629120111465,-0.1734313666820526,0.0476699136197567,0.29051390290260315,0.18503046035766602,0.08133716881275177,0.0806865468621254,0.39649784564971924,-0.1790526956319809,0.21850475668907166,-0.09243463724851608,-0.14146482944488525,-0.15966148674488068,-0.15834161639213562,-0.1089276522397995,-0.14995050430297852,-0.17049120366573334,0.16130827367305756,-0.09382496774196625,0.1233266144990921,0.008137415163218975,-0.18244655430316925,0.3367336094379425,-0.18190936744213104,0.1562969833612442,-0.10865579545497894,-0.15766681730747223,-0.07568304240703583,-0.07449541240930557,0.12065444886684418,-0.14983278512954712,-0.06688014417886734,-0.17416304349899292,-0.17675985395908356,-0.17870169878005981,0.06991299986839294,-0.04449634253978729,-0.0952054038643837,0.4334149658679962,0.16605356335639954,0.18390192091464996,-0.16633710265159607,-0.09253387898206711,0.009814342483878136,-0.14543135464191437,-0.17029832303524017,-0.15044298768043518,-0.1733350306749344,-0.15297046303749084,-0.17705664038658142,-0.09876459836959839,-0.1900978535413742,0.0539296455681324,0.11229561269283295,0.12516987323760986,-0.15142400562763214,-0.07259182631969452,-0.08002156019210815,-0.16870777308940887,-0.17043325304985046,-0.10235124081373215,-0.15965716540813446,0.16306443512439728,0.031893882900476456,-0.1589336097240448,-0.16013573110103607,-0.1454472541809082,-0.07732711732387543,-0.19340243935585022,-0.16520445048809052,-0.1546570062637329,-0.1667509227991104,-0.16877280175685883,-0.02508622594177723,-0.15707623958587646,-0.09406295418739319,0.08845522999763489,-0.17837457358837128,-0.1510489284992218,-0.19132402539253235,0.0677073523402214,0.027831783518195152,-0.1290414184331894,-0.011431177146732807,-0.14961868524551392,-0.008962446823716164,-0.1451026052236557,0.10581044107675552,-0.15832558274269104,-0.10407939553260803,-0.014860983937978745,-0.16776718199253082,0.09502176940441132,-0.17990414798259735,-0.05006206035614014,0.02240012399852276,-0.15776501595973969,-0.14577104151248932,-0.01990514062345028,0.10156361758708954,0.3545847535133362,0.15534920990467072,-0.1838977336883545,-0.06883931159973145,-0.015607411973178387,-0.16221541166305542,-0.16896751523017883,-0.04262605309486389,-0.17095878720283508,-0.16956187784671783,-0.16003896296024323,-0.05292608216404915,-0.1336132436990738,-0.05104643106460571,-0.09788097441196442,-0.08758372813463211,-0.18319040536880493,-0.17335675656795502,-0.174662783741951,-0.1801300346851349,0.2289358526468277,-0.1810656189918518,-0.17346124351024628,-0.08773288875818253,-0.1781233847141266,-0.1449880301952362,-0.13287808001041412,-0.04636247828602791,0.1919737458229065,-0.17674092948436737,0.05108927935361862,0.10039794445037842,-0.17465375363826752,-0.17612607777118683,-0.17465098202228546,-0.07967627793550491,0.057083096355199814,-0.15872089564800262,-0.16717460751533508,-0.0921735092997551,-0.15649491548538208,0.05737721174955368,-0.08633343130350113,-0.12957905232906342,-0.03631483390927315,-0.17481407523155212,-0.08888045698404312,0.04705437645316124,-0.18335184454917908,-0.1804303228855133,-0.16274304687976837,-0.19432106614112854,-0.18211624026298523,-0.1796019822359085,-0.1106904074549675,-0.12733611464500427,-0.17372038960456848,-0.18929527699947357,0.028165819123387337,-0.06787842512130737,0.005735214799642563,-0.14965419471263885,0.006046731024980545,-0.18679742515087128,-0.19548003375530243,-0.1826721578836441,-0.1730901002883911,0.03139056637883186,-0.17549102008342743,0.12132162600755692,-0.0967073142528534,-0.043696966022253036,-0.1662907749414444,-0.1771789789199829,-0.12819810211658478,0.22193484008312225,-0.17452006042003632,-0.1348799467086792,-0.12161543220281601,-0.09481686353683472,-0.1636887937784195,0.24691209197044373,-0.18023592233657837,-0.1345122754573822,-0.18509306013584137,0.10087104141712189,0.027913155034184456,-0.08307457715272903,-0.17790672183036804,-0.13439108431339264,0.4025498330593109,-0.013705804944038391,0.23799695074558258,0.04922673851251602,0.13193437457084656,0.14714151620864868,-0.11295579373836517,0.14493711292743683,0.1186222955584526,0.14305756986141205,0.21668937802314758,0.06880120933055878,0.04927961155772209,-0.18576662242412567,-0.09075315296649933,-0.08283297717571259,0.1608423888683319,-0.033349499106407166,0.07696878165006638,0.16076676547527313,-0.042487096041440964,-0.14289553463459015,-0.10622149705886841,0.09250214695930481,-0.09790490567684174,-0.14972452819347382,-0.08884473145008087,-0.12648043036460876,-0.1623469442129135,-0.1470467746257782,-0.14041277766227722,-0.02494284138083458,-0.11204757541418076,-0.055704522877931595,0.46024149656295776,-0.00028884163475595415,0.22859859466552734,0.07878623902797699,-0.15609464049339294,-0.13323085010051727,-0.19182559847831726,0.006042605731636286,-0.1683959662914276,-0.03387628495693207,-0.044805120676755905,-0.11041305214166641,-0.18668688833713531,0.004087354056537151,-0.16110295057296753,-0.17967472970485687,-0.17614895105361938,0.41649329662323,0.5652402639389038,0.01136449072510004,0.4882926940917969,0.4474923014640808,0.2697107195854187,0.5931797027587891,0.378123015165329,0.285664439201355,0.24370652437210083,-0.14518243074417114,-0.12162496149539948,-0.17438307404518127,-0.16887564957141876,-0.1713448464870453,-0.14421841502189636,0.32822179794311523],\"xaxis\":\"x\",\"y\":[0.05550578236579895,0.0795331597328186,0.05319682136178017,0.05323716253042221,0.024864422157406807,0.05290193483233452,0.048935092985630035,0.10882317274808884,0.06921221315860748,-0.08787443488836288,0.052714452147483826,-0.15310607850551605,-0.034122638404369354,0.052778542041778564,-0.19873769581317902,0.05275711417198181,0.05328669771552086,0.05273669585585594,-0.14189980924129486,-0.0257711224257946,0.06378629058599472,0.05964583531022072,0.06464894115924835,0.10297488421201706,0.1144363284111023,0.04332974925637245,-0.35126134753227234,0.0041740345768630505,-0.05503853037953377,0.014977634884417057,-0.09140690416097641,-0.07499941438436508,0.12922148406505585,-0.023437941446900368,0.04410539194941521,-0.23344914615154266,0.018000168725848198,-0.1546449214220047,-0.043826375156641006,-0.050225332379341125,0.0024561749305576086,0.05437576398253441,0.02266034670174122,0.10993926227092743,0.029909664765000343,-0.007854284718632698,-0.016795648261904716,-0.04131432622671127,0.04809555411338806,0.004892334342002869,-0.13310931622982025,-0.04794057458639145,-0.012042440474033356,0.14376553893089294,-0.006742564961314201,0.057249803096055984,0.025091875344514847,0.03742866963148117,-0.0036959631834179163,-0.021769825369119644,0.013272340409457684,-0.0007192004704847932,0.03232850506901741,-0.03169865533709526,0.08849623799324036,0.08086445927619934,0.0734364315867424,-0.019336996600031853,-0.09811798483133316,-0.26042690873146057,-0.012771033681929111,-0.02392621524631977,0.025085778906941414,0.1042008027434349,0.10425809770822525,0.005967439617961645,-0.0547298826277256,0.09584517776966095,-0.12694941461086273,0.02078952081501484,0.10279542952775955,-0.13645057380199432,0.049612708389759064,0.13242758810520172,0.18668806552886963,0.0020366220269352198,0.1578509658575058,-0.0715859979391098,-0.008728462271392345,-0.05473264306783676,0.1590862274169922,0.1872047781944275,0.013260453939437866,0.1928570419549942,0.006407478824257851,0.37407928705215454,-0.0020006527192890644,0.10605034977197647,-0.009314168244600296,0.029750369489192963,0.5416517853736877,0.01557600311934948,0.6034973859786987,0.07233303040266037,-0.049488600343465805,0.5096161365509033,0.030626563355326653,-0.004052580799907446,-0.05175756290555,0.02082941122353077,0.18087315559387207,0.21457688510417938,0.050550445914268494,0.11430037766695023,0.7131687998771667,-0.027907434850931168,0.8724600076675415,0.6888616681098938,0.6895721554756165,0.9947174787521362,1.0447479486465454,0.3105359375476837,0.40125593543052673,0.43512099981307983,0.209223672747612,0.1987505704164505,0.05075990781188011,-0.04045749455690384,-0.2109486609697342,-0.09981624782085419,0.016074350103735924,-0.07492662221193314,0.04834088310599327,-0.009789954870939255,-0.07665260136127472,-0.013702284544706345,-0.048492345958948135,0.0013636774383485317,0.06184196099638939,-0.1802143156528473,-0.2406933754682541,0.04005058854818344,0.10240204632282257,0.04118139669299126,0.034548431634902954,0.13673606514930725,0.06528743356466293,0.05651373043656349,0.02965666353702545,0.03622082620859146,0.07630875706672668,0.029164351522922516,0.12138185650110245,0.05129414424300194,0.022795436903834343,0.1827402412891388,0.07156997919082642,-0.02228836715221405,0.18255607783794403,0.08471132814884186,0.0455235056579113,-0.04456964507699013,-0.12182284146547318,-0.0889778584241867,0.0556706003844738,0.016389265656471252,-0.15812304615974426,-0.09760779142379761,0.05611642822623253,-0.07724650204181671,0.033932365477085114,0.1679679900407791,-0.2646351158618927,0.03568562865257263,-0.015119887888431549,0.0022000076714903116,-0.18646134436130524,-0.07253633439540863,0.05889982357621193,-0.03087071143090725,0.014219301752746105,-0.3326343595981598,-0.03533681854605675,0.0813581570982933,0.07185640186071396,0.21549805998802185,-0.0292330514639616,0.011218282394111156,-0.03377242758870125,0.03230287879705429,0.038985732942819595,-0.03222385793924332,0.16462436318397522,0.020816044881939888,0.007798334117978811,0.13197757303714752,0.17864534258842468,-0.015392427332699299,-0.023358067497611046,-0.037496816366910934,0.0038388101384043694,-0.0062253279611468315,0.05274777486920357,0.05299960449337959,-0.05295862257480621,0.047827739268541336,-0.060902468860149384,0.08509085327386856,0.03212533891201019,0.152878999710083,-0.006582306697964668,-0.05816379189491272,-0.048005688935518265,0.0401778370141983,0.05525052919983864,0.09380923956632614,-0.1227097287774086,0.10327395796775818,0.06267448514699936,0.15942159295082092,-0.0789419561624527,-0.016474809497594833,-0.015384210273623466,0.0052000912837684155,0.00140595983248204,-0.10126829147338867,0.035153068602085114,0.052550408989191055,0.01947862096130848,-0.0982867181301117,0.051844555884599686,0.045697182416915894,-0.03215343505144119,-0.10244757682085037,-0.006558922119438648,-0.09233393520116806,0.002283235779032111,0.014805183745920658,0.08448655903339386,-0.025959987193346024,0.057590171694755554,-0.06449993699789047,-0.08240079879760742,0.10110722482204437,-0.07709650695323944,-0.11327885836362839,0.02838246151804924,-0.0823189839720726,-0.3352575898170471,-0.04328431561589241,-0.054457418620586395,0.04507317766547203,0.038282934576272964,0.06423845887184143,0.0600796714425087,0.25920942425727844,0.0568891279399395,0.04888724908232689,-0.05560873821377754,0.0470319427549839,0.12707415223121643,-0.08633025735616684,0.020267829298973083,-0.1059158444404602,-0.00415085582062602,0.060935620218515396,-0.08902294188737869,0.005532178096473217,0.0038821641355752945,-0.09415335953235626,0.10912055522203445,0.24819375574588776,-0.10871456563472748,0.5800148248672485,-0.10737517476081848,-0.08582975715398788,-0.09300339967012405,-0.008554505184292793,0.09258926659822464,0.06086165830492973,0.02579527720808983,0.05046728998422623,0.05432606115937233,0.03817491978406906,-0.01471586525440216,-0.39222481846809387,-0.13992275297641754,0.09651130437850952,-0.121681347489357,-0.024600813165307045,-0.1958569586277008,0.05224393308162689,-0.021493541076779366,0.05306984856724739,0.05019056051969528,-0.11364959180355072,0.10759124904870987,1.052569031715393,0.01559384260326624,0.016470689326524734,-0.13897192478179932,-0.1886405497789383,-0.058322567492723465,-0.06449086219072342,-0.049193333834409714,0.032034169882535934,0.04883502423763275,-0.4151246249675751,-0.07999943941831589,-0.23430071771144867,0.07342198491096497,0.022992802783846855,0.052066247910261154,0.057948168367147446,-0.062413476407527924,-0.09250472486019135,0.013888988643884659,0.02702569216489792,0.0029625820461660624,0.12018279731273651,0.03781537711620331,0.04763190820813179,-0.05977090448141098,-0.1399678885936737,-0.018166078254580498,0.039689335972070694,0.31398805975914,0.19357094168663025,0.25292736291885376,0.2497948259115219,0.2669122517108917,0.2912195026874542,-0.03491218760609627,-0.014700289815664291,-0.32236960530281067,-0.18891851603984833,0.05372926965355873,-0.18431924283504486,0.043342188000679016,-0.1973324716091156,0.16403134167194366,-0.04239931330084801,-0.02141300030052662,0.01933920383453369,-0.01687576249241829,0.05289275199174881,-0.14608804881572723,0.17787213623523712,0.0342889204621315,0.049523189663887024,0.038085997104644775,0.03704614192247391,-0.02818692848086357,-0.197083979845047,-0.09462364763021469,0.013592981733381748,-0.16704818606376648,-0.11257665604352951,-0.0814913883805275,-0.2316986620426178,-0.33799004554748535,-0.3054545521736145,-0.1002689078450203,0.0031771359499543905,0.010765153914690018,0.2117459774017334,0.11757425963878632,-0.07587477564811707,0.09101029485464096,-0.12360694259405136,0.0637575164437294,0.06731429696083069,0.09240870922803879,0.08432421833276749,0.1529061645269394,0.1884274035692215,0.07647784054279327,-0.0657932460308075,0.013101951219141483,0.2331271767616272,0.024875065311789513,0.043599653989076614,0.008817845955491066,0.007001134566962719,0.04647140949964523,-0.04660686105489731,-0.005309578962624073,-0.02493923343718052,-0.005590227898210287,0.05144284665584564,0.04112457111477852,0.02618142031133175,0.044439468532800674,0.051031872630119324,0.02895505540072918,0.0002450991596560925,-0.13708828389644623,0.018438637256622314,0.2344576120376587,0.016834387555718422,0.06667625904083252,-0.09543339163064957,-0.06655459105968475,0.0643242821097374,0.04168856889009476,0.03998469561338425,0.04976099729537964,0.04810306802392006,-0.1526883989572525,0.08822750300168991,-0.053757257759571075,-0.12653274834156036,-0.05091513320803642,-0.005815612152218819,0.05305298790335655,-0.07619460672140121,-0.19151973724365234,0.15473556518554688,-0.02558767795562744,0.05750404670834541,0.10948354005813599,-0.029261358082294464,0.03335875645279884,0.17940562963485718,0.04507482796907425,0.10292261093854904,0.18552450835704803,-0.06858479231595993,-0.039521168917417526,0.050335414707660675,-0.0332452654838562,-0.05222563073039055,0.08670417219400406,0.025555932894349098,0.04650123789906502,-0.0014083047863095999,0.1735004335641861,0.0546085461974144,0.10366101562976837,0.035399969667196274,0.050178784877061844,0.022982686758041382,-0.05155528709292412,-0.02145322784781456,-0.0339958593249321,0.026984117925167084,0.020938005298376083,-0.030627816915512085,-0.0358700193464756,0.002148888073861599,0.1564054936170578,-0.01406784076243639,0.048483166843652725,0.05855150148272514,-0.11487814784049988,-0.08066541701555252,0.017547249794006348,0.0011655125999823213,0.007399887777864933,0.053514886647462845,0.05419177561998367,0.08173767477273941,0.08223094791173935,0.03655962273478508,0.036525651812553406,0.03727579861879349,0.05074140429496765,-0.04925469309091568,0.039881158620119095,0.05493413656949997,0.2181263566017151,0.14350296556949615,0.0630367323756218,-0.1143079623579979,0.0006212084554135799,0.014439388178288937,0.001899311551824212,-0.03432535380125046,-0.004028667695820332,0.04115326330065727,0.09396354109048843,-0.05925195291638374,0.0016036025481298566,-0.008046613074839115,0.044255271553993225,-0.08629032969474792,-0.0990297943353653,-0.007739464286714792,0.043747592717409134,-0.08244067430496216,-0.06896129250526428,0.170357808470726,-0.015103360638022423,0.056453362107276917,0.06278608739376068,-0.017729302868247032,0.04328695312142372,0.050101492553949356,-0.00862302165478468,0.03153840824961662,0.0513743981719017,0.0513567291200161,0.13411803543567657,-0.12878510355949402,-0.11681962758302689,-0.029047345742583275,-0.059424228966236115,0.0021817313972860575,0.03730843961238861,0.05174614489078522,0.049266960471868515,-0.082066610455513,-0.058928970247507095,-0.03735235705971718,-0.001674972358159721,-0.004106549080461264,0.05654450133442879,-0.0753069519996643,0.01730983890593052,-0.02048901468515396,0.032553546130657196,-0.10899067670106888,0.20333002507686615,0.22856372594833374,0.06568943709135056,0.01681821048259735,-0.03146165981888771,0.005794700235128403,-0.10446639358997345,-0.13811035454273224,0.02258104458451271,0.22793447971343994,0.2054460346698761,-0.0701085701584816,-0.0526408776640892,-0.051390159875154495,0.0226089246571064,0.04203106090426445,0.03666134178638458,0.007193857803940773,-0.04929585009813309,-0.16830728948116302,-0.06101866438984871,0.050125572830438614,0.048239171504974365,0.04302587732672691,-0.043877385556697845,0.007356921676546335,-0.07782205194234848,0.2787534296512604,0.04728325083851814,0.04040747508406639,0.04717186093330383,-0.00841505080461502,-0.13982176780700684,0.008682790212333202,-0.0707007497549057,-0.0393407978117466,-0.02639102376997471,-0.023410219699144363,-0.20224714279174805,-0.06126962974667549,0.014047525823116302,-0.052510302513837814,-0.008213449269533157,-0.13691341876983643,0.023434286937117577,-0.030035221949219704,-0.07911449670791626,0.0064629968255758286,0.0015414137160405517,-0.17915479838848114,-0.18633593618869781,0.005621918011456728,0.060437221080064774,0.04845968633890152,0.0408359169960022,0.052384644746780396,0.058443665504455566,0.05336255580186844,0.056983526796102524,0.06379122287034988,0.055464889854192734,0.05528692528605461,-0.13123130798339844,-0.28771308064460754,-0.15689319372177124,-0.14126168191432953,-0.05847858265042305,-0.012186444364488125,-0.05899801477789879,-0.10344280302524567,-0.09738855063915253,0.043745074421167374,-0.09335952252149582,-0.4232921898365021,0.0774352177977562,-0.06761953979730606,-0.3510220944881439,-0.07574751228094101,-0.3034232556819916,0.09747248888015747,-0.11520730704069138,0.08995634317398071,0.03375905007123947,-0.036212265491485596,-0.06389382481575012,-0.04355258867144585,-0.00495913764461875,0.029308553785085678,-0.22734403610229492,0.06212017685174942,-0.0648905336856842,0.04219255596399307,0.033923111855983734,0.035048846155405045,-0.09232570230960846,-0.06121305003762245,-0.06934893131256104,0.04924347251653671,0.013661330565810204,-0.1475886106491089,0.02966134063899517,-0.014761770144104958,-0.00535109406337142,-0.01013563945889473,-0.13144879043102264,-0.12229649722576141,-0.006130795460194349,0.06587126106023788,-0.020225614309310913,-0.07676418125629425,-0.05913027748465538,-0.02756579965353012,0.12989085912704468,0.018549982458353043,0.020504450425505638,-0.16438816487789154,0.0379386804997921,-0.40328359603881836,0.04756157845258713,-0.0827886164188385,-0.05177190899848938,0.041492998600006104,0.05262022092938423,-0.005962447263300419,-0.03316432610154152,0.008453967049717903,-0.03087564930319786,-0.18711990118026733,-0.06402496248483658,-0.26500868797302246,-0.17641229927539825,0.055727604776620865,-0.10240782052278519,0.049229640513658524,0.009036657400429249,0.0008648767834529281,0.04839714244008064,0.037181831896305084,0.09705696254968643,-0.18802370131015778,-0.01065952330827713,-0.04507221654057503,0.05095381289720535,0.038149695843458176,0.06878285109996796,-0.03116607666015625,-0.1561698615550995,-0.08232861757278442,-0.3581335246562958,-0.05476561188697815,-0.2519686222076416,-0.03379121050238609,-0.030974598601460457,-0.05256875231862068,-0.062255676835775375,0.04186028614640236,-0.007389000616967678,0.028315957635641098,0.05828898027539253,0.05286284163594246,-0.0763864517211914,0.04963360354304314,0.01960129104554653,-0.06552260369062424,-0.23841115832328796,0.019243810325860977,-0.07639588415622711,-0.05020047351717949,0.04506281763315201,0.044751107692718506,0.020008927211165428,0.034389249980449677,-0.0608111210167408,-0.2465735524892807,-0.015393618494272232,0.052386097609996796,-0.02760901115834713,-0.02269921824336052,0.04437857121229172,-0.012127243913710117,0.03661553934216499,0.027197565883398056,0.0056009539403021336,-0.11878260225057602,0.06109604984521866,-0.03510575369000435,-0.11754485964775085,-0.023955831304192543,-0.10755262523889542,0.013226667419075966,-0.05546226724982262,0.024897290393710136,0.006329432595521212,0.06783866882324219,-0.02376917004585266,-0.03721688315272331,0.025040939450263977,-0.11591850221157074,0.02928329072892666,0.028357941657304764,-0.10064157098531723,0.014040886424481869,-0.13102445006370544,-0.014687594026327133,-0.05160156637430191,0.03725924342870712,0.02032117359340191,-0.03199813514947891,-0.05306079611182213,-0.10103943198919296,-0.21987999975681305,-0.1222715675830841,-0.03550802916288376,-0.022094886749982834,0.021465297788381577,-0.07054799795150757,0.05322541296482086,-0.05301991477608681,0.055428098887205124,0.04491658881306648,-0.06951821595430374,-0.10047756880521774,-0.06979168951511383,0.04349523037672043,0.026440106332302094,-0.015114075504243374,0.03481446951627731,0.04965997859835625,0.05468447878956795,0.031367719173431396,0.029221542179584503,0.05387846753001213,0.05245240032672882,-0.007189434487372637,0.04975321516394615,0.01942163147032261,0.02929869294166565,-0.06899848580360413,-0.07663938403129578,0.0517711378633976,0.05664357542991638,-0.008918770588934422,0.05210104584693909,0.047089584171772,0.05569639056921005,-0.0239438284188509,-0.052241723984479904,0.047318264842033386,0.03364494815468788,-0.08982158452272415,0.02706931158900261,-0.043110210448503494,-0.014776566065847874,0.03376933932304382,-0.013821604661643505,0.04839400202035904,0.019073626026511192,0.012309675104916096,0.037413693964481354,-0.004454766865819693,0.03126852959394455,0.01988370716571808,0.01902111805975437,0.05413159355521202,0.030681587755680084,0.06489075720310211,0.0480123907327652,0.04447648301720619,-0.024357035756111145,-0.07621854543685913,-0.07144654542207718,0.03245978802442551,-0.08583323657512665,0.060077518224716187,0.07972300052642822,0.04461809992790222,0.041647542268037796,-0.022005373612046242,0.037875622510910034,0.0023467738647013903,-0.041585907340049744,0.03142106905579567,0.04439261928200722,0.04586511850357056,-0.06734117120504379,-0.28142818808555603,0.04094015806913376,0.033062294125556946,-0.012834814377129078,-0.05112173408269882,0.07210318744182587,-0.149619922041893,0.050147656351327896,0.016068387776613235,0.04498157277703285,-0.17774945497512817,0.042692236602306366,-0.06456124037504196,-0.02173602022230625,-0.07735663652420044,-0.23216921091079712,-0.15318137407302856,-0.10402890294790268,-0.07882621139287949,-0.121070995926857,-0.16842275857925415,-0.031173281371593475,-0.17647887766361237,-0.272672563791275,-0.20872893929481506,-0.21126529574394226,-0.1577623188495636,-0.1917586773633957,0.05348009616136551,-0.11720912158489227,-0.13007399439811707,-0.24115629494190216,-0.12444473057985306,-0.1595858335494995,-0.19567658007144928,-0.08539332449436188,-0.0020601714495569468,0.010241888463497162,-0.05917176976799965,-0.07815820723772049,0.023367080837488174,-0.08926703035831451,0.0015290642622858286,0.022539110854268074,0.0693916603922844,-0.08322250097990036,-0.16592837870121002,0.029753046110272408,0.11625535786151886,-0.12403310090303421,0.06411600112915039,-0.16156724095344543,-0.03728042542934418,-0.009444396011531353,-0.014266402460634708,0.04290128871798515,-0.09005913138389587,0.03284747898578644,0.036153629422187805,-0.11966176331043243,-0.01451911311596632,0.05199095979332924,-0.06243264302611351,-0.027711527422070503,0.047745201736688614,0.03672228008508682,-0.3418773412704468,-0.36443856358528137,-0.14223818480968475,-0.33464887738227844,-0.3127742111682892,-0.27181312441825867,-0.46461957693099976,-0.3344724774360657,-0.2641175389289856,-0.22846539318561554,0.031935788691043854,0.03977399319410324,0.05505158752202988,0.05381646379828453,0.05187405273318291,-0.09771952778100967,-0.4454708397388458],\"yaxis\":\"y\",\"type\":\"scatter\"}],                        {\"template\":{\"data\":{\"histogram2dcontour\":[{\"type\":\"histogram2dcontour\",\"colorbar\":{\"outlinewidth\":0,\"ticks\":\"\"},\"colorscale\":[[0.0,\"#0d0887\"],[0.1111111111111111,\"#46039f\"],[0.2222222222222222,\"#7201a8\"],[0.3333333333333333,\"#9c179e\"],[0.4444444444444444,\"#bd3786\"],[0.5555555555555556,\"#d8576b\"],[0.6666666666666666,\"#ed7953\"],[0.7777777777777778,\"#fb9f3a\"],[0.8888888888888888,\"#fdca26\"],[1.0,\"#f0f921\"]]}],\"choropleth\":[{\"type\":\"choropleth\",\"colorbar\":{\"outlinewidth\":0,\"ticks\":\"\"}}],\"histogram2d\":[{\"type\":\"histogram2d\",\"colorbar\":{\"outlinewidth\":0,\"ticks\":\"\"},\"colorscale\":[[0.0,\"#0d0887\"],[0.1111111111111111,\"#46039f\"],[0.2222222222222222,\"#7201a8\"],[0.3333333333333333,\"#9c179e\"],[0.4444444444444444,\"#bd3786\"],[0.5555555555555556,\"#d8576b\"],[0.6666666666666666,\"#ed7953\"],[0.7777777777777778,\"#fb9f3a\"],[0.8888888888888888,\"#fdca26\"],[1.0,\"#f0f921\"]]}],\"heatmap\":[{\"type\":\"heatmap\",\"colorbar\":{\"outlinewidth\":0,\"ticks\":\"\"},\"colorscale\":[[0.0,\"#0d0887\"],[0.1111111111111111,\"#46039f\"],[0.2222222222222222,\"#7201a8\"],[0.3333333333333333,\"#9c179e\"],[0.4444444444444444,\"#bd3786\"],[0.5555555555555556,\"#d8576b\"],[0.6666666666666666,\"#ed7953\"],[0.7777777777777778,\"#fb9f3a\"],[0.8888888888888888,\"#fdca26\"],[1.0,\"#f0f921\"]]}],\"heatmapgl\":[{\"type\":\"heatmapgl\",\"colorbar\":{\"outlinewidth\":0,\"ticks\":\"\"},\"colorscale\":[[0.0,\"#0d0887\"],[0.1111111111111111,\"#46039f\"],[0.2222222222222222,\"#7201a8\"],[0.3333333333333333,\"#9c179e\"],[0.4444444444444444,\"#bd3786\"],[0.5555555555555556,\"#d8576b\"],[0.6666666666666666,\"#ed7953\"],[0.7777777777777778,\"#fb9f3a\"],[0.8888888888888888,\"#fdca26\"],[1.0,\"#f0f921\"]]}],\"contourcarpet\":[{\"type\":\"contourcarpet\",\"colorbar\":{\"outlinewidth\":0,\"ticks\":\"\"}}],\"contour\":[{\"type\":\"contour\",\"colorbar\":{\"outlinewidth\":0,\"ticks\":\"\"},\"colorscale\":[[0.0,\"#0d0887\"],[0.1111111111111111,\"#46039f\"],[0.2222222222222222,\"#7201a8\"],[0.3333333333333333,\"#9c179e\"],[0.4444444444444444,\"#bd3786\"],[0.5555555555555556,\"#d8576b\"],[0.6666666666666666,\"#ed7953\"],[0.7777777777777778,\"#fb9f3a\"],[0.8888888888888888,\"#fdca26\"],[1.0,\"#f0f921\"]]}],\"surface\":[{\"type\":\"surface\",\"colorbar\":{\"outlinewidth\":0,\"ticks\":\"\"},\"colorscale\":[[0.0,\"#0d0887\"],[0.1111111111111111,\"#46039f\"],[0.2222222222222222,\"#7201a8\"],[0.3333333333333333,\"#9c179e\"],[0.4444444444444444,\"#bd3786\"],[0.5555555555555556,\"#d8576b\"],[0.6666666666666666,\"#ed7953\"],[0.7777777777777778,\"#fb9f3a\"],[0.8888888888888888,\"#fdca26\"],[1.0,\"#f0f921\"]]}],\"mesh3d\":[{\"type\":\"mesh3d\",\"colorbar\":{\"outlinewidth\":0,\"ticks\":\"\"}}],\"scatter\":[{\"fillpattern\":{\"fillmode\":\"overlay\",\"size\":10,\"solidity\":0.2},\"type\":\"scatter\"}],\"parcoords\":[{\"type\":\"parcoords\",\"line\":{\"colorbar\":{\"outlinewidth\":0,\"ticks\":\"\"}}}],\"scatterpolargl\":[{\"type\":\"scatterpolargl\",\"marker\":{\"colorbar\":{\"outlinewidth\":0,\"ticks\":\"\"}}}],\"bar\":[{\"error_x\":{\"color\":\"#2a3f5f\"},\"error_y\":{\"color\":\"#2a3f5f\"},\"marker\":{\"line\":{\"color\":\"#E5ECF6\",\"width\":0.5},\"pattern\":{\"fillmode\":\"overlay\",\"size\":10,\"solidity\":0.2}},\"type\":\"bar\"}],\"scattergeo\":[{\"type\":\"scattergeo\",\"marker\":{\"colorbar\":{\"outlinewidth\":0,\"ticks\":\"\"}}}],\"scatterpolar\":[{\"type\":\"scatterpolar\",\"marker\":{\"colorbar\":{\"outlinewidth\":0,\"ticks\":\"\"}}}],\"histogram\":[{\"marker\":{\"pattern\":{\"fillmode\":\"overlay\",\"size\":10,\"solidity\":0.2}},\"type\":\"histogram\"}],\"scattergl\":[{\"type\":\"scattergl\",\"marker\":{\"colorbar\":{\"outlinewidth\":0,\"ticks\":\"\"}}}],\"scatter3d\":[{\"type\":\"scatter3d\",\"line\":{\"colorbar\":{\"outlinewidth\":0,\"ticks\":\"\"}},\"marker\":{\"colorbar\":{\"outlinewidth\":0,\"ticks\":\"\"}}}],\"scattermapbox\":[{\"type\":\"scattermapbox\",\"marker\":{\"colorbar\":{\"outlinewidth\":0,\"ticks\":\"\"}}}],\"scatterternary\":[{\"type\":\"scatterternary\",\"marker\":{\"colorbar\":{\"outlinewidth\":0,\"ticks\":\"\"}}}],\"scattercarpet\":[{\"type\":\"scattercarpet\",\"marker\":{\"colorbar\":{\"outlinewidth\":0,\"ticks\":\"\"}}}],\"carpet\":[{\"aaxis\":{\"endlinecolor\":\"#2a3f5f\",\"gridcolor\":\"white\",\"linecolor\":\"white\",\"minorgridcolor\":\"white\",\"startlinecolor\":\"#2a3f5f\"},\"baxis\":{\"endlinecolor\":\"#2a3f5f\",\"gridcolor\":\"white\",\"linecolor\":\"white\",\"minorgridcolor\":\"white\",\"startlinecolor\":\"#2a3f5f\"},\"type\":\"carpet\"}],\"table\":[{\"cells\":{\"fill\":{\"color\":\"#EBF0F8\"},\"line\":{\"color\":\"white\"}},\"header\":{\"fill\":{\"color\":\"#C8D4E3\"},\"line\":{\"color\":\"white\"}},\"type\":\"table\"}],\"barpolar\":[{\"marker\":{\"line\":{\"color\":\"#E5ECF6\",\"width\":0.5},\"pattern\":{\"fillmode\":\"overlay\",\"size\":10,\"solidity\":0.2}},\"type\":\"barpolar\"}],\"pie\":[{\"automargin\":true,\"type\":\"pie\"}]},\"layout\":{\"autotypenumbers\":\"strict\",\"colorway\":[\"#636efa\",\"#EF553B\",\"#00cc96\",\"#ab63fa\",\"#FFA15A\",\"#19d3f3\",\"#FF6692\",\"#B6E880\",\"#FF97FF\",\"#FECB52\"],\"font\":{\"color\":\"#2a3f5f\"},\"hovermode\":\"closest\",\"hoverlabel\":{\"align\":\"left\"},\"paper_bgcolor\":\"white\",\"plot_bgcolor\":\"#E5ECF6\",\"polar\":{\"bgcolor\":\"#E5ECF6\",\"angularaxis\":{\"gridcolor\":\"white\",\"linecolor\":\"white\",\"ticks\":\"\"},\"radialaxis\":{\"gridcolor\":\"white\",\"linecolor\":\"white\",\"ticks\":\"\"}},\"ternary\":{\"bgcolor\":\"#E5ECF6\",\"aaxis\":{\"gridcolor\":\"white\",\"linecolor\":\"white\",\"ticks\":\"\"},\"baxis\":{\"gridcolor\":\"white\",\"linecolor\":\"white\",\"ticks\":\"\"},\"caxis\":{\"gridcolor\":\"white\",\"linecolor\":\"white\",\"ticks\":\"\"}},\"coloraxis\":{\"colorbar\":{\"outlinewidth\":0,\"ticks\":\"\"}},\"colorscale\":{\"sequential\":[[0.0,\"#0d0887\"],[0.1111111111111111,\"#46039f\"],[0.2222222222222222,\"#7201a8\"],[0.3333333333333333,\"#9c179e\"],[0.4444444444444444,\"#bd3786\"],[0.5555555555555556,\"#d8576b\"],[0.6666666666666666,\"#ed7953\"],[0.7777777777777778,\"#fb9f3a\"],[0.8888888888888888,\"#fdca26\"],[1.0,\"#f0f921\"]],\"sequentialminus\":[[0.0,\"#0d0887\"],[0.1111111111111111,\"#46039f\"],[0.2222222222222222,\"#7201a8\"],[0.3333333333333333,\"#9c179e\"],[0.4444444444444444,\"#bd3786\"],[0.5555555555555556,\"#d8576b\"],[0.6666666666666666,\"#ed7953\"],[0.7777777777777778,\"#fb9f3a\"],[0.8888888888888888,\"#fdca26\"],[1.0,\"#f0f921\"]],\"diverging\":[[0,\"#8e0152\"],[0.1,\"#c51b7d\"],[0.2,\"#de77ae\"],[0.3,\"#f1b6da\"],[0.4,\"#fde0ef\"],[0.5,\"#f7f7f7\"],[0.6,\"#e6f5d0\"],[0.7,\"#b8e186\"],[0.8,\"#7fbc41\"],[0.9,\"#4d9221\"],[1,\"#276419\"]]},\"xaxis\":{\"gridcolor\":\"white\",\"linecolor\":\"white\",\"ticks\":\"\",\"title\":{\"standoff\":15},\"zerolinecolor\":\"white\",\"automargin\":true,\"zerolinewidth\":2},\"yaxis\":{\"gridcolor\":\"white\",\"linecolor\":\"white\",\"ticks\":\"\",\"title\":{\"standoff\":15},\"zerolinecolor\":\"white\",\"automargin\":true,\"zerolinewidth\":2},\"scene\":{\"xaxis\":{\"backgroundcolor\":\"#E5ECF6\",\"gridcolor\":\"white\",\"linecolor\":\"white\",\"showbackground\":true,\"ticks\":\"\",\"zerolinecolor\":\"white\",\"gridwidth\":2},\"yaxis\":{\"backgroundcolor\":\"#E5ECF6\",\"gridcolor\":\"white\",\"linecolor\":\"white\",\"showbackground\":true,\"ticks\":\"\",\"zerolinecolor\":\"white\",\"gridwidth\":2},\"zaxis\":{\"backgroundcolor\":\"#E5ECF6\",\"gridcolor\":\"white\",\"linecolor\":\"white\",\"showbackground\":true,\"ticks\":\"\",\"zerolinecolor\":\"white\",\"gridwidth\":2}},\"shapedefaults\":{\"line\":{\"color\":\"#2a3f5f\"}},\"annotationdefaults\":{\"arrowcolor\":\"#2a3f5f\",\"arrowhead\":0,\"arrowwidth\":1},\"geo\":{\"bgcolor\":\"white\",\"landcolor\":\"#E5ECF6\",\"subunitcolor\":\"white\",\"showland\":true,\"showlakes\":true,\"lakecolor\":\"white\"},\"title\":{\"x\":0.05},\"mapbox\":{\"style\":\"light\"}}},\"xaxis\":{\"anchor\":\"y\",\"domain\":[0.0,1.0],\"title\":{\"text\":\"x\"}},\"yaxis\":{\"anchor\":\"x\",\"domain\":[0.0,1.0],\"title\":{\"text\":\"y\"}},\"legend\":{\"tracegroupgap\":0},\"margin\":{\"t\":60},\"height\":500,\"width\":500},                        {\"responsive\": true}                    ).then(function(){\n",
       "                            \n",
       "var gd = document.getElementById('cb0e89f9-f3cb-4fa2-bb99-5a4b67d34ca7');\n",
       "var x = new MutationObserver(function (mutations, observer) {{\n",
       "        var display = window.getComputedStyle(gd).display;\n",
       "        if (!display || display === 'none') {{\n",
       "            console.log([gd, 'removed!']);\n",
       "            Plotly.purge(gd);\n",
       "            observer.disconnect();\n",
       "        }}\n",
       "}});\n",
       "\n",
       "// Listen for the removal of the full notebook cells\n",
       "var notebookContainer = gd.closest('#notebook-container');\n",
       "if (notebookContainer) {{\n",
       "    x.observe(notebookContainer, {childList: true});\n",
       "}}\n",
       "\n",
       "// Listen for the clearing of the current output cell\n",
       "var outputEl = gd.closest('.output');\n",
       "if (outputEl) {{\n",
       "    x.observe(outputEl, {childList: true});\n",
       "}}\n",
       "\n",
       "                        })                };                });            </script>        </div>"
      ]
     },
     "metadata": {},
     "output_type": "display_data"
    }
   ],
   "source": [
    "# plt.scatter(X_ct_pca[:,0], X_ct_pca[:,1])\n",
    "df = pd.DataFrame({'x': X_ct_pca[:,0], 'y': X_ct_pca[:, 1], 'label': cell_type_labels})\n",
    "\n",
    "fig = px.scatter(df, x='x', y='y', hover_data='label', width=500, height=500)\n",
    "fig.show()\n",
    "fig.write_html(\"pca_cell_type_emb.html\")"
   ]
  },
  {
   "cell_type": "code",
   "execution_count": 31,
   "metadata": {},
   "outputs": [],
   "source": [
    "reducer = umap.UMAP(n_components=2, n_neighbors=30, min_dist=0.0, metric='euclidean')\n",
    "X_ct_umap = reducer.fit_transform(cell_type_embedding)"
   ]
  },
  {
   "cell_type": "code",
   "execution_count": null,
   "metadata": {},
   "outputs": [
    {
     "data": {
      "application/vnd.plotly.v1+json": {
       "config": {
        "plotlyServerURL": "https://plot.ly"
       },
       "data": [
        {
         "customdata": [
          [
           "neuron"
          ],
          [
           "sensory neuron"
          ],
          [
           "primary cultured cell"
          ],
          [
           "cultured cell"
          ],
          [
           "fibroblast neural crest derived"
          ],
          [
           "migratory neural crest cell"
          ],
          [
           "fibroblast"
          ],
          [
           "neuronal receptor cell"
          ],
          [
           "sensory receptor cell"
          ],
          [
           "embryonic cell (metazoa)"
          ],
          [
           "experimentally modified cell in vitro"
          ],
          [
           "germ line cell"
          ],
          [
           "stem cell"
          ],
          [
           "male germ cell"
          ],
          [
           "germ cell"
          ],
          [
           "haploid cell"
          ],
          [
           "sperm"
          ],
          [
           "male gamete"
          ],
          [
           "primordial germ cell"
          ],
          [
           "polyploid cell"
          ],
          [
           "smooth muscle cell"
          ],
          [
           "neural crest derived neuron"
          ],
          [
           "glioblast"
          ],
          [
           "non-terminally differentiated cell"
          ],
          [
           "neuroblast (sensu Vertebrata)"
          ],
          [
           "surface ectodermal cell"
          ],
          [
           "exocrine cell"
          ],
          [
           "precursor cell"
          ],
          [
           "single fate stem cell"
          ],
          [
           "somatic stem cell"
          ],
          [
           "epithelial fate stem cell"
          ],
          [
           "hematopoietic stem cell"
          ],
          [
           "hematopoietic cell"
          ],
          [
           "hematopoietic precursor cell"
          ],
          [
           "progenitor cell"
          ],
          [
           "erythroid progenitor cell"
          ],
          [
           "erythroid lineage cell"
          ],
          [
           "myeloid lineage restricted progenitor cell"
          ],
          [
           "megakaryocyte-erythroid progenitor cell"
          ],
          [
           "monopoietic cell"
          ],
          [
           "myeloid cell"
          ],
          [
           "macrophage dendritic cell progenitor"
          ],
          [
           "eosinophil"
          ],
          [
           "professional antigen presenting cell"
          ],
          [
           "neutrophil progenitor cell"
          ],
          [
           "basophil"
          ],
          [
           "histamine secreting cell"
          ],
          [
           "common lymphoid progenitor"
          ],
          [
           "neural cell"
          ],
          [
           "multi fate stem cell"
          ],
          [
           "common myeloid progenitor"
          ],
          [
           "hematopoietic oligopotent progenitor cell"
          ],
          [
           "granulocyte monocyte progenitor cell"
          ],
          [
           "secretory cell"
          ],
          [
           "myoblast"
          ],
          [
           "muscle precursor cell"
          ],
          [
           "connective tissue cell"
          ],
          [
           "mesenchymal stem cell"
          ],
          [
           "ecto-epithelial cell"
          ],
          [
           "neurecto-epithelial cell"
          ],
          [
           "osteoblast"
          ],
          [
           "preosteoblast"
          ],
          [
           "ciliated cell"
          ],
          [
           "ependymal cell"
          ],
          [
           "ciliated epithelial cell"
          ],
          [
           "epithelial cell"
          ],
          [
           "leukocyte"
          ],
          [
           "duct epithelial cell"
          ],
          [
           "branched duct epithelial cell"
          ],
          [
           "blood vessel endothelial cell"
          ],
          [
           "squamous epithelial cell"
          ],
          [
           "endothelial cell of vascular tree"
          ],
          [
           "non-branched duct epithelial cell"
          ],
          [
           "meso-epithelial cell"
          ],
          [
           "barrier cell"
          ],
          [
           "columnar/cuboidal epithelial cell"
          ],
          [
           "mesothelial cell"
          ],
          [
           "lining cell"
          ],
          [
           "stratified epithelial cell"
          ],
          [
           "circulating cell"
          ],
          [
           "blood cell"
          ],
          [
           "epithelial cell of lung"
          ],
          [
           "epithelial cell of pancreas"
          ],
          [
           "T cell"
          ],
          [
           "lymphocyte"
          ],
          [
           "pro-T cell"
          ],
          [
           "lymphocyte of B lineage"
          ],
          [
           "Kupffer cell"
          ],
          [
           "tissue-resident macrophage"
          ],
          [
           "osteoclast"
          ],
          [
           "myeloid leukocyte"
          ],
          [
           "phagocyte (sensu Vertebrata)"
          ],
          [
           "bone cell"
          ],
          [
           "monocyte"
          ],
          [
           "granulocyte"
          ],
          [
           "neuron associated cell"
          ],
          [
           "neutrophil"
          ],
          [
           "phagocyte"
          ],
          [
           "mast cell"
          ],
          [
           "sensory epithelial cell"
          ],
          [
           "interneuron"
          ],
          [
           "motor neuron"
          ],
          [
           "efferent neuron"
          ],
          [
           "afferent neuron"
          ],
          [
           "bipolar neuron"
          ],
          [
           "multipolar neuron"
          ],
          [
           "autonomic neuron"
          ],
          [
           "peripheral nervous system neuron"
          ],
          [
           "cholinergic neuron"
          ],
          [
           "catecholaminergic neuron"
          ],
          [
           "mononuclear phagocyte"
          ],
          [
           "mononuclear cell"
          ],
          [
           "ectodermal cell"
          ],
          [
           "endothelial cell"
          ],
          [
           "CNS neuron (sensu Vertebrata)"
          ],
          [
           "GABAergic interneuron"
          ],
          [
           "granule cell"
          ],
          [
           "Purkinje cell"
          ],
          [
           "cerebellar neuron"
          ],
          [
           "stellate neuron"
          ],
          [
           "neuron associated cell (sensu Vertebrata)"
          ],
          [
           "glial cell"
          ],
          [
           "macroglial cell"
          ],
          [
           "oligodendrocyte"
          ],
          [
           "myelinating glial cell"
          ],
          [
           "oligodendrocyte precursor cell"
          ],
          [
           "microglial cell"
          ],
          [
           "central nervous system macrophage"
          ],
          [
           "mesodermal cell"
          ],
          [
           "gut endothelial cell"
          ],
          [
           "corneal endothelial cell"
          ],
          [
           "fibrocyte"
          ],
          [
           "stromal cell"
          ],
          [
           "adipocyte"
          ],
          [
           "stuff accumulating cell"
          ],
          [
           "chondrocyte"
          ],
          [
           "glycosaminoglycan secreting cell"
          ],
          [
           "collagen secreting cell"
          ],
          [
           "pigment cell"
          ],
          [
           "melanocyte"
          ],
          [
           "visual pigment cell"
          ],
          [
           "glandular epithelial cell"
          ],
          [
           "extracellular matrix secreting cell"
          ],
          [
           "carbohydrate secreting cell"
          ],
          [
           "protein secreting cell"
          ],
          [
           "peptic cell"
          ],
          [
           "glandular cell of stomach"
          ],
          [
           "surfactant secreting cell"
          ],
          [
           "club cell"
          ],
          [
           "epithelial cell of tracheobronchial tree"
          ],
          [
           "seromucus secreting cell"
          ],
          [
           "goblet cell"
          ],
          [
           "mucus secreting cell"
          ],
          [
           "parietal cell"
          ],
          [
           "endocrine cell"
          ],
          [
           "enteroendocrine cell"
          ],
          [
           "neuroendocrine cell"
          ],
          [
           "chromaffin cell"
          ],
          [
           "amine precursor uptake and decarboxylation cell"
          ],
          [
           "peptide hormone secreting cell"
          ],
          [
           "insulin secreting cell"
          ],
          [
           "type B pancreatic cell"
          ],
          [
           "pancreatic endocrine cell"
          ],
          [
           "progenitor cell of endocrine pancreas"
          ],
          [
           "glucagon secreting cell"
          ],
          [
           "pancreatic A cell"
          ],
          [
           "type A enteroendocrine cell"
          ],
          [
           "somatostatin secreting cell"
          ],
          [
           "pancreatic D cell"
          ],
          [
           "type D enteroendocrine cell"
          ],
          [
           "steroid hormone secreting cell"
          ],
          [
           "stromal cell of ovary"
          ],
          [
           "testosterone secreting cell"
          ],
          [
           "Leydig cell"
          ],
          [
           "interstitial cell"
          ],
          [
           "hepatocyte"
          ],
          [
           "endopolyploid cell"
          ],
          [
           "hepatoblast"
          ],
          [
           "contractile cell"
          ],
          [
           "pericyte"
          ],
          [
           "myoepithelial cell"
          ],
          [
           "myofibroblast cell"
          ],
          [
           "muscle cell"
          ],
          [
           "electrically responsive cell"
          ],
          [
           "cell of skeletal muscle"
          ],
          [
           "slow muscle cell"
          ],
          [
           "extrafusal muscle fiber"
          ],
          [
           "fast muscle cell"
          ],
          [
           "non-striated muscle cell"
          ],
          [
           "visceral muscle cell"
          ],
          [
           "smooth muscle myoblast"
          ],
          [
           "cardiac muscle cell"
          ],
          [
           "chemoreceptor cell"
          ],
          [
           "taste receptor cell"
          ],
          [
           "endo-epithelial cell"
          ],
          [
           "photoreceptor cell"
          ],
          [
           "electrically active cell"
          ],
          [
           "Sertoli cell"
          ],
          [
           "supporting cell"
          ],
          [
           "androgen binding protein secreting cell"
          ],
          [
           "seminiferous tubule epithelial cell"
          ],
          [
           "insulating cell"
          ],
          [
           "myelinating Schwann cell"
          ],
          [
           "Schwann cell"
          ],
          [
           "immature Schwann cell"
          ],
          [
           "motile cell"
          ],
          [
           "anucleate cell"
          ],
          [
           "nucleate cell"
          ],
          [
           "single nucleate cell"
          ],
          [
           "multinucleate cell"
          ],
          [
           "erythrocyte"
          ],
          [
           "oxygen accumulating cell"
          ],
          [
           "reticulocyte"
          ],
          [
           "platelet"
          ],
          [
           "serotonin secreting cell"
          ],
          [
           "megakaryocyte"
          ],
          [
           "defensive cell"
          ],
          [
           "macrophage"
          ],
          [
           "B cell"
          ],
          [
           "keratinizing barrier epithelial cell"
          ],
          [
           "stratified squamous epithelial cell"
          ],
          [
           "keratin accumulating cell"
          ],
          [
           "brush border epithelial cell"
          ],
          [
           "Merkel cell"
          ],
          [
           "keratinocyte"
          ],
          [
           "transitional epithelial cell"
          ],
          [
           "primary sensory neuron (sensu Teleostei)"
          ],
          [
           "eurydendroid cell"
          ],
          [
           "eye photoreceptor cell"
          ],
          [
           "gamete"
          ],
          [
           "crystallin accumulating cell"
          ],
          [
           "tracheal epithelial cell"
          ],
          [
           "epidermal cell"
          ],
          [
           "serous secreting cell"
          ],
          [
           "milk secreting cell"
          ],
          [
           "sebum secreting cell"
          ],
          [
           "sebaceous gland cell"
          ],
          [
           "pneumocyte"
          ],
          [
           "epithelial cell of alveolus of lung"
          ],
          [
           "lysozyme secreting cell"
          ],
          [
           "neural crest cell"
          ],
          [
           "mesenchymal cell"
          ],
          [
           "biogenic amine secreting cell"
          ],
          [
           "extraembryonic cell"
          ],
          [
           "trophoblast cell"
          ],
          [
           "sphincter associated smooth muscle cell"
          ],
          [
           "vascular associated smooth muscle cell"
          ],
          [
           "perivascular cell"
          ],
          [
           "general ecto-epithelial cell"
          ],
          [
           "myotube"
          ],
          [
           "attachment cell"
          ],
          [
           "tendon cell"
          ],
          [
           "ganglion interneuron"
          ],
          [
           "CNS interneuron"
          ],
          [
           "central nervous system neuron"
          ],
          [
           "electrically signaling cell"
          ],
          [
           "excretory cell"
          ],
          [
           "reticular cell"
          ],
          [
           "follicular dendritic cell"
          ],
          [
           "striated muscle cell"
          ],
          [
           "preadipocyte"
          ],
          [
           "dendritic cell"
          ],
          [
           "Langerhans cell"
          ],
          [
           "conventional dendritic cell"
          ],
          [
           "noradrenergic cell"
          ],
          [
           "cardiac myoblast"
          ],
          [
           "neural progenitor cell"
          ],
          [
           "follicular epithelial cell"
          ],
          [
           "ovarian surface epithelial cell"
          ],
          [
           "CD4-positive helper T cell"
          ],
          [
           "CD4-positive, alpha-beta T cell"
          ],
          [
           "activated CD4-positive, alpha-beta T cell"
          ],
          [
           "inhibitory interneuron"
          ],
          [
           "granulosa cell"
          ],
          [
           "follicular cell of ovary"
          ],
          [
           "theca cell"
          ],
          [
           "androgen secreting cell"
          ],
          [
           "enkephalin secreting cell"
          ],
          [
           "endorphin secreting cell"
          ],
          [
           "type G enteroendocrine cell"
          ],
          [
           "gastrin secreting cell"
          ],
          [
           "mucous cell of stomach"
          ],
          [
           "paneth cell"
          ],
          [
           "intestinal epithelial cell"
          ],
          [
           "paracrine cell"
          ],
          [
           "cardiac muscle myoblast"
          ],
          [
           "cardiocyte"
          ],
          [
           "skeletal muscle fiber"
          ],
          [
           "syncytiotrophoblast cell"
          ],
          [
           "pigmented epithelial cell"
          ],
          [
           "primary neuron (sensu Teleostei)"
          ],
          [
           "T-helper 1 cell"
          ],
          [
           "T-helper 2 cell"
          ],
          [
           "CD4-positive, CXCR3-negative, CCR6-negative, alpha-beta T cell"
          ],
          [
           "proerythroblast"
          ],
          [
           "erythroblast"
          ],
          [
           "neuronal brush cell"
          ],
          [
           "CD7-negative lymphoid progenitor OR granulocyte monocyte progenitor"
          ],
          [
           "bone marrow hematopoietic cell"
          ],
          [
           "promonocyte"
          ],
          [
           "amacrine cell"
          ],
          [
           "retinal cell"
          ],
          [
           "retinal ganglion cell"
          ],
          [
           "promyelocyte"
          ],
          [
           "cardiac mesenchymal cell"
          ],
          [
           "migratory cardiac neural crest cell"
          ],
          [
           "retinal cone cell"
          ],
          [
           "camera-type eye photoreceptor cell"
          ],
          [
           "corneal epithelial cell"
          ],
          [
           "type EC enteroendocrine cell"
          ],
          [
           "epithelial cell of alimentary canal"
          ],
          [
           "cell in vitro"
          ],
          [
           "immature neutrophil"
          ],
          [
           "myelocyte"
          ],
          [
           "alveolar macrophage"
          ],
          [
           "lung macrophage"
          ],
          [
           "enterocyte"
          ],
          [
           "gut absorptive cell"
          ],
          [
           "skeletal muscle satellite cell"
          ],
          [
           "enucleate erythrocyte"
          ],
          [
           "enucleated reticulocyte"
          ],
          [
           "pyramidal neuron"
          ],
          [
           "retinal rod cell"
          ],
          [
           "granulocytopoietic cell"
          ],
          [
           "basophil mast progenitor cell"
          ],
          [
           "GABAergic neuron"
          ],
          [
           "acinar cell"
          ],
          [
           "natural killer cell"
          ],
          [
           "group 1 innate lymphoid cell"
          ],
          [
           "mature alpha-beta T cell"
          ],
          [
           "CD8-positive, alpha-beta T cell"
          ],
          [
           "transporting cell"
          ],
          [
           "hepatic stellate cell"
          ],
          [
           "Mueller cell"
          ],
          [
           "radial glial cell"
          ],
          [
           "basal cell"
          ],
          [
           "prickle cell"
          ],
          [
           "mesangial cell"
          ],
          [
           "mucous neck cell"
          ],
          [
           "podocyte"
          ],
          [
           "renal filtration cell"
          ],
          [
           "epithelial cell of glomerular capsule"
          ],
          [
           "fenestrated cell"
          ],
          [
           "mural cell"
          ],
          [
           "glutamatergic neuron"
          ],
          [
           "M cell of gut"
          ],
          [
           "non-myelinating Schwann cell"
          ],
          [
           "Cajal-Retzius cell"
          ],
          [
           "PP cell"
          ],
          [
           "dopaminergic neuron"
          ],
          [
           "endothelial tip cell"
          ],
          [
           "choroid plexus epithelial cell"
          ],
          [
           "urothelial cell"
          ],
          [
           "retina horizontal cell"
          ],
          [
           "retinal bipolar neuron"
          ],
          [
           "visual system neuron"
          ],
          [
           "ON-bipolar cell"
          ],
          [
           "OFF-bipolar cell"
          ],
          [
           "rod bipolar cell"
          ],
          [
           "cone retinal bipolar cell"
          ],
          [
           "myeloid dendritic cell"
          ],
          [
           "plasmacytoid dendritic cell"
          ],
          [
           "mature B cell"
          ],
          [
           "B cell, CD19-positive"
          ],
          [
           "transitional stage B cell"
          ],
          [
           "immature B cell"
          ],
          [
           "precursor B cell"
          ],
          [
           "plasma cell"
          ],
          [
           "antibody secreting cell"
          ],
          [
           "plasmablast"
          ],
          [
           "memory B cell"
          ],
          [
           "naive B cell"
          ],
          [
           "alpha-beta T cell"
          ],
          [
           "gamma-delta T cell"
          ],
          [
           "immature alpha-beta T cell"
          ],
          [
           "immature T cell"
          ],
          [
           "mature T cell"
          ],
          [
           "CD4-positive, CD25-positive, alpha-beta regulatory T cell"
          ],
          [
           "regulatory T cell"
          ],
          [
           "alpha-beta intraepithelial T cell"
          ],
          [
           "CD4-positive, alpha-beta thymocyte"
          ],
          [
           "CD8-positive, alpha-beta cytotoxic T cell"
          ],
          [
           "activated CD8-positive, alpha-beta T cell"
          ],
          [
           "CD8-alpha-beta-positive, alpha-beta intraepithelial T cell"
          ],
          [
           "intraepithelial lymphocyte"
          ],
          [
           "DN3 thymocyte"
          ],
          [
           "mature gamma-delta T cell"
          ],
          [
           "gamma-delta intraepithelial T cell"
          ],
          [
           "CD8-alpha alpha positive, gamma-delta intraepithelial T cell"
          ],
          [
           "thymocyte"
          ],
          [
           "DN4 thymocyte"
          ],
          [
           "double negative thymocyte"
          ],
          [
           "DN1 thymic pro-T cell"
          ],
          [
           "double-positive, alpha-beta thymocyte"
          ],
          [
           "CD8-positive, alpha-beta thymocyte"
          ],
          [
           "memory T cell"
          ],
          [
           "naive T cell"
          ],
          [
           "mature NK T cell"
          ],
          [
           "small pre-B-II cell"
          ],
          [
           "pro-B cell"
          ],
          [
           "B-1 B cell"
          ],
          [
           "B-1a B cell"
          ],
          [
           "B-1b B cell"
          ],
          [
           "B-2 B cell"
          ],
          [
           "immature natural killer cell"
          ],
          [
           "immature innate lymphoid cell"
          ],
          [
           "mature natural killer cell"
          ],
          [
           "lymphoid lineage restricted progenitor cell"
          ],
          [
           "hematopoietic multipotent progenitor cell"
          ],
          [
           "hematopoietic lineage restricted progenitor cell"
          ],
          [
           "common dendritic progenitor"
          ],
          [
           "mature conventional dendritic cell"
          ],
          [
           "follicular B cell"
          ],
          [
           "germinal center B cell"
          ],
          [
           "classical monocyte"
          ],
          [
           "elicited macrophage"
          ],
          [
           "inflammatory macrophage"
          ],
          [
           "non-classical monocyte"
          ],
          [
           "intermediate monocyte"
          ],
          [
           "meningeal macrophage"
          ],
          [
           "alternatively activated macrophage"
          ],
          [
           "early T lineage precursor"
          ],
          [
           "naive thymus-derived CD4-positive, alpha-beta T cell"
          ],
          [
           "CD4-positive, alpha-beta memory T cell"
          ],
          [
           "T-helper 17 cell"
          ],
          [
           "naive thymus-derived CD8-positive, alpha-beta T cell"
          ],
          [
           "natural T-regulatory cell"
          ],
          [
           "central memory CD4-positive, alpha-beta T cell"
          ],
          [
           "CD4-positive, alpha-beta memory T cell, CD45RO-positive"
          ],
          [
           "effector memory CD4-positive, alpha-beta T cell"
          ],
          [
           "central memory CD8-positive, alpha-beta T cell"
          ],
          [
           "CD8-positive, alpha-beta memory T cell, CD45RO-positive"
          ],
          [
           "CD8-positive, alpha-beta cytokine secreting effector T cell"
          ],
          [
           "CD8-positive, alpha-beta memory T cell"
          ],
          [
           "cytotoxic T cell"
          ],
          [
           "effector T cell"
          ],
          [
           "helper T cell"
          ],
          [
           "effector memory CD8-positive, alpha-beta T cell"
          ],
          [
           "immature NK T cell"
          ],
          [
           "CD8-alpha-alpha-positive, alpha-beta intraepithelial T cell"
          ],
          [
           "Tc1 cell"
          ],
          [
           "type I NK T cell"
          ],
          [
           "type II NK T cell"
          ],
          [
           "activated type II NK T cell"
          ],
          [
           "CD4-positive, alpha-beta cytotoxic T cell"
          ],
          [
           "early lymphoid progenitor"
          ],
          [
           "CD16-negative, CD56-bright natural killer cell, human"
          ],
          [
           "CD16-positive, CD56-dim natural killer cell, human"
          ],
          [
           "mucosal invariant T cell"
          ],
          [
           "long lived plasma cell"
          ],
          [
           "class switched memory B cell"
          ],
          [
           "large pre-B-II cell"
          ],
          [
           "pre-B-II cell"
          ],
          [
           "pre-B-I cell"
          ],
          [
           "unswitched memory B cell"
          ],
          [
           "IgG memory B cell"
          ],
          [
           "IgG plasmablast"
          ],
          [
           "IgA plasmablast"
          ],
          [
           "IgG plasma cell"
          ],
          [
           "IgM plasma cell"
          ],
          [
           "IgA plasma cell"
          ],
          [
           "hematopoietic oligopotent progenitor cell, lineage-negative"
          ],
          [
           "pre-conventional dendritic cell"
          ],
          [
           "CD11b-positive dendritic cell"
          ],
          [
           "CD34-positive, CD38-negative hematopoietic stem cell"
          ],
          [
           "CD115-positive monocyte OR common dendritic progenitor"
          ],
          [
           "CD115-positive monocyte"
          ],
          [
           "cerebellar granule cell"
          ],
          [
           "cerebellum glutamatergic neuron"
          ],
          [
           "cerebellar granule cell precursor"
          ],
          [
           "cerebral cortex neuron"
          ],
          [
           "T-helper 22 cell"
          ],
          [
           "activated CD4-positive, alpha-beta T cell, human"
          ],
          [
           "effector CD4-positive, alpha-beta T cell"
          ],
          [
           "naive regulatory T cell"
          ],
          [
           "memory regulatory T cell"
          ],
          [
           "activated CD8-positive, alpha-beta T cell, human"
          ],
          [
           "effector CD8-positive, alpha-beta T cell"
          ],
          [
           "CD14-positive monocyte"
          ],
          [
           "CD14-positive, CD16-positive monocyte"
          ],
          [
           "dendritic cell, human"
          ],
          [
           "myeloid dendritic cell, human"
          ],
          [
           "plasmacytoid dendritic cell, human"
          ],
          [
           "abnormal cell"
          ],
          [
           "effector memory CD8-positive, alpha-beta T cell, terminally differentiated"
          ],
          [
           "effector memory CD45RA-positive, alpha-beta T cell, terminally differentiated"
          ],
          [
           "neoplastic cell"
          ],
          [
           "malignant cell"
          ],
          [
           "innate lymphoid cell"
          ],
          [
           "erythroid progenitor cell, mammalian"
          ],
          [
           "ILC1"
          ],
          [
           "group 2 innate lymphoid cell"
          ],
          [
           "group 3 innate lymphoid cell"
          ],
          [
           "CD34-positive, CD56-positive, CD117-positive common innate lymphoid precursor, human"
          ],
          [
           "ILC1, human"
          ],
          [
           "group 3 innate lymphoid cell, human"
          ],
          [
           "NKp44-positive group 3 innate lymphoid cell, human"
          ],
          [
           "NKp44-negative group 3 innate lymphoid cell, human"
          ],
          [
           "group 2 innate lymphoid cell, human"
          ],
          [
           "lymphocyte of B lineage, CD19-positive"
          ],
          [
           "T follicular helper cell"
          ],
          [
           "fraction A pre-pro B cell"
          ],
          [
           "early pro-B cell"
          ],
          [
           "late pro-B cell"
          ],
          [
           "CD14-positive, CD16-negative classical monocyte"
          ],
          [
           "type I pneumocyte"
          ],
          [
           "type II pneumocyte"
          ],
          [
           "lung secretory cell"
          ],
          [
           "pancreatic acinar cell"
          ],
          [
           "pancreas exocrine glandular cell"
          ],
          [
           "enterocyte of epithelium of large intestine"
          ],
          [
           "epithelial cell of large intestine"
          ],
          [
           "brush cell of trachebronchial tree"
          ],
          [
           "brush cell"
          ],
          [
           "pancreatic ductal cell"
          ],
          [
           "epithelial cell of exocrine pancreas"
          ],
          [
           "interstitial cell of Cajal"
          ],
          [
           "bone marrow cell"
          ],
          [
           "interstitial cell of ovary"
          ],
          [
           "cortical cell of adrenal gland"
          ],
          [
           "adrenal gland glandular cell"
          ],
          [
           "regular cardiac myocyte"
          ],
          [
           "IgG-negative class switched memory B cell"
          ],
          [
           "regular atrial cardiac myocyte"
          ],
          [
           "regular ventricular cardiac myocyte"
          ],
          [
           "endothelial cell of lymphatic vessel"
          ],
          [
           "vascular lymphangioblast"
          ],
          [
           "epithelial cell of sweat gland"
          ],
          [
           "capillary endothelial cell"
          ],
          [
           "microvascular endothelial cell"
          ],
          [
           "ciliated columnar cell of tracheobronchial tree"
          ],
          [
           "multi-ciliated epithelial cell"
          ],
          [
           "respiratory ciliated cell"
          ],
          [
           "epithelial cell of uterus"
          ],
          [
           "endosteal cell"
          ],
          [
           "renal interstitial pericyte"
          ],
          [
           "epithelial cell of stomach"
          ],
          [
           "foveolar cell of stomach"
          ],
          [
           "basal cell of epidermis"
          ],
          [
           "stem cell of epidermis"
          ],
          [
           "glomerular endothelial cell"
          ],
          [
           "glomerular cell"
          ],
          [
           "granular cell of epidermis"
          ],
          [
           "epithelial cell of thyroid gland"
          ],
          [
           "renal beta-intercalated cell"
          ],
          [
           "renal intercalated cell"
          ],
          [
           "epithelial cell of lower respiratory tract"
          ],
          [
           "brush cell of epithelium proper of large intestine"
          ],
          [
           "intestinal tuft cell"
          ],
          [
           "brush cell of trachea"
          ],
          [
           "bronchial epithelial cell"
          ],
          [
           "epithelial cell of esophagus"
          ],
          [
           "vertebrate lens cell"
          ],
          [
           "anterior lens cell"
          ],
          [
           "lens epithelial cell"
          ],
          [
           "secondary lens fiber"
          ],
          [
           "lens fiber cell"
          ],
          [
           "lactocyte"
          ],
          [
           "epithelial cell of prostate"
          ],
          [
           "basal cell of prostate epithelium"
          ],
          [
           "luminal cell of prostate epithelium"
          ],
          [
           "basal epithelial cell of prostatic duct"
          ],
          [
           "pulmonary interstitial fibroblast"
          ],
          [
           "smooth muscle cell of sphincter of pupil"
          ],
          [
           "peripheral blood stem cell"
          ],
          [
           "intestinal crypt stem cell"
          ],
          [
           "epithelial cell of small intestine"
          ],
          [
           "stromal cell of endometrium"
          ],
          [
           "decidual cell"
          ],
          [
           "thyroid follicular cell"
          ],
          [
           "endothelial cell of sinusoid"
          ],
          [
           "enteroendocrine cell of colon"
          ],
          [
           "enteroendocrine cell of small intestine"
          ],
          [
           "P/D1 enteroendocrine cell"
          ],
          [
           "vasoactive intestinal peptide secreting cell"
          ],
          [
           "pancreatic PP cell"
          ],
          [
           "type I enteroendocrine cell"
          ],
          [
           "GIP cell"
          ],
          [
           "type L enteroendocrine cell"
          ],
          [
           "type N enteroendocrine cell"
          ],
          [
           "ghrelin secreting cell"
          ],
          [
           "epithelial cell of thymus"
          ],
          [
           "cortical thymic epithelial cell"
          ],
          [
           "medullary thymic epithelial cell"
          ],
          [
           "pigmented ciliary epithelial cell"
          ],
          [
           "non-pigmented ciliary epithelial cell"
          ],
          [
           "epithelial cell of distal tubule"
          ],
          [
           "nephron tubule epithelial cell"
          ],
          [
           "kidney cortex tubule cell"
          ],
          [
           "epithelial cell of proximal tubule"
          ],
          [
           "epithelial cell of skin gland"
          ],
          [
           "embryonic stem cell"
          ],
          [
           "myoepithelial cell of mammary gland"
          ],
          [
           "mammary gland epithelial cell"
          ],
          [
           "mammary gland glandular cell"
          ],
          [
           "luminal adaptive secretory precursor cell of mammary gland"
          ],
          [
           "luminal epithelial cell of mammary gland"
          ],
          [
           "progenitor cell of mammary luminal epithelium"
          ],
          [
           "basal epithelial cell of tracheobronchial tree"
          ],
          [
           "decidual natural killer cell, human"
          ],
          [
           "endocardial cell"
          ],
          [
           "cardiac endothelial cell"
          ],
          [
           "gestational hematopoietic stem cell"
          ],
          [
           "primitive red blood cell"
          ],
          [
           "primitive erythroid lineage cell"
          ],
          [
           "keratocyte"
          ],
          [
           "myometrial cell"
          ],
          [
           "uterine smooth muscle cell"
          ],
          [
           "respiratory epithelial cell"
          ],
          [
           "respiratory goblet cell"
          ],
          [
           "Schwann cell precursor"
          ],
          [
           "CD141-positive myeloid dendritic cell"
          ],
          [
           "Gr1-high classical monocyte"
          ],
          [
           "CD14-low, CD16-positive monocyte"
          ],
          [
           "CD1c-positive myeloid dendritic cell"
          ],
          [
           "pancreatic stellate cell"
          ],
          [
           "epidermal Langerhans cell"
          ],
          [
           "MHC-II-positive classical monocyte"
          ],
          [
           "nasal mucosa goblet cell"
          ],
          [
           "melanocyte of skin"
          ],
          [
           "hair follicle cell"
          ],
          [
           "trophoblast giant cell"
          ],
          [
           "fetal cardiomyocyte"
          ],
          [
           "adventitial cell"
          ],
          [
           "enteric smooth muscle cell"
          ],
          [
           "kidney epithelial cell"
          ],
          [
           "kidney cell"
          ],
          [
           "subcutaneous adipocyte"
          ],
          [
           "intrahepatic cholangiocyte"
          ],
          [
           "cholangiocyte"
          ],
          [
           "blood vessel smooth muscle cell"
          ],
          [
           "endothelial cell of artery"
          ],
          [
           "vein endothelial cell"
          ],
          [
           "fibroblast of cardiac tissue"
          ],
          [
           "skin fibroblast"
          ],
          [
           "fibroblast of lung"
          ],
          [
           "fibroblast of mammary gland"
          ],
          [
           "placental epithelial cell"
          ],
          [
           "fibroblast of breast"
          ],
          [
           "renal cortical epithelial cell"
          ],
          [
           "kidney cortical cell"
          ],
          [
           "retinal blood vessel endothelial cell"
          ],
          [
           "retinal pigment epithelial cell"
          ],
          [
           "smooth muscle cell of the pulmonary artery"
          ],
          [
           "bladder cell"
          ],
          [
           "bronchial smooth muscle cell"
          ],
          [
           "tracheobronchial smooth muscle cell"
          ],
          [
           "brain macroglial cell"
          ],
          [
           "cerebral cortex glial cell"
          ],
          [
           "migratory enteric neural crest cell"
          ],
          [
           "adipocyte of breast"
          ],
          [
           "prostate stromal cell"
          ],
          [
           "acinar cell of salivary gland"
          ],
          [
           "salivary gland glandular cell"
          ],
          [
           "mature microglial cell"
          ],
          [
           "respiratory basal cell"
          ],
          [
           "glandular cell of esophagus"
          ],
          [
           "endothelial cell of venule"
          ],
          [
           "glandular cell of the large intestine"
          ],
          [
           "tongue muscle cell"
          ],
          [
           "intestinal enteroendocrine cell"
          ],
          [
           "S cone cell"
          ],
          [
           "H1 horizontal cell"
          ],
          [
           "H2 horizontal cell"
          ],
          [
           "glycinergic amacrine cell"
          ],
          [
           "starburst amacrine cell"
          ],
          [
           "GABAergic amacrine cell"
          ],
          [
           "ionocyte"
          ],
          [
           "renal principal cell"
          ],
          [
           "epithelial cell of nephron"
          ],
          [
           "renal alpha-intercalated cell"
          ],
          [
           "pancreatic epsilon cell"
          ],
          [
           "lymphangioblast"
          ],
          [
           "mesenchymal lymphangioblast"
          ],
          [
           "visceromotor neuron"
          ],
          [
           "enteric neuron"
          ],
          [
           "skeletal muscle satellite stem cell"
          ],
          [
           "inhibitory motor neuron"
          ],
          [
           "cortical interneuron"
          ],
          [
           "cerebral cortex GABAergic interneuron"
          ],
          [
           "extravillous trophoblast"
          ],
          [
           "primary motor cortex pyramidal cell"
          ],
          [
           "L5 extratelencephalic projecting glutamatergic cortical neuron"
          ],
          [
           "inflammatory cell"
          ],
          [
           "salivary gland cell"
          ],
          [
           "small intestine glandular cell"
          ],
          [
           "paneth cell of colon"
          ],
          [
           "colon glandular cell"
          ],
          [
           "transit amplifying cell"
          ],
          [
           "transit amplifying cell of colon"
          ],
          [
           "transit amplifying cell of small intestine"
          ],
          [
           "intestinal crypt stem cell of large intestine"
          ],
          [
           "intestinal crypt stem cell of small intestine"
          ],
          [
           "colon epithelial cell"
          ],
          [
           "colon macrophage"
          ],
          [
           "colon goblet cell"
          ],
          [
           "large intestine goblet cell"
          ],
          [
           "tuft cell of colon"
          ],
          [
           "intestinal crypt stem cell of colon"
          ],
          [
           "lung pericyte"
          ],
          [
           "endothelial cell of placenta"
          ],
          [
           "endothelial cell of uterus"
          ],
          [
           "fibro/adipogenic progenitor cell"
          ],
          [
           "centrocyte"
          ],
          [
           "centroblast"
          ],
          [
           "T follicular regulatory cell"
          ],
          [
           "hair follicular keratinocyte"
          ],
          [
           "cardiac neuron"
          ],
          [
           "mesothelial cell of epicardium"
          ],
          [
           "double negative T regulatory cell"
          ],
          [
           "exhausted T cell"
          ],
          [
           "skeletal muscle fibroblast"
          ],
          [
           "muscle fibroblast"
          ],
          [
           "monocyte-derived dendritic cell"
          ],
          [
           "chorionic trophoblast cell"
          ],
          [
           "sympathetic neuron"
          ],
          [
           "forebrain radial glial cell"
          ],
          [
           "pulmonary ionocyte"
          ],
          [
           "epithelial cell of urethra"
          ],
          [
           "hillock cell"
          ],
          [
           "tracheobronchial serous cell"
          ],
          [
           "tracheobronchial goblet cell"
          ],
          [
           "endothelial cell of periportal hepatic sinusoid"
          ],
          [
           "endothelial cell of hepatic sinusoid"
          ],
          [
           "endothelial cell of pericentral hepatic sinusoid"
          ],
          [
           "periportal region hepatocyte"
          ],
          [
           "midzonal region hepatocyte"
          ],
          [
           "centrilobular region hepatocyte"
          ],
          [
           "intestine goblet cell"
          ],
          [
           "kidney tubule cell"
          ],
          [
           "forebrain neuroblast"
          ],
          [
           "lung goblet cell"
          ],
          [
           "lung neuroendocrine cell"
          ],
          [
           "lung ciliated cell"
          ],
          [
           "smooth muscle cell of small intestine"
          ],
          [
           "smooth muscle fiber of ileum"
          ],
          [
           "urethra cell"
          ],
          [
           "fibroblast of connective tissue of nonglandular part of prostate"
          ],
          [
           "fibroblast of connective tissue of glandular part of prostate"
          ],
          [
           "epicardial adipocyte"
          ],
          [
           "adipocyte of epicardial fat of left ventricle"
          ],
          [
           "bronchial goblet cell"
          ],
          [
           "small intestine goblet cell"
          ],
          [
           "intestinal villus goblet cell"
          ],
          [
           "duodenum glandular cell"
          ],
          [
           "ileal goblet cell"
          ],
          [
           "tracheal goblet cell"
          ],
          [
           "serous cell of epithelium of trachea"
          ],
          [
           "serous cell of epithelium of bronchus"
          ],
          [
           "enterocyte of epithelium of small intestine"
          ],
          [
           "enterocyte of epithelium proper of small intestine"
          ],
          [
           "enterocyte of epithelium proper of ileum"
          ],
          [
           "paneth cell of epithelium of small intestine"
          ],
          [
           "enterocyte of colon"
          ],
          [
           "basal cell of epithelium of trachea"
          ],
          [
           "microfold cell of epithelium of small intestine"
          ],
          [
           "ventricular cardiac muscle cell"
          ],
          [
           "conjunctival epithelial cell"
          ],
          [
           "epithelial cell of lacrimal drainage system"
          ],
          [
           "epithelial cell of lacrimal sac"
          ],
          [
           "epithelial cell of nasolacrimal duct"
          ],
          [
           "bladder urothelial cell"
          ],
          [
           "ciliary muscle cell"
          ],
          [
           "epithelial cell of stratum germinativum of esophagus"
          ],
          [
           "kidney glomerular epithelial cell"
          ],
          [
           "parietal epithelial cell"
          ],
          [
           "epithelial cell of intermediate tubule"
          ],
          [
           "kidney loop of Henle epithelial cell"
          ],
          [
           "kidney collecting duct epithelial cell"
          ],
          [
           "kidney collecting duct cell"
          ],
          [
           "smooth muscle cell of prostate"
          ],
          [
           "mesothelial cell of pleura"
          ],
          [
           "kidney interstitial cell"
          ],
          [
           "kidney medulla cell"
          ],
          [
           "kidney pelvis cell"
          ],
          [
           "kidney inner medulla cell"
          ],
          [
           "kidney outer medulla cell"
          ],
          [
           "papillary tips cell"
          ],
          [
           "lower urinary tract cell"
          ],
          [
           "kidney corpuscule cell"
          ],
          [
           "kidney interstitial fibroblast"
          ],
          [
           "kidney interstitial alternatively activated macrophage"
          ],
          [
           "kidney resident macrophage"
          ],
          [
           "kidney pelvis urothelial cell"
          ],
          [
           "kidney collecting duct principal cell"
          ],
          [
           "kidney collecting duct intercalated cell"
          ],
          [
           "kidney connecting tubule epithelial cell"
          ],
          [
           "kidney loop of Henle descending limb epithelial cell"
          ],
          [
           "kidney distal convoluted tubule epithelial cell"
          ],
          [
           "kidney blood vessel cell"
          ],
          [
           "kidney capillary endothelial cell"
          ],
          [
           "kidney venous blood vessel cell"
          ],
          [
           "glomerular capillary endothelial cell"
          ],
          [
           "kidney loop of Henle ascending limb epithelial cell"
          ],
          [
           "vasa recta cell"
          ],
          [
           "kidney loop of Henle thick ascending limb epithelial cell"
          ],
          [
           "kidney loop of Henle thin ascending limb epithelial cell"
          ],
          [
           "kidney loop of Henle thin descending limb epithelial cell"
          ],
          [
           "vasa recta ascending limb cell"
          ],
          [
           "vasa recta descending limb cell"
          ],
          [
           "medium spiny neuron"
          ],
          [
           "glycinergic neuron"
          ],
          [
           "lung endothelial cell"
          ],
          [
           "pulmonary artery endothelial cell"
          ],
          [
           "cerebral cortex pyramidal neuron"
          ],
          [
           "cerebral cortex endothelial cell"
          ],
          [
           "peripheral blood mononuclear cell"
          ],
          [
           "tonsil germinal center B cell"
          ],
          [
           "dermis lymphatic vessel endothelial cell"
          ],
          [
           "lung microvascular endothelial cell"
          ],
          [
           "dermis microvascular lymphatic vessel endothelial cell"
          ],
          [
           "embryonic fibroblast"
          ],
          [
           "brainstem motor neuron"
          ],
          [
           "hepatic pit cell"
          ],
          [
           "liver dendritic cell"
          ],
          [
           "prostate gland microvascular endothelial cell"
          ],
          [
           "placental villous trophoblast"
          ],
          [
           "bronchus fibroblast of lung"
          ],
          [
           "cord blood hematopoietic stem cell"
          ],
          [
           "Hofbauer cell"
          ],
          [
           "vip GABAergic cortical interneuron"
          ],
          [
           "intratelencephalic-projecting glutamatergic cortical neuron"
          ],
          [
           "extratelencephalic-projecting glutamatergic cortical neuron"
          ],
          [
           "lamp5 GABAergic cortical interneuron"
          ],
          [
           "near-projecting glutamatergic cortical neuron"
          ],
          [
           "corticothalamic-projecting glutamatergic cortical neuron"
          ],
          [
           "sncg GABAergic cortical interneuron"
          ],
          [
           "sst GABAergic cortical interneuron"
          ],
          [
           "pvalb GABAergic cortical interneuron"
          ],
          [
           "sst chodl GABAergic cortical interneuron"
          ],
          [
           "direct pathway medium spiny neuron"
          ],
          [
           "indirect pathway medium spiny neuron"
          ],
          [
           "chandelier pvalb GABAergic cortical interneuron"
          ],
          [
           "chandelier cell"
          ],
          [
           "L6b glutamatergic cortical neuron"
          ],
          [
           "L2/3-6 intratelencephalic projecting glutamatergic neuron"
          ],
          [
           "L6 corticothalamic-projecting glutamatergic cortical neuron"
          ],
          [
           "L5/6 near-projecting glutamatergic neuron of the primary motor cortex"
          ],
          [
           "L5/6 near-projecting glutamatergic neuron"
          ],
          [
           "L2/3 intratelencephalic projecting glutamatergic neuron"
          ],
          [
           "L6 intratelencephalic projecting glutamatergic neuron of the primary motor cortex"
          ],
          [
           "L6 intratelencephalic projecting glutamatergic neuron"
          ],
          [
           "vascular leptomeningeal cell"
          ],
          [
           "mesothelial fibroblast of the leptomeninx"
          ],
          [
           "mesothelial fibroblast"
          ],
          [
           "differentiation-committed oligodendrocyte precursor"
          ],
          [
           "caudal ganglionic eminence derived interneuron"
          ],
          [
           "caudal ganglionic eminence derived GABAergic cortical interneuron"
          ],
          [
           "brain vascular cell"
          ],
          [
           "unipolar brush cell"
          ],
          [
           "midget ganglion cell of retina"
          ],
          [
           "parasol ganglion cell of retina"
          ],
          [
           "alveolar type 1 fibroblast cell"
          ],
          [
           "alveolar type 2 fibroblast cell"
          ],
          [
           "epithelial cell of proximal tubule segment 1"
          ],
          [
           "epithelial cell of proximal tubule segment 3"
          ],
          [
           "kidney connecting tubule principal cell"
          ],
          [
           "respiratory hillock cell"
          ],
          [
           "BEST4+ intestinal epithelial cell, human"
          ],
          [
           "L4 intratelencephalic projecting glutamatergic neuron"
          ],
          [
           "serous secreting cell of bronchus submucosal gland"
          ],
          [
           "suprabasal keratinocyte"
          ],
          [
           "ON-blue cone bipolar cell"
          ],
          [
           "airway submucosal gland duct basal cell"
          ],
          [
           "perichondrial fibroblast"
          ],
          [
           "lung perichondrial fibroblast"
          ],
          [
           "diffuse bipolar 1 cell"
          ],
          [
           "diffuse bipolar 2 cell"
          ],
          [
           "diffuse bipolar 3a cell"
          ],
          [
           "diffuse bipolar 3b cell"
          ],
          [
           "diffuse bipolar 4 cell"
          ],
          [
           "diffuse bipolar 6 cell"
          ],
          [
           "flat midget bipolar cell"
          ],
          [
           "invaginating midget bipolar cell"
          ],
          [
           "giant bipolar cell"
          ],
          [
           "OFFx cell"
          ],
          [
           "lung resident memory CD4-positive, alpha-beta T cell"
          ],
          [
           "lung resident memory CD8-positive, alpha-beta T cell"
          ],
          [
           "metallothionein-positive alveolar macrophage"
          ],
          [
           "lung interstitial macrophage"
          ],
          [
           "deuterosomal cell"
          ],
          [
           "respiratory suprabasal cell"
          ],
          [
           "luminal hormone-sensing cell of mammary gland"
          ]
         ],
         "hovertemplate": "astrocyte descendants=NOT IN ASTROCYTE DESCENDANTS<br>x=%{x}<br>y=%{y}<br>label=%{customdata[0]}<extra></extra>",
         "legendgroup": "NOT IN ASTROCYTE DESCENDANTS",
         "marker": {
          "color": "#636efa",
          "symbol": "circle"
         },
         "mode": "markers",
         "name": "NOT IN ASTROCYTE DESCENDANTS",
         "orientation": "v",
         "showlegend": true,
         "type": "scatter",
         "x": [
          11.717308044433594,
          9.825003623962402,
          10.24278736114502,
          10.417634010314941,
          8.104426383972168,
          9.009193420410156,
          8.3159818649292,
          9.602998733520508,
          9.686277389526367,
          8.55121898651123,
          10.265510559082031,
          10.112813949584961,
          10.317121505737305,
          9.826983451843262,
          10.066226959228516,
          9.903040885925293,
          9.592628479003906,
          9.775931358337402,
          10.119784355163574,
          11.15877914428711,
          9.273066520690918,
          11.138278007507324,
          10.319268226623535,
          9.333507537841797,
          9.944255828857422,
          8.83756160736084,
          8.982219696044922,
          10.24811840057373,
          8.922114372253418,
          9.696089744567871,
          8.819003105163574,
          10.465452194213867,
          10.044605255126953,
          10.491389274597168,
          10.33462905883789,
          10.3717041015625,
          10.444784164428711,
          10.335993766784668,
          10.849678993225098,
          10.747127532958984,
          10.090742111206055,
          10.084035873413086,
          10.772405624389648,
          9.40710163116455,
          10.570109367370605,
          10.056081771850586,
          10.011736869812012,
          10.354690551757812,
          11.718963623046875,
          8.602648735046387,
          10.548748016357422,
          10.703344345092773,
          10.49954605102539,
          10.806736946105957,
          10.410449028015137,
          9.944995880126953,
          8.518280029296875,
          8.775947570800781,
          9.91118049621582,
          9.888811111450195,
          8.125621795654297,
          7.904969692230225,
          10.570030212402344,
          9.840810775756836,
          10.526527404785156,
          9.758591651916504,
          9.632721900939941,
          9.082813262939453,
          8.891376495361328,
          8.541714668273926,
          8.248980522155762,
          7.846701145172119,
          11.589837074279785,
          8.285144805908203,
          8.179486274719238,
          9.704617500305176,
          8.308780670166016,
          8.18295669555664,
          9.165584564208984,
          10.408995628356934,
          10.513334274291992,
          8.286904335021973,
          11.161065101623535,
          9.629426002502441,
          9.65896987915039,
          9.186084747314453,
          10.163847923278809,
          9.198790550231934,
          9.098052978515625,
          8.810139656066895,
          9.289043426513672,
          9.315031051635742,
          8.635693550109863,
          9.28347110748291,
          10.745880126953125,
          10.791582107543945,
          10.966683387756348,
          9.291906356811523,
          10.074007987976074,
          10.08781623840332,
          11.097445487976074,
          11.177397727966309,
          11.224359512329102,
          9.77759075164795,
          10.628609657287598,
          11.189797401428223,
          11.308143615722656,
          11.260695457458496,
          10.041332244873047,
          10.692148208618164,
          9.293240547180176,
          9.671222686767578,
          8.839672088623047,
          8.134237289428711,
          11.218793869018555,
          10.601409912109375,
          11.213911056518555,
          11.252197265625,
          11.228446006774902,
          11.26000690460205,
          11.207849502563477,
          10.751433372497559,
          10.583274841308594,
          10.474841117858887,
          10.388391494750977,
          9.667247772216797,
          9.402898788452148,
          9.104705810546875,
          8.543292045593262,
          7.874429702758789,
          8.255072593688965,
          9.091863632202148,
          8.183999061584473,
          8.875561714172363,
          8.967703819274902,
          8.462088584899902,
          8.45180606842041,
          8.397449493408203,
          9.825979232788086,
          9.796616554260254,
          9.340989112854004,
          9.605631828308105,
          7.851649284362793,
          8.819183349609375,
          11.033611297607422,
          11.151009559631348,
          11.1015043258667,
          9.581239700317383,
          10.34737491607666,
          10.331206321716309,
          10.945891380310059,
          11.031027793884277,
          10.97003173828125,
          10.576789855957031,
          11.006869316101074,
          11.444125175476074,
          11.278472900390625,
          11.256437301635742,
          11.200948715209961,
          11.716243743896484,
          11.824539184570312,
          11.816904067993164,
          11.893640518188477,
          11.42617416381836,
          11.754640579223633,
          11.872122764587402,
          11.888211250305176,
          11.371779441833496,
          11.775134086608887,
          11.703354835510254,
          9.132802963256836,
          8.29543685913086,
          8.263100624084473,
          8.22024154663086,
          8.035888671875,
          11.281496047973633,
          11.188542366027832,
          8.657402038574219,
          8.862747192382812,
          8.925565719604492,
          8.906087875366211,
          8.512553215026855,
          9.889867782592773,
          11.726518630981445,
          9.981887817382812,
          10.044462203979492,
          10.043706893920898,
          10.057838439941406,
          9.247481346130371,
          9.25432300567627,
          8.507380485534668,
          9.989692687988281,
          10.084546089172363,
          10.086283683776855,
          9.501642227172852,
          9.581167221069336,
          11.71701431274414,
          8.228442192077637,
          8.425111770629883,
          8.192462921142578,
          8.211126327514648,
          9.703712463378906,
          9.417590141296387,
          8.775860786437988,
          9.857766151428223,
          8.25136661529541,
          11.31766128540039,
          9.592893600463867,
          9.589038848876953,
          8.69340991973877,
          10.360810279846191,
          10.47317123413086,
          10.761445999145508,
          11.428632736206055,
          11.42525863647461,
          10.904051780700684,
          9.290245056152344,
          9.189046859741211,
          10.18538761138916,
          9.890832901000977,
          10.041757583618164,
          9.951250076293945,
          10.018929481506348,
          9.449496269226074,
          9.902046203613281,
          9.169038772583008,
          11.248944282531738,
          9.901881217956543,
          9.44456958770752,
          9.66336727142334,
          9.783326148986816,
          9.650246620178223,
          9.86778736114502,
          10.455368041992188,
          9.461689949035645,
          8.986014366149902,
          9.839003562927246,
          9.8006591796875,
          9.982043266296387,
          10.985651016235352,
          10.359622955322266,
          8.305398941040039,
          9.98563003540039,
          8.1857328414917,
          8.69704818725586,
          9.839666366577148,
          7.823939323425293,
          8.679837226867676,
          9.770084381103516,
          10.140005111694336,
          9.244305610656738,
          8.984701156616211,
          11.036676406860352,
          10.59322452545166,
          10.36857795715332,
          11.715921401977539,
          7.929460048675537,
          8.176414489746094,
          8.27464771270752,
          9.959426879882812,
          7.986087322235107,
          9.30056381225586,
          9.886338233947754,
          8.703527450561523,
          11.147210121154785,
          10.76745891571045,
          9.332903861999512,
          8.355788230895996,
          8.429656028747559,
          9.526939392089844,
          10.25245189666748,
          8.952153205871582,
          11.123305320739746,
          8.311580657958984,
          8.334173202514648,
          8.18361759185791,
          8.20409870147705,
          10.933061599731445,
          10.572526931762695,
          11.362998962402344,
          11.483515739440918,
          11.186450004577637,
          10.909509658813477,
          10.427988052368164,
          8.924538612365723,
          10.864535331726074,
          9.904129981994629,
          10.0232515335083,
          8.604323387145996,
          9.783077239990234,
          10.623003959655762,
          10.378310203552246,
          9.820262908935547,
          9.900250434875488,
          10.597564697265625,
          8.663412094116211,
          11.206679344177246,
          10.472371101379395,
          10.448342323303223,
          10.723831176757812,
          10.216277122497559,
          10.289985656738281,
          10.800827026367188,
          10.752702713012695,
          8.376930236816406,
          8.353375434875488,
          8.779281616210938,
          9.58248233795166,
          9.770669937133789,
          10.89792251586914,
          10.433320999145508,
          10.27338695526123,
          10.205455780029297,
          10.745743751525879,
          9.070191383361816,
          9.084586143493652,
          10.209707260131836,
          10.240732192993164,
          10.03109073638916,
          10.807764053344727,
          10.780540466308594,
          11.622076034545898,
          9.499287605285645,
          10.759334564208984,
          10.614591598510742,
          10.81881332397461,
          10.450804710388184,
          9.959872245788574,
          9.904702186584473,
          10.300049781799316,
          10.271044731140137,
          10.798883438110352,
          7.86881685256958,
          10.511634826660156,
          10.527170181274414,
          8.806648254394531,
          9.52407455444336,
          9.306364059448242,
          11.212337493896484,
          7.765189170837402,
          7.810066223144531,
          7.788525581359863,
          8.147598266601562,
          9.783267974853516,
          10.827421188354492,
          10.887170791625977,
          8.832090377807617,
          10.71040153503418,
          11.511736869812012,
          10.760372161865234,
          10.2022705078125,
          10.735917091369629,
          9.266815185546875,
          11.195760726928711,
          10.646222114562988,
          10.649062156677246,
          10.622468948364258,
          10.131568908691406,
          10.563372611999512,
          9.20089054107666,
          8.915120124816895,
          10.276426315307617,
          8.686962127685547,
          8.707725524902344,
          9.7169771194458,
          8.729798316955566,
          8.70578670501709,
          11.139552116394043,
          11.1674165725708,
          11.056716918945312,
          9.161153793334961,
          8.489145278930664,
          10.332989692687988,
          8.507964134216309,
          10.674094200134277,
          9.373696327209473,
          10.45907211303711,
          8.594709396362305,
          9.10460376739502,
          9.920830726623535,
          9.047932624816895,
          8.886358261108398,
          8.910689353942871,
          9.498773574829102,
          9.4696683883667,
          9.089789390563965,
          9.356993675231934,
          9.286811828613281,
          8.836993217468262,
          9.385411262512207,
          9.613633155822754,
          10.134018898010254,
          9.125007629394531,
          10.640088081359863,
          9.105984687805176,
          10.379386901855469,
          8.229564666748047,
          9.167366027832031,
          9.936944961547852,
          9.799159049987793,
          9.635294914245605,
          9.808743476867676,
          9.704031944274902,
          9.415045738220215,
          9.607184410095215,
          8.673834800720215,
          9.365666389465332,
          9.821024894714355,
          10.48387336730957,
          9.943702697753906,
          10.299996376037598,
          10.096634864807129,
          8.74094009399414,
          10.016873359680176,
          8.542470932006836,
          9.16321086883545,
          9.29382038116455,
          8.557687759399414,
          9.149513244628906,
          8.017725944519043,
          9.170195579528809,
          9.808741569519043,
          8.330679893493652,
          10.402730941772461,
          10.385114669799805,
          8.189913749694824,
          9.632756233215332,
          8.260053634643555,
          8.321147918701172,
          8.439796447753906,
          8.571464538574219,
          8.747218132019043,
          9.329224586486816,
          10.279337882995605,
          9.717362403869629,
          9.504907608032227,
          9.58237075805664,
          8.593450546264648,
          9.306024551391602,
          10.101835250854492,
          9.746649742126465,
          9.111352920532227,
          9.400063514709473,
          9.463227272033691,
          8.663052558898926,
          10.573163032531738,
          9.134674072265625,
          9.334321975708008,
          8.318034172058105,
          11.093497276306152,
          9.575395584106445,
          9.979212760925293,
          9.947972297668457,
          10.080960273742676,
          9.679564476013184,
          9.718088150024414,
          11.083312034606934,
          11.071793556213379,
          11.124666213989258,
          11.15483570098877,
          11.090825080871582,
          10.363431930541992,
          9.387730598449707,
          9.375097274780273,
          10.399142265319824,
          10.30510139465332,
          9.732973098754883,
          10.875893592834473,
          10.837489128112793,
          10.568841934204102,
          10.314848899841309,
          9.984906196594238,
          9.00520133972168,
          9.123144149780273,
          8.58923053741455,
          8.608219146728516,
          9.043344497680664,
          9.332321166992188,
          8.392133712768555,
          8.700393676757812,
          9.564332008361816,
          9.550374984741211,
          10.103610038757324,
          9.207880020141602,
          8.819005012512207,
          9.024513244628906,
          8.968825340270996,
          8.999500274658203,
          9.18582534790039,
          10.488655090332031,
          9.387676239013672,
          9.815345764160156,
          9.731796264648438,
          9.38487720489502,
          9.41647720336914,
          9.223318099975586,
          9.353658676147461,
          9.280596733093262,
          9.349769592285156,
          8.803912162780762,
          8.754663467407227,
          10.677021026611328,
          10.288216590881348,
          9.96527099609375,
          8.571205139160156,
          10.16760540008545,
          9.620500564575195,
          9.537025451660156,
          10.69378662109375,
          10.646568298339844,
          10.840164184570312,
          10.61669921875,
          9.232017517089844,
          10.553516387939453,
          9.158258438110352,
          9.256714820861816,
          8.359134674072266,
          10.632137298583984,
          8.27028751373291,
          9.164933204650879,
          9.166563987731934,
          10.238349914550781,
          9.742125511169434,
          10.037991523742676,
          10.29259204864502,
          7.773821830749512,
          8.02197265625,
          9.938557624816895,
          7.857855796813965,
          7.839331150054932,
          10.030409812927246,
          10.122432708740234,
          10.061452865600586,
          9.400557518005371,
          8.464991569519043,
          7.797661781311035,
          10.982970237731934,
          11.021903991699219,
          9.602575302124023,
          9.533426284790039,
          7.9679107666015625,
          8.077544212341309,
          9.8765230178833,
          9.066762924194336,
          11.471016883850098,
          11.519163131713867,
          10.159299850463867,
          9.949726104736328,
          10.490506172180176,
          10.01374340057373,
          10.11381721496582,
          9.570015907287598,
          9.806061744689941,
          9.84637451171875,
          9.828788757324219,
          9.659881591796875,
          9.651430130004883,
          9.46447467803955,
          9.578228950500488,
          9.599910736083984,
          9.565542221069336,
          9.139492988586426,
          7.930239677429199,
          9.774519920349121,
          10.56860637664795,
          10.369169235229492,
          10.664090156555176,
          8.008889198303223,
          8.05453109741211,
          9.118456840515137,
          7.841388702392578,
          10.898477554321289,
          11.345257759094238,
          11.300583839416504,
          11.460685729980469,
          11.13960075378418,
          11.351622581481934,
          11.38547420501709,
          11.414841651916504,
          10.759786605834961,
          10.748830795288086,
          8.690570831298828,
          8.825357437133789,
          8.552021026611328,
          9.515287399291992,
          9.512629508972168,
          11.639866828918457,
          11.166391372680664,
          11.189867973327637,
          11.164713859558105,
          9.545439720153809,
          9.172015190124512,
          8.880459785461426,
          8.9459867477417,
          9.45002269744873,
          9.234553337097168,
          8.955228805541992,
          9.452898979187012,
          9.758722305297852,
          9.243927001953125,
          8.070931434631348,
          8.039669036865234,
          10.669548988342285,
          10.810938835144043,
          10.812071800231934,
          8.037705421447754,
          7.8097124099731445,
          7.679792404174805,
          9.431655883789062,
          9.59290599822998,
          9.71109390258789,
          9.24850845336914,
          9.558690071105957,
          8.424779891967773,
          8.84286880493164,
          8.071820259094238,
          10.145125389099121,
          9.528912544250488,
          9.51036548614502,
          9.599921226501465,
          9.067767143249512,
          8.830303192138672,
          10.10800552368164,
          7.858882427215576,
          7.919890880584717,
          10.008000373840332,
          10.094816207885742,
          8.550965309143066,
          10.438871383666992,
          10.585110664367676,
          7.663401126861572,
          7.812541484832764,
          7.847046852111816,
          8.65359878540039,
          8.02396297454834,
          7.895759105682373,
          8.705831527709961,
          8.03718090057373,
          8.283689498901367,
          11.169684410095215,
          10.942880630493164,
          7.890482425689697,
          9.34572696685791,
          7.683650016784668,
          9.21790885925293,
          8.129899978637695,
          7.703540325164795,
          7.920583724975586,
          7.898346424102783,
          9.06826400756836,
          8.565218925476074,
          8.083873748779297,
          10.163392066955566,
          10.18265438079834,
          9.396693229675293,
          9.39366626739502,
          9.526653289794922,
          7.902792453765869,
          11.032682418823242,
          9.410128593444824,
          11.403335571289062,
          8.819056510925293,
          11.22886848449707,
          11.17879867553711,
          10.179178237915039,
          10.036681175231934,
          10.0651216506958,
          11.10124683380127,
          11.553443908691406,
          9.646312713623047,
          11.468482971191406,
          11.311652183532715,
          7.997135162353516,
          8.118879318237305,
          11.186822891235352,
          11.220072746276855,
          9.254319190979004,
          11.20907211303711,
          10.558538436889648,
          10.511018753051758,
          8.824596405029297,
          11.819884300231934,
          11.699570655822754,
          8.263934135437012,
          9.187629699707031,
          10.457512855529785,
          11.085420608520508,
          11.118197441101074,
          10.119552612304688,
          10.345025062561035,
          10.165214538574219,
          10.597514152526855,
          10.24825382232666,
          10.596131324768066,
          9.186086654663086,
          11.134544372558594,
          11.15385913848877,
          10.168526649475098,
          10.367236137390137,
          7.632099151611328,
          8.216188430786133,
          8.098285675048828,
          7.914988994598389,
          9.912490844726562,
          9.986004829406738,
          9.00820541381836,
          9.062529563903809,
          8.762056350708008,
          8.288737297058105,
          8.975919723510742,
          8.917546272277832,
          7.942452430725098,
          7.92018985748291,
          9.121002197265625,
          9.560977935791016,
          11.235219955444336,
          9.044341087341309,
          11.000089645385742,
          9.283379554748535,
          9.546339988708496,
          10.036252975463867,
          9.637560844421387,
          8.014564514160156,
          7.808324813842773,
          7.79416036605835,
          10.73701286315918,
          9.76015853881836,
          9.667967796325684,
          11.146117210388184,
          11.195038795471191,
          10.57955265045166,
          10.832768440246582,
          11.413549423217773,
          10.073648452758789,
          8.539167404174805,
          8.3026704788208,
          9.282848358154297,
          8.022320747375488,
          8.018521308898926,
          8.217144966125488,
          8.717533111572266,
          10.089727401733398,
          10.533130645751953,
          10.78900146484375,
          10.61658763885498,
          10.997541427612305,
          9.636929512023926,
          10.672637939453125,
          10.458796501159668,
          10.699234008789062,
          10.797844886779785,
          10.531221389770508,
          10.300065994262695,
          10.924714088439941,
          8.845355987548828,
          10.275437355041504,
          10.39417839050293,
          9.191043853759766,
          9.851539611816406,
          9.315557479858398,
          9.6049165725708,
          9.265055656433105,
          11.199726104736328,
          9.143783569335938,
          7.749208450317383,
          7.773305416107178,
          11.968804359436035,
          11.483623504638672,
          11.570539474487305,
          11.565571784973145,
          7.658352851867676,
          9.923545837402344,
          7.736499786376953,
          11.919363975524902,
          9.476801872253418,
          9.381011009216309,
          11.95530891418457,
          9.518046379089355,
          9.301148414611816,
          8.596044540405273,
          7.704849720001221,
          9.236054420471191,
          9.265824317932129,
          9.722065925598145,
          11.49013614654541,
          11.570569038391113,
          11.49940013885498,
          11.971832275390625,
          11.640547752380371,
          7.9156694412231445,
          7.7721686363220215,
          8.33105182647705,
          7.948974132537842,
          11.961801528930664,
          7.873210430145264,
          11.927449226379395,
          9.388747215270996,
          11.962861061096191,
          7.838832378387451,
          7.8091511726379395,
          11.675533294677734,
          10.187431335449219,
          8.68420696258545,
          7.841419696807861,
          11.728782653808594,
          7.928926944732666,
          9.819300651550293,
          10.002517700195312,
          8.357413291931152,
          8.288067817687988,
          8.040512084960938,
          8.011896133422852,
          10.9622802734375,
          9.352142333984375,
          9.204488754272461,
          7.848537921905518,
          8.726115226745605,
          7.911806583404541,
          10.628580093383789,
          8.46454906463623,
          10.51319408416748,
          10.356310844421387,
          11.723983764648438,
          10.559571266174316,
          11.697892189025879,
          11.866043090820312,
          10.560439109802246,
          10.506806373596191,
          10.490910530090332,
          10.78275203704834,
          11.651359558105469,
          11.64765453338623,
          11.64710807800293,
          11.709239959716797,
          11.82660961151123,
          10.291621208190918,
          11.875871658325195,
          11.68199634552002,
          11.825970649719238,
          11.89201545715332,
          11.885601997375488,
          11.806015968322754,
          8.008282661437988,
          8.006246566772461,
          8.097559928894043,
          9.652629852294922,
          10.605456352233887,
          10.561890602111816,
          7.69888162612915,
          10.260796546936035,
          10.756952285766602,
          9.782432556152344,
          7.8257904052734375,
          7.93099308013916,
          9.956443786621094,
          10.068224906921387,
          11.294718742370605,
          9.47851276397705,
          10.44704532623291,
          11.806351661682129,
          9.829425811767578,
          9.17862319946289,
          10.148364067077637,
          9.625179290771484,
          8.203898429870605,
          7.949845314025879,
          10.140165328979492,
          10.150772094726562,
          10.22258472442627,
          10.168028831481934,
          10.282670021057129,
          10.165729522705078,
          10.144872665405273,
          10.241191864013672,
          10.191886901855469,
          10.141563415527344,
          9.487130165100098,
          9.59756088256836,
          9.162109375,
          9.176594734191895,
          10.589584350585938,
          9.689123153686523,
          8.969411849975586
         ],
         "xaxis": "x",
         "y": [
          4.297649383544922,
          5.620401382446289,
          5.448995590209961,
          5.555227279663086,
          6.440558910369873,
          5.847205638885498,
          6.315731525421143,
          5.569570064544678,
          5.62211799621582,
          6.005904674530029,
          5.794147968292236,
          7.725302696228027,
          7.444854259490967,
          5.615254878997803,
          7.76199197769165,
          5.734536647796631,
          5.7345194816589355,
          5.903146266937256,
          7.689255237579346,
          5.369773864746094,
          6.1390275955200195,
          4.872646331787109,
          5.370874404907227,
          6.003993034362793,
          5.7339630126953125,
          4.762838840484619,
          7.770397663116455,
          6.836238384246826,
          6.748194217681885,
          6.994378089904785,
          6.771895408630371,
          7.22114372253418,
          5.651215076446533,
          6.967600345611572,
          6.683223724365234,
          6.683019161224365,
          6.058690071105957,
          6.678408145904541,
          6.779799938201904,
          7.198207855224609,
          5.361584663391113,
          5.607975959777832,
          6.913583278656006,
          4.5026984214782715,
          7.191677570343018,
          6.063014030456543,
          5.955794334411621,
          6.481764316558838,
          4.301984786987305,
          6.487265110015869,
          7.1539306640625,
          6.918747901916504,
          7.105144023895264,
          5.489544868469238,
          6.3300395011901855,
          7.0472893714904785,
          6.13847017288208,
          6.36235237121582,
          7.07407808303833,
          6.853234767913818,
          6.324264049530029,
          6.1126627922058105,
          5.380165100097656,
          6.007029056549072,
          5.463393688201904,
          5.876152515411377,
          5.274440288543701,
          6.203316688537598,
          6.848048686981201,
          7.545761585235596,
          7.20629358291626,
          4.87127685546875,
          6.619645595550537,
          4.6627726554870605,
          4.583303451538086,
          6.3291521072387695,
          6.80349063873291,
          4.565616130828857,
          7.1321516036987305,
          6.7415852546691895,
          5.61013126373291,
          5.852555751800537,
          4.72841739654541,
          4.732390403747559,
          4.613656997680664,
          5.811542987823486,
          4.7971510887146,
          4.349961757659912,
          4.66339111328125,
          6.3385725021362305,
          3.9972028732299805,
          3.981635570526123,
          6.284565448760986,
          3.9794509410858154,
          6.269101142883301,
          4.721772193908691,
          6.197015285491943,
          4.01154899597168,
          5.939225673675537,
          6.006603240966797,
          4.246262550354004,
          5.0074992179870605,
          3.988741397857666,
          5.705773830413818,
          3.9196465015411377,
          4.0157999992370605,
          4.889987468719482,
          4.990964889526367,
          3.843590259552002,
          5.546468734741211,
          3.9664976596832275,
          4.5776777267456055,
          4.948440074920654,
          4.542295455932617,
          3.986541509628296,
          4.669012546539307,
          4.005326747894287,
          3.9630141258239746,
          3.9961018562316895,
          3.9860312938690186,
          4.029728412628174,
          4.66151237487793,
          4.883796691894531,
          5.259666442871094,
          5.270453929901123,
          5.911531925201416,
          4.566017150878906,
          5.513241291046143,
          6.016607284545898,
          4.677327632904053,
          6.184024333953857,
          6.540475845336914,
          6.762190818786621,
          6.117911338806152,
          5.999778747558594,
          6.621220111846924,
          6.625156402587891,
          6.556434154510498,
          6.730932712554932,
          6.753071308135986,
          5.7614240646362305,
          6.261188983917236,
          5.932244300842285,
          6.41020393371582,
          5.179163455963135,
          5.207900047302246,
          5.158413887023926,
          6.164621829986572,
          6.070098876953125,
          5.427928447723389,
          6.430692195892334,
          6.351313591003418,
          6.394898414611816,
          5.925400257110596,
          4.821681976318359,
          4.860551834106445,
          4.798740863800049,
          4.692735195159912,
          4.855734825134277,
          4.847079753875732,
          4.835622310638428,
          4.8304123878479,
          4.7907023429870605,
          5.338412761688232,
          4.852867126464844,
          4.857100009918213,
          4.8120245933532715,
          4.825314521789551,
          4.861151695251465,
          4.888319492340088,
          7.814260482788086,
          6.957607746124268,
          6.064747333526611,
          6.202631950378418,
          6.212438106536865,
          5.574706077575684,
          5.508173942565918,
          6.190723419189453,
          6.063578128814697,
          6.043311595916748,
          7.676040172576904,
          6.121681213378906,
          5.484960079193115,
          4.29968786239624,
          7.047788143157959,
          6.965468883514404,
          7.009842395782471,
          6.959586143493652,
          6.228288173675537,
          6.1915669441223145,
          5.821303367614746,
          5.4139323234558105,
          5.929671764373779,
          6.0527825355529785,
          6.622268199920654,
          5.563861846923828,
          4.284018516540527,
          5.009888648986816,
          6.015696048736572,
          4.982681751251221,
          4.987363815307617,
          5.80189847946167,
          5.808589935302734,
          6.4555277824401855,
          5.759188175201416,
          6.174818992614746,
          5.005187034606934,
          5.288877964019775,
          4.462925434112549,
          7.020806312561035,
          5.9015326499938965,
          5.958066940307617,
          6.069271087646484,
          5.17714262008667,
          5.05421257019043,
          6.350888729095459,
          4.006824493408203,
          4.211149215698242,
          4.793693542480469,
          7.435970783233643,
          7.2006916999816895,
          7.296957015991211,
          5.877329349517822,
          6.870975494384766,
          7.487931728363037,
          7.073294162750244,
          5.28698205947876,
          5.012659072875977,
          5.5006608963012695,
          5.8711066246032715,
          6.469658374786377,
          5.005759239196777,
          7.461075305938721,
          6.891326427459717,
          7.809850215911865,
          7.252277851104736,
          6.9440016746521,
          6.03297233581543,
          6.219104290008545,
          6.296497821807861,
          7.3512187004089355,
          6.126067161560059,
          5.496285915374756,
          6.0329484939575195,
          7.04099178314209,
          6.443462371826172,
          6.280433177947998,
          7.712888717651367,
          7.320777416229248,
          7.029242515563965,
          6.614328384399414,
          6.659138202667236,
          5.1132025718688965,
          4.7334699630737305,
          4.35784912109375,
          4.29021692276001,
          5.6714253425598145,
          6.548456192016602,
          5.704728126525879,
          5.4303178787231445,
          6.606356143951416,
          4.432036876678467,
          7.490048408508301,
          4.639284133911133,
          5.284082889556885,
          6.433505058288574,
          6.094293117523193,
          7.292178153991699,
          7.321048736572266,
          5.193994522094727,
          4.933237552642822,
          5.770991325378418,
          4.223641872406006,
          7.313525199890137,
          7.379158973693848,
          6.921176433563232,
          6.869749069213867,
          4.417306423187256,
          4.608332633972168,
          5.214939117431641,
          5.117369651794434,
          4.922053337097168,
          6.163273334503174,
          5.621762275695801,
          7.800345420837402,
          6.342934608459473,
          5.401966094970703,
          7.009169578552246,
          6.947398662567139,
          6.743005275726318,
          5.172642230987549,
          5.530235767364502,
          5.18738317489624,
          5.475746154785156,
          7.082902431488037,
          6.541220664978027,
          4.017355442047119,
          7.050785541534424,
          7.0971293449401855,
          7.200551986694336,
          4.029678821563721,
          4.13263463973999,
          4.9971160888671875,
          7.318483352661133,
          6.853603839874268,
          6.42194938659668,
          4.927427768707275,
          5.6261677742004395,
          7.323164463043213,
          4.521377086639404,
          5.676875114440918,
          6.131373405456543,
          6.458385944366455,
          7.142673492431641,
          4.666526794433594,
          4.65877628326416,
          5.772165775299072,
          5.758265972137451,
          7.049188137054443,
          6.186849594116211,
          6.148855209350586,
          5.894603252410889,
          5.494012355804443,
          7.215850830078125,
          6.995830059051514,
          5.463879585266113,
          7.08298921585083,
          5.007650375366211,
          5.008285999298096,
          4.935877323150635,
          4.9365434646606445,
          5.930947303771973,
          5.951589107513428,
          7.615361213684082,
          7.678036212921143,
          6.795935153961182,
          7.2256083488464355,
          6.552248001098633,
          5.6288981437683105,
          5.7027058601379395,
          5.746714115142822,
          5.730281829833984,
          4.826033115386963,
          6.095727920532227,
          5.49282169342041,
          5.298242568969727,
          6.385396480560303,
          5.291662693023682,
          4.764867782592773,
          5.617516994476318,
          7.442786693572998,
          5.9927263259887695,
          7.464936256408691,
          4.544841289520264,
          3.9243037700653076,
          3.903276205062866,
          3.859485149383545,
          3.433873176574707,
          3.8966336250305176,
          6.286074638366699,
          5.006398677825928,
          4.491670608520508,
          4.354917049407959,
          4.399843692779541,
          4.528562545776367,
          4.3512067794799805,
          4.515826225280762,
          6.324450969696045,
          6.285998821258545,
          5.926036834716797,
          6.712706089019775,
          4.450634956359863,
          5.0270490646362305,
          6.071616172790527,
          5.063378810882568,
          5.966951847076416,
          5.1666035652160645,
          5.344931602478027,
          5.169064521789551,
          5.564128398895264,
          5.248398303985596,
          5.3856000900268555,
          5.6910624504089355,
          5.565766334533691,
          5.808054447174072,
          5.62766695022583,
          5.36508846282959,
          5.482448577880859,
          5.619054317474365,
          5.969573974609375,
          5.26420783996582,
          5.149847507476807,
          5.371028423309326,
          5.096310138702393,
          5.287722110748291,
          4.942575454711914,
          5.314724445343018,
          5.565553188323975,
          4.5955705642700195,
          6.15183687210083,
          4.552105903625488,
          4.586660861968994,
          4.493720054626465,
          4.565958023071289,
          5.4085493087768555,
          5.747595310211182,
          5.413127422332764,
          6.154603481292725,
          6.859436988830566,
          6.274832725524902,
          6.588109970092773,
          5.3408379554748535,
          5.593922138214111,
          8.096171379089355,
          4.982258319854736,
          4.517185688018799,
          4.346551895141602,
          4.966536998748779,
          4.438657283782959,
          6.476717472076416,
          4.3392181396484375,
          5.829952716827393,
          5.238186359405518,
          4.929027080535889,
          5.47620964050293,
          5.368255138397217,
          5.216048240661621,
          5.498961925506592,
          5.541168689727783,
          5.463006496429443,
          5.331945896148682,
          5.503475666046143,
          5.331980228424072,
          5.029231071472168,
          5.336559295654297,
          5.2474775314331055,
          5.327221393585205,
          5.444183826446533,
          5.288697719573975,
          5.467446804046631,
          5.5891289710998535,
          5.599751949310303,
          5.145858287811279,
          5.1800217628479,
          5.477075099945068,
          6.840941905975342,
          5.246313571929932,
          5.307281494140625,
          6.79876184463501,
          6.0008111000061035,
          4.925566673278809,
          4.66000509262085,
          4.583864212036133,
          4.475815296173096,
          4.714236259460449,
          4.634428977966309,
          5.844430923461914,
          5.879638195037842,
          5.919633865356445,
          5.8547868728637695,
          6.052047252655029,
          7.018078804016113,
          5.821211814880371,
          5.7581329345703125,
          7.159238815307617,
          6.541160583496094,
          6.234942436218262,
          4.450815200805664,
          4.420505523681641,
          6.60237979888916,
          4.3290205001831055,
          5.246530532836914,
          5.1744771003723145,
          5.564634323120117,
          5.393275737762451,
          5.340710639953613,
          5.232273101806641,
          5.404552459716797,
          5.508609771728516,
          4.737245082855225,
          4.59522819519043,
          4.360299587249756,
          4.369800567626953,
          6.383580207824707,
          5.771778106689453,
          5.617086887359619,
          6.497686386108398,
          6.49714469909668,
          5.376798629760742,
          7.146938800811768,
          5.351057529449463,
          5.238005638122559,
          5.101128578186035,
          5.050241470336914,
          5.103987216949463,
          4.906617164611816,
          4.982851982116699,
          5.049653053283691,
          5.426837921142578,
          4.272125244140625,
          5.647012233734131,
          6.873021602630615,
          6.308426856994629,
          4.593766212463379,
          4.85862922668457,
          6.108454704284668,
          6.10682487487793,
          6.422778129577637,
          7.0356764793396,
          6.998018264770508,
          6.81058406829834,
          6.738518714904785,
          7.625519752502441,
          6.2769856452941895,
          6.957396507263184,
          6.734457969665527,
          5.963836193084717,
          7.092717170715332,
          7.261547565460205,
          7.839688777923584,
          7.861583232879639,
          5.834829807281494,
          4.635246276855469,
          6.425102710723877,
          5.869091987609863,
          5.4972920417785645,
          4.618044853210449,
          6.814866542816162,
          4.613463878631592,
          4.623939514160156,
          4.639615058898926,
          4.541223526000977,
          4.550489902496338,
          6.367860317230225,
          5.917334079742432,
          5.90424919128418,
          5.686834335327148,
          5.804487228393555,
          7.181283473968506,
          7.237024307250977,
          4.731945991516113,
          4.883791923522949,
          5.645998477935791,
          5.864528656005859,
          6.3540849685668945,
          6.482560157775879,
          5.675910949707031,
          5.793985843658447,
          5.640028476715088,
          5.376269817352295,
          6.3472514152526855,
          6.049126148223877,
          6.59649658203125,
          6.599775314331055,
          6.5784592628479,
          6.636197090148926,
          6.596351146697998,
          7.812084674835205,
          6.748199939727783,
          6.490229606628418,
          6.713747024536133,
          7.021219730377197,
          6.287456512451172,
          6.46326208114624,
          6.667472839355469,
          7.488644599914551,
          5.99737024307251,
          6.640187740325928,
          6.686230182647705,
          5.880581378936768,
          5.01817512512207,
          4.718287467956543,
          4.999998092651367,
          4.961419105529785,
          5.0076799392700195,
          4.761472225189209,
          5.21406364440918,
          5.070199012756348,
          4.876702308654785,
          5.918830394744873,
          4.908763885498047,
          7.276793003082275,
          7.2988386154174805,
          7.23606538772583,
          5.985992431640625,
          6.027570724487305,
          6.585478782653809,
          7.579155921936035,
          7.605864524841309,
          7.589402198791504,
          6.841330528259277,
          7.277962684631348,
          7.720900058746338,
          6.861459732055664,
          7.821793079376221,
          7.834208965301514,
          6.868836879730225,
          7.769610404968262,
          7.14756965637207,
          4.885447025299072,
          4.992289066314697,
          4.995450496673584,
          6.557331085205078,
          6.923892021179199,
          6.879974842071533,
          6.562819004058838,
          5.925874710083008,
          6.223884105682373,
          7.060595989227295,
          6.213523864746094,
          5.770844459533691,
          4.467763423919678,
          6.509194374084473,
          5.44456148147583,
          4.946415901184082,
          6.297685623168945,
          6.112542629241943,
          6.585255146026611,
          6.347929954528809,
          6.086565971374512,
          7.2850213050842285,
          6.797111988067627,
          6.960582733154297,
          6.477174282073975,
          5.896855354309082,
          5.901453018188477,
          5.9296135902404785,
          6.261898994445801,
          6.060008525848389,
          5.93245792388916,
          6.25298547744751,
          4.612822532653809,
          4.774407386779785,
          6.269335746765137,
          6.497941970825195,
          6.394717693328857,
          7.719254016876221,
          4.701836585998535,
          6.445136547088623,
          7.582674026489258,
          7.425710678100586,
          4.693840503692627,
          5.744096755981445,
          6.250127792358398,
          7.4515767097473145,
          5.89114236831665,
          6.229030132293701,
          7.335470199584961,
          7.329648494720459,
          5.9314470291137695,
          6.3452229499816895,
          6.251500129699707,
          7.339288711547852,
          7.440208911895752,
          4.853797435760498,
          7.20680570602417,
          6.8805365562438965,
          5.02957010269165,
          6.705049991607666,
          6.864914417266846,
          5.013723850250244,
          5.016394138336182,
          4.577422618865967,
          4.541760444641113,
          3.799704074859619,
          3.8516998291015625,
          3.9409475326538086,
          5.406918048858643,
          6.671557903289795,
          6.239455699920654,
          6.4104132652282715,
          4.722693920135498,
          4.582571029663086,
          6.249070644378662,
          5.006115913391113,
          5.085772514343262,
          6.772835731506348,
          5.0835371017456055,
          4.703938007354736,
          4.513523101806641,
          6.794554710388184,
          5.862355709075928,
          5.773880481719971,
          6.4930195808410645,
          5.863280773162842,
          5.841475963592529,
          6.800706386566162,
          6.826586723327637,
          7.154797554016113,
          7.466521739959717,
          7.535333633422852,
          6.295093536376953,
          7.5866007804870605,
          6.7153639793396,
          4.401350975036621,
          6.848487854003906,
          6.793596267700195,
          5.831592082977295,
          7.432791233062744,
          6.2041096687316895,
          4.780913829803467,
          4.683550834655762,
          6.499372482299805,
          8.001423835754395,
          8.04573917388916,
          5.534002304077148,
          7.300511360168457,
          6.3884429931640625,
          6.875917434692383,
          5.30923318862915,
          5.630790710449219,
          6.556983947753906,
          6.556118011474609,
          4.4206767082214355,
          6.325727462768555,
          4.88136625289917,
          6.243544101715088,
          5.393019199371338,
          7.257338523864746,
          7.444299221038818,
          7.429304599761963,
          4.975701808929443,
          4.717805862426758,
          5.025589942932129,
          5.001724720001221,
          6.124805450439453,
          7.039205551147461,
          7.154823303222656,
          6.772253036499023,
          7.595910549163818,
          5.222795486450195,
          6.624985218048096,
          4.827093124389648,
          4.520815372467041,
          5.814727783203125,
          5.83540153503418,
          7.183889865875244,
          6.311491966247559,
          6.353384017944336,
          5.46476411819458,
          5.96364164352417,
          6.2991437911987305,
          5.846790313720703,
          6.510086536407471,
          5.845092296600342,
          6.578521251678467,
          4.974191665649414,
          5.876540660858154,
          6.071142196655273,
          5.964718341827393,
          6.188192844390869,
          6.125594139099121,
          6.0305938720703125,
          6.764249801635742,
          7.150594234466553,
          6.429596900939941,
          5.961554527282715,
          6.6581034660339355,
          6.160710334777832,
          5.894435405731201,
          5.705674171447754,
          7.482128143310547,
          6.921510219573975,
          7.049917221069336,
          5.745321273803711,
          5.697356224060059,
          6.874480247497559,
          6.4623918533325195,
          6.666099548339844,
          6.619943618774414,
          6.2502665519714355,
          6.352205753326416,
          5.9662322998046875,
          6.814012050628662,
          7.323620796203613,
          7.230169296264648,
          6.863186836242676,
          7.413856029510498,
          7.239048480987549,
          5.347871780395508,
          6.0650763511657715,
          4.572091579437256,
          4.644643306732178,
          7.554147243499756,
          6.706220626831055,
          6.629478931427002,
          6.670616149902344,
          6.872429370880127,
          6.553290843963623,
          4.729301929473877,
          4.635828971862793,
          4.800694465637207,
          4.786715984344482,
          6.833144187927246,
          4.672969341278076,
          6.8088884353637695,
          7.283668041229248,
          6.867565155029297,
          4.654094219207764,
          4.645496368408203,
          5.477685928344727,
          3.7520294189453125,
          4.839798450469971,
          4.653879642486572,
          5.782350540161133,
          5.2462568283081055,
          5.010269641876221,
          8.085180282592773,
          4.906610488891602,
          5.741526126861572,
          4.8973493576049805,
          6.626654148101807,
          4.991878032684326,
          5.041169166564941,
          4.34260368347168,
          4.786707878112793,
          7.1505842208862305,
          6.195660591125488,
          6.6360273361206055,
          4.589352130889893,
          4.364071369171143,
          4.286485195159912,
          5.771597385406494,
          4.325446605682373,
          5.707996845245361,
          5.8187947273254395,
          4.337430477142334,
          4.367218017578125,
          4.390961647033691,
          5.126588821411133,
          5.476795673370361,
          5.438250541687012,
          5.223130702972412,
          5.158994197845459,
          5.8211493492126465,
          4.240009784698486,
          5.906238555908203,
          5.702336311340332,
          5.856517314910889,
          5.87283182144165,
          5.916855812072754,
          5.8178486824035645,
          5.786808967590332,
          5.67577600479126,
          5.821032524108887,
          5.906804084777832,
          4.479362964630127,
          4.396242618560791,
          4.526402950286865,
          5.333097457885742,
          5.004688262939453,
          5.216841220855713,
          6.259312629699707,
          6.507713317871094,
          6.503965854644775,
          6.4485907554626465,
          6.181522369384766,
          7.407076358795166,
          6.6880106925964355,
          5.85822057723999,
          7.5455098152160645,
          6.398744583129883,
          3.515148162841797,
          7.558901786804199,
          6.375417232513428,
          6.480170249938965,
          3.479536294937134,
          3.4746041297912598,
          3.5760631561279297,
          3.4556517601013184,
          3.4116628170013428,
          3.4544460773468018,
          3.4389829635620117,
          3.500537157058716,
          3.4520647525787354,
          3.438781261444092,
          5.196497917175293,
          5.21946907043457,
          4.375207901000977,
          4.392339706420898,
          5.442990303039551,
          7.594002723693848,
          7.803805828094482
         ],
         "yaxis": "y"
        },
        {
         "customdata": [
          [
           "astrocyte"
          ]
         ],
         "hovertemplate": "astrocyte descendants=astrocyte<br>x=%{x}<br>y=%{y}<br>label=%{customdata[0]}<extra></extra>",
         "legendgroup": "astrocyte",
         "marker": {
          "color": "#EF553B",
          "symbol": "circle"
         },
         "mode": "markers",
         "name": "astrocyte",
         "orientation": "v",
         "showlegend": true,
         "type": "scatter",
         "x": [
          10.501022338867188
         ],
         "xaxis": "x",
         "y": [
          5.249645233154297
         ],
         "yaxis": "y"
        },
        {
         "customdata": [
          [
           "Bergmann glial cell"
          ]
         ],
         "hovertemplate": "astrocyte descendants=Bergmann glial cell<br>x=%{x}<br>y=%{y}<br>label=%{customdata[0]}<extra></extra>",
         "legendgroup": "Bergmann glial cell",
         "marker": {
          "color": "#00cc96",
          "symbol": "circle"
         },
         "mode": "markers",
         "name": "Bergmann glial cell",
         "orientation": "v",
         "showlegend": true,
         "type": "scatter",
         "x": [
          10.252410888671875
         ],
         "xaxis": "x",
         "y": [
          5.280593395233154
         ],
         "yaxis": "y"
        },
        {
         "customdata": [
          [
           "astrocyte of the forebrain"
          ]
         ],
         "hovertemplate": "astrocyte descendants=astrocyte of the forebrain<br>x=%{x}<br>y=%{y}<br>label=%{customdata[0]}<extra></extra>",
         "legendgroup": "astrocyte of the forebrain",
         "marker": {
          "color": "#ab63fa",
          "symbol": "circle"
         },
         "mode": "markers",
         "name": "astrocyte of the forebrain",
         "orientation": "v",
         "showlegend": true,
         "type": "scatter",
         "x": [
          7.889437675476074
         ],
         "xaxis": "x",
         "y": [
          7.318829536437988
         ],
         "yaxis": "y"
        },
        {
         "customdata": [
          [
           "astrocyte of the cerebral cortex"
          ]
         ],
         "hovertemplate": "astrocyte descendants=astrocyte of the cerebral cortex<br>x=%{x}<br>y=%{y}<br>label=%{customdata[0]}<extra></extra>",
         "legendgroup": "astrocyte of the cerebral cortex",
         "marker": {
          "color": "#FFA15A",
          "symbol": "circle"
         },
         "mode": "markers",
         "name": "astrocyte of the cerebral cortex",
         "orientation": "v",
         "showlegend": true,
         "type": "scatter",
         "x": [
          7.902843475341797
         ],
         "xaxis": "x",
         "y": [
          7.311767101287842
         ],
         "yaxis": "y"
        },
        {
         "customdata": [
          [
           "immature astrocyte"
          ]
         ],
         "hovertemplate": "astrocyte descendants=immature astrocyte<br>x=%{x}<br>y=%{y}<br>label=%{customdata[0]}<extra></extra>",
         "legendgroup": "immature astrocyte",
         "marker": {
          "color": "#19d3f3",
          "symbol": "circle"
         },
         "mode": "markers",
         "name": "immature astrocyte",
         "orientation": "v",
         "showlegend": true,
         "type": "scatter",
         "x": [
          10.380094528198242
         ],
         "xaxis": "x",
         "y": [
          5.402917861938477
         ],
         "yaxis": "y"
        },
        {
         "customdata": [
          [
           "mature astrocyte"
          ]
         ],
         "hovertemplate": "astrocyte descendants=mature astrocyte<br>x=%{x}<br>y=%{y}<br>label=%{customdata[0]}<extra></extra>",
         "legendgroup": "mature astrocyte",
         "marker": {
          "color": "#FF6692",
          "symbol": "circle"
         },
         "mode": "markers",
         "name": "mature astrocyte",
         "orientation": "v",
         "showlegend": true,
         "type": "scatter",
         "x": [
          10.042484283447266
         ],
         "xaxis": "x",
         "y": [
          5.43670654296875
         ],
         "yaxis": "y"
        },
        {
         "customdata": [
          [
           "retinal astrocyte"
          ]
         ],
         "hovertemplate": "astrocyte descendants=retinal astrocyte<br>x=%{x}<br>y=%{y}<br>label=%{customdata[0]}<extra></extra>",
         "legendgroup": "retinal astrocyte",
         "marker": {
          "color": "#B6E880",
          "symbol": "circle"
         },
         "mode": "markers",
         "name": "retinal astrocyte",
         "orientation": "v",
         "showlegend": true,
         "type": "scatter",
         "x": [
          9.158148765563965
         ],
         "xaxis": "x",
         "y": [
          6.240516662597656
         ],
         "yaxis": "y"
        }
       ],
       "layout": {
        "height": 500,
        "legend": {
         "title": {
          "text": "astrocyte descendants"
         },
         "tracegroupgap": 0
        },
        "margin": {
         "t": 60
        },
        "template": {
         "data": {
          "bar": [
           {
            "error_x": {
             "color": "#2a3f5f"
            },
            "error_y": {
             "color": "#2a3f5f"
            },
            "marker": {
             "line": {
              "color": "#E5ECF6",
              "width": 0.5
             },
             "pattern": {
              "fillmode": "overlay",
              "size": 10,
              "solidity": 0.2
             }
            },
            "type": "bar"
           }
          ],
          "barpolar": [
           {
            "marker": {
             "line": {
              "color": "#E5ECF6",
              "width": 0.5
             },
             "pattern": {
              "fillmode": "overlay",
              "size": 10,
              "solidity": 0.2
             }
            },
            "type": "barpolar"
           }
          ],
          "carpet": [
           {
            "aaxis": {
             "endlinecolor": "#2a3f5f",
             "gridcolor": "white",
             "linecolor": "white",
             "minorgridcolor": "white",
             "startlinecolor": "#2a3f5f"
            },
            "baxis": {
             "endlinecolor": "#2a3f5f",
             "gridcolor": "white",
             "linecolor": "white",
             "minorgridcolor": "white",
             "startlinecolor": "#2a3f5f"
            },
            "type": "carpet"
           }
          ],
          "choropleth": [
           {
            "colorbar": {
             "outlinewidth": 0,
             "ticks": ""
            },
            "type": "choropleth"
           }
          ],
          "contour": [
           {
            "colorbar": {
             "outlinewidth": 0,
             "ticks": ""
            },
            "colorscale": [
             [
              0,
              "#0d0887"
             ],
             [
              0.1111111111111111,
              "#46039f"
             ],
             [
              0.2222222222222222,
              "#7201a8"
             ],
             [
              0.3333333333333333,
              "#9c179e"
             ],
             [
              0.4444444444444444,
              "#bd3786"
             ],
             [
              0.5555555555555556,
              "#d8576b"
             ],
             [
              0.6666666666666666,
              "#ed7953"
             ],
             [
              0.7777777777777778,
              "#fb9f3a"
             ],
             [
              0.8888888888888888,
              "#fdca26"
             ],
             [
              1,
              "#f0f921"
             ]
            ],
            "type": "contour"
           }
          ],
          "contourcarpet": [
           {
            "colorbar": {
             "outlinewidth": 0,
             "ticks": ""
            },
            "type": "contourcarpet"
           }
          ],
          "heatmap": [
           {
            "colorbar": {
             "outlinewidth": 0,
             "ticks": ""
            },
            "colorscale": [
             [
              0,
              "#0d0887"
             ],
             [
              0.1111111111111111,
              "#46039f"
             ],
             [
              0.2222222222222222,
              "#7201a8"
             ],
             [
              0.3333333333333333,
              "#9c179e"
             ],
             [
              0.4444444444444444,
              "#bd3786"
             ],
             [
              0.5555555555555556,
              "#d8576b"
             ],
             [
              0.6666666666666666,
              "#ed7953"
             ],
             [
              0.7777777777777778,
              "#fb9f3a"
             ],
             [
              0.8888888888888888,
              "#fdca26"
             ],
             [
              1,
              "#f0f921"
             ]
            ],
            "type": "heatmap"
           }
          ],
          "heatmapgl": [
           {
            "colorbar": {
             "outlinewidth": 0,
             "ticks": ""
            },
            "colorscale": [
             [
              0,
              "#0d0887"
             ],
             [
              0.1111111111111111,
              "#46039f"
             ],
             [
              0.2222222222222222,
              "#7201a8"
             ],
             [
              0.3333333333333333,
              "#9c179e"
             ],
             [
              0.4444444444444444,
              "#bd3786"
             ],
             [
              0.5555555555555556,
              "#d8576b"
             ],
             [
              0.6666666666666666,
              "#ed7953"
             ],
             [
              0.7777777777777778,
              "#fb9f3a"
             ],
             [
              0.8888888888888888,
              "#fdca26"
             ],
             [
              1,
              "#f0f921"
             ]
            ],
            "type": "heatmapgl"
           }
          ],
          "histogram": [
           {
            "marker": {
             "pattern": {
              "fillmode": "overlay",
              "size": 10,
              "solidity": 0.2
             }
            },
            "type": "histogram"
           }
          ],
          "histogram2d": [
           {
            "colorbar": {
             "outlinewidth": 0,
             "ticks": ""
            },
            "colorscale": [
             [
              0,
              "#0d0887"
             ],
             [
              0.1111111111111111,
              "#46039f"
             ],
             [
              0.2222222222222222,
              "#7201a8"
             ],
             [
              0.3333333333333333,
              "#9c179e"
             ],
             [
              0.4444444444444444,
              "#bd3786"
             ],
             [
              0.5555555555555556,
              "#d8576b"
             ],
             [
              0.6666666666666666,
              "#ed7953"
             ],
             [
              0.7777777777777778,
              "#fb9f3a"
             ],
             [
              0.8888888888888888,
              "#fdca26"
             ],
             [
              1,
              "#f0f921"
             ]
            ],
            "type": "histogram2d"
           }
          ],
          "histogram2dcontour": [
           {
            "colorbar": {
             "outlinewidth": 0,
             "ticks": ""
            },
            "colorscale": [
             [
              0,
              "#0d0887"
             ],
             [
              0.1111111111111111,
              "#46039f"
             ],
             [
              0.2222222222222222,
              "#7201a8"
             ],
             [
              0.3333333333333333,
              "#9c179e"
             ],
             [
              0.4444444444444444,
              "#bd3786"
             ],
             [
              0.5555555555555556,
              "#d8576b"
             ],
             [
              0.6666666666666666,
              "#ed7953"
             ],
             [
              0.7777777777777778,
              "#fb9f3a"
             ],
             [
              0.8888888888888888,
              "#fdca26"
             ],
             [
              1,
              "#f0f921"
             ]
            ],
            "type": "histogram2dcontour"
           }
          ],
          "mesh3d": [
           {
            "colorbar": {
             "outlinewidth": 0,
             "ticks": ""
            },
            "type": "mesh3d"
           }
          ],
          "parcoords": [
           {
            "line": {
             "colorbar": {
              "outlinewidth": 0,
              "ticks": ""
             }
            },
            "type": "parcoords"
           }
          ],
          "pie": [
           {
            "automargin": true,
            "type": "pie"
           }
          ],
          "scatter": [
           {
            "fillpattern": {
             "fillmode": "overlay",
             "size": 10,
             "solidity": 0.2
            },
            "type": "scatter"
           }
          ],
          "scatter3d": [
           {
            "line": {
             "colorbar": {
              "outlinewidth": 0,
              "ticks": ""
             }
            },
            "marker": {
             "colorbar": {
              "outlinewidth": 0,
              "ticks": ""
             }
            },
            "type": "scatter3d"
           }
          ],
          "scattercarpet": [
           {
            "marker": {
             "colorbar": {
              "outlinewidth": 0,
              "ticks": ""
             }
            },
            "type": "scattercarpet"
           }
          ],
          "scattergeo": [
           {
            "marker": {
             "colorbar": {
              "outlinewidth": 0,
              "ticks": ""
             }
            },
            "type": "scattergeo"
           }
          ],
          "scattergl": [
           {
            "marker": {
             "colorbar": {
              "outlinewidth": 0,
              "ticks": ""
             }
            },
            "type": "scattergl"
           }
          ],
          "scattermapbox": [
           {
            "marker": {
             "colorbar": {
              "outlinewidth": 0,
              "ticks": ""
             }
            },
            "type": "scattermapbox"
           }
          ],
          "scatterpolar": [
           {
            "marker": {
             "colorbar": {
              "outlinewidth": 0,
              "ticks": ""
             }
            },
            "type": "scatterpolar"
           }
          ],
          "scatterpolargl": [
           {
            "marker": {
             "colorbar": {
              "outlinewidth": 0,
              "ticks": ""
             }
            },
            "type": "scatterpolargl"
           }
          ],
          "scatterternary": [
           {
            "marker": {
             "colorbar": {
              "outlinewidth": 0,
              "ticks": ""
             }
            },
            "type": "scatterternary"
           }
          ],
          "surface": [
           {
            "colorbar": {
             "outlinewidth": 0,
             "ticks": ""
            },
            "colorscale": [
             [
              0,
              "#0d0887"
             ],
             [
              0.1111111111111111,
              "#46039f"
             ],
             [
              0.2222222222222222,
              "#7201a8"
             ],
             [
              0.3333333333333333,
              "#9c179e"
             ],
             [
              0.4444444444444444,
              "#bd3786"
             ],
             [
              0.5555555555555556,
              "#d8576b"
             ],
             [
              0.6666666666666666,
              "#ed7953"
             ],
             [
              0.7777777777777778,
              "#fb9f3a"
             ],
             [
              0.8888888888888888,
              "#fdca26"
             ],
             [
              1,
              "#f0f921"
             ]
            ],
            "type": "surface"
           }
          ],
          "table": [
           {
            "cells": {
             "fill": {
              "color": "#EBF0F8"
             },
             "line": {
              "color": "white"
             }
            },
            "header": {
             "fill": {
              "color": "#C8D4E3"
             },
             "line": {
              "color": "white"
             }
            },
            "type": "table"
           }
          ]
         },
         "layout": {
          "annotationdefaults": {
           "arrowcolor": "#2a3f5f",
           "arrowhead": 0,
           "arrowwidth": 1
          },
          "autotypenumbers": "strict",
          "coloraxis": {
           "colorbar": {
            "outlinewidth": 0,
            "ticks": ""
           }
          },
          "colorscale": {
           "diverging": [
            [
             0,
             "#8e0152"
            ],
            [
             0.1,
             "#c51b7d"
            ],
            [
             0.2,
             "#de77ae"
            ],
            [
             0.3,
             "#f1b6da"
            ],
            [
             0.4,
             "#fde0ef"
            ],
            [
             0.5,
             "#f7f7f7"
            ],
            [
             0.6,
             "#e6f5d0"
            ],
            [
             0.7,
             "#b8e186"
            ],
            [
             0.8,
             "#7fbc41"
            ],
            [
             0.9,
             "#4d9221"
            ],
            [
             1,
             "#276419"
            ]
           ],
           "sequential": [
            [
             0,
             "#0d0887"
            ],
            [
             0.1111111111111111,
             "#46039f"
            ],
            [
             0.2222222222222222,
             "#7201a8"
            ],
            [
             0.3333333333333333,
             "#9c179e"
            ],
            [
             0.4444444444444444,
             "#bd3786"
            ],
            [
             0.5555555555555556,
             "#d8576b"
            ],
            [
             0.6666666666666666,
             "#ed7953"
            ],
            [
             0.7777777777777778,
             "#fb9f3a"
            ],
            [
             0.8888888888888888,
             "#fdca26"
            ],
            [
             1,
             "#f0f921"
            ]
           ],
           "sequentialminus": [
            [
             0,
             "#0d0887"
            ],
            [
             0.1111111111111111,
             "#46039f"
            ],
            [
             0.2222222222222222,
             "#7201a8"
            ],
            [
             0.3333333333333333,
             "#9c179e"
            ],
            [
             0.4444444444444444,
             "#bd3786"
            ],
            [
             0.5555555555555556,
             "#d8576b"
            ],
            [
             0.6666666666666666,
             "#ed7953"
            ],
            [
             0.7777777777777778,
             "#fb9f3a"
            ],
            [
             0.8888888888888888,
             "#fdca26"
            ],
            [
             1,
             "#f0f921"
            ]
           ]
          },
          "colorway": [
           "#636efa",
           "#EF553B",
           "#00cc96",
           "#ab63fa",
           "#FFA15A",
           "#19d3f3",
           "#FF6692",
           "#B6E880",
           "#FF97FF",
           "#FECB52"
          ],
          "font": {
           "color": "#2a3f5f"
          },
          "geo": {
           "bgcolor": "white",
           "lakecolor": "white",
           "landcolor": "#E5ECF6",
           "showlakes": true,
           "showland": true,
           "subunitcolor": "white"
          },
          "hoverlabel": {
           "align": "left"
          },
          "hovermode": "closest",
          "mapbox": {
           "style": "light"
          },
          "paper_bgcolor": "white",
          "plot_bgcolor": "#E5ECF6",
          "polar": {
           "angularaxis": {
            "gridcolor": "white",
            "linecolor": "white",
            "ticks": ""
           },
           "bgcolor": "#E5ECF6",
           "radialaxis": {
            "gridcolor": "white",
            "linecolor": "white",
            "ticks": ""
           }
          },
          "scene": {
           "xaxis": {
            "backgroundcolor": "#E5ECF6",
            "gridcolor": "white",
            "gridwidth": 2,
            "linecolor": "white",
            "showbackground": true,
            "ticks": "",
            "zerolinecolor": "white"
           },
           "yaxis": {
            "backgroundcolor": "#E5ECF6",
            "gridcolor": "white",
            "gridwidth": 2,
            "linecolor": "white",
            "showbackground": true,
            "ticks": "",
            "zerolinecolor": "white"
           },
           "zaxis": {
            "backgroundcolor": "#E5ECF6",
            "gridcolor": "white",
            "gridwidth": 2,
            "linecolor": "white",
            "showbackground": true,
            "ticks": "",
            "zerolinecolor": "white"
           }
          },
          "shapedefaults": {
           "line": {
            "color": "#2a3f5f"
           }
          },
          "ternary": {
           "aaxis": {
            "gridcolor": "white",
            "linecolor": "white",
            "ticks": ""
           },
           "baxis": {
            "gridcolor": "white",
            "linecolor": "white",
            "ticks": ""
           },
           "bgcolor": "#E5ECF6",
           "caxis": {
            "gridcolor": "white",
            "linecolor": "white",
            "ticks": ""
           }
          },
          "title": {
           "x": 0.05
          },
          "xaxis": {
           "automargin": true,
           "gridcolor": "white",
           "linecolor": "white",
           "ticks": "",
           "title": {
            "standoff": 15
           },
           "zerolinecolor": "white",
           "zerolinewidth": 2
          },
          "yaxis": {
           "automargin": true,
           "gridcolor": "white",
           "linecolor": "white",
           "ticks": "",
           "title": {
            "standoff": 15
           },
           "zerolinecolor": "white",
           "zerolinewidth": 2
          }
         }
        },
        "width": 750,
        "xaxis": {
         "anchor": "y",
         "domain": [
          0,
          1
         ],
         "title": {
          "text": "x"
         }
        },
        "yaxis": {
         "anchor": "x",
         "domain": [
          0,
          1
         ],
         "title": {
          "text": "y"
         }
        }
       }
      },
      "text/html": [
       "<div>                            <div id=\"06f3c356-f408-4155-88ea-7d31fc80e33b\" class=\"plotly-graph-div\" style=\"height:500px; width:750px;\"></div>            <script type=\"text/javascript\">                require([\"plotly\"], function(Plotly) {                    window.PLOTLYENV=window.PLOTLYENV || {};                                    if (document.getElementById(\"06f3c356-f408-4155-88ea-7d31fc80e33b\")) {                    Plotly.newPlot(                        \"06f3c356-f408-4155-88ea-7d31fc80e33b\",                        [{\"customdata\":[[\"neuron\"],[\"sensory neuron\"],[\"primary cultured cell\"],[\"cultured cell\"],[\"fibroblast neural crest derived\"],[\"migratory neural crest cell\"],[\"fibroblast\"],[\"neuronal receptor cell\"],[\"sensory receptor cell\"],[\"embryonic cell (metazoa)\"],[\"experimentally modified cell in vitro\"],[\"germ line cell\"],[\"stem cell\"],[\"male germ cell\"],[\"germ cell\"],[\"haploid cell\"],[\"sperm\"],[\"male gamete\"],[\"primordial germ cell\"],[\"polyploid cell\"],[\"smooth muscle cell\"],[\"neural crest derived neuron\"],[\"glioblast\"],[\"non-terminally differentiated cell\"],[\"neuroblast (sensu Vertebrata)\"],[\"surface ectodermal cell\"],[\"exocrine cell\"],[\"precursor cell\"],[\"single fate stem cell\"],[\"somatic stem cell\"],[\"epithelial fate stem cell\"],[\"hematopoietic stem cell\"],[\"hematopoietic cell\"],[\"hematopoietic precursor cell\"],[\"progenitor cell\"],[\"erythroid progenitor cell\"],[\"erythroid lineage cell\"],[\"myeloid lineage restricted progenitor cell\"],[\"megakaryocyte-erythroid progenitor cell\"],[\"monopoietic cell\"],[\"myeloid cell\"],[\"macrophage dendritic cell progenitor\"],[\"eosinophil\"],[\"professional antigen presenting cell\"],[\"neutrophil progenitor cell\"],[\"basophil\"],[\"histamine secreting cell\"],[\"common lymphoid progenitor\"],[\"neural cell\"],[\"multi fate stem cell\"],[\"common myeloid progenitor\"],[\"hematopoietic oligopotent progenitor cell\"],[\"granulocyte monocyte progenitor cell\"],[\"secretory cell\"],[\"myoblast\"],[\"muscle precursor cell\"],[\"connective tissue cell\"],[\"mesenchymal stem cell\"],[\"ecto-epithelial cell\"],[\"neurecto-epithelial cell\"],[\"osteoblast\"],[\"preosteoblast\"],[\"ciliated cell\"],[\"ependymal cell\"],[\"ciliated epithelial cell\"],[\"epithelial cell\"],[\"leukocyte\"],[\"duct epithelial cell\"],[\"branched duct epithelial cell\"],[\"blood vessel endothelial cell\"],[\"squamous epithelial cell\"],[\"endothelial cell of vascular tree\"],[\"non-branched duct epithelial cell\"],[\"meso-epithelial cell\"],[\"barrier cell\"],[\"columnar\\u002fcuboidal epithelial cell\"],[\"mesothelial cell\"],[\"lining cell\"],[\"stratified epithelial cell\"],[\"circulating cell\"],[\"blood cell\"],[\"epithelial cell of lung\"],[\"epithelial cell of pancreas\"],[\"T cell\"],[\"lymphocyte\"],[\"pro-T cell\"],[\"lymphocyte of B lineage\"],[\"Kupffer cell\"],[\"tissue-resident macrophage\"],[\"osteoclast\"],[\"myeloid leukocyte\"],[\"phagocyte (sensu Vertebrata)\"],[\"bone cell\"],[\"monocyte\"],[\"granulocyte\"],[\"neuron associated cell\"],[\"neutrophil\"],[\"phagocyte\"],[\"mast cell\"],[\"sensory epithelial cell\"],[\"interneuron\"],[\"motor neuron\"],[\"efferent neuron\"],[\"afferent neuron\"],[\"bipolar neuron\"],[\"multipolar neuron\"],[\"autonomic neuron\"],[\"peripheral nervous system neuron\"],[\"cholinergic neuron\"],[\"catecholaminergic neuron\"],[\"mononuclear phagocyte\"],[\"mononuclear cell\"],[\"ectodermal cell\"],[\"endothelial cell\"],[\"CNS neuron (sensu Vertebrata)\"],[\"GABAergic interneuron\"],[\"granule cell\"],[\"Purkinje cell\"],[\"cerebellar neuron\"],[\"stellate neuron\"],[\"neuron associated cell (sensu Vertebrata)\"],[\"glial cell\"],[\"macroglial cell\"],[\"oligodendrocyte\"],[\"myelinating glial cell\"],[\"oligodendrocyte precursor cell\"],[\"microglial cell\"],[\"central nervous system macrophage\"],[\"mesodermal cell\"],[\"gut endothelial cell\"],[\"corneal endothelial cell\"],[\"fibrocyte\"],[\"stromal cell\"],[\"adipocyte\"],[\"stuff accumulating cell\"],[\"chondrocyte\"],[\"glycosaminoglycan secreting cell\"],[\"collagen secreting cell\"],[\"pigment cell\"],[\"melanocyte\"],[\"visual pigment cell\"],[\"glandular epithelial cell\"],[\"extracellular matrix secreting cell\"],[\"carbohydrate secreting cell\"],[\"protein secreting cell\"],[\"peptic cell\"],[\"glandular cell of stomach\"],[\"surfactant secreting cell\"],[\"club cell\"],[\"epithelial cell of tracheobronchial tree\"],[\"seromucus secreting cell\"],[\"goblet cell\"],[\"mucus secreting cell\"],[\"parietal cell\"],[\"endocrine cell\"],[\"enteroendocrine cell\"],[\"neuroendocrine cell\"],[\"chromaffin cell\"],[\"amine precursor uptake and decarboxylation cell\"],[\"peptide hormone secreting cell\"],[\"insulin secreting cell\"],[\"type B pancreatic cell\"],[\"pancreatic endocrine cell\"],[\"progenitor cell of endocrine pancreas\"],[\"glucagon secreting cell\"],[\"pancreatic A cell\"],[\"type A enteroendocrine cell\"],[\"somatostatin secreting cell\"],[\"pancreatic D cell\"],[\"type D enteroendocrine cell\"],[\"steroid hormone secreting cell\"],[\"stromal cell of ovary\"],[\"testosterone secreting cell\"],[\"Leydig cell\"],[\"interstitial cell\"],[\"hepatocyte\"],[\"endopolyploid cell\"],[\"hepatoblast\"],[\"contractile cell\"],[\"pericyte\"],[\"myoepithelial cell\"],[\"myofibroblast cell\"],[\"muscle cell\"],[\"electrically responsive cell\"],[\"cell of skeletal muscle\"],[\"slow muscle cell\"],[\"extrafusal muscle fiber\"],[\"fast muscle cell\"],[\"non-striated muscle cell\"],[\"visceral muscle cell\"],[\"smooth muscle myoblast\"],[\"cardiac muscle cell\"],[\"chemoreceptor cell\"],[\"taste receptor cell\"],[\"endo-epithelial cell\"],[\"photoreceptor cell\"],[\"electrically active cell\"],[\"Sertoli cell\"],[\"supporting cell\"],[\"androgen binding protein secreting cell\"],[\"seminiferous tubule epithelial cell\"],[\"insulating cell\"],[\"myelinating Schwann cell\"],[\"Schwann cell\"],[\"immature Schwann cell\"],[\"motile cell\"],[\"anucleate cell\"],[\"nucleate cell\"],[\"single nucleate cell\"],[\"multinucleate cell\"],[\"erythrocyte\"],[\"oxygen accumulating cell\"],[\"reticulocyte\"],[\"platelet\"],[\"serotonin secreting cell\"],[\"megakaryocyte\"],[\"defensive cell\"],[\"macrophage\"],[\"B cell\"],[\"keratinizing barrier epithelial cell\"],[\"stratified squamous epithelial cell\"],[\"keratin accumulating cell\"],[\"brush border epithelial cell\"],[\"Merkel cell\"],[\"keratinocyte\"],[\"transitional epithelial cell\"],[\"primary sensory neuron (sensu Teleostei)\"],[\"eurydendroid cell\"],[\"eye photoreceptor cell\"],[\"gamete\"],[\"crystallin accumulating cell\"],[\"tracheal epithelial cell\"],[\"epidermal cell\"],[\"serous secreting cell\"],[\"milk secreting cell\"],[\"sebum secreting cell\"],[\"sebaceous gland cell\"],[\"pneumocyte\"],[\"epithelial cell of alveolus of lung\"],[\"lysozyme secreting cell\"],[\"neural crest cell\"],[\"mesenchymal cell\"],[\"biogenic amine secreting cell\"],[\"extraembryonic cell\"],[\"trophoblast cell\"],[\"sphincter associated smooth muscle cell\"],[\"vascular associated smooth muscle cell\"],[\"perivascular cell\"],[\"general ecto-epithelial cell\"],[\"myotube\"],[\"attachment cell\"],[\"tendon cell\"],[\"ganglion interneuron\"],[\"CNS interneuron\"],[\"central nervous system neuron\"],[\"electrically signaling cell\"],[\"excretory cell\"],[\"reticular cell\"],[\"follicular dendritic cell\"],[\"striated muscle cell\"],[\"preadipocyte\"],[\"dendritic cell\"],[\"Langerhans cell\"],[\"conventional dendritic cell\"],[\"noradrenergic cell\"],[\"cardiac myoblast\"],[\"neural progenitor cell\"],[\"follicular epithelial cell\"],[\"ovarian surface epithelial cell\"],[\"CD4-positive helper T cell\"],[\"CD4-positive, alpha-beta T cell\"],[\"activated CD4-positive, alpha-beta T cell\"],[\"inhibitory interneuron\"],[\"granulosa cell\"],[\"follicular cell of ovary\"],[\"theca cell\"],[\"androgen secreting cell\"],[\"enkephalin secreting cell\"],[\"endorphin secreting cell\"],[\"type G enteroendocrine cell\"],[\"gastrin secreting cell\"],[\"mucous cell of stomach\"],[\"paneth cell\"],[\"intestinal epithelial cell\"],[\"paracrine cell\"],[\"cardiac muscle myoblast\"],[\"cardiocyte\"],[\"skeletal muscle fiber\"],[\"syncytiotrophoblast cell\"],[\"pigmented epithelial cell\"],[\"primary neuron (sensu Teleostei)\"],[\"T-helper 1 cell\"],[\"T-helper 2 cell\"],[\"CD4-positive, CXCR3-negative, CCR6-negative, alpha-beta T cell\"],[\"proerythroblast\"],[\"erythroblast\"],[\"neuronal brush cell\"],[\"CD7-negative lymphoid progenitor OR granulocyte monocyte progenitor\"],[\"bone marrow hematopoietic cell\"],[\"promonocyte\"],[\"amacrine cell\"],[\"retinal cell\"],[\"retinal ganglion cell\"],[\"promyelocyte\"],[\"cardiac mesenchymal cell\"],[\"migratory cardiac neural crest cell\"],[\"retinal cone cell\"],[\"camera-type eye photoreceptor cell\"],[\"corneal epithelial cell\"],[\"type EC enteroendocrine cell\"],[\"epithelial cell of alimentary canal\"],[\"cell in vitro\"],[\"immature neutrophil\"],[\"myelocyte\"],[\"alveolar macrophage\"],[\"lung macrophage\"],[\"enterocyte\"],[\"gut absorptive cell\"],[\"skeletal muscle satellite cell\"],[\"enucleate erythrocyte\"],[\"enucleated reticulocyte\"],[\"pyramidal neuron\"],[\"retinal rod cell\"],[\"granulocytopoietic cell\"],[\"basophil mast progenitor cell\"],[\"GABAergic neuron\"],[\"acinar cell\"],[\"natural killer cell\"],[\"group 1 innate lymphoid cell\"],[\"mature alpha-beta T cell\"],[\"CD8-positive, alpha-beta T cell\"],[\"transporting cell\"],[\"hepatic stellate cell\"],[\"Mueller cell\"],[\"radial glial cell\"],[\"basal cell\"],[\"prickle cell\"],[\"mesangial cell\"],[\"mucous neck cell\"],[\"podocyte\"],[\"renal filtration cell\"],[\"epithelial cell of glomerular capsule\"],[\"fenestrated cell\"],[\"mural cell\"],[\"glutamatergic neuron\"],[\"M cell of gut\"],[\"non-myelinating Schwann cell\"],[\"Cajal-Retzius cell\"],[\"PP cell\"],[\"dopaminergic neuron\"],[\"endothelial tip cell\"],[\"choroid plexus epithelial cell\"],[\"urothelial cell\"],[\"retina horizontal cell\"],[\"retinal bipolar neuron\"],[\"visual system neuron\"],[\"ON-bipolar cell\"],[\"OFF-bipolar cell\"],[\"rod bipolar cell\"],[\"cone retinal bipolar cell\"],[\"myeloid dendritic cell\"],[\"plasmacytoid dendritic cell\"],[\"mature B cell\"],[\"B cell, CD19-positive\"],[\"transitional stage B cell\"],[\"immature B cell\"],[\"precursor B cell\"],[\"plasma cell\"],[\"antibody secreting cell\"],[\"plasmablast\"],[\"memory B cell\"],[\"naive B cell\"],[\"alpha-beta T cell\"],[\"gamma-delta T cell\"],[\"immature alpha-beta T cell\"],[\"immature T cell\"],[\"mature T cell\"],[\"CD4-positive, CD25-positive, alpha-beta regulatory T cell\"],[\"regulatory T cell\"],[\"alpha-beta intraepithelial T cell\"],[\"CD4-positive, alpha-beta thymocyte\"],[\"CD8-positive, alpha-beta cytotoxic T cell\"],[\"activated CD8-positive, alpha-beta T cell\"],[\"CD8-alpha-beta-positive, alpha-beta intraepithelial T cell\"],[\"intraepithelial lymphocyte\"],[\"DN3 thymocyte\"],[\"mature gamma-delta T cell\"],[\"gamma-delta intraepithelial T cell\"],[\"CD8-alpha alpha positive, gamma-delta intraepithelial T cell\"],[\"thymocyte\"],[\"DN4 thymocyte\"],[\"double negative thymocyte\"],[\"DN1 thymic pro-T cell\"],[\"double-positive, alpha-beta thymocyte\"],[\"CD8-positive, alpha-beta thymocyte\"],[\"memory T cell\"],[\"naive T cell\"],[\"mature NK T cell\"],[\"small pre-B-II cell\"],[\"pro-B cell\"],[\"B-1 B cell\"],[\"B-1a B cell\"],[\"B-1b B cell\"],[\"B-2 B cell\"],[\"immature natural killer cell\"],[\"immature innate lymphoid cell\"],[\"mature natural killer cell\"],[\"lymphoid lineage restricted progenitor cell\"],[\"hematopoietic multipotent progenitor cell\"],[\"hematopoietic lineage restricted progenitor cell\"],[\"common dendritic progenitor\"],[\"mature conventional dendritic cell\"],[\"follicular B cell\"],[\"germinal center B cell\"],[\"classical monocyte\"],[\"elicited macrophage\"],[\"inflammatory macrophage\"],[\"non-classical monocyte\"],[\"intermediate monocyte\"],[\"meningeal macrophage\"],[\"alternatively activated macrophage\"],[\"early T lineage precursor\"],[\"naive thymus-derived CD4-positive, alpha-beta T cell\"],[\"CD4-positive, alpha-beta memory T cell\"],[\"T-helper 17 cell\"],[\"naive thymus-derived CD8-positive, alpha-beta T cell\"],[\"natural T-regulatory cell\"],[\"central memory CD4-positive, alpha-beta T cell\"],[\"CD4-positive, alpha-beta memory T cell, CD45RO-positive\"],[\"effector memory CD4-positive, alpha-beta T cell\"],[\"central memory CD8-positive, alpha-beta T cell\"],[\"CD8-positive, alpha-beta memory T cell, CD45RO-positive\"],[\"CD8-positive, alpha-beta cytokine secreting effector T cell\"],[\"CD8-positive, alpha-beta memory T cell\"],[\"cytotoxic T cell\"],[\"effector T cell\"],[\"helper T cell\"],[\"effector memory CD8-positive, alpha-beta T cell\"],[\"immature NK T cell\"],[\"CD8-alpha-alpha-positive, alpha-beta intraepithelial T cell\"],[\"Tc1 cell\"],[\"type I NK T cell\"],[\"type II NK T cell\"],[\"activated type II NK T cell\"],[\"CD4-positive, alpha-beta cytotoxic T cell\"],[\"early lymphoid progenitor\"],[\"CD16-negative, CD56-bright natural killer cell, human\"],[\"CD16-positive, CD56-dim natural killer cell, human\"],[\"mucosal invariant T cell\"],[\"long lived plasma cell\"],[\"class switched memory B cell\"],[\"large pre-B-II cell\"],[\"pre-B-II cell\"],[\"pre-B-I cell\"],[\"unswitched memory B cell\"],[\"IgG memory B cell\"],[\"IgG plasmablast\"],[\"IgA plasmablast\"],[\"IgG plasma cell\"],[\"IgM plasma cell\"],[\"IgA plasma cell\"],[\"hematopoietic oligopotent progenitor cell, lineage-negative\"],[\"pre-conventional dendritic cell\"],[\"CD11b-positive dendritic cell\"],[\"CD34-positive, CD38-negative hematopoietic stem cell\"],[\"CD115-positive monocyte OR common dendritic progenitor\"],[\"CD115-positive monocyte\"],[\"cerebellar granule cell\"],[\"cerebellum glutamatergic neuron\"],[\"cerebellar granule cell precursor\"],[\"cerebral cortex neuron\"],[\"T-helper 22 cell\"],[\"activated CD4-positive, alpha-beta T cell, human\"],[\"effector CD4-positive, alpha-beta T cell\"],[\"naive regulatory T cell\"],[\"memory regulatory T cell\"],[\"activated CD8-positive, alpha-beta T cell, human\"],[\"effector CD8-positive, alpha-beta T cell\"],[\"CD14-positive monocyte\"],[\"CD14-positive, CD16-positive monocyte\"],[\"dendritic cell, human\"],[\"myeloid dendritic cell, human\"],[\"plasmacytoid dendritic cell, human\"],[\"abnormal cell\"],[\"effector memory CD8-positive, alpha-beta T cell, terminally differentiated\"],[\"effector memory CD45RA-positive, alpha-beta T cell, terminally differentiated\"],[\"neoplastic cell\"],[\"malignant cell\"],[\"innate lymphoid cell\"],[\"erythroid progenitor cell, mammalian\"],[\"ILC1\"],[\"group 2 innate lymphoid cell\"],[\"group 3 innate lymphoid cell\"],[\"CD34-positive, CD56-positive, CD117-positive common innate lymphoid precursor, human\"],[\"ILC1, human\"],[\"group 3 innate lymphoid cell, human\"],[\"NKp44-positive group 3 innate lymphoid cell, human\"],[\"NKp44-negative group 3 innate lymphoid cell, human\"],[\"group 2 innate lymphoid cell, human\"],[\"lymphocyte of B lineage, CD19-positive\"],[\"T follicular helper cell\"],[\"fraction A pre-pro B cell\"],[\"early pro-B cell\"],[\"late pro-B cell\"],[\"CD14-positive, CD16-negative classical monocyte\"],[\"type I pneumocyte\"],[\"type II pneumocyte\"],[\"lung secretory cell\"],[\"pancreatic acinar cell\"],[\"pancreas exocrine glandular cell\"],[\"enterocyte of epithelium of large intestine\"],[\"epithelial cell of large intestine\"],[\"brush cell of trachebronchial tree\"],[\"brush cell\"],[\"pancreatic ductal cell\"],[\"epithelial cell of exocrine pancreas\"],[\"interstitial cell of Cajal\"],[\"bone marrow cell\"],[\"interstitial cell of ovary\"],[\"cortical cell of adrenal gland\"],[\"adrenal gland glandular cell\"],[\"regular cardiac myocyte\"],[\"IgG-negative class switched memory B cell\"],[\"regular atrial cardiac myocyte\"],[\"regular ventricular cardiac myocyte\"],[\"endothelial cell of lymphatic vessel\"],[\"vascular lymphangioblast\"],[\"epithelial cell of sweat gland\"],[\"capillary endothelial cell\"],[\"microvascular endothelial cell\"],[\"ciliated columnar cell of tracheobronchial tree\"],[\"multi-ciliated epithelial cell\"],[\"respiratory ciliated cell\"],[\"epithelial cell of uterus\"],[\"endosteal cell\"],[\"renal interstitial pericyte\"],[\"epithelial cell of stomach\"],[\"foveolar cell of stomach\"],[\"basal cell of epidermis\"],[\"stem cell of epidermis\"],[\"glomerular endothelial cell\"],[\"glomerular cell\"],[\"granular cell of epidermis\"],[\"epithelial cell of thyroid gland\"],[\"renal beta-intercalated cell\"],[\"renal intercalated cell\"],[\"epithelial cell of lower respiratory tract\"],[\"brush cell of epithelium proper of large intestine\"],[\"intestinal tuft cell\"],[\"brush cell of trachea\"],[\"bronchial epithelial cell\"],[\"epithelial cell of esophagus\"],[\"vertebrate lens cell\"],[\"anterior lens cell\"],[\"lens epithelial cell\"],[\"secondary lens fiber\"],[\"lens fiber cell\"],[\"lactocyte\"],[\"epithelial cell of prostate\"],[\"basal cell of prostate epithelium\"],[\"luminal cell of prostate epithelium\"],[\"basal epithelial cell of prostatic duct\"],[\"pulmonary interstitial fibroblast\"],[\"smooth muscle cell of sphincter of pupil\"],[\"peripheral blood stem cell\"],[\"intestinal crypt stem cell\"],[\"epithelial cell of small intestine\"],[\"stromal cell of endometrium\"],[\"decidual cell\"],[\"thyroid follicular cell\"],[\"endothelial cell of sinusoid\"],[\"enteroendocrine cell of colon\"],[\"enteroendocrine cell of small intestine\"],[\"P\\u002fD1 enteroendocrine cell\"],[\"vasoactive intestinal peptide secreting cell\"],[\"pancreatic PP cell\"],[\"type I enteroendocrine cell\"],[\"GIP cell\"],[\"type L enteroendocrine cell\"],[\"type N enteroendocrine cell\"],[\"ghrelin secreting cell\"],[\"epithelial cell of thymus\"],[\"cortical thymic epithelial cell\"],[\"medullary thymic epithelial cell\"],[\"pigmented ciliary epithelial cell\"],[\"non-pigmented ciliary epithelial cell\"],[\"epithelial cell of distal tubule\"],[\"nephron tubule epithelial cell\"],[\"kidney cortex tubule cell\"],[\"epithelial cell of proximal tubule\"],[\"epithelial cell of skin gland\"],[\"embryonic stem cell\"],[\"myoepithelial cell of mammary gland\"],[\"mammary gland epithelial cell\"],[\"mammary gland glandular cell\"],[\"luminal adaptive secretory precursor cell of mammary gland\"],[\"luminal epithelial cell of mammary gland\"],[\"progenitor cell of mammary luminal epithelium\"],[\"basal epithelial cell of tracheobronchial tree\"],[\"decidual natural killer cell, human\"],[\"endocardial cell\"],[\"cardiac endothelial cell\"],[\"gestational hematopoietic stem cell\"],[\"primitive red blood cell\"],[\"primitive erythroid lineage cell\"],[\"keratocyte\"],[\"myometrial cell\"],[\"uterine smooth muscle cell\"],[\"respiratory epithelial cell\"],[\"respiratory goblet cell\"],[\"Schwann cell precursor\"],[\"CD141-positive myeloid dendritic cell\"],[\"Gr1-high classical monocyte\"],[\"CD14-low, CD16-positive monocyte\"],[\"CD1c-positive myeloid dendritic cell\"],[\"pancreatic stellate cell\"],[\"epidermal Langerhans cell\"],[\"MHC-II-positive classical monocyte\"],[\"nasal mucosa goblet cell\"],[\"melanocyte of skin\"],[\"hair follicle cell\"],[\"trophoblast giant cell\"],[\"fetal cardiomyocyte\"],[\"adventitial cell\"],[\"enteric smooth muscle cell\"],[\"kidney epithelial cell\"],[\"kidney cell\"],[\"subcutaneous adipocyte\"],[\"intrahepatic cholangiocyte\"],[\"cholangiocyte\"],[\"blood vessel smooth muscle cell\"],[\"endothelial cell of artery\"],[\"vein endothelial cell\"],[\"fibroblast of cardiac tissue\"],[\"skin fibroblast\"],[\"fibroblast of lung\"],[\"fibroblast of mammary gland\"],[\"placental epithelial cell\"],[\"fibroblast of breast\"],[\"renal cortical epithelial cell\"],[\"kidney cortical cell\"],[\"retinal blood vessel endothelial cell\"],[\"retinal pigment epithelial cell\"],[\"smooth muscle cell of the pulmonary artery\"],[\"bladder cell\"],[\"bronchial smooth muscle cell\"],[\"tracheobronchial smooth muscle cell\"],[\"brain macroglial cell\"],[\"cerebral cortex glial cell\"],[\"migratory enteric neural crest cell\"],[\"adipocyte of breast\"],[\"prostate stromal cell\"],[\"acinar cell of salivary gland\"],[\"salivary gland glandular cell\"],[\"mature microglial cell\"],[\"respiratory basal cell\"],[\"glandular cell of esophagus\"],[\"endothelial cell of venule\"],[\"glandular cell of the large intestine\"],[\"tongue muscle cell\"],[\"intestinal enteroendocrine cell\"],[\"S cone cell\"],[\"H1 horizontal cell\"],[\"H2 horizontal cell\"],[\"glycinergic amacrine cell\"],[\"starburst amacrine cell\"],[\"GABAergic amacrine cell\"],[\"ionocyte\"],[\"renal principal cell\"],[\"epithelial cell of nephron\"],[\"renal alpha-intercalated cell\"],[\"pancreatic epsilon cell\"],[\"lymphangioblast\"],[\"mesenchymal lymphangioblast\"],[\"visceromotor neuron\"],[\"enteric neuron\"],[\"skeletal muscle satellite stem cell\"],[\"inhibitory motor neuron\"],[\"cortical interneuron\"],[\"cerebral cortex GABAergic interneuron\"],[\"extravillous trophoblast\"],[\"primary motor cortex pyramidal cell\"],[\"L5 extratelencephalic projecting glutamatergic cortical neuron\"],[\"inflammatory cell\"],[\"salivary gland cell\"],[\"small intestine glandular cell\"],[\"paneth cell of colon\"],[\"colon glandular cell\"],[\"transit amplifying cell\"],[\"transit amplifying cell of colon\"],[\"transit amplifying cell of small intestine\"],[\"intestinal crypt stem cell of large intestine\"],[\"intestinal crypt stem cell of small intestine\"],[\"colon epithelial cell\"],[\"colon macrophage\"],[\"colon goblet cell\"],[\"large intestine goblet cell\"],[\"tuft cell of colon\"],[\"intestinal crypt stem cell of colon\"],[\"lung pericyte\"],[\"endothelial cell of placenta\"],[\"endothelial cell of uterus\"],[\"fibro\\u002fadipogenic progenitor cell\"],[\"centrocyte\"],[\"centroblast\"],[\"T follicular regulatory cell\"],[\"hair follicular keratinocyte\"],[\"cardiac neuron\"],[\"mesothelial cell of epicardium\"],[\"double negative T regulatory cell\"],[\"exhausted T cell\"],[\"skeletal muscle fibroblast\"],[\"muscle fibroblast\"],[\"monocyte-derived dendritic cell\"],[\"chorionic trophoblast cell\"],[\"sympathetic neuron\"],[\"forebrain radial glial cell\"],[\"pulmonary ionocyte\"],[\"epithelial cell of urethra\"],[\"hillock cell\"],[\"tracheobronchial serous cell\"],[\"tracheobronchial goblet cell\"],[\"endothelial cell of periportal hepatic sinusoid\"],[\"endothelial cell of hepatic sinusoid\"],[\"endothelial cell of pericentral hepatic sinusoid\"],[\"periportal region hepatocyte\"],[\"midzonal region hepatocyte\"],[\"centrilobular region hepatocyte\"],[\"intestine goblet cell\"],[\"kidney tubule cell\"],[\"forebrain neuroblast\"],[\"lung goblet cell\"],[\"lung neuroendocrine cell\"],[\"lung ciliated cell\"],[\"smooth muscle cell of small intestine\"],[\"smooth muscle fiber of ileum\"],[\"urethra cell\"],[\"fibroblast of connective tissue of nonglandular part of prostate\"],[\"fibroblast of connective tissue of glandular part of prostate\"],[\"epicardial adipocyte\"],[\"adipocyte of epicardial fat of left ventricle\"],[\"bronchial goblet cell\"],[\"small intestine goblet cell\"],[\"intestinal villus goblet cell\"],[\"duodenum glandular cell\"],[\"ileal goblet cell\"],[\"tracheal goblet cell\"],[\"serous cell of epithelium of trachea\"],[\"serous cell of epithelium of bronchus\"],[\"enterocyte of epithelium of small intestine\"],[\"enterocyte of epithelium proper of small intestine\"],[\"enterocyte of epithelium proper of ileum\"],[\"paneth cell of epithelium of small intestine\"],[\"enterocyte of colon\"],[\"basal cell of epithelium of trachea\"],[\"microfold cell of epithelium of small intestine\"],[\"ventricular cardiac muscle cell\"],[\"conjunctival epithelial cell\"],[\"epithelial cell of lacrimal drainage system\"],[\"epithelial cell of lacrimal sac\"],[\"epithelial cell of nasolacrimal duct\"],[\"bladder urothelial cell\"],[\"ciliary muscle cell\"],[\"epithelial cell of stratum germinativum of esophagus\"],[\"kidney glomerular epithelial cell\"],[\"parietal epithelial cell\"],[\"epithelial cell of intermediate tubule\"],[\"kidney loop of Henle epithelial cell\"],[\"kidney collecting duct epithelial cell\"],[\"kidney collecting duct cell\"],[\"smooth muscle cell of prostate\"],[\"mesothelial cell of pleura\"],[\"kidney interstitial cell\"],[\"kidney medulla cell\"],[\"kidney pelvis cell\"],[\"kidney inner medulla cell\"],[\"kidney outer medulla cell\"],[\"papillary tips cell\"],[\"lower urinary tract cell\"],[\"kidney corpuscule cell\"],[\"kidney interstitial fibroblast\"],[\"kidney interstitial alternatively activated macrophage\"],[\"kidney resident macrophage\"],[\"kidney pelvis urothelial cell\"],[\"kidney collecting duct principal cell\"],[\"kidney collecting duct intercalated cell\"],[\"kidney connecting tubule epithelial cell\"],[\"kidney loop of Henle descending limb epithelial cell\"],[\"kidney distal convoluted tubule epithelial cell\"],[\"kidney blood vessel cell\"],[\"kidney capillary endothelial cell\"],[\"kidney venous blood vessel cell\"],[\"glomerular capillary endothelial cell\"],[\"kidney loop of Henle ascending limb epithelial cell\"],[\"vasa recta cell\"],[\"kidney loop of Henle thick ascending limb epithelial cell\"],[\"kidney loop of Henle thin ascending limb epithelial cell\"],[\"kidney loop of Henle thin descending limb epithelial cell\"],[\"vasa recta ascending limb cell\"],[\"vasa recta descending limb cell\"],[\"medium spiny neuron\"],[\"glycinergic neuron\"],[\"lung endothelial cell\"],[\"pulmonary artery endothelial cell\"],[\"cerebral cortex pyramidal neuron\"],[\"cerebral cortex endothelial cell\"],[\"peripheral blood mononuclear cell\"],[\"tonsil germinal center B cell\"],[\"dermis lymphatic vessel endothelial cell\"],[\"lung microvascular endothelial cell\"],[\"dermis microvascular lymphatic vessel endothelial cell\"],[\"embryonic fibroblast\"],[\"brainstem motor neuron\"],[\"hepatic pit cell\"],[\"liver dendritic cell\"],[\"prostate gland microvascular endothelial cell\"],[\"placental villous trophoblast\"],[\"bronchus fibroblast of lung\"],[\"cord blood hematopoietic stem cell\"],[\"Hofbauer cell\"],[\"vip GABAergic cortical interneuron\"],[\"intratelencephalic-projecting glutamatergic cortical neuron\"],[\"extratelencephalic-projecting glutamatergic cortical neuron\"],[\"lamp5 GABAergic cortical interneuron\"],[\"near-projecting glutamatergic cortical neuron\"],[\"corticothalamic-projecting glutamatergic cortical neuron\"],[\"sncg GABAergic cortical interneuron\"],[\"sst GABAergic cortical interneuron\"],[\"pvalb GABAergic cortical interneuron\"],[\"sst chodl GABAergic cortical interneuron\"],[\"direct pathway medium spiny neuron\"],[\"indirect pathway medium spiny neuron\"],[\"chandelier pvalb GABAergic cortical interneuron\"],[\"chandelier cell\"],[\"L6b glutamatergic cortical neuron\"],[\"L2\\u002f3-6 intratelencephalic projecting glutamatergic neuron\"],[\"L6 corticothalamic-projecting glutamatergic cortical neuron\"],[\"L5\\u002f6 near-projecting glutamatergic neuron of the primary motor cortex\"],[\"L5\\u002f6 near-projecting glutamatergic neuron\"],[\"L2\\u002f3 intratelencephalic projecting glutamatergic neuron\"],[\"L6 intratelencephalic projecting glutamatergic neuron of the primary motor cortex\"],[\"L6 intratelencephalic projecting glutamatergic neuron\"],[\"vascular leptomeningeal cell\"],[\"mesothelial fibroblast of the leptomeninx\"],[\"mesothelial fibroblast\"],[\"differentiation-committed oligodendrocyte precursor\"],[\"caudal ganglionic eminence derived interneuron\"],[\"caudal ganglionic eminence derived GABAergic cortical interneuron\"],[\"brain vascular cell\"],[\"unipolar brush cell\"],[\"midget ganglion cell of retina\"],[\"parasol ganglion cell of retina\"],[\"alveolar type 1 fibroblast cell\"],[\"alveolar type 2 fibroblast cell\"],[\"epithelial cell of proximal tubule segment 1\"],[\"epithelial cell of proximal tubule segment 3\"],[\"kidney connecting tubule principal cell\"],[\"respiratory hillock cell\"],[\"BEST4+ intestinal epithelial cell, human\"],[\"L4 intratelencephalic projecting glutamatergic neuron\"],[\"serous secreting cell of bronchus submucosal gland\"],[\"suprabasal keratinocyte\"],[\"ON-blue cone bipolar cell\"],[\"airway submucosal gland duct basal cell\"],[\"perichondrial fibroblast\"],[\"lung perichondrial fibroblast\"],[\"diffuse bipolar 1 cell\"],[\"diffuse bipolar 2 cell\"],[\"diffuse bipolar 3a cell\"],[\"diffuse bipolar 3b cell\"],[\"diffuse bipolar 4 cell\"],[\"diffuse bipolar 6 cell\"],[\"flat midget bipolar cell\"],[\"invaginating midget bipolar cell\"],[\"giant bipolar cell\"],[\"OFFx cell\"],[\"lung resident memory CD4-positive, alpha-beta T cell\"],[\"lung resident memory CD8-positive, alpha-beta T cell\"],[\"metallothionein-positive alveolar macrophage\"],[\"lung interstitial macrophage\"],[\"deuterosomal cell\"],[\"respiratory suprabasal cell\"],[\"luminal hormone-sensing cell of mammary gland\"]],\"hovertemplate\":\"astrocyte descendants=NOT IN ASTROCYTE DESCENDANTS\\u003cbr\\u003ex=%{x}\\u003cbr\\u003ey=%{y}\\u003cbr\\u003elabel=%{customdata[0]}\\u003cextra\\u003e\\u003c\\u002fextra\\u003e\",\"legendgroup\":\"NOT IN ASTROCYTE DESCENDANTS\",\"marker\":{\"color\":\"#636efa\",\"symbol\":\"circle\"},\"mode\":\"markers\",\"name\":\"NOT IN ASTROCYTE DESCENDANTS\",\"orientation\":\"v\",\"showlegend\":true,\"x\":[11.717308044433594,9.825003623962402,10.24278736114502,10.417634010314941,8.104426383972168,9.009193420410156,8.3159818649292,9.602998733520508,9.686277389526367,8.55121898651123,10.265510559082031,10.112813949584961,10.317121505737305,9.826983451843262,10.066226959228516,9.903040885925293,9.592628479003906,9.775931358337402,10.119784355163574,11.15877914428711,9.273066520690918,11.138278007507324,10.319268226623535,9.333507537841797,9.944255828857422,8.83756160736084,8.982219696044922,10.24811840057373,8.922114372253418,9.696089744567871,8.819003105163574,10.465452194213867,10.044605255126953,10.491389274597168,10.33462905883789,10.3717041015625,10.444784164428711,10.335993766784668,10.849678993225098,10.747127532958984,10.090742111206055,10.084035873413086,10.772405624389648,9.40710163116455,10.570109367370605,10.056081771850586,10.011736869812012,10.354690551757812,11.718963623046875,8.602648735046387,10.548748016357422,10.703344345092773,10.49954605102539,10.806736946105957,10.410449028015137,9.944995880126953,8.518280029296875,8.775947570800781,9.91118049621582,9.888811111450195,8.125621795654297,7.904969692230225,10.570030212402344,9.840810775756836,10.526527404785156,9.758591651916504,9.632721900939941,9.082813262939453,8.891376495361328,8.541714668273926,8.248980522155762,7.846701145172119,11.589837074279785,8.285144805908203,8.179486274719238,9.704617500305176,8.308780670166016,8.18295669555664,9.165584564208984,10.408995628356934,10.513334274291992,8.286904335021973,11.161065101623535,9.629426002502441,9.65896987915039,9.186084747314453,10.163847923278809,9.198790550231934,9.098052978515625,8.810139656066895,9.289043426513672,9.315031051635742,8.635693550109863,9.28347110748291,10.745880126953125,10.791582107543945,10.966683387756348,9.291906356811523,10.074007987976074,10.08781623840332,11.097445487976074,11.177397727966309,11.224359512329102,9.77759075164795,10.628609657287598,11.189797401428223,11.308143615722656,11.260695457458496,10.041332244873047,10.692148208618164,9.293240547180176,9.671222686767578,8.839672088623047,8.134237289428711,11.218793869018555,10.601409912109375,11.213911056518555,11.252197265625,11.228446006774902,11.26000690460205,11.207849502563477,10.751433372497559,10.583274841308594,10.474841117858887,10.388391494750977,9.667247772216797,9.402898788452148,9.104705810546875,8.543292045593262,7.874429702758789,8.255072593688965,9.091863632202148,8.183999061584473,8.875561714172363,8.967703819274902,8.462088584899902,8.45180606842041,8.397449493408203,9.825979232788086,9.796616554260254,9.340989112854004,9.605631828308105,7.851649284362793,8.819183349609375,11.033611297607422,11.151009559631348,11.1015043258667,9.581239700317383,10.34737491607666,10.331206321716309,10.945891380310059,11.031027793884277,10.97003173828125,10.576789855957031,11.006869316101074,11.444125175476074,11.278472900390625,11.256437301635742,11.200948715209961,11.716243743896484,11.824539184570312,11.816904067993164,11.893640518188477,11.42617416381836,11.754640579223633,11.872122764587402,11.888211250305176,11.371779441833496,11.775134086608887,11.703354835510254,9.132802963256836,8.29543685913086,8.263100624084473,8.22024154663086,8.035888671875,11.281496047973633,11.188542366027832,8.657402038574219,8.862747192382812,8.925565719604492,8.906087875366211,8.512553215026855,9.889867782592773,11.726518630981445,9.981887817382812,10.044462203979492,10.043706893920898,10.057838439941406,9.247481346130371,9.25432300567627,8.507380485534668,9.989692687988281,10.084546089172363,10.086283683776855,9.501642227172852,9.581167221069336,11.71701431274414,8.228442192077637,8.425111770629883,8.192462921142578,8.211126327514648,9.703712463378906,9.417590141296387,8.775860786437988,9.857766151428223,8.25136661529541,11.31766128540039,9.592893600463867,9.589038848876953,8.69340991973877,10.360810279846191,10.47317123413086,10.761445999145508,11.428632736206055,11.42525863647461,10.904051780700684,9.290245056152344,9.189046859741211,10.18538761138916,9.890832901000977,10.041757583618164,9.951250076293945,10.018929481506348,9.449496269226074,9.902046203613281,9.169038772583008,11.248944282531738,9.901881217956543,9.44456958770752,9.66336727142334,9.783326148986816,9.650246620178223,9.86778736114502,10.455368041992188,9.461689949035645,8.986014366149902,9.839003562927246,9.8006591796875,9.982043266296387,10.985651016235352,10.359622955322266,8.305398941040039,9.98563003540039,8.1857328414917,8.69704818725586,9.839666366577148,7.823939323425293,8.679837226867676,9.770084381103516,10.140005111694336,9.244305610656738,8.984701156616211,11.036676406860352,10.59322452545166,10.36857795715332,11.715921401977539,7.929460048675537,8.176414489746094,8.27464771270752,9.959426879882812,7.986087322235107,9.30056381225586,9.886338233947754,8.703527450561523,11.147210121154785,10.76745891571045,9.332903861999512,8.355788230895996,8.429656028747559,9.526939392089844,10.25245189666748,8.952153205871582,11.123305320739746,8.311580657958984,8.334173202514648,8.18361759185791,8.20409870147705,10.933061599731445,10.572526931762695,11.362998962402344,11.483515739440918,11.186450004577637,10.909509658813477,10.427988052368164,8.924538612365723,10.864535331726074,9.904129981994629,10.0232515335083,8.604323387145996,9.783077239990234,10.623003959655762,10.378310203552246,9.820262908935547,9.900250434875488,10.597564697265625,8.663412094116211,11.206679344177246,10.472371101379395,10.448342323303223,10.723831176757812,10.216277122497559,10.289985656738281,10.800827026367188,10.752702713012695,8.376930236816406,8.353375434875488,8.779281616210938,9.58248233795166,9.770669937133789,10.89792251586914,10.433320999145508,10.27338695526123,10.205455780029297,10.745743751525879,9.070191383361816,9.084586143493652,10.209707260131836,10.240732192993164,10.03109073638916,10.807764053344727,10.780540466308594,11.622076034545898,9.499287605285645,10.759334564208984,10.614591598510742,10.81881332397461,10.450804710388184,9.959872245788574,9.904702186584473,10.300049781799316,10.271044731140137,10.798883438110352,7.86881685256958,10.511634826660156,10.527170181274414,8.806648254394531,9.52407455444336,9.306364059448242,11.212337493896484,7.765189170837402,7.810066223144531,7.788525581359863,8.147598266601562,9.783267974853516,10.827421188354492,10.887170791625977,8.832090377807617,10.71040153503418,11.511736869812012,10.760372161865234,10.2022705078125,10.735917091369629,9.266815185546875,11.195760726928711,10.646222114562988,10.649062156677246,10.622468948364258,10.131568908691406,10.563372611999512,9.20089054107666,8.915120124816895,10.276426315307617,8.686962127685547,8.707725524902344,9.7169771194458,8.729798316955566,8.70578670501709,11.139552116394043,11.1674165725708,11.056716918945312,9.161153793334961,8.489145278930664,10.332989692687988,8.507964134216309,10.674094200134277,9.373696327209473,10.45907211303711,8.594709396362305,9.10460376739502,9.920830726623535,9.047932624816895,8.886358261108398,8.910689353942871,9.498773574829102,9.4696683883667,9.089789390563965,9.356993675231934,9.286811828613281,8.836993217468262,9.385411262512207,9.613633155822754,10.134018898010254,9.125007629394531,10.640088081359863,9.105984687805176,10.379386901855469,8.229564666748047,9.167366027832031,9.936944961547852,9.799159049987793,9.635294914245605,9.808743476867676,9.704031944274902,9.415045738220215,9.607184410095215,8.673834800720215,9.365666389465332,9.821024894714355,10.48387336730957,9.943702697753906,10.299996376037598,10.096634864807129,8.74094009399414,10.016873359680176,8.542470932006836,9.16321086883545,9.29382038116455,8.557687759399414,9.149513244628906,8.017725944519043,9.170195579528809,9.808741569519043,8.330679893493652,10.402730941772461,10.385114669799805,8.189913749694824,9.632756233215332,8.260053634643555,8.321147918701172,8.439796447753906,8.571464538574219,8.747218132019043,9.329224586486816,10.279337882995605,9.717362403869629,9.504907608032227,9.58237075805664,8.593450546264648,9.306024551391602,10.101835250854492,9.746649742126465,9.111352920532227,9.400063514709473,9.463227272033691,8.663052558898926,10.573163032531738,9.134674072265625,9.334321975708008,8.318034172058105,11.093497276306152,9.575395584106445,9.979212760925293,9.947972297668457,10.080960273742676,9.679564476013184,9.718088150024414,11.083312034606934,11.071793556213379,11.124666213989258,11.15483570098877,11.090825080871582,10.363431930541992,9.387730598449707,9.375097274780273,10.399142265319824,10.30510139465332,9.732973098754883,10.875893592834473,10.837489128112793,10.568841934204102,10.314848899841309,9.984906196594238,9.00520133972168,9.123144149780273,8.58923053741455,8.608219146728516,9.043344497680664,9.332321166992188,8.392133712768555,8.700393676757812,9.564332008361816,9.550374984741211,10.103610038757324,9.207880020141602,8.819005012512207,9.024513244628906,8.968825340270996,8.999500274658203,9.18582534790039,10.488655090332031,9.387676239013672,9.815345764160156,9.731796264648438,9.38487720489502,9.41647720336914,9.223318099975586,9.353658676147461,9.280596733093262,9.349769592285156,8.803912162780762,8.754663467407227,10.677021026611328,10.288216590881348,9.96527099609375,8.571205139160156,10.16760540008545,9.620500564575195,9.537025451660156,10.69378662109375,10.646568298339844,10.840164184570312,10.61669921875,9.232017517089844,10.553516387939453,9.158258438110352,9.256714820861816,8.359134674072266,10.632137298583984,8.27028751373291,9.164933204650879,9.166563987731934,10.238349914550781,9.742125511169434,10.037991523742676,10.29259204864502,7.773821830749512,8.02197265625,9.938557624816895,7.857855796813965,7.839331150054932,10.030409812927246,10.122432708740234,10.061452865600586,9.400557518005371,8.464991569519043,7.797661781311035,10.982970237731934,11.021903991699219,9.602575302124023,9.533426284790039,7.9679107666015625,8.077544212341309,9.8765230178833,9.066762924194336,11.471016883850098,11.519163131713867,10.159299850463867,9.949726104736328,10.490506172180176,10.01374340057373,10.11381721496582,9.570015907287598,9.806061744689941,9.84637451171875,9.828788757324219,9.659881591796875,9.651430130004883,9.46447467803955,9.578228950500488,9.599910736083984,9.565542221069336,9.139492988586426,7.930239677429199,9.774519920349121,10.56860637664795,10.369169235229492,10.664090156555176,8.008889198303223,8.05453109741211,9.118456840515137,7.841388702392578,10.898477554321289,11.345257759094238,11.300583839416504,11.460685729980469,11.13960075378418,11.351622581481934,11.38547420501709,11.414841651916504,10.759786605834961,10.748830795288086,8.690570831298828,8.825357437133789,8.552021026611328,9.515287399291992,9.512629508972168,11.639866828918457,11.166391372680664,11.189867973327637,11.164713859558105,9.545439720153809,9.172015190124512,8.880459785461426,8.9459867477417,9.45002269744873,9.234553337097168,8.955228805541992,9.452898979187012,9.758722305297852,9.243927001953125,8.070931434631348,8.039669036865234,10.669548988342285,10.810938835144043,10.812071800231934,8.037705421447754,7.8097124099731445,7.679792404174805,9.431655883789062,9.59290599822998,9.71109390258789,9.24850845336914,9.558690071105957,8.424779891967773,8.84286880493164,8.071820259094238,10.145125389099121,9.528912544250488,9.51036548614502,9.599921226501465,9.067767143249512,8.830303192138672,10.10800552368164,7.858882427215576,7.919890880584717,10.008000373840332,10.094816207885742,8.550965309143066,10.438871383666992,10.585110664367676,7.663401126861572,7.812541484832764,7.847046852111816,8.65359878540039,8.02396297454834,7.895759105682373,8.705831527709961,8.03718090057373,8.283689498901367,11.169684410095215,10.942880630493164,7.890482425689697,9.34572696685791,7.683650016784668,9.21790885925293,8.129899978637695,7.703540325164795,7.920583724975586,7.898346424102783,9.06826400756836,8.565218925476074,8.083873748779297,10.163392066955566,10.18265438079834,9.396693229675293,9.39366626739502,9.526653289794922,7.902792453765869,11.032682418823242,9.410128593444824,11.403335571289062,8.819056510925293,11.22886848449707,11.17879867553711,10.179178237915039,10.036681175231934,10.0651216506958,11.10124683380127,11.553443908691406,9.646312713623047,11.468482971191406,11.311652183532715,7.997135162353516,8.118879318237305,11.186822891235352,11.220072746276855,9.254319190979004,11.20907211303711,10.558538436889648,10.511018753051758,8.824596405029297,11.819884300231934,11.699570655822754,8.263934135437012,9.187629699707031,10.457512855529785,11.085420608520508,11.118197441101074,10.119552612304688,10.345025062561035,10.165214538574219,10.597514152526855,10.24825382232666,10.596131324768066,9.186086654663086,11.134544372558594,11.15385913848877,10.168526649475098,10.367236137390137,7.632099151611328,8.216188430786133,8.098285675048828,7.914988994598389,9.912490844726562,9.986004829406738,9.00820541381836,9.062529563903809,8.762056350708008,8.288737297058105,8.975919723510742,8.917546272277832,7.942452430725098,7.92018985748291,9.121002197265625,9.560977935791016,11.235219955444336,9.044341087341309,11.000089645385742,9.283379554748535,9.546339988708496,10.036252975463867,9.637560844421387,8.014564514160156,7.808324813842773,7.79416036605835,10.73701286315918,9.76015853881836,9.667967796325684,11.146117210388184,11.195038795471191,10.57955265045166,10.832768440246582,11.413549423217773,10.073648452758789,8.539167404174805,8.3026704788208,9.282848358154297,8.022320747375488,8.018521308898926,8.217144966125488,8.717533111572266,10.089727401733398,10.533130645751953,10.78900146484375,10.61658763885498,10.997541427612305,9.636929512023926,10.672637939453125,10.458796501159668,10.699234008789062,10.797844886779785,10.531221389770508,10.300065994262695,10.924714088439941,8.845355987548828,10.275437355041504,10.39417839050293,9.191043853759766,9.851539611816406,9.315557479858398,9.6049165725708,9.265055656433105,11.199726104736328,9.143783569335938,7.749208450317383,7.773305416107178,11.968804359436035,11.483623504638672,11.570539474487305,11.565571784973145,7.658352851867676,9.923545837402344,7.736499786376953,11.919363975524902,9.476801872253418,9.381011009216309,11.95530891418457,9.518046379089355,9.301148414611816,8.596044540405273,7.704849720001221,9.236054420471191,9.265824317932129,9.722065925598145,11.49013614654541,11.570569038391113,11.49940013885498,11.971832275390625,11.640547752380371,7.9156694412231445,7.7721686363220215,8.33105182647705,7.948974132537842,11.961801528930664,7.873210430145264,11.927449226379395,9.388747215270996,11.962861061096191,7.838832378387451,7.8091511726379395,11.675533294677734,10.187431335449219,8.68420696258545,7.841419696807861,11.728782653808594,7.928926944732666,9.819300651550293,10.002517700195312,8.357413291931152,8.288067817687988,8.040512084960938,8.011896133422852,10.9622802734375,9.352142333984375,9.204488754272461,7.848537921905518,8.726115226745605,7.911806583404541,10.628580093383789,8.46454906463623,10.51319408416748,10.356310844421387,11.723983764648438,10.559571266174316,11.697892189025879,11.866043090820312,10.560439109802246,10.506806373596191,10.490910530090332,10.78275203704834,11.651359558105469,11.64765453338623,11.64710807800293,11.709239959716797,11.82660961151123,10.291621208190918,11.875871658325195,11.68199634552002,11.825970649719238,11.89201545715332,11.885601997375488,11.806015968322754,8.008282661437988,8.006246566772461,8.097559928894043,9.652629852294922,10.605456352233887,10.561890602111816,7.69888162612915,10.260796546936035,10.756952285766602,9.782432556152344,7.8257904052734375,7.93099308013916,9.956443786621094,10.068224906921387,11.294718742370605,9.47851276397705,10.44704532623291,11.806351661682129,9.829425811767578,9.17862319946289,10.148364067077637,9.625179290771484,8.203898429870605,7.949845314025879,10.140165328979492,10.150772094726562,10.22258472442627,10.168028831481934,10.282670021057129,10.165729522705078,10.144872665405273,10.241191864013672,10.191886901855469,10.141563415527344,9.487130165100098,9.59756088256836,9.162109375,9.176594734191895,10.589584350585938,9.689123153686523,8.969411849975586],\"xaxis\":\"x\",\"y\":[4.297649383544922,5.620401382446289,5.448995590209961,5.555227279663086,6.440558910369873,5.847205638885498,6.315731525421143,5.569570064544678,5.62211799621582,6.005904674530029,5.794147968292236,7.725302696228027,7.444854259490967,5.615254878997803,7.76199197769165,5.734536647796631,5.7345194816589355,5.903146266937256,7.689255237579346,5.369773864746094,6.1390275955200195,4.872646331787109,5.370874404907227,6.003993034362793,5.7339630126953125,4.762838840484619,7.770397663116455,6.836238384246826,6.748194217681885,6.994378089904785,6.771895408630371,7.22114372253418,5.651215076446533,6.967600345611572,6.683223724365234,6.683019161224365,6.058690071105957,6.678408145904541,6.779799938201904,7.198207855224609,5.361584663391113,5.607975959777832,6.913583278656006,4.5026984214782715,7.191677570343018,6.063014030456543,5.955794334411621,6.481764316558838,4.301984786987305,6.487265110015869,7.1539306640625,6.918747901916504,7.105144023895264,5.489544868469238,6.3300395011901855,7.0472893714904785,6.13847017288208,6.36235237121582,7.07407808303833,6.853234767913818,6.324264049530029,6.1126627922058105,5.380165100097656,6.007029056549072,5.463393688201904,5.876152515411377,5.274440288543701,6.203316688537598,6.848048686981201,7.545761585235596,7.20629358291626,4.87127685546875,6.619645595550537,4.6627726554870605,4.583303451538086,6.3291521072387695,6.80349063873291,4.565616130828857,7.1321516036987305,6.7415852546691895,5.61013126373291,5.852555751800537,4.72841739654541,4.732390403747559,4.613656997680664,5.811542987823486,4.7971510887146,4.349961757659912,4.66339111328125,6.3385725021362305,3.9972028732299805,3.981635570526123,6.284565448760986,3.9794509410858154,6.269101142883301,4.721772193908691,6.197015285491943,4.01154899597168,5.939225673675537,6.006603240966797,4.246262550354004,5.0074992179870605,3.988741397857666,5.705773830413818,3.9196465015411377,4.0157999992370605,4.889987468719482,4.990964889526367,3.843590259552002,5.546468734741211,3.9664976596832275,4.5776777267456055,4.948440074920654,4.542295455932617,3.986541509628296,4.669012546539307,4.005326747894287,3.9630141258239746,3.9961018562316895,3.9860312938690186,4.029728412628174,4.66151237487793,4.883796691894531,5.259666442871094,5.270453929901123,5.911531925201416,4.566017150878906,5.513241291046143,6.016607284545898,4.677327632904053,6.184024333953857,6.540475845336914,6.762190818786621,6.117911338806152,5.999778747558594,6.621220111846924,6.625156402587891,6.556434154510498,6.730932712554932,6.753071308135986,5.7614240646362305,6.261188983917236,5.932244300842285,6.41020393371582,5.179163455963135,5.207900047302246,5.158413887023926,6.164621829986572,6.070098876953125,5.427928447723389,6.430692195892334,6.351313591003418,6.394898414611816,5.925400257110596,4.821681976318359,4.860551834106445,4.798740863800049,4.692735195159912,4.855734825134277,4.847079753875732,4.835622310638428,4.8304123878479,4.7907023429870605,5.338412761688232,4.852867126464844,4.857100009918213,4.8120245933532715,4.825314521789551,4.861151695251465,4.888319492340088,7.814260482788086,6.957607746124268,6.064747333526611,6.202631950378418,6.212438106536865,5.574706077575684,5.508173942565918,6.190723419189453,6.063578128814697,6.043311595916748,7.676040172576904,6.121681213378906,5.484960079193115,4.29968786239624,7.047788143157959,6.965468883514404,7.009842395782471,6.959586143493652,6.228288173675537,6.1915669441223145,5.821303367614746,5.4139323234558105,5.929671764373779,6.0527825355529785,6.622268199920654,5.563861846923828,4.284018516540527,5.009888648986816,6.015696048736572,4.982681751251221,4.987363815307617,5.80189847946167,5.808589935302734,6.4555277824401855,5.759188175201416,6.174818992614746,5.005187034606934,5.288877964019775,4.462925434112549,7.020806312561035,5.9015326499938965,5.958066940307617,6.069271087646484,5.17714262008667,5.05421257019043,6.350888729095459,4.006824493408203,4.211149215698242,4.793693542480469,7.435970783233643,7.2006916999816895,7.296957015991211,5.877329349517822,6.870975494384766,7.487931728363037,7.073294162750244,5.28698205947876,5.012659072875977,5.5006608963012695,5.8711066246032715,6.469658374786377,5.005759239196777,7.461075305938721,6.891326427459717,7.809850215911865,7.252277851104736,6.9440016746521,6.03297233581543,6.219104290008545,6.296497821807861,7.3512187004089355,6.126067161560059,5.496285915374756,6.0329484939575195,7.04099178314209,6.443462371826172,6.280433177947998,7.712888717651367,7.320777416229248,7.029242515563965,6.614328384399414,6.659138202667236,5.1132025718688965,4.7334699630737305,4.35784912109375,4.29021692276001,5.6714253425598145,6.548456192016602,5.704728126525879,5.4303178787231445,6.606356143951416,4.432036876678467,7.490048408508301,4.639284133911133,5.284082889556885,6.433505058288574,6.094293117523193,7.292178153991699,7.321048736572266,5.193994522094727,4.933237552642822,5.770991325378418,4.223641872406006,7.313525199890137,7.379158973693848,6.921176433563232,6.869749069213867,4.417306423187256,4.608332633972168,5.214939117431641,5.117369651794434,4.922053337097168,6.163273334503174,5.621762275695801,7.800345420837402,6.342934608459473,5.401966094970703,7.009169578552246,6.947398662567139,6.743005275726318,5.172642230987549,5.530235767364502,5.18738317489624,5.475746154785156,7.082902431488037,6.541220664978027,4.017355442047119,7.050785541534424,7.0971293449401855,7.200551986694336,4.029678821563721,4.13263463973999,4.9971160888671875,7.318483352661133,6.853603839874268,6.42194938659668,4.927427768707275,5.6261677742004395,7.323164463043213,4.521377086639404,5.676875114440918,6.131373405456543,6.458385944366455,7.142673492431641,4.666526794433594,4.65877628326416,5.772165775299072,5.758265972137451,7.049188137054443,6.186849594116211,6.148855209350586,5.894603252410889,5.494012355804443,7.215850830078125,6.995830059051514,5.463879585266113,7.08298921585083,5.007650375366211,5.008285999298096,4.935877323150635,4.9365434646606445,5.930947303771973,5.951589107513428,7.615361213684082,7.678036212921143,6.795935153961182,7.2256083488464355,6.552248001098633,5.6288981437683105,5.7027058601379395,5.746714115142822,5.730281829833984,4.826033115386963,6.095727920532227,5.49282169342041,5.298242568969727,6.385396480560303,5.291662693023682,4.764867782592773,5.617516994476318,7.442786693572998,5.9927263259887695,7.464936256408691,4.544841289520264,3.9243037700653076,3.903276205062866,3.859485149383545,3.433873176574707,3.8966336250305176,6.286074638366699,5.006398677825928,4.491670608520508,4.354917049407959,4.399843692779541,4.528562545776367,4.3512067794799805,4.515826225280762,6.324450969696045,6.285998821258545,5.926036834716797,6.712706089019775,4.450634956359863,5.0270490646362305,6.071616172790527,5.063378810882568,5.966951847076416,5.1666035652160645,5.344931602478027,5.169064521789551,5.564128398895264,5.248398303985596,5.3856000900268555,5.6910624504089355,5.565766334533691,5.808054447174072,5.62766695022583,5.36508846282959,5.482448577880859,5.619054317474365,5.969573974609375,5.26420783996582,5.149847507476807,5.371028423309326,5.096310138702393,5.287722110748291,4.942575454711914,5.314724445343018,5.565553188323975,4.5955705642700195,6.15183687210083,4.552105903625488,4.586660861968994,4.493720054626465,4.565958023071289,5.4085493087768555,5.747595310211182,5.413127422332764,6.154603481292725,6.859436988830566,6.274832725524902,6.588109970092773,5.3408379554748535,5.593922138214111,8.096171379089355,4.982258319854736,4.517185688018799,4.346551895141602,4.966536998748779,4.438657283782959,6.476717472076416,4.3392181396484375,5.829952716827393,5.238186359405518,4.929027080535889,5.47620964050293,5.368255138397217,5.216048240661621,5.498961925506592,5.541168689727783,5.463006496429443,5.331945896148682,5.503475666046143,5.331980228424072,5.029231071472168,5.336559295654297,5.2474775314331055,5.327221393585205,5.444183826446533,5.288697719573975,5.467446804046631,5.5891289710998535,5.599751949310303,5.145858287811279,5.1800217628479,5.477075099945068,6.840941905975342,5.246313571929932,5.307281494140625,6.79876184463501,6.0008111000061035,4.925566673278809,4.66000509262085,4.583864212036133,4.475815296173096,4.714236259460449,4.634428977966309,5.844430923461914,5.879638195037842,5.919633865356445,5.8547868728637695,6.052047252655029,7.018078804016113,5.821211814880371,5.7581329345703125,7.159238815307617,6.541160583496094,6.234942436218262,4.450815200805664,4.420505523681641,6.60237979888916,4.3290205001831055,5.246530532836914,5.1744771003723145,5.564634323120117,5.393275737762451,5.340710639953613,5.232273101806641,5.404552459716797,5.508609771728516,4.737245082855225,4.59522819519043,4.360299587249756,4.369800567626953,6.383580207824707,5.771778106689453,5.617086887359619,6.497686386108398,6.49714469909668,5.376798629760742,7.146938800811768,5.351057529449463,5.238005638122559,5.101128578186035,5.050241470336914,5.103987216949463,4.906617164611816,4.982851982116699,5.049653053283691,5.426837921142578,4.272125244140625,5.647012233734131,6.873021602630615,6.308426856994629,4.593766212463379,4.85862922668457,6.108454704284668,6.10682487487793,6.422778129577637,7.0356764793396,6.998018264770508,6.81058406829834,6.738518714904785,7.625519752502441,6.2769856452941895,6.957396507263184,6.734457969665527,5.963836193084717,7.092717170715332,7.261547565460205,7.839688777923584,7.861583232879639,5.834829807281494,4.635246276855469,6.425102710723877,5.869091987609863,5.4972920417785645,4.618044853210449,6.814866542816162,4.613463878631592,4.623939514160156,4.639615058898926,4.541223526000977,4.550489902496338,6.367860317230225,5.917334079742432,5.90424919128418,5.686834335327148,5.804487228393555,7.181283473968506,7.237024307250977,4.731945991516113,4.883791923522949,5.645998477935791,5.864528656005859,6.3540849685668945,6.482560157775879,5.675910949707031,5.793985843658447,5.640028476715088,5.376269817352295,6.3472514152526855,6.049126148223877,6.59649658203125,6.599775314331055,6.5784592628479,6.636197090148926,6.596351146697998,7.812084674835205,6.748199939727783,6.490229606628418,6.713747024536133,7.021219730377197,6.287456512451172,6.46326208114624,6.667472839355469,7.488644599914551,5.99737024307251,6.640187740325928,6.686230182647705,5.880581378936768,5.01817512512207,4.718287467956543,4.999998092651367,4.961419105529785,5.0076799392700195,4.761472225189209,5.21406364440918,5.070199012756348,4.876702308654785,5.918830394744873,4.908763885498047,7.276793003082275,7.2988386154174805,7.23606538772583,5.985992431640625,6.027570724487305,6.585478782653809,7.579155921936035,7.605864524841309,7.589402198791504,6.841330528259277,7.277962684631348,7.720900058746338,6.861459732055664,7.821793079376221,7.834208965301514,6.868836879730225,7.769610404968262,7.14756965637207,4.885447025299072,4.992289066314697,4.995450496673584,6.557331085205078,6.923892021179199,6.879974842071533,6.562819004058838,5.925874710083008,6.223884105682373,7.060595989227295,6.213523864746094,5.770844459533691,4.467763423919678,6.509194374084473,5.44456148147583,4.946415901184082,6.297685623168945,6.112542629241943,6.585255146026611,6.347929954528809,6.086565971374512,7.2850213050842285,6.797111988067627,6.960582733154297,6.477174282073975,5.896855354309082,5.901453018188477,5.9296135902404785,6.261898994445801,6.060008525848389,5.93245792388916,6.25298547744751,4.612822532653809,4.774407386779785,6.269335746765137,6.497941970825195,6.394717693328857,7.719254016876221,4.701836585998535,6.445136547088623,7.582674026489258,7.425710678100586,4.693840503692627,5.744096755981445,6.250127792358398,7.4515767097473145,5.89114236831665,6.229030132293701,7.335470199584961,7.329648494720459,5.9314470291137695,6.3452229499816895,6.251500129699707,7.339288711547852,7.440208911895752,4.853797435760498,7.20680570602417,6.8805365562438965,5.02957010269165,6.705049991607666,6.864914417266846,5.013723850250244,5.016394138336182,4.577422618865967,4.541760444641113,3.799704074859619,3.8516998291015625,3.9409475326538086,5.406918048858643,6.671557903289795,6.239455699920654,6.4104132652282715,4.722693920135498,4.582571029663086,6.249070644378662,5.006115913391113,5.085772514343262,6.772835731506348,5.0835371017456055,4.703938007354736,4.513523101806641,6.794554710388184,5.862355709075928,5.773880481719971,6.4930195808410645,5.863280773162842,5.841475963592529,6.800706386566162,6.826586723327637,7.154797554016113,7.466521739959717,7.535333633422852,6.295093536376953,7.5866007804870605,6.7153639793396,4.401350975036621,6.848487854003906,6.793596267700195,5.831592082977295,7.432791233062744,6.2041096687316895,4.780913829803467,4.683550834655762,6.499372482299805,8.001423835754395,8.04573917388916,5.534002304077148,7.300511360168457,6.3884429931640625,6.875917434692383,5.30923318862915,5.630790710449219,6.556983947753906,6.556118011474609,4.4206767082214355,6.325727462768555,4.88136625289917,6.243544101715088,5.393019199371338,7.257338523864746,7.444299221038818,7.429304599761963,4.975701808929443,4.717805862426758,5.025589942932129,5.001724720001221,6.124805450439453,7.039205551147461,7.154823303222656,6.772253036499023,7.595910549163818,5.222795486450195,6.624985218048096,4.827093124389648,4.520815372467041,5.814727783203125,5.83540153503418,7.183889865875244,6.311491966247559,6.353384017944336,5.46476411819458,5.96364164352417,6.2991437911987305,5.846790313720703,6.510086536407471,5.845092296600342,6.578521251678467,4.974191665649414,5.876540660858154,6.071142196655273,5.964718341827393,6.188192844390869,6.125594139099121,6.0305938720703125,6.764249801635742,7.150594234466553,6.429596900939941,5.961554527282715,6.6581034660339355,6.160710334777832,5.894435405731201,5.705674171447754,7.482128143310547,6.921510219573975,7.049917221069336,5.745321273803711,5.697356224060059,6.874480247497559,6.4623918533325195,6.666099548339844,6.619943618774414,6.2502665519714355,6.352205753326416,5.9662322998046875,6.814012050628662,7.323620796203613,7.230169296264648,6.863186836242676,7.413856029510498,7.239048480987549,5.347871780395508,6.0650763511657715,4.572091579437256,4.644643306732178,7.554147243499756,6.706220626831055,6.629478931427002,6.670616149902344,6.872429370880127,6.553290843963623,4.729301929473877,4.635828971862793,4.800694465637207,4.786715984344482,6.833144187927246,4.672969341278076,6.8088884353637695,7.283668041229248,6.867565155029297,4.654094219207764,4.645496368408203,5.477685928344727,3.7520294189453125,4.839798450469971,4.653879642486572,5.782350540161133,5.2462568283081055,5.010269641876221,8.085180282592773,4.906610488891602,5.741526126861572,4.8973493576049805,6.626654148101807,4.991878032684326,5.041169166564941,4.34260368347168,4.786707878112793,7.1505842208862305,6.195660591125488,6.6360273361206055,4.589352130889893,4.364071369171143,4.286485195159912,5.771597385406494,4.325446605682373,5.707996845245361,5.8187947273254395,4.337430477142334,4.367218017578125,4.390961647033691,5.126588821411133,5.476795673370361,5.438250541687012,5.223130702972412,5.158994197845459,5.8211493492126465,4.240009784698486,5.906238555908203,5.702336311340332,5.856517314910889,5.87283182144165,5.916855812072754,5.8178486824035645,5.786808967590332,5.67577600479126,5.821032524108887,5.906804084777832,4.479362964630127,4.396242618560791,4.526402950286865,5.333097457885742,5.004688262939453,5.216841220855713,6.259312629699707,6.507713317871094,6.503965854644775,6.4485907554626465,6.181522369384766,7.407076358795166,6.6880106925964355,5.85822057723999,7.5455098152160645,6.398744583129883,3.515148162841797,7.558901786804199,6.375417232513428,6.480170249938965,3.479536294937134,3.4746041297912598,3.5760631561279297,3.4556517601013184,3.4116628170013428,3.4544460773468018,3.4389829635620117,3.500537157058716,3.4520647525787354,3.438781261444092,5.196497917175293,5.21946907043457,4.375207901000977,4.392339706420898,5.442990303039551,7.594002723693848,7.803805828094482],\"yaxis\":\"y\",\"type\":\"scatter\"},{\"customdata\":[[\"astrocyte\"]],\"hovertemplate\":\"astrocyte descendants=astrocyte\\u003cbr\\u003ex=%{x}\\u003cbr\\u003ey=%{y}\\u003cbr\\u003elabel=%{customdata[0]}\\u003cextra\\u003e\\u003c\\u002fextra\\u003e\",\"legendgroup\":\"astrocyte\",\"marker\":{\"color\":\"#EF553B\",\"symbol\":\"circle\"},\"mode\":\"markers\",\"name\":\"astrocyte\",\"orientation\":\"v\",\"showlegend\":true,\"x\":[10.501022338867188],\"xaxis\":\"x\",\"y\":[5.249645233154297],\"yaxis\":\"y\",\"type\":\"scatter\"},{\"customdata\":[[\"Bergmann glial cell\"]],\"hovertemplate\":\"astrocyte descendants=Bergmann glial cell\\u003cbr\\u003ex=%{x}\\u003cbr\\u003ey=%{y}\\u003cbr\\u003elabel=%{customdata[0]}\\u003cextra\\u003e\\u003c\\u002fextra\\u003e\",\"legendgroup\":\"Bergmann glial cell\",\"marker\":{\"color\":\"#00cc96\",\"symbol\":\"circle\"},\"mode\":\"markers\",\"name\":\"Bergmann glial cell\",\"orientation\":\"v\",\"showlegend\":true,\"x\":[10.252410888671875],\"xaxis\":\"x\",\"y\":[5.280593395233154],\"yaxis\":\"y\",\"type\":\"scatter\"},{\"customdata\":[[\"astrocyte of the forebrain\"]],\"hovertemplate\":\"astrocyte descendants=astrocyte of the forebrain\\u003cbr\\u003ex=%{x}\\u003cbr\\u003ey=%{y}\\u003cbr\\u003elabel=%{customdata[0]}\\u003cextra\\u003e\\u003c\\u002fextra\\u003e\",\"legendgroup\":\"astrocyte of the forebrain\",\"marker\":{\"color\":\"#ab63fa\",\"symbol\":\"circle\"},\"mode\":\"markers\",\"name\":\"astrocyte of the forebrain\",\"orientation\":\"v\",\"showlegend\":true,\"x\":[7.889437675476074],\"xaxis\":\"x\",\"y\":[7.318829536437988],\"yaxis\":\"y\",\"type\":\"scatter\"},{\"customdata\":[[\"astrocyte of the cerebral cortex\"]],\"hovertemplate\":\"astrocyte descendants=astrocyte of the cerebral cortex\\u003cbr\\u003ex=%{x}\\u003cbr\\u003ey=%{y}\\u003cbr\\u003elabel=%{customdata[0]}\\u003cextra\\u003e\\u003c\\u002fextra\\u003e\",\"legendgroup\":\"astrocyte of the cerebral cortex\",\"marker\":{\"color\":\"#FFA15A\",\"symbol\":\"circle\"},\"mode\":\"markers\",\"name\":\"astrocyte of the cerebral cortex\",\"orientation\":\"v\",\"showlegend\":true,\"x\":[7.902843475341797],\"xaxis\":\"x\",\"y\":[7.311767101287842],\"yaxis\":\"y\",\"type\":\"scatter\"},{\"customdata\":[[\"immature astrocyte\"]],\"hovertemplate\":\"astrocyte descendants=immature astrocyte\\u003cbr\\u003ex=%{x}\\u003cbr\\u003ey=%{y}\\u003cbr\\u003elabel=%{customdata[0]}\\u003cextra\\u003e\\u003c\\u002fextra\\u003e\",\"legendgroup\":\"immature astrocyte\",\"marker\":{\"color\":\"#19d3f3\",\"symbol\":\"circle\"},\"mode\":\"markers\",\"name\":\"immature astrocyte\",\"orientation\":\"v\",\"showlegend\":true,\"x\":[10.380094528198242],\"xaxis\":\"x\",\"y\":[5.402917861938477],\"yaxis\":\"y\",\"type\":\"scatter\"},{\"customdata\":[[\"mature astrocyte\"]],\"hovertemplate\":\"astrocyte descendants=mature astrocyte\\u003cbr\\u003ex=%{x}\\u003cbr\\u003ey=%{y}\\u003cbr\\u003elabel=%{customdata[0]}\\u003cextra\\u003e\\u003c\\u002fextra\\u003e\",\"legendgroup\":\"mature astrocyte\",\"marker\":{\"color\":\"#FF6692\",\"symbol\":\"circle\"},\"mode\":\"markers\",\"name\":\"mature astrocyte\",\"orientation\":\"v\",\"showlegend\":true,\"x\":[10.042484283447266],\"xaxis\":\"x\",\"y\":[5.43670654296875],\"yaxis\":\"y\",\"type\":\"scatter\"},{\"customdata\":[[\"retinal astrocyte\"]],\"hovertemplate\":\"astrocyte descendants=retinal astrocyte\\u003cbr\\u003ex=%{x}\\u003cbr\\u003ey=%{y}\\u003cbr\\u003elabel=%{customdata[0]}\\u003cextra\\u003e\\u003c\\u002fextra\\u003e\",\"legendgroup\":\"retinal astrocyte\",\"marker\":{\"color\":\"#B6E880\",\"symbol\":\"circle\"},\"mode\":\"markers\",\"name\":\"retinal astrocyte\",\"orientation\":\"v\",\"showlegend\":true,\"x\":[9.158148765563965],\"xaxis\":\"x\",\"y\":[6.240516662597656],\"yaxis\":\"y\",\"type\":\"scatter\"}],                        {\"template\":{\"data\":{\"histogram2dcontour\":[{\"type\":\"histogram2dcontour\",\"colorbar\":{\"outlinewidth\":0,\"ticks\":\"\"},\"colorscale\":[[0.0,\"#0d0887\"],[0.1111111111111111,\"#46039f\"],[0.2222222222222222,\"#7201a8\"],[0.3333333333333333,\"#9c179e\"],[0.4444444444444444,\"#bd3786\"],[0.5555555555555556,\"#d8576b\"],[0.6666666666666666,\"#ed7953\"],[0.7777777777777778,\"#fb9f3a\"],[0.8888888888888888,\"#fdca26\"],[1.0,\"#f0f921\"]]}],\"choropleth\":[{\"type\":\"choropleth\",\"colorbar\":{\"outlinewidth\":0,\"ticks\":\"\"}}],\"histogram2d\":[{\"type\":\"histogram2d\",\"colorbar\":{\"outlinewidth\":0,\"ticks\":\"\"},\"colorscale\":[[0.0,\"#0d0887\"],[0.1111111111111111,\"#46039f\"],[0.2222222222222222,\"#7201a8\"],[0.3333333333333333,\"#9c179e\"],[0.4444444444444444,\"#bd3786\"],[0.5555555555555556,\"#d8576b\"],[0.6666666666666666,\"#ed7953\"],[0.7777777777777778,\"#fb9f3a\"],[0.8888888888888888,\"#fdca26\"],[1.0,\"#f0f921\"]]}],\"heatmap\":[{\"type\":\"heatmap\",\"colorbar\":{\"outlinewidth\":0,\"ticks\":\"\"},\"colorscale\":[[0.0,\"#0d0887\"],[0.1111111111111111,\"#46039f\"],[0.2222222222222222,\"#7201a8\"],[0.3333333333333333,\"#9c179e\"],[0.4444444444444444,\"#bd3786\"],[0.5555555555555556,\"#d8576b\"],[0.6666666666666666,\"#ed7953\"],[0.7777777777777778,\"#fb9f3a\"],[0.8888888888888888,\"#fdca26\"],[1.0,\"#f0f921\"]]}],\"heatmapgl\":[{\"type\":\"heatmapgl\",\"colorbar\":{\"outlinewidth\":0,\"ticks\":\"\"},\"colorscale\":[[0.0,\"#0d0887\"],[0.1111111111111111,\"#46039f\"],[0.2222222222222222,\"#7201a8\"],[0.3333333333333333,\"#9c179e\"],[0.4444444444444444,\"#bd3786\"],[0.5555555555555556,\"#d8576b\"],[0.6666666666666666,\"#ed7953\"],[0.7777777777777778,\"#fb9f3a\"],[0.8888888888888888,\"#fdca26\"],[1.0,\"#f0f921\"]]}],\"contourcarpet\":[{\"type\":\"contourcarpet\",\"colorbar\":{\"outlinewidth\":0,\"ticks\":\"\"}}],\"contour\":[{\"type\":\"contour\",\"colorbar\":{\"outlinewidth\":0,\"ticks\":\"\"},\"colorscale\":[[0.0,\"#0d0887\"],[0.1111111111111111,\"#46039f\"],[0.2222222222222222,\"#7201a8\"],[0.3333333333333333,\"#9c179e\"],[0.4444444444444444,\"#bd3786\"],[0.5555555555555556,\"#d8576b\"],[0.6666666666666666,\"#ed7953\"],[0.7777777777777778,\"#fb9f3a\"],[0.8888888888888888,\"#fdca26\"],[1.0,\"#f0f921\"]]}],\"surface\":[{\"type\":\"surface\",\"colorbar\":{\"outlinewidth\":0,\"ticks\":\"\"},\"colorscale\":[[0.0,\"#0d0887\"],[0.1111111111111111,\"#46039f\"],[0.2222222222222222,\"#7201a8\"],[0.3333333333333333,\"#9c179e\"],[0.4444444444444444,\"#bd3786\"],[0.5555555555555556,\"#d8576b\"],[0.6666666666666666,\"#ed7953\"],[0.7777777777777778,\"#fb9f3a\"],[0.8888888888888888,\"#fdca26\"],[1.0,\"#f0f921\"]]}],\"mesh3d\":[{\"type\":\"mesh3d\",\"colorbar\":{\"outlinewidth\":0,\"ticks\":\"\"}}],\"scatter\":[{\"fillpattern\":{\"fillmode\":\"overlay\",\"size\":10,\"solidity\":0.2},\"type\":\"scatter\"}],\"parcoords\":[{\"type\":\"parcoords\",\"line\":{\"colorbar\":{\"outlinewidth\":0,\"ticks\":\"\"}}}],\"scatterpolargl\":[{\"type\":\"scatterpolargl\",\"marker\":{\"colorbar\":{\"outlinewidth\":0,\"ticks\":\"\"}}}],\"bar\":[{\"error_x\":{\"color\":\"#2a3f5f\"},\"error_y\":{\"color\":\"#2a3f5f\"},\"marker\":{\"line\":{\"color\":\"#E5ECF6\",\"width\":0.5},\"pattern\":{\"fillmode\":\"overlay\",\"size\":10,\"solidity\":0.2}},\"type\":\"bar\"}],\"scattergeo\":[{\"type\":\"scattergeo\",\"marker\":{\"colorbar\":{\"outlinewidth\":0,\"ticks\":\"\"}}}],\"scatterpolar\":[{\"type\":\"scatterpolar\",\"marker\":{\"colorbar\":{\"outlinewidth\":0,\"ticks\":\"\"}}}],\"histogram\":[{\"marker\":{\"pattern\":{\"fillmode\":\"overlay\",\"size\":10,\"solidity\":0.2}},\"type\":\"histogram\"}],\"scattergl\":[{\"type\":\"scattergl\",\"marker\":{\"colorbar\":{\"outlinewidth\":0,\"ticks\":\"\"}}}],\"scatter3d\":[{\"type\":\"scatter3d\",\"line\":{\"colorbar\":{\"outlinewidth\":0,\"ticks\":\"\"}},\"marker\":{\"colorbar\":{\"outlinewidth\":0,\"ticks\":\"\"}}}],\"scattermapbox\":[{\"type\":\"scattermapbox\",\"marker\":{\"colorbar\":{\"outlinewidth\":0,\"ticks\":\"\"}}}],\"scatterternary\":[{\"type\":\"scatterternary\",\"marker\":{\"colorbar\":{\"outlinewidth\":0,\"ticks\":\"\"}}}],\"scattercarpet\":[{\"type\":\"scattercarpet\",\"marker\":{\"colorbar\":{\"outlinewidth\":0,\"ticks\":\"\"}}}],\"carpet\":[{\"aaxis\":{\"endlinecolor\":\"#2a3f5f\",\"gridcolor\":\"white\",\"linecolor\":\"white\",\"minorgridcolor\":\"white\",\"startlinecolor\":\"#2a3f5f\"},\"baxis\":{\"endlinecolor\":\"#2a3f5f\",\"gridcolor\":\"white\",\"linecolor\":\"white\",\"minorgridcolor\":\"white\",\"startlinecolor\":\"#2a3f5f\"},\"type\":\"carpet\"}],\"table\":[{\"cells\":{\"fill\":{\"color\":\"#EBF0F8\"},\"line\":{\"color\":\"white\"}},\"header\":{\"fill\":{\"color\":\"#C8D4E3\"},\"line\":{\"color\":\"white\"}},\"type\":\"table\"}],\"barpolar\":[{\"marker\":{\"line\":{\"color\":\"#E5ECF6\",\"width\":0.5},\"pattern\":{\"fillmode\":\"overlay\",\"size\":10,\"solidity\":0.2}},\"type\":\"barpolar\"}],\"pie\":[{\"automargin\":true,\"type\":\"pie\"}]},\"layout\":{\"autotypenumbers\":\"strict\",\"colorway\":[\"#636efa\",\"#EF553B\",\"#00cc96\",\"#ab63fa\",\"#FFA15A\",\"#19d3f3\",\"#FF6692\",\"#B6E880\",\"#FF97FF\",\"#FECB52\"],\"font\":{\"color\":\"#2a3f5f\"},\"hovermode\":\"closest\",\"hoverlabel\":{\"align\":\"left\"},\"paper_bgcolor\":\"white\",\"plot_bgcolor\":\"#E5ECF6\",\"polar\":{\"bgcolor\":\"#E5ECF6\",\"angularaxis\":{\"gridcolor\":\"white\",\"linecolor\":\"white\",\"ticks\":\"\"},\"radialaxis\":{\"gridcolor\":\"white\",\"linecolor\":\"white\",\"ticks\":\"\"}},\"ternary\":{\"bgcolor\":\"#E5ECF6\",\"aaxis\":{\"gridcolor\":\"white\",\"linecolor\":\"white\",\"ticks\":\"\"},\"baxis\":{\"gridcolor\":\"white\",\"linecolor\":\"white\",\"ticks\":\"\"},\"caxis\":{\"gridcolor\":\"white\",\"linecolor\":\"white\",\"ticks\":\"\"}},\"coloraxis\":{\"colorbar\":{\"outlinewidth\":0,\"ticks\":\"\"}},\"colorscale\":{\"sequential\":[[0.0,\"#0d0887\"],[0.1111111111111111,\"#46039f\"],[0.2222222222222222,\"#7201a8\"],[0.3333333333333333,\"#9c179e\"],[0.4444444444444444,\"#bd3786\"],[0.5555555555555556,\"#d8576b\"],[0.6666666666666666,\"#ed7953\"],[0.7777777777777778,\"#fb9f3a\"],[0.8888888888888888,\"#fdca26\"],[1.0,\"#f0f921\"]],\"sequentialminus\":[[0.0,\"#0d0887\"],[0.1111111111111111,\"#46039f\"],[0.2222222222222222,\"#7201a8\"],[0.3333333333333333,\"#9c179e\"],[0.4444444444444444,\"#bd3786\"],[0.5555555555555556,\"#d8576b\"],[0.6666666666666666,\"#ed7953\"],[0.7777777777777778,\"#fb9f3a\"],[0.8888888888888888,\"#fdca26\"],[1.0,\"#f0f921\"]],\"diverging\":[[0,\"#8e0152\"],[0.1,\"#c51b7d\"],[0.2,\"#de77ae\"],[0.3,\"#f1b6da\"],[0.4,\"#fde0ef\"],[0.5,\"#f7f7f7\"],[0.6,\"#e6f5d0\"],[0.7,\"#b8e186\"],[0.8,\"#7fbc41\"],[0.9,\"#4d9221\"],[1,\"#276419\"]]},\"xaxis\":{\"gridcolor\":\"white\",\"linecolor\":\"white\",\"ticks\":\"\",\"title\":{\"standoff\":15},\"zerolinecolor\":\"white\",\"automargin\":true,\"zerolinewidth\":2},\"yaxis\":{\"gridcolor\":\"white\",\"linecolor\":\"white\",\"ticks\":\"\",\"title\":{\"standoff\":15},\"zerolinecolor\":\"white\",\"automargin\":true,\"zerolinewidth\":2},\"scene\":{\"xaxis\":{\"backgroundcolor\":\"#E5ECF6\",\"gridcolor\":\"white\",\"linecolor\":\"white\",\"showbackground\":true,\"ticks\":\"\",\"zerolinecolor\":\"white\",\"gridwidth\":2},\"yaxis\":{\"backgroundcolor\":\"#E5ECF6\",\"gridcolor\":\"white\",\"linecolor\":\"white\",\"showbackground\":true,\"ticks\":\"\",\"zerolinecolor\":\"white\",\"gridwidth\":2},\"zaxis\":{\"backgroundcolor\":\"#E5ECF6\",\"gridcolor\":\"white\",\"linecolor\":\"white\",\"showbackground\":true,\"ticks\":\"\",\"zerolinecolor\":\"white\",\"gridwidth\":2}},\"shapedefaults\":{\"line\":{\"color\":\"#2a3f5f\"}},\"annotationdefaults\":{\"arrowcolor\":\"#2a3f5f\",\"arrowhead\":0,\"arrowwidth\":1},\"geo\":{\"bgcolor\":\"white\",\"landcolor\":\"#E5ECF6\",\"subunitcolor\":\"white\",\"showland\":true,\"showlakes\":true,\"lakecolor\":\"white\"},\"title\":{\"x\":0.05},\"mapbox\":{\"style\":\"light\"}}},\"xaxis\":{\"anchor\":\"y\",\"domain\":[0.0,1.0],\"title\":{\"text\":\"x\"}},\"yaxis\":{\"anchor\":\"x\",\"domain\":[0.0,1.0],\"title\":{\"text\":\"y\"}},\"legend\":{\"title\":{\"text\":\"astrocyte descendants\"},\"tracegroupgap\":0},\"margin\":{\"t\":60},\"height\":500,\"width\":750},                        {\"responsive\": true}                    ).then(function(){\n",
       "                            \n",
       "var gd = document.getElementById('06f3c356-f408-4155-88ea-7d31fc80e33b');\n",
       "var x = new MutationObserver(function (mutations, observer) {{\n",
       "        var display = window.getComputedStyle(gd).display;\n",
       "        if (!display || display === 'none') {{\n",
       "            console.log([gd, 'removed!']);\n",
       "            Plotly.purge(gd);\n",
       "            observer.disconnect();\n",
       "        }}\n",
       "}});\n",
       "\n",
       "// Listen for the removal of the full notebook cells\n",
       "var notebookContainer = gd.closest('#notebook-container');\n",
       "if (notebookContainer) {{\n",
       "    x.observe(notebookContainer, {childList: true});\n",
       "}}\n",
       "\n",
       "// Listen for the clearing of the current output cell\n",
       "var outputEl = gd.closest('.output');\n",
       "if (outputEl) {{\n",
       "    x.observe(outputEl, {childList: true});\n",
       "}}\n",
       "\n",
       "                        })                };                });            </script>        </div>"
      ]
     },
     "metadata": {},
     "output_type": "display_data"
    }
   ],
   "source": [
    "# plt.scatter(X_ct_umap[:,0], X_ct_umap[:,1])\n",
    "\n",
    "label_to_color = 'astrocyte'\n",
    "cl_name = cl_label2name[label_to_color]\n",
    "descendants = cell_type_benchmarking[cl_name]['all_descendants']\n",
    "pd_tree_col = []\n",
    "pd_tree_size_col = []\n",
    "for cl_label in cell_type_labels:\n",
    "    if cl_label2name[cl_label] in descendants or cl_label == label_to_color:\n",
    "        pd_tree_col.append(cl_label)\n",
    "        pd_tree_size_col.append(2.0)\n",
    "    else:\n",
    "        pd_tree_col.append(f'NOT IN {label_to_color.upper()} DESCENDANTS')\n",
    "        pd_tree_size_col.append(0.5)\n",
    "\n",
    "df = pd.DataFrame({'x': X_ct_umap[:,0], 'y': X_ct_umap[:, 1], 'label': cell_type_labels, f'{label_to_color} descendants': pd_tree_col})\n",
    "\n",
    "fig = px.scatter(df, x='x', y='y', hover_data='label', width=750, height=500, color=f'{label_to_color} descendants')\n",
    "fig.show()"
   ]
  },
  {
   "cell_type": "code",
   "execution_count": null,
   "metadata": {},
   "outputs": [
    {
     "name": "stderr",
     "output_type": "stream",
     "text": [
      "/tmp/ipykernel_290983/2620288918.py:2: UserWarning: No data for colormapping provided via 'c'. Parameters 'cmap' will be ignored\n",
      "  plt.scatter(hyperbolic_mapper.embedding_.T[0],\n"
     ]
    },
    {
     "data": {
      "text/plain": [
       "<matplotlib.collections.PathCollection at 0x7f00faa4d420>"
      ]
     },
     "execution_count": 25,
     "metadata": {},
     "output_type": "execute_result"
    },
    {
     "data": {
      "image/png": "[encoded data removed]",
      "text/plain": [
       "<Figure size 320x320 with 1 Axes>"
      ]
     },
     "metadata": {
      "image/png": {
       "height": 281,
       "width": 293
      }
     },
     "output_type": "display_data"
    }
   ],
   "source": [
    "hyperbolic_mapper = umap.UMAP(output_metric='hyperboloid').fit(cell_type_embedding)\n",
    "plt.scatter(hyperbolic_mapper.embedding_.T[0],\n",
    "            hyperbolic_mapper.embedding_.T[1])"
   ]
  },
  {
   "cell_type": "code",
   "execution_count": 26,
   "metadata": {},
   "outputs": [],
   "source": [
    "x = hyperbolic_mapper.embedding_[:, 0]\n",
    "y = hyperbolic_mapper.embedding_[:, 1]\n",
    "z = np.sqrt(1 + np.sum(hyperbolic_mapper.embedding_**2, axis=1))\n",
    "\n",
    "disk_x = x / (1 + z)\n",
    "disk_y = y / (1 + z)"
   ]
  },
  {
   "cell_type": "code",
   "execution_count": 30,
   "metadata": {},
   "outputs": [
    {
     "data": {
      "text/plain": [
       "<matplotlib.patches.Circle at 0x7f00fa6b7550>"
      ]
     },
     "execution_count": 30,
     "metadata": {},
     "output_type": "execute_result"
    },
    {
     "data": {
      "image/png": "[encoded data removed]",
      "text/plain": [
       "<Figure size 320x320 with 1 Axes>"
      ]
     },
     "metadata": {
      "image/png": {
       "height": 281,
       "width": 305
      }
     },
     "output_type": "display_data"
    }
   ],
   "source": [
    "fig = plt.figure()\n",
    "ax = fig.add_subplot(111)\n",
    "ax.scatter(disk_x, disk_y)\n",
    "boundary = plt.Circle((0,0), 1, fc='none', ec='k')\n",
    "ax.add_artist(boundary)\n",
    "# ax.axis('off');"
   ]
  },
  {
   "cell_type": "code",
   "execution_count": null,
   "metadata": {},
   "outputs": [],
   "source": []
  }
 ],
 "metadata": {
  "kernelspec": {
   "display_name": "Python 3 (ipykernel)",
   "language": "python",
   "name": "python3"
  },
  "language_info": {
   "codemirror_mode": {
    "name": "ipython",
    "version": 3
   },
   "file_extension": ".py",
   "mimetype": "text/x-python",
   "name": "python",
   "nbconvert_exporter": "python",
   "pygments_lexer": "ipython3",
   "version": "3.10.4"
  }
 },
 "nbformat": 4,
 "nbformat_minor": 2
}
