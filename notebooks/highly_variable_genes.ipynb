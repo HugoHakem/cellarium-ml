{
 "cells": [
  {
   "cell_type": "markdown",
   "metadata": {},
   "source": [
    "# `cellarium-ml` highly variable genes"
   ]
  },
  {
   "cell_type": "markdown",
   "metadata": {},
   "source": [
    "2024.12.02\n",
    "\n",
    "Stephen Fleming"
   ]
  },
  {
   "cell_type": "markdown",
   "metadata": {},
   "source": [
    "Pre-requisite:\n",
    "\n",
    "Run `onepass_mean_var_std` by using a command like\n",
    "\n",
    "```bash\n",
    "(cellarium) $ cellarium-ml onepass_mean_var_std fit -c onepass_config.yaml\n",
    "```"
   ]
  },
  {
   "cell_type": "code",
   "execution_count": 12,
   "metadata": {},
   "outputs": [],
   "source": [
    "# fill this in\n",
    "\n",
    "onepass_checkpoint = '/home/sfleming/nmf/lightning_logs/version_0/checkpoints/epoch=0-step=2425.ckpt'"
   ]
  },
  {
   "cell_type": "code",
   "execution_count": 13,
   "metadata": {},
   "outputs": [],
   "source": [
    "from cellarium.ml.preprocessing import get_highly_variable_genes\n",
    "from cellarium.ml import CellariumModule"
   ]
  },
  {
   "cell_type": "code",
   "execution_count": 14,
   "metadata": {},
   "outputs": [
    {
     "data": {
      "text/plain": [
       "CellariumModule(pipeline = CellariumPipeline(\n",
       "  (0): NormalizeTotal(target_count=10000, eps=1e-06)\n",
       "  (1): Log1p()\n",
       "  (2): OnePassMeanVarStd()\n",
       "))"
      ]
     },
     "execution_count": 14,
     "metadata": {},
     "output_type": "execute_result"
    }
   ],
   "source": [
    "module = CellariumModule.load_from_checkpoint(onepass_checkpoint)\n",
    "module"
   ]
  },
  {
   "cell_type": "code",
   "execution_count": 22,
   "metadata": {},
   "outputs": [
    {
     "data": {
      "text/plain": [
       "array(['ENSG00000148156', 'ENSG00000147081', 'ENSG00000163283', ...,\n",
       "       'ENSG00000211917', 'ENSG00000253709', 'ENSG00000254220'],\n",
       "      dtype=object)"
      ]
     },
     "execution_count": 22,
     "metadata": {},
     "output_type": "execute_result"
    }
   ],
   "source": [
    "module.model.var_names_g"
   ]
  },
  {
   "cell_type": "code",
   "execution_count": 23,
   "metadata": {},
   "outputs": [
    {
     "data": {
      "text/plain": [
       "tensor([5.2306e-05, 3.0378e-05, 8.3388e-05,  ..., 1.1868e-07, 2.0085e-07,\n",
       "        3.3028e-07], device='cuda:0')"
      ]
     },
     "execution_count": 23,
     "metadata": {},
     "output_type": "execute_result"
    }
   ],
   "source": [
    "module.model.mean_g"
   ]
  },
  {
   "cell_type": "code",
   "execution_count": 24,
   "metadata": {},
   "outputs": [
    {
     "data": {
      "text/plain": [
       "tensor([3.6543e-05, 2.1972e-05, 6.1024e-05,  ..., 3.4973e-08, 1.0018e-07,\n",
       "        2.7088e-07], device='cuda:0')"
      ]
     },
     "execution_count": 24,
     "metadata": {},
     "output_type": "execute_result"
    }
   ],
   "source": [
    "module.model.var_g"
   ]
  },
  {
   "cell_type": "code",
   "execution_count": 29,
   "metadata": {},
   "outputs": [],
   "source": [
    "hvg_df = get_highly_variable_genes(\n",
    "    gene_names=module.model.var_names_g.astype(str),\n",
    "    mean=module.model.mean_g.detach().cpu(),\n",
    "    var=module.model.var_g.detach().cpu(),\n",
    "    n_top_genes=3000,\n",
    ")"
   ]
  },
  {
   "cell_type": "code",
   "execution_count": 30,
   "metadata": {},
   "outputs": [
    {
     "data": {
      "text/html": [
       "<div>\n",
       "<style scoped>\n",
       "    .dataframe tbody tr th:only-of-type {\n",
       "        vertical-align: middle;\n",
       "    }\n",
       "\n",
       "    .dataframe tbody tr th {\n",
       "        vertical-align: top;\n",
       "    }\n",
       "\n",
       "    .dataframe thead th {\n",
       "        text-align: right;\n",
       "    }\n",
       "</style>\n",
       "<table border=\"1\" class=\"dataframe\">\n",
       "  <thead>\n",
       "    <tr style=\"text-align: right;\">\n",
       "      <th></th>\n",
       "      <th>means</th>\n",
       "      <th>dispersions</th>\n",
       "      <th>mean_bin</th>\n",
       "      <th>dispersions_norm</th>\n",
       "      <th>highly_variable</th>\n",
       "    </tr>\n",
       "  </thead>\n",
       "  <tbody>\n",
       "    <tr>\n",
       "      <th>ENSG00000148156</th>\n",
       "      <td>5.230453e-05</td>\n",
       "      <td>-0.358630</td>\n",
       "      <td>(-0.0019, 0.095]</td>\n",
       "      <td>0.005601</td>\n",
       "      <td>False</td>\n",
       "    </tr>\n",
       "    <tr>\n",
       "      <th>ENSG00000147081</th>\n",
       "      <td>3.037773e-05</td>\n",
       "      <td>-0.323947</td>\n",
       "      <td>(-0.0019, 0.095]</td>\n",
       "      <td>0.116389</td>\n",
       "      <td>False</td>\n",
       "    </tr>\n",
       "    <tr>\n",
       "      <th>ENSG00000163283</th>\n",
       "      <td>8.338425e-05</td>\n",
       "      <td>-0.312237</td>\n",
       "      <td>(-0.0019, 0.095]</td>\n",
       "      <td>0.153795</td>\n",
       "      <td>False</td>\n",
       "    </tr>\n",
       "    <tr>\n",
       "      <th>ENSG00000237763</th>\n",
       "      <td>4.751006e-05</td>\n",
       "      <td>-0.474944</td>\n",
       "      <td>(-0.0019, 0.095]</td>\n",
       "      <td>-0.365940</td>\n",
       "      <td>False</td>\n",
       "    </tr>\n",
       "    <tr>\n",
       "      <th>ENSG00000174876</th>\n",
       "      <td>8.168856e-06</td>\n",
       "      <td>-0.463825</td>\n",
       "      <td>(-0.0019, 0.095]</td>\n",
       "      <td>-0.330422</td>\n",
       "      <td>False</td>\n",
       "    </tr>\n",
       "    <tr>\n",
       "      <th>...</th>\n",
       "      <td>...</td>\n",
       "      <td>...</td>\n",
       "      <td>...</td>\n",
       "      <td>...</td>\n",
       "      <td>...</td>\n",
       "    </tr>\n",
       "    <tr>\n",
       "      <th>ENSG00000211825</th>\n",
       "      <td>8.412861e-07</td>\n",
       "      <td>0.736703</td>\n",
       "      <td>(-0.0019, 0.095]</td>\n",
       "      <td>3.504417</td>\n",
       "      <td>True</td>\n",
       "    </tr>\n",
       "    <tr>\n",
       "      <th>ENSG00000182776</th>\n",
       "      <td>8.550716e-08</td>\n",
       "      <td>-1.549629</td>\n",
       "      <td>(-0.0019, 0.095]</td>\n",
       "      <td>-3.798798</td>\n",
       "      <td>False</td>\n",
       "    </tr>\n",
       "    <tr>\n",
       "      <th>ENSG00000211917</th>\n",
       "      <td>1.186767e-07</td>\n",
       "      <td>-1.221826</td>\n",
       "      <td>(-0.0019, 0.095]</td>\n",
       "      <td>-2.751700</td>\n",
       "      <td>False</td>\n",
       "    </tr>\n",
       "    <tr>\n",
       "      <th>ENSG00000253709</th>\n",
       "      <td>2.008544e-07</td>\n",
       "      <td>-0.695649</td>\n",
       "      <td>(-0.0019, 0.095]</td>\n",
       "      <td>-1.070936</td>\n",
       "      <td>False</td>\n",
       "    </tr>\n",
       "    <tr>\n",
       "      <th>ENSG00000254220</th>\n",
       "      <td>3.302810e-07</td>\n",
       "      <td>-0.198285</td>\n",
       "      <td>(-0.0019, 0.095]</td>\n",
       "      <td>0.517790</td>\n",
       "      <td>False</td>\n",
       "    </tr>\n",
       "  </tbody>\n",
       "</table>\n",
       "<p>38046 rows × 5 columns</p>\n",
       "</div>"
      ],
      "text/plain": [
       "                        means  dispersions  ... dispersions_norm  highly_variable\n",
       "ENSG00000148156  5.230453e-05    -0.358630  ...         0.005601            False\n",
       "ENSG00000147081  3.037773e-05    -0.323947  ...         0.116389            False\n",
       "ENSG00000163283  8.338425e-05    -0.312237  ...         0.153795            False\n",
       "ENSG00000237763  4.751006e-05    -0.474944  ...        -0.365940            False\n",
       "ENSG00000174876  8.168856e-06    -0.463825  ...        -0.330422            False\n",
       "...                       ...          ...  ...              ...              ...\n",
       "ENSG00000211825  8.412861e-07     0.736703  ...         3.504417             True\n",
       "ENSG00000182776  8.550716e-08    -1.549629  ...        -3.798798            False\n",
       "ENSG00000211917  1.186767e-07    -1.221826  ...        -2.751700            False\n",
       "ENSG00000253709  2.008544e-07    -0.695649  ...        -1.070936            False\n",
       "ENSG00000254220  3.302810e-07    -0.198285  ...         0.517790            False\n",
       "\n",
       "[38046 rows x 5 columns]"
      ]
     },
     "execution_count": 30,
     "metadata": {},
     "output_type": "execute_result"
    }
   ],
   "source": [
    "hvg_df"
   ]
  },
  {
   "cell_type": "code",
   "execution_count": 31,
   "metadata": {},
   "outputs": [
    {
     "data": {
      "text/html": [
       "<div>\n",
       "<style scoped>\n",
       "    .dataframe tbody tr th:only-of-type {\n",
       "        vertical-align: middle;\n",
       "    }\n",
       "\n",
       "    .dataframe tbody tr th {\n",
       "        vertical-align: top;\n",
       "    }\n",
       "\n",
       "    .dataframe thead th {\n",
       "        text-align: right;\n",
       "    }\n",
       "</style>\n",
       "<table border=\"1\" class=\"dataframe\">\n",
       "  <thead>\n",
       "    <tr style=\"text-align: right;\">\n",
       "      <th></th>\n",
       "      <th>means</th>\n",
       "      <th>dispersions</th>\n",
       "      <th>mean_bin</th>\n",
       "      <th>dispersions_norm</th>\n",
       "      <th>highly_variable</th>\n",
       "    </tr>\n",
       "  </thead>\n",
       "  <tbody>\n",
       "    <tr>\n",
       "      <th>ENSG00000230539</th>\n",
       "      <td>9.082461e-05</td>\n",
       "      <td>0.297573</td>\n",
       "      <td>(-0.0019, 0.095]</td>\n",
       "      <td>2.101706</td>\n",
       "      <td>True</td>\n",
       "    </tr>\n",
       "    <tr>\n",
       "      <th>ENSG00000164047</th>\n",
       "      <td>2.179779e-05</td>\n",
       "      <td>0.147694</td>\n",
       "      <td>(-0.0019, 0.095]</td>\n",
       "      <td>1.622950</td>\n",
       "      <td>True</td>\n",
       "    </tr>\n",
       "    <tr>\n",
       "      <th>ENSG00000276409</th>\n",
       "      <td>8.754482e-05</td>\n",
       "      <td>0.269194</td>\n",
       "      <td>(-0.0019, 0.095]</td>\n",
       "      <td>2.011055</td>\n",
       "      <td>True</td>\n",
       "    </tr>\n",
       "    <tr>\n",
       "      <th>ENSG00000108700</th>\n",
       "      <td>3.136903e-04</td>\n",
       "      <td>0.770400</td>\n",
       "      <td>(-0.0019, 0.095]</td>\n",
       "      <td>3.612054</td>\n",
       "      <td>True</td>\n",
       "    </tr>\n",
       "    <tr>\n",
       "      <th>ENSG00000255521</th>\n",
       "      <td>1.799595e-04</td>\n",
       "      <td>0.137865</td>\n",
       "      <td>(-0.0019, 0.095]</td>\n",
       "      <td>1.591551</td>\n",
       "      <td>True</td>\n",
       "    </tr>\n",
       "    <tr>\n",
       "      <th>...</th>\n",
       "      <td>...</td>\n",
       "      <td>...</td>\n",
       "      <td>...</td>\n",
       "      <td>...</td>\n",
       "      <td>...</td>\n",
       "    </tr>\n",
       "    <tr>\n",
       "      <th>ENSG00000258453</th>\n",
       "      <td>6.063096e-07</td>\n",
       "      <td>0.294720</td>\n",
       "      <td>(-0.0019, 0.095]</td>\n",
       "      <td>2.092593</td>\n",
       "      <td>True</td>\n",
       "    </tr>\n",
       "    <tr>\n",
       "      <th>ENSG00000211766</th>\n",
       "      <td>6.274480e-07</td>\n",
       "      <td>0.443432</td>\n",
       "      <td>(-0.0019, 0.095]</td>\n",
       "      <td>2.567623</td>\n",
       "      <td>True</td>\n",
       "    </tr>\n",
       "    <tr>\n",
       "      <th>ENSG00000185926</th>\n",
       "      <td>5.686792e-07</td>\n",
       "      <td>0.345088</td>\n",
       "      <td>(-0.0019, 0.095]</td>\n",
       "      <td>2.253483</td>\n",
       "      <td>True</td>\n",
       "    </tr>\n",
       "    <tr>\n",
       "      <th>ENSG00000211790</th>\n",
       "      <td>3.100428e-06</td>\n",
       "      <td>0.993262</td>\n",
       "      <td>(-0.0019, 0.095]</td>\n",
       "      <td>4.323941</td>\n",
       "      <td>True</td>\n",
       "    </tr>\n",
       "    <tr>\n",
       "      <th>ENSG00000211825</th>\n",
       "      <td>8.412861e-07</td>\n",
       "      <td>0.736703</td>\n",
       "      <td>(-0.0019, 0.095]</td>\n",
       "      <td>3.504417</td>\n",
       "      <td>True</td>\n",
       "    </tr>\n",
       "  </tbody>\n",
       "</table>\n",
       "<p>3000 rows × 5 columns</p>\n",
       "</div>"
      ],
      "text/plain": [
       "                        means  dispersions  ... dispersions_norm  highly_variable\n",
       "ENSG00000230539  9.082461e-05     0.297573  ...         2.101706             True\n",
       "ENSG00000164047  2.179779e-05     0.147694  ...         1.622950             True\n",
       "ENSG00000276409  8.754482e-05     0.269194  ...         2.011055             True\n",
       "ENSG00000108700  3.136903e-04     0.770400  ...         3.612054             True\n",
       "ENSG00000255521  1.799595e-04     0.137865  ...         1.591551             True\n",
       "...                       ...          ...  ...              ...              ...\n",
       "ENSG00000258453  6.063096e-07     0.294720  ...         2.092593             True\n",
       "ENSG00000211766  6.274480e-07     0.443432  ...         2.567623             True\n",
       "ENSG00000185926  5.686792e-07     0.345088  ...         2.253483             True\n",
       "ENSG00000211790  3.100428e-06     0.993262  ...         4.323941             True\n",
       "ENSG00000211825  8.412861e-07     0.736703  ...         3.504417             True\n",
       "\n",
       "[3000 rows x 5 columns]"
      ]
     },
     "execution_count": 31,
     "metadata": {},
     "output_type": "execute_result"
    }
   ],
   "source": [
    "hvg_df[hvg_df['highly_variable']]"
   ]
  },
  {
   "cell_type": "code",
   "execution_count": 32,
   "metadata": {},
   "outputs": [],
   "source": [
    "hvg_df['ensembl_id'] = hvg_df.index.copy()"
   ]
  },
  {
   "cell_type": "code",
   "execution_count": 33,
   "metadata": {},
   "outputs": [
    {
     "data": {
      "text/html": [
       "<div>\n",
       "<style scoped>\n",
       "    .dataframe tbody tr th:only-of-type {\n",
       "        vertical-align: middle;\n",
       "    }\n",
       "\n",
       "    .dataframe tbody tr th {\n",
       "        vertical-align: top;\n",
       "    }\n",
       "\n",
       "    .dataframe thead th {\n",
       "        text-align: right;\n",
       "    }\n",
       "</style>\n",
       "<table border=\"1\" class=\"dataframe\">\n",
       "  <thead>\n",
       "    <tr style=\"text-align: right;\">\n",
       "      <th></th>\n",
       "      <th>means</th>\n",
       "      <th>dispersions</th>\n",
       "      <th>mean_bin</th>\n",
       "      <th>dispersions_norm</th>\n",
       "      <th>highly_variable</th>\n",
       "      <th>ensembl_id</th>\n",
       "    </tr>\n",
       "  </thead>\n",
       "  <tbody>\n",
       "    <tr>\n",
       "      <th>ENSG00000230539</th>\n",
       "      <td>9.082461e-05</td>\n",
       "      <td>0.297573</td>\n",
       "      <td>(-0.0019, 0.095]</td>\n",
       "      <td>2.101706</td>\n",
       "      <td>True</td>\n",
       "      <td>ENSG00000230539</td>\n",
       "    </tr>\n",
       "    <tr>\n",
       "      <th>ENSG00000164047</th>\n",
       "      <td>2.179779e-05</td>\n",
       "      <td>0.147694</td>\n",
       "      <td>(-0.0019, 0.095]</td>\n",
       "      <td>1.622950</td>\n",
       "      <td>True</td>\n",
       "      <td>ENSG00000164047</td>\n",
       "    </tr>\n",
       "    <tr>\n",
       "      <th>ENSG00000276409</th>\n",
       "      <td>8.754482e-05</td>\n",
       "      <td>0.269194</td>\n",
       "      <td>(-0.0019, 0.095]</td>\n",
       "      <td>2.011055</td>\n",
       "      <td>True</td>\n",
       "      <td>ENSG00000276409</td>\n",
       "    </tr>\n",
       "    <tr>\n",
       "      <th>ENSG00000108700</th>\n",
       "      <td>3.136903e-04</td>\n",
       "      <td>0.770400</td>\n",
       "      <td>(-0.0019, 0.095]</td>\n",
       "      <td>3.612054</td>\n",
       "      <td>True</td>\n",
       "      <td>ENSG00000108700</td>\n",
       "    </tr>\n",
       "    <tr>\n",
       "      <th>ENSG00000255521</th>\n",
       "      <td>1.799595e-04</td>\n",
       "      <td>0.137865</td>\n",
       "      <td>(-0.0019, 0.095]</td>\n",
       "      <td>1.591551</td>\n",
       "      <td>True</td>\n",
       "      <td>ENSG00000255521</td>\n",
       "    </tr>\n",
       "    <tr>\n",
       "      <th>...</th>\n",
       "      <td>...</td>\n",
       "      <td>...</td>\n",
       "      <td>...</td>\n",
       "      <td>...</td>\n",
       "      <td>...</td>\n",
       "      <td>...</td>\n",
       "    </tr>\n",
       "    <tr>\n",
       "      <th>ENSG00000258453</th>\n",
       "      <td>6.063096e-07</td>\n",
       "      <td>0.294720</td>\n",
       "      <td>(-0.0019, 0.095]</td>\n",
       "      <td>2.092593</td>\n",
       "      <td>True</td>\n",
       "      <td>ENSG00000258453</td>\n",
       "    </tr>\n",
       "    <tr>\n",
       "      <th>ENSG00000211766</th>\n",
       "      <td>6.274480e-07</td>\n",
       "      <td>0.443432</td>\n",
       "      <td>(-0.0019, 0.095]</td>\n",
       "      <td>2.567623</td>\n",
       "      <td>True</td>\n",
       "      <td>ENSG00000211766</td>\n",
       "    </tr>\n",
       "    <tr>\n",
       "      <th>ENSG00000185926</th>\n",
       "      <td>5.686792e-07</td>\n",
       "      <td>0.345088</td>\n",
       "      <td>(-0.0019, 0.095]</td>\n",
       "      <td>2.253483</td>\n",
       "      <td>True</td>\n",
       "      <td>ENSG00000185926</td>\n",
       "    </tr>\n",
       "    <tr>\n",
       "      <th>ENSG00000211790</th>\n",
       "      <td>3.100428e-06</td>\n",
       "      <td>0.993262</td>\n",
       "      <td>(-0.0019, 0.095]</td>\n",
       "      <td>4.323941</td>\n",
       "      <td>True</td>\n",
       "      <td>ENSG00000211790</td>\n",
       "    </tr>\n",
       "    <tr>\n",
       "      <th>ENSG00000211825</th>\n",
       "      <td>8.412861e-07</td>\n",
       "      <td>0.736703</td>\n",
       "      <td>(-0.0019, 0.095]</td>\n",
       "      <td>3.504417</td>\n",
       "      <td>True</td>\n",
       "      <td>ENSG00000211825</td>\n",
       "    </tr>\n",
       "  </tbody>\n",
       "</table>\n",
       "<p>3000 rows × 6 columns</p>\n",
       "</div>"
      ],
      "text/plain": [
       "                        means  dispersions  ... highly_variable       ensembl_id\n",
       "ENSG00000230539  9.082461e-05     0.297573  ...            True  ENSG00000230539\n",
       "ENSG00000164047  2.179779e-05     0.147694  ...            True  ENSG00000164047\n",
       "ENSG00000276409  8.754482e-05     0.269194  ...            True  ENSG00000276409\n",
       "ENSG00000108700  3.136903e-04     0.770400  ...            True  ENSG00000108700\n",
       "ENSG00000255521  1.799595e-04     0.137865  ...            True  ENSG00000255521\n",
       "...                       ...          ...  ...             ...              ...\n",
       "ENSG00000258453  6.063096e-07     0.294720  ...            True  ENSG00000258453\n",
       "ENSG00000211766  6.274480e-07     0.443432  ...            True  ENSG00000211766\n",
       "ENSG00000185926  5.686792e-07     0.345088  ...            True  ENSG00000185926\n",
       "ENSG00000211790  3.100428e-06     0.993262  ...            True  ENSG00000211790\n",
       "ENSG00000211825  8.412861e-07     0.736703  ...            True  ENSG00000211825\n",
       "\n",
       "[3000 rows x 6 columns]"
      ]
     },
     "execution_count": 33,
     "metadata": {},
     "output_type": "execute_result"
    }
   ],
   "source": [
    "hvg_df[hvg_df['highly_variable']]"
   ]
  },
  {
   "cell_type": "code",
   "execution_count": null,
   "metadata": {},
   "outputs": [],
   "source": [
    "hvg_df[hvg_df['highly_variable']]['ensembl_id'].to_csv('hvg.csv', index=False)"
   ]
  },
  {
   "cell_type": "code",
   "execution_count": null,
   "metadata": {},
   "outputs": [
    {
     "name": "stdout",
     "output_type": "stream",
     "text": [
      "ensembl_id\n",
      "ENSG00000230539\n",
      "ENSG00000164047\n",
      "ENSG00000276409\n",
      "ENSG00000108700\n",
      "ENSG00000255521\n",
      "ENSG00000254693\n",
      "ENSG00000138755\n",
      "ENSG00000181552\n",
      "ENSG00000197665\n"
     ]
    }
   ],
   "source": [
    "!head hvg.csv"
   ]
  },
  {
   "cell_type": "code",
   "execution_count": 37,
   "metadata": {},
   "outputs": [
    {
     "name": "stdout",
     "output_type": "stream",
     "text": [
      "3001 /home/sfleming/nmf/hvg.csv\n"
     ]
    }
   ],
   "source": [
    "!wc -l /home/sfleming/nmf/hvg.csv"
   ]
  },
  {
   "cell_type": "code",
   "execution_count": null,
   "metadata": {},
   "outputs": [],
   "source": []
  }
 ],
 "metadata": {
  "kernelspec": {
   "display_name": "cellarium",
   "language": "python",
   "name": "python3"
  },
  "language_info": {
   "codemirror_mode": {
    "name": "ipython",
    "version": 3
   },
   "file_extension": ".py",
   "mimetype": "text/x-python",
   "name": "python",
   "nbconvert_exporter": "python",
   "pygments_lexer": "ipython3",
   "version": "3.10.13"
  }
 },
 "nbformat": 4,
 "nbformat_minor": 2
}
