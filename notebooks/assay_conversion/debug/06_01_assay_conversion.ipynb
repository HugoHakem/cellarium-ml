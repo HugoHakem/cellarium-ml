{
 "cells": [
  {
   "cell_type": "code",
   "execution_count": 1,
   "metadata": {},
   "outputs": [
    {
     "name": "stderr",
     "output_type": "stream",
     "text": [
      "2025-03-20 13:22:55.001348: I tensorflow/core/platform/cpu_feature_guard.cc:210] This TensorFlow binary is optimized to use available CPU instructions in performance-critical operations.\n",
      "To enable the following instructions: AVX2 FMA, in other operations, rebuild TensorFlow with the appropriate compiler flags.\n",
      "2025-03-20 13:22:58.236811: W tensorflow/compiler/tf2tensorrt/utils/py_utils.cc:38] TF-TRT Warning: Could not find TensorRT\n"
     ]
    }
   ],
   "source": [
    "import os\n",
    "import argparse\n",
    "import math\n",
    "import torch\n",
    "import pickle\n",
    "import warnings\n",
    "import numpy as np\n",
    "import scanpy as sc\n",
    "import pandas as pd\n",
    "import matplotlib.pyplot as plt\n",
    "from braceexpand import braceexpand\n",
    "from tqdm import tqdm\n",
    "import multiprocessing as mp\n",
    "from copy import copy\n",
    "\n",
    "# for flex attention\n",
    "import torch._dynamo\n",
    "import torch.multiprocessing as mp \n",
    "torch._dynamo.config.suppress_errors = True\n",
    "\n",
    "sc.set_figure_params(figsize=(4, 4))\n",
    "\n",
    "from cellarium.ml.utilities.inference.cellarium_gpt_inference import \\\n",
    "    CellariumGPTInferenceContext, \\\n",
    "    GeneNetworkAnalysisBase"
   ]
  },
  {
   "cell_type": "code",
   "execution_count": 2,
   "metadata": {},
   "outputs": [],
   "source": [
    "gene_ontology_infos = dict()\n",
    "\n",
    "assay_labels = [\n",
    "    \"Seq-Well\",\n",
    "    \"10x 3' v3\",\n",
    "    \"SPLiT-seq\",\n",
    "    \"Smart-seq v4\",\n",
    "    \"Drop-seq\",\n",
    "    \"sci-RNA-seq\",\n",
    "    \"10x 5' v2\",\n",
    "    \"10x 5' transcription profiling\",\n",
    "    \"inDrop\",\n",
    "    \"microwell-seq\",\n",
    "    \"10x multiome\",\n",
    "    \"10x 3' v1\",\n",
    "    \"ScaleBio single cell RNA sequencing\",\n",
    "    \"Smart-seq2\",\n",
    "    \"10x 3' transcription profiling\",\n",
    "    \"Seq-Well S3\",\n",
    "    \"10x 3' v2\",\n",
    "    \"MARS-seq\",\n",
    "    \"10x 5' v1\"\n",
    "]\n",
    "\n",
    "assay_ontology_term_ids = [\n",
    "    \"EFO:0008919\",\n",
    "    \"EFO:0009922\",\n",
    "    \"EFO:0009919\",\n",
    "    \"EFO:0700016\",\n",
    "    \"EFO:0008722\",\n",
    "    \"EFO:0010550\",\n",
    "    \"EFO:0009900\",\n",
    "    \"EFO:0030004\",\n",
    "    \"EFO:0008780\",\n",
    "    \"EFO:0030002\",\n",
    "    \"EFO:0030059\",\n",
    "    \"EFO:0009901\",\n",
    "    \"EFO:0022490\",\n",
    "    \"EFO:0008931\",\n",
    "    \"EFO:0030003\",\n",
    "    \"EFO:0030019\",\n",
    "    \"EFO:0009899\",\n",
    "    \"EFO:0008796\",\n",
    "    \"EFO:0011025\"\n",
    "]\n",
    "\n",
    "gene_ontology_infos[\"assay_ontology_term_id\"] = dict()\n",
    "gene_ontology_infos[\"assay_ontology_term_id\"][\"names\"] = assay_ontology_term_ids\n",
    "gene_ontology_infos[\"assay_ontology_term_id\"][\"labels\"] = assay_labels\n",
    "\n",
    "gene_ontology_infos[\"suspension_type\"] = dict()\n",
    "gene_ontology_infos[\"suspension_type\"][\"names\"] = [\"nucleus\", \"cell\"]\n",
    "gene_ontology_infos[\"suspension_type\"][\"labels\"] = [\"nucleus\", \"cell\"]"
   ]
  },
  {
   "cell_type": "code",
   "execution_count": 40,
   "metadata": {},
   "outputs": [],
   "source": [
    "ROOT_PATH = \"/work/hdd/bbjr/mallina1/data/mb-ml-dev-vm\"\n",
    "\n",
    "ADATA_FP = '/work/hdd/bbjr/mallina1/data/mb-ml-dev-vm/data/pbmc_adata.h5ad'\n",
    "REF_ADATA_FP = '/work/hdd/bbjr/mallina1/data/mb-ml-dev-vm/data/extract_0.h5ad'\n",
    "GENE_INFO_PATH = os.path.join(ROOT_PATH, \"gene_info\", \"gene_info.tsv\")\n",
    "CHECKPOINT_PATH = \"/work/hdd/bbjr/mallina1/cellarium/models/compute_optimal_checkpoints/epoch=6-step=63560.ckpt\"\n",
    "DEVICE = 'cuda'\n",
    "\n",
    "assay_label_map = {\n",
    "    \"10x Chromium (v2) A\": \"10x 3' v2\",\n",
    "    \"10x Chromium (v2) B\": \"10x 3' v2\",\n",
    "    \"10x Chromium (v3)\": \"10x 3' v3\",\n",
    "    \"Drop-seq\": \"Drop-seq\",\n",
    "    \"Seq-Well\": \"Seq-Well\",\n",
    "    \"inDrops\": \"inDrop\"\n",
    "}\n",
    "\n",
    "assay_ontology_term_id_map = {\n",
    "    \"Seq-Well\": \"EFO:0008919\",\n",
    "    \"10x 3' v3\": \"EFO:0009922\",\n",
    "    \"Drop-seq\": \"EFO:0008722\",\n",
    "    \"inDrop\": \"EFO:0008780\",\n",
    "    \"10x 3' v2\": \"EFO:0009899\"\n",
    "}\n",
    "\n",
    "methods = list(assay_label_map.keys())"
   ]
  },
  {
   "cell_type": "code",
   "execution_count": 41,
   "metadata": {},
   "outputs": [],
   "source": [
    "ref_adata = sc.read_h5ad(REF_ADATA_FP)\n",
    "val_adata = sc.read_h5ad(ADATA_FP)"
   ]
  },
  {
   "cell_type": "code",
   "execution_count": 76,
   "metadata": {},
   "outputs": [
    {
     "data": {
      "text/html": [
       "<div>\n",
       "<style scoped>\n",
       "    .dataframe tbody tr th:only-of-type {\n",
       "        vertical-align: middle;\n",
       "    }\n",
       "\n",
       "    .dataframe tbody tr th {\n",
       "        vertical-align: top;\n",
       "    }\n",
       "\n",
       "    .dataframe thead th {\n",
       "        text-align: right;\n",
       "    }\n",
       "</style>\n",
       "<table border=\"1\" class=\"dataframe\">\n",
       "  <thead>\n",
       "    <tr style=\"text-align: right;\">\n",
       "      <th></th>\n",
       "      <th>NAME</th>\n",
       "      <th>nGene</th>\n",
       "      <th>nUMI</th>\n",
       "      <th>percent.mito</th>\n",
       "      <th>Cluster</th>\n",
       "      <th>CellType</th>\n",
       "      <th>Experiment</th>\n",
       "      <th>Method</th>\n",
       "    </tr>\n",
       "  </thead>\n",
       "  <tbody>\n",
       "    <tr>\n",
       "      <th>253</th>\n",
       "      <td>pbmc1_10x_v2_A_AAAGATGCAAAGTCAA</td>\n",
       "      <td>851</td>\n",
       "      <td>2177</td>\n",
       "      <td>0.0381258612769867</td>\n",
       "      <td>5</td>\n",
       "      <td>CD14+ monocyte</td>\n",
       "      <td>pbmc1</td>\n",
       "      <td>10x Chromium (v2) A</td>\n",
       "    </tr>\n",
       "    <tr>\n",
       "      <th>254</th>\n",
       "      <td>pbmc1_10x_v2_A_AAAGCAAGTAGGAGTC</td>\n",
       "      <td>1078</td>\n",
       "      <td>3065</td>\n",
       "      <td>0.0417618270799347</td>\n",
       "      <td>5</td>\n",
       "      <td>CD14+ monocyte</td>\n",
       "      <td>pbmc1</td>\n",
       "      <td>10x Chromium (v2) A</td>\n",
       "    </tr>\n",
       "    <tr>\n",
       "      <th>255</th>\n",
       "      <td>pbmc1_10x_v2_A_AAAGCAATCGGTTCGG</td>\n",
       "      <td>538</td>\n",
       "      <td>977</td>\n",
       "      <td>0.0992835209825998</td>\n",
       "      <td>4</td>\n",
       "      <td>CD14+ monocyte</td>\n",
       "      <td>pbmc1</td>\n",
       "      <td>10x Chromium (v2) A</td>\n",
       "    </tr>\n",
       "    <tr>\n",
       "      <th>256</th>\n",
       "      <td>pbmc1_10x_v2_A_AAAGTAGTCATTTGGG</td>\n",
       "      <td>1544</td>\n",
       "      <td>4933</td>\n",
       "      <td>0.0427731603486722</td>\n",
       "      <td>5</td>\n",
       "      <td>CD14+ monocyte</td>\n",
       "      <td>pbmc1</td>\n",
       "      <td>10x Chromium (v2) A</td>\n",
       "    </tr>\n",
       "    <tr>\n",
       "      <th>257</th>\n",
       "      <td>pbmc1_10x_v2_A_AAAGTAGTCCGAGCCA</td>\n",
       "      <td>632</td>\n",
       "      <td>1487</td>\n",
       "      <td>0.0477471418964358</td>\n",
       "      <td>4</td>\n",
       "      <td>CD14+ monocyte</td>\n",
       "      <td>pbmc1</td>\n",
       "      <td>10x Chromium (v2) A</td>\n",
       "    </tr>\n",
       "    <tr>\n",
       "      <th>...</th>\n",
       "      <td>...</td>\n",
       "      <td>...</td>\n",
       "      <td>...</td>\n",
       "      <td>...</td>\n",
       "      <td>...</td>\n",
       "      <td>...</td>\n",
       "      <td>...</td>\n",
       "      <td>...</td>\n",
       "    </tr>\n",
       "    <tr>\n",
       "      <th>19580</th>\n",
       "      <td>pbmc1_inDrops_TGGTTAAC-GGAGGTAA-CTCGATGC</td>\n",
       "      <td>1167</td>\n",
       "      <td>2124</td>\n",
       "      <td>0.0649717514124294</td>\n",
       "      <td>4</td>\n",
       "      <td>CD14+ monocyte</td>\n",
       "      <td>pbmc1</td>\n",
       "      <td>inDrops</td>\n",
       "    </tr>\n",
       "    <tr>\n",
       "      <th>19581</th>\n",
       "      <td>pbmc1_inDrops_TGGTTAAC-GGAGGTAA-TCACCGAG</td>\n",
       "      <td>413</td>\n",
       "      <td>636</td>\n",
       "      <td>0.10062893081761</td>\n",
       "      <td>5</td>\n",
       "      <td>CD16+ monocyte</td>\n",
       "      <td>pbmc1</td>\n",
       "      <td>inDrops</td>\n",
       "    </tr>\n",
       "    <tr>\n",
       "      <th>19582</th>\n",
       "      <td>pbmc1_inDrops_TGGTTAAC-GGAGGTAA-TCATATGG</td>\n",
       "      <td>172</td>\n",
       "      <td>205</td>\n",
       "      <td>0.0829268292682927</td>\n",
       "      <td>0</td>\n",
       "      <td>Cytotoxic T cell</td>\n",
       "      <td>pbmc1</td>\n",
       "      <td>inDrops</td>\n",
       "    </tr>\n",
       "    <tr>\n",
       "      <th>19583</th>\n",
       "      <td>pbmc1_inDrops_TGTTATCA-GGAGGTAA-TAAATAGG</td>\n",
       "      <td>309</td>\n",
       "      <td>477</td>\n",
       "      <td>0.132075471698113</td>\n",
       "      <td>2</td>\n",
       "      <td>CD4+ T cell</td>\n",
       "      <td>pbmc1</td>\n",
       "      <td>inDrops</td>\n",
       "    </tr>\n",
       "    <tr>\n",
       "      <th>19584</th>\n",
       "      <td>pbmc1_inDrops_TGTTATCA-GGAGGTAA-TGGTATGA</td>\n",
       "      <td>237</td>\n",
       "      <td>329</td>\n",
       "      <td>0.145896656534954</td>\n",
       "      <td>2</td>\n",
       "      <td>CD4+ T cell</td>\n",
       "      <td>pbmc1</td>\n",
       "      <td>inDrops</td>\n",
       "    </tr>\n",
       "  </tbody>\n",
       "</table>\n",
       "<p>19332 rows × 8 columns</p>\n",
       "</div>"
      ],
      "text/plain": [
       "                                           NAME nGene  nUMI  \\\n",
       "253             pbmc1_10x_v2_A_AAAGATGCAAAGTCAA   851  2177   \n",
       "254             pbmc1_10x_v2_A_AAAGCAAGTAGGAGTC  1078  3065   \n",
       "255             pbmc1_10x_v2_A_AAAGCAATCGGTTCGG   538   977   \n",
       "256             pbmc1_10x_v2_A_AAAGTAGTCATTTGGG  1544  4933   \n",
       "257             pbmc1_10x_v2_A_AAAGTAGTCCGAGCCA   632  1487   \n",
       "...                                         ...   ...   ...   \n",
       "19580  pbmc1_inDrops_TGGTTAAC-GGAGGTAA-CTCGATGC  1167  2124   \n",
       "19581  pbmc1_inDrops_TGGTTAAC-GGAGGTAA-TCACCGAG   413   636   \n",
       "19582  pbmc1_inDrops_TGGTTAAC-GGAGGTAA-TCATATGG   172   205   \n",
       "19583  pbmc1_inDrops_TGTTATCA-GGAGGTAA-TAAATAGG   309   477   \n",
       "19584  pbmc1_inDrops_TGTTATCA-GGAGGTAA-TGGTATGA   237   329   \n",
       "\n",
       "             percent.mito Cluster          CellType Experiment  \\\n",
       "253    0.0381258612769867       5    CD14+ monocyte      pbmc1   \n",
       "254    0.0417618270799347       5    CD14+ monocyte      pbmc1   \n",
       "255    0.0992835209825998       4    CD14+ monocyte      pbmc1   \n",
       "256    0.0427731603486722       5    CD14+ monocyte      pbmc1   \n",
       "257    0.0477471418964358       4    CD14+ monocyte      pbmc1   \n",
       "...                   ...     ...               ...        ...   \n",
       "19580  0.0649717514124294       4    CD14+ monocyte      pbmc1   \n",
       "19581    0.10062893081761       5    CD16+ monocyte      pbmc1   \n",
       "19582  0.0829268292682927       0  Cytotoxic T cell      pbmc1   \n",
       "19583   0.132075471698113       2       CD4+ T cell      pbmc1   \n",
       "19584   0.145896656534954       2       CD4+ T cell      pbmc1   \n",
       "\n",
       "                    Method  \n",
       "253    10x Chromium (v2) A  \n",
       "254    10x Chromium (v2) A  \n",
       "255    10x Chromium (v2) A  \n",
       "256    10x Chromium (v2) A  \n",
       "257    10x Chromium (v2) A  \n",
       "...                    ...  \n",
       "19580              inDrops  \n",
       "19581              inDrops  \n",
       "19582              inDrops  \n",
       "19583              inDrops  \n",
       "19584              inDrops  \n",
       "\n",
       "[19332 rows x 8 columns]"
      ]
     },
     "execution_count": 76,
     "metadata": {},
     "output_type": "execute_result"
    }
   ],
   "source": [
    "val_adata.obs"
   ]
  },
  {
   "cell_type": "code",
   "execution_count": 77,
   "metadata": {},
   "outputs": [
    {
     "data": {
      "text/plain": [
       "matrix([[2171.],\n",
       "        [3059.],\n",
       "        [ 970.],\n",
       "        ...,\n",
       "        [ 205.],\n",
       "        [ 471.],\n",
       "        [ 329.]], dtype=float32)"
      ]
     },
     "execution_count": 77,
     "metadata": {},
     "output_type": "execute_result"
    }
   ],
   "source": [
    "val_adata.X.sum(-1)"
   ]
  },
  {
   "cell_type": "code",
   "execution_count": 43,
   "metadata": {},
   "outputs": [
    {
     "data": {
      "text/plain": [
       "CellType\n",
       "Cytotoxic T cell               8878\n",
       "CD4+ T cell                    7279\n",
       "CD14+ monocyte                 5490\n",
       "B cell                         4941\n",
       "Natural killer cell            1515\n",
       "Megakaryocyte                   963\n",
       "CD16+ monocyte                  786\n",
       "Dendritic cell                  433\n",
       "Plasmacytoid dendritic cell     164\n",
       "Unassigned                       46\n",
       "Name: count, dtype: int64"
      ]
     },
     "execution_count": 43,
     "metadata": {},
     "output_type": "execute_result"
    }
   ],
   "source": [
    "val_adata.obs.CellType.value_counts()"
   ]
  },
  {
   "cell_type": "code",
   "execution_count": 44,
   "metadata": {},
   "outputs": [],
   "source": [
    "probs_per_method = {}\n",
    "for method in methods:\n",
    "    per_method_adata = val_adata.copy()\n",
    "    per_method_adata = per_method_adata[per_method_adata.obs.Method == method]\n",
    "    sorted_counts = list(per_method_adata[per_method_adata.obs.CellType == 'CD4+ T cell'].obs.nUMI.value_counts().sort_index().items())\n",
    "\n",
    "    max_count = int(sorted_counts[-1][0])\n",
    "    occurrence_per_count = [0] * (max_count + 1)\n",
    "\n",
    "    for (count_val, count_occurence) in sorted_counts:\n",
    "        occurrence_per_count[int(count_val)] = count_occurence\n",
    "\n",
    "    probs = occurrence_per_count / np.sum(occurrence_per_count)\n",
    "\n",
    "    probs_per_method[method] = probs"
   ]
  },
  {
   "cell_type": "code",
   "execution_count": 45,
   "metadata": {},
   "outputs": [
    {
     "data": {
      "text/plain": [
       "{'10x Chromium (v2) A': array([0.        , 0.        , 0.        , ..., 0.        , 0.        ,\n",
       "        0.00181818]),\n",
       " '10x Chromium (v2) B': array([0.        , 0.        , 0.        , ..., 0.        , 0.        ,\n",
       "        0.00110132]),\n",
       " '10x Chromium (v3)': array([0.        , 0.        , 0.        , ..., 0.        , 0.        ,\n",
       "        0.00104167]),\n",
       " 'Drop-seq': array([0.       , 0.       , 0.       , ..., 0.       , 0.       ,\n",
       "        0.0004852]),\n",
       " 'Seq-Well': array([0.        , 0.        , 0.        , ..., 0.        , 0.        ,\n",
       "        0.00176678]),\n",
       " 'inDrops': array([0.        , 0.        , 0.        , ..., 0.        , 0.        ,\n",
       "        0.00090009])}"
      ]
     },
     "execution_count": 45,
     "metadata": {},
     "output_type": "execute_result"
    }
   ],
   "source": [
    "probs_per_method"
   ]
  },
  {
   "cell_type": "code",
   "execution_count": 46,
   "metadata": {},
   "outputs": [],
   "source": [
    "cellarium_var_names = set(ref_adata.var_names)\n",
    "val_adata = val_adata[:, val_adata.var_names.isin(cellarium_var_names)]\n",
    "val_adata = val_adata[val_adata.obs.Experiment == 'pbmc1']\n",
    "val_adata = val_adata[val_adata.obs.Method.isin(list(assay_label_map.keys()))]"
   ]
  },
  {
   "cell_type": "code",
   "execution_count": 47,
   "metadata": {},
   "outputs": [
    {
     "data": {
      "text/plain": [
       "863"
      ]
     },
     "execution_count": 47,
     "metadata": {},
     "output_type": "execute_result"
    }
   ],
   "source": [
    "per_method_adata = val_adata.copy()\n",
    "per_method_adata = per_method_adata[per_method_adata.obs.Method == \"10x Chromium (v3)\"]\n",
    "sorted_counts = list(per_method_adata[per_method_adata.obs.CellType == 'CD4+ T cell'].obs.nUMI.value_counts().sort_index().items())\n",
    "\n",
    "len(sorted_counts)"
   ]
  },
  {
   "cell_type": "code",
   "execution_count": 48,
   "metadata": {},
   "outputs": [],
   "source": [
    "max_count = int(sorted_counts[-1][0])\n",
    "occurrence_per_count = [0] * (max_count + 1)\n",
    "\n",
    "for (count_val, count_occurence) in sorted_counts:\n",
    "    occurrence_per_count[int(count_val)] = count_occurence\n",
    "\n",
    "probs = occurrence_per_count / np.sum(occurrence_per_count)"
   ]
  },
  {
   "cell_type": "code",
   "execution_count": 49,
   "metadata": {},
   "outputs": [
    {
     "data": {
      "text/plain": [
       "(array([5.27e+04, 0.00e+00, 7.77e+02, 0.00e+00, 0.00e+00, 7.60e+01,\n",
       "        0.00e+00, 9.00e+00, 0.00e+00, 1.00e+00]),\n",
       " array([0.        , 0.00041667, 0.00083333, 0.00125   , 0.00166667,\n",
       "        0.00208333, 0.0025    , 0.00291667, 0.00333333, 0.00375   ,\n",
       "        0.00416667]),\n",
       " <BarContainer object of 10 artists>)"
      ]
     },
     "execution_count": 49,
     "metadata": {},
     "output_type": "execute_result"
    },
    {
     "data": {
      "image/png": "[encoded data removed]",
      "text/plain": [
       "<Figure size 320x320 with 1 Axes>"
      ]
     },
     "metadata": {
      "image/png": {
       "height": 281,
       "width": 324
      }
     },
     "output_type": "display_data"
    }
   ],
   "source": [
    "plt.hist(probs)"
   ]
  },
  {
   "cell_type": "code",
   "execution_count": 50,
   "metadata": {},
   "outputs": [],
   "source": [
    "probs_per_method = {}\n",
    "for method in methods:\n",
    "    per_method_adata = val_adata.copy()\n",
    "    per_method_adata = per_method_adata[per_method_adata.obs.Method == method]\n",
    "    sorted_counts = list(per_method_adata[per_method_adata.obs.CellType == 'CD4+ T cell'].obs.nUMI.value_counts().sort_index().items())\n",
    "\n",
    "    max_count = int(sorted_counts[-1][0])\n",
    "    occurrence_per_count = [0] * (max_count + 1)\n",
    "\n",
    "    for (count_val, count_occurence) in sorted_counts:\n",
    "        occurrence_per_count[int(count_val)] = count_occurence\n",
    "\n",
    "    probs = occurrence_per_count / np.sum(occurrence_per_count)\n",
    "\n",
    "    probs_per_method[method] = torch.from_numpy(probs)"
   ]
  },
  {
   "cell_type": "code",
   "execution_count": 51,
   "metadata": {},
   "outputs": [
    {
     "data": {
      "text/plain": [
       "{'10x Chromium (v2) A': tensor([0.0000, 0.0000, 0.0000,  ..., 0.0000, 0.0000, 0.0018],\n",
       "        dtype=torch.float64),\n",
       " '10x Chromium (v2) B': tensor([0.0000, 0.0000, 0.0000,  ..., 0.0000, 0.0000, 0.0011],\n",
       "        dtype=torch.float64),\n",
       " '10x Chromium (v3)': tensor([0.0000, 0.0000, 0.0000,  ..., 0.0000, 0.0000, 0.0010],\n",
       "        dtype=torch.float64),\n",
       " 'Drop-seq': tensor([0.0000, 0.0000, 0.0000,  ..., 0.0000, 0.0000, 0.0011],\n",
       "        dtype=torch.float64),\n",
       " 'Seq-Well': tensor([0.0000, 0.0000, 0.0000,  ..., 0.0000, 0.0000, 0.0023],\n",
       "        dtype=torch.float64),\n",
       " 'inDrops': tensor([0.0000, 0.0000, 0.0000,  ..., 0.0000, 0.0000, 0.0020],\n",
       "        dtype=torch.float64)}"
      ]
     },
     "execution_count": 51,
     "metadata": {},
     "output_type": "execute_result"
    }
   ],
   "source": [
    "probs_per_method"
   ]
  },
  {
   "cell_type": "code",
   "execution_count": 52,
   "metadata": {},
   "outputs": [
    {
     "data": {
      "text/plain": [
       "(array([18.,  0.,  0., ...,  0.,  0., 24.]),\n",
       " array([  80.        ,   82.23434442,   84.46868885, ..., 4642.53131115,\n",
       "        4644.76565558, 4647.        ]),\n",
       " <BarContainer object of 2044 artists>)"
      ]
     },
     "execution_count": 52,
     "metadata": {},
     "output_type": "execute_result"
    },
    {
     "data": {
      "image/png": "[encoded data removed]",
      "text/plain": [
       "<Figure size 320x320 with 1 Axes>"
      ]
     },
     "metadata": {
      "image/png": {
       "height": 281,
       "width": 293
      }
     },
     "output_type": "display_data"
    }
   ],
   "source": [
    "samples = torch.multinomial(probs_per_method['Seq-Well'], num_samples=10000, replacement=True)\n",
    "plt.hist(samples, bins=len(probs))"
   ]
  },
  {
   "cell_type": "code",
   "execution_count": 53,
   "metadata": {},
   "outputs": [
    {
     "name": "stdout",
     "output_type": "stream",
     "text": [
      "(19332, 32351)\n"
     ]
    },
    {
     "data": {
      "text/html": [
       "<div>\n",
       "<style scoped>\n",
       "    .dataframe tbody tr th:only-of-type {\n",
       "        vertical-align: middle;\n",
       "    }\n",
       "\n",
       "    .dataframe tbody tr th {\n",
       "        vertical-align: top;\n",
       "    }\n",
       "\n",
       "    .dataframe thead th {\n",
       "        text-align: right;\n",
       "    }\n",
       "</style>\n",
       "<table border=\"1\" class=\"dataframe\">\n",
       "  <thead>\n",
       "    <tr style=\"text-align: right;\">\n",
       "      <th></th>\n",
       "      <th>NAME</th>\n",
       "      <th>nGene</th>\n",
       "      <th>nUMI</th>\n",
       "      <th>percent.mito</th>\n",
       "      <th>Cluster</th>\n",
       "      <th>CellType</th>\n",
       "      <th>Experiment</th>\n",
       "      <th>Method</th>\n",
       "    </tr>\n",
       "  </thead>\n",
       "  <tbody>\n",
       "    <tr>\n",
       "      <th>960</th>\n",
       "      <td>pbmc1_10x_v2_A_AACCGCGCAATCTACG</td>\n",
       "      <td>1031</td>\n",
       "      <td>2730</td>\n",
       "      <td>0.0296703296703297</td>\n",
       "      <td>2</td>\n",
       "      <td>CD4+ T cell</td>\n",
       "      <td>pbmc1</td>\n",
       "      <td>10x Chromium (v2) A</td>\n",
       "    </tr>\n",
       "    <tr>\n",
       "      <th>961</th>\n",
       "      <td>pbmc1_10x_v2_A_AACCGCGTCATCATTC</td>\n",
       "      <td>833</td>\n",
       "      <td>1921</td>\n",
       "      <td>0.0661114003123373</td>\n",
       "      <td>2</td>\n",
       "      <td>CD4+ T cell</td>\n",
       "      <td>pbmc1</td>\n",
       "      <td>10x Chromium (v2) A</td>\n",
       "    </tr>\n",
       "    <tr>\n",
       "      <th>972</th>\n",
       "      <td>pbmc1_10x_v2_A_AAGCCGCTCTAACCGA</td>\n",
       "      <td>1099</td>\n",
       "      <td>3419</td>\n",
       "      <td>0.0295408014039193</td>\n",
       "      <td>2</td>\n",
       "      <td>CD4+ T cell</td>\n",
       "      <td>pbmc1</td>\n",
       "      <td>10x Chromium (v2) A</td>\n",
       "    </tr>\n",
       "    <tr>\n",
       "      <th>1095</th>\n",
       "      <td>pbmc1_10x_v2_A_AGGTCCGGTTAAGATG</td>\n",
       "      <td>926</td>\n",
       "      <td>2479</td>\n",
       "      <td>0.0399354578459056</td>\n",
       "      <td>2</td>\n",
       "      <td>CD4+ T cell</td>\n",
       "      <td>pbmc1</td>\n",
       "      <td>10x Chromium (v2) A</td>\n",
       "    </tr>\n",
       "    <tr>\n",
       "      <th>1120</th>\n",
       "      <td>pbmc1_10x_v2_A_ATCATCTAGTGTCCAT</td>\n",
       "      <td>1066</td>\n",
       "      <td>3260</td>\n",
       "      <td>0.0306748466257669</td>\n",
       "      <td>2</td>\n",
       "      <td>CD4+ T cell</td>\n",
       "      <td>pbmc1</td>\n",
       "      <td>10x Chromium (v2) A</td>\n",
       "    </tr>\n",
       "    <tr>\n",
       "      <th>...</th>\n",
       "      <td>...</td>\n",
       "      <td>...</td>\n",
       "      <td>...</td>\n",
       "      <td>...</td>\n",
       "      <td>...</td>\n",
       "      <td>...</td>\n",
       "      <td>...</td>\n",
       "      <td>...</td>\n",
       "    </tr>\n",
       "    <tr>\n",
       "      <th>19561</th>\n",
       "      <td>pbmc1_inDrops_TGGCTAGT-GGAGGTAA-GGTTTCTC</td>\n",
       "      <td>249</td>\n",
       "      <td>390</td>\n",
       "      <td>0.117948717948718</td>\n",
       "      <td>2</td>\n",
       "      <td>CD4+ T cell</td>\n",
       "      <td>pbmc1</td>\n",
       "      <td>inDrops</td>\n",
       "    </tr>\n",
       "    <tr>\n",
       "      <th>19562</th>\n",
       "      <td>pbmc1_inDrops_TGGCTAGT-GGAGGTAA-GTTTACGT</td>\n",
       "      <td>332</td>\n",
       "      <td>482</td>\n",
       "      <td>0.0788381742738589</td>\n",
       "      <td>2</td>\n",
       "      <td>CD4+ T cell</td>\n",
       "      <td>pbmc1</td>\n",
       "      <td>inDrops</td>\n",
       "    </tr>\n",
       "    <tr>\n",
       "      <th>19571</th>\n",
       "      <td>pbmc1_inDrops_TGGTGTCT-GGAGGTAA-TAGTGTTT</td>\n",
       "      <td>250</td>\n",
       "      <td>367</td>\n",
       "      <td>0.0926430517711172</td>\n",
       "      <td>2</td>\n",
       "      <td>CD4+ T cell</td>\n",
       "      <td>pbmc1</td>\n",
       "      <td>inDrops</td>\n",
       "    </tr>\n",
       "    <tr>\n",
       "      <th>19583</th>\n",
       "      <td>pbmc1_inDrops_TGTTATCA-GGAGGTAA-TAAATAGG</td>\n",
       "      <td>309</td>\n",
       "      <td>477</td>\n",
       "      <td>0.132075471698113</td>\n",
       "      <td>2</td>\n",
       "      <td>CD4+ T cell</td>\n",
       "      <td>pbmc1</td>\n",
       "      <td>inDrops</td>\n",
       "    </tr>\n",
       "    <tr>\n",
       "      <th>19584</th>\n",
       "      <td>pbmc1_inDrops_TGTTATCA-GGAGGTAA-TGGTATGA</td>\n",
       "      <td>237</td>\n",
       "      <td>329</td>\n",
       "      <td>0.145896656534954</td>\n",
       "      <td>2</td>\n",
       "      <td>CD4+ T cell</td>\n",
       "      <td>pbmc1</td>\n",
       "      <td>inDrops</td>\n",
       "    </tr>\n",
       "  </tbody>\n",
       "</table>\n",
       "<p>4254 rows × 8 columns</p>\n",
       "</div>"
      ],
      "text/plain": [
       "                                           NAME nGene  nUMI  \\\n",
       "960             pbmc1_10x_v2_A_AACCGCGCAATCTACG  1031  2730   \n",
       "961             pbmc1_10x_v2_A_AACCGCGTCATCATTC   833  1921   \n",
       "972             pbmc1_10x_v2_A_AAGCCGCTCTAACCGA  1099  3419   \n",
       "1095            pbmc1_10x_v2_A_AGGTCCGGTTAAGATG   926  2479   \n",
       "1120            pbmc1_10x_v2_A_ATCATCTAGTGTCCAT  1066  3260   \n",
       "...                                         ...   ...   ...   \n",
       "19561  pbmc1_inDrops_TGGCTAGT-GGAGGTAA-GGTTTCTC   249   390   \n",
       "19562  pbmc1_inDrops_TGGCTAGT-GGAGGTAA-GTTTACGT   332   482   \n",
       "19571  pbmc1_inDrops_TGGTGTCT-GGAGGTAA-TAGTGTTT   250   367   \n",
       "19583  pbmc1_inDrops_TGTTATCA-GGAGGTAA-TAAATAGG   309   477   \n",
       "19584  pbmc1_inDrops_TGTTATCA-GGAGGTAA-TGGTATGA   237   329   \n",
       "\n",
       "             percent.mito Cluster     CellType Experiment               Method  \n",
       "960    0.0296703296703297       2  CD4+ T cell      pbmc1  10x Chromium (v2) A  \n",
       "961    0.0661114003123373       2  CD4+ T cell      pbmc1  10x Chromium (v2) A  \n",
       "972    0.0295408014039193       2  CD4+ T cell      pbmc1  10x Chromium (v2) A  \n",
       "1095   0.0399354578459056       2  CD4+ T cell      pbmc1  10x Chromium (v2) A  \n",
       "1120   0.0306748466257669       2  CD4+ T cell      pbmc1  10x Chromium (v2) A  \n",
       "...                   ...     ...          ...        ...                  ...  \n",
       "19561   0.117948717948718       2  CD4+ T cell      pbmc1              inDrops  \n",
       "19562  0.0788381742738589       2  CD4+ T cell      pbmc1              inDrops  \n",
       "19571  0.0926430517711172       2  CD4+ T cell      pbmc1              inDrops  \n",
       "19583   0.132075471698113       2  CD4+ T cell      pbmc1              inDrops  \n",
       "19584   0.145896656534954       2  CD4+ T cell      pbmc1              inDrops  \n",
       "\n",
       "[4254 rows x 8 columns]"
      ]
     },
     "execution_count": 53,
     "metadata": {},
     "output_type": "execute_result"
    }
   ],
   "source": [
    "new_adata = val_adata.copy()\n",
    "print(new_adata.shape)\n",
    "new_adata = new_adata[new_adata.obs.CellType == 'CD4+ T cell']\n",
    "new_adata.obs"
   ]
  },
  {
   "cell_type": "code",
   "execution_count": 54,
   "metadata": {},
   "outputs": [
    {
     "name": "stderr",
     "output_type": "stream",
     "text": [
      "/tmp/ipykernel_3059541/3954600670.py:11: ImplicitModificationWarning: Trying to modify attribute `.obs` of view, initializing view as actual.\n",
      "  new_adata.obs['assay'] = assay\n"
     ]
    }
   ],
   "source": [
    "assay = []\n",
    "suspension_type = []\n",
    "total_mrna_umis = []\n",
    "assay_ontology_term_id = []\n",
    "for idx in range(new_adata.shape[0]):\n",
    "    assay.append(assay_label_map[new_adata.obs.iloc[idx]['Method']])\n",
    "    suspension_type.append('cell')\n",
    "    total_mrna_umis.append(new_adata.obs.iloc[idx]['nUMI'])\n",
    "    assay_ontology_term_id.append(assay_ontology_term_id_map[assay[-1]])\n",
    "\n",
    "new_adata.obs['assay'] = assay\n",
    "new_adata.obs['suspension_type'] = suspension_type\n",
    "new_adata.obs['total_mrna_umis'] = np.array(total_mrna_umis, dtype=np.int64)\n",
    "new_adata.obs['assay_ontology_term_id'] = assay_ontology_term_id"
   ]
  },
  {
   "cell_type": "code",
   "execution_count": 55,
   "metadata": {},
   "outputs": [
    {
     "data": {
      "text/plain": [
       "AnnData object with n_obs × n_vars = 4254 × 32351\n",
       "    obs: 'NAME', 'nGene', 'nUMI', 'percent.mito', 'Cluster', 'CellType', 'Experiment', 'Method', 'assay', 'suspension_type', 'total_mrna_umis', 'assay_ontology_term_id'\n",
       "    var: 'gene_symbols'\n",
       "    uns: 'CellType_colors', 'Method_colors'\n",
       "    obsm: 'X_harmony'"
      ]
     },
     "execution_count": 55,
     "metadata": {},
     "output_type": "execute_result"
    }
   ],
   "source": [
    "new_adata"
   ]
  },
  {
   "cell_type": "code",
   "execution_count": 56,
   "metadata": {},
   "outputs": [],
   "source": [
    "new_adata.obs['cell_type_ontology_term_id'] = '<MASK>'\n",
    "new_adata.obs['tissue_ontology_term_id'] = '<MASK>'\n",
    "new_adata.obs['development_stage_ontology_term_id'] = '<MASK>'\n",
    "new_adata.obs['disease_ontology_term_id'] = '<MASK>'\n",
    "new_adata.obs['sex_ontology_term_id'] = '<MASK>'"
   ]
  },
  {
   "cell_type": "code",
   "execution_count": 18,
   "metadata": {},
   "outputs": [
    {
     "name": "stdout",
     "output_type": "stream",
     "text": [
      "torch.Size([4254, 4])\n"
     ]
    },
    {
     "data": {
      "text/plain": [
       "tensor([[16, 16, 16, 16],\n",
       "        [16, 16, 16, 16],\n",
       "        [16, 16, 16, 16],\n",
       "        ...,\n",
       "        [ 8,  8,  8,  8],\n",
       "        [ 8,  8,  8,  8],\n",
       "        [ 8,  8,  8,  8]])"
      ]
     },
     "execution_count": 18,
     "metadata": {},
     "output_type": "execute_result"
    }
   ],
   "source": [
    "n_cells = new_adata.shape[0]\n",
    "test = torch.tensor(\n",
    "            pd.Categorical(\n",
    "                new_adata.obs[\"assay_ontology_term_id\"].values,\n",
    "                categories=gene_ontology_infos[\"assay_ontology_term_id\"][\"names\"]).codes,\n",
    "            dtype=torch.int64, device='cpu')[:, None].expand(n_cells, 4)\n",
    "print(test.shape)\n",
    "test"
   ]
  },
  {
   "cell_type": "code",
   "execution_count": 19,
   "metadata": {},
   "outputs": [
    {
     "name": "stdout",
     "output_type": "stream",
     "text": [
      "torch.Size([4254, 4])\n"
     ]
    },
    {
     "data": {
      "text/plain": [
       "tensor([[8, 8, 8, 8],\n",
       "        [8, 8, 8, 8],\n",
       "        [8, 8, 8, 8],\n",
       "        ...,\n",
       "        [8, 8, 8, 8],\n",
       "        [8, 8, 8, 8],\n",
       "        [8, 8, 8, 8]])"
      ]
     },
     "execution_count": 19,
     "metadata": {},
     "output_type": "execute_result"
    }
   ],
   "source": [
    "n_cells = new_adata.shape[0]\n",
    "test = torch.tensor(\n",
    "            pd.Categorical(\n",
    "                [new_adata.obs[\"assay_ontology_term_id\"].values[-1]],\n",
    "                categories=gene_ontology_infos[\"assay_ontology_term_id\"][\"names\"]).codes,\n",
    "            dtype=torch.int64, device='cpu')[:, None].expand(n_cells, 4)\n",
    "print(test.shape)\n",
    "test"
   ]
  },
  {
   "cell_type": "code",
   "execution_count": 20,
   "metadata": {},
   "outputs": [
    {
     "data": {
      "text/html": [
       "<div>\n",
       "<style scoped>\n",
       "    .dataframe tbody tr th:only-of-type {\n",
       "        vertical-align: middle;\n",
       "    }\n",
       "\n",
       "    .dataframe tbody tr th {\n",
       "        vertical-align: top;\n",
       "    }\n",
       "\n",
       "    .dataframe thead th {\n",
       "        text-align: right;\n",
       "    }\n",
       "</style>\n",
       "<table border=\"1\" class=\"dataframe\">\n",
       "  <thead>\n",
       "    <tr style=\"text-align: right;\">\n",
       "      <th></th>\n",
       "      <th>NAME</th>\n",
       "      <th>nGene</th>\n",
       "      <th>nUMI</th>\n",
       "      <th>percent.mito</th>\n",
       "      <th>Cluster</th>\n",
       "      <th>CellType</th>\n",
       "      <th>Experiment</th>\n",
       "      <th>Method</th>\n",
       "      <th>assay</th>\n",
       "      <th>suspension_type</th>\n",
       "      <th>total_mrna_umis</th>\n",
       "      <th>assay_ontology_term_id</th>\n",
       "      <th>cell_type_ontology_term_id</th>\n",
       "      <th>tissue_ontology_term_id</th>\n",
       "      <th>development_stage_ontology_term_id</th>\n",
       "      <th>disease_ontology_term_id</th>\n",
       "      <th>sex_ontology_term_id</th>\n",
       "    </tr>\n",
       "  </thead>\n",
       "  <tbody>\n",
       "    <tr>\n",
       "      <th>960</th>\n",
       "      <td>pbmc1_10x_v2_A_AACCGCGCAATCTACG</td>\n",
       "      <td>1031</td>\n",
       "      <td>2730</td>\n",
       "      <td>0.0296703296703297</td>\n",
       "      <td>2</td>\n",
       "      <td>CD4+ T cell</td>\n",
       "      <td>pbmc1</td>\n",
       "      <td>10x Chromium (v2) A</td>\n",
       "      <td>10x 3' v2</td>\n",
       "      <td>cell</td>\n",
       "      <td>2730</td>\n",
       "      <td>EFO:0009899</td>\n",
       "      <td>&lt;MASK&gt;</td>\n",
       "      <td>&lt;MASK&gt;</td>\n",
       "      <td>&lt;MASK&gt;</td>\n",
       "      <td>&lt;MASK&gt;</td>\n",
       "      <td>&lt;MASK&gt;</td>\n",
       "    </tr>\n",
       "    <tr>\n",
       "      <th>961</th>\n",
       "      <td>pbmc1_10x_v2_A_AACCGCGTCATCATTC</td>\n",
       "      <td>833</td>\n",
       "      <td>1921</td>\n",
       "      <td>0.0661114003123373</td>\n",
       "      <td>2</td>\n",
       "      <td>CD4+ T cell</td>\n",
       "      <td>pbmc1</td>\n",
       "      <td>10x Chromium (v2) A</td>\n",
       "      <td>10x 3' v2</td>\n",
       "      <td>cell</td>\n",
       "      <td>1921</td>\n",
       "      <td>EFO:0009899</td>\n",
       "      <td>&lt;MASK&gt;</td>\n",
       "      <td>&lt;MASK&gt;</td>\n",
       "      <td>&lt;MASK&gt;</td>\n",
       "      <td>&lt;MASK&gt;</td>\n",
       "      <td>&lt;MASK&gt;</td>\n",
       "    </tr>\n",
       "    <tr>\n",
       "      <th>972</th>\n",
       "      <td>pbmc1_10x_v2_A_AAGCCGCTCTAACCGA</td>\n",
       "      <td>1099</td>\n",
       "      <td>3419</td>\n",
       "      <td>0.0295408014039193</td>\n",
       "      <td>2</td>\n",
       "      <td>CD4+ T cell</td>\n",
       "      <td>pbmc1</td>\n",
       "      <td>10x Chromium (v2) A</td>\n",
       "      <td>10x 3' v2</td>\n",
       "      <td>cell</td>\n",
       "      <td>3419</td>\n",
       "      <td>EFO:0009899</td>\n",
       "      <td>&lt;MASK&gt;</td>\n",
       "      <td>&lt;MASK&gt;</td>\n",
       "      <td>&lt;MASK&gt;</td>\n",
       "      <td>&lt;MASK&gt;</td>\n",
       "      <td>&lt;MASK&gt;</td>\n",
       "    </tr>\n",
       "    <tr>\n",
       "      <th>1095</th>\n",
       "      <td>pbmc1_10x_v2_A_AGGTCCGGTTAAGATG</td>\n",
       "      <td>926</td>\n",
       "      <td>2479</td>\n",
       "      <td>0.0399354578459056</td>\n",
       "      <td>2</td>\n",
       "      <td>CD4+ T cell</td>\n",
       "      <td>pbmc1</td>\n",
       "      <td>10x Chromium (v2) A</td>\n",
       "      <td>10x 3' v2</td>\n",
       "      <td>cell</td>\n",
       "      <td>2479</td>\n",
       "      <td>EFO:0009899</td>\n",
       "      <td>&lt;MASK&gt;</td>\n",
       "      <td>&lt;MASK&gt;</td>\n",
       "      <td>&lt;MASK&gt;</td>\n",
       "      <td>&lt;MASK&gt;</td>\n",
       "      <td>&lt;MASK&gt;</td>\n",
       "    </tr>\n",
       "    <tr>\n",
       "      <th>1120</th>\n",
       "      <td>pbmc1_10x_v2_A_ATCATCTAGTGTCCAT</td>\n",
       "      <td>1066</td>\n",
       "      <td>3260</td>\n",
       "      <td>0.0306748466257669</td>\n",
       "      <td>2</td>\n",
       "      <td>CD4+ T cell</td>\n",
       "      <td>pbmc1</td>\n",
       "      <td>10x Chromium (v2) A</td>\n",
       "      <td>10x 3' v2</td>\n",
       "      <td>cell</td>\n",
       "      <td>3260</td>\n",
       "      <td>EFO:0009899</td>\n",
       "      <td>&lt;MASK&gt;</td>\n",
       "      <td>&lt;MASK&gt;</td>\n",
       "      <td>&lt;MASK&gt;</td>\n",
       "      <td>&lt;MASK&gt;</td>\n",
       "      <td>&lt;MASK&gt;</td>\n",
       "    </tr>\n",
       "    <tr>\n",
       "      <th>...</th>\n",
       "      <td>...</td>\n",
       "      <td>...</td>\n",
       "      <td>...</td>\n",
       "      <td>...</td>\n",
       "      <td>...</td>\n",
       "      <td>...</td>\n",
       "      <td>...</td>\n",
       "      <td>...</td>\n",
       "      <td>...</td>\n",
       "      <td>...</td>\n",
       "      <td>...</td>\n",
       "      <td>...</td>\n",
       "      <td>...</td>\n",
       "      <td>...</td>\n",
       "      <td>...</td>\n",
       "      <td>...</td>\n",
       "      <td>...</td>\n",
       "    </tr>\n",
       "    <tr>\n",
       "      <th>19561</th>\n",
       "      <td>pbmc1_inDrops_TGGCTAGT-GGAGGTAA-GGTTTCTC</td>\n",
       "      <td>249</td>\n",
       "      <td>390</td>\n",
       "      <td>0.117948717948718</td>\n",
       "      <td>2</td>\n",
       "      <td>CD4+ T cell</td>\n",
       "      <td>pbmc1</td>\n",
       "      <td>inDrops</td>\n",
       "      <td>inDrop</td>\n",
       "      <td>cell</td>\n",
       "      <td>390</td>\n",
       "      <td>EFO:0008780</td>\n",
       "      <td>&lt;MASK&gt;</td>\n",
       "      <td>&lt;MASK&gt;</td>\n",
       "      <td>&lt;MASK&gt;</td>\n",
       "      <td>&lt;MASK&gt;</td>\n",
       "      <td>&lt;MASK&gt;</td>\n",
       "    </tr>\n",
       "    <tr>\n",
       "      <th>19562</th>\n",
       "      <td>pbmc1_inDrops_TGGCTAGT-GGAGGTAA-GTTTACGT</td>\n",
       "      <td>332</td>\n",
       "      <td>482</td>\n",
       "      <td>0.0788381742738589</td>\n",
       "      <td>2</td>\n",
       "      <td>CD4+ T cell</td>\n",
       "      <td>pbmc1</td>\n",
       "      <td>inDrops</td>\n",
       "      <td>inDrop</td>\n",
       "      <td>cell</td>\n",
       "      <td>482</td>\n",
       "      <td>EFO:0008780</td>\n",
       "      <td>&lt;MASK&gt;</td>\n",
       "      <td>&lt;MASK&gt;</td>\n",
       "      <td>&lt;MASK&gt;</td>\n",
       "      <td>&lt;MASK&gt;</td>\n",
       "      <td>&lt;MASK&gt;</td>\n",
       "    </tr>\n",
       "    <tr>\n",
       "      <th>19571</th>\n",
       "      <td>pbmc1_inDrops_TGGTGTCT-GGAGGTAA-TAGTGTTT</td>\n",
       "      <td>250</td>\n",
       "      <td>367</td>\n",
       "      <td>0.0926430517711172</td>\n",
       "      <td>2</td>\n",
       "      <td>CD4+ T cell</td>\n",
       "      <td>pbmc1</td>\n",
       "      <td>inDrops</td>\n",
       "      <td>inDrop</td>\n",
       "      <td>cell</td>\n",
       "      <td>367</td>\n",
       "      <td>EFO:0008780</td>\n",
       "      <td>&lt;MASK&gt;</td>\n",
       "      <td>&lt;MASK&gt;</td>\n",
       "      <td>&lt;MASK&gt;</td>\n",
       "      <td>&lt;MASK&gt;</td>\n",
       "      <td>&lt;MASK&gt;</td>\n",
       "    </tr>\n",
       "    <tr>\n",
       "      <th>19583</th>\n",
       "      <td>pbmc1_inDrops_TGTTATCA-GGAGGTAA-TAAATAGG</td>\n",
       "      <td>309</td>\n",
       "      <td>477</td>\n",
       "      <td>0.132075471698113</td>\n",
       "      <td>2</td>\n",
       "      <td>CD4+ T cell</td>\n",
       "      <td>pbmc1</td>\n",
       "      <td>inDrops</td>\n",
       "      <td>inDrop</td>\n",
       "      <td>cell</td>\n",
       "      <td>477</td>\n",
       "      <td>EFO:0008780</td>\n",
       "      <td>&lt;MASK&gt;</td>\n",
       "      <td>&lt;MASK&gt;</td>\n",
       "      <td>&lt;MASK&gt;</td>\n",
       "      <td>&lt;MASK&gt;</td>\n",
       "      <td>&lt;MASK&gt;</td>\n",
       "    </tr>\n",
       "    <tr>\n",
       "      <th>19584</th>\n",
       "      <td>pbmc1_inDrops_TGTTATCA-GGAGGTAA-TGGTATGA</td>\n",
       "      <td>237</td>\n",
       "      <td>329</td>\n",
       "      <td>0.145896656534954</td>\n",
       "      <td>2</td>\n",
       "      <td>CD4+ T cell</td>\n",
       "      <td>pbmc1</td>\n",
       "      <td>inDrops</td>\n",
       "      <td>inDrop</td>\n",
       "      <td>cell</td>\n",
       "      <td>329</td>\n",
       "      <td>EFO:0008780</td>\n",
       "      <td>&lt;MASK&gt;</td>\n",
       "      <td>&lt;MASK&gt;</td>\n",
       "      <td>&lt;MASK&gt;</td>\n",
       "      <td>&lt;MASK&gt;</td>\n",
       "      <td>&lt;MASK&gt;</td>\n",
       "    </tr>\n",
       "  </tbody>\n",
       "</table>\n",
       "<p>4254 rows × 17 columns</p>\n",
       "</div>"
      ],
      "text/plain": [
       "                                           NAME nGene  nUMI  \\\n",
       "960             pbmc1_10x_v2_A_AACCGCGCAATCTACG  1031  2730   \n",
       "961             pbmc1_10x_v2_A_AACCGCGTCATCATTC   833  1921   \n",
       "972             pbmc1_10x_v2_A_AAGCCGCTCTAACCGA  1099  3419   \n",
       "1095            pbmc1_10x_v2_A_AGGTCCGGTTAAGATG   926  2479   \n",
       "1120            pbmc1_10x_v2_A_ATCATCTAGTGTCCAT  1066  3260   \n",
       "...                                         ...   ...   ...   \n",
       "19561  pbmc1_inDrops_TGGCTAGT-GGAGGTAA-GGTTTCTC   249   390   \n",
       "19562  pbmc1_inDrops_TGGCTAGT-GGAGGTAA-GTTTACGT   332   482   \n",
       "19571  pbmc1_inDrops_TGGTGTCT-GGAGGTAA-TAGTGTTT   250   367   \n",
       "19583  pbmc1_inDrops_TGTTATCA-GGAGGTAA-TAAATAGG   309   477   \n",
       "19584  pbmc1_inDrops_TGTTATCA-GGAGGTAA-TGGTATGA   237   329   \n",
       "\n",
       "             percent.mito Cluster     CellType Experiment  \\\n",
       "960    0.0296703296703297       2  CD4+ T cell      pbmc1   \n",
       "961    0.0661114003123373       2  CD4+ T cell      pbmc1   \n",
       "972    0.0295408014039193       2  CD4+ T cell      pbmc1   \n",
       "1095   0.0399354578459056       2  CD4+ T cell      pbmc1   \n",
       "1120   0.0306748466257669       2  CD4+ T cell      pbmc1   \n",
       "...                   ...     ...          ...        ...   \n",
       "19561   0.117948717948718       2  CD4+ T cell      pbmc1   \n",
       "19562  0.0788381742738589       2  CD4+ T cell      pbmc1   \n",
       "19571  0.0926430517711172       2  CD4+ T cell      pbmc1   \n",
       "19583   0.132075471698113       2  CD4+ T cell      pbmc1   \n",
       "19584   0.145896656534954       2  CD4+ T cell      pbmc1   \n",
       "\n",
       "                    Method      assay suspension_type  total_mrna_umis  \\\n",
       "960    10x Chromium (v2) A  10x 3' v2            cell             2730   \n",
       "961    10x Chromium (v2) A  10x 3' v2            cell             1921   \n",
       "972    10x Chromium (v2) A  10x 3' v2            cell             3419   \n",
       "1095   10x Chromium (v2) A  10x 3' v2            cell             2479   \n",
       "1120   10x Chromium (v2) A  10x 3' v2            cell             3260   \n",
       "...                    ...        ...             ...              ...   \n",
       "19561              inDrops     inDrop            cell              390   \n",
       "19562              inDrops     inDrop            cell              482   \n",
       "19571              inDrops     inDrop            cell              367   \n",
       "19583              inDrops     inDrop            cell              477   \n",
       "19584              inDrops     inDrop            cell              329   \n",
       "\n",
       "      assay_ontology_term_id cell_type_ontology_term_id  \\\n",
       "960              EFO:0009899                     <MASK>   \n",
       "961              EFO:0009899                     <MASK>   \n",
       "972              EFO:0009899                     <MASK>   \n",
       "1095             EFO:0009899                     <MASK>   \n",
       "1120             EFO:0009899                     <MASK>   \n",
       "...                      ...                        ...   \n",
       "19561            EFO:0008780                     <MASK>   \n",
       "19562            EFO:0008780                     <MASK>   \n",
       "19571            EFO:0008780                     <MASK>   \n",
       "19583            EFO:0008780                     <MASK>   \n",
       "19584            EFO:0008780                     <MASK>   \n",
       "\n",
       "      tissue_ontology_term_id development_stage_ontology_term_id  \\\n",
       "960                    <MASK>                             <MASK>   \n",
       "961                    <MASK>                             <MASK>   \n",
       "972                    <MASK>                             <MASK>   \n",
       "1095                   <MASK>                             <MASK>   \n",
       "1120                   <MASK>                             <MASK>   \n",
       "...                       ...                                ...   \n",
       "19561                  <MASK>                             <MASK>   \n",
       "19562                  <MASK>                             <MASK>   \n",
       "19571                  <MASK>                             <MASK>   \n",
       "19583                  <MASK>                             <MASK>   \n",
       "19584                  <MASK>                             <MASK>   \n",
       "\n",
       "      disease_ontology_term_id sex_ontology_term_id  \n",
       "960                     <MASK>               <MASK>  \n",
       "961                     <MASK>               <MASK>  \n",
       "972                     <MASK>               <MASK>  \n",
       "1095                    <MASK>               <MASK>  \n",
       "1120                    <MASK>               <MASK>  \n",
       "...                        ...                  ...  \n",
       "19561                   <MASK>               <MASK>  \n",
       "19562                   <MASK>               <MASK>  \n",
       "19571                   <MASK>               <MASK>  \n",
       "19583                   <MASK>               <MASK>  \n",
       "19584                   <MASK>               <MASK>  \n",
       "\n",
       "[4254 rows x 17 columns]"
      ]
     },
     "execution_count": 20,
     "metadata": {},
     "output_type": "execute_result"
    }
   ],
   "source": [
    "new_adata.obs"
   ]
  },
  {
   "cell_type": "code",
   "execution_count": 57,
   "metadata": {},
   "outputs": [],
   "source": [
    "ctx = CellariumGPTInferenceContext(\n",
    "    cellarium_gpt_ckpt_path=CHECKPOINT_PATH,\n",
    "    ref_adata_path=REF_ADATA_FP,\n",
    "    gene_info_tsv_path=GENE_INFO_PATH,\n",
    "    device=DEVICE,\n",
    "    attention_backend=\"mem_efficient\"\n",
    ")"
   ]
  },
  {
   "cell_type": "code",
   "execution_count": 58,
   "metadata": {},
   "outputs": [],
   "source": [
    "metadata_prompt_dict = {\n",
    "    \"cell_type\": False,\n",
    "    \"tissue\": False,\n",
    "    \"disease\": False,\n",
    "    \"sex\": False,\n",
    "    \"development_stage\": False\n",
    "}\n",
    "\n",
    "rng = torch.Generator(device='cpu')\n",
    "\n",
    "var_names = list(val_adata.var_names)\n",
    "fixed_gene_name_list = np.random.choice(var_names, size=4096, replace=False)\n",
    "\n",
    "query_assay_ontology_term_id = assay_ontology_term_id_map['Seq-Well']\n",
    "query_total_mrna_umis = torch.multinomial(probs_per_method['Seq-Well'], num_samples=1, replacement=True)\n",
    "\n",
    "tokens_dict, context_indices = ctx.generate_tokens_from_adata(new_adata, \n",
    "                                                              obs_index=[0], \n",
    "                                                              query_var_names=fixed_gene_name_list,\n",
    "                                                              metadata_prompt_masks_dict=metadata_prompt_dict,\n",
    "                                                              n_rand_prompt_vars=0,\n",
    "                                                              rand_prompt_var_names_sublist=[],\n",
    "                                                              fixed_prompt_var_names_sublist=fixed_gene_name_list,\n",
    "                                                              rng = rng,\n",
    "                                                              query_total_mrna_umis=query_total_mrna_umis,\n",
    "                                                              query_assay_ontology_term_id=query_assay_ontology_term_id)"
   ]
  },
  {
   "cell_type": "code",
   "execution_count": 59,
   "metadata": {},
   "outputs": [
    {
     "data": {
      "text/plain": [
       "dict_keys(['token_value_nc_dict', 'token_mask_nc_dict', 'prompt_mask_nc'])"
      ]
     },
     "execution_count": 59,
     "metadata": {},
     "output_type": "execute_result"
    }
   ],
   "source": [
    "tokens_dict.keys()"
   ]
  },
  {
   "cell_type": "code",
   "execution_count": 60,
   "metadata": {},
   "outputs": [],
   "source": [
    "tokens_dict = ctx.gpt_pipeline.transfer_batch_to_device(tokens_dict, 'cuda', 0)\n",
    "\n",
    "with torch.no_grad():\n",
    "    logits_dict = ctx.gpt_pipeline.model.predict(\n",
    "        token_value_nc_dict=tokens_dict[\"token_value_nc_dict\"],\n",
    "        token_mask_nc_dict=tokens_dict[\"token_mask_nc_dict\"],\n",
    "        prompt_mask_nc=tokens_dict[\"prompt_mask_nc\"],\n",
    "    )"
   ]
  },
  {
   "cell_type": "code",
   "execution_count": 61,
   "metadata": {},
   "outputs": [
    {
     "data": {
      "text/plain": [
       "dict_keys(['cell_type', 'development_stage', 'disease', 'gene_value', 'sex', 'tissue'])"
      ]
     },
     "execution_count": 61,
     "metadata": {},
     "output_type": "execute_result"
    }
   ],
   "source": [
    "logits_dict.keys()"
   ]
  },
  {
   "cell_type": "code",
   "execution_count": 63,
   "metadata": {},
   "outputs": [
    {
     "data": {
      "text/plain": [
       "torch.Size([4096, 2001])"
      ]
     },
     "execution_count": 63,
     "metadata": {},
     "output_type": "execute_result"
    }
   ],
   "source": [
    "logits_dict['gene_value'][0, context_indices['query_genes'], :].shape"
   ]
  },
  {
   "cell_type": "code",
   "execution_count": 30,
   "metadata": {},
   "outputs": [
    {
     "data": {
      "text/plain": [
       "tensor([[[  4.2208,   0.9350,  -1.4505,  ...,  -4.8031,  -4.9506, -11.0402],\n",
       "         [  4.0539,   0.8205,  -0.9730,  ..., -14.5895, -14.2560, -12.1323],\n",
       "         [  1.1134,   1.1017,   0.6954,  ...,  -9.4506,  -9.8169,  -8.4621],\n",
       "         ...,\n",
       "         [  2.0158,   1.0070,   0.2220,  ...,  -3.4047,  -3.6295,  -7.3717],\n",
       "         [  0.8720,   0.6052,   0.2813,  ...,  -3.9563,  -4.1787,  -6.6528],\n",
       "         [  2.2946,   0.8843,   0.1929,  ..., -12.9952, -13.1717, -11.7156]]],\n",
       "       device='cuda:0')"
      ]
     },
     "execution_count": 30,
     "metadata": {},
     "output_type": "execute_result"
    }
   ],
   "source": [
    "logits_dict['gene_value']"
   ]
  },
  {
   "cell_type": "code",
   "execution_count": 64,
   "metadata": {},
   "outputs": [
    {
     "data": {
      "text/plain": [
       "tensor([[  5.3198,   0.7887,  -1.7611,  ..., -16.7368, -16.9685, -15.3810],\n",
       "        [  4.7001,   0.9520,  -1.3822,  ..., -16.0767, -16.1377, -15.6138],\n",
       "        [  3.4684,   1.7503,  -0.0520,  ..., -17.0782, -17.1338, -16.5930],\n",
       "        ...,\n",
       "        [  5.6045,   0.6798,  -1.7800,  ..., -17.0092, -17.1243, -16.8910],\n",
       "        [  4.8315,   0.6411,  -1.5991,  ..., -16.2448, -16.4512, -17.9641],\n",
       "        [  3.8372,   1.4307,  -0.6520,  ..., -18.2189, -18.2368, -18.3403]],\n",
       "       device='cuda:0')"
      ]
     },
     "execution_count": 64,
     "metadata": {},
     "output_type": "execute_result"
    }
   ],
   "source": [
    "gene_logits_qk = logits_dict['gene_value'][0, context_indices['query_genes'], :]\n",
    "gene_logits_qk"
   ]
  },
  {
   "cell_type": "code",
   "execution_count": 65,
   "metadata": {},
   "outputs": [
    {
     "data": {
      "text/plain": [
       "tensor([[-1.1717e-02, -4.5428e+00, -7.0926e+00,  ..., -2.2068e+01,\n",
       "         -2.2300e+01, -2.0713e+01],\n",
       "        [-2.6031e-02, -3.7741e+00, -6.1083e+00,  ..., -2.0803e+01,\n",
       "         -2.0864e+01, -2.0340e+01],\n",
       "        [-1.9549e-01, -1.9136e+00, -3.7159e+00,  ..., -2.0742e+01,\n",
       "         -2.0798e+01, -2.0257e+01],\n",
       "        ...,\n",
       "        [-7.9942e-03, -4.9327e+00, -7.3925e+00,  ..., -2.2622e+01,\n",
       "         -2.2737e+01, -2.2504e+01],\n",
       "        [-1.7214e-02, -4.2076e+00, -6.4478e+00,  ..., -2.1094e+01,\n",
       "         -2.1300e+01, -2.2813e+01],\n",
       "        [-9.8837e-02, -2.5053e+00, -4.5880e+00,  ..., -2.2155e+01,\n",
       "         -2.2173e+01, -2.2276e+01]], device='cuda:0')"
      ]
     },
     "execution_count": 65,
     "metadata": {},
     "output_type": "execute_result"
    }
   ],
   "source": [
    "gene_logits_qk = gene_logits_qk - torch.logsumexp(gene_logits_qk, dim=-1, keepdim=True)\n",
    "gene_logits_qk"
   ]
  },
  {
   "cell_type": "code",
   "execution_count": 66,
   "metadata": {},
   "outputs": [
    {
     "data": {
      "text/plain": [
       "torch.Size([4096, 2001])"
      ]
     },
     "execution_count": 66,
     "metadata": {},
     "output_type": "execute_result"
    }
   ],
   "source": [
    "gene_logits_qk.shape"
   ]
  },
  {
   "cell_type": "code",
   "execution_count": 75,
   "metadata": {},
   "outputs": [
    {
     "data": {
      "text/plain": [
       "tensor(397, device='cuda:0')"
      ]
     },
     "execution_count": 75,
     "metadata": {},
     "output_type": "execute_result"
    }
   ],
   "source": [
    "dist = torch.distributions.categorical.Categorical(logits = gene_logits_qk)\n",
    "dist.sample().sum()"
   ]
  },
  {
   "cell_type": "code",
   "execution_count": 36,
   "metadata": {},
   "outputs": [],
   "source": [
    "MAX_COUNTS = gene_logits_qk.shape[-1]\n",
    "log_counts_1_k = torch.arange(0, MAX_COUNTS, device=gene_logits_qk.device).log()\n",
    "log_counts_2_k = torch.arange(0, MAX_COUNTS, device=gene_logits_qk.device).pow(2).log()\n",
    "gene_mom_1_q = torch.logsumexp(gene_logits_qk + log_counts_1_k[None, :], dim=-1).exp()\n",
    "gene_mom_2_q = torch.logsumexp(gene_logits_qk + log_counts_2_k[None, :], dim=-1).exp()\n",
    "gene_marginal_mean_q = gene_mom_1_q\n",
    "gene_marginal_std_q = torch.clamp(gene_mom_2_q - gene_mom_1_q.pow(2), 0.).sqrt()"
   ]
  },
  {
   "cell_type": "code",
   "execution_count": 37,
   "metadata": {},
   "outputs": [
    {
     "data": {
      "text/plain": [
       "(tensor([0.0116, 0.2996, 0.0109,  ..., 0.5293, 0.0066, 0.0050], device='cuda:0'),\n",
       " tensor([0.9339, 1.8299, 1.1654,  ..., 1.7146, 0.7750, 0.8502], device='cuda:0'))"
      ]
     },
     "execution_count": 37,
     "metadata": {},
     "output_type": "execute_result"
    }
   ],
   "source": [
    "gene_marginal_mean_q, gene_marginal_std_q"
   ]
  },
  {
   "cell_type": "code",
   "execution_count": 38,
   "metadata": {},
   "outputs": [
    {
     "data": {
      "text/plain": [
       "(torch.Size([4096]), torch.Size([4096]))"
      ]
     },
     "execution_count": 38,
     "metadata": {},
     "output_type": "execute_result"
    }
   ],
   "source": [
    "gene_marginal_mean_q.shape, gene_marginal_std_q.shape"
   ]
  },
  {
   "cell_type": "code",
   "execution_count": null,
   "metadata": {},
   "outputs": [],
   "source": []
  }
 ],
 "metadata": {
  "kernelspec": {
   "display_name": "Python 3 (ipykernel)",
   "language": "python",
   "name": "python3"
  },
  "language_info": {
   "codemirror_mode": {
    "name": "ipython",
    "version": 3
   },
   "file_extension": ".py",
   "mimetype": "text/x-python",
   "name": "python",
   "nbconvert_exporter": "python",
   "pygments_lexer": "ipython3",
   "version": "3.10.4"
  }
 },
 "nbformat": 4,
 "nbformat_minor": 2
}
