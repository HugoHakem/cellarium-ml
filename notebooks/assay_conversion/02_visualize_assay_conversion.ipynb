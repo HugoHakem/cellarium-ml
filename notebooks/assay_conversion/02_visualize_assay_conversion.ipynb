{
 "cells": [
  {
   "cell_type": "code",
   "execution_count": null,
   "metadata": {},
   "outputs": [],
   "source": [
    "import os\n",
    "import pandas as pd\n",
    "import scanpy as sc\n",
    "import numpy as np\n",
    "import matplotlib.pyplot as plt\n",
    "import plotly.express as px\n",
    "from sklearn.metrics import r2_score\n",
    "from scipy.stats import pearsonr\n",
    "\n",
    "sc.settings.verbosity = 3  # verbosity: errors (0), warnings (1), info (2), hints (3)\n",
    "sc.logging.print_header()\n",
    "sc.settings.set_figure_params(dpi=80, facecolor=\"white\")"
   ]
  },
  {
   "cell_type": "code",
   "execution_count": null,
   "metadata": {},
   "outputs": [],
   "source": [
    "ROOT_DIR = '/work/hdd/bbjr/mallina1/data/human_cellariumgpt_v2/assay_conversion'\n",
    "\n",
    "INP_DIR = max((d for d in os.listdir(ROOT_DIR) if os.path.isdir(os.path.join(ROOT_DIR, d))), key=lambda x: os.path.getctime(os.path.join(ROOT_DIR, x)))\n",
    "print(INP_DIR)"
   ]
  },
  {
   "cell_type": "code",
   "execution_count": null,
   "metadata": {},
   "outputs": [],
   "source": [
    "original_adata = sc.read_h5ad(os.path.join(ROOT_DIR, INP_DIR, 'original.h5ad'))\n",
    "converted_adata = sc.read_h5ad(os.path.join(ROOT_DIR, INP_DIR, 'converted.h5ad'))\n",
    "converted_means_adata = sc.read_h5ad(os.path.join(ROOT_DIR, INP_DIR, 'converted_means.h5ad'))"
   ]
  },
  {
   "cell_type": "code",
   "execution_count": null,
   "metadata": {},
   "outputs": [],
   "source": [
    "print(original_adata.obs.CellType.value_counts())\n",
    "print()\n",
    "print(original_adata.obs.Method.value_counts())\n",
    "print()\n",
    "print(original_adata.obs.Experiment.value_counts())"
   ]
  },
  {
   "cell_type": "code",
   "execution_count": null,
   "metadata": {},
   "outputs": [],
   "source": [
    "assay1 = '10x Chromium (v3)'\n",
    "cell_type = 'CD4+ T cell'\n",
    "\n",
    "ct_original = original_adata[original_adata.obs.CellType == cell_type]\n",
    "ct_converted = converted_adata[converted_adata.obs.CellType == cell_type]\n",
    "ct_converted_means = converted_means_adata[converted_means_adata.obs.CellType == cell_type]"
   ]
  },
  {
   "cell_type": "code",
   "execution_count": null,
   "metadata": {},
   "outputs": [],
   "source": [
    "a1_X_g = np.array(ct_original[ct_original.obs.Method == assay1].X.sum(0)).squeeze()\n",
    "a2_X_g = np.array(ct_converted[ct_converted.obs.Method == assay1].X.sum(0)).squeeze()\n",
    "a3_X_g = np.array(ct_converted_means[ct_converted_means.obs.Method == assay1].X.sum(0)).squeeze()\n",
    "\n",
    "a1_X_g = a1_X_g / np.sum(a1_X_g) * 1000000\n",
    "a2_X_g = a2_X_g / np.sum(a2_X_g) * 1000000\n",
    "a3_X_g = a3_X_g / np.sum(a3_X_g) * 1000000"
   ]
  },
  {
   "cell_type": "code",
   "execution_count": null,
   "metadata": {},
   "outputs": [],
   "source": [
    "x_label = f'Original {assay1}'\n",
    "y_label = 'Converted 10x v3'\n",
    "\n",
    "df = {\n",
    "    x_label: np.log1p(a1_X_g),\n",
    "    y_label: np.log1p(a2_X_g),\n",
    "    'var_names': ct_original.var_names,\n",
    "    'gene_symbols': ct_original.var.gene_symbols\n",
    "}\n",
    "\n",
    "px.scatter(df, x=x_label, y=y_label, \n",
    "           hover_data=['gene_symbols'], \n",
    "           width=250, height=250,\n",
    "           title=f'{cell_type}')"
   ]
  },
  {
   "cell_type": "code",
   "execution_count": null,
   "metadata": {},
   "outputs": [],
   "source": [
    "r2 = r2_score(np.log1p(a1_X_g), np.log1p(a2_X_g))\n",
    "print(f'sklearn.metrics.r2_score in log space:\\t{r2}')\n",
    "\n",
    "r2 = r2_score(a1_X_g, a2_X_g)\n",
    "print(f'sklearn.metrics.r2_score:\\t{r2}')\n",
    "\n",
    "r2 = pearsonr(np.log1p(a1_X_g), np.log1p(a2_X_g))\n",
    "print(f'scipy.stats.pearsonr in log space:\\t{r2}')\n",
    "\n",
    "r2 = pearsonr(a1_X_g, a2_X_g)\n",
    "print(f'scipy.stats.pearsonr:\\t{r2}')"
   ]
  },
  {
   "cell_type": "code",
   "execution_count": null,
   "metadata": {},
   "outputs": [],
   "source": [
    "x_label = f'Original {assay1}'\n",
    "y_label = 'Converted 10x v3'\n",
    "\n",
    "df = {\n",
    "    x_label: np.log1p(a1_X_g),\n",
    "    y_label: np.log1p(a3_X_g),\n",
    "    'var_names': ct_original.var_names,\n",
    "    'gene_symbols': ct_original.var.gene_symbols\n",
    "}\n",
    "\n",
    "px.scatter(df, x=x_label, y=y_label, \n",
    "           hover_data=['gene_symbols'], \n",
    "           width=250, height=250,\n",
    "           title=f'{cell_type}')"
   ]
  },
  {
   "cell_type": "code",
   "execution_count": null,
   "metadata": {},
   "outputs": [],
   "source": [
    "r2 = r2_score(np.log1p(a1_X_g), np.log1p(a3_X_g))\n",
    "print(f'sklearn.metrics.r2_score in log space:\\t{r2}')\n",
    "\n",
    "r2 = r2_score(a1_X_g, a3_X_g)\n",
    "print(f'sklearn.metrics.r2_score:\\t{r2}')\n",
    "\n",
    "r2 = pearsonr(np.log1p(a1_X_g), np.log1p(a3_X_g))\n",
    "print(f'scipy.stats.pearsonr in log space:\\t{r2}')\n",
    "\n",
    "r2 = pearsonr(a1_X_g, a3_X_g)\n",
    "print(f'scipy.stats.pearsonr:\\t{r2}')"
   ]
  }
 ],
 "metadata": {
  "language_info": {
   "name": "python"
  }
 },
 "nbformat": 4,
 "nbformat_minor": 2
}
