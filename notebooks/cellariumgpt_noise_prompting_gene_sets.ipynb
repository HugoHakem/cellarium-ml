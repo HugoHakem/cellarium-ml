{
 "cells": [
  {
   "cell_type": "markdown",
   "metadata": {},
   "source": [
    "# Noise prompting to explore the Cellarium GPT data manifold: gene sets"
   ]
  },
  {
   "cell_type": "markdown",
   "metadata": {},
   "source": [
    "Stephen Fleming\n",
    "\n",
    "2024.05.16"
   ]
  },
  {
   "cell_type": "markdown",
   "metadata": {},
   "source": [
    "The idea here is to fiddle with the inputs and explore how the output embeddings move as a result.  The transformer stack is designed to take an input and create an output somewhere on the data manifold.  It knows the data manifold.  Are there coordinated motions (coordination among genes)?\n",
    "\n",
    "This is like doing small linear perturbations around manifold fixed points to see what the on-manifold linear response looks like."
   ]
  },
  {
   "cell_type": "code",
   "execution_count": null,
   "metadata": {},
   "outputs": [],
   "source": [
    "from cellarium.ml.downstream.cellarium_utils import get_pretrained_model_as_pipeline, harmonize_anndata_with_model\n",
    "from cellarium.ml.downstream.gene_set_utils import GeneSetRecords\n",
    "from cellarium.ml.downstream.noise_prompting import noise_prompt_gene_set_collection"
   ]
  },
  {
   "cell_type": "code",
   "execution_count": null,
   "metadata": {},
   "outputs": [],
   "source": [
    "import scanpy as sc\n",
    "import anndata\n",
    "import torch\n",
    "import numpy as np\n",
    "import pandas as pd\n",
    "import matplotlib.pyplot as plt\n",
    "%matplotlib inline\n",
    "\n",
    "sc.set_figure_params(fontsize=14, vector_friendly=True)"
   ]
  },
  {
   "cell_type": "markdown",
   "metadata": {},
   "source": [
    "# Instantiate pretrained CellariumGPT model"
   ]
  },
  {
   "cell_type": "code",
   "execution_count": null,
   "metadata": {},
   "outputs": [],
   "source": [
    "pipeline = get_pretrained_model_as_pipeline(device=\"cuda\" if torch.cuda.is_available() else \"cpu\")"
   ]
  },
  {
   "cell_type": "markdown",
   "metadata": {},
   "source": [
    "# Data"
   ]
  },
  {
   "cell_type": "code",
   "execution_count": null,
   "metadata": {},
   "outputs": [],
   "source": [
    "# load data\n",
    "adata = anndata.read_h5ad(\"/home/sfleming/geneformer/100k.h5ad\")\n",
    "adata = harmonize_anndata_with_model(adata=adata, pipeline=pipeline)\n",
    "adata.layers['count'] = adata.X.copy()\n",
    "adata"
   ]
  },
  {
   "cell_type": "code",
   "execution_count": null,
   "metadata": {},
   "outputs": [],
   "source": [
    "# choose cells to focus on\n",
    "cell_logic = (\n",
    "    (adata.obs['assay'] == \"10x 3' v3\") \n",
    "    & (adata.obs['total_mrna_umis'] > 5000) \n",
    "    & (adata.obs['suspension_type'] == 'cell')\n",
    ")"
   ]
  },
  {
   "cell_type": "markdown",
   "metadata": {},
   "source": [
    "## Cell type"
   ]
  },
  {
   "cell_type": "code",
   "execution_count": null,
   "metadata": {},
   "outputs": [],
   "source": [
    "adata.obs['cell_type'][cell_logic].value_counts().head(20)"
   ]
  },
  {
   "cell_type": "code",
   "execution_count": null,
   "metadata": {},
   "outputs": [],
   "source": [
    "adata_subset = adata[cell_logic & (adata.obs['cell_type'].str.contains('monocyte'))].copy()\n",
    "adata_subset"
   ]
  },
  {
   "cell_type": "markdown",
   "metadata": {},
   "source": [
    "## Choosing a single cell"
   ]
  },
  {
   "cell_type": "markdown",
   "metadata": {},
   "source": [
    "We actually only use one exemplar cell for this work, so we probably want to choose it well."
   ]
  },
  {
   "cell_type": "code",
   "execution_count": null,
   "metadata": {},
   "outputs": [],
   "source": [
    "sc.pp.highly_variable_genes(adata_subset, layer='count', n_top_genes=2000, flavor='seurat_v3')\n",
    "\n",
    "adata_subset.X = adata_subset.layers['count'].copy()\n",
    "sc.pp.normalize_total(adata_subset)\n",
    "sc.pp.log1p(adata_subset)\n",
    "sc.pp.scale(adata_subset, max_value=10.0)\n",
    "sc.tl.pca(adata_subset, use_highly_variable=True)\n",
    "adata_subset.obsm['X_pca_minus1'] = adata_subset.obsm['X_pca'][:, 1:].copy()\n",
    "\n",
    "sc.pp.neighbors(adata_subset, use_rep='X_pca_minus1', n_pcs=3, n_neighbors=15)\n",
    "sc.tl.umap(adata_subset)"
   ]
  },
  {
   "cell_type": "code",
   "execution_count": null,
   "metadata": {},
   "outputs": [],
   "source": [
    "sc.pl.embedding(adata_subset, basis='umap', color='dataset_id')"
   ]
  },
  {
   "cell_type": "code",
   "execution_count": null,
   "metadata": {},
   "outputs": [],
   "source": [
    "sc.pl.embedding(adata_subset, basis='umap', show=False, color='cell_type') # na_color='k')\n",
    "plt.xticks(np.arange(adata_subset.obsm['X_umap'][:, 0].min(), adata_subset.obsm['X_umap'][:, 0].max()),\n",
    "           rotation=90)\n",
    "plt.yticks(np.arange(adata_subset.obsm['X_umap'][:, 1].min(), adata_subset.obsm['X_umap'][:, 1].max()))\n",
    "plt.show()"
   ]
  },
  {
   "cell_type": "code",
   "execution_count": null,
   "metadata": {},
   "outputs": [],
   "source": [
    "# use the UMAP to pick a \"typical looking\" cell\n",
    "adata_cell = adata_subset[(adata_subset.obsm['X_umap'][:, 0] > 8)\n",
    "                          & (adata_subset.obsm['X_umap'][:, 0] < 9)\n",
    "                          & (adata_subset.obsm['X_umap'][:, 1] > 3)\n",
    "                          & (adata_subset.obsm['X_umap'][:, 1] < 4)][0].copy()\n",
    "adata_cell"
   ]
  },
  {
   "cell_type": "code",
   "execution_count": null,
   "metadata": {},
   "outputs": [],
   "source": [
    "adata_cell.obs['cell_type'].item()"
   ]
  },
  {
   "cell_type": "markdown",
   "metadata": {},
   "source": [
    "# Gene sets"
   ]
  },
  {
   "cell_type": "code",
   "execution_count": null,
   "metadata": {},
   "outputs": [],
   "source": [
    "msigdb = GeneSetRecords('/home/sfleming/geneformer/msigdb.v2023.2.Hs.json')\n",
    "msigdb"
   ]
  },
  {
   "cell_type": "code",
   "execution_count": null,
   "metadata": {},
   "outputs": [],
   "source": [
    "len(msigdb.get_gene_set_names(collection='C2:CP:BIOCARTA'))"
   ]
  },
  {
   "cell_type": "code",
   "execution_count": null,
   "metadata": {},
   "outputs": [],
   "source": [
    "len(msigdb.get_gene_set_names(collection='C2:CP:REACTOME'))"
   ]
  },
  {
   "cell_type": "code",
   "execution_count": null,
   "metadata": {},
   "outputs": [],
   "source": [
    "len(msigdb.get_gene_set_names(collection='C5:GO:BP'))"
   ]
  },
  {
   "cell_type": "markdown",
   "metadata": {},
   "source": [
    "# Noise prompting"
   ]
  },
  {
   "cell_type": "markdown",
   "metadata": {},
   "source": [
    "## Genes to include in model"
   ]
  },
  {
   "cell_type": "code",
   "execution_count": null,
   "metadata": {},
   "outputs": [],
   "source": [
    "# mean expression of each gene in cells of this type\n",
    "adata_cell.var['mean'] = np.array(adata[adata.obs['cell_type'] == adata_cell.obs['cell_type'].item()].X.mean(axis=0)).squeeze()\n",
    "adata_cell.var['frac_nonzero'] = np.array((adata[adata.obs['cell_type'] == adata_cell.obs['cell_type'].item()].X > 0).mean(axis=0)).squeeze()\n",
    "\n",
    "adata_cell.var['gpt_include'] = adata_cell.var['frac_nonzero'] > 0.25\n",
    "adata_cell.var['gpt_include'].sum()"
   ]
  },
  {
   "cell_type": "markdown",
   "metadata": {},
   "source": [
    "## Compute"
   ]
  },
  {
   "cell_type": "code",
   "execution_count": null,
   "metadata": {},
   "outputs": [],
   "source": [
    "%load_ext autoreload\n",
    "%autoreload 2"
   ]
  },
  {
   "cell_type": "code",
   "execution_count": null,
   "metadata": {},
   "outputs": [],
   "source": [
    "adata_cell.X = adata_cell.layers['count'].copy()"
   ]
  },
  {
   "cell_type": "code",
   "execution_count": null,
   "metadata": {},
   "outputs": [],
   "source": [
    "collection = 'C5:GO:BP'\n",
    "\n",
    "df = noise_prompt_gene_set_collection(\n",
    "    adata_cell,\n",
    "    pipeline=pipeline,\n",
    "    msigdb=msigdb,\n",
    "    collection=collection,\n",
    "    fraction_of_set_to_perturb=0.5, \n",
    "    n_random_splits=10,\n",
    "    n_perturbations=100, \n",
    "    perturbation_scale=1.0,\n",
    "    min_gene_set_length=10,\n",
    "    max_gene_set_length=200,\n",
    "    n_pcs_in_output=5,\n",
    "    gsea_n_perm=1000,\n",
    "    seed=0,\n",
    "    n_pcs=50,\n",
    "    n_ics=10,\n",
    ")"
   ]
  },
  {
   "cell_type": "code",
   "execution_count": null,
   "metadata": {},
   "outputs": [],
   "source": [
    "!mkdir -p /home/sfleming/cellarium-ml/notebooks/outputs"
   ]
  },
  {
   "cell_type": "code",
   "execution_count": null,
   "metadata": {},
   "outputs": [],
   "source": [
    "df.to_csv(f'/home/sfleming/cellarium-ml/notebooks/outputs/cd14+cd16-classicalmonocyte_{collection}.csv')"
   ]
  },
  {
   "cell_type": "code",
   "execution_count": null,
   "metadata": {},
   "outputs": [],
   "source": [
    "df_grouped = df[\n",
    "    ['gene_set_name', 'pval_perturbed', 'es_perturbed', 'pval_unperturbed', 'es_unperturbed', 'pc', 'pc_frac_variance_explained']\n",
    "].groupby(['gene_set_name', 'pc']).mean()\n",
    "df_grouped"
   ]
  },
  {
   "cell_type": "code",
   "execution_count": null,
   "metadata": {},
   "outputs": [],
   "source": [
    "ddf = df_grouped[df_grouped['pval_unperturbed'] < 0.01].reset_index()\n",
    "ddf"
   ]
  },
  {
   "cell_type": "code",
   "execution_count": null,
   "metadata": {},
   "outputs": [],
   "source": [
    "ddf.sort_values(by='es_unperturbed', ascending=False)"
   ]
  },
  {
   "cell_type": "code",
   "execution_count": null,
   "metadata": {},
   "outputs": [],
   "source": [
    "ddf[ddf['gene_set_name'].str.startswith('random_controls')]"
   ]
  },
  {
   "cell_type": "code",
   "execution_count": null,
   "metadata": {},
   "outputs": [],
   "source": []
  },
  {
   "cell_type": "code",
   "execution_count": null,
   "metadata": {},
   "outputs": [],
   "source": []
  }
 ],
 "metadata": {
  "kernelspec": {
   "display_name": "cellarium",
   "language": "python",
   "name": "python3"
  },
  "language_info": {
   "codemirror_mode": {
    "name": "ipython",
    "version": 3
   },
   "file_extension": ".py",
   "mimetype": "text/x-python",
   "name": "python",
   "nbconvert_exporter": "python",
   "pygments_lexer": "ipython3",
   "version": "3.10.13"
  }
 },
 "nbformat": 4,
 "nbformat_minor": 2
}
