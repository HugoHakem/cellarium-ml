{
 "cells": [
  {
   "cell_type": "markdown",
   "id": "946a96f5",
   "metadata": {},
   "source": [
    "<center><h1> GEARS Dataset </h1></center>\n",
    "\n",
    "## Context\n",
    "\n",
    "This notebook intend to load the dataset used in GEARS and in the benchmarking paper [\\[1\\]](#benchmark).\n",
    "\n",
    "In particular, we will be using the following [datasets](#datasets).\n",
    "\n",
    "## Table of Contents\n",
    "\n",
    "- [Raw Data](#raw-pipeline)\n",
    "- [Pre-processed Data](#pre-processed-pipeline)\n",
    "\n",
    "## Datasets\n",
    "\n",
    "### Raw Data\n",
    "\n",
    "- [Adamson](https://www.ncbi.nlm.nih.gov/geo/query/acc.cgi?acc=GSE90546): \n",
    "  - ht<span>tps://</span>www.ncbi.nlm.nih.gov/geo/download/?acc=GSE90546&format=file\n",
    "  - Assay type: perturb-seq: a combination of droplet based scRNAseq with a strategy for barcoding CRISPR-mediated perturbations.\n",
    "  - Single CRIPSRi perturbation.\n",
    "  - Overall: 3 different pooled CRIPSR screening experiments were conducted via perturb-seq.\n",
    "- [Replogle](https://plus.figshare.com/articles/dataset/_Mapping_information-rich_genotype-phenotype_landscapes_with_genome-scale_Perturb-seq_Replogle_et_al_2022_processed_Perturb-seq_datasets/20029387):\n",
    "  - Single cell raw **K562 genome scale scale day 8 post-transduction** ht<span>tps://</span>plus.figshare.com/ndownloader/files/35775507\n",
    "  - Single cell raw **K562 essential scale day 6 post-transduction** ht<span>tps://</span>plus.figshare.com/ndownloader/files/35773219\n",
    "  - Single cell raw **RPE1 essential scale  day 7 post-transduction** ht<span>tps://</span>plus.figshare.com/ndownloader/files/35775606\n",
    "- [Norman](https://www.ncbi.nlm.nih.gov/geo/query/acc.cgi?acc=GSE133344):\n",
    "  - raw_barcodes.tsv.gz: ht<span>tps://</span>ftp.ncbi.nlm.nih.gov/geo/series/GSE133nnn/GSE133344/suppl/GSE133344%5Fraw%5Fbarcodes.tsv.gz\n",
    "  - raw_cell_identities.csv.gz: ht<span>tps://</span>ftp.ncbi.nlm.nih.gov/geo/series/GSE133nnn/GSE133344/suppl/GSE133344%5Fraw%5Fcell%5Fidentities.csv.gz\n",
    "  - raw_genes.tsv.gz: ht<span>tps://</span>ftp.ncbi.nlm.nih.gov/geo/series/GSE133nnn/GSE133344/suppl/GSE133344%5Fraw%5Fgenes.tsv.gz\n",
    "  - raw_matrix.mtx.gz: ht<span>tps://</span>ftp.ncbi.nlm.nih.gov/geo/series/GSE133nnn/GSE133344/suppl/GSE133344%5Fraw%5Fmatrix.mtx.gz\n",
    "\n",
    "### Pre-processed Data\n",
    "For completeness, here are the datasets used by GEARS or scFoundation and the benchmarking paper [\\[1\\]](#benchmark).\n",
    "\n",
    "**GEARS**:\n",
    "\n",
    "- Single-gene perturbation:\n",
    "  - [Adamson](https://dataverse.harvard.edu/file.xhtml?fileId=6154417&version=3.0&toolType=PREVIEW): ht<span>tps://</span>dataverse.harvard.edu/api/access/datafile/6154417\n",
    "  - [Relogle K562](https://dataverse.harvard.edu/file.xhtml?fileId=7458695&version=6.0&toolType=PREVIEW): ht<span>tps://</span>dataverse.harvard.edu/api/access/datafile/7458695\n",
    "  - [Replogle RPE1](https://dataverse.harvard.edu/file.xhtml?fileId=7458694&version=6.0&toolType=PREVIEW): ht<span>tps://</span>dataverse.harvard.edu/api/access/datafile/7458694\n",
    "\n",
    "- Multiple-gene perturbation\n",
    "  - [Norman](https://dataverse.harvard.edu/file.xhtml?fileId=6154020&version=3.0&toolType=PREVIEW): ht<span>tps://</span>dataverse.harvard.edu/api/access/datafile/6154020\n",
    "  - 131 two-gene perturbations\n",
    "\n",
    "**scFoundation**:\n",
    "\n",
    "Another preprocessing strategy for the Norman et al. dataset\n",
    "- [Norman scFoundation](https://figshare.com/articles/dataset/scFoundation_Large_Scale_Foundation_Model_on_Single-cell_Transcriptomics_-_processed_datasets/24049200?file=44477939): ht<span>tps://</span>figshare.com/ndownloader/files/44477939\n",
    "## References\n",
    "\n",
    "1. Ahlmann-Eltze, Huber, and Anders, “Deep Learning-Based Predictions of Gene Perturbation Effects Do Not yet Outperform Simple Linear Baselines.”<a id=\"benchmark\"></a>\n"
   ]
  },
  {
   "cell_type": "markdown",
   "id": "70975cfa",
   "metadata": {},
   "source": [
    "## 1) Download Datasets\n",
    "\n",
    "Note that the bash script is run from the Notebook but you can also run it from the shell. File will be downloaded using the `yaml` config in `fine tune/config/download.yaml`."
   ]
  },
  {
   "cell_type": "code",
   "execution_count": null,
   "id": "3a7b63e2",
   "metadata": {},
   "outputs": [],
   "source": [
    "%%bash\n",
    "cd ../../ # cd to root of the project\n",
    "python fine_tune/scripts/download/cli.py --config fine_tune/datasets/config/download.yaml"
   ]
  },
  {
   "cell_type": "markdown",
   "id": "ead96486",
   "metadata": {},
   "source": [
    "## 2) Create AnnData From Raw"
   ]
  },
  {
   "cell_type": "code",
   "execution_count": 2,
   "id": "00b791b7",
   "metadata": {},
   "outputs": [],
   "source": [
    "# All imports here\n",
    "from pathlib import Path\n",
    "\n",
    "import anndata as ad\n",
    "import numpy as np\n",
    "import pandas as pd\n",
    "import pooch\n",
    "\n",
    "data_path = Path(\"./../datasets\")\n",
    "\n",
    "\n",
    "%reload_ext autoreload\n",
    "%autoreload 2\n"
   ]
  },
  {
   "cell_type": "markdown",
   "id": "4e60d694",
   "metadata": {},
   "source": [
    "### a) Adamson\n",
    "\n",
    "**Note on Adamson**\n",
    "\n",
    "| Accession              | Experiment                    | Model                               | Protocol                                                                                    | Additional Protocol                                                                                                                          | sgRNA Count                                                                               | Cell Count | Assay Type           |\n",
    "| ---------------------- | ------------------------------ | ----------------------------------- | ------------------------------------------------------------------------------------------- | -------------------------------------------------------------------------------------------------------------------------------------------- | ----------------------------------------------------------------------------------------- | ---------- | -------------------- |\n",
    "| **GSM2406675\\_10X001** | **Pilot Experiment**           | K562 cells with dCas9-KRAB (cBA010) | Individual transduction → pooled after 3 days → selection + 5 days combined growth          | Growth in the presence of puromycin (3µg/mL)                                                                                                                                            | 8 distinct GBCs (1 control)                                                               | 5,768      | 10x 3' v1  |\n",
    "| **GSM2406677\\_10X005** | **UPR Epistasis Experiment**   | K562 cells with dCas9-KRAB (cBA010) | Individual transduction → pooled after 3 days → selection + 2 days combined growth          | To limit heterogenous effects of cell microenvironments caused by cell settling, the sorted cells were grown with continuous agitation on an orbital shaker. <br> <br> Pharmacological treatment: <br> • Thapsigargin (ER Ca²⁺ pump inhibitor) (100 nM/mL for 4 hr.)<br> • Tunicamycin (N-glycosylation inhibitor) (4 μg/mL for 6h) <br> • DMSO (control) for 6hr | 7 GBCs (3-guide vectors of 3 genes — single, double, triple) + 2 triple negative controls | 15,006     | 10x 3' v1            |\n",
    "| **GSM2406681\\_10X010** | **UPR Perturb-seq Experiment** | K562 cells with dCas9-KRAB (cBA011) | Individual lentivirus production → pooled transduction → selection + 7 days combined growth | To limit heterogenous effects of cell microenvironments caused by cell settling, the sorted cells were grown with continuous agitation on an orbital shaker. <br><br> Sequencing across two separate runs totaling 10 lanes.                                                                                                                                            | 93 GBCs (2 control GBCs; targets cover 82 genes)                                          | 65,337     | 10x 3' v1 (10 lanes) |\n",
    "\n",
    "**Remarque:**\n",
    "- UPR (unfolded protein response)\n",
    "- The assay technology is assumed to be the v1 of the Chromium Single Cell 3′ Solution (No specification of the version but 2016, launched year of the technology).\n",
    "- When the identity of a Cas9 targeting single guide RNA (sgRNA) couldn't be uniquely identified, it was either:\n",
    "  - \"multiplet\" \n",
    "  - \"NaN\""
   ]
  },
  {
   "cell_type": "code",
   "execution_count": 3,
   "id": "5e5bd494",
   "metadata": {},
   "outputs": [
    {
     "data": {
      "text/plain": [
       "{'GSM2406675_10X001': AnnData object with n_obs × n_vars = 5768 × 35635\n",
       "     obs: 'guide identity', 'read count', 'UMI count', 'coverage', 'good coverage', 'number of cells', 'experiment',\n",
       " 'GSM2406677_10X005': AnnData object with n_obs × n_vars = 15006 × 32738\n",
       "     obs: 'guide identity', 'read count', 'UMI count', 'coverage', 'good coverage', 'number of cells', 'experiment',\n",
       " 'GSM2406681_10X010': AnnData object with n_obs × n_vars = 65337 × 32738\n",
       "     obs: 'guide identity', 'read count', 'UMI count', 'coverage', 'good coverage', 'number of cells', 'experiment'}"
      ]
     },
     "execution_count": 3,
     "metadata": {},
     "output_type": "execute_result"
    }
   ],
   "source": [
    "adamson_dir = data_path.joinpath(\"raw/raw_adamson\")\n",
    "mtx_files = sorted(adamson_dir.glob(\"*_matrix.mtx.txt.gz\"))\n",
    "\n",
    "all_adatas = {}\n",
    "\n",
    "for mtx_file in mtx_files:\n",
    "    prefix = mtx_file.name.split(\"_matrix\")[0]\n",
    "\n",
    "    # Paths\n",
    "    barcodes_file = adamson_dir / f\"{prefix}_barcodes.tsv.gz\"\n",
    "    genes_file = adamson_dir / f\"{prefix}_genes.tsv.gz\"\n",
    "    identities_file = adamson_dir / f\"{prefix}_cell_identities.csv.gz\"\n",
    "\n",
    "    # Load metadata\n",
    "    genes = pd.read_csv(genes_file, header=None, sep=\"\\t\")\n",
    "    barcodes = pd.read_csv(barcodes_file, header=None)\n",
    "    cell_identities = pd.read_csv(identities_file, index_col=0)\n",
    "\n",
    "    # Create AnnData\n",
    "    adata = ad.io.read_mtx(mtx_file).T\n",
    "    adata.var_names = genes[0].values\n",
    "    adata.obs_names = barcodes[0].values\n",
    "    # adata.obs = cell_identities.loc[adata.obs_names] fail because more barcodes than cell_identity.\n",
    "    adata.obs = pd.DataFrame(index=adata.obs_names)\n",
    "    adata.obs = adata.obs.join(cell_identities) # fill with NaN barcodes with non found identity\n",
    "\n",
    "    # Optional: keep track of the experiment\n",
    "    adata.obs[\"experiment\"] = prefix\n",
    "    all_adatas[prefix] = adata\n",
    "\n",
    "all_adatas"
   ]
  },
  {
   "cell_type": "markdown",
   "id": "befc5aa0",
   "metadata": {},
   "source": [
    "#### i) Retrieve correct perturbation"
   ]
  },
  {
   "cell_type": "markdown",
   "id": "8bd09bee",
   "metadata": {},
   "source": [
    "Let's check the number of unique guide barcode which shall corresponds to the unique perturbations (except than certain barcode targets the same genes)."
   ]
  },
  {
   "cell_type": "code",
   "execution_count": 7,
   "id": "acab6109",
   "metadata": {},
   "outputs": [
    {
     "name": "stdout",
     "output_type": "stream",
     "text": [
      "Number of unique 'guide barcode' detected:\n",
      "GSM2406675_10X001: 10, expected 8, of which 1 controls. \n",
      "GSM2406677_10X005: 21, expected 9, of which 2 controls. \n",
      "GSM2406681_10X010: 115, expected 93, of which 2 controls. \n",
      "Potentially NaN or '*' for non identifiable or multiplets should be removed.\n"
     ]
    }
   ],
   "source": [
    "print(\n",
    "    \"Number of unique 'guide barcode' detected:\\n\" +\n",
    "    \"\\n\".join([\n",
    "        f\"{exp}: {adata.obs['guide identity'].unique().__len__()}, \"\n",
    "        f\"expected {gbc}, of which {control} controls. \"\n",
    "        for (exp, adata), (gbc, control) in zip(\n",
    "            all_adatas.items(),\n",
    "            zip([8, 9, 93],[1, 2, 2]) # issued from the table above, sgRNA column\n",
    "        )]) +\n",
    "    \"\\nPotentially NaN or '*' for non identifiable or multiplets should be removed.\"\n",
    ")"
   ]
  },
  {
   "cell_type": "markdown",
   "id": "1db2fd57",
   "metadata": {},
   "source": [
    "**Filtering must occurs:**\n",
    "- GSM2406675_10X001: \n",
    "  - Remove Nan and '*'\n",
    "- GSM2406677_10X005: \n",
    "  - Remove Nan and '*'\n",
    "  - Targeted genes should be a single, double or triple combination of:\n",
    "    - ATF6\n",
    "    - ERN1 (IRE1⍺)\n",
    "    - EIF2AK3 (PERK) -> We must rename PERK in EIF2AK3 to match the actual gene name\n",
    "- GSM2406681_10X010: \n",
    "  - Remove Nan and '*'\n",
    "  - Shall use the \"Table S1. Protospacer Sequences of sgRNAs\""
   ]
  },
  {
   "cell_type": "code",
   "execution_count": 221,
   "id": "b2e2cfe8",
   "metadata": {},
   "outputs": [],
   "source": [
    "adamson_pilot = all_adatas[\"GSM2406675_10X001\"]\n",
    "adamson_epistasis = all_adatas[\"GSM2406677_10X005\"]\n",
    "adamson_perturb = all_adatas[\"GSM2406681_10X010\"]"
   ]
  },
  {
   "cell_type": "code",
   "execution_count": 222,
   "id": "abad69e5",
   "metadata": {},
   "outputs": [
    {
     "name": "stderr",
     "output_type": "stream",
     "text": [
      "/tmp/ipykernel_1307588/337637523.py:3: UserWarning: This pattern is interpreted as a regular expression, and has match groups. To actually get the groups, use str.extract.\n",
      "  ~adamson_pilot.obs[\"guide identity\"].astype(str).str.contains(r\"(nan|\\*)\")\n",
      "/tmp/ipykernel_1307588/337637523.py:7: UserWarning: This pattern is interpreted as a regular expression, and has match groups. To actually get the groups, use str.extract.\n",
      "  adamson_epistasis.obs[\"guide identity\"].astype(str).str.contains(\"(ctrl|IRE1|PERK|ATF6)\")\n",
      "/home/hhakem/projects/cellarium-ml/.venv/lib/python3.11/site-packages/openpyxl/worksheet/_reader.py:329: UserWarning: Unknown extension is not supported and will be removed\n",
      "  warn(msg)\n"
     ]
    }
   ],
   "source": [
    "# Pilot experiment - remove NaN and '*'\n",
    "adamson_pilot = adamson_pilot[\n",
    "    ~adamson_pilot.obs[\"guide identity\"].astype(str).str.contains(r\"(nan|\\*)\")\n",
    "]\n",
    "# UPR epistasis experiment - keep only guide containing any of ctrl, IRE1, PERK, ATF6\n",
    "adamson_epistasis = adamson_epistasis[\n",
    "    adamson_epistasis.obs[\"guide identity\"].astype(str).str.contains(\"(ctrl|IRE1|PERK|ATF6)\")\n",
    "]\n",
    "\n",
    "# UPR perturb seq experiment - retrieve table S1 and filter out guide while keeping control: 'mod'\n",
    "file = pooch.retrieve(\n",
    "    url=\"https://ars.els-cdn.com/content/image/1-s2.0-S0092867416316609-mmc1.xlsx\",\n",
    "    known_hash=\"sha256:9b5935cb15ba2f6d60d3017832de2918e7d4f172db6f202be7999cba5feea82b\"\n",
    ")\n",
    "protospace_df = pd.read_excel(file, header=1)\n",
    "# Some gene names are separated with '/' for aliases.\n",
    "# Since the convention chosen in the dataset is not known, corresponding rows are demultiplicated\n",
    "protospace_df[\"Gene\"] = protospace_df[\"Gene\"].apply(lambda x: x.split(\"/\") if isinstance(x, str) else x)\n",
    "protospace_df = protospace_df.explode(\"Gene\").reset_index(drop=True)\n",
    "\n",
    "adamson_perturb = adamson_perturb[(\n",
    "    # retrieve guide identity in ther protospace table\n",
    "    (pert := adamson_perturb.obs[\"guide identity\"]).isin(\n",
    "        (protospace_df[\"Gene\"].dropna() + \"_\" + protospace_df[\"Perturb-seq_Vector_ID\"]).dropna()) |\n",
    "    # retrieve control with large occurence (more than 100 cells)\n",
    "    (pert.str.contains(\"mod\") & pert.isin(pert.value_counts()[pert.value_counts() > 100].index))\n",
    ")]"
   ]
  },
  {
   "cell_type": "markdown",
   "id": "bc22c708",
   "metadata": {},
   "source": [
    "#### ii) Formatting Adamson\n",
    "\n",
    "Add more metadata:\n",
    "- `obs`\n",
    "  - `gene_perturbed`\n",
    "    - parse `guide identity`:\n",
    "      - **Renaming target:**\n",
    "        - GSM2406675_10X001\n",
    "          - Control is written with 'mod'. Should be renamed in 'NT' (non targeting)\n",
    "        - GSM2406677_10X005\n",
    "          - IRE1 -> ERN1 to match the actual gene name\n",
    "          - PERK -> EIF2AK3 to match the actual gene name\n",
    "          - Single perturbation should have the 'only' removed and add NT+NT since triple guides are used\n",
    "          - Double or Triple perturbations should be spaced with '+'\n",
    "          - Controls are written with 'ctrl'. Since it is a triple guide, should be marked as NT+NT+NT\n",
    "        - GSM2406681_10X010\n",
    "          - Controls are written with 'ctrl'. Should be renamed in 'NT'\n",
    "  - `tissue` \n",
    "    - cell line\n",
    "  - `cell_type`\n",
    "    - lymphoblasts\n",
    "  - `cell_line` \n",
    "    - K562\n",
    "  - `disease` \n",
    "    - chronic myelogenous leukemia\n",
    "  - `perturbation_type` \n",
    "    - CRISPRi, CRISPRa, CRISPRko, compound (sum of those)\n",
    "  - `compound` \n",
    "    - (name of the compound or sum of those, (control = DMSO))\n",
    "  - `compound_target` \n",
    "    - (name of the compound targeted gene, NaN if unknown)\n",
    "  - `compound_moa` \n",
    "    - (name of the compound mechanism of action, NaN if unknown)\n",
    "  - `compound_dose_uM` \n",
    "    - (dosage of the compound in µM)\n",
    "  - `gene_perturbed` \n",
    "    - (name of the gene perturbed or sum of those (control = NT) (if single perturbation but double or triple guide, should be gene+NT / gene+NT+NT))\n",
    "  - `perturbation_id` \n",
    "    - gene_perturbed _ perturbation_type (if any of CRISPR) or compound _ compound_dose with uM concatenated (write down the function)\n",
    "  - `is_control` \n",
    "    - True if compound = DMSO and gene_perturbed = NaN, or if gene_perturbed.split(\"+\") contains only NT. else False (write down the function)\n",
    "  - `organism` \n",
    "    - Homo sapiens\n",
    "  - `assay` \n",
    "    - 10x 3' v1\n",
    "  - `cell_barcode`\n",
    "    - Reindex the obs table\n",
    "- `var`\n",
    "  - `gene_name`\n",
    "    - Join with `genome.py`\n",
    "\n"
   ]
  },
  {
   "cell_type": "markdown",
   "id": "aa4c7e09",
   "metadata": {},
   "source": [
    "##### (1) obs\n",
    "\n",
    "**Rename control and Parse guide identity**"
   ]
  },
  {
   "cell_type": "code",
   "execution_count": 223,
   "id": "6b4853dc",
   "metadata": {},
   "outputs": [
    {
     "name": "stderr",
     "output_type": "stream",
     "text": [
      "/tmp/ipykernel_1307588/3713832658.py:6: ImplicitModificationWarning: Trying to modify attribute `.obs` of view, initializing view as actual.\n",
      "  ds.obs[\"gene_perturbed\"] = ds.obs[\"guide identity\"].where(\n",
      "/tmp/ipykernel_1307588/3713832658.py:6: ImplicitModificationWarning: Trying to modify attribute `.obs` of view, initializing view as actual.\n",
      "  ds.obs[\"gene_perturbed\"] = ds.obs[\"guide identity\"].where(\n",
      "/tmp/ipykernel_1307588/3713832658.py:6: ImplicitModificationWarning: Trying to modify attribute `.obs` of view, initializing view as actual.\n",
      "  ds.obs[\"gene_perturbed\"] = ds.obs[\"guide identity\"].where(\n"
     ]
    }
   ],
   "source": [
    "for ds, pattern, replacement in [\n",
    "    (adamson_pilot, r\"\\(mod\\)\", \"NT\"),\n",
    "    (adamson_epistasis, \"ctrl\", \"NT+NT+NT\"), # those are triple guide control\n",
    "    (adamson_perturb, \"ctrl\", \"NT\"),\n",
    "]:\n",
    "    ds.obs[\"gene_perturbed\"] = ds.obs[\"guide identity\"].where(\n",
    "        ~ds.obs[\"guide identity\"].str.contains(pattern), replacement\n",
    "    )\n",
    "\n",
    "# simply remove the guide id\n",
    "adamson_pilot.obs[\"gene_perturbed\"] = adamson_pilot.obs[\"gene_perturbed\"].str.split(\"_\").apply(lambda x: x[0])\n",
    "\n",
    "# remove guide id,\n",
    "# change \"IRE1\" -> \"ERN1\" and \"PERK\" -> \"EIF2AK3\"\n",
    "# make sure simple or double perturbation remains marked\n",
    "# as +NT+NT or +NT because triple guide were used for that experiment\n",
    "adamson_epistasis.obs[\"gene_perturbed\"] = adamson_epistasis.obs[\"gene_perturbed\"].str.split(\"_\").apply(\n",
    "    lambda row: row[0] if len(row) == 1 else (\n",
    "        \"+\".join(\n",
    "            [\n",
    "                {\"only\": \"NT\", \"IRE1\": \"ERN1\", \"PERK\": \"EIF2AK3\"}.get(x, x)\n",
    "                for x in row[:-1]\n",
    "            ] + ([\"NT\"] if len(row[:-1]) < 3 else [])\n",
    "        )\n",
    "    )\n",
    ")\n",
    "\n",
    "# simply remove the guide id\n",
    "adamson_perturb.obs[\"gene_perturbed\"] = adamson_perturb.obs[\"gene_perturbed\"].str.split(\"_\").apply(lambda x: x[0])"
   ]
  },
  {
   "cell_type": "markdown",
   "id": "a3b0753b",
   "metadata": {},
   "source": [
    "**Add other metadata**"
   ]
  },
  {
   "cell_type": "code",
   "execution_count": null,
   "id": "2e1310f8",
   "metadata": {},
   "outputs": [
    {
     "ename": "NameError",
     "evalue": "name 'adamson_perturb' is not defined",
     "output_type": "error",
     "traceback": [
      "\u001b[31m---------------------------------------------------------------------------\u001b[39m",
      "\u001b[31mNameError\u001b[39m                                 Traceback (most recent call last)",
      "\u001b[36mCell\u001b[39m\u001b[36m \u001b[39m\u001b[32mIn[1]\u001b[39m\u001b[32m, line 30\u001b[39m\n\u001b[32m     27\u001b[39m     \u001b[38;5;28;01mreturn\u001b[39;00m adata\n\u001b[32m     29\u001b[39m \u001b[38;5;66;03m# Apply to each AnnData object\u001b[39;00m\n\u001b[32m---> \u001b[39m\u001b[32m30\u001b[39m \u001b[38;5;28;01mfor\u001b[39;00m ds \u001b[38;5;129;01min\u001b[39;00m [\u001b[43madamson_perturb\u001b[49m, adamson_epistasis, adamson_pilot]:\n\u001b[32m     31\u001b[39m     extend_obs(ds)\n",
      "\u001b[31mNameError\u001b[39m: name 'adamson_perturb' is not defined"
     ]
    }
   ],
   "source": [
    "def extend_obs(adata):\n",
    "    obs = adata.obs.copy()\n",
    "\n",
    "    gene_split = obs[\"gene_perturbed\"].str.split(\"+\")\n",
    "    gene_counts = obs[\"gene_perturbed\"].str.count(r\"\\+\")\n",
    "\n",
    "    obs[\"tissue\"] = \"cell line\"\n",
    "    obs[\"cell_type\"] = \"lymphoblasts\"\n",
    "    obs[\"cell_line\"] = \"K562\"\n",
    "    obs[\"disease\"] = \"chronic myelogenous leukemia\"\n",
    "    obs[\"organism\"] = \"Homo sapiens\"\n",
    "    obs[\"assay\"] = \"10x 3' v1\"\n",
    "    obs[\"compound\"] = np.nan\n",
    "    obs[\"compound_target\"] = np.nan\n",
    "    obs[\"compound_moa\"] = np.nan\n",
    "\n",
    "    # Compute perturbation_type: \"CRISPRi\" + (\"+CRISPRi\" * number of additional perturbations)\n",
    "    obs[\"perturbation_type\"] = [\"+\".join([\"CRISPRi\"] * (c + 1)) for c in gene_counts]\n",
    "\n",
    "    # Compute is_control: True if only 'NT', False otherwise\n",
    "    obs[\"is_control\"] = gene_split.apply(lambda x: set(x) == {\"NT\"})\n",
    "\n",
    "    # Save original barcode\n",
    "    obs = obs.reset_index().rename(columns={\"index\": \"original_barcode\"})\n",
    "\n",
    "    adata.obs = obs\n",
    "    return adata\n",
    "\n",
    "# Apply to each AnnData object\n",
    "for ds in [adamson_perturb, adamson_epistasis, adamson_pilot]:\n",
    "    extend_obs(ds)\n"
   ]
  },
  {
   "cell_type": "code",
   "execution_count": null,
   "id": "d011284f",
   "metadata": {},
   "outputs": [],
   "source": [
    "%%bash\n",
    "cd ../../ # cd to root of the project\n",
    "python fine_tune/scripts/genome.py"
   ]
  },
  {
   "cell_type": "code",
   "execution_count": 12,
   "id": "ef6e6801",
   "metadata": {},
   "outputs": [],
   "source": [
    "gene_name = pd.read_csv(\n",
    "    data_path.joinpath(\"genome/gencode.v32.primary_assembly.annotation.csv\"),\n",
    "    index_col=\"ensembl_id\"\n",
    ")"
   ]
  },
  {
   "cell_type": "markdown",
   "id": "56316572",
   "metadata": {},
   "source": [
    "#### Parse target and plasmid from guide identity"
   ]
  },
  {
   "cell_type": "markdown",
   "id": "64c30015",
   "metadata": {},
   "source": [
    "### Raw Norman"
   ]
  },
  {
   "cell_type": "code",
   "execution_count": null,
   "id": "e7b69dee",
   "metadata": {},
   "outputs": [],
   "source": [
    "# Define paths\n",
    "norman_dir = data_path.joinpath(\"raw/raw_norman\")\n",
    "\n",
    "# Load gene and barcode names\n",
    "genes = pd.read_csv(norman_dir / \"genes.tsv.gz\", header=None, sep=\"\\t\")\n",
    "barcodes = pd.read_csv(norman_dir / \"barcodes.tsv.gz\", header=None)\n",
    "\n",
    "# Load cell identities\n",
    "cell_identities = pd.read_csv(norman_dir / \"cell_identities.csv.gz\", index_col=0)\n",
    "\n",
    "# Build AnnData\n",
    "adata_norman = ad.io.read_mtx(norman_dir / \"matrix.mtx.gz\").T\n",
    "adata_norman.var_names = genes[0].values\n",
    "adata_norman.obs_names = barcodes[0].values\n",
    "# adata.obs = cell_identities.loc[adata.obs_names] fail because more barcodes than cell_identity.\n",
    "adata_norman.obs = pd.DataFrame(index=adata_norman.obs_names)\n",
    "adata_norman.obs = adata_norman.obs.join(cell_identities) # fill with NaN barcodes with non found identity"
   ]
  }
 ],
 "metadata": {
  "kernelspec": {
   "display_name": ".venv",
   "language": "python",
   "name": "python3"
  },
  "language_info": {
   "codemirror_mode": {
    "name": "ipython",
    "version": 3
   },
   "file_extension": ".py",
   "mimetype": "text/x-python",
   "name": "python",
   "nbconvert_exporter": "python",
   "pygments_lexer": "ipython3",
   "version": "3.11.12"
  }
 },
 "nbformat": 4,
 "nbformat_minor": 5
}
