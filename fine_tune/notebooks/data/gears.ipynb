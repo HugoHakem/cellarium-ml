{
 "cells": [
  {
   "cell_type": "markdown",
   "id": "946a96f5",
   "metadata": {},
   "source": [
    "<center><h1> GEARS Dataset </h1></center>\n",
    "\n",
    "## Context\n",
    "\n",
    "This notebook intend to load the dataset used in GEARS and in the benchmarking paper [\\[1\\]](#benchmark).\n",
    "\n",
    "In particular, we will be using the following [datasets](#datasets).\n",
    "\n",
    "## Table of Contents\n",
    "\n",
    "- [Raw Data](#raw-pipeline)\n",
    "- [Pre-processed Data](#pre-processed-pipeline)\n",
    "\n",
    "## Datasets\n",
    "\n",
    "### Raw Data\n",
    "\n",
    "- [Adamson](https://www.ncbi.nlm.nih.gov/geo/query/acc.cgi?acc=GSE90546): ht<span>tps://</span>www.ncbi.nlm.nih.gov/geo/download/?acc=GSE90546&format=file\n",
    "- [Norman](https://www.ncbi.nlm.nih.gov/geo/query/acc.cgi?acc=GSE133344):\n",
    "  - raw_barcodes.tsv.gz: ht<span>tps://</span>ftp.ncbi.nlm.nih.gov/geo/series/GSE133nnn/GSE133344/suppl/GSE133344%5Fraw%5Fbarcodes.tsv.gz\n",
    "  - raw_cell_identities.csv.gz: ht<span>tps://</span>ftp.ncbi.nlm.nih.gov/geo/series/GSE133nnn/GSE133344/suppl/GSE133344%5Fraw%5Fcell%5Fidentities.csv.gz\n",
    "  - raw_genes.tsv.gz: ht<span>tps://</span>ftp.ncbi.nlm.nih.gov/geo/series/GSE133nnn/GSE133344/suppl/GSE133344%5Fraw%5Fgenes.tsv.gz\n",
    "  - raw_matrix.mtx.gz: ht<span>tps://</span>ftp.ncbi.nlm.nih.gov/geo/series/GSE133nnn/GSE133344/suppl/GSE133344%5Fraw%5Fmatrix.mtx.gz\n",
    "- [Replogle](https://plus.figshare.com/articles/dataset/_Mapping_information-rich_genotype-phenotype_landscapes_with_genome-scale_Perturb-seq_Replogle_et_al_2022_processed_Perturb-seq_datasets/20029387):\n",
    "  - Single cell raw K562 genome scale scale day 8 post-transduction ht<span>tps://</span>plus.figshare.com/ndownloader/files/35775507\n",
    "  - Single cell raw K562 essential scale day 6 post-transduction ht<span>tps://</span>plus.figshare.com/ndownloader/files/35773219\n",
    "  - Single cell raw RPE1 essential scale  day 7 post-transduction ht<span>tps://</span>plus.figshare.com/ndownloader/files/35775606\n",
    "### Pre-processed Data\n",
    "\n",
    "**GEARS**:\n",
    "\n",
    "- Single-gene perturbation:\n",
    "  - [Replogle RPE1](https://dataverse.harvard.edu/file.xhtml?fileId=7458694&version=6.0&toolType=PREVIEW): ht<span>tps://</span>dataverse.harvard.edu/api/access/datafile/7458694\n",
    "  - [Relogle K562](https://dataverse.harvard.edu/file.xhtml?fileId=7458695&version=6.0&toolType=PREVIEW): ht<span>tps://</span>dataverse.harvard.edu/api/access/datafile/7458695\n",
    "  - [Adamson](https://dataverse.harvard.edu/file.xhtml?fileId=6154417&version=3.0&toolType=PREVIEW): ht<span>tps://</span>dataverse.harvard.edu/api/access/datafile/6154417\n",
    "- Multiple-gene perturbation\n",
    "  - [Norman](https://dataverse.harvard.edu/file.xhtml?fileId=6154020&version=3.0&toolType=PREVIEW): ht<span>tps://</span>dataverse.harvard.edu/api/access/datafile/6154020\n",
    "  - 131 two-gene perturbations\n",
    "\n",
    "**scFoundation**:\n",
    "\n",
    "Another preprocessing strategy for the Norman et al. dataset\n",
    "- [Norman scFoundation](https://figshare.com/articles/dataset/scFoundation_Large_Scale_Foundation_Model_on_Single-cell_Transcriptomics_-_processed_datasets/24049200?file=44477939): ht<span>tps://</span>figshare.com/ndownloader/files/44477939\n",
    "## References\n",
    "\n",
    "1. Ahlmann-Eltze, Huber, and Anders, “Deep Learning-Based Predictions of Gene Perturbation Effects Do Not yet Outperform Simple Linear Baselines.”<a id=\"benchmark\"></a>\n"
   ]
  },
  {
   "cell_type": "markdown",
   "id": "70975cfa",
   "metadata": {},
   "source": [
    "## Download Datasets\n",
    "\n",
    "Note that the bash script is run from the Notebook but you can also run it from the shell."
   ]
  },
  {
   "cell_type": "code",
   "execution_count": null,
   "id": "3a7b63e2",
   "metadata": {},
   "outputs": [],
   "source": [
    "%%bash\n",
    "cd ../../../ # cd to root of the project\n",
    "python fine_tune/scripts/download/cli.py --config fine_tune/config/download.yaml"
   ]
  },
  {
   "cell_type": "markdown",
   "id": "ead96486",
   "metadata": {},
   "source": [
    "### Create AnnData From Raw"
   ]
  },
  {
   "cell_type": "code",
   "execution_count": 2,
   "id": "00b791b7",
   "metadata": {},
   "outputs": [],
   "source": [
    "# All imports here\n",
    "from pathlib import Path\n",
    "\n",
    "import pandas as pd\n",
    "import scipy.io\n",
    "from anndata import AnnData\n",
    "from anndata.experimental.multi_files import AnnCollection\n",
    "\n",
    "data_path = Path(\"./../../datasets\")\n",
    "\n",
    "\n",
    "%reload_ext autoreload\n",
    "%autoreload 2\n"
   ]
  },
  {
   "cell_type": "markdown",
   "id": "4e60d694",
   "metadata": {},
   "source": [
    "### Raw Adamson"
   ]
  },
  {
   "cell_type": "code",
   "execution_count": 3,
   "id": "5e5bd494",
   "metadata": {},
   "outputs": [],
   "source": [
    "adamson_dir = data_path.joinpath(\"raw/raw_adamson\")\n",
    "mtx_files = sorted(adamson_dir.glob(\"*_matrix.mtx.txt.gz\"))\n",
    "\n",
    "all_adatas = {}\n",
    "\n",
    "for mtx_file in mtx_files:\n",
    "    prefix = mtx_file.name.split(\"_matrix\")[0]\n",
    "\n",
    "    # Paths\n",
    "    barcodes_file = adamson_dir / f\"{prefix}_barcodes.tsv.gz\"\n",
    "    genes_file = adamson_dir / f\"{prefix}_genes.tsv.gz\"\n",
    "    identities_file = adamson_dir / f\"{prefix}_cell_identities.csv.gz\"\n",
    "\n",
    "    # Load matrix\n",
    "    matrix = scipy.io.mmread(mtx_file).T.tocsr()\n",
    "\n",
    "    # Load metadata\n",
    "    genes = pd.read_csv(genes_file, header=None, sep=\"\\t\")\n",
    "    barcodes = pd.read_csv(barcodes_file, header=None)\n",
    "    cell_identities = pd.read_csv(identities_file, index_col=0)\n",
    "\n",
    "    # Create AnnData\n",
    "    adata = AnnData(X=matrix)\n",
    "    adata.var_names = genes[0].values\n",
    "    adata.obs_names = barcodes[0].values\n",
    "    # adata.obs = cell_identities.loc[adata.obs_names] fail because more barcodes than cell_identity.\n",
    "    adata.obs = pd.DataFrame(index=adata.obs_names)\n",
    "    adata.obs = adata.obs.join(cell_identities) # fill with NaN barcodes with non found identity\n",
    "\n",
    "    # Optional: keep track of the experiment\n",
    "    adata.uns[\"experiment\"] = prefix\n",
    "    all_adatas[adata.uns[\"experiment\"]] = adata"
   ]
  },
  {
   "cell_type": "code",
   "execution_count": 4,
   "id": "57318632",
   "metadata": {},
   "outputs": [
    {
     "data": {
      "text/plain": [
       "{'GSM2406675_10X001': AnnData object with n_obs × n_vars = 5768 × 35635\n",
       "     obs: 'guide identity', 'read count', 'UMI count', 'coverage', 'good coverage', 'number of cells'\n",
       "     uns: 'experiment',\n",
       " 'GSM2406677_10X005': AnnData object with n_obs × n_vars = 15006 × 32738\n",
       "     obs: 'guide identity', 'read count', 'UMI count', 'coverage', 'good coverage', 'number of cells'\n",
       "     uns: 'experiment',\n",
       " 'GSM2406681_10X010': AnnData object with n_obs × n_vars = 65337 × 32738\n",
       "     obs: 'guide identity', 'read count', 'UMI count', 'coverage', 'good coverage', 'number of cells'\n",
       "     uns: 'experiment'}"
      ]
     },
     "execution_count": 4,
     "metadata": {},
     "output_type": "execute_result"
    }
   ],
   "source": [
    "all_adatas"
   ]
  },
  {
   "cell_type": "code",
   "execution_count": 5,
   "id": "08e38c60",
   "metadata": {},
   "outputs": [
    {
     "data": {
      "text/plain": [
       "AnnCollection object with n_obs × n_vars = 86111 × 32738\n",
       "  constructed from 3 AnnData objects\n",
       "    obs: 'guide identity', 'read count', 'UMI count', 'coverage', 'good coverage', 'number of cells'"
      ]
     },
     "execution_count": 5,
     "metadata": {},
     "output_type": "execute_result"
    }
   ],
   "source": [
    "# Concatenate all experiments\n",
    "adata_adamson = AnnCollection(all_adatas, join_obs=\"outer\", join_vars=\"inner\", index_unique=\"-\")\n",
    "adata_adamson"
   ]
  },
  {
   "cell_type": "markdown",
   "id": "64c30015",
   "metadata": {},
   "source": [
    "### Raw Norman"
   ]
  },
  {
   "cell_type": "code",
   "execution_count": 6,
   "id": "e7b69dee",
   "metadata": {},
   "outputs": [],
   "source": [
    "# Define paths\n",
    "norman_dir = data_path.joinpath(\"raw/raw_norman\")\n",
    "\n",
    "# Load matrix\n",
    "matrix = scipy.io.mmread(norman_dir / \"matrix.mtx.gz\").T.tocsr()\n",
    "\n",
    "# Load gene and barcode names\n",
    "genes = pd.read_csv(norman_dir / \"genes.tsv.gz\", header=None, sep=\"\\t\")\n",
    "barcodes = pd.read_csv(norman_dir / \"barcodes.tsv.gz\", header=None)\n",
    "\n",
    "# Load cell identities\n",
    "cell_identities = pd.read_csv(norman_dir / \"cell_identities.csv.gz\", index_col=0)\n",
    "\n",
    "# Build AnnData\n",
    "adata_norman = AnnData(X=matrix)\n",
    "adata_norman.var_names = genes[0].values\n",
    "adata_norman.obs_names = barcodes[0].values\n",
    "# adata.obs = cell_identities.loc[adata.obs_names] fail because more barcodes than cell_identity.\n",
    "adata_norman.obs = pd.DataFrame(index=adata_norman.obs_names)\n",
    "adata_norman.obs = adata_norman.obs.join(cell_identities) # fill with NaN barcodes with non found identity"
   ]
  },
  {
   "cell_type": "code",
   "execution_count": 7,
   "id": "9014102e",
   "metadata": {},
   "outputs": [
    {
     "data": {
      "text/plain": [
       "AnnData object with n_obs × n_vars = 5898240 × 33694\n",
       "    obs: 'guide_identity', 'read_count', 'UMI_count', 'coverage', 'gemgroup', 'good_coverage', 'number_of_cells', 'cellranger_called'"
      ]
     },
     "execution_count": 7,
     "metadata": {},
     "output_type": "execute_result"
    }
   ],
   "source": [
    "adata_norman"
   ]
  },
  {
   "cell_type": "markdown",
   "id": "c7f40da2",
   "metadata": {},
   "source": [
    "## Inspect AnnData\n",
    "\n",
    "### Todo\n",
    "\n",
    "- [ ] Filter cell from the raw norman and raw adamson.\n",
    "  - [ ] Ask Fedor if required\n",
    "- [ ] Make sure no gene has been ommited when doing the AnnCollection creation.\n",
    "  - [ ] There might be a smart way to increase the AnnData with more genes."
   ]
  },
  {
   "cell_type": "markdown",
   "id": "e41ac944",
   "metadata": {},
   "source": []
  }
 ],
 "metadata": {
  "kernelspec": {
   "display_name": ".venv",
   "language": "python",
   "name": "python3"
  },
  "language_info": {
   "codemirror_mode": {
    "name": "ipython",
    "version": 3
   },
   "file_extension": ".py",
   "mimetype": "text/x-python",
   "name": "python",
   "nbconvert_exporter": "python",
   "pygments_lexer": "ipython3",
   "version": "3.11.12"
  }
 },
 "nbformat": 4,
 "nbformat_minor": 5
}
