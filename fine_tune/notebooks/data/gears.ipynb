{
 "cells": [
  {
   "cell_type": "markdown",
   "id": "946a96f5",
   "metadata": {},
   "source": [
    "<center><h1> GEARS Dataset </h1></center>\n",
    "\n",
    "## Context\n",
    "\n",
    "This notebook intend to load the dataset used in GEARS and in the benchmarking paper [\\[1\\]](#benchmark).\n",
    "\n",
    "In particular, we will be using the following [datasets](#datasets).\n",
    "\n",
    "## Table of Contents\n",
    "\n",
    "- [Raw Data](#raw-pipeline)\n",
    "- [Pre-processed Data](#pre-processed-pipeline)\n",
    "\n",
    "## Datasets\n",
    "\n",
    "### Raw Data\n",
    "\n",
    "- [Adamson](https://www.ncbi.nlm.nih.gov/geo/query/acc.cgi?acc=GSE90546): ht<span>tps://</span>www.ncbi.nlm.nih.gov/geo/download/?acc=GSE90546&format=file\n",
    "- [Norman](https://www.ncbi.nlm.nih.gov/geo/query/acc.cgi?acc=GSE133344):\n",
    "  - raw_barcodes.tsv.gz: ht<span>tps://</span>ftp.ncbi.nlm.nih.gov/geo/series/GSE133nnn/GSE133344/suppl/GSE133344%5Fraw%5Fbarcodes.tsv.gz\n",
    "  - raw_cell_identities.csv.gz: ht<span>tps://</span>ftp.ncbi.nlm.nih.gov/geo/series/GSE133nnn/GSE133344/suppl/GSE133344%5Fraw%5Fcell%5Fidentities.csv.gz\n",
    "  - raw_genes.tsv.gz: ht<span>tps://</span>ftp.ncbi.nlm.nih.gov/geo/series/GSE133nnn/GSE133344/suppl/GSE133344%5Fraw%5Fgenes.tsv.gz\n",
    "  - raw_matrix.mtx.gz: ht<span>tps://</span>ftp.ncbi.nlm.nih.gov/geo/series/GSE133nnn/GSE133344/suppl/GSE133344%5Fraw%5Fmatrix.mtx.gz\n",
    "- [Replogle](https://plus.figshare.com/articles/dataset/_Mapping_information-rich_genotype-phenotype_landscapes_with_genome-scale_Perturb-seq_Replogle_et_al_2022_processed_Perturb-seq_datasets/20029387):\n",
    "  - Single cell raw K562 genome scale scale day 8 post-transduction ht<span>tps://</span>plus.figshare.com/ndownloader/files/35775507\n",
    "  - Single cell raw K562 essential scale day 6 post-transduction ht<span>tps://</span>plus.figshare.com/ndownloader/files/35773219\n",
    "  - Single cell raw RPE1 essential scale  day 7 post-transduction ht<span>tps://</span>plus.figshare.com/ndownloader/files/35775606\n",
    "### Pre-processed Data\n",
    "\n",
    "**GEARS**:\n",
    "\n",
    "- Single-gene perturbation:\n",
    "  - [Replogle RPE1](https://dataverse.harvard.edu/file.xhtml?fileId=7458694&version=6.0&toolType=PREVIEW): ht<span>tps://</span>dataverse.harvard.edu/api/access/datafile/745869\n",
    "  - [Relogle K562](https://dataverse.harvard.edu/file.xhtml?fileId=7458695&version=6.0&toolType=PREVIEW): ht<span>tps://</span>dataverse.harvard.edu/api/access/datafile/7458695\n",
    "  - [Adamson](https://dataverse.harvard.edu/file.xhtml?fileId=6154417&version=3.0&toolType=PREVIEW): ht<span>tps://</span>dataverse.harvard.edu/api/access/datafile/6154417\n",
    "- Multiple-gene perturbation\n",
    "  - [Norman](https://dataverse.harvard.edu/file.xhtml?fileId=6154020&version=3.0&toolType=PREVIEW): ht<span>tps://</span>dataverse.harvard.edu/api/access/datafile/6154020\n",
    "  - 131 two-gene perturbations\n",
    "\n",
    "**scFoundation**:\n",
    "\n",
    "Another preprocessing strategy for the Norman et al. dataset\n",
    "- [Norman scFoundation](https://figshare.com/articles/dataset/scFoundation_Large_Scale_Foundation_Model_on_Single-cell_Transcriptomics_-_processed_datasets/24049200?file=44477939): ht<span>tps://</span>figshare.com/ndownloader/files/44477939\n",
    "## References\n",
    "\n",
    "1. Ahlmann-Eltze, Huber, and Anders, “Deep Learning-Based Predictions of Gene Perturbation Effects Do Not yet Outperform Simple Linear Baselines.”<a id=\"benchmark\"></a>\n"
   ]
  },
  {
   "cell_type": "code",
   "execution_count": 1,
   "id": "00b791b7",
   "metadata": {},
   "outputs": [],
   "source": [
    "# All imports here\n",
    "from pathlib import Path\n",
    "\n",
    "import anndata as ad\n",
    "import pandas as pd\n",
    "import scanpy as sc\n",
    "\n",
    "from fine_tune.scripts import FileEntry, download_url, iter_download_url\n",
    "\n",
    "data_path = Path(\"./../../datasets\")\n",
    "\n",
    "\n",
    "%load_ext autoreload\n",
    "%autoreload 2\n"
   ]
  },
  {
   "cell_type": "code",
   "execution_count": 2,
   "id": "910446e4",
   "metadata": {},
   "outputs": [],
   "source": [
    "norman_url = (\n",
    "    \"https://ftp.ncbi.nlm.nih.gov/geo/series/GSE133nnn/GSE133344/\"\n",
    "    \"suppl/GSE133344%5Fraw%5F{name_ext}\"\n",
    ")\n",
    "file_map = {\n",
    "        # \"adamson\": FileEntry(**{\n",
    "        #     \"url\": \"https://www.ncbi.nlm.nih.gov/geo/download/?acc=GSE90546&format=file\",\n",
    "        #     \"out_path\": data_path / \"raw\",\n",
    "        #     \"raw_path\": data_path / \".tar\" / \"raw\",\n",
    "        #     # \"filename\": \"adamson.tar\"\n",
    "        # }),\n",
    "        \"norman\": {\n",
    "            n : FileEntry(**{\n",
    "                \"url\": norman_url.format(name_ext=n),\n",
    "                \"out_path\": data_path / \"raw\",\n",
    "                \"filename\": \"cell_identities.csv.gz\" if n == \"cell%5Fidentities.csv.gz\" else None\n",
    "            })\n",
    "            for n in [\n",
    "                \"barcodes.tsv.gz\",\n",
    "                \"cell%5Fidentities.csv.gz\",\n",
    "                \"genes.tsv.gz\",\n",
    "                \"matrix.mtx.gz\"\n",
    "            ]\n",
    "        }\n",
    "    }\n"
   ]
  },
  {
   "cell_type": "code",
   "execution_count": 3,
   "id": "8dd9b72e",
   "metadata": {},
   "outputs": [
    {
     "name": "stderr",
     "output_type": "stream",
     "text": [
      "Downloading barcodes.tsv.gz...\n",
      "100%|██████████| 18.2M/18.2M [00:00<00:00, 51.4MiB/s]\n",
      "Done!\n",
      "Downloading cell_identities.csv.gz...\n",
      "100%|██████████| 2.24M/2.24M [00:00<00:00, 11.9MiB/s]\n",
      "Done!\n",
      "Downloading genes.tsv.gz...\n",
      "100%|██████████| 265k/265k [00:00<00:00, 2.47MiB/s]\n",
      "Done!\n",
      "Downloading matrix.mtx.gz...\n",
      "100%|██████████| 1.44G/1.44G [00:41<00:00, 35.0MiB/s]\n",
      "Done!\n"
     ]
    }
   ],
   "source": [
    "iter_download_url(file_map=file_map, use_key_name=True)"
   ]
  },
  {
   "cell_type": "markdown",
   "id": "eef0523e",
   "metadata": {},
   "source": []
  },
  {
   "cell_type": "code",
   "execution_count": 6,
   "id": "e4563680",
   "metadata": {},
   "outputs": [],
   "source": [
    "df = pd.read_csv(data_path / \"adamson_raw\" / \"GSM2406675_10X001_genes.tsv.gz\", sep=\"\\t\", compression=\"infer\")"
   ]
  },
  {
   "cell_type": "code",
   "execution_count": 15,
   "id": "fff0dd6e",
   "metadata": {},
   "outputs": [],
   "source": [
    "adata = sc.read_mtx(data_path / \"adamson_raw\" / \"GSM2406681_10X010_matrix.mtx.txt.gz\")"
   ]
  },
  {
   "cell_type": "code",
   "execution_count": null,
   "id": "2466e694",
   "metadata": {},
   "outputs": [
    {
     "data": {
      "text/plain": [
       "AnnData object with n_obs × n_vars = 35635 × 5768"
      ]
     },
     "execution_count": 11,
     "metadata": {},
     "output_type": "execute_result"
    }
   ],
   "source": [
    "adata"
   ]
  },
  {
   "cell_type": "code",
   "execution_count": 14,
   "id": "ec94ae54",
   "metadata": {},
   "outputs": [
    {
     "data": {
      "text/plain": [
       "AnnData object with n_obs × n_vars = 32738 × 15006"
      ]
     },
     "execution_count": 14,
     "metadata": {},
     "output_type": "execute_result"
    }
   ],
   "source": [
    "adata"
   ]
  },
  {
   "cell_type": "code",
   "execution_count": 16,
   "id": "12c5a35d",
   "metadata": {},
   "outputs": [
    {
     "data": {
      "text/plain": [
       "AnnData object with n_obs × n_vars = 32738 × 65337"
      ]
     },
     "execution_count": 16,
     "metadata": {},
     "output_type": "execute_result"
    }
   ],
   "source": [
    "adata"
   ]
  },
  {
   "cell_type": "markdown",
   "id": "c7f40da2",
   "metadata": {},
   "source": [
    "# Pre-processed Data <a id=\"pre-processed-pipeline\"></a>"
   ]
  },
  {
   "cell_type": "code",
   "execution_count": null,
   "id": "dc3159aa",
   "metadata": {},
   "outputs": [
    {
     "name": "stderr",
     "output_type": "stream",
     "text": [
      "Found local copy...\n",
      "Found local copy...\n",
      "Found local copy...\n",
      "Found local copy...\n",
      "Found local copy...\n"
     ]
    }
   ],
   "source": [
    "dataverse_url = \"https://dataverse.harvard.edu/api/access/datafile/\"\n",
    "figshare_url = \"https://figshare.com/ndownloader/files/\"\n",
    "file_map = {\n",
    "    \"adamson\": {\n",
    "        \"server\": dataverse_url,\n",
    "        \"file\": \"6154417\"\n",
    "    },\n",
    "    \"norman\": {\n",
    "        \"server\": dataverse_url,\n",
    "        \"file\": \"6154020\"\n",
    "    },\n",
    "    \"replogle_rpe1\": {\n",
    "        \"server\": dataverse_url,\n",
    "        \"file\": \"7458694\"\n",
    "    },\n",
    "    \"replogle_k562\": {\n",
    "        \"server\": dataverse_url,\n",
    "        \"file\": \"7458695\"\n",
    "    },\n",
    "    \"norman_sc_foundation\": {\n",
    "        \"server\": figshare_url,\n",
    "        \"file\": \"44477939\"\n",
    "    }\n",
    "}\n",
    "data_path = Path(\"./../../datasets\")\n",
    "\n",
    "for key, value in file_map.items():\n",
    "    download_url(\n",
    "        url=value[\"server\"] + value[\"file\"],\n",
    "        save_path=data_path / \".zip\" / \"processed\" / key,\n",
    "        data_path=data_path / \"processed\",\n",
    "        ext=\".zip\"\n",
    "    )"
   ]
  },
  {
   "cell_type": "code",
   "execution_count": 39,
   "id": "985436bd",
   "metadata": {},
   "outputs": [],
   "source": [
    "adata_map = {key : ad.read_h5ad(next(Path(\"../../datasets\").joinpath(key).glob(\"*.h5ad\"))) for key in file_map.keys()}"
   ]
  },
  {
   "cell_type": "code",
   "execution_count": 4,
   "id": "477baacd",
   "metadata": {},
   "outputs": [
    {
     "data": {
      "text/plain": [
       "{'adamson': AnnData object with n_obs × n_vars = 68603 × 5060\n",
       "     obs: 'condition', 'cell_type', 'dose_val', 'control', 'condition_name'\n",
       "     var: 'gene_name'\n",
       "     uns: 'non_dropout_gene_idx', 'non_zeros_gene_idx', 'rank_genes_groups_cov_all', 'top_non_dropout_de_20', 'top_non_zero_de_20',\n",
       " 'norman': AnnData object with n_obs × n_vars = 91205 × 5045\n",
       "     obs: 'condition', 'cell_type', 'dose_val', 'control', 'condition_name'\n",
       "     var: 'gene_name'\n",
       "     uns: 'non_dropout_gene_idx', 'non_zeros_gene_idx', 'rank_genes_groups_cov_all', 'top_non_dropout_de_20', 'top_non_zero_de_20'\n",
       "     layers: 'counts',\n",
       " 'replogle_rpe1': AnnData object with n_obs × n_vars = 162733 × 5000\n",
       "     obs: 'condition', 'cell_type', 'cov_drug_dose_name', 'dose_val', 'control', 'condition_name'\n",
       "     var: 'gene_name', 'chr', 'start', 'end', 'class', 'strand', 'length', 'in_matrix', 'mean', 'std', 'cv', 'fano', 'highly_variable', 'means', 'dispersions', 'dispersions_norm'\n",
       "     uns: 'hvg', 'non_dropout_gene_idx', 'non_zeros_gene_idx', 'rank_genes_groups_cov_all', 'top_non_dropout_de_20', 'top_non_zero_de_20',\n",
       " 'replogle_k562': AnnData object with n_obs × n_vars = 162751 × 5000\n",
       "     obs: 'condition', 'cell_type', 'cov_drug_dose_name', 'dose_val', 'control', 'condition_name'\n",
       "     var: 'gene_name', 'chr', 'start', 'end', 'class', 'strand', 'length', 'in_matrix', 'mean', 'std', 'cv', 'fano', 'highly_variable', 'means', 'dispersions', 'dispersions_norm'\n",
       "     uns: 'hvg', 'non_dropout_gene_idx', 'non_zeros_gene_idx', 'rank_genes_groups_cov_all', 'top_non_dropout_de_20', 'top_non_zero_de_20',\n",
       " 'norman_sc_foundation': AnnData object with n_obs × n_vars = 84986 × 19264\n",
       "     obs: 'condition', 'pert_type', 'cell_type', 'guide_identity', 'read_count', 'UMI_count', 'coverage', 'gemgroup', 'good_coverage', 'number_of_cells', 'n_genes', 'cell_type_condition', 'lane', 'dose_val', 'control', 'condition_name', 'total_count'\n",
       "     var: 'gene_name'\n",
       "     uns: 'log1p', 'non_dropout_gene_idx', 'non_zeros_gene_idx', 'rank_genes_groups_cov_all', 'top_non_dropout_de_20', 'top_non_zero_de_20'}"
      ]
     },
     "execution_count": 4,
     "metadata": {},
     "output_type": "execute_result"
    }
   ],
   "source": [
    "adata_map"
   ]
  },
  {
   "cell_type": "code",
   "execution_count": null,
   "id": "7fa65111",
   "metadata": {},
   "outputs": [],
   "source": []
  }
 ],
 "metadata": {
  "kernelspec": {
   "display_name": ".venv",
   "language": "python",
   "name": "python3"
  },
  "language_info": {
   "codemirror_mode": {
    "name": "ipython",
    "version": 3
   },
   "file_extension": ".py",
   "mimetype": "text/x-python",
   "name": "python",
   "nbconvert_exporter": "python",
   "pygments_lexer": "ipython3",
   "version": "3.11.12"
  }
 },
 "nbformat": 4,
 "nbformat_minor": 5
}
