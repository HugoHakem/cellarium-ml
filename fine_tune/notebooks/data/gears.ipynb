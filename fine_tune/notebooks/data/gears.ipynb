{
 "cells": [
  {
   "cell_type": "markdown",
   "id": "946a96f5",
   "metadata": {},
   "source": [
    "<center><h1> GEARS Dataset </h1></center>\n",
    "\n",
    "## Context\n",
    "\n",
    "This notebook intend to load the dataset used in GEARS and in the benchmarking paper [\\[1\\]](#benchmark)\n",
    "\n",
    "In particular, we will be using the following [datasets](#datasets)\n",
    "\n",
    "## Datasets\n",
    "\n",
    "**Raw**\n",
    "\n",
    "- [Adamson](https://dataverse.harvard.edu/file.xhtml?fileId=6154417&version=3.0&toolType=PREVIEW): ht<span>tps://</span>dataverse.harvard.edu/api/access/datafile/6154417\n",
    "- [Norman](https://dataverse.harvard.edu/file.xhtml?fileId=6154020&version=3.0&toolType=PREVIEW): ht<span>tps://</span>dataverse.harvard.edu/api/access/datafile/6154020\n",
    "\n",
    "**Processed**\n",
    "\n",
    "- [Replogle RPE1](https://dataverse.harvard.edu/file.xhtml?fileId=7458694&version=6.0&toolType=PREVIEW): ht<span>tps://</span>dataverse.harvard.edu/api/access/datafile/7458694\n",
    "- [Relogle K562](https://dataverse.harvard.edu/file.xhtml?fileId=7458695&version=6.0&toolType=PREVIEW): ht<span>tps://</span>dataverse.harvard.edu/api/access/datafile/7458695\n",
    "- [Norman scFoundation](https://figshare.com/articles/dataset/scFoundation_Large_Scale_Foundation_Model_on_Single-cell_Transcriptomics_-_processed_datasets/24049200?file=44477939): ht<span>tps://</span>figshare.com/ndownloader/files/44477939\n",
    "## References\n",
    "\n",
    "1. Ahlmann-Eltze, Huber, and Anders, “Deep Learning-Based Predictions of Gene Perturbation Effects Do Not yet Outperform Simple Linear Baselines.”<a id=\"benchmark\"></a>\n"
   ]
  },
  {
   "cell_type": "code",
   "execution_count": 1,
   "id": "50c13a32",
   "metadata": {},
   "outputs": [],
   "source": [
    "from pathlib import Path\n",
    "\n",
    "import anndata as ad\n",
    "\n",
    "from fine_tune.scripts import zip_data_download_wrapper"
   ]
  },
  {
   "cell_type": "code",
   "execution_count": 2,
   "id": "dc3159aa",
   "metadata": {},
   "outputs": [
    {
     "name": "stderr",
     "output_type": "stream",
     "text": [
      "Found local copy...\n",
      "Found local copy...\n",
      "Found local copy...\n",
      "Extracting zip file...\n",
      "Done!\n",
      "Found local copy...\n",
      "Extracting zip file...\n",
      "Done!\n",
      "Found local copy...\n"
     ]
    }
   ],
   "source": [
    "dataverse_url = \"https://dataverse.harvard.edu/api/access/datafile/\"\n",
    "figshare_url = \"https://figshare.com/ndownloader/files/\"\n",
    "file_map = {\n",
    "    \"adamson\": {\n",
    "        \"host\": dataverse_url,\n",
    "        \"file\": \"6154417\"\n",
    "    },\n",
    "    \"norman\": {\n",
    "        \"host\": dataverse_url,\n",
    "        \"file\": \"6154020\"\n",
    "    },\n",
    "    \"replogle_rpe1\": {\n",
    "        \"host\": dataverse_url,\n",
    "        \"file\": \"7458694\"\n",
    "    },\n",
    "    \"replogle_k562\": {\n",
    "        \"host\": dataverse_url,\n",
    "        \"file\": \"7458695\"\n",
    "    },\n",
    "    \"norman_sc_foundation\": {\n",
    "        \"host\": figshare_url,\n",
    "        \"file\": \"44477939\"\n",
    "    }\n",
    "}\n",
    "data_path = Path(\"./../../datasets\")\n",
    "\n",
    "for key, value in file_map.items():\n",
    "    zip_data_download_wrapper(\n",
    "        url=value[\"host\"] + value[\"file\"],\n",
    "        save_path=data_path / \".zip\" / key,\n",
    "        data_path=data_path\n",
    "    )"
   ]
  },
  {
   "cell_type": "code",
   "execution_count": null,
   "id": "985436bd",
   "metadata": {},
   "outputs": [],
   "source": [
    "ad.read_h5ad()"
   ]
  }
 ],
 "metadata": {
  "kernelspec": {
   "display_name": ".venv",
   "language": "python",
   "name": "python3"
  },
  "language_info": {
   "codemirror_mode": {
    "name": "ipython",
    "version": 3
   },
   "file_extension": ".py",
   "mimetype": "text/x-python",
   "name": "python",
   "nbconvert_exporter": "python",
   "pygments_lexer": "ipython3",
   "version": "3.11.12"
  }
 },
 "nbformat": 4,
 "nbformat_minor": 5
}
