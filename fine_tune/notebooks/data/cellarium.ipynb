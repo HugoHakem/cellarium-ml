{
 "cells": [
  {
   "cell_type": "markdown",
   "id": "967cab73",
   "metadata": {},
   "source": [
    "<center><h1> Cellarium Dataset </h1></center>\n",
    "\n",
    "## Context\n",
    "\n",
    "This notebook intend to load an example of dataset used in CellariumGPT. It is meant to provide an example of harmonized data.\n",
    "\n",
    "## Datasets\n",
    "\n",
    "**Buckets**: gs:/<span>/</span>cellarium-file-system/curriculum/human_cellariumgpt_v2/extract_files/\n",
    "\n",
    "**Note** on `obs` attributes:\n",
    "- suspension_type: \n",
    "  - nucleus\n",
    "  - cell\n",
    "- assay_type\n",
    "  - It should be a small description of the assay type. Examples include: 'Seq-Well', '10x 3' v3', 'SPLiT-seq', 'Smart-seq v4'\n",
    "- total_mrna_umis\n",
    "\n",
    "**Additionally**:\n",
    "- The data should be in **raw count**\n",
    "- Genes should be encoded as **ENSG id**"
   ]
  },
  {
   "cell_type": "code",
   "execution_count": null,
   "id": "73a23557",
   "metadata": {},
   "outputs": [],
   "source": [
    "import anndata\n",
    "from smart_open import open"
   ]
  },
  {
   "cell_type": "code",
   "execution_count": 2,
   "id": "3d9ac397",
   "metadata": {},
   "outputs": [
    {
     "name": "stderr",
     "output_type": "stream",
     "text": [
      "/home/hhakem/projects/cellarium-ml/.venv/lib/python3.11/site-packages/anndata/_core/aligned_df.py:68: ImplicitModificationWarning: Transforming to str index.\n",
      "  warnings.warn(\"Transforming to str index.\", ImplicitModificationWarning)\n"
     ]
    }
   ],
   "source": [
    "adata_path = \"gs://cellarium-file-system/curriculum/human_cellariumgpt_v2/extract_files/extract_0.h5ad\"\n",
    "\n",
    "with open(adata_path, \"rb\") as f:\n",
    "    adata = anndata.read_h5ad(f)"
   ]
  },
  {
   "cell_type": "code",
   "execution_count": 47,
   "id": "e7e6280e",
   "metadata": {},
   "outputs": [
    {
     "data": {
      "text/plain": [
       "Index(['ENSG00000187642', 'ENSG00000078808', 'ENSG00000272106',\n",
       "       'ENSG00000162585', 'ENSG00000272088', 'ENSG00000204624',\n",
       "       'ENSG00000162490', 'ENSG00000177000', 'ENSG00000011021',\n",
       "       'ENSG00000120949',\n",
       "       ...\n",
       "       'ENSG00000189401', 'ENSG00000215029', 'ENSG00000271147',\n",
       "       'ENSG00000133134', 'ENSG00000237903', 'ENSG00000224281',\n",
       "       'ENSG00000122121', 'ENSG00000228836', 'ENSG00000231937',\n",
       "       'ENSG00000268916'],\n",
       "      dtype='object', length=36601)"
      ]
     },
     "execution_count": 47,
     "metadata": {},
     "output_type": "execute_result"
    }
   ],
   "source": [
    "adata.var_names"
   ]
  },
  {
   "cell_type": "code",
   "execution_count": 9,
   "id": "803f1c6d",
   "metadata": {},
   "outputs": [
    {
     "data": {
      "text/plain": [
       "AnnData object with n_obs × n_vars = 10000 × 36601\n",
       "    obs: 'original_cell_id', 'cell_type', 'assay_ontology_term_id', 'cell_type_ontology_term_id', 'development_stage_ontology_term_id', 'disease_ontology_term_id', 'donor_id', 'is_primary_data', 'organism_ontology_term_id', 'self_reported_ethnicity_ontology_term_id', 'sex_ontology_term_id', 'suspension_type', 'tissue_ontology_term_id', 'assay', 'development_stage', 'disease', 'organism', 'self_reported_ethnicity', 'sex', 'tissue', 'total_mrna_umis', 'cell_type_distance_from_root', 'bq_row_index', 'donor_dataset_concat', 'farm_finger', 'dataset_id', 'dataset_version_id', 'cas_ingest_id'\n",
       "    layers: 'measured_genes_mask'"
      ]
     },
     "execution_count": 9,
     "metadata": {},
     "output_type": "execute_result"
    }
   ],
   "source": [
    "adata"
   ]
  },
  {
   "cell_type": "code",
   "execution_count": null,
   "id": "18f0d3c0",
   "metadata": {},
   "outputs": [],
   "source": []
  }
 ],
 "metadata": {
  "kernelspec": {
   "display_name": ".venv",
   "language": "python",
   "name": "python3"
  },
  "language_info": {
   "codemirror_mode": {
    "name": "ipython",
    "version": 3
   },
   "file_extension": ".py",
   "mimetype": "text/x-python",
   "name": "python",
   "nbconvert_exporter": "python",
   "pygments_lexer": "ipython3",
   "version": "3.11.12"
  }
 },
 "nbformat": 4,
 "nbformat_minor": 5
}
